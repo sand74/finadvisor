{
 "cells": [
  {
   "cell_type": "code",
   "execution_count": 1,
   "metadata": {
    "collapsed": true
   },
   "outputs": [],
   "source": [
    "import sys\n",
    "\n",
    "import pandas as pd\n",
    "\n",
    "from selenium import webdriver\n",
    "from webdriver_manager.chrome import ChromeDriverManager\n",
    "from selenium.webdriver.support.ui import WebDriverWait\n",
    "from selenium.webdriver.support import expected_conditions as EC\n",
    "from selenium.webdriver.common.by import By\n",
    "\n",
    "import os\n",
    "import time"
   ]
  },
  {
   "cell_type": "code",
   "execution_count": 2,
   "outputs": [],
   "source": [
    "REESTR = 'data/reestr_ci_ul.csv'\n",
    "BASE_URL = \"https://bo.nalog.ru/\"\n",
    "OUTPUT_DIR = '/Users/sand/DataspellProjects/finadvisor_git/data/bo.nalog.ru/'"
   ],
   "metadata": {
    "collapsed": false,
    "pycharm": {
     "name": "#%%\n"
    }
   }
  },
  {
   "cell_type": "code",
   "execution_count": 3,
   "outputs": [],
   "source": [
    "# Если выходной папки нет - создать\n",
    "if not os.path.exists(OUTPUT_DIR):\n",
    "    os.makedirs(OUTPUT_DIR)"
   ],
   "metadata": {
    "collapsed": false,
    "pycharm": {
     "name": "#%%\n"
    }
   }
  },
  {
   "cell_type": "code",
   "execution_count": 15,
   "outputs": [],
   "source": [
    "def get_buh_page(driver, inn):\n",
    "    '''\n",
    "    Получение страницы бух отчетности по ИНН\n",
    "    :param driver: chrome driver\n",
    "    :param inn: ИНН\n",
    "    :return: содержимое страницы\n",
    "    '''\n",
    "    # Load base page\n",
    "    driver.get(BASE_URL)\n",
    "\n",
    "    # Find inn input field\n",
    "    WebDriverWait(driver, 5).until(\n",
    "        EC.presence_of_element_located((By.CLASS_NAME, 'input-search'))\n",
    "    )\n",
    "\n",
    "    input_form = driver.find_element(By.CLASS_NAME, 'input-search')\n",
    "    input_field = input_form.find_element(By.ID, 'search')\n",
    "    input_field.clear()\n",
    "    input_field.send_keys(inn)\n",
    "\n",
    "    input_form.submit()\n",
    "\n",
    "    # Find result report link\n",
    "    WebDriverWait(driver, 10).until(\n",
    "        EC.presence_of_element_located((By.CLASS_NAME, 'results-search-content'))\n",
    "    )\n",
    "\n",
    "    driver.execute_script(\"\"\"\n",
    "                let modal = document.querySelector('#modal');\n",
    "                if(modal) {\n",
    "                    modal.remove();\n",
    "                }\n",
    "            \"\"\")\n",
    "\n",
    "\n",
    "    result_table = driver.find_element(By.CLASS_NAME, 'results-search-content')\n",
    "    result_link = result_table.find_elements(By.TAG_NAME, 'a')\n",
    "\n",
    "    result_link[0].click()\n",
    "\n",
    "    WebDriverWait(driver, 10).until(\n",
    "        EC.presence_of_element_located((By.CLASS_NAME, 'download-reports-wrapper'))\n",
    "    )\n",
    "\n",
    "    create_header = driver.find_element(By.CLASS_NAME, 'header-card-content-date')\n",
    "    create_date = create_header.find_element(By.TAG_NAME, 'p')\n",
    "    print('Create date', create_date.text)\n",
    "\n",
    "    download_wrapper = driver.find_element(By.CLASS_NAME, 'download-reports-wrapper')\n",
    "    button_link = download_wrapper.find_element(By.TAG_NAME, 'button')\n",
    "    button_link.click()\n",
    "\n",
    "    download_wrapper_report = download_wrapper.find_element(By.CLASS_NAME, 'download-reports')\n",
    "    # Wait for modal is showing\n",
    "    time.sleep(1)\n",
    "\n",
    "    download_wrapper_buttons = download_wrapper_report.find_element(By.CLASS_NAME, 'download-reports-buttons')\n",
    "    if download_wrapper_buttons is not None:\n",
    "        button_link = download_wrapper_buttons.find_element(By.CLASS_NAME, 'button_link')\n",
    "        if button_link is not None:\n",
    "            button_link.click()\n",
    "\n",
    "    button_md = download_wrapper_report.find_element(By.CLASS_NAME, 'button_md')\n",
    "    button_md.click()\n",
    "\n"
   ],
   "metadata": {
    "collapsed": false,
    "pycharm": {
     "name": "#%%\n"
    }
   }
  },
  {
   "cell_type": "code",
   "execution_count": null,
   "outputs": [],
   "source": [
    "dt = ''"
   ],
   "metadata": {
    "collapsed": false,
    "pycharm": {
     "name": "#%%\n"
    }
   }
  },
  {
   "cell_type": "code",
   "execution_count": 16,
   "outputs": [
    {
     "data": {
      "text/plain": "      org_inn                                               name  \\\n0  2221111175  ОБЩЕСТВО С ОГРАНИЧЕННОЙ ОТВЕТСТВЕННОСТЬЮ  Т - ...   \n1  2221122610  ОБЩЕСТВО С ОГРАНИЧЕННОЙ ОТВЕТСТВЕННОСТЬЮ ИЗДАТ...   \n2  2221114426  ОБЩЕСТВО С ОГРАНИЧЕННОЙ ОТВЕТСТВЕННОСТЬЮ  ДЖЕЙ...   \n3  2221112108  ОБЩЕСТВО С ОГРАНИЧЕННОЙ ОТВЕТСТВЕННОСТЬЮ  ИЗОС...   \n4  2221119791             ЖИЛИЩНО-СТРОИТЕЛЬНЫЙ КООПЕРАТИВ ПИОНЕР   \n\n                    short_name  type  category  subject_rf    date_msp  \\\n0               ООО  Т - СОФТ      2         1          22  2018-08-10   \n1             ООО ИДК  ЭНТРОН      2         1          22  2016-08-01   \n2              ООО  ДЖЕЙН ТУР      2         1          22  2016-08-01   \n3  ООО  ИЗОСТУДИЯ  НОВЫЙ ДЕНЬ      2         1          22  2016-08-01   \n4                   ЖСК ПИОНЕР     2         1          22  2019-08-10   \n\n     okved  \n0    62.01  \n1       58  \n2  79.90.1  \n3     73.1  \n4    94.99  ",
      "text/html": "<div>\n<style scoped>\n    .dataframe tbody tr th:only-of-type {\n        vertical-align: middle;\n    }\n\n    .dataframe tbody tr th {\n        vertical-align: top;\n    }\n\n    .dataframe thead th {\n        text-align: right;\n    }\n</style>\n<table border=\"1\" class=\"dataframe\">\n  <thead>\n    <tr style=\"text-align: right;\">\n      <th></th>\n      <th>org_inn</th>\n      <th>name</th>\n      <th>short_name</th>\n      <th>type</th>\n      <th>category</th>\n      <th>subject_rf</th>\n      <th>date_msp</th>\n      <th>okved</th>\n    </tr>\n  </thead>\n  <tbody>\n    <tr>\n      <th>0</th>\n      <td>2221111175</td>\n      <td>ОБЩЕСТВО С ОГРАНИЧЕННОЙ ОТВЕТСТВЕННОСТЬЮ  Т - ...</td>\n      <td>ООО  Т - СОФТ</td>\n      <td>2</td>\n      <td>1</td>\n      <td>22</td>\n      <td>2018-08-10</td>\n      <td>62.01</td>\n    </tr>\n    <tr>\n      <th>1</th>\n      <td>2221122610</td>\n      <td>ОБЩЕСТВО С ОГРАНИЧЕННОЙ ОТВЕТСТВЕННОСТЬЮ ИЗДАТ...</td>\n      <td>ООО ИДК  ЭНТРОН</td>\n      <td>2</td>\n      <td>1</td>\n      <td>22</td>\n      <td>2016-08-01</td>\n      <td>58</td>\n    </tr>\n    <tr>\n      <th>2</th>\n      <td>2221114426</td>\n      <td>ОБЩЕСТВО С ОГРАНИЧЕННОЙ ОТВЕТСТВЕННОСТЬЮ  ДЖЕЙ...</td>\n      <td>ООО  ДЖЕЙН ТУР</td>\n      <td>2</td>\n      <td>1</td>\n      <td>22</td>\n      <td>2016-08-01</td>\n      <td>79.90.1</td>\n    </tr>\n    <tr>\n      <th>3</th>\n      <td>2221112108</td>\n      <td>ОБЩЕСТВО С ОГРАНИЧЕННОЙ ОТВЕТСТВЕННОСТЬЮ  ИЗОС...</td>\n      <td>ООО  ИЗОСТУДИЯ  НОВЫЙ ДЕНЬ</td>\n      <td>2</td>\n      <td>1</td>\n      <td>22</td>\n      <td>2016-08-01</td>\n      <td>73.1</td>\n    </tr>\n    <tr>\n      <th>4</th>\n      <td>2221119791</td>\n      <td>ЖИЛИЩНО-СТРОИТЕЛЬНЫЙ КООПЕРАТИВ ПИОНЕР</td>\n      <td>ЖСК ПИОНЕР</td>\n      <td>2</td>\n      <td>1</td>\n      <td>22</td>\n      <td>2019-08-10</td>\n      <td>94.99</td>\n    </tr>\n  </tbody>\n</table>\n</div>"
     },
     "execution_count": 16,
     "metadata": {},
     "output_type": "execute_result"
    }
   ],
   "source": [
    "# Чтение реестра для списка ИНН\n",
    "data = pd.read_csv(REESTR)\n",
    "data.head()"
   ],
   "metadata": {
    "collapsed": false,
    "pycharm": {
     "name": "#%%\n"
    }
   }
  },
  {
   "cell_type": "code",
   "execution_count": 17,
   "outputs": [
    {
     "name": "stdout",
     "output_type": "stream",
     "text": [
      "Всего организаций 108766\n",
      "Уже загружено 117\n",
      "Осталось загрузить 108766\n"
     ]
    }
   ],
   "source": [
    "# Чтобы не грузить повторно страницы - определяем уже загруженные\n",
    "inns = [str(x) for x in data['org_inn'].values]\n",
    "print('Всего организаций', len(inns))\n",
    "loaded_inns = list(map(lambda x: x.split('.')[0], os.listdir(OUTPUT_DIR)))\n",
    "print('Уже загружено', len(loaded_inns))\n",
    "inns = set(inns) - set(loaded_inns)\n",
    "print('Осталось загрузить', len(inns))"
   ],
   "metadata": {
    "collapsed": false,
    "pycharm": {
     "name": "#%%\n"
    }
   }
  },
  {
   "cell_type": "code",
   "execution_count": 18,
   "outputs": [
    {
     "name": "stderr",
     "output_type": "stream",
     "text": [
      "\n",
      "\n",
      "====== WebDriver manager ======\n",
      "Current google-chrome version is 98.0.4758\n",
      "Get LATEST chromedriver version for 98.0.4758 google-chrome\n",
      "Driver [/Users/sand/.wdm/drivers/chromedriver/mac64/98.0.4758.102/chromedriver] found in cache\n",
      "<ipython-input-18-987318930a81>:8: DeprecationWarning: executable_path has been deprecated, please pass in a Service object\n",
      "  driver = webdriver.Chrome(ChromeDriverManager().install(), options=chrome_options)\n"
     ]
    }
   ],
   "source": [
    "# Open Chrome\n",
    "PROXY = \"123.57.36.131:80\"\n",
    "chrome_options = webdriver.ChromeOptions()\n",
    "#chrome_options.add_argument('--proxy-server=%s' % PROXY)\n",
    "prefs = {\"download.default_directory\": OUTPUT_DIR}\n",
    "chrome_options.add_experimental_option(\"prefs\", prefs)\n",
    "# chrome_options.add_argument(f\"download.default_directory={OUTPUT_DIR}\")\n",
    "driver = webdriver.Chrome(ChromeDriverManager().install(), options=chrome_options)"
   ],
   "metadata": {
    "collapsed": false,
    "pycharm": {
     "name": "#%%\n"
    }
   }
  },
  {
   "cell_type": "code",
   "execution_count": 19,
   "outputs": [
    {
     "name": "stdout",
     "output_type": "stream",
     "text": [
      "6321377345\tfail\n"
     ]
    },
    {
     "name": "stderr",
     "output_type": "stream",
     "text": [
      "6321377345 exception Message: \n",
      "Stacktrace:\n",
      "0   chromedriver                        0x000000010762eee9 chromedriver + 5013225\n",
      "1   chromedriver                        0x00000001075ba1d3 chromedriver + 4534739\n",
      "2   chromedriver                        0x0000000107190a68 chromedriver + 170600\n",
      "3   chromedriver                        0x00000001071c5152 chromedriver + 385362\n",
      "4   chromedriver                        0x00000001071c5311 chromedriver + 385809\n",
      "5   chromedriver                        0x00000001071f7324 chromedriver + 590628\n",
      "6   chromedriver                        0x00000001071e280d chromedriver + 505869\n",
      "7   chromedriver                        0x00000001071f5074 chromedriver + 581748\n",
      "8   chromedriver                        0x00000001071e26d3 chromedriver + 505555\n",
      "9   chromedriver                        0x00000001071b876e chromedriver + 333678\n",
      "10  chromedriver                        0x00000001071b9745 chromedriver + 337733\n",
      "11  chromedriver                        0x00000001075eaefe chromedriver + 4734718\n",
      "12  chromedriver                        0x0000000107604a19 chromedriver + 4839961\n",
      "13  chromedriver                        0x000000010760a1c8 chromedriver + 4862408\n",
      "14  chromedriver                        0x00000001076053aa chromedriver + 4842410\n",
      "15  chromedriver                        0x00000001075dfa01 chromedriver + 4688385\n",
      "16  chromedriver                        0x0000000107620538 chromedriver + 4953400\n",
      "17  chromedriver                        0x00000001076206c1 chromedriver + 4953793\n",
      "18  chromedriver                        0x0000000107636225 chromedriver + 5042725\n",
      "19  libsystem_pthread.dylib             0x00007fff208d08fc _pthread_start + 224\n",
      "20  libsystem_pthread.dylib             0x00007fff208cc443 thread_start + 15\n",
      "\n"
     ]
    },
    {
     "name": "stdout",
     "output_type": "stream",
     "text": [
      "7728864344\tCreate date Действует с 6 декабря 2013 года\n",
      "success\n"
     ]
    }
   ],
   "source": [
    "for inn in list(inns)[:2]:\n",
    "    try:\n",
    "        print(f'{inn}\\t', end='')\n",
    "        result = get_buh_page(driver, inn)\n",
    "        print('success')\n",
    "    except Exception as e:\n",
    "        print('fail', file=sys.stdout)\n",
    "        print(f'{inn} exception {str(e)}', file=sys.stderr)\n",
    "    time.sleep(5)\n"
   ],
   "metadata": {
    "collapsed": false,
    "pycharm": {
     "name": "#%%\n"
    }
   }
  },
  {
   "cell_type": "code",
   "execution_count": 20,
   "outputs": [],
   "source": [
    "# Close Chrome\n",
    "driver.close()\n",
    "driver.quit()"
   ],
   "metadata": {
    "collapsed": false,
    "pycharm": {
     "name": "#%%\n"
    }
   }
  },
  {
   "cell_type": "code",
   "execution_count": 653,
   "outputs": [],
   "source": [],
   "metadata": {
    "collapsed": false,
    "pycharm": {
     "name": "#%%\n"
    }
   }
  }
 ],
 "metadata": {
  "kernelspec": {
   "display_name": "Python 3",
   "language": "python",
   "name": "python3"
  },
  "language_info": {
   "codemirror_mode": {
    "name": "ipython",
    "version": 2
   },
   "file_extension": ".py",
   "mimetype": "text/x-python",
   "name": "python",
   "nbconvert_exporter": "python",
   "pygments_lexer": "ipython2",
   "version": "2.7.6"
  }
 },
 "nbformat": 4,
 "nbformat_minor": 0
}