{
 "cells": [
  {
   "cell_type": "markdown",
   "metadata": {
    "collapsed": true,
    "pycharm": {
     "name": "#%% md\n"
    }
   },
   "source": []
  },
  {
   "cell_type": "markdown",
   "source": [
    "Не стал пересчитывать вложения с учетом инфляции, так как хотел посмотреть не только на первоначальные вложения, но и на распределение их по балансу.\n",
    "В процентах боялся запутаться, но думаю что если учесть инфляцию, то результат просто станет лучше."
   ],
   "metadata": {
    "collapsed": false,
    "pycharm": {
     "name": "#%% md\n"
    }
   }
  },
  {
   "cell_type": "code",
   "execution_count": 1,
   "outputs": [],
   "source": [
    "import pandas as pd\n",
    "import numpy as np\n",
    "from lightgbm import LGBMRegressor, LGBMClassifier\n",
    "from sklearn.ensemble import GradientBoostingRegressor, RandomForestRegressor\n",
    "from sklearn.linear_model import RidgeCV, SGDRegressor, LogisticRegressionCV, LogisticRegression\n",
    "from sklearn import metrics\n",
    "from sklearn.metrics import roc_curve, roc_auc_score, confusion_matrix\n",
    "from sklearn.model_selection import train_test_split, cross_val_score, StratifiedKFold\n",
    "from sklearn import preprocessing\n",
    "from tqdm.notebook import tqdm\n",
    "#from autoviz.AutoViz_Class import AutoViz_Class\n",
    "import datetime\n",
    "from time import sleep, time\n",
    "import re\n",
    "\n",
    "import matplotlib.pyplot as plt\n",
    "import seaborn as sns\n",
    "%matplotlib inline"
   ],
   "metadata": {
    "collapsed": false,
    "pycharm": {
     "name": "#%%\n"
    }
   }
  },
  {
   "cell_type": "code",
   "execution_count": 2,
   "outputs": [],
   "source": [
    "RANDOM_SEED = 42"
   ],
   "metadata": {
    "collapsed": false,
    "pycharm": {
     "name": "#%%\n"
    }
   }
  },
  {
   "cell_type": "code",
   "execution_count": 3,
   "outputs": [],
   "source": [
    "# def na_info(ds: pd.DataFrame) -> pd.DataFrame:\n",
    "#     arr = []\n",
    "#     nans_cnt = ds.isna().sum()\n",
    "#     for ind, row in tqdm(nans_cnt.items(), total=nans_cnt.shape[0]):\n",
    "#         name = ind\n",
    "#         if ind.startswith('ind_'):\n",
    "#             name = buh_codes_dict[ind[4:8]]\n",
    "#         arr.append([ind, name, row, round(row / data.shape[0] * 100, 2)])\n",
    "#     return pd.DataFrame(arr, columns=['column', 'name', 'nan_cnt', 'nan_perc'])\n",
    "\n",
    "\n",
    "def show_num_corr(df: pd.DataFrame, features: list = None, title: str ='Корреляция между данными'):\n",
    "    '''\n",
    "    Корреляция между числовыми признаками набора данных\n",
    "    :param df: Набор данных\n",
    "    :param features: признаки\n",
    "    :param title: Заголовок карты\n",
    "    :return: Корр карта признаков\n",
    "    '''\n",
    "    plt.figure(figsize=(16, 16))\n",
    "    show_df =  df\n",
    "    if features is not None:\n",
    "        show_df = df[features]\n",
    "    mask = np.triu(np.ones_like(show_df.corr(), dtype=bool))\n",
    "    heatmap = sns.heatmap(show_df.corr(),\n",
    "                          mask=mask, vmin=-1, vmax=1, annot=True, cmap='BrBG')\n",
    "    heatmap = heatmap.set_title(title, fontdict={'fontsize': 18}, pad=16)\n",
    "    return heatmap\n",
    "\n",
    "\n",
    "def get_high_coreleted_features(df: pd.DataFrame, limit: float = 0.9, method: str = 'pearson') -> pd.DataFrame:\n",
    "    '''\n",
    "    Получить сильно скоррелированные признаки\n",
    "    :param df: Набор данных\n",
    "    :param limit: только те, корреляция которых превышает лимит\n",
    "    :param method: метод вычисления корреляции\n",
    "    :return: Наобор вида (признак1, признак2, коэфф корреляции)\n",
    "    '''\n",
    "    corr_ds = df.corr(method=method)\n",
    "    corr_rows = []\n",
    "    for ind_row, row in corr_ds.iterrows():\n",
    "        for ind_col, cell in row.items():\n",
    "            if abs(cell) > limit and ind_row != ind_col:\n",
    "                if [ind_col, ind_row, cell] not in corr_rows:\n",
    "                    corr_rows.append([ind_row, ind_col, cell])\n",
    "    return pd.DataFrame(corr_rows, columns=['feature_1', 'feature_2', 'value'])\n",
    "\n",
    "\n",
    "def outliers(df: pd.DataFrame, feature: str, iqrs: float = 1.5) -> pd.DataFrame:\n",
    "    '''\n",
    "    Получение выбросов по интерквартильному размаху\n",
    "    :param df: Набор данных\n",
    "    :param feature: Признак для которого ищем выбросы\n",
    "    :param iqrs: Все что выходит за  IQR * iqrs\n",
    "    :return: набор данных с выбросами\n",
    "    '''\n",
    "    # Интерквартильный размах\n",
    "    perc25 = df[feature].quantile(0.25)\n",
    "    perc75 = df[feature].quantile(0.75)\n",
    "    IQR = perc75 - perc25\n",
    "    low, high = (perc25 - iqrs * IQR, perc75 + iqrs * IQR)\n",
    "    print(\n",
    "        f'25-й перцентиль: {perc25}, 75-й перцентиль: {perc75}, IQR: {IQR}, Границы выбросов: [{low}, {high}]')\n",
    "    return df[(df[feature] < low) | (df[feature] > high)]\n",
    "\n",
    "\n",
    "def first_look(s: pd.Series) -> None:\n",
    "    '''\n",
    "    EDA для признаков\n",
    "    :param s: Колонка признака\n",
    "    :return: None\n",
    "    '''\n",
    "    saved_format = pd.options.display.float_format\n",
    "    pd.options.display.float_format = '{:.2f}'.format\n",
    "    print('-' * 80)\n",
    "    try:\n",
    "        print('Название:', s.name)\n",
    "        print('Тип данных:', s.dtype.type)\n",
    "        print('Количество значений:', len(s))\n",
    "        print('Количество уникальных значений:', s.nunique())\n",
    "        print('Количество пропусков:', s.isna().sum())\n",
    "        print(f'Процент пропусков: {round((s.isna().sum() / len(s)) * 100, 2)}%')\n",
    "        print('Общие статистики:')\n",
    "        print(s.describe())\n",
    "        print('Топ 10 уникальных значений:')\n",
    "        print(s.value_counts()[:10])\n",
    "    except Exception as e:\n",
    "        print('Ошибка:', str(e))\n",
    "    print('-' * 80)\n",
    "    pd.options.display.float_format = saved_format\n",
    "\n",
    "\n",
    "def plot_feature_importances(fi, columns: list, num: int=20) -> None:\n",
    "    '''\n",
    "    График важности признаков для моделей с feature_importances\n",
    "    :param fi: feature_importances\n",
    "    :param columns: какие признаки смотрим\n",
    "    :param num: сколько самых важных выводим\n",
    "    :return: None\n",
    "    '''\n",
    "    plt.rcParams['figure.figsize'] = (10, 10)\n",
    "    feat_importances = pd.Series(fi, index=columns)\n",
    "    mean_imp = feat_importances.nlargest(num).mean()\n",
    "    feat_colors = feat_importances.apply(lambda x: 'r' if x > mean_imp else 'b')\n",
    "    feat_importances.nlargest(num).plot(kind='barh', title='Feature importance')\n",
    "\n",
    "\n",
    "def show_roc_auc(y_test: list, probs: list) -> None:\n",
    "    '''\n",
    "    График ROC AUC\n",
    "    :param y_test: Истенные значения\n",
    "    :param probs: Предсказанные вероятности\n",
    "    :return: None\n",
    "    '''\n",
    "    fpr, tpr, threshold = roc_curve(y_test, probs)\n",
    "    roc_auc = roc_auc_score(y_test, probs)\n",
    "    plt.figure(figsize=(12, 8))\n",
    "    plt.plot([0, 1], label='Baseline', linestyle='--')\n",
    "    plt.plot(fpr, tpr, label = 'Regression')\n",
    "    plt.title('Logistic Regression ROC AUC = %0.10f' % roc_auc)\n",
    "    plt.ylabel('True Positive Rate')\n",
    "    plt.xlabel('False Positive Rate')\n",
    "    plt.legend(loc = 'lower right')\n",
    "    plt.show()\n",
    "\n",
    "\n",
    "def show_lr_Importance(model: LogisticRegression, features: list, n: int=20) -> None:\n",
    "    '''\n",
    "    График важности признаков для моделей с LR\n",
    "    :param model: экземпляр LR\n",
    "    :param features: какие признаки смотрим\n",
    "    :param n: сколько самых важных выводим\n",
    "    :return:\n",
    "    '''\n",
    "    lr_coef = pd.DataFrame(model.coef_.T, columns=['coefficient'], index=features)\n",
    "    lr_coef = np.abs(lr_coef)\n",
    "    lr_coef = lr_coef.sort_values(by='coefficient', ascending=False)\n",
    "    f, ax = plt.subplots(1, 1, figsize=(16, 10))\n",
    "    df4display = lr_coef.head(n)\n",
    "    sns.barplot(x=df4display['coefficient'], y=df4display.index, palette=\"vlag\", ax=ax)\n",
    "    _ = ax.set_ylabel(\"Признак\")\n",
    "    _ = ax.set_title(\"Значимость признаков\")\n",
    "\n",
    "\n",
    "def show_confusion_matrix(y_pred: list, y_true: list) -> None:\n",
    "    '''\n",
    "    Матрица смежности для предсказаний классификатора\n",
    "    :param y_pred: предсказанные значения\n",
    "    :param y_true: истинные значения\n",
    "    :return:\n",
    "    '''\n",
    "    plt.figure(figsize=(8, 8))\n",
    "    c_matrix = confusion_matrix(y_true, y_pred, labels=np.unique(y_true))\n",
    "    heatmap = sns.heatmap(c_matrix, annot=True, cmap='BrBG', fmt='g', annot_kws={\"fontsize\": 18})\n",
    "    heatmap = heatmap.set_title(\"Confusion matrix\", fontdict={'fontsize': 18}, pad=16)\n",
    "\n",
    "\n",
    "def print_clssification_metrix(y_pred: list, y_true: list):\n",
    "    '''\n",
    "    Метрики качества для классификатора\n",
    "    :param y_pred:\n",
    "    :param y_true:\n",
    "    :return:\n",
    "    '''\n",
    "    print('Precision:', metrics.precision_score(y_pred, y_true))\n",
    "    print('Recall:', metrics.recall_score(y_pred, y_true))\n",
    "    print('F1-score:', metrics.f1_score(y_pred, y_true))\n"
   ],
   "metadata": {
    "collapsed": false,
    "pycharm": {
     "name": "#%%\n"
    }
   }
  },
  {
   "cell_type": "code",
   "execution_count": 8,
   "outputs": [
    {
     "name": "stdout",
     "output_type": "stream",
     "text": [
      "<class 'pandas.core.frame.DataFrame'>\n",
      "RangeIndex: 572856 entries, 0 to 572855\n",
      "Data columns (total 92 columns):\n",
      " #   Column       Non-Null Count   Dtype \n",
      "---  ------       --------------   ----- \n",
      " 0   name         572856 non-null  object\n",
      " 1   shortname    571797 non-null  object\n",
      " 2   type         572856 non-null  object\n",
      " 3   category     572856 non-null  object\n",
      " 4   region       572856 non-null  int64 \n",
      " 5   date_addmsp  572856 non-null  object\n",
      " 6   okved        572856 non-null  object\n",
      " 7   status       572856 non-null  object\n",
      " 8   date_open    572856 non-null  object\n",
      " 9   org_inn      572856 non-null  object\n",
      " 10  year         572856 non-null  int64 \n",
      " 11  ind_1110     561468 non-null  object\n",
      " 12  ind_1120     561295 non-null  object\n",
      " 13  ind_1130     561279 non-null  object\n",
      " 14  ind_1140     561276 non-null  object\n",
      " 15  ind_1150     563572 non-null  object\n",
      " 16  ind_1160     561282 non-null  object\n",
      " 17  ind_1170     562357 non-null  object\n",
      " 18  ind_1180     561380 non-null  object\n",
      " 19  ind_1190     561336 non-null  object\n",
      " 20  ind_1100     563168 non-null  object\n",
      " 21  ind_1210     565048 non-null  object\n",
      " 22  ind_1220     561484 non-null  object\n",
      " 23  ind_1230     568179 non-null  object\n",
      " 24  ind_1240     561578 non-null  object\n",
      " 25  ind_1250     568798 non-null  object\n",
      " 26  ind_1260     561792 non-null  object\n",
      " 27  ind_1200     565050 non-null  object\n",
      " 28  ind_1600     572856 non-null  object\n",
      " 29  ind_1310     564292 non-null  object\n",
      " 30  ind_1320     561285 non-null  object\n",
      " 31  ind_1340     561289 non-null  object\n",
      " 32  ind_1350     561349 non-null  object\n",
      " 33  ind_1360     561331 non-null  object\n",
      " 34  ind_1370     563411 non-null  object\n",
      " 35  ind_1300     571248 non-null  object\n",
      " 36  ind_1410     562937 non-null  object\n",
      " 37  ind_1420     561345 non-null  object\n",
      " 38  ind_1430     561278 non-null  object\n",
      " 39  ind_1450     561842 non-null  object\n",
      " 40  ind_1400     562005 non-null  object\n",
      " 41  ind_1510     563709 non-null  object\n",
      " 42  ind_1520     567848 non-null  object\n",
      " 43  ind_1530     561332 non-null  object\n",
      " 44  ind_1540     561325 non-null  object\n",
      " 45  ind_1550     562025 non-null  object\n",
      " 46  ind_1500     563712 non-null  object\n",
      " 47  ind_1700     572856 non-null  object\n",
      " 48  ind_2110     561232 non-null  object\n",
      " 49  ind_2120     561232 non-null  object\n",
      " 50  ind_2100     561232 non-null  object\n",
      " 51  ind_2210     561232 non-null  object\n",
      " 52  ind_2220     561232 non-null  object\n",
      " 53  ind_2200     561232 non-null  object\n",
      " 54  ind_2310     561232 non-null  object\n",
      " 55  ind_2320     561232 non-null  object\n",
      " 56  ind_2330     561232 non-null  object\n",
      " 57  ind_2340     561232 non-null  object\n",
      " 58  ind_2350     561232 non-null  object\n",
      " 59  ind_2300     561232 non-null  object\n",
      " 60  ind_2410     561232 non-null  object\n",
      " 61  ind_2460     561232 non-null  object\n",
      " 62  ind_2400     561232 non-null  object\n",
      " 63  ind_2510     561232 non-null  object\n",
      " 64  ind_2520     561232 non-null  object\n",
      " 65  ind_2500     561232 non-null  object\n",
      " 66  ind_2421     561232 non-null  object\n",
      " 67  ind_2430     561232 non-null  object\n",
      " 68  ind_2450     561232 non-null  object\n",
      " 69  ind_6100     561232 non-null  object\n",
      " 70  ind_6210     561232 non-null  object\n",
      " 71  ind_6215     561232 non-null  object\n",
      " 72  ind_6220     561232 non-null  object\n",
      " 73  ind_6230     561232 non-null  object\n",
      " 74  ind_6240     561232 non-null  object\n",
      " 75  ind_6250     561232 non-null  object\n",
      " 76  ind_6200     561232 non-null  object\n",
      " 77  ind_6310     561232 non-null  object\n",
      " 78  ind_6311     561232 non-null  object\n",
      " 79  ind_6312     561232 non-null  object\n",
      " 80  ind_6313     561232 non-null  object\n",
      " 81  ind_6320     561232 non-null  object\n",
      " 82  ind_6321     561232 non-null  object\n",
      " 83  ind_6322     561232 non-null  object\n",
      " 84  ind_6323     561232 non-null  object\n",
      " 85  ind_6324     561232 non-null  object\n",
      " 86  ind_6325     561232 non-null  object\n",
      " 87  ind_6326     561232 non-null  object\n",
      " 88  ind_6330     561232 non-null  object\n",
      " 89  ind_6350     561232 non-null  object\n",
      " 90  ind_6300     561232 non-null  object\n",
      " 91  ind_6400     561232 non-null  object\n",
      "dtypes: int64(2), object(90)\n",
      "memory usage: 402.1+ MB\n"
     ]
    }
   ],
   "source": [
    "# import psycopg2\n",
    "# conn = psycopg2.connect(dbname='cs_finadviser', user='finadviser',\n",
    "#                         password='BLgArTRCTu9DU4uSWXoU', host='localhost', port='5438')\n",
    "# cursor = conn.cursor()\n",
    "# cursor.execute('SELECT * FROM fa.dataset4ds')\n",
    "# records = cursor.fetchall()\n",
    "# cursor.close()\n",
    "# conn.close()\n",
    "# columns = []\n",
    "# for elt in cursor.description:\n",
    "#     columns.append(elt[0])\n",
    "# data = pd.DataFrame(data=records, columns=columns)\n",
    "# data.to_csv('data/dataset4ds.csv', index=False)\n",
    "# data.info()"
   ],
   "metadata": {
    "collapsed": false,
    "pycharm": {
     "name": "#%%\n"
    }
   }
  },
  {
   "cell_type": "code",
   "execution_count": 9,
   "outputs": [
    {
     "data": {
      "text/plain": "                                                name               shortname  \\\n0  ОБЩЕСТВО С ОГРАНИЧЕННОЙ ОТВЕТСТВЕННОСТЬЮ \"КОМИ...  ООО \"КОМИПЕРМДОРСТРОЙ\"   \n1  ОБЩЕСТВО С ОГРАНИЧЕННОЙ ОТВЕТСТВЕННОСТЬЮ \"КОМИ...  ООО \"КОМИПЕРМДОРСТРОЙ\"   \n2  ОБЩЕСТВО С ОГРАНИЧЕННОЙ ОТВЕТСТВЕННОСТЬЮ \"КОМИ...  ООО \"КОМИПЕРМДОРСТРОЙ\"   \n3  ОБЩЕСТВО С ОГРАНИЧЕННОЙ ОТВЕТСТВЕННОСТЬЮ \"КОМИ...  ООО \"КОМИПЕРМДОРСТРОЙ\"   \n4  ОБЩЕСТВО С ОГРАНИЧЕННОЙ ОТВЕТСТВЕННОСТЬЮ \"КОМИ...  ООО \"КОМИПЕРМДОРСТРОЙ\"   \n\n  type             category  region date_addmsp     okved     status  \\\n0   ЮЛ  Среднее предприятие      77  2016-01-08  71.1      Действует   \n1   ЮЛ  Среднее предприятие      77  2016-01-08  71.1      Действует   \n2   ЮЛ  Среднее предприятие      77  2016-01-08  71.1      Действует   \n3   ЮЛ  Среднее предприятие      77  2016-01-08  71.1      Действует   \n4   ЮЛ  Среднее предприятие      77  2016-01-08  71.1      Действует   \n\n    date_open     org_inn  ...  ind_6321  ind_6322  ind_6323  ind_6324  \\\n0  2002-06-17  1101034216  ...       0.0       0.0       0.0       0.0   \n1  2002-06-17  1101034216  ...       0.0       0.0       0.0       0.0   \n2  2002-06-17  1101034216  ...       0.0       0.0       0.0       0.0   \n3  2002-06-17  1101034216  ...       0.0       0.0       0.0       0.0   \n4  2002-06-17  1101034216  ...       0.0       0.0       0.0       0.0   \n\n   ind_6325  ind_6326  ind_6330  ind_6350  ind_6300  ind_6400  \n0       0.0       0.0       0.0       0.0       0.0       0.0  \n1       0.0       0.0       0.0       0.0       0.0       0.0  \n2       0.0       0.0       0.0       0.0       0.0       0.0  \n3       0.0       0.0       0.0       0.0       0.0       0.0  \n4       0.0       0.0       0.0       0.0       0.0       0.0  \n\n[5 rows x 92 columns]",
      "text/html": "<div>\n<style scoped>\n    .dataframe tbody tr th:only-of-type {\n        vertical-align: middle;\n    }\n\n    .dataframe tbody tr th {\n        vertical-align: top;\n    }\n\n    .dataframe thead th {\n        text-align: right;\n    }\n</style>\n<table border=\"1\" class=\"dataframe\">\n  <thead>\n    <tr style=\"text-align: right;\">\n      <th></th>\n      <th>name</th>\n      <th>shortname</th>\n      <th>type</th>\n      <th>category</th>\n      <th>region</th>\n      <th>date_addmsp</th>\n      <th>okved</th>\n      <th>status</th>\n      <th>date_open</th>\n      <th>org_inn</th>\n      <th>...</th>\n      <th>ind_6321</th>\n      <th>ind_6322</th>\n      <th>ind_6323</th>\n      <th>ind_6324</th>\n      <th>ind_6325</th>\n      <th>ind_6326</th>\n      <th>ind_6330</th>\n      <th>ind_6350</th>\n      <th>ind_6300</th>\n      <th>ind_6400</th>\n    </tr>\n  </thead>\n  <tbody>\n    <tr>\n      <th>0</th>\n      <td>ОБЩЕСТВО С ОГРАНИЧЕННОЙ ОТВЕТСТВЕННОСТЬЮ \"КОМИ...</td>\n      <td>ООО \"КОМИПЕРМДОРСТРОЙ\"</td>\n      <td>ЮЛ</td>\n      <td>Среднее предприятие</td>\n      <td>77</td>\n      <td>2016-01-08</td>\n      <td>71.1</td>\n      <td>Действует</td>\n      <td>2002-06-17</td>\n      <td>1101034216</td>\n      <td>...</td>\n      <td>0.0</td>\n      <td>0.0</td>\n      <td>0.0</td>\n      <td>0.0</td>\n      <td>0.0</td>\n      <td>0.0</td>\n      <td>0.0</td>\n      <td>0.0</td>\n      <td>0.0</td>\n      <td>0.0</td>\n    </tr>\n    <tr>\n      <th>1</th>\n      <td>ОБЩЕСТВО С ОГРАНИЧЕННОЙ ОТВЕТСТВЕННОСТЬЮ \"КОМИ...</td>\n      <td>ООО \"КОМИПЕРМДОРСТРОЙ\"</td>\n      <td>ЮЛ</td>\n      <td>Среднее предприятие</td>\n      <td>77</td>\n      <td>2016-01-08</td>\n      <td>71.1</td>\n      <td>Действует</td>\n      <td>2002-06-17</td>\n      <td>1101034216</td>\n      <td>...</td>\n      <td>0.0</td>\n      <td>0.0</td>\n      <td>0.0</td>\n      <td>0.0</td>\n      <td>0.0</td>\n      <td>0.0</td>\n      <td>0.0</td>\n      <td>0.0</td>\n      <td>0.0</td>\n      <td>0.0</td>\n    </tr>\n    <tr>\n      <th>2</th>\n      <td>ОБЩЕСТВО С ОГРАНИЧЕННОЙ ОТВЕТСТВЕННОСТЬЮ \"КОМИ...</td>\n      <td>ООО \"КОМИПЕРМДОРСТРОЙ\"</td>\n      <td>ЮЛ</td>\n      <td>Среднее предприятие</td>\n      <td>77</td>\n      <td>2016-01-08</td>\n      <td>71.1</td>\n      <td>Действует</td>\n      <td>2002-06-17</td>\n      <td>1101034216</td>\n      <td>...</td>\n      <td>0.0</td>\n      <td>0.0</td>\n      <td>0.0</td>\n      <td>0.0</td>\n      <td>0.0</td>\n      <td>0.0</td>\n      <td>0.0</td>\n      <td>0.0</td>\n      <td>0.0</td>\n      <td>0.0</td>\n    </tr>\n    <tr>\n      <th>3</th>\n      <td>ОБЩЕСТВО С ОГРАНИЧЕННОЙ ОТВЕТСТВЕННОСТЬЮ \"КОМИ...</td>\n      <td>ООО \"КОМИПЕРМДОРСТРОЙ\"</td>\n      <td>ЮЛ</td>\n      <td>Среднее предприятие</td>\n      <td>77</td>\n      <td>2016-01-08</td>\n      <td>71.1</td>\n      <td>Действует</td>\n      <td>2002-06-17</td>\n      <td>1101034216</td>\n      <td>...</td>\n      <td>0.0</td>\n      <td>0.0</td>\n      <td>0.0</td>\n      <td>0.0</td>\n      <td>0.0</td>\n      <td>0.0</td>\n      <td>0.0</td>\n      <td>0.0</td>\n      <td>0.0</td>\n      <td>0.0</td>\n    </tr>\n    <tr>\n      <th>4</th>\n      <td>ОБЩЕСТВО С ОГРАНИЧЕННОЙ ОТВЕТСТВЕННОСТЬЮ \"КОМИ...</td>\n      <td>ООО \"КОМИПЕРМДОРСТРОЙ\"</td>\n      <td>ЮЛ</td>\n      <td>Среднее предприятие</td>\n      <td>77</td>\n      <td>2016-01-08</td>\n      <td>71.1</td>\n      <td>Действует</td>\n      <td>2002-06-17</td>\n      <td>1101034216</td>\n      <td>...</td>\n      <td>0.0</td>\n      <td>0.0</td>\n      <td>0.0</td>\n      <td>0.0</td>\n      <td>0.0</td>\n      <td>0.0</td>\n      <td>0.0</td>\n      <td>0.0</td>\n      <td>0.0</td>\n      <td>0.0</td>\n    </tr>\n  </tbody>\n</table>\n<p>5 rows × 92 columns</p>\n</div>"
     },
     "execution_count": 9,
     "metadata": {},
     "output_type": "execute_result"
    }
   ],
   "source": [
    "data = pd.read_csv('data/dataset4ds.csv')\n",
    "data.head()"
   ],
   "metadata": {
    "collapsed": false,
    "pycharm": {
     "name": "#%%\n"
    }
   }
  },
  {
   "cell_type": "code",
   "execution_count": 10,
   "outputs": [
    {
     "name": "stdout",
     "output_type": "stream",
     "text": [
      "<class 'pandas.core.frame.DataFrame'>\n",
      "RangeIndex: 572856 entries, 0 to 572855\n",
      "Data columns (total 92 columns):\n",
      " #   Column       Non-Null Count   Dtype  \n",
      "---  ------       --------------   -----  \n",
      " 0   name         572856 non-null  object \n",
      " 1   shortname    571797 non-null  object \n",
      " 2   type         572856 non-null  object \n",
      " 3   category     572856 non-null  object \n",
      " 4   region       572856 non-null  int64  \n",
      " 5   date_addmsp  572856 non-null  object \n",
      " 6   okved        572856 non-null  object \n",
      " 7   status       572856 non-null  object \n",
      " 8   date_open    572856 non-null  object \n",
      " 9   org_inn      572856 non-null  int64  \n",
      " 10  year         572856 non-null  int64  \n",
      " 11  ind_1110     561468 non-null  float64\n",
      " 12  ind_1120     561295 non-null  float64\n",
      " 13  ind_1130     561279 non-null  float64\n",
      " 14  ind_1140     561276 non-null  float64\n",
      " 15  ind_1150     563572 non-null  float64\n",
      " 16  ind_1160     561282 non-null  float64\n",
      " 17  ind_1170     562357 non-null  float64\n",
      " 18  ind_1180     561380 non-null  float64\n",
      " 19  ind_1190     561336 non-null  float64\n",
      " 20  ind_1100     563168 non-null  float64\n",
      " 21  ind_1210     565048 non-null  float64\n",
      " 22  ind_1220     561484 non-null  float64\n",
      " 23  ind_1230     568179 non-null  float64\n",
      " 24  ind_1240     561578 non-null  float64\n",
      " 25  ind_1250     568798 non-null  float64\n",
      " 26  ind_1260     561792 non-null  float64\n",
      " 27  ind_1200     565050 non-null  float64\n",
      " 28  ind_1600     572856 non-null  float64\n",
      " 29  ind_1310     564292 non-null  float64\n",
      " 30  ind_1320     561285 non-null  float64\n",
      " 31  ind_1340     561289 non-null  float64\n",
      " 32  ind_1350     561349 non-null  float64\n",
      " 33  ind_1360     561331 non-null  float64\n",
      " 34  ind_1370     563411 non-null  float64\n",
      " 35  ind_1300     571248 non-null  float64\n",
      " 36  ind_1410     562937 non-null  float64\n",
      " 37  ind_1420     561345 non-null  float64\n",
      " 38  ind_1430     561278 non-null  float64\n",
      " 39  ind_1450     561842 non-null  float64\n",
      " 40  ind_1400     562005 non-null  float64\n",
      " 41  ind_1510     563709 non-null  float64\n",
      " 42  ind_1520     567848 non-null  float64\n",
      " 43  ind_1530     561332 non-null  float64\n",
      " 44  ind_1540     561325 non-null  float64\n",
      " 45  ind_1550     562025 non-null  float64\n",
      " 46  ind_1500     563712 non-null  float64\n",
      " 47  ind_1700     572856 non-null  float64\n",
      " 48  ind_2110     561232 non-null  float64\n",
      " 49  ind_2120     561232 non-null  float64\n",
      " 50  ind_2100     561232 non-null  float64\n",
      " 51  ind_2210     561232 non-null  float64\n",
      " 52  ind_2220     561232 non-null  float64\n",
      " 53  ind_2200     561232 non-null  float64\n",
      " 54  ind_2310     561232 non-null  float64\n",
      " 55  ind_2320     561232 non-null  float64\n",
      " 56  ind_2330     561232 non-null  float64\n",
      " 57  ind_2340     561232 non-null  float64\n",
      " 58  ind_2350     561232 non-null  float64\n",
      " 59  ind_2300     561232 non-null  float64\n",
      " 60  ind_2410     561232 non-null  float64\n",
      " 61  ind_2460     561232 non-null  float64\n",
      " 62  ind_2400     561232 non-null  float64\n",
      " 63  ind_2510     561232 non-null  float64\n",
      " 64  ind_2520     561232 non-null  float64\n",
      " 65  ind_2500     561232 non-null  float64\n",
      " 66  ind_2421     561232 non-null  float64\n",
      " 67  ind_2430     561232 non-null  float64\n",
      " 68  ind_2450     561232 non-null  float64\n",
      " 69  ind_6100     561232 non-null  float64\n",
      " 70  ind_6210     561232 non-null  float64\n",
      " 71  ind_6215     561232 non-null  float64\n",
      " 72  ind_6220     561232 non-null  float64\n",
      " 73  ind_6230     561232 non-null  float64\n",
      " 74  ind_6240     561232 non-null  float64\n",
      " 75  ind_6250     561232 non-null  float64\n",
      " 76  ind_6200     561232 non-null  float64\n",
      " 77  ind_6310     561232 non-null  float64\n",
      " 78  ind_6311     561232 non-null  float64\n",
      " 79  ind_6312     561232 non-null  float64\n",
      " 80  ind_6313     561232 non-null  float64\n",
      " 81  ind_6320     561232 non-null  float64\n",
      " 82  ind_6321     561232 non-null  float64\n",
      " 83  ind_6322     561232 non-null  float64\n",
      " 84  ind_6323     561232 non-null  float64\n",
      " 85  ind_6324     561232 non-null  float64\n",
      " 86  ind_6325     561232 non-null  float64\n",
      " 87  ind_6326     561232 non-null  float64\n",
      " 88  ind_6330     561232 non-null  float64\n",
      " 89  ind_6350     561232 non-null  float64\n",
      " 90  ind_6300     561232 non-null  float64\n",
      " 91  ind_6400     561232 non-null  float64\n",
      "dtypes: float64(81), int64(3), object(8)\n",
      "memory usage: 402.1+ MB\n"
     ]
    }
   ],
   "source": [
    "data.info(max_cols=200)"
   ],
   "metadata": {
    "collapsed": false,
    "pycharm": {
     "name": "#%%\n"
    }
   }
  },
  {
   "cell_type": "code",
   "execution_count": 11,
   "outputs": [
    {
     "name": "stdout",
     "output_type": "stream",
     "text": [
      "<class 'pandas.core.frame.DataFrame'>\n",
      "RangeIndex: 572856 entries, 0 to 572855\n",
      "Data columns (total 92 columns):\n",
      " #   Column       Non-Null Count   Dtype         \n",
      "---  ------       --------------   -----         \n",
      " 0   name         572856 non-null  object        \n",
      " 1   shortname    571797 non-null  object        \n",
      " 2   type         572856 non-null  object        \n",
      " 3   category     572856 non-null  object        \n",
      " 4   region       572856 non-null  object        \n",
      " 5   date_addmsp  572856 non-null  datetime64[ns]\n",
      " 6   okved        572856 non-null  object        \n",
      " 7   status       572856 non-null  object        \n",
      " 8   date_open    572856 non-null  datetime64[ns]\n",
      " 9   org_inn      572856 non-null  object        \n",
      " 10  year         572856 non-null  int64         \n",
      " 11  ind_1110     561468 non-null  float64       \n",
      " 12  ind_1120     561295 non-null  float64       \n",
      " 13  ind_1130     561279 non-null  float64       \n",
      " 14  ind_1140     561276 non-null  float64       \n",
      " 15  ind_1150     563572 non-null  float64       \n",
      " 16  ind_1160     561282 non-null  float64       \n",
      " 17  ind_1170     562357 non-null  float64       \n",
      " 18  ind_1180     561380 non-null  float64       \n",
      " 19  ind_1190     561336 non-null  float64       \n",
      " 20  ind_1100     563168 non-null  float64       \n",
      " 21  ind_1210     565048 non-null  float64       \n",
      " 22  ind_1220     561484 non-null  float64       \n",
      " 23  ind_1230     568179 non-null  float64       \n",
      " 24  ind_1240     561578 non-null  float64       \n",
      " 25  ind_1250     568798 non-null  float64       \n",
      " 26  ind_1260     561792 non-null  float64       \n",
      " 27  ind_1200     565050 non-null  float64       \n",
      " 28  ind_1600     572856 non-null  float64       \n",
      " 29  ind_1310     564292 non-null  float64       \n",
      " 30  ind_1320     561285 non-null  float64       \n",
      " 31  ind_1340     561289 non-null  float64       \n",
      " 32  ind_1350     561349 non-null  float64       \n",
      " 33  ind_1360     561331 non-null  float64       \n",
      " 34  ind_1370     563411 non-null  float64       \n",
      " 35  ind_1300     571248 non-null  float64       \n",
      " 36  ind_1410     562937 non-null  float64       \n",
      " 37  ind_1420     561345 non-null  float64       \n",
      " 38  ind_1430     561278 non-null  float64       \n",
      " 39  ind_1450     561842 non-null  float64       \n",
      " 40  ind_1400     562005 non-null  float64       \n",
      " 41  ind_1510     563709 non-null  float64       \n",
      " 42  ind_1520     567848 non-null  float64       \n",
      " 43  ind_1530     561332 non-null  float64       \n",
      " 44  ind_1540     561325 non-null  float64       \n",
      " 45  ind_1550     562025 non-null  float64       \n",
      " 46  ind_1500     563712 non-null  float64       \n",
      " 47  ind_1700     572856 non-null  float64       \n",
      " 48  ind_2110     561232 non-null  float64       \n",
      " 49  ind_2120     561232 non-null  float64       \n",
      " 50  ind_2100     561232 non-null  float64       \n",
      " 51  ind_2210     561232 non-null  float64       \n",
      " 52  ind_2220     561232 non-null  float64       \n",
      " 53  ind_2200     561232 non-null  float64       \n",
      " 54  ind_2310     561232 non-null  float64       \n",
      " 55  ind_2320     561232 non-null  float64       \n",
      " 56  ind_2330     561232 non-null  float64       \n",
      " 57  ind_2340     561232 non-null  float64       \n",
      " 58  ind_2350     561232 non-null  float64       \n",
      " 59  ind_2300     561232 non-null  float64       \n",
      " 60  ind_2410     561232 non-null  float64       \n",
      " 61  ind_2460     561232 non-null  float64       \n",
      " 62  ind_2400     561232 non-null  float64       \n",
      " 63  ind_2510     561232 non-null  float64       \n",
      " 64  ind_2520     561232 non-null  float64       \n",
      " 65  ind_2500     561232 non-null  float64       \n",
      " 66  ind_2421     561232 non-null  float64       \n",
      " 67  ind_2430     561232 non-null  float64       \n",
      " 68  ind_2450     561232 non-null  float64       \n",
      " 69  ind_6100     561232 non-null  float64       \n",
      " 70  ind_6210     561232 non-null  float64       \n",
      " 71  ind_6215     561232 non-null  float64       \n",
      " 72  ind_6220     561232 non-null  float64       \n",
      " 73  ind_6230     561232 non-null  float64       \n",
      " 74  ind_6240     561232 non-null  float64       \n",
      " 75  ind_6250     561232 non-null  float64       \n",
      " 76  ind_6200     561232 non-null  float64       \n",
      " 77  ind_6310     561232 non-null  float64       \n",
      " 78  ind_6311     561232 non-null  float64       \n",
      " 79  ind_6312     561232 non-null  float64       \n",
      " 80  ind_6313     561232 non-null  float64       \n",
      " 81  ind_6320     561232 non-null  float64       \n",
      " 82  ind_6321     561232 non-null  float64       \n",
      " 83  ind_6322     561232 non-null  float64       \n",
      " 84  ind_6323     561232 non-null  float64       \n",
      " 85  ind_6324     561232 non-null  float64       \n",
      " 86  ind_6325     561232 non-null  float64       \n",
      " 87  ind_6326     561232 non-null  float64       \n",
      " 88  ind_6330     561232 non-null  float64       \n",
      " 89  ind_6350     561232 non-null  float64       \n",
      " 90  ind_6300     561232 non-null  float64       \n",
      " 91  ind_6400     561232 non-null  float64       \n",
      "dtypes: datetime64[ns](2), float64(81), int64(1), object(8)\n",
      "memory usage: 402.1+ MB\n"
     ]
    }
   ],
   "source": [
    "# Сразу типмизируем, чтоб не путаться\n",
    "data['org_inn'] = data['org_inn'].astype(str)\n",
    "data['okved'] = data['okved'].astype(str)\n",
    "data['name'] = data['name'].astype(str)\n",
    "data['type'] = data['type'].astype(str)\n",
    "data['region'] = data['region'].astype(str)\n",
    "data['status'] = data['status'].astype(str)\n",
    "data['date_addmsp'] = pd.to_datetime(data['date_addmsp'])\n",
    "data['date_open'] = pd.to_datetime(data['date_open'])\n",
    "data['year'] = data['year'].astype(int)\n",
    "data[[c for c in data.columns if c.startswith('ind_')]] = data[[c for c in data.columns if c.startswith('ind_')]].astype(float)\n",
    "data.info(max_cols=200)"
   ],
   "metadata": {
    "collapsed": false,
    "pycharm": {
     "name": "#%%\n"
    }
   }
  },
  {
   "cell_type": "code",
   "execution_count": 12,
   "outputs": [],
   "source": [
    "# for col in [c for c in data.columns if c.startswith('ind_')]:\n",
    "#     data[col] = data[col] / data['currency']"
   ],
   "metadata": {
    "collapsed": false,
    "pycharm": {
     "name": "#%%\n"
    }
   }
  },
  {
   "cell_type": "code",
   "execution_count": 13,
   "outputs": [
    {
     "data": {
      "text/plain": "                                                name               shortname  \\\n0  ОБЩЕСТВО С ОГРАНИЧЕННОЙ ОТВЕТСТВЕННОСТЬЮ \"КОМИ...  ООО \"КОМИПЕРМДОРСТРОЙ\"   \n1  ОБЩЕСТВО С ОГРАНИЧЕННОЙ ОТВЕТСТВЕННОСТЬЮ \"КОМИ...  ООО \"КОМИПЕРМДОРСТРОЙ\"   \n2  ОБЩЕСТВО С ОГРАНИЧЕННОЙ ОТВЕТСТВЕННОСТЬЮ \"КОМИ...  ООО \"КОМИПЕРМДОРСТРОЙ\"   \n3  ОБЩЕСТВО С ОГРАНИЧЕННОЙ ОТВЕТСТВЕННОСТЬЮ \"КОМИ...  ООО \"КОМИПЕРМДОРСТРОЙ\"   \n4  ОБЩЕСТВО С ОГРАНИЧЕННОЙ ОТВЕТСТВЕННОСТЬЮ \"КОМИ...  ООО \"КОМИПЕРМДОРСТРОЙ\"   \n\n  type             category region date_addmsp     okved     status  \\\n0   ЮЛ  Среднее предприятие     77  2016-01-08  71.1      Действует   \n1   ЮЛ  Среднее предприятие     77  2016-01-08  71.1      Действует   \n2   ЮЛ  Среднее предприятие     77  2016-01-08  71.1      Действует   \n3   ЮЛ  Среднее предприятие     77  2016-01-08  71.1      Действует   \n4   ЮЛ  Среднее предприятие     77  2016-01-08  71.1      Действует   \n\n   date_open     org_inn  ...  ind_6322  ind_6323  ind_6324  ind_6325  \\\n0 2002-06-17  1101034216  ...       0.0       0.0       0.0       0.0   \n1 2002-06-17  1101034216  ...       0.0       0.0       0.0       0.0   \n2 2002-06-17  1101034216  ...       0.0       0.0       0.0       0.0   \n3 2002-06-17  1101034216  ...       0.0       0.0       0.0       0.0   \n4 2002-06-17  1101034216  ...       0.0       0.0       0.0       0.0   \n\n   ind_6326  ind_6330  ind_6350  ind_6300  ind_6400  first_year  \n0       0.0       0.0       0.0       0.0       0.0        2014  \n1       0.0       0.0       0.0       0.0       0.0        2014  \n2       0.0       0.0       0.0       0.0       0.0        2014  \n3       0.0       0.0       0.0       0.0       0.0        2014  \n4       0.0       0.0       0.0       0.0       0.0        2014  \n\n[5 rows x 93 columns]",
      "text/html": "<div>\n<style scoped>\n    .dataframe tbody tr th:only-of-type {\n        vertical-align: middle;\n    }\n\n    .dataframe tbody tr th {\n        vertical-align: top;\n    }\n\n    .dataframe thead th {\n        text-align: right;\n    }\n</style>\n<table border=\"1\" class=\"dataframe\">\n  <thead>\n    <tr style=\"text-align: right;\">\n      <th></th>\n      <th>name</th>\n      <th>shortname</th>\n      <th>type</th>\n      <th>category</th>\n      <th>region</th>\n      <th>date_addmsp</th>\n      <th>okved</th>\n      <th>status</th>\n      <th>date_open</th>\n      <th>org_inn</th>\n      <th>...</th>\n      <th>ind_6322</th>\n      <th>ind_6323</th>\n      <th>ind_6324</th>\n      <th>ind_6325</th>\n      <th>ind_6326</th>\n      <th>ind_6330</th>\n      <th>ind_6350</th>\n      <th>ind_6300</th>\n      <th>ind_6400</th>\n      <th>first_year</th>\n    </tr>\n  </thead>\n  <tbody>\n    <tr>\n      <th>0</th>\n      <td>ОБЩЕСТВО С ОГРАНИЧЕННОЙ ОТВЕТСТВЕННОСТЬЮ \"КОМИ...</td>\n      <td>ООО \"КОМИПЕРМДОРСТРОЙ\"</td>\n      <td>ЮЛ</td>\n      <td>Среднее предприятие</td>\n      <td>77</td>\n      <td>2016-01-08</td>\n      <td>71.1</td>\n      <td>Действует</td>\n      <td>2002-06-17</td>\n      <td>1101034216</td>\n      <td>...</td>\n      <td>0.0</td>\n      <td>0.0</td>\n      <td>0.0</td>\n      <td>0.0</td>\n      <td>0.0</td>\n      <td>0.0</td>\n      <td>0.0</td>\n      <td>0.0</td>\n      <td>0.0</td>\n      <td>2014</td>\n    </tr>\n    <tr>\n      <th>1</th>\n      <td>ОБЩЕСТВО С ОГРАНИЧЕННОЙ ОТВЕТСТВЕННОСТЬЮ \"КОМИ...</td>\n      <td>ООО \"КОМИПЕРМДОРСТРОЙ\"</td>\n      <td>ЮЛ</td>\n      <td>Среднее предприятие</td>\n      <td>77</td>\n      <td>2016-01-08</td>\n      <td>71.1</td>\n      <td>Действует</td>\n      <td>2002-06-17</td>\n      <td>1101034216</td>\n      <td>...</td>\n      <td>0.0</td>\n      <td>0.0</td>\n      <td>0.0</td>\n      <td>0.0</td>\n      <td>0.0</td>\n      <td>0.0</td>\n      <td>0.0</td>\n      <td>0.0</td>\n      <td>0.0</td>\n      <td>2014</td>\n    </tr>\n    <tr>\n      <th>2</th>\n      <td>ОБЩЕСТВО С ОГРАНИЧЕННОЙ ОТВЕТСТВЕННОСТЬЮ \"КОМИ...</td>\n      <td>ООО \"КОМИПЕРМДОРСТРОЙ\"</td>\n      <td>ЮЛ</td>\n      <td>Среднее предприятие</td>\n      <td>77</td>\n      <td>2016-01-08</td>\n      <td>71.1</td>\n      <td>Действует</td>\n      <td>2002-06-17</td>\n      <td>1101034216</td>\n      <td>...</td>\n      <td>0.0</td>\n      <td>0.0</td>\n      <td>0.0</td>\n      <td>0.0</td>\n      <td>0.0</td>\n      <td>0.0</td>\n      <td>0.0</td>\n      <td>0.0</td>\n      <td>0.0</td>\n      <td>2014</td>\n    </tr>\n    <tr>\n      <th>3</th>\n      <td>ОБЩЕСТВО С ОГРАНИЧЕННОЙ ОТВЕТСТВЕННОСТЬЮ \"КОМИ...</td>\n      <td>ООО \"КОМИПЕРМДОРСТРОЙ\"</td>\n      <td>ЮЛ</td>\n      <td>Среднее предприятие</td>\n      <td>77</td>\n      <td>2016-01-08</td>\n      <td>71.1</td>\n      <td>Действует</td>\n      <td>2002-06-17</td>\n      <td>1101034216</td>\n      <td>...</td>\n      <td>0.0</td>\n      <td>0.0</td>\n      <td>0.0</td>\n      <td>0.0</td>\n      <td>0.0</td>\n      <td>0.0</td>\n      <td>0.0</td>\n      <td>0.0</td>\n      <td>0.0</td>\n      <td>2014</td>\n    </tr>\n    <tr>\n      <th>4</th>\n      <td>ОБЩЕСТВО С ОГРАНИЧЕННОЙ ОТВЕТСТВЕННОСТЬЮ \"КОМИ...</td>\n      <td>ООО \"КОМИПЕРМДОРСТРОЙ\"</td>\n      <td>ЮЛ</td>\n      <td>Среднее предприятие</td>\n      <td>77</td>\n      <td>2016-01-08</td>\n      <td>71.1</td>\n      <td>Действует</td>\n      <td>2002-06-17</td>\n      <td>1101034216</td>\n      <td>...</td>\n      <td>0.0</td>\n      <td>0.0</td>\n      <td>0.0</td>\n      <td>0.0</td>\n      <td>0.0</td>\n      <td>0.0</td>\n      <td>0.0</td>\n      <td>0.0</td>\n      <td>0.0</td>\n      <td>2014</td>\n    </tr>\n  </tbody>\n</table>\n<p>5 rows × 93 columns</p>\n</div>"
     },
     "execution_count": 13,
     "metadata": {},
     "output_type": "execute_result"
    }
   ],
   "source": [
    "# Год когда появилась первая отчетность компании\n",
    "first_year = data.groupby(['org_inn'])['year'].min().rename('first_year')\n",
    "data.drop('first_year', axis=1, inplace=True, errors='ignore')\n",
    "data = data.join(first_year, on='org_inn')\n",
    "data.head()"
   ],
   "metadata": {
    "collapsed": false,
    "pycharm": {
     "name": "#%%\n"
    }
   }
  },
  {
   "cell_type": "code",
   "execution_count": 14,
   "outputs": [
    {
     "data": {
      "text/plain": "                                                name               shortname  \\\n0  ОБЩЕСТВО С ОГРАНИЧЕННОЙ ОТВЕТСТВЕННОСТЬЮ \"КОМИ...  ООО \"КОМИПЕРМДОРСТРОЙ\"   \n1  ОБЩЕСТВО С ОГРАНИЧЕННОЙ ОТВЕТСТВЕННОСТЬЮ \"КОМИ...  ООО \"КОМИПЕРМДОРСТРОЙ\"   \n2  ОБЩЕСТВО С ОГРАНИЧЕННОЙ ОТВЕТСТВЕННОСТЬЮ \"КОМИ...  ООО \"КОМИПЕРМДОРСТРОЙ\"   \n3  ОБЩЕСТВО С ОГРАНИЧЕННОЙ ОТВЕТСТВЕННОСТЬЮ \"КОМИ...  ООО \"КОМИПЕРМДОРСТРОЙ\"   \n4  ОБЩЕСТВО С ОГРАНИЧЕННОЙ ОТВЕТСТВЕННОСТЬЮ \"КОМИ...  ООО \"КОМИПЕРМДОРСТРОЙ\"   \n\n  type             category region date_addmsp     okved     status  \\\n0   ЮЛ  Среднее предприятие     77  2016-01-08  71.1      Действует   \n1   ЮЛ  Среднее предприятие     77  2016-01-08  71.1      Действует   \n2   ЮЛ  Среднее предприятие     77  2016-01-08  71.1      Действует   \n3   ЮЛ  Среднее предприятие     77  2016-01-08  71.1      Действует   \n4   ЮЛ  Среднее предприятие     77  2016-01-08  71.1      Действует   \n\n   date_open     org_inn  ...  ind_6323  ind_6324  ind_6325  ind_6326  \\\n0 2002-06-17  1101034216  ...       0.0       0.0       0.0       0.0   \n1 2002-06-17  1101034216  ...       0.0       0.0       0.0       0.0   \n2 2002-06-17  1101034216  ...       0.0       0.0       0.0       0.0   \n3 2002-06-17  1101034216  ...       0.0       0.0       0.0       0.0   \n4 2002-06-17  1101034216  ...       0.0       0.0       0.0       0.0   \n\n   ind_6330  ind_6350  ind_6300  ind_6400  first_year  last_year  \n0       0.0       0.0       0.0       0.0        2014       2020  \n1       0.0       0.0       0.0       0.0        2014       2020  \n2       0.0       0.0       0.0       0.0        2014       2020  \n3       0.0       0.0       0.0       0.0        2014       2020  \n4       0.0       0.0       0.0       0.0        2014       2020  \n\n[5 rows x 94 columns]",
      "text/html": "<div>\n<style scoped>\n    .dataframe tbody tr th:only-of-type {\n        vertical-align: middle;\n    }\n\n    .dataframe tbody tr th {\n        vertical-align: top;\n    }\n\n    .dataframe thead th {\n        text-align: right;\n    }\n</style>\n<table border=\"1\" class=\"dataframe\">\n  <thead>\n    <tr style=\"text-align: right;\">\n      <th></th>\n      <th>name</th>\n      <th>shortname</th>\n      <th>type</th>\n      <th>category</th>\n      <th>region</th>\n      <th>date_addmsp</th>\n      <th>okved</th>\n      <th>status</th>\n      <th>date_open</th>\n      <th>org_inn</th>\n      <th>...</th>\n      <th>ind_6323</th>\n      <th>ind_6324</th>\n      <th>ind_6325</th>\n      <th>ind_6326</th>\n      <th>ind_6330</th>\n      <th>ind_6350</th>\n      <th>ind_6300</th>\n      <th>ind_6400</th>\n      <th>first_year</th>\n      <th>last_year</th>\n    </tr>\n  </thead>\n  <tbody>\n    <tr>\n      <th>0</th>\n      <td>ОБЩЕСТВО С ОГРАНИЧЕННОЙ ОТВЕТСТВЕННОСТЬЮ \"КОМИ...</td>\n      <td>ООО \"КОМИПЕРМДОРСТРОЙ\"</td>\n      <td>ЮЛ</td>\n      <td>Среднее предприятие</td>\n      <td>77</td>\n      <td>2016-01-08</td>\n      <td>71.1</td>\n      <td>Действует</td>\n      <td>2002-06-17</td>\n      <td>1101034216</td>\n      <td>...</td>\n      <td>0.0</td>\n      <td>0.0</td>\n      <td>0.0</td>\n      <td>0.0</td>\n      <td>0.0</td>\n      <td>0.0</td>\n      <td>0.0</td>\n      <td>0.0</td>\n      <td>2014</td>\n      <td>2020</td>\n    </tr>\n    <tr>\n      <th>1</th>\n      <td>ОБЩЕСТВО С ОГРАНИЧЕННОЙ ОТВЕТСТВЕННОСТЬЮ \"КОМИ...</td>\n      <td>ООО \"КОМИПЕРМДОРСТРОЙ\"</td>\n      <td>ЮЛ</td>\n      <td>Среднее предприятие</td>\n      <td>77</td>\n      <td>2016-01-08</td>\n      <td>71.1</td>\n      <td>Действует</td>\n      <td>2002-06-17</td>\n      <td>1101034216</td>\n      <td>...</td>\n      <td>0.0</td>\n      <td>0.0</td>\n      <td>0.0</td>\n      <td>0.0</td>\n      <td>0.0</td>\n      <td>0.0</td>\n      <td>0.0</td>\n      <td>0.0</td>\n      <td>2014</td>\n      <td>2020</td>\n    </tr>\n    <tr>\n      <th>2</th>\n      <td>ОБЩЕСТВО С ОГРАНИЧЕННОЙ ОТВЕТСТВЕННОСТЬЮ \"КОМИ...</td>\n      <td>ООО \"КОМИПЕРМДОРСТРОЙ\"</td>\n      <td>ЮЛ</td>\n      <td>Среднее предприятие</td>\n      <td>77</td>\n      <td>2016-01-08</td>\n      <td>71.1</td>\n      <td>Действует</td>\n      <td>2002-06-17</td>\n      <td>1101034216</td>\n      <td>...</td>\n      <td>0.0</td>\n      <td>0.0</td>\n      <td>0.0</td>\n      <td>0.0</td>\n      <td>0.0</td>\n      <td>0.0</td>\n      <td>0.0</td>\n      <td>0.0</td>\n      <td>2014</td>\n      <td>2020</td>\n    </tr>\n    <tr>\n      <th>3</th>\n      <td>ОБЩЕСТВО С ОГРАНИЧЕННОЙ ОТВЕТСТВЕННОСТЬЮ \"КОМИ...</td>\n      <td>ООО \"КОМИПЕРМДОРСТРОЙ\"</td>\n      <td>ЮЛ</td>\n      <td>Среднее предприятие</td>\n      <td>77</td>\n      <td>2016-01-08</td>\n      <td>71.1</td>\n      <td>Действует</td>\n      <td>2002-06-17</td>\n      <td>1101034216</td>\n      <td>...</td>\n      <td>0.0</td>\n      <td>0.0</td>\n      <td>0.0</td>\n      <td>0.0</td>\n      <td>0.0</td>\n      <td>0.0</td>\n      <td>0.0</td>\n      <td>0.0</td>\n      <td>2014</td>\n      <td>2020</td>\n    </tr>\n    <tr>\n      <th>4</th>\n      <td>ОБЩЕСТВО С ОГРАНИЧЕННОЙ ОТВЕТСТВЕННОСТЬЮ \"КОМИ...</td>\n      <td>ООО \"КОМИПЕРМДОРСТРОЙ\"</td>\n      <td>ЮЛ</td>\n      <td>Среднее предприятие</td>\n      <td>77</td>\n      <td>2016-01-08</td>\n      <td>71.1</td>\n      <td>Действует</td>\n      <td>2002-06-17</td>\n      <td>1101034216</td>\n      <td>...</td>\n      <td>0.0</td>\n      <td>0.0</td>\n      <td>0.0</td>\n      <td>0.0</td>\n      <td>0.0</td>\n      <td>0.0</td>\n      <td>0.0</td>\n      <td>0.0</td>\n      <td>2014</td>\n      <td>2020</td>\n    </tr>\n  </tbody>\n</table>\n<p>5 rows × 94 columns</p>\n</div>"
     },
     "execution_count": 14,
     "metadata": {},
     "output_type": "execute_result"
    }
   ],
   "source": [
    "# Год когда была последняя отчетность компании\n",
    "last_year = data.groupby(['org_inn'])['year'].max().rename('last_year')\n",
    "data.drop('last_year', axis=1, inplace=True, errors='ignore')\n",
    "data = data.join(last_year, on='org_inn')\n",
    "data.head()"
   ],
   "metadata": {
    "collapsed": false,
    "pycharm": {
     "name": "#%%\n"
    }
   }
  },
  {
   "cell_type": "code",
   "execution_count": 15,
   "outputs": [],
   "source": [
    "# Берем все признаки из самого раннего года организации - объединяем с основным набором\n",
    "additional_features = [c for c in data.columns if c.startswith('ind_')]\n",
    "additional_features.remove('ind_1600')\n",
    "investments = data.sort_values(by=['org_inn', 'year']).groupby('org_inn').first()[['year', 'ind_1600'] + additional_features]\n",
    "investments.columns = ['inv_year', 'inv_sum'] + ['inv_' + x for x in additional_features]\n",
    "data.drop(investments.columns, axis=1, inplace=True, errors='ignore')"
   ],
   "metadata": {
    "collapsed": false,
    "pycharm": {
     "name": "#%%\n"
    }
   }
  },
  {
   "cell_type": "code",
   "execution_count": 16,
   "outputs": [
    {
     "data": {
      "text/plain": "      org_inn  year  inv_year   inv_sum  inv_ind_1110  inv_ind_1120  \\\n0  1101034216  2014      2014  132247.0           3.0           0.0   \n1  1101034216  2015      2014  132247.0           3.0           0.0   \n2  1101034216  2016      2014  132247.0           3.0           0.0   \n3  1101034216  2018      2014  132247.0           3.0           0.0   \n4  1101034216  2019      2014  132247.0           3.0           0.0   \n\n   inv_ind_1130  inv_ind_1140  inv_ind_1150  inv_ind_1160  ...  inv_ind_6321  \\\n0           0.0           0.0           0.0           0.0  ...           0.0   \n1           0.0           0.0           0.0           0.0  ...           0.0   \n2           0.0           0.0           0.0           0.0  ...           0.0   \n3           0.0           0.0           0.0           0.0  ...           0.0   \n4           0.0           0.0           0.0           0.0  ...           0.0   \n\n   inv_ind_6322  inv_ind_6323  inv_ind_6324  inv_ind_6325  inv_ind_6326  \\\n0           0.0           0.0           0.0           0.0           0.0   \n1           0.0           0.0           0.0           0.0           0.0   \n2           0.0           0.0           0.0           0.0           0.0   \n3           0.0           0.0           0.0           0.0           0.0   \n4           0.0           0.0           0.0           0.0           0.0   \n\n   inv_ind_6330  inv_ind_6350  inv_ind_6300  inv_ind_6400  \n0           0.0           0.0           0.0           0.0  \n1           0.0           0.0           0.0           0.0  \n2           0.0           0.0           0.0           0.0  \n3           0.0           0.0           0.0           0.0  \n4           0.0           0.0           0.0           0.0  \n\n[5 rows x 84 columns]",
      "text/html": "<div>\n<style scoped>\n    .dataframe tbody tr th:only-of-type {\n        vertical-align: middle;\n    }\n\n    .dataframe tbody tr th {\n        vertical-align: top;\n    }\n\n    .dataframe thead th {\n        text-align: right;\n    }\n</style>\n<table border=\"1\" class=\"dataframe\">\n  <thead>\n    <tr style=\"text-align: right;\">\n      <th></th>\n      <th>org_inn</th>\n      <th>year</th>\n      <th>inv_year</th>\n      <th>inv_sum</th>\n      <th>inv_ind_1110</th>\n      <th>inv_ind_1120</th>\n      <th>inv_ind_1130</th>\n      <th>inv_ind_1140</th>\n      <th>inv_ind_1150</th>\n      <th>inv_ind_1160</th>\n      <th>...</th>\n      <th>inv_ind_6321</th>\n      <th>inv_ind_6322</th>\n      <th>inv_ind_6323</th>\n      <th>inv_ind_6324</th>\n      <th>inv_ind_6325</th>\n      <th>inv_ind_6326</th>\n      <th>inv_ind_6330</th>\n      <th>inv_ind_6350</th>\n      <th>inv_ind_6300</th>\n      <th>inv_ind_6400</th>\n    </tr>\n  </thead>\n  <tbody>\n    <tr>\n      <th>0</th>\n      <td>1101034216</td>\n      <td>2014</td>\n      <td>2014</td>\n      <td>132247.0</td>\n      <td>3.0</td>\n      <td>0.0</td>\n      <td>0.0</td>\n      <td>0.0</td>\n      <td>0.0</td>\n      <td>0.0</td>\n      <td>...</td>\n      <td>0.0</td>\n      <td>0.0</td>\n      <td>0.0</td>\n      <td>0.0</td>\n      <td>0.0</td>\n      <td>0.0</td>\n      <td>0.0</td>\n      <td>0.0</td>\n      <td>0.0</td>\n      <td>0.0</td>\n    </tr>\n    <tr>\n      <th>1</th>\n      <td>1101034216</td>\n      <td>2015</td>\n      <td>2014</td>\n      <td>132247.0</td>\n      <td>3.0</td>\n      <td>0.0</td>\n      <td>0.0</td>\n      <td>0.0</td>\n      <td>0.0</td>\n      <td>0.0</td>\n      <td>...</td>\n      <td>0.0</td>\n      <td>0.0</td>\n      <td>0.0</td>\n      <td>0.0</td>\n      <td>0.0</td>\n      <td>0.0</td>\n      <td>0.0</td>\n      <td>0.0</td>\n      <td>0.0</td>\n      <td>0.0</td>\n    </tr>\n    <tr>\n      <th>2</th>\n      <td>1101034216</td>\n      <td>2016</td>\n      <td>2014</td>\n      <td>132247.0</td>\n      <td>3.0</td>\n      <td>0.0</td>\n      <td>0.0</td>\n      <td>0.0</td>\n      <td>0.0</td>\n      <td>0.0</td>\n      <td>...</td>\n      <td>0.0</td>\n      <td>0.0</td>\n      <td>0.0</td>\n      <td>0.0</td>\n      <td>0.0</td>\n      <td>0.0</td>\n      <td>0.0</td>\n      <td>0.0</td>\n      <td>0.0</td>\n      <td>0.0</td>\n    </tr>\n    <tr>\n      <th>3</th>\n      <td>1101034216</td>\n      <td>2018</td>\n      <td>2014</td>\n      <td>132247.0</td>\n      <td>3.0</td>\n      <td>0.0</td>\n      <td>0.0</td>\n      <td>0.0</td>\n      <td>0.0</td>\n      <td>0.0</td>\n      <td>...</td>\n      <td>0.0</td>\n      <td>0.0</td>\n      <td>0.0</td>\n      <td>0.0</td>\n      <td>0.0</td>\n      <td>0.0</td>\n      <td>0.0</td>\n      <td>0.0</td>\n      <td>0.0</td>\n      <td>0.0</td>\n    </tr>\n    <tr>\n      <th>4</th>\n      <td>1101034216</td>\n      <td>2019</td>\n      <td>2014</td>\n      <td>132247.0</td>\n      <td>3.0</td>\n      <td>0.0</td>\n      <td>0.0</td>\n      <td>0.0</td>\n      <td>0.0</td>\n      <td>0.0</td>\n      <td>...</td>\n      <td>0.0</td>\n      <td>0.0</td>\n      <td>0.0</td>\n      <td>0.0</td>\n      <td>0.0</td>\n      <td>0.0</td>\n      <td>0.0</td>\n      <td>0.0</td>\n      <td>0.0</td>\n      <td>0.0</td>\n    </tr>\n  </tbody>\n</table>\n<p>5 rows × 84 columns</p>\n</div>"
     },
     "execution_count": 16,
     "metadata": {},
     "output_type": "execute_result"
    }
   ],
   "source": [
    "data = data.join(investments, on=['org_inn'])\n",
    "data[['org_inn', 'year'] + investments.columns.tolist()].head() #.sort_values(by=['inn', 'year']).head()"
   ],
   "metadata": {
    "collapsed": false,
    "pycharm": {
     "name": "#%%\n"
    }
   }
  },
  {
   "cell_type": "code",
   "execution_count": 17,
   "outputs": [
    {
     "name": "stdout",
     "output_type": "stream",
     "text": [
      "<class 'pandas.core.frame.DataFrame'>\n",
      "RangeIndex: 572856 entries, 0 to 572855\n",
      "Columns: 176 entries, name to inv_ind_6400\n",
      "dtypes: datetime64[ns](2), float64(162), int64(4), object(8)\n",
      "memory usage: 769.2+ MB\n"
     ]
    }
   ],
   "source": [
    "data.info()"
   ],
   "metadata": {
    "collapsed": false,
    "pycharm": {
     "name": "#%%\n"
    }
   }
  },
  {
   "cell_type": "code",
   "execution_count": 18,
   "outputs": [
    {
     "data": {
      "text/plain": "        inv_sum     org_inn date_addmsp\n52         -2.0  9723048201  2018-10-06\n7138       -3.0  7743147790  2016-01-08\n7139       -3.0  7743147790  2016-01-08\n7140       -3.0  7743147790  2016-01-08\n7141       -3.0  7743147790  2016-01-08\n...         ...         ...         ...\n564136    -60.0  7727768454  2019-10-08\n564137    -60.0  7727768454  2019-10-08\n564138    -60.0  7727768454  2019-10-08\n564139    -60.0  7727768454  2019-10-08\n564140    -60.0  7727768454  2019-10-08\n\n[369 rows x 3 columns]",
      "text/html": "<div>\n<style scoped>\n    .dataframe tbody tr th:only-of-type {\n        vertical-align: middle;\n    }\n\n    .dataframe tbody tr th {\n        vertical-align: top;\n    }\n\n    .dataframe thead th {\n        text-align: right;\n    }\n</style>\n<table border=\"1\" class=\"dataframe\">\n  <thead>\n    <tr style=\"text-align: right;\">\n      <th></th>\n      <th>inv_sum</th>\n      <th>org_inn</th>\n      <th>date_addmsp</th>\n    </tr>\n  </thead>\n  <tbody>\n    <tr>\n      <th>52</th>\n      <td>-2.0</td>\n      <td>9723048201</td>\n      <td>2018-10-06</td>\n    </tr>\n    <tr>\n      <th>7138</th>\n      <td>-3.0</td>\n      <td>7743147790</td>\n      <td>2016-01-08</td>\n    </tr>\n    <tr>\n      <th>7139</th>\n      <td>-3.0</td>\n      <td>7743147790</td>\n      <td>2016-01-08</td>\n    </tr>\n    <tr>\n      <th>7140</th>\n      <td>-3.0</td>\n      <td>7743147790</td>\n      <td>2016-01-08</td>\n    </tr>\n    <tr>\n      <th>7141</th>\n      <td>-3.0</td>\n      <td>7743147790</td>\n      <td>2016-01-08</td>\n    </tr>\n    <tr>\n      <th>...</th>\n      <td>...</td>\n      <td>...</td>\n      <td>...</td>\n    </tr>\n    <tr>\n      <th>564136</th>\n      <td>-60.0</td>\n      <td>7727768454</td>\n      <td>2019-10-08</td>\n    </tr>\n    <tr>\n      <th>564137</th>\n      <td>-60.0</td>\n      <td>7727768454</td>\n      <td>2019-10-08</td>\n    </tr>\n    <tr>\n      <th>564138</th>\n      <td>-60.0</td>\n      <td>7727768454</td>\n      <td>2019-10-08</td>\n    </tr>\n    <tr>\n      <th>564139</th>\n      <td>-60.0</td>\n      <td>7727768454</td>\n      <td>2019-10-08</td>\n    </tr>\n    <tr>\n      <th>564140</th>\n      <td>-60.0</td>\n      <td>7727768454</td>\n      <td>2019-10-08</td>\n    </tr>\n  </tbody>\n</table>\n<p>369 rows × 3 columns</p>\n</div>"
     },
     "execution_count": 18,
     "metadata": {},
     "output_type": "execute_result"
    }
   ],
   "source": [
    "data.loc[data['inv_sum'] < 0, ['inv_sum', 'org_inn', 'date_addmsp']]"
   ],
   "metadata": {
    "collapsed": false,
    "pycharm": {
     "name": "#%%\n"
    }
   }
  },
  {
   "cell_type": "code",
   "execution_count": 19,
   "outputs": [
    {
     "data": {
      "text/plain": "           org_inn  year  ind_2400  profit  inv_year  inv_sum  inv_ind_1110  \\\n354544  1001007610  2014      11.0    11.0      2014     22.0           0.0   \n354545  1001007610  2015      54.0    65.0      2014     22.0           0.0   \n354546  1001007610  2016      23.0    88.0      2014     22.0           0.0   \n354547  1001007610  2017     983.0  1071.0      2014     22.0           0.0   \n354548  1001007610  2018       0.0  1071.0      2014     22.0           0.0   \n\n        inv_ind_1120  inv_ind_1130  inv_ind_1140  ...  inv_ind_6321  \\\n354544           0.0           0.0           0.0  ...           0.0   \n354545           0.0           0.0           0.0  ...           0.0   \n354546           0.0           0.0           0.0  ...           0.0   \n354547           0.0           0.0           0.0  ...           0.0   \n354548           0.0           0.0           0.0  ...           0.0   \n\n        inv_ind_6322  inv_ind_6323  inv_ind_6324  inv_ind_6325  inv_ind_6326  \\\n354544           0.0           0.0           0.0           0.0           0.0   \n354545           0.0           0.0           0.0           0.0           0.0   \n354546           0.0           0.0           0.0           0.0           0.0   \n354547           0.0           0.0           0.0           0.0           0.0   \n354548           0.0           0.0           0.0           0.0           0.0   \n\n        inv_ind_6330  inv_ind_6350  inv_ind_6300  inv_ind_6400  \n354544           0.0           0.0           0.0           0.0  \n354545           0.0           0.0           0.0           0.0  \n354546           0.0           0.0           0.0           0.0  \n354547           0.0           0.0           0.0           0.0  \n354548           0.0           0.0           0.0           0.0  \n\n[5 rows x 86 columns]",
      "text/html": "<div>\n<style scoped>\n    .dataframe tbody tr th:only-of-type {\n        vertical-align: middle;\n    }\n\n    .dataframe tbody tr th {\n        vertical-align: top;\n    }\n\n    .dataframe thead th {\n        text-align: right;\n    }\n</style>\n<table border=\"1\" class=\"dataframe\">\n  <thead>\n    <tr style=\"text-align: right;\">\n      <th></th>\n      <th>org_inn</th>\n      <th>year</th>\n      <th>ind_2400</th>\n      <th>profit</th>\n      <th>inv_year</th>\n      <th>inv_sum</th>\n      <th>inv_ind_1110</th>\n      <th>inv_ind_1120</th>\n      <th>inv_ind_1130</th>\n      <th>inv_ind_1140</th>\n      <th>...</th>\n      <th>inv_ind_6321</th>\n      <th>inv_ind_6322</th>\n      <th>inv_ind_6323</th>\n      <th>inv_ind_6324</th>\n      <th>inv_ind_6325</th>\n      <th>inv_ind_6326</th>\n      <th>inv_ind_6330</th>\n      <th>inv_ind_6350</th>\n      <th>inv_ind_6300</th>\n      <th>inv_ind_6400</th>\n    </tr>\n  </thead>\n  <tbody>\n    <tr>\n      <th>354544</th>\n      <td>1001007610</td>\n      <td>2014</td>\n      <td>11.0</td>\n      <td>11.0</td>\n      <td>2014</td>\n      <td>22.0</td>\n      <td>0.0</td>\n      <td>0.0</td>\n      <td>0.0</td>\n      <td>0.0</td>\n      <td>...</td>\n      <td>0.0</td>\n      <td>0.0</td>\n      <td>0.0</td>\n      <td>0.0</td>\n      <td>0.0</td>\n      <td>0.0</td>\n      <td>0.0</td>\n      <td>0.0</td>\n      <td>0.0</td>\n      <td>0.0</td>\n    </tr>\n    <tr>\n      <th>354545</th>\n      <td>1001007610</td>\n      <td>2015</td>\n      <td>54.0</td>\n      <td>65.0</td>\n      <td>2014</td>\n      <td>22.0</td>\n      <td>0.0</td>\n      <td>0.0</td>\n      <td>0.0</td>\n      <td>0.0</td>\n      <td>...</td>\n      <td>0.0</td>\n      <td>0.0</td>\n      <td>0.0</td>\n      <td>0.0</td>\n      <td>0.0</td>\n      <td>0.0</td>\n      <td>0.0</td>\n      <td>0.0</td>\n      <td>0.0</td>\n      <td>0.0</td>\n    </tr>\n    <tr>\n      <th>354546</th>\n      <td>1001007610</td>\n      <td>2016</td>\n      <td>23.0</td>\n      <td>88.0</td>\n      <td>2014</td>\n      <td>22.0</td>\n      <td>0.0</td>\n      <td>0.0</td>\n      <td>0.0</td>\n      <td>0.0</td>\n      <td>...</td>\n      <td>0.0</td>\n      <td>0.0</td>\n      <td>0.0</td>\n      <td>0.0</td>\n      <td>0.0</td>\n      <td>0.0</td>\n      <td>0.0</td>\n      <td>0.0</td>\n      <td>0.0</td>\n      <td>0.0</td>\n    </tr>\n    <tr>\n      <th>354547</th>\n      <td>1001007610</td>\n      <td>2017</td>\n      <td>983.0</td>\n      <td>1071.0</td>\n      <td>2014</td>\n      <td>22.0</td>\n      <td>0.0</td>\n      <td>0.0</td>\n      <td>0.0</td>\n      <td>0.0</td>\n      <td>...</td>\n      <td>0.0</td>\n      <td>0.0</td>\n      <td>0.0</td>\n      <td>0.0</td>\n      <td>0.0</td>\n      <td>0.0</td>\n      <td>0.0</td>\n      <td>0.0</td>\n      <td>0.0</td>\n      <td>0.0</td>\n    </tr>\n    <tr>\n      <th>354548</th>\n      <td>1001007610</td>\n      <td>2018</td>\n      <td>0.0</td>\n      <td>1071.0</td>\n      <td>2014</td>\n      <td>22.0</td>\n      <td>0.0</td>\n      <td>0.0</td>\n      <td>0.0</td>\n      <td>0.0</td>\n      <td>...</td>\n      <td>0.0</td>\n      <td>0.0</td>\n      <td>0.0</td>\n      <td>0.0</td>\n      <td>0.0</td>\n      <td>0.0</td>\n      <td>0.0</td>\n      <td>0.0</td>\n      <td>0.0</td>\n      <td>0.0</td>\n    </tr>\n  </tbody>\n</table>\n<p>5 rows × 86 columns</p>\n</div>"
     },
     "execution_count": 19,
     "metadata": {},
     "output_type": "execute_result"
    }
   ],
   "source": [
    "# Накопительно вычисляем сумму прибыли организации по годам - объединяем с набором\n",
    "profit = data.sort_values(by=['org_inn', 'year']).groupby('org_inn').cumsum()['ind_2400']\n",
    "profit.name = 'profit'\n",
    "data.drop(['profit'], axis=1, inplace=True, errors='ignore')\n",
    "data = data.join(profit)\n",
    "data[['org_inn', 'year', 'ind_2400', 'profit'] + investments.columns.tolist()].sort_values(by=['org_inn', 'year']).head()"
   ],
   "metadata": {
    "collapsed": false,
    "pycharm": {
     "name": "#%%\n"
    }
   }
  },
  {
   "cell_type": "code",
   "execution_count": 20,
   "outputs": [
    {
     "data": {
      "text/plain": "            year  ind_2400   profit  inv_year  inv_sum  inv_ind_1110  \\\norg_inn                                                                \n1001007610  2020     150.0   1656.0      2014     22.0           0.0   \n1001009512  2020     822.0  12265.0      2013   1895.0           0.0   \n1001014417  2020     136.0    421.0      2013   1034.0           0.0   \n1001014953  2020       0.0    215.0      2013     69.0           0.0   \n1001020058  2021    4576.0  12598.0      2013   7030.0           0.0   \n\n            inv_ind_1120  inv_ind_1130  inv_ind_1140  inv_ind_1150  ...  \\\norg_inn                                                             ...   \n1001007610           0.0           0.0           0.0           0.0  ...   \n1001009512           0.0           0.0           0.0         646.0  ...   \n1001014417           0.0           0.0           0.0         511.0  ...   \n1001014953           0.0           0.0           0.0           0.0  ...   \n1001020058           0.0           0.0           0.0        2333.0  ...   \n\n            inv_ind_6321  inv_ind_6322  inv_ind_6323  inv_ind_6324  \\\norg_inn                                                              \n1001007610           0.0           0.0           0.0           0.0   \n1001009512           0.0           0.0           0.0           0.0   \n1001014417           0.0           0.0           0.0           0.0   \n1001014953           0.0           0.0           0.0           0.0   \n1001020058           0.0           0.0           0.0           0.0   \n\n            inv_ind_6325  inv_ind_6326  inv_ind_6330  inv_ind_6350  \\\norg_inn                                                              \n1001007610           0.0           0.0           0.0           0.0   \n1001009512           0.0           0.0           0.0           0.0   \n1001014417           0.0           0.0           0.0           0.0   \n1001014953           0.0           0.0           0.0           0.0   \n1001020058           0.0           0.0           0.0           0.0   \n\n            inv_ind_6300  inv_ind_6400  \norg_inn                                 \n1001007610           0.0           0.0  \n1001009512           0.0           0.0  \n1001014417           0.0           0.0  \n1001014953           0.0           0.0  \n1001020058           0.0           0.0  \n\n[5 rows x 85 columns]",
      "text/html": "<div>\n<style scoped>\n    .dataframe tbody tr th:only-of-type {\n        vertical-align: middle;\n    }\n\n    .dataframe tbody tr th {\n        vertical-align: top;\n    }\n\n    .dataframe thead th {\n        text-align: right;\n    }\n</style>\n<table border=\"1\" class=\"dataframe\">\n  <thead>\n    <tr style=\"text-align: right;\">\n      <th></th>\n      <th>year</th>\n      <th>ind_2400</th>\n      <th>profit</th>\n      <th>inv_year</th>\n      <th>inv_sum</th>\n      <th>inv_ind_1110</th>\n      <th>inv_ind_1120</th>\n      <th>inv_ind_1130</th>\n      <th>inv_ind_1140</th>\n      <th>inv_ind_1150</th>\n      <th>...</th>\n      <th>inv_ind_6321</th>\n      <th>inv_ind_6322</th>\n      <th>inv_ind_6323</th>\n      <th>inv_ind_6324</th>\n      <th>inv_ind_6325</th>\n      <th>inv_ind_6326</th>\n      <th>inv_ind_6330</th>\n      <th>inv_ind_6350</th>\n      <th>inv_ind_6300</th>\n      <th>inv_ind_6400</th>\n    </tr>\n    <tr>\n      <th>org_inn</th>\n      <th></th>\n      <th></th>\n      <th></th>\n      <th></th>\n      <th></th>\n      <th></th>\n      <th></th>\n      <th></th>\n      <th></th>\n      <th></th>\n      <th></th>\n      <th></th>\n      <th></th>\n      <th></th>\n      <th></th>\n      <th></th>\n      <th></th>\n      <th></th>\n      <th></th>\n      <th></th>\n      <th></th>\n    </tr>\n  </thead>\n  <tbody>\n    <tr>\n      <th>1001007610</th>\n      <td>2020</td>\n      <td>150.0</td>\n      <td>1656.0</td>\n      <td>2014</td>\n      <td>22.0</td>\n      <td>0.0</td>\n      <td>0.0</td>\n      <td>0.0</td>\n      <td>0.0</td>\n      <td>0.0</td>\n      <td>...</td>\n      <td>0.0</td>\n      <td>0.0</td>\n      <td>0.0</td>\n      <td>0.0</td>\n      <td>0.0</td>\n      <td>0.0</td>\n      <td>0.0</td>\n      <td>0.0</td>\n      <td>0.0</td>\n      <td>0.0</td>\n    </tr>\n    <tr>\n      <th>1001009512</th>\n      <td>2020</td>\n      <td>822.0</td>\n      <td>12265.0</td>\n      <td>2013</td>\n      <td>1895.0</td>\n      <td>0.0</td>\n      <td>0.0</td>\n      <td>0.0</td>\n      <td>0.0</td>\n      <td>646.0</td>\n      <td>...</td>\n      <td>0.0</td>\n      <td>0.0</td>\n      <td>0.0</td>\n      <td>0.0</td>\n      <td>0.0</td>\n      <td>0.0</td>\n      <td>0.0</td>\n      <td>0.0</td>\n      <td>0.0</td>\n      <td>0.0</td>\n    </tr>\n    <tr>\n      <th>1001014417</th>\n      <td>2020</td>\n      <td>136.0</td>\n      <td>421.0</td>\n      <td>2013</td>\n      <td>1034.0</td>\n      <td>0.0</td>\n      <td>0.0</td>\n      <td>0.0</td>\n      <td>0.0</td>\n      <td>511.0</td>\n      <td>...</td>\n      <td>0.0</td>\n      <td>0.0</td>\n      <td>0.0</td>\n      <td>0.0</td>\n      <td>0.0</td>\n      <td>0.0</td>\n      <td>0.0</td>\n      <td>0.0</td>\n      <td>0.0</td>\n      <td>0.0</td>\n    </tr>\n    <tr>\n      <th>1001014953</th>\n      <td>2020</td>\n      <td>0.0</td>\n      <td>215.0</td>\n      <td>2013</td>\n      <td>69.0</td>\n      <td>0.0</td>\n      <td>0.0</td>\n      <td>0.0</td>\n      <td>0.0</td>\n      <td>0.0</td>\n      <td>...</td>\n      <td>0.0</td>\n      <td>0.0</td>\n      <td>0.0</td>\n      <td>0.0</td>\n      <td>0.0</td>\n      <td>0.0</td>\n      <td>0.0</td>\n      <td>0.0</td>\n      <td>0.0</td>\n      <td>0.0</td>\n    </tr>\n    <tr>\n      <th>1001020058</th>\n      <td>2021</td>\n      <td>4576.0</td>\n      <td>12598.0</td>\n      <td>2013</td>\n      <td>7030.0</td>\n      <td>0.0</td>\n      <td>0.0</td>\n      <td>0.0</td>\n      <td>0.0</td>\n      <td>2333.0</td>\n      <td>...</td>\n      <td>0.0</td>\n      <td>0.0</td>\n      <td>0.0</td>\n      <td>0.0</td>\n      <td>0.0</td>\n      <td>0.0</td>\n      <td>0.0</td>\n      <td>0.0</td>\n      <td>0.0</td>\n      <td>0.0</td>\n    </tr>\n  </tbody>\n</table>\n<p>5 rows × 85 columns</p>\n</div>"
     },
     "execution_count": 20,
     "metadata": {},
     "output_type": "execute_result"
    }
   ],
   "source": [
    "data.sort_values(by=['org_inn', 'year']).groupby('org_inn').last()[['year', 'ind_2400', 'profit'] + investments.columns.tolist()].head()"
   ],
   "metadata": {
    "collapsed": false,
    "pycharm": {
     "name": "#%%\n"
    }
   }
  },
  {
   "cell_type": "code",
   "execution_count": 50,
   "outputs": [],
   "source": [
    "features = ['year', 'ind_2400', 'profit', 'result',] + investments.columns.tolist()"
   ],
   "metadata": {
    "collapsed": false,
    "pycharm": {
     "name": "#%%\n"
    }
   }
  },
  {
   "cell_type": "code",
   "execution_count": 21,
   "outputs": [
    {
     "data": {
      "text/plain": "                                                     name  \\\n572023   ОБЩЕСТВО С ОГРАНИЧЕННОЙ ОТВЕТСТВЕННОСТЬЮ \"Р-ТЕХ\"   \n205139  ОБЩЕСТВО С ОГРАНИЧЕННОЙ ОТВЕТСТВЕННОСТЬЮ \"ТЕХН...   \n\n                        shortname type          category region date_addmsp  \\\n572023                ООО \"Р-ТЕХ\"   ЮЛ  Микропредприятие     77  2018-10-04   \n205139  ООО \"ТЕХНОЛОГИИ БУДУЩЕГО\"   ЮЛ  Микропредприятие     39  2018-10-11   \n\n           okved     status  date_open     org_inn  ...  inv_ind_6323  \\\n572023  62.01     Действует 2018-03-07  7716901305  ...           0.0   \n205139  62.01     Действует 2018-10-17  3906373430  ...           0.0   \n\n        inv_ind_6324  inv_ind_6325  inv_ind_6326  inv_ind_6330  inv_ind_6350  \\\n572023           0.0           0.0           0.0           0.0           0.0   \n205139           0.0           0.0           0.0           0.0           0.0   \n\n        inv_ind_6300  inv_ind_6400  profit  result  \n572023           0.0           0.0     0.0  1276.0  \n205139           0.0           0.0     0.0   540.0  \n\n[2 rows x 178 columns]",
      "text/html": "<div>\n<style scoped>\n    .dataframe tbody tr th:only-of-type {\n        vertical-align: middle;\n    }\n\n    .dataframe tbody tr th {\n        vertical-align: top;\n    }\n\n    .dataframe thead th {\n        text-align: right;\n    }\n</style>\n<table border=\"1\" class=\"dataframe\">\n  <thead>\n    <tr style=\"text-align: right;\">\n      <th></th>\n      <th>name</th>\n      <th>shortname</th>\n      <th>type</th>\n      <th>category</th>\n      <th>region</th>\n      <th>date_addmsp</th>\n      <th>okved</th>\n      <th>status</th>\n      <th>date_open</th>\n      <th>org_inn</th>\n      <th>...</th>\n      <th>inv_ind_6323</th>\n      <th>inv_ind_6324</th>\n      <th>inv_ind_6325</th>\n      <th>inv_ind_6326</th>\n      <th>inv_ind_6330</th>\n      <th>inv_ind_6350</th>\n      <th>inv_ind_6300</th>\n      <th>inv_ind_6400</th>\n      <th>profit</th>\n      <th>result</th>\n    </tr>\n  </thead>\n  <tbody>\n    <tr>\n      <th>572023</th>\n      <td>ОБЩЕСТВО С ОГРАНИЧЕННОЙ ОТВЕТСТВЕННОСТЬЮ \"Р-ТЕХ\"</td>\n      <td>ООО \"Р-ТЕХ\"</td>\n      <td>ЮЛ</td>\n      <td>Микропредприятие</td>\n      <td>77</td>\n      <td>2018-10-04</td>\n      <td>62.01</td>\n      <td>Действует</td>\n      <td>2018-03-07</td>\n      <td>7716901305</td>\n      <td>...</td>\n      <td>0.0</td>\n      <td>0.0</td>\n      <td>0.0</td>\n      <td>0.0</td>\n      <td>0.0</td>\n      <td>0.0</td>\n      <td>0.0</td>\n      <td>0.0</td>\n      <td>0.0</td>\n      <td>1276.0</td>\n    </tr>\n    <tr>\n      <th>205139</th>\n      <td>ОБЩЕСТВО С ОГРАНИЧЕННОЙ ОТВЕТСТВЕННОСТЬЮ \"ТЕХН...</td>\n      <td>ООО \"ТЕХНОЛОГИИ БУДУЩЕГО\"</td>\n      <td>ЮЛ</td>\n      <td>Микропредприятие</td>\n      <td>39</td>\n      <td>2018-10-11</td>\n      <td>62.01</td>\n      <td>Действует</td>\n      <td>2018-10-17</td>\n      <td>3906373430</td>\n      <td>...</td>\n      <td>0.0</td>\n      <td>0.0</td>\n      <td>0.0</td>\n      <td>0.0</td>\n      <td>0.0</td>\n      <td>0.0</td>\n      <td>0.0</td>\n      <td>0.0</td>\n      <td>0.0</td>\n      <td>540.0</td>\n    </tr>\n  </tbody>\n</table>\n<p>2 rows × 178 columns</p>\n</div>"
     },
     "execution_count": 21,
     "metadata": {},
     "output_type": "execute_result"
    }
   ],
   "source": [
    "# Формируем результат деятельности организации за год как разницу между первоначальным вложением и прбылью после налогов\n",
    "data['result'] = data['inv_sum'] - data['profit']\n",
    "data.sample(2)"
   ],
   "metadata": {
    "collapsed": false,
    "pycharm": {
     "name": "#%%\n"
    }
   }
  },
  {
   "cell_type": "code",
   "execution_count": 22,
   "outputs": [
    {
     "data": {
      "text/plain": "          org_inn                                               name  \\\n94177  9204573581  ОБЩЕСТВО С ОГРАНИЧЕННОЙ ОТВЕТСТВЕННОСТЬЮ \"ГУСТ...   \n36767  5505216748  ОБЩЕСТВО С ОГРАНИЧЕННОЙ ОТВЕТСТВЕННОСТЬЮ \"БЮРО...   \n\n               shortname type          category region date_addmsp     okved  \\\n94177  ООО \"ГУСТО ГРУПП\"   ЮЛ  Микропредприятие     92  2019-10-11  56.30      \n36767         ООО \"БДСК\"   ЮЛ  Микропредприятие     55  2016-01-08  71.1       \n\n          status  date_open  ...  inv_ind_6323  inv_ind_6324  inv_ind_6325  \\\n94177  Действует 2019-10-01  ...           0.0           0.0           0.0   \n36767  Действует 2013-02-26  ...           0.0           0.0           0.0   \n\n       inv_ind_6326  inv_ind_6330  inv_ind_6350  inv_ind_6300  inv_ind_6400  \\\n94177           0.0           0.0           0.0           0.0           0.0   \n36767           0.0           0.0           0.0           0.0           0.0   \n\n       profit  result  \n94177     0.0     0.0  \n36767  1213.0 -1070.0  \n\n[2 rows x 178 columns]",
      "text/html": "<div>\n<style scoped>\n    .dataframe tbody tr th:only-of-type {\n        vertical-align: middle;\n    }\n\n    .dataframe tbody tr th {\n        vertical-align: top;\n    }\n\n    .dataframe thead th {\n        text-align: right;\n    }\n</style>\n<table border=\"1\" class=\"dataframe\">\n  <thead>\n    <tr style=\"text-align: right;\">\n      <th></th>\n      <th>org_inn</th>\n      <th>name</th>\n      <th>shortname</th>\n      <th>type</th>\n      <th>category</th>\n      <th>region</th>\n      <th>date_addmsp</th>\n      <th>okved</th>\n      <th>status</th>\n      <th>date_open</th>\n      <th>...</th>\n      <th>inv_ind_6323</th>\n      <th>inv_ind_6324</th>\n      <th>inv_ind_6325</th>\n      <th>inv_ind_6326</th>\n      <th>inv_ind_6330</th>\n      <th>inv_ind_6350</th>\n      <th>inv_ind_6300</th>\n      <th>inv_ind_6400</th>\n      <th>profit</th>\n      <th>result</th>\n    </tr>\n  </thead>\n  <tbody>\n    <tr>\n      <th>94177</th>\n      <td>9204573581</td>\n      <td>ОБЩЕСТВО С ОГРАНИЧЕННОЙ ОТВЕТСТВЕННОСТЬЮ \"ГУСТ...</td>\n      <td>ООО \"ГУСТО ГРУПП\"</td>\n      <td>ЮЛ</td>\n      <td>Микропредприятие</td>\n      <td>92</td>\n      <td>2019-10-11</td>\n      <td>56.30</td>\n      <td>Действует</td>\n      <td>2019-10-01</td>\n      <td>...</td>\n      <td>0.0</td>\n      <td>0.0</td>\n      <td>0.0</td>\n      <td>0.0</td>\n      <td>0.0</td>\n      <td>0.0</td>\n      <td>0.0</td>\n      <td>0.0</td>\n      <td>0.0</td>\n      <td>0.0</td>\n    </tr>\n    <tr>\n      <th>36767</th>\n      <td>5505216748</td>\n      <td>ОБЩЕСТВО С ОГРАНИЧЕННОЙ ОТВЕТСТВЕННОСТЬЮ \"БЮРО...</td>\n      <td>ООО \"БДСК\"</td>\n      <td>ЮЛ</td>\n      <td>Микропредприятие</td>\n      <td>55</td>\n      <td>2016-01-08</td>\n      <td>71.1</td>\n      <td>Действует</td>\n      <td>2013-02-26</td>\n      <td>...</td>\n      <td>0.0</td>\n      <td>0.0</td>\n      <td>0.0</td>\n      <td>0.0</td>\n      <td>0.0</td>\n      <td>0.0</td>\n      <td>0.0</td>\n      <td>0.0</td>\n      <td>1213.0</td>\n      <td>-1070.0</td>\n    </tr>\n  </tbody>\n</table>\n<p>2 rows × 178 columns</p>\n</div>"
     },
     "execution_count": 22,
     "metadata": {},
     "output_type": "execute_result"
    }
   ],
   "source": [
    "# Объединяем во временный набор последние записи об организации и записи где организаци вышла в 0 плюс\n",
    "# затем берем ту что была раньше\n",
    "temp = pd.concat([data.sort_values(by=['org_inn', 'year']).groupby('org_inn').last(),\n",
    "           data[data['result'] <= 0].sort_values(by=['org_inn', 'year']).groupby('org_inn').first()]).reset_index()\n",
    "temp = temp.sort_values(by=['org_inn', 'year']).groupby(['org_inn']).first().reset_index()\n",
    "temp.sample(2) #[['inn'] + features]"
   ],
   "metadata": {
    "collapsed": false,
    "pycharm": {
     "name": "#%%\n"
    }
   }
  },
  {
   "cell_type": "code",
   "execution_count": 23,
   "outputs": [
    {
     "data": {
      "text/plain": "          org_inn                                               name  \\\n17414  3444152427  ОБЩЕСТВО С ОГРАНИЧЕННОЙ ОТВЕТСТВЕННОСТЬЮ \"ЭКВИ...   \n86729  7813086286                АКЦИОНЕРНОЕ ОБЩЕСТВО \"РАДИО КАТЮША\"   \n\n               shortname type           category region date_addmsp     okved  \\\n17414      ООО \"ЭКВИТАС\"   ЮЛ   Микропредприятие     34  2016-01-08  62.02      \n86729  АО \"РАДИО КАТЮША\"   ЮЛ  Малое предприятие     78  2018-10-08  60.10      \n\n          status  date_open  ...  inv_ind_6324  inv_ind_6325  inv_ind_6326  \\\n17414  Действует 2007-10-26  ...           0.0           0.0           0.0   \n86729  Действует 1993-08-10  ...           0.0           0.0           0.0   \n\n       inv_ind_6330  inv_ind_6350  inv_ind_6300  inv_ind_6400   profit  \\\n17414           0.0           0.0           0.0           0.0  -3641.0   \n86729           0.0           0.0           0.0           0.0  43906.0   \n\n        result  target  \n17414  22446.0      -1  \n86729  44972.0      -1  \n\n[2 rows x 179 columns]",
      "text/html": "<div>\n<style scoped>\n    .dataframe tbody tr th:only-of-type {\n        vertical-align: middle;\n    }\n\n    .dataframe tbody tr th {\n        vertical-align: top;\n    }\n\n    .dataframe thead th {\n        text-align: right;\n    }\n</style>\n<table border=\"1\" class=\"dataframe\">\n  <thead>\n    <tr style=\"text-align: right;\">\n      <th></th>\n      <th>org_inn</th>\n      <th>name</th>\n      <th>shortname</th>\n      <th>type</th>\n      <th>category</th>\n      <th>region</th>\n      <th>date_addmsp</th>\n      <th>okved</th>\n      <th>status</th>\n      <th>date_open</th>\n      <th>...</th>\n      <th>inv_ind_6324</th>\n      <th>inv_ind_6325</th>\n      <th>inv_ind_6326</th>\n      <th>inv_ind_6330</th>\n      <th>inv_ind_6350</th>\n      <th>inv_ind_6300</th>\n      <th>inv_ind_6400</th>\n      <th>profit</th>\n      <th>result</th>\n      <th>target</th>\n    </tr>\n  </thead>\n  <tbody>\n    <tr>\n      <th>17414</th>\n      <td>3444152427</td>\n      <td>ОБЩЕСТВО С ОГРАНИЧЕННОЙ ОТВЕТСТВЕННОСТЬЮ \"ЭКВИ...</td>\n      <td>ООО \"ЭКВИТАС\"</td>\n      <td>ЮЛ</td>\n      <td>Микропредприятие</td>\n      <td>34</td>\n      <td>2016-01-08</td>\n      <td>62.02</td>\n      <td>Действует</td>\n      <td>2007-10-26</td>\n      <td>...</td>\n      <td>0.0</td>\n      <td>0.0</td>\n      <td>0.0</td>\n      <td>0.0</td>\n      <td>0.0</td>\n      <td>0.0</td>\n      <td>0.0</td>\n      <td>-3641.0</td>\n      <td>22446.0</td>\n      <td>-1</td>\n    </tr>\n    <tr>\n      <th>86729</th>\n      <td>7813086286</td>\n      <td>АКЦИОНЕРНОЕ ОБЩЕСТВО \"РАДИО КАТЮША\"</td>\n      <td>АО \"РАДИО КАТЮША\"</td>\n      <td>ЮЛ</td>\n      <td>Малое предприятие</td>\n      <td>78</td>\n      <td>2018-10-08</td>\n      <td>60.10</td>\n      <td>Действует</td>\n      <td>1993-08-10</td>\n      <td>...</td>\n      <td>0.0</td>\n      <td>0.0</td>\n      <td>0.0</td>\n      <td>0.0</td>\n      <td>0.0</td>\n      <td>0.0</td>\n      <td>0.0</td>\n      <td>43906.0</td>\n      <td>44972.0</td>\n      <td>-1</td>\n    </tr>\n  </tbody>\n</table>\n<p>2 rows × 179 columns</p>\n</div>"
     },
     "execution_count": 23,
     "metadata": {},
     "output_type": "execute_result"
    }
   ],
   "source": [
    "# Формироуем таргет как разницу межу годом выхода в плюс и годом инвестирования или -1 если так и не вашли в плюс\n",
    "temp['target'] = temp.apply(lambda row: -1 if row['result'] > 0 else row['year'] - row['inv_year'], axis=1)\n",
    "temp.sample(2)"
   ],
   "metadata": {
    "collapsed": false,
    "pycharm": {
     "name": "#%%\n"
    }
   }
  },
  {
   "cell_type": "code",
   "execution_count": 24,
   "outputs": [
    {
     "data": {
      "text/plain": "        org_inn     okved  date_open  inv_sum  target region  year  \\\n145  1001266460  23.70.2  2013-01-14   5574.0      -1     10  2020   \n146  1001266566  23.70.2  2013-01-16      1.0      -1     10  2020   \n148  1001268362  71.1     2013-02-22   2110.0       2     10  2015   \n149  1001268370  62.02    2013-02-22    514.0       1     10  2014   \n150  1001268612  62.01    2013-03-05    111.0       1     10  2014   \n\n     first_year  last_year  inv_ind_1110  ...  inv_ind_6321  inv_ind_6322  \\\n145        2013       2020           0.0  ...           0.0           0.0   \n146        2013       2020           0.0  ...           0.0           0.0   \n148        2013       2020           0.0  ...           0.0           0.0   \n149        2013       2020           0.0  ...           0.0           0.0   \n150        2013       2020           0.0  ...           0.0           0.0   \n\n     inv_ind_6323  inv_ind_6324  inv_ind_6325  inv_ind_6326  inv_ind_6330  \\\n145           0.0           0.0           0.0           0.0           0.0   \n146           0.0           0.0           0.0           0.0           0.0   \n148           0.0           0.0           0.0           0.0           0.0   \n149           0.0           0.0           0.0           0.0           0.0   \n150           0.0           0.0           0.0           0.0           0.0   \n\n     inv_ind_6350  inv_ind_6300  inv_ind_6400  \n145           0.0           0.0           0.0  \n146           0.0           0.0           0.0  \n148           0.0           0.0           0.0  \n149           0.0           0.0           0.0  \n150           0.0           0.0           0.0  \n\n[5 rows x 89 columns]",
      "text/html": "<div>\n<style scoped>\n    .dataframe tbody tr th:only-of-type {\n        vertical-align: middle;\n    }\n\n    .dataframe tbody tr th {\n        vertical-align: top;\n    }\n\n    .dataframe thead th {\n        text-align: right;\n    }\n</style>\n<table border=\"1\" class=\"dataframe\">\n  <thead>\n    <tr style=\"text-align: right;\">\n      <th></th>\n      <th>org_inn</th>\n      <th>okved</th>\n      <th>date_open</th>\n      <th>inv_sum</th>\n      <th>target</th>\n      <th>region</th>\n      <th>year</th>\n      <th>first_year</th>\n      <th>last_year</th>\n      <th>inv_ind_1110</th>\n      <th>...</th>\n      <th>inv_ind_6321</th>\n      <th>inv_ind_6322</th>\n      <th>inv_ind_6323</th>\n      <th>inv_ind_6324</th>\n      <th>inv_ind_6325</th>\n      <th>inv_ind_6326</th>\n      <th>inv_ind_6330</th>\n      <th>inv_ind_6350</th>\n      <th>inv_ind_6300</th>\n      <th>inv_ind_6400</th>\n    </tr>\n  </thead>\n  <tbody>\n    <tr>\n      <th>145</th>\n      <td>1001266460</td>\n      <td>23.70.2</td>\n      <td>2013-01-14</td>\n      <td>5574.0</td>\n      <td>-1</td>\n      <td>10</td>\n      <td>2020</td>\n      <td>2013</td>\n      <td>2020</td>\n      <td>0.0</td>\n      <td>...</td>\n      <td>0.0</td>\n      <td>0.0</td>\n      <td>0.0</td>\n      <td>0.0</td>\n      <td>0.0</td>\n      <td>0.0</td>\n      <td>0.0</td>\n      <td>0.0</td>\n      <td>0.0</td>\n      <td>0.0</td>\n    </tr>\n    <tr>\n      <th>146</th>\n      <td>1001266566</td>\n      <td>23.70.2</td>\n      <td>2013-01-16</td>\n      <td>1.0</td>\n      <td>-1</td>\n      <td>10</td>\n      <td>2020</td>\n      <td>2013</td>\n      <td>2020</td>\n      <td>0.0</td>\n      <td>...</td>\n      <td>0.0</td>\n      <td>0.0</td>\n      <td>0.0</td>\n      <td>0.0</td>\n      <td>0.0</td>\n      <td>0.0</td>\n      <td>0.0</td>\n      <td>0.0</td>\n      <td>0.0</td>\n      <td>0.0</td>\n    </tr>\n    <tr>\n      <th>148</th>\n      <td>1001268362</td>\n      <td>71.1</td>\n      <td>2013-02-22</td>\n      <td>2110.0</td>\n      <td>2</td>\n      <td>10</td>\n      <td>2015</td>\n      <td>2013</td>\n      <td>2020</td>\n      <td>0.0</td>\n      <td>...</td>\n      <td>0.0</td>\n      <td>0.0</td>\n      <td>0.0</td>\n      <td>0.0</td>\n      <td>0.0</td>\n      <td>0.0</td>\n      <td>0.0</td>\n      <td>0.0</td>\n      <td>0.0</td>\n      <td>0.0</td>\n    </tr>\n    <tr>\n      <th>149</th>\n      <td>1001268370</td>\n      <td>62.02</td>\n      <td>2013-02-22</td>\n      <td>514.0</td>\n      <td>1</td>\n      <td>10</td>\n      <td>2014</td>\n      <td>2013</td>\n      <td>2020</td>\n      <td>0.0</td>\n      <td>...</td>\n      <td>0.0</td>\n      <td>0.0</td>\n      <td>0.0</td>\n      <td>0.0</td>\n      <td>0.0</td>\n      <td>0.0</td>\n      <td>0.0</td>\n      <td>0.0</td>\n      <td>0.0</td>\n      <td>0.0</td>\n    </tr>\n    <tr>\n      <th>150</th>\n      <td>1001268612</td>\n      <td>62.01</td>\n      <td>2013-03-05</td>\n      <td>111.0</td>\n      <td>1</td>\n      <td>10</td>\n      <td>2014</td>\n      <td>2013</td>\n      <td>2020</td>\n      <td>0.0</td>\n      <td>...</td>\n      <td>0.0</td>\n      <td>0.0</td>\n      <td>0.0</td>\n      <td>0.0</td>\n      <td>0.0</td>\n      <td>0.0</td>\n      <td>0.0</td>\n      <td>0.0</td>\n      <td>0.0</td>\n      <td>0.0</td>\n    </tr>\n  </tbody>\n</table>\n<p>5 rows × 89 columns</p>\n</div>"
     },
     "execution_count": 24,
     "metadata": {},
     "output_type": "execute_result"
    }
   ],
   "source": [
    "# В рабочий набор берем только  организации где год отчетности равен году открытия\n",
    "work_df = temp.loc[temp['date_open'].dt.year == temp['first_year'], ['org_inn', 'okved', 'date_open', 'inv_sum', 'target', 'region', 'year', 'first_year', 'last_year'] + ['inv_' + x for x in additional_features]]\n",
    "work_df.head()"
   ],
   "metadata": {
    "collapsed": false,
    "pycharm": {
     "name": "#%%\n"
    }
   }
  },
  {
   "cell_type": "markdown",
   "source": [
    "### EDA"
   ],
   "metadata": {
    "collapsed": false,
    "pycharm": {
     "name": "#%% md\n"
    }
   }
  },
  {
   "cell_type": "code",
   "execution_count": 25,
   "outputs": [
    {
     "name": "stdout",
     "output_type": "stream",
     "text": [
      "--------------------------------------------------------------------------------\n",
      "Название: org_inn\n",
      "Тип данных: <class 'numpy.object_'>\n",
      "Количество значений: 28041\n",
      "Количество уникальных значений: 28041\n",
      "Количество пропусков: 0\n",
      "Процент пропусков: 0.0%\n",
      "Общие статистики:\n",
      "count          28041\n",
      "unique         28041\n",
      "top       1001266460\n",
      "freq               1\n",
      "Name: org_inn, dtype: object\n",
      "Топ 10 уникальных значений:\n",
      "1001266460    1\n",
      "7718297953    1\n",
      "7718303406    1\n",
      "7718302963    1\n",
      "7718302924    1\n",
      "7718301487    1\n",
      "7718301208    1\n",
      "7718300275    1\n",
      "7718299862    1\n",
      "7718299439    1\n",
      "Name: org_inn, dtype: int64\n",
      "--------------------------------------------------------------------------------\n",
      "--------------------------------------------------------------------------------\n",
      "Название: okved\n",
      "Тип данных: <class 'numpy.object_'>\n",
      "Количество значений: 28041\n",
      "Количество уникальных значений: 66\n",
      "Количество пропусков: 0\n",
      "Процент пропусков: 0.0%\n",
      "Общие статистики:\n",
      "count        28041\n",
      "unique          66\n",
      "top       62.01   \n",
      "freq          7157\n",
      "Name: okved, dtype: object\n",
      "Топ 10 уникальных значений:\n",
      "62.01       7157\n",
      "71.1        2821\n",
      "62.09       2155\n",
      "71.20       1773\n",
      "56.10.1     1548\n",
      "62.02       1494\n",
      "63.11       1202\n",
      "61.10       1179\n",
      "56.30        998\n",
      "59.11        908\n",
      "Name: okved, dtype: int64\n",
      "--------------------------------------------------------------------------------\n",
      "--------------------------------------------------------------------------------\n",
      "Название: date_open\n",
      "Тип данных: <class 'numpy.datetime64'>\n",
      "Количество значений: 28041\n",
      "Количество уникальных значений: 1751\n",
      "Количество пропусков: 0\n",
      "Процент пропусков: 0.0%\n",
      "Общие статистики:\n",
      "count                   28041\n",
      "unique                   1751\n",
      "top       2018-11-15 00:00:00\n",
      "freq                       48\n",
      "first     2012-01-10 00:00:00\n",
      "last      2019-12-17 00:00:00\n",
      "Name: date_open, dtype: object\n",
      "Топ 10 уникальных значений:\n",
      "2018-11-15    48\n",
      "2015-03-05    43\n",
      "2017-03-24    43\n",
      "2018-04-17    41\n",
      "2018-03-27    41\n",
      "2015-04-29    40\n",
      "2016-01-11    38\n",
      "2017-04-27    38\n",
      "2016-02-15    37\n",
      "2017-06-05    37\n",
      "Name: date_open, dtype: int64\n",
      "--------------------------------------------------------------------------------\n",
      "--------------------------------------------------------------------------------\n",
      "Название: inv_sum\n",
      "Тип данных: <class 'numpy.float64'>\n",
      "Количество значений: 28041\n",
      "Количество уникальных значений: 6359\n",
      "Количество пропусков: 0\n",
      "Процент пропусков: 0.0%\n",
      "Общие статистики:\n",
      "count       28041.00\n",
      "mean        19245.93\n",
      "std       2496869.60\n",
      "min         -2048.00\n",
      "25%            10.00\n",
      "50%           173.00\n",
      "75%          1192.00\n",
      "max     418000179.00\n",
      "Name: inv_sum, dtype: float64\n",
      "Топ 10 уникальных значений:\n",
      "10.00    3704\n",
      "Name: inv_sum, dtype: int64\n",
      "--------------------------------------------------------------------------------\n",
      "--------------------------------------------------------------------------------\n",
      "Название: target\n",
      "Тип данных: <class 'numpy.int64'>\n",
      "Количество значений: 28041\n",
      "Количество уникальных значений: 11\n",
      "Количество пропусков: 0\n",
      "Процент пропусков: 0.0%\n",
      "Общие статистики:\n",
      "count   28041.00\n",
      "mean        1.02\n",
      "std         1.87\n",
      "min        -1.00\n",
      "25%        -1.00\n",
      "50%         1.00\n",
      "75%         2.00\n",
      "max         9.00\n",
      "Name: target, dtype: float64\n",
      "Топ 10 уникальных значений:\n",
      "-1    8740\n",
      " 1    7089\n",
      " 2    4497\n",
      " 0    2486\n",
      " 3    2345\n",
      " 4    1345\n",
      " 5     794\n",
      " 6     472\n",
      " 7     217\n",
      " 8      53\n",
      "Name: target, dtype: int64\n",
      "--------------------------------------------------------------------------------\n",
      "--------------------------------------------------------------------------------\n",
      "Название: region\n",
      "Тип данных: <class 'numpy.object_'>\n",
      "Количество значений: 28041\n",
      "Количество уникальных значений: 82\n",
      "Количество пропусков: 0\n",
      "Процент пропусков: 0.0%\n",
      "Общие статистики:\n",
      "count     28041\n",
      "unique       82\n",
      "top          77\n",
      "freq       8376\n",
      "Name: region, dtype: object\n",
      "Топ 10 уникальных значений:\n",
      "77    8376\n",
      "78    2763\n",
      "50    1214\n",
      "66     991\n",
      "54     911\n",
      "16     815\n",
      "23     812\n",
      "63     587\n",
      "61     538\n",
      "24     469\n",
      "Name: region, dtype: int64\n",
      "--------------------------------------------------------------------------------\n",
      "--------------------------------------------------------------------------------\n",
      "Название: year\n",
      "Тип данных: <class 'numpy.int64'>\n",
      "Количество значений: 28041\n",
      "Количество уникальных значений: 10\n",
      "Количество пропусков: 0\n",
      "Процент пропусков: 0.0%\n",
      "Общие статистики:\n",
      "count   28041.00\n",
      "mean     2018.35\n",
      "std         2.05\n",
      "min      2012.00\n",
      "25%      2017.00\n",
      "50%      2019.00\n",
      "75%      2020.00\n",
      "max      2021.00\n",
      "Name: year, dtype: float64\n",
      "Топ 10 уникальных значений:\n",
      "2020    9675\n",
      "2019    6528\n",
      "2017    2844\n",
      "2016    2541\n",
      "2015    1945\n",
      "2021    1642\n",
      "2014    1294\n",
      "2018    1182\n",
      "2013     385\n",
      "2012       5\n",
      "Name: year, dtype: int64\n",
      "--------------------------------------------------------------------------------\n",
      "--------------------------------------------------------------------------------\n",
      "Название: first_year\n",
      "Тип данных: <class 'numpy.int64'>\n",
      "Количество значений: 28041\n",
      "Количество уникальных значений: 8\n",
      "Количество пропусков: 0\n",
      "Процент пропусков: 0.0%\n",
      "Общие статистики:\n",
      "count   28041.00\n",
      "mean     2015.68\n",
      "std         1.77\n",
      "min      2012.00\n",
      "25%      2014.00\n",
      "50%      2016.00\n",
      "75%      2017.00\n",
      "max      2019.00\n",
      "Name: first_year, dtype: float64\n",
      "Топ 10 уникальных значений:\n",
      "2018    5966\n",
      "2015    4850\n",
      "2016    4758\n",
      "2017    4596\n",
      "2014    3856\n",
      "2013    3140\n",
      "2012     863\n",
      "2019      12\n",
      "Name: first_year, dtype: int64\n",
      "--------------------------------------------------------------------------------\n",
      "--------------------------------------------------------------------------------\n",
      "Название: last_year\n",
      "Тип данных: <class 'numpy.int64'>\n",
      "Количество значений: 28041\n",
      "Количество уникальных значений: 7\n",
      "Количество пропусков: 0\n",
      "Процент пропусков: 0.0%\n",
      "Общие статистики:\n",
      "count   28041.00\n",
      "mean     2020.08\n",
      "std         0.42\n",
      "min      2015.00\n",
      "25%      2020.00\n",
      "50%      2020.00\n",
      "75%      2020.00\n",
      "max      2021.00\n",
      "Name: last_year, dtype: float64\n",
      "Топ 10 уникальных значений:\n",
      "2020    23524\n",
      "2021     3427\n",
      "2019      980\n",
      "2018       93\n",
      "2017        9\n",
      "2016        6\n",
      "2015        2\n",
      "Name: last_year, dtype: int64\n",
      "--------------------------------------------------------------------------------\n",
      "--------------------------------------------------------------------------------\n",
      "Название: inv_ind_1110\n",
      "Тип данных: <class 'numpy.float64'>\n",
      "Количество значений: 28041\n",
      "Количество уникальных значений: 322\n",
      "Количество пропусков: 0\n",
      "Процент пропусков: 0.0%\n",
      "Общие статистики:\n",
      "count       28041.00\n",
      "mean        15104.34\n",
      "std       2496231.65\n",
      "min             0.00\n",
      "25%             0.00\n",
      "50%             0.00\n",
      "75%             0.00\n",
      "max     418000000.00\n",
      "Name: inv_ind_1110, dtype: float64\n",
      "Топ 10 уникальных значений:\n",
      "0.00     27587\n",
      "10.00       15\n",
      "Name: inv_ind_1110, dtype: int64\n",
      "--------------------------------------------------------------------------------\n",
      "--------------------------------------------------------------------------------\n",
      "Название: inv_ind_1120\n",
      "Тип данных: <class 'numpy.float64'>\n",
      "Количество значений: 28041\n",
      "Количество уникальных значений: 34\n",
      "Количество пропусков: 0\n",
      "Процент пропусков: 0.0%\n",
      "Общие статистики:\n",
      "count   28041.00\n",
      "mean        5.59\n",
      "std       314.63\n",
      "min         0.00\n",
      "25%         0.00\n",
      "50%         0.00\n",
      "75%         0.00\n",
      "max     37232.00\n",
      "Name: inv_ind_1120, dtype: float64\n",
      "Топ 10 уникальных значений:\n",
      "0.00        28008\n",
      "1084.00         1\n",
      "4191.00         1\n",
      "15275.00        1\n",
      "4290.00         1\n",
      "211.00          1\n",
      "6.00            1\n",
      "11130.00        1\n",
      "15844.00        1\n",
      "10.00           1\n",
      "Name: inv_ind_1120, dtype: int64\n",
      "--------------------------------------------------------------------------------\n",
      "--------------------------------------------------------------------------------\n",
      "Название: inv_ind_1130\n",
      "Тип данных: <class 'numpy.float64'>\n",
      "Количество значений: 28041\n",
      "Количество уникальных значений: 7\n",
      "Количество пропусков: 0\n",
      "Процент пропусков: 0.0%\n",
      "Общие статистики:\n",
      "count   28041.00\n",
      "mean        2.05\n",
      "std       333.99\n",
      "min         0.00\n",
      "25%         0.00\n",
      "50%         0.00\n",
      "75%         0.00\n",
      "max     55913.00\n",
      "Name: inv_ind_1130, dtype: float64\n",
      "Топ 10 уникальных значений:\n",
      "0.00        28035\n",
      "55913.00        1\n",
      "100.00          1\n",
      "53.00           1\n",
      "1329.00         1\n",
      "5.00            1\n",
      "10.00           1\n",
      "Name: inv_ind_1130, dtype: int64\n",
      "--------------------------------------------------------------------------------\n",
      "--------------------------------------------------------------------------------\n",
      "Название: inv_ind_1140\n",
      "Тип данных: <class 'numpy.float64'>\n",
      "Количество значений: 28041\n",
      "Количество уникальных значений: 4\n",
      "Количество пропусков: 0\n",
      "Процент пропусков: 0.0%\n",
      "Общие статистики:\n",
      "count   28041.00\n",
      "mean        0.01\n",
      "std         0.75\n",
      "min         0.00\n",
      "25%         0.00\n",
      "50%         0.00\n",
      "75%         0.00\n",
      "max       125.00\n",
      "Name: inv_ind_1140, dtype: float64\n",
      "Топ 10 уникальных значений:\n",
      "0.00     28036\n",
      "10.00        3\n",
      "Name: inv_ind_1140, dtype: int64\n",
      "--------------------------------------------------------------------------------\n",
      "--------------------------------------------------------------------------------\n",
      "Название: inv_ind_1150\n",
      "Тип данных: <class 'numpy.float64'>\n",
      "Количество значений: 28041\n",
      "Количество уникальных значений: 1733\n",
      "Количество пропусков: 0\n"
     ]
    },
    {
     "name": "stderr",
     "output_type": "stream",
     "text": [
      "<ipython-input-3-bd5e1109b624>:84: FutureWarning: Treating datetime data as categorical rather than numeric in `.describe` is deprecated and will be removed in a future version of pandas. Specify `datetime_is_numeric=True` to silence this warning and adopt the future behavior now.\n",
      "  print(s.describe())\n"
     ]
    },
    {
     "name": "stdout",
     "output_type": "stream",
     "text": [
      "Процент пропусков: 0.0%\n",
      "Общие статистики:\n",
      "count    28041.00\n",
      "mean       406.54\n",
      "std       7383.15\n",
      "min       -208.00\n",
      "25%          0.00\n",
      "50%          0.00\n",
      "75%          0.00\n",
      "max     960485.00\n",
      "Name: inv_ind_1150, dtype: float64\n",
      "Топ 10 уникальных значений:\n",
      "0.00     24071\n",
      "10.00      167\n",
      "Name: inv_ind_1150, dtype: int64\n",
      "--------------------------------------------------------------------------------\n",
      "--------------------------------------------------------------------------------\n",
      "Название: inv_ind_1160\n",
      "Тип данных: <class 'numpy.float64'>\n",
      "Количество значений: 28041\n",
      "Количество уникальных значений: 23\n",
      "Количество пропусков: 0\n",
      "Процент пропусков: 0.0%\n",
      "Общие статистики:\n",
      "count    28041.00\n",
      "mean        13.07\n",
      "std       1329.78\n",
      "min          0.00\n",
      "25%          0.00\n",
      "50%          0.00\n",
      "75%          0.00\n",
      "max     215301.00\n",
      "Name: inv_ind_1160, dtype: float64\n",
      "Топ 10 уникальных значений:\n",
      "Ошибка: 10\n",
      "--------------------------------------------------------------------------------\n",
      "--------------------------------------------------------------------------------\n",
      "Название: inv_ind_1170\n",
      "Тип данных: <class 'numpy.float64'>\n",
      "Количество значений: 28041\n",
      "Количество уникальных значений: 622\n",
      "Количество пропусков: 0\n",
      "Процент пропусков: 0.0%\n",
      "Общие статистики:\n",
      "count     28041.00\n",
      "mean        467.36\n",
      "std       33492.82\n",
      "min        -419.00\n",
      "25%           0.00\n",
      "50%           0.00\n",
      "75%           0.00\n",
      "max     5264741.00\n",
      "Name: inv_ind_1170, dtype: float64\n",
      "Топ 10 уникальных значений:\n",
      "0.00     26688\n",
      "10.00       77\n",
      "Name: inv_ind_1170, dtype: int64\n",
      "--------------------------------------------------------------------------------\n",
      "--------------------------------------------------------------------------------\n",
      "Название: inv_ind_1180\n",
      "Тип данных: <class 'numpy.float64'>\n",
      "Количество значений: 28041\n",
      "Количество уникальных значений: 281\n",
      "Количество пропусков: 0\n",
      "Процент пропусков: 0.0%\n",
      "Общие статистики:\n",
      "count    28041.00\n",
      "mean        47.30\n",
      "std       3923.13\n",
      "min       -541.00\n",
      "25%          0.00\n",
      "50%          0.00\n",
      "75%          0.00\n",
      "max     590226.00\n",
      "Name: inv_ind_1180, dtype: float64\n",
      "Топ 10 уникальных значений:\n",
      "0.00     27554\n",
      "1.00        38\n",
      "2.00        24\n",
      "3.00        16\n",
      "4.00        13\n",
      "5.00        10\n",
      "6.00         7\n",
      "33.00        7\n",
      "14.00        7\n",
      "17.00        6\n",
      "21.00        6\n",
      "11.00        6\n",
      "8.00         6\n",
      "10.00        5\n",
      "Name: inv_ind_1180, dtype: int64\n",
      "--------------------------------------------------------------------------------\n",
      "--------------------------------------------------------------------------------\n",
      "Название: inv_ind_1190\n",
      "Тип данных: <class 'numpy.float64'>\n",
      "Количество значений: 28041\n",
      "Количество уникальных значений: 168\n",
      "Количество пропусков: 0\n",
      "Процент пропусков: 0.0%\n",
      "Общие статистики:\n",
      "count    28041.00\n",
      "mean        21.37\n",
      "std       1418.33\n",
      "min          0.00\n",
      "25%          0.00\n",
      "50%          0.00\n",
      "75%          0.00\n",
      "max     166320.00\n",
      "Name: inv_ind_1190, dtype: float64\n",
      "Топ 10 уникальных значений:\n",
      "0.00     27774\n",
      "10.00       35\n",
      "Name: inv_ind_1190, dtype: int64\n",
      "--------------------------------------------------------------------------------\n",
      "--------------------------------------------------------------------------------\n",
      "Название: inv_ind_1100\n",
      "Тип данных: <class 'numpy.float64'>\n",
      "Количество значений: 28041\n",
      "Количество уникальных значений: 1851\n",
      "Количество пропусков: 0\n",
      "Процент пропусков: 0.0%\n",
      "Общие статистики:\n",
      "count       28041.00\n",
      "mean        15877.08\n",
      "std       2496457.46\n",
      "min          -419.00\n",
      "25%             0.00\n",
      "50%             0.00\n",
      "75%             0.00\n",
      "max     418000000.00\n",
      "Name: inv_ind_1100, dtype: float64\n",
      "Топ 10 уникальных значений:\n",
      "0.00     23482\n",
      "10.00      253\n",
      "Name: inv_ind_1100, dtype: int64\n",
      "--------------------------------------------------------------------------------\n",
      "--------------------------------------------------------------------------------\n",
      "Название: inv_ind_1210\n",
      "Тип данных: <class 'numpy.float64'>\n",
      "Количество значений: 28041\n",
      "Количество уникальных значений: 2176\n",
      "Количество пропусков: 0\n",
      "Процент пропусков: 0.0%\n",
      "Общие статистики:\n",
      "count    28041.00\n",
      "mean       443.19\n",
      "std       5193.79\n",
      "min       -386.00\n",
      "25%          0.00\n",
      "50%          0.00\n",
      "75%         11.00\n",
      "max     389505.00\n",
      "Name: inv_ind_1210, dtype: float64\n",
      "Топ 10 уникальных значений:\n",
      "0.00     18598\n",
      "10.00     1097\n",
      "Name: inv_ind_1210, dtype: int64\n",
      "--------------------------------------------------------------------------------\n",
      "--------------------------------------------------------------------------------\n",
      "Название: inv_ind_1220\n",
      "Тип данных: <class 'numpy.float64'>\n",
      "Количество значений: 28041\n",
      "Количество уникальных значений: 331\n",
      "Количество пропусков: 0\n",
      "Процент пропусков: 0.0%\n",
      "Общие статистики:\n",
      "count   28041.00\n",
      "mean       17.72\n",
      "std       569.02\n",
      "min      -125.00\n",
      "25%         0.00\n",
      "50%         0.00\n",
      "75%         0.00\n",
      "max     57277.00\n",
      "Name: inv_ind_1220, dtype: float64\n",
      "Топ 10 уникальных значений:\n",
      "0.00     27253\n",
      "1.00        65\n",
      "3.00        29\n",
      "2.00        29\n",
      "8.00        23\n",
      "4.00        21\n",
      "12.00       17\n",
      "7.00        16\n",
      "6.00        15\n",
      "5.00        14\n",
      "9.00        14\n",
      "10.00       10\n",
      "Name: inv_ind_1220, dtype: int64\n",
      "--------------------------------------------------------------------------------\n",
      "--------------------------------------------------------------------------------\n",
      "Название: inv_ind_1230\n",
      "Тип данных: <class 'numpy.float64'>\n",
      "Количество значений: 28041\n",
      "Количество уникальных значений: 4409\n",
      "Количество пропусков: 0\n",
      "Процент пропусков: 0.0%\n",
      "Общие статистики:\n",
      "count     28041.00\n",
      "mean       1818.25\n",
      "std       22343.11\n",
      "min      -11400.00\n",
      "25%           0.00\n",
      "50%          28.00\n",
      "75%         385.00\n",
      "max     3204439.00\n",
      "Name: inv_ind_1230, dtype: float64\n",
      "Топ 10 уникальных значений:\n",
      "0.00     8664\n",
      "10.00    1819\n",
      "Name: inv_ind_1230, dtype: int64\n",
      "--------------------------------------------------------------------------------\n",
      "--------------------------------------------------------------------------------\n",
      "Название: inv_ind_1240\n",
      "Тип данных: <class 'numpy.float64'>\n",
      "Количество значений: 28041\n",
      "Количество уникальных значений: 427\n",
      "Количество пропусков: 0\n",
      "Процент пропусков: 0.0%\n",
      "Общие статистики:\n",
      "count    28041.00\n",
      "mean       223.82\n",
      "std       7059.55\n",
      "min       -875.00\n",
      "25%          0.00\n",
      "50%          0.00\n",
      "75%          0.00\n",
      "max     897000.00\n",
      "Name: inv_ind_1240, dtype: float64\n",
      "Топ 10 уникальных значений:\n",
      "0.00     27454\n",
      "10.00       14\n",
      "Name: inv_ind_1240, dtype: int64\n",
      "--------------------------------------------------------------------------------\n",
      "--------------------------------------------------------------------------------\n",
      "Название: inv_ind_1250\n",
      "Тип данных: <class 'numpy.float64'>\n",
      "Количество значений: 28041\n",
      "Количество уникальных значений: 3049\n",
      "Количество пропусков: 0\n",
      "Процент пропусков: 0.0%\n",
      "Общие статистики:\n",
      "count    28041.00\n",
      "mean       641.89\n",
      "std       5188.28\n",
      "min      -5552.00\n",
      "25%          2.00\n",
      "50%         23.00\n",
      "75%        184.00\n",
      "max     419422.00\n",
      "Name: inv_ind_1250, dtype: float64\n",
      "Топ 10 уникальных значений:\n",
      "0.00     6040\n",
      "10.00    1677\n",
      "Name: inv_ind_1250, dtype: int64\n",
      "--------------------------------------------------------------------------------\n",
      "--------------------------------------------------------------------------------\n",
      "Название: inv_ind_1260\n",
      "Тип данных: <class 'numpy.float64'>\n",
      "Количество значений: 28041\n",
      "Количество уникальных значений: 534\n",
      "Количество пропусков: 0\n",
      "Процент пропусков: 0.0%\n",
      "Общие статистики:\n",
      "count    28041.00\n",
      "mean        48.04\n",
      "std       1744.79\n",
      "min       -303.00\n",
      "25%          0.00\n",
      "50%          0.00\n",
      "75%          0.00\n",
      "max     219402.00\n",
      "Name: inv_ind_1260, dtype: float64\n",
      "Топ 10 уникальных значений:\n",
      "0.00     26085\n",
      "10.00      149\n",
      "Name: inv_ind_1260, dtype: int64\n",
      "--------------------------------------------------------------------------------\n",
      "--------------------------------------------------------------------------------\n",
      "Название: inv_ind_1200\n",
      "Тип данных: <class 'numpy.float64'>\n",
      "Количество значений: 28041\n",
      "Количество уникальных значений: 5327\n",
      "Количество пропусков: 0\n",
      "Процент пропусков: 0.0%\n",
      "Общие статистики:\n",
      "count     28041.00\n",
      "mean       2749.91\n",
      "std       26196.23\n",
      "min       -2048.00\n",
      "25%           2.00\n",
      "50%          61.00\n",
      "75%         675.00\n",
      "max     3254599.00\n",
      "Name: inv_ind_1200, dtype: float64\n",
      "Топ 10 уникальных значений:\n",
      "0.00     6782\n",
      "10.00    3026\n",
      "Name: inv_ind_1200, dtype: int64\n",
      "--------------------------------------------------------------------------------\n",
      "--------------------------------------------------------------------------------\n",
      "Название: inv_ind_1310\n",
      "Тип данных: <class 'numpy.float64'>\n",
      "Количество значений: 28041\n",
      "Количество уникальных значений: 227\n",
      "Количество пропусков: 0\n",
      "Процент пропусков: 0.0%\n",
      "Общие статистики:\n",
      "count    28041.00\n",
      "mean       106.45\n",
      "std       3344.63\n",
      "min      -1556.00\n",
      "25%          0.00\n",
      "50%          0.00\n",
      "75%         10.00\n",
      "max     330000.00\n",
      "Name: inv_ind_1310, dtype: float64\n",
      "Топ 10 уникальных значений:\n",
      "0.00     19057\n",
      "10.00     6907\n",
      "Name: inv_ind_1310, dtype: int64\n",
      "--------------------------------------------------------------------------------\n",
      "--------------------------------------------------------------------------------\n",
      "Название: inv_ind_1320\n",
      "Тип данных: <class 'numpy.float64'>\n",
      "Количество значений: 28041\n",
      "Количество уникальных значений: 9\n",
      "Количество пропусков: 0\n",
      "Процент пропусков: 0.0%\n",
      "Общие статистики:\n",
      "count   28041.00\n",
      "mean       -0.07\n",
      "std         8.14\n",
      "min     -1253.00\n",
      "25%         0.00\n",
      "50%         0.00\n",
      "75%         0.00\n",
      "max         0.00\n",
      "Name: inv_ind_1320, dtype: float64\n",
      "Топ 10 уникальных значений:\n",
      "Ошибка: 10\n",
      "--------------------------------------------------------------------------------\n",
      "--------------------------------------------------------------------------------\n",
      "Название: inv_ind_1340\n",
      "Тип данных: <class 'numpy.float64'>\n",
      "Количество значений: 28041\n",
      "Количество уникальных значений: 29\n",
      "Количество пропусков: 0\n",
      "Процент пропусков: 0.0%\n",
      "Общие статистики:\n",
      "count     28041.00\n",
      "mean         79.68\n",
      "std       11531.35\n",
      "min           0.00\n",
      "25%           0.00\n",
      "50%           0.00\n",
      "75%           0.00\n",
      "max     1926596.00\n",
      "Name: inv_ind_1340, dtype: float64\n",
      "Топ 10 уникальных значений:\n",
      "0.00        28012\n",
      "2.00            2\n",
      "300.00          1\n",
      "50.00           1\n",
      "41.00           1\n",
      "89.00           1\n",
      "83092.00        1\n",
      "16.00           1\n",
      "113.00          1\n",
      "473.00          1\n",
      "24974.00        1\n",
      "107.00          1\n",
      "64.00           1\n",
      "53.00           1\n",
      "37581.00        1\n",
      "68620.00        1\n",
      "72.00           1\n",
      "10.00           1\n",
      "Name: inv_ind_1340, dtype: int64\n",
      "--------------------------------------------------------------------------------\n",
      "--------------------------------------------------------------------------------\n",
      "Название: inv_ind_1350\n",
      "Тип данных: <class 'numpy.float64'>\n",
      "Количество значений: 28041\n",
      "Количество уникальных значений: 144\n",
      "Количество пропусков: 0\n",
      "Процент пропусков: 0.0%\n",
      "Общие статистики:\n",
      "count       28041.00\n",
      "mean        15067.05\n",
      "std       2496260.48\n",
      "min         -1214.00\n",
      "25%             0.00\n",
      "50%             0.00\n",
      "75%             0.00\n",
      "max     418000000.00\n",
      "Name: inv_ind_1350, dtype: float64\n",
      "Топ 10 уникальных значений:\n",
      "0.00     27877\n",
      "1.00         7\n",
      "10.00        3\n",
      "Name: inv_ind_1350, dtype: int64\n",
      "--------------------------------------------------------------------------------\n",
      "--------------------------------------------------------------------------------\n",
      "Название: inv_ind_1360\n",
      "Тип данных: <class 'numpy.float64'>\n",
      "Количество значений: 28041\n",
      "Количество уникальных значений: 53\n",
      "Количество пропусков: 0\n",
      "Процент пропусков: 0.0%\n",
      "Общие статистики:\n",
      "count   28041.00\n",
      "mean        3.93\n",
      "std       417.54\n",
      "min         0.00\n",
      "25%         0.00\n",
      "50%         0.00\n",
      "75%         0.00\n",
      "max     67571.00\n",
      "Name: inv_ind_1360, dtype: float64\n",
      "Топ 10 уникальных значений:\n",
      "0.00     27935\n",
      "1.00        20\n",
      "2.00         7\n",
      "5.00         7\n",
      "3.00         6\n",
      "10.00        5\n",
      "Name: inv_ind_1360, dtype: int64\n",
      "--------------------------------------------------------------------------------\n",
      "--------------------------------------------------------------------------------\n",
      "Название: inv_ind_1370\n",
      "Тип данных: <class 'numpy.float64'>\n",
      "Количество значений: 28041\n",
      "Количество уникальных значений: 2651\n",
      "Количество пропусков: 0\n",
      "Процент пропусков: 0.0%\n",
      "Общие статистики:\n",
      "count      28041.00\n",
      "mean          86.66\n",
      "std        26170.55\n",
      "min     -3210826.00\n",
      "25%            0.00\n",
      "50%            0.00\n",
      "75%            0.00\n",
      "max       318754.00\n",
      "Name: inv_ind_1370, dtype: float64\n",
      "Топ 10 уникальных значений:\n",
      "0.00      20956\n",
      "1.00        132\n",
      "2.00         81\n",
      "3.00         71\n",
      "-3.00        69\n",
      "4.00         66\n",
      "-10.00       62\n",
      "8.00         56\n",
      "7.00         56\n",
      "5.00         53\n",
      "-4.00        53\n",
      "6.00         52\n",
      "-5.00        50\n",
      "-2.00        49\n",
      "-6.00        48\n",
      "10.00        46\n",
      "Name: inv_ind_1370, dtype: int64\n",
      "--------------------------------------------------------------------------------\n",
      "--------------------------------------------------------------------------------\n",
      "Название: inv_ind_1300\n",
      "Тип данных: <class 'numpy.float64'>\n",
      "Количество значений: 28041\n",
      "Количество уникальных значений: 5155\n",
      "Количество пропусков: 0\n",
      "Процент пропусков: 0.0%\n",
      "Общие статистики:\n",
      "count       28041.00\n",
      "mean        15835.96\n",
      "std       2496313.97\n",
      "min      -2845333.00\n",
      "25%             0.00\n",
      "50%            13.00\n",
      "75%           212.00\n",
      "max     418000149.00\n",
      "Name: inv_ind_1300, dtype: float64\n",
      "Топ 10 уникальных значений:\n",
      "10.00    4570\n",
      "Name: inv_ind_1300, dtype: int64\n",
      "--------------------------------------------------------------------------------\n",
      "--------------------------------------------------------------------------------\n",
      "Название: inv_ind_1410\n",
      "Тип данных: <class 'numpy.float64'>\n",
      "Количество значений: 28041\n",
      "Количество уникальных значений: 1475\n",
      "Количество пропусков: 0\n",
      "Процент пропусков: 0.0%\n",
      "Общие статистики:\n",
      "count     28041.00\n",
      "mean        951.55\n",
      "std       52363.85\n",
      "min       -1431.00\n",
      "25%           0.00\n",
      "50%           0.00\n",
      "75%           0.00\n",
      "max     8418475.00\n",
      "Name: inv_ind_1410, dtype: float64\n",
      "Топ 10 уникальных значений:\n",
      "0.00     24663\n",
      "1.00        69\n",
      "5.00        59\n",
      "10.00       55\n",
      "Name: inv_ind_1410, dtype: int64\n",
      "--------------------------------------------------------------------------------\n",
      "--------------------------------------------------------------------------------\n",
      "Название: inv_ind_1420\n",
      "Тип данных: <class 'numpy.float64'>\n",
      "Количество значений: 28041\n",
      "Количество уникальных значений: 112\n",
      "Количество пропусков: 0\n",
      "Процент пропусков: 0.0%\n",
      "Общие статистики:\n",
      "count   28041.00\n",
      "mean        3.84\n",
      "std       232.80\n",
      "min        -2.00\n",
      "25%         0.00\n",
      "50%         0.00\n",
      "75%         0.00\n",
      "max     31116.00\n",
      "Name: inv_ind_1420, dtype: float64\n",
      "Топ 10 уникальных значений:\n",
      "0.00     27838\n",
      "1.00        15\n",
      "2.00        13\n",
      "3.00         8\n",
      "9.00         7\n",
      "12.00        7\n",
      "11.00        6\n",
      "17.00        5\n",
      "5.00         5\n",
      "19.00        4\n",
      "76.00        4\n",
      "10.00        4\n",
      "Name: inv_ind_1420, dtype: int64\n",
      "--------------------------------------------------------------------------------\n",
      "--------------------------------------------------------------------------------\n",
      "Название: inv_ind_1430\n",
      "Тип данных: <class 'numpy.float64'>\n",
      "Количество значений: 28041\n",
      "Количество уникальных значений: 3\n",
      "Количество пропусков: 0\n",
      "Процент пропусков: 0.0%\n",
      "Общие статистики:\n",
      "count   28041.00\n",
      "mean        0.65\n",
      "std       108.09\n",
      "min         0.00\n",
      "25%         0.00\n",
      "50%         0.00\n",
      "75%         0.00\n",
      "max     18100.00\n",
      "Name: inv_ind_1430, dtype: float64\n",
      "Топ 10 уникальных значений:\n",
      "0.00    28039\n",
      "1.00        1\n",
      "Name: inv_ind_1430, dtype: int64\n",
      "--------------------------------------------------------------------------------\n",
      "--------------------------------------------------------------------------------\n",
      "Название: inv_ind_1450\n",
      "Тип данных: <class 'numpy.float64'>\n",
      "Количество значений: 28041\n",
      "Количество уникальных значений: 131\n",
      "Количество пропусков: 0\n",
      "Процент пропусков: 0.0%\n",
      "Общие статистики:\n",
      "count   28041.00\n",
      "mean       10.89\n",
      "std       518.99\n",
      "min      -131.00\n",
      "25%         0.00\n",
      "50%         0.00\n",
      "75%         0.00\n",
      "max     49065.00\n",
      "Name: inv_ind_1450, dtype: float64\n",
      "Топ 10 уникальных значений:\n",
      "0.00     27849\n",
      "10.00        8\n",
      "Name: inv_ind_1450, dtype: int64\n",
      "--------------------------------------------------------------------------------\n",
      "--------------------------------------------------------------------------------\n",
      "Название: inv_ind_1400\n",
      "Тип данных: <class 'numpy.float64'>\n",
      "Количество значений: 28041\n",
      "Количество уникальных значений: 1240\n",
      "Количество пропусков: 0\n",
      "Процент пропусков: 0.0%\n",
      "Общие статистики:\n",
      "count     28041.00\n",
      "mean        855.98\n",
      "std       52306.24\n",
      "min       -1431.00\n",
      "25%           0.00\n",
      "50%           0.00\n",
      "75%           0.00\n",
      "max     8418475.00\n",
      "Name: inv_ind_1400, dtype: float64\n",
      "Топ 10 уникальных значений:\n",
      "0.00     25267\n",
      "1.00        61\n",
      "10.00       54\n",
      "Name: inv_ind_1400, dtype: int64\n",
      "--------------------------------------------------------------------------------\n",
      "--------------------------------------------------------------------------------\n",
      "Название: inv_ind_1510\n",
      "Тип данных: <class 'numpy.float64'>\n",
      "Количество значений: 28041\n",
      "Количество уникальных значений: 2010\n",
      "Количество пропусков: 0\n",
      "Процент пропусков: 0.0%\n",
      "Общие статистики:\n",
      "count     28041.00\n",
      "mean        611.59\n",
      "std       23964.01\n",
      "min      -11289.15\n",
      "25%           0.00\n",
      "50%           0.00\n",
      "75%           5.00\n",
      "max     3907585.00\n",
      "Name: inv_ind_1510, dtype: float64\n",
      "Топ 10 уникальных значений:\n",
      "0.00     20147\n",
      "1.00       239\n",
      "5.00       218\n",
      "10.00      178\n",
      "Name: inv_ind_1510, dtype: int64\n",
      "--------------------------------------------------------------------------------\n",
      "--------------------------------------------------------------------------------\n",
      "Название: inv_ind_1520\n",
      "Тип данных: <class 'numpy.float64'>\n",
      "Количество значений: 28041\n",
      "Количество уникальных значений: 4430\n",
      "Количество пропусков: 0\n",
      "Процент пропусков: 0.0%\n",
      "Общие статистики:\n",
      "count    28041.00\n",
      "mean      1941.70\n",
      "std      14147.23\n",
      "min      -8816.00\n",
      "25%          0.00\n",
      "50%         29.00\n",
      "75%        379.00\n",
      "max     668236.00\n",
      "Name: inv_ind_1520, dtype: float64\n",
      "Топ 10 уникальных значений:\n",
      "0.00     9684\n",
      "1.00      390\n",
      "2.00      325\n",
      "3.00      289\n",
      "4.00      231\n",
      "5.00      227\n",
      "7.00      207\n",
      "10.00     194\n",
      "Name: inv_ind_1520, dtype: int64\n",
      "--------------------------------------------------------------------------------\n",
      "--------------------------------------------------------------------------------\n",
      "Название: inv_ind_1530\n",
      "Тип данных: <class 'numpy.float64'>\n",
      "Количество значений: 28041\n",
      "Количество уникальных значений: 112\n",
      "Количество пропусков: 0\n",
      "Процент пропусков: 0.0%\n",
      "Общие статистики:\n",
      "count    28041.00\n",
      "mean        20.83\n",
      "std       1111.63\n",
      "min      -2061.00\n",
      "25%          0.00\n",
      "50%          0.00\n",
      "75%          0.00\n",
      "max     144703.00\n",
      "Name: inv_ind_1530, dtype: float64\n",
      "Топ 10 уникальных значений:\n",
      "Ошибка: 10\n",
      "--------------------------------------------------------------------------------\n",
      "--------------------------------------------------------------------------------\n",
      "Название: inv_ind_1540\n",
      "Тип данных: <class 'numpy.float64'>\n",
      "Количество значений: 28041\n",
      "Количество уникальных значений: 155\n",
      "Количество пропусков: 0\n",
      "Процент пропусков: 0.0%\n",
      "Общие статистики:\n",
      "count   28041.00\n",
      "mean        6.15\n",
      "std       233.47\n",
      "min        -7.00\n",
      "25%         0.00\n",
      "50%         0.00\n",
      "75%         0.00\n",
      "max     23513.00\n",
      "Name: inv_ind_1540, dtype: float64\n",
      "Топ 10 уникальных значений:\n",
      "0.00       27865\n",
      "4.00           4\n",
      "1.00           4\n",
      "2.00           4\n",
      "93.00          3\n",
      "           ...  \n",
      "1163.00        1\n",
      "28.00          1\n",
      "217.00         1\n",
      "147.00         1\n",
      "10.00          1\n",
      "Name: inv_ind_1540, Length: 108, dtype: int64\n",
      "--------------------------------------------------------------------------------\n",
      "--------------------------------------------------------------------------------\n",
      "Название: inv_ind_1550\n",
      "Тип данных: <class 'numpy.float64'>\n",
      "Количество значений: 28041\n",
      "Количество уникальных значений: 405\n",
      "Количество пропусков: 0\n",
      "Процент пропусков: 0.0%\n",
      "Общие статистики:\n",
      "count    28041.00\n",
      "mean        40.57\n",
      "std       2524.91\n",
      "min       -430.00\n",
      "25%          0.00\n",
      "50%          0.00\n",
      "75%          0.00\n",
      "max     405650.00\n",
      "Name: inv_ind_1550, dtype: float64\n",
      "Топ 10 уникальных значений:\n",
      "0.00     27214\n",
      "1.00        29\n",
      "10.00       27\n",
      "Name: inv_ind_1550, dtype: int64\n",
      "--------------------------------------------------------------------------------\n",
      "--------------------------------------------------------------------------------\n",
      "Название: inv_ind_1500\n",
      "Тип данных: <class 'numpy.float64'>\n",
      "Количество значений: 28041\n",
      "Количество уникальных значений: 4573\n",
      "Количество пропусков: 0\n",
      "Процент пропусков: 0.0%\n",
      "Общие статистики:\n",
      "count     28041.00\n",
      "mean       2250.76\n",
      "std       27642.04\n",
      "min       -8816.00\n",
      "25%           0.00\n",
      "50%          20.00\n",
      "75%         418.00\n",
      "max     3907603.00\n",
      "Name: inv_ind_1500, dtype: float64\n",
      "Топ 10 уникальных значений:\n",
      "0.00     11502\n",
      "1.00       256\n",
      "2.00       218\n",
      "5.00       192\n",
      "10.00      184\n",
      "Name: inv_ind_1500, dtype: int64\n",
      "--------------------------------------------------------------------------------\n",
      "--------------------------------------------------------------------------------\n",
      "Название: inv_ind_1700\n",
      "Тип данных: <class 'numpy.float64'>\n",
      "Количество значений: 28041\n",
      "Количество уникальных значений: 6360\n",
      "Количество пропусков: 0\n",
      "Процент пропусков: 0.0%\n",
      "Общие статистики:\n",
      "count       28041.00\n",
      "mean        19254.57\n",
      "std       2496869.92\n",
      "min         -2048.00\n",
      "25%            10.00\n",
      "50%           173.00\n",
      "75%          1192.00\n",
      "max     418000179.00\n",
      "Name: inv_ind_1700, dtype: float64\n",
      "Топ 10 уникальных значений:\n",
      "10.00    3712\n",
      "Name: inv_ind_1700, dtype: int64\n",
      "--------------------------------------------------------------------------------\n",
      "--------------------------------------------------------------------------------\n",
      "Название: inv_ind_2110\n",
      "Тип данных: <class 'numpy.float64'>\n",
      "Количество значений: 28041\n",
      "Количество уникальных значений: 6320\n",
      "Количество пропусков: 0\n",
      "Процент пропусков: 0.0%\n",
      "Общие статистики:\n",
      "count     28041.00\n",
      "mean       3551.73\n",
      "std       24897.65\n",
      "min        -171.00\n",
      "25%           0.00\n",
      "50%           0.00\n",
      "75%        1057.00\n",
      "max     1996599.00\n",
      "Name: inv_ind_2110, dtype: float64\n",
      "Топ 10 уникальных значений:\n",
      "0.00     14287\n",
      "10.00       53\n",
      "Name: inv_ind_2110, dtype: int64\n",
      "--------------------------------------------------------------------------------\n",
      "--------------------------------------------------------------------------------\n",
      "Название: inv_ind_2120\n",
      "Тип данных: <class 'numpy.float64'>\n",
      "Количество значений: 28041\n",
      "Количество уникальных значений: 5504\n",
      "Количество пропусков: 0\n",
      "Процент пропусков: 0.0%\n",
      "Общие статистики:\n",
      "count     28041.00\n",
      "mean       2652.33\n",
      "std       21145.04\n",
      "min        -333.00\n",
      "25%           0.00\n",
      "50%           0.00\n",
      "75%         662.00\n",
      "max     1973989.00\n",
      "Name: inv_ind_2120, dtype: float64\n",
      "Топ 10 уникальных значений:\n",
      "0.00     14590\n",
      "1.00        81\n",
      "10.00       75\n",
      "Name: inv_ind_2120, dtype: int64\n",
      "--------------------------------------------------------------------------------\n",
      "--------------------------------------------------------------------------------\n",
      "Название: inv_ind_2100\n",
      "Тип данных: <class 'numpy.float64'>\n",
      "Количество значений: 28041\n",
      "Количество уникальных значений: 4852\n",
      "Количество пропусков: 0\n",
      "Процент пропусков: 0.0%\n",
      "Общие статистики:\n",
      "count     28041.00\n",
      "mean        856.87\n",
      "std        7519.42\n",
      "min     -198841.00\n",
      "25%           0.00\n",
      "50%           0.00\n",
      "75%         128.00\n",
      "max      592929.00\n",
      "Name: inv_ind_2100, dtype: float64\n",
      "Топ 10 уникальных значений:\n",
      "0.00     13411\n",
      "1.00        90\n",
      "10.00       77\n",
      "Name: inv_ind_2100, dtype: int64\n",
      "--------------------------------------------------------------------------------\n",
      "--------------------------------------------------------------------------------\n",
      "Название: inv_ind_2210\n",
      "Тип данных: <class 'numpy.float64'>\n",
      "Количество значений: 28041\n",
      "Количество уникальных значений: 787\n",
      "Количество пропусков: 0\n",
      "Процент пропусков: 0.0%\n",
      "Общие статистики:\n",
      "count   28041.00\n",
      "mean       93.96\n",
      "std      1345.57\n",
      "min         0.00\n",
      "25%         0.00\n",
      "50%         0.00\n",
      "75%         0.00\n",
      "max     88576.00\n",
      "Name: inv_ind_2210, dtype: float64\n",
      "Топ 10 уникальных значений:\n",
      "0.00     26787\n",
      "1.00        21\n",
      "5.00        15\n",
      "3.00        13\n",
      "12.00       12\n",
      "15.00       12\n",
      "6.00        12\n",
      "4.00        11\n",
      "10.00       11\n",
      "Name: inv_ind_2210, dtype: int64\n",
      "--------------------------------------------------------------------------------\n",
      "--------------------------------------------------------------------------------\n",
      "Название: inv_ind_2220\n",
      "Тип данных: <class 'numpy.float64'>\n",
      "Количество значений: 28041\n",
      "Количество уникальных значений: 1766\n",
      "Количество пропусков: 0\n",
      "Процент пропусков: 0.0%\n",
      "Общие статистики:\n",
      "count    28041.00\n",
      "mean       351.06\n",
      "std       3982.72\n",
      "min          0.00\n",
      "25%          0.00\n",
      "50%          0.00\n",
      "75%          0.00\n",
      "max     227739.00\n",
      "Name: inv_ind_2220, dtype: float64\n",
      "Топ 10 уникальных значений:\n",
      "0.00     24744\n",
      "1.00        42\n",
      "3.00        35\n",
      "10.00       31\n",
      "Name: inv_ind_2220, dtype: int64\n",
      "--------------------------------------------------------------------------------\n",
      "--------------------------------------------------------------------------------\n",
      "Название: inv_ind_2200\n",
      "Тип данных: <class 'numpy.float64'>\n",
      "Количество значений: 28041\n",
      "Количество уникальных значений: 4459\n",
      "Количество пропусков: 0\n",
      "Процент пропусков: 0.0%\n",
      "Общие статистики:\n",
      "count     28041.00\n",
      "mean        412.29\n",
      "std        5779.09\n",
      "min     -212667.00\n",
      "25%           0.00\n",
      "50%           0.00\n",
      "75%          68.00\n",
      "max      592929.00\n",
      "Name: inv_ind_2200, dtype: float64\n",
      "Топ 10 уникальных значений:\n",
      "0.00     12853\n",
      "-1.00       98\n",
      "1.00        97\n",
      "5.00        89\n",
      "10.00       81\n",
      "Name: inv_ind_2200, dtype: int64\n",
      "--------------------------------------------------------------------------------\n",
      "--------------------------------------------------------------------------------\n",
      "Название: inv_ind_2310\n",
      "Тип данных: <class 'numpy.float64'>\n",
      "Количество значений: 28041\n",
      "Количество уникальных значений: 8\n",
      "Количество пропусков: 0\n",
      "Процент пропусков: 0.0%\n",
      "Общие статистики:\n",
      "count   28041.00\n",
      "mean        0.31\n",
      "std        35.95\n",
      "min         0.00\n",
      "25%         0.00\n",
      "50%         0.00\n",
      "75%         0.00\n",
      "max      5677.00\n",
      "Name: inv_ind_2310, dtype: float64\n",
      "Топ 10 уникальных значений:\n",
      "Ошибка: 10\n",
      "--------------------------------------------------------------------------------\n",
      "--------------------------------------------------------------------------------\n",
      "Название: inv_ind_2320\n",
      "Тип данных: <class 'numpy.float64'>\n",
      "Количество значений: 28041\n",
      "Количество уникальных значений: 146\n",
      "Количество пропусков: 0\n",
      "Процент пропусков: 0.0%\n",
      "Общие статистики:\n",
      "count   28041.00\n",
      "mean        4.29\n",
      "std       126.88\n",
      "min         0.00\n",
      "25%         0.00\n",
      "50%         0.00\n",
      "75%         0.00\n",
      "max     11194.00\n",
      "Name: inv_ind_2320, dtype: float64\n",
      "Топ 10 уникальных значений:\n",
      "0.00     27766\n",
      "1.00        31\n",
      "2.00        15\n",
      "3.00        13\n",
      "4.00        13\n",
      "5.00         9\n",
      "7.00         9\n",
      "6.00         8\n",
      "8.00         6\n",
      "10.00        6\n",
      "Name: inv_ind_2320, dtype: int64\n",
      "--------------------------------------------------------------------------------\n",
      "--------------------------------------------------------------------------------\n",
      "Название: inv_ind_2330\n",
      "Тип данных: <class 'numpy.float64'>\n",
      "Количество значений: 28041\n",
      "Количество уникальных значений: 322\n",
      "Количество пропусков: 0\n",
      "Процент пропусков: 0.0%\n",
      "Общие статистики:\n",
      "count    28041.00\n",
      "mean        22.89\n",
      "std       1034.43\n",
      "min          0.00\n",
      "25%          0.00\n",
      "50%          0.00\n",
      "75%          0.00\n",
      "max     138477.00\n",
      "Name: inv_ind_2330, dtype: float64\n",
      "Топ 10 уникальных значений:\n",
      "0.00     27211\n",
      "1.00        73\n",
      "2.00        38\n",
      "3.00        32\n",
      "4.00        30\n",
      "5.00        22\n",
      "6.00        21\n",
      "7.00        19\n",
      "8.00        18\n",
      "13.00       14\n",
      "14.00       14\n",
      "9.00        13\n",
      "16.00       11\n",
      "10.00       10\n",
      "Name: inv_ind_2330, dtype: int64\n",
      "--------------------------------------------------------------------------------\n",
      "--------------------------------------------------------------------------------\n",
      "Название: inv_ind_2340\n",
      "Тип данных: <class 'numpy.float64'>\n",
      "Количество значений: 28041\n",
      "Количество уникальных значений: 1017\n",
      "Количество пропусков: 0\n",
      "Процент пропусков: 0.0%\n",
      "Общие статистики:\n",
      "count    28041.00\n",
      "mean       319.66\n",
      "std       7810.77\n",
      "min       -672.00\n",
      "25%          0.00\n",
      "50%          0.00\n",
      "75%          0.00\n",
      "max     638574.00\n",
      "Name: inv_ind_2340, dtype: float64\n",
      "Топ 10 уникальных значений:\n",
      "0.00     24400\n",
      "1.00       394\n",
      "2.00       191\n",
      "3.00       173\n",
      "5.00       127\n",
      "4.00       125\n",
      "6.00        88\n",
      "10.00       83\n",
      "Name: inv_ind_2340, dtype: int64\n",
      "--------------------------------------------------------------------------------\n",
      "--------------------------------------------------------------------------------\n",
      "Название: inv_ind_2350\n",
      "Тип данных: <class 'numpy.float64'>\n",
      "Количество значений: 28041\n",
      "Количество уникальных значений: 1313\n",
      "Количество пропусков: 0\n",
      "Процент пропусков: 0.0%\n",
      "Общие статистики:\n",
      "count    28041.00\n",
      "mean       347.37\n",
      "std       7701.67\n",
      "min         -6.00\n",
      "25%          0.00\n",
      "50%          3.00\n",
      "75%         17.00\n",
      "max     616697.00\n",
      "Name: inv_ind_2350, dtype: float64\n",
      "Топ 10 уникальных значений:\n",
      "0.00     12947\n",
      "5.00       606\n",
      "6.00       593\n",
      "4.00       593\n",
      "3.00       572\n",
      "10.00      568\n",
      "Name: inv_ind_2350, dtype: int64\n",
      "--------------------------------------------------------------------------------\n",
      "--------------------------------------------------------------------------------\n",
      "Название: inv_ind_2300\n",
      "Тип данных: <class 'numpy.float64'>\n",
      "Количество значений: 28041\n",
      "Количество уникальных значений: 4369\n",
      "Количество пропусков: 0\n",
      "Процент пропусков: 0.0%\n",
      "Общие статистики:\n",
      "count     28041.00\n",
      "mean        373.90\n",
      "std        5389.48\n",
      "min     -108301.00\n",
      "25%           0.00\n",
      "50%           0.00\n",
      "75%          55.00\n",
      "max      536624.00\n",
      "Name: inv_ind_2300, dtype: float64\n",
      "Топ 10 уникальных значений:\n",
      "0.00      11789\n",
      "-4.00       162\n",
      "-10.00      157\n",
      "-3.00       157\n",
      "1.00        156\n",
      "-2.00       152\n",
      "-6.00       142\n",
      "-1.00       141\n",
      "-5.00       134\n",
      "2.00        121\n",
      "-7.00       116\n",
      "4.00        111\n",
      "-8.00       108\n",
      "3.00        105\n",
      "-9.00        97\n",
      "5.00         97\n",
      "9.00         87\n",
      "-11.00       85\n",
      "6.00         85\n",
      "-12.00       81\n",
      "8.00         76\n",
      "10.00        76\n",
      "Name: inv_ind_2300, dtype: int64\n",
      "--------------------------------------------------------------------------------\n",
      "--------------------------------------------------------------------------------\n",
      "Название: inv_ind_2410\n",
      "Тип данных: <class 'numpy.float64'>\n",
      "Количество значений: 28041\n",
      "Количество уникальных значений: 978\n",
      "Количество пропусков: 0\n",
      "Процент пропусков: 0.0%\n",
      "Общие статистики:\n",
      "count   28041.00\n",
      "mean       59.43\n",
      "std       686.60\n",
      "min     -3082.00\n",
      "25%         0.00\n",
      "50%         0.00\n",
      "75%         7.00\n",
      "max     75818.00\n",
      "Name: inv_ind_2410, dtype: float64\n",
      "Топ 10 уникальных значений:\n",
      "0.00     18689\n",
      "1.00       607\n",
      "2.00       429\n",
      "3.00       348\n",
      "4.00       288\n",
      "6.00       274\n",
      "5.00       241\n",
      "7.00       214\n",
      "8.00       211\n",
      "9.00       209\n",
      "11.00      170\n",
      "10.00      162\n",
      "Name: inv_ind_2410, dtype: int64\n",
      "--------------------------------------------------------------------------------\n",
      "--------------------------------------------------------------------------------\n",
      "Название: inv_ind_2460\n",
      "Тип данных: <class 'numpy.float64'>\n",
      "Количество значений: 28041\n",
      "Количество уникальных значений: 466\n",
      "Количество пропусков: 0\n",
      "Процент пропусков: 0.0%\n",
      "Общие статистики:\n",
      "count    28041.00\n",
      "mean         2.01\n",
      "std        126.60\n",
      "min     -13042.00\n",
      "25%          0.00\n",
      "50%          0.00\n",
      "75%          0.00\n",
      "max       5530.00\n",
      "Name: inv_ind_2460, dtype: float64\n",
      "Топ 10 уникальных значений:\n",
      "0.00     26551\n",
      "1.00        78\n",
      "2.00        53\n",
      "3.00        43\n",
      "-1.00       32\n",
      "5.00        32\n",
      "7.00        29\n",
      "10.00       24\n",
      "Name: inv_ind_2460, dtype: int64\n",
      "--------------------------------------------------------------------------------\n",
      "--------------------------------------------------------------------------------\n",
      "Название: inv_ind_2400\n",
      "Тип данных: <class 'numpy.float64'>\n",
      "Количество значений: 28041\n",
      "Количество уникальных значений: 4330\n",
      "Количество пропусков: 0\n",
      "Процент пропусков: 0.0%\n",
      "Общие статистики:\n",
      "count     28041.00\n",
      "mean        320.64\n",
      "std        5021.99\n",
      "min     -302730.00\n",
      "25%           0.00\n",
      "50%           0.00\n",
      "75%          46.00\n",
      "max      422732.00\n",
      "Name: inv_ind_2400, dtype: float64\n",
      "Топ 10 уникальных значений:\n",
      "0.00      11279\n",
      "1.00        226\n",
      "-4.00       188\n",
      "2.00        174\n",
      "-3.00       164\n",
      "-10.00      162\n",
      "-2.00       158\n",
      "-6.00       149\n",
      "-5.00       145\n",
      "-1.00       145\n",
      "-7.00       129\n",
      "3.00        121\n",
      "-8.00       115\n",
      "7.00        111\n",
      "6.00        109\n",
      "5.00        108\n",
      "4.00        108\n",
      "-9.00        97\n",
      "9.00         89\n",
      "-11.00       88\n",
      "-12.00       88\n",
      "8.00         86\n",
      "17.00        75\n",
      "-14.00       73\n",
      "15.00        72\n",
      "10.00        70\n",
      "Name: inv_ind_2400, dtype: int64\n",
      "--------------------------------------------------------------------------------\n",
      "--------------------------------------------------------------------------------\n",
      "Название: inv_ind_2510\n",
      "Тип данных: <class 'numpy.float64'>\n",
      "Количество значений: 28041\n",
      "Количество уникальных значений: 10\n",
      "Количество пропусков: 0\n",
      "Процент пропусков: 0.0%\n",
      "Общие статистики:\n",
      "count   28041.00\n",
      "mean        3.08\n",
      "std       496.42\n",
      "min      -416.00\n",
      "25%         0.00\n",
      "50%         0.00\n",
      "75%         0.00\n",
      "max     83092.00\n",
      "Name: inv_ind_2510, dtype: float64\n",
      "Топ 10 уникальных значений:\n",
      "Ошибка: 10\n",
      "--------------------------------------------------------------------------------\n",
      "--------------------------------------------------------------------------------\n",
      "Название: inv_ind_2520\n",
      "Тип данных: <class 'numpy.float64'>\n",
      "Количество значений: 28041\n",
      "Количество уникальных значений: 8\n",
      "Количество пропусков: 0\n",
      "Процент пропусков: 0.0%\n",
      "Общие статистики:\n",
      "count    28041.00\n",
      "mean        -1.52\n",
      "std        257.32\n",
      "min     -43078.00\n",
      "25%          0.00\n",
      "50%          0.00\n",
      "75%          0.00\n",
      "max        909.00\n",
      "Name: inv_ind_2520, dtype: float64\n",
      "Топ 10 уникальных значений:\n",
      "Ошибка: 10\n",
      "--------------------------------------------------------------------------------\n",
      "--------------------------------------------------------------------------------\n",
      "Название: inv_ind_2500\n",
      "Тип данных: <class 'numpy.float64'>\n",
      "Количество значений: 28041\n",
      "Количество уникальных значений: 2284\n",
      "Количество пропусков: 0\n",
      "Процент пропусков: 0.0%\n",
      "Общие статистики:\n",
      "count     28041.00\n",
      "mean        141.57\n",
      "std        3684.65\n",
      "min     -101616.00\n",
      "25%           0.00\n",
      "50%           0.00\n",
      "75%           0.00\n",
      "max      422732.00\n",
      "Name: inv_ind_2500, dtype: float64\n",
      "Топ 10 уникальных значений:\n",
      "0.00      22081\n",
      "1.00         86\n",
      "2.00         73\n",
      "-3.00        66\n",
      "-4.00        61\n",
      "-2.00        57\n",
      "4.00         55\n",
      "-10.00       53\n",
      "-6.00        53\n",
      "3.00         50\n",
      "-5.00        48\n",
      "7.00         47\n",
      "5.00         44\n",
      "8.00         39\n",
      "6.00         39\n",
      "-8.00        38\n",
      "-12.00       38\n",
      "-7.00        37\n",
      "-1.00        35\n",
      "9.00         34\n",
      "-11.00       33\n",
      "-9.00        30\n",
      "11.00        30\n",
      "17.00        29\n",
      "10.00        29\n",
      "Name: inv_ind_2500, dtype: int64\n",
      "--------------------------------------------------------------------------------\n",
      "--------------------------------------------------------------------------------\n",
      "Название: inv_ind_2421\n",
      "Тип данных: <class 'numpy.float64'>\n",
      "Количество значений: 28041\n",
      "Количество уникальных значений: 159\n",
      "Количество пропусков: 0\n",
      "Процент пропусков: 0.0%\n",
      "Общие статистики:\n",
      "count    28041.00\n",
      "mean        -0.56\n",
      "std        172.76\n",
      "min     -14975.00\n",
      "25%          0.00\n",
      "50%          0.00\n",
      "75%          0.00\n",
      "max      15988.00\n",
      "Name: inv_ind_2421, dtype: float64\n",
      "Топ 10 уникальных значений:\n",
      "Ошибка: 10\n",
      "--------------------------------------------------------------------------------\n",
      "--------------------------------------------------------------------------------\n",
      "Название: inv_ind_2430\n",
      "Тип данных: <class 'numpy.float64'>\n",
      "Количество значений: 28041\n",
      "Количество уникальных значений: 91\n",
      "Количество пропусков: 0\n",
      "Процент пропусков: 0.0%\n",
      "Общие статистики:\n",
      "count   28041.00\n",
      "mean        2.75\n",
      "std       227.31\n",
      "min     -1560.00\n",
      "25%         0.00\n",
      "50%         0.00\n",
      "75%         0.00\n",
      "max     31116.00\n",
      "Name: inv_ind_2430, dtype: float64\n",
      "Топ 10 уникальных значений:\n",
      "0.00      27898\n",
      "1.00          9\n",
      "-1.00         6\n",
      "2.00          6\n",
      "3.00          5\n",
      "-19.00        4\n",
      "-9.00         4\n",
      "12.00         3\n",
      "4.00          3\n",
      "11.00         3\n",
      "-12.00        3\n",
      "27.00         3\n",
      "-28.00        3\n",
      "5.00          3\n",
      "35.00         2\n",
      "-32.00        2\n",
      "-6.00         2\n",
      "15.00         2\n",
      "21.00         2\n",
      "6.00          2\n",
      "10.00         2\n",
      "Name: inv_ind_2430, dtype: int64\n",
      "--------------------------------------------------------------------------------\n",
      "--------------------------------------------------------------------------------\n",
      "Название: inv_ind_2450\n",
      "Тип данных: <class 'numpy.float64'>\n",
      "Количество значений: 28041\n",
      "Количество уникальных значений: 229\n",
      "Количество пропусков: 0\n",
      "Процент пропусков: 0.0%\n",
      "Общие статистики:\n",
      "count     28041.00\n",
      "mean          4.04\n",
      "std         752.76\n",
      "min     -114553.00\n",
      "25%           0.00\n",
      "50%           0.00\n",
      "75%           0.00\n",
      "max       31977.00\n",
      "Name: inv_ind_2450, dtype: float64\n",
      "Топ 10 уникальных значений:\n",
      "0.00     27653\n",
      "1.00        26\n",
      "2.00        19\n",
      "3.00        13\n",
      "4.00        12\n",
      "5.00         8\n",
      "14.00        8\n",
      "6.00         6\n",
      "10.00        5\n",
      "Name: inv_ind_2450, dtype: int64\n",
      "--------------------------------------------------------------------------------\n",
      "--------------------------------------------------------------------------------\n",
      "Название: inv_ind_6100\n",
      "Тип данных: <class 'numpy.float64'>\n",
      "Количество значений: 28041\n",
      "Количество уникальных значений: 3\n",
      "Количество пропусков: 0\n",
      "Процент пропусков: 0.0%\n",
      "Общие статистики:\n",
      "count   28041.00\n",
      "mean        0.03\n",
      "std         4.16\n",
      "min         0.00\n",
      "25%         0.00\n",
      "50%         0.00\n",
      "75%         0.00\n",
      "max       692.00\n",
      "Name: inv_ind_6100, dtype: float64\n",
      "Топ 10 уникальных значений:\n",
      "0.00    28039\n",
      "Name: inv_ind_6100, dtype: int64\n",
      "--------------------------------------------------------------------------------\n",
      "--------------------------------------------------------------------------------\n",
      "Название: inv_ind_6210\n",
      "Тип данных: <class 'numpy.float64'>\n",
      "Количество значений: 28041\n",
      "Количество уникальных значений: 14\n",
      "Количество пропусков: 0\n",
      "Процент пропусков: 0.0%\n",
      "Общие статистики:\n",
      "count   28041.00\n",
      "mean        0.43\n",
      "std        41.61\n",
      "min         0.00\n",
      "25%         0.00\n",
      "50%         0.00\n",
      "75%         0.00\n",
      "max      5000.00\n",
      "Name: inv_ind_6210, dtype: float64\n",
      "Топ 10 уникальных значений:\n",
      "0.00       28028\n",
      "5000.00        1\n",
      "231.00         1\n",
      "5.00           1\n",
      "18.00          1\n",
      "2107.00        1\n",
      "56.00          1\n",
      "55.00          1\n",
      "6.00           1\n",
      "345.00         1\n",
      "10.00          1\n",
      "Name: inv_ind_6210, dtype: int64\n",
      "--------------------------------------------------------------------------------\n",
      "--------------------------------------------------------------------------------\n",
      "Название: inv_ind_6215\n",
      "Тип данных: <class 'numpy.float64'>\n",
      "Количество значений: 28041\n",
      "Количество уникальных значений: 12\n",
      "Количество пропусков: 0\n",
      "Процент пропусков: 0.0%\n",
      "Общие статистики:\n",
      "count   28041.00\n",
      "mean        0.34\n",
      "std        41.43\n",
      "min         0.00\n",
      "25%         0.00\n",
      "50%         0.00\n",
      "75%         0.00\n",
      "max      6728.00\n",
      "Name: inv_ind_6215, dtype: float64\n",
      "Топ 10 уникальных значений:\n",
      "Ошибка: 10\n",
      "--------------------------------------------------------------------------------\n",
      "--------------------------------------------------------------------------------\n",
      "Название: inv_ind_6220\n",
      "Тип данных: <class 'numpy.float64'>\n",
      "Количество значений: 28041\n",
      "Количество уникальных значений: 33\n",
      "Количество пропусков: 0\n",
      "Процент пропусков: 0.0%\n",
      "Общие статистики:\n",
      "count   28041.00\n",
      "mean        4.98\n",
      "std       455.80\n",
      "min         0.00\n",
      "25%         0.00\n",
      "50%         0.00\n",
      "75%         0.00\n",
      "max     72337.00\n",
      "Name: inv_ind_6220, dtype: float64\n",
      "Топ 10 уникальных значений:\n",
      "0.00      28006\n",
      "300.00        2\n",
      "50.00         2\n",
      "10.00         2\n",
      "Name: inv_ind_6220, dtype: int64\n",
      "--------------------------------------------------------------------------------\n",
      "--------------------------------------------------------------------------------\n",
      "Название: inv_ind_6230\n",
      "Тип данных: <class 'numpy.float64'>\n",
      "Количество значений: 28041\n",
      "Количество уникальных значений: 1\n",
      "Количество пропусков: 0\n",
      "Процент пропусков: 0.0%\n",
      "Общие статистики:\n",
      "count   28041.00\n",
      "mean        0.00\n",
      "std         0.00\n",
      "min         0.00\n",
      "25%         0.00\n",
      "50%         0.00\n",
      "75%         0.00\n",
      "max         0.00\n",
      "Name: inv_ind_6230, dtype: float64\n",
      "Топ 10 уникальных значений:\n",
      "0.00    28041\n",
      "Name: inv_ind_6230, dtype: int64\n",
      "--------------------------------------------------------------------------------\n",
      "--------------------------------------------------------------------------------\n",
      "Название: inv_ind_6240\n",
      "Тип данных: <class 'numpy.float64'>\n",
      "Количество значений: 28041\n",
      "Количество уникальных значений: 7\n",
      "Количество пропусков: 0\n",
      "Процент пропусков: 0.0%\n",
      "Общие статистики:\n",
      "count   28041.00\n",
      "mean        0.21\n",
      "std        26.25\n",
      "min         0.00\n",
      "25%         0.00\n",
      "50%         0.00\n",
      "75%         0.00\n",
      "max      4300.00\n",
      "Name: inv_ind_6240, dtype: float64\n",
      "Топ 10 уникальных значений:\n",
      "Ошибка: 10\n",
      "--------------------------------------------------------------------------------\n",
      "--------------------------------------------------------------------------------\n",
      "Название: inv_ind_6250\n",
      "Тип данных: <class 'numpy.float64'>\n",
      "Количество значений: 28041\n",
      "Количество уникальных значений: 17\n",
      "Количество пропусков: 0\n",
      "Процент пропусков: 0.0%\n",
      "Общие статистики:\n",
      "count   28041.00\n",
      "mean        0.35\n",
      "std        22.14\n",
      "min         0.00\n",
      "25%         0.00\n",
      "50%         0.00\n",
      "75%         0.00\n",
      "max      2880.00\n",
      "Name: inv_ind_6250, dtype: float64\n",
      "Топ 10 уникальных значений:\n",
      "0.00       28022\n",
      "500.00         3\n",
      "300.00         2\n",
      "1500.00        1\n",
      "1.00           1\n",
      "343.00         1\n",
      "2880.00        1\n",
      "590.00         1\n",
      "5.00           1\n",
      "10.00          1\n",
      "Name: inv_ind_6250, dtype: int64\n",
      "--------------------------------------------------------------------------------\n",
      "--------------------------------------------------------------------------------\n",
      "Название: inv_ind_6200\n",
      "Тип данных: <class 'numpy.float64'>\n",
      "Количество значений: 28041\n",
      "Количество уникальных значений: 43\n",
      "Количество пропусков: 0\n",
      "Процент пропусков: 0.0%\n",
      "Общие статистики:\n",
      "count   28041.00\n",
      "mean        5.52\n",
      "std       466.42\n",
      "min         0.00\n",
      "25%         0.00\n",
      "50%         0.00\n",
      "75%         0.00\n",
      "max     73966.00\n",
      "Name: inv_ind_6200, dtype: float64\n",
      "Топ 10 уникальных значений:\n",
      "0.00      27993\n",
      "300.00        4\n",
      "500.00        3\n",
      "10.00         2\n",
      "Name: inv_ind_6200, dtype: int64\n",
      "--------------------------------------------------------------------------------\n",
      "--------------------------------------------------------------------------------\n",
      "Название: inv_ind_6310\n",
      "Тип данных: <class 'numpy.float64'>\n",
      "Количество значений: 28041\n",
      "Количество уникальных значений: 17\n",
      "Количество пропусков: 0\n",
      "Процент пропусков: 0.0%\n",
      "Общие статистики:\n",
      "count   28041.00\n",
      "mean        4.51\n",
      "std       478.55\n",
      "min         0.00\n",
      "25%         0.00\n",
      "50%         0.00\n",
      "75%         0.00\n",
      "max     72337.00\n",
      "Name: inv_ind_6310, dtype: float64\n",
      "Топ 10 уникальных значений:\n",
      "Ошибка: 10\n",
      "--------------------------------------------------------------------------------\n",
      "--------------------------------------------------------------------------------\n",
      "Название: inv_ind_6311\n",
      "Тип данных: <class 'numpy.float64'>\n",
      "Количество значений: 28041\n",
      "Количество уникальных значений: 1\n",
      "Количество пропусков: 0\n",
      "Процент пропусков: 0.0%\n",
      "Общие статистики:\n",
      "count   28041.00\n",
      "mean        0.00\n",
      "std         0.00\n",
      "min         0.00\n",
      "25%         0.00\n",
      "50%         0.00\n",
      "75%         0.00\n",
      "max         0.00\n",
      "Name: inv_ind_6311, dtype: float64\n",
      "Топ 10 уникальных значений:\n",
      "0.00    28041\n",
      "Name: inv_ind_6311, dtype: int64\n",
      "--------------------------------------------------------------------------------\n",
      "--------------------------------------------------------------------------------\n",
      "Название: inv_ind_6312\n",
      "Тип данных: <class 'numpy.float64'>\n",
      "Количество значений: 28041\n",
      "Количество уникальных значений: 1\n",
      "Количество пропусков: 0\n",
      "Процент пропусков: 0.0%\n",
      "Общие статистики:\n",
      "count   28041.00\n",
      "mean        0.00\n",
      "std         0.00\n",
      "min         0.00\n",
      "25%         0.00\n",
      "50%         0.00\n",
      "75%         0.00\n",
      "max         0.00\n",
      "Name: inv_ind_6312, dtype: float64\n",
      "Топ 10 уникальных значений:\n",
      "0.00    28041\n",
      "Name: inv_ind_6312, dtype: int64\n",
      "--------------------------------------------------------------------------------\n",
      "--------------------------------------------------------------------------------\n",
      "Название: inv_ind_6313\n",
      "Тип данных: <class 'numpy.float64'>\n",
      "Количество значений: 28041\n",
      "Количество уникальных значений: 6\n",
      "Количество пропусков: 0\n",
      "Процент пропусков: 0.0%\n",
      "Общие статистики:\n",
      "count   28041.00\n",
      "mean        2.82\n",
      "std       432.66\n",
      "min         0.00\n",
      "25%         0.00\n",
      "50%         0.00\n",
      "75%         0.00\n",
      "max     72337.00\n",
      "Name: inv_ind_6313, dtype: float64\n",
      "Топ 10 уникальных значений:\n",
      "Ошибка: 10\n",
      "--------------------------------------------------------------------------------\n",
      "--------------------------------------------------------------------------------\n",
      "Название: inv_ind_6320\n",
      "Тип данных: <class 'numpy.float64'>\n",
      "Количество значений: 28041\n",
      "Количество уникальных значений: 28\n",
      "Количество пропусков: 0\n",
      "Процент пропусков: 0.0%\n",
      "Общие статистики:\n",
      "count   28041.00\n",
      "mean        0.66\n",
      "std        62.36\n",
      "min         0.00\n",
      "25%         0.00\n",
      "50%         0.00\n",
      "75%         0.00\n",
      "max      8573.00\n",
      "Name: inv_ind_6320, dtype: float64\n",
      "Топ 10 уникальных значений:\n",
      "0.00      28011\n",
      "6.00          3\n",
      "5.00          2\n",
      "82.00         1\n",
      "52.00         1\n",
      "190.00        1\n",
      "4.00          1\n",
      "10.00         1\n",
      "Name: inv_ind_6320, dtype: int64\n",
      "--------------------------------------------------------------------------------\n",
      "--------------------------------------------------------------------------------\n",
      "Название: inv_ind_6321\n",
      "Тип данных: <class 'numpy.float64'>\n",
      "Количество значений: 28041\n",
      "Количество уникальных значений: 13\n",
      "Количество пропусков: 0\n",
      "Процент пропусков: 0.0%\n",
      "Общие статистики:\n",
      "count   28041.00\n",
      "mean        0.19\n",
      "std        21.01\n",
      "min         0.00\n",
      "25%         0.00\n",
      "50%         0.00\n",
      "75%         0.00\n",
      "max      3417.00\n",
      "Name: inv_ind_6321, dtype: float64\n",
      "Топ 10 уникальных значений:\n",
      "Ошибка: 10\n",
      "--------------------------------------------------------------------------------\n",
      "--------------------------------------------------------------------------------\n",
      "Название: inv_ind_6322\n",
      "Тип данных: <class 'numpy.float64'>\n",
      "Количество значений: 28041\n",
      "Количество уникальных значений: 3\n",
      "Количество пропусков: 0\n",
      "Процент пропусков: 0.0%\n",
      "Общие статистики:\n",
      "count   28041.00\n",
      "mean        0.00\n",
      "std         0.04\n",
      "min         0.00\n",
      "25%         0.00\n",
      "50%         0.00\n",
      "75%         0.00\n",
      "max         6.00\n",
      "Name: inv_ind_6322, dtype: float64\n",
      "Топ 10 уникальных значений:\n",
      "Ошибка: 10\n",
      "--------------------------------------------------------------------------------\n",
      "--------------------------------------------------------------------------------\n",
      "Название: inv_ind_6323\n",
      "Тип данных: <class 'numpy.float64'>\n",
      "Количество значений: 28041\n",
      "Количество уникальных значений: 1\n",
      "Количество пропусков: 0\n",
      "Процент пропусков: 0.0%\n",
      "Общие статистики:\n",
      "count   28041.00\n",
      "mean        0.00\n",
      "std         0.00\n",
      "min         0.00\n",
      "25%         0.00\n",
      "50%         0.00\n",
      "75%         0.00\n",
      "max         0.00\n",
      "Name: inv_ind_6323, dtype: float64\n",
      "Топ 10 уникальных значений:\n",
      "0.00    28041\n",
      "Name: inv_ind_6323, dtype: int64\n",
      "--------------------------------------------------------------------------------\n",
      "--------------------------------------------------------------------------------\n",
      "Название: inv_ind_6324\n",
      "Тип данных: <class 'numpy.float64'>\n",
      "Количество значений: 28041\n",
      "Количество уникальных значений: 4\n",
      "Количество пропусков: 0\n",
      "Процент пропусков: 0.0%\n",
      "Общие статистики:\n",
      "count   28041.00\n",
      "mean        0.00\n",
      "std         0.39\n",
      "min         0.00\n",
      "25%         0.00\n",
      "50%         0.00\n",
      "75%         0.00\n",
      "max        62.00\n",
      "Name: inv_ind_6324, dtype: float64\n",
      "Топ 10 уникальных значений:\n",
      "0.00     28038\n",
      "62.00        1\n",
      "10.00        1\n",
      "Name: inv_ind_6324, dtype: int64\n",
      "--------------------------------------------------------------------------------\n",
      "--------------------------------------------------------------------------------\n",
      "Название: inv_ind_6325\n",
      "Тип данных: <class 'numpy.float64'>\n",
      "Количество значений: 28041\n",
      "Количество уникальных значений: 1\n",
      "Количество пропусков: 0\n",
      "Процент пропусков: 0.0%\n",
      "Общие статистики:\n",
      "count   28041.00\n",
      "mean        0.00\n",
      "std         0.00\n",
      "min         0.00\n",
      "25%         0.00\n",
      "50%         0.00\n",
      "75%         0.00\n",
      "max         0.00\n",
      "Name: inv_ind_6325, dtype: float64\n",
      "Топ 10 уникальных значений:\n",
      "0.00    28041\n",
      "Name: inv_ind_6325, dtype: int64\n",
      "--------------------------------------------------------------------------------\n",
      "--------------------------------------------------------------------------------\n",
      "Название: inv_ind_6326\n",
      "Тип данных: <class 'numpy.float64'>\n",
      "Количество значений: 28041\n",
      "Количество уникальных значений: 10\n",
      "Количество пропусков: 0\n",
      "Процент пропусков: 0.0%\n",
      "Общие статистики:\n",
      "count   28041.00\n",
      "mean        0.12\n",
      "std        14.50\n",
      "min         0.00\n",
      "25%         0.00\n",
      "50%         0.00\n",
      "75%         0.00\n",
      "max      2392.00\n",
      "Name: inv_ind_6326, dtype: float64\n",
      "Топ 10 уникальных значений:\n",
      "Ошибка: 10\n",
      "--------------------------------------------------------------------------------\n",
      "--------------------------------------------------------------------------------\n",
      "Название: inv_ind_6330\n",
      "Тип данных: <class 'numpy.float64'>\n",
      "Количество значений: 28041\n",
      "Количество уникальных значений: 13\n",
      "Количество пропусков: 0\n",
      "Процент пропусков: 0.0%\n",
      "Общие статистики:\n",
      "count   28041.00\n",
      "mean        0.18\n",
      "std        16.96\n",
      "min         0.00\n",
      "25%         0.00\n",
      "50%         0.00\n",
      "75%         0.00\n",
      "max      2260.00\n",
      "Name: inv_ind_6330, dtype: float64\n",
      "Топ 10 уникальных значений:\n",
      "Ошибка: 10\n",
      "--------------------------------------------------------------------------------\n",
      "--------------------------------------------------------------------------------\n",
      "Название: inv_ind_6350\n",
      "Тип данных: <class 'numpy.float64'>\n",
      "Количество значений: 28041\n",
      "Количество уникальных значений: 22\n",
      "Количество пропусков: 0\n",
      "Процент пропусков: 0.0%\n",
      "Общие статистики:\n",
      "count   28041.00\n",
      "mean        0.43\n",
      "std        27.35\n",
      "min         0.00\n",
      "25%         0.00\n",
      "50%         0.00\n",
      "75%         0.00\n",
      "max      3523.00\n",
      "Name: inv_ind_6350, dtype: float64\n",
      "Топ 10 уникальных значений:\n",
      "0.00       28020\n",
      "150.00         1\n",
      "40.00          1\n",
      "16.00          1\n",
      "36.00          1\n",
      "337.00         1\n",
      "30.00          1\n",
      "227.00         1\n",
      "603.00         1\n",
      "3523.00        1\n",
      "1071.00        1\n",
      "215.00         1\n",
      "899.00         1\n",
      "413.00         1\n",
      "252.00         1\n",
      "42.00          1\n",
      "1906.00        1\n",
      "158.00         1\n",
      "12.00          1\n",
      "1203.00        1\n",
      "816.00         1\n",
      "10.00          1\n",
      "Name: inv_ind_6350, dtype: int64\n",
      "--------------------------------------------------------------------------------\n",
      "--------------------------------------------------------------------------------\n",
      "Название: inv_ind_6300\n",
      "Тип данных: <class 'numpy.float64'>\n",
      "Количество значений: 28041\n",
      "Количество уникальных значений: 37\n",
      "Количество пропусков: 0\n",
      "Процент пропусков: 0.0%\n",
      "Общие статистики:\n",
      "count   28041.00\n",
      "mean        4.17\n",
      "std       448.14\n",
      "min         0.00\n",
      "25%         0.00\n",
      "50%         0.00\n",
      "75%         0.00\n",
      "max     73811.00\n",
      "Name: inv_ind_6300, dtype: float64\n",
      "Топ 10 уникальных значений:\n",
      "Ошибка: 10\n",
      "--------------------------------------------------------------------------------\n",
      "--------------------------------------------------------------------------------\n",
      "Название: inv_ind_6400\n",
      "Тип данных: <class 'numpy.float64'>\n",
      "Количество значений: 28041\n",
      "Количество уникальных значений: 45\n",
      "Количество пропусков: 0\n",
      "Процент пропусков: 0.0%\n",
      "Общие статистики:\n",
      "count   28041.00\n",
      "mean        1.47\n",
      "std        91.49\n",
      "min         0.00\n",
      "25%         0.00\n",
      "50%         0.00\n",
      "75%         0.00\n",
      "max     13215.00\n",
      "Name: inv_ind_6400, dtype: float64\n",
      "Топ 10 уникальных значений:\n",
      "0.00     27994\n",
      "10.00        4\n",
      "Name: inv_ind_6400, dtype: int64\n",
      "--------------------------------------------------------------------------------\n"
     ]
    }
   ],
   "source": [
    "for f in work_df.columns:\n",
    "    first_look(work_df[f])"
   ],
   "metadata": {
    "collapsed": false,
    "pycharm": {
     "name": "#%%\n"
    }
   }
  },
  {
   "cell_type": "markdown",
   "source": [
    "### Feature engineering"
   ],
   "metadata": {
    "collapsed": false,
    "pycharm": {
     "name": "#%% md\n"
    }
   }
  },
  {
   "cell_type": "code",
   "execution_count": 26,
   "outputs": [],
   "source": [
    "work_df = work_df[work_df['inv_sum'] > 0]"
   ],
   "metadata": {
    "collapsed": false,
    "pycharm": {
     "name": "#%%\n"
    }
   }
  },
  {
   "cell_type": "code",
   "execution_count": 27,
   "outputs": [],
   "source": [
    "# np.log(work_df['inv_sum']).hist(bins=100)"
   ],
   "metadata": {
    "collapsed": false,
    "pycharm": {
     "name": "#%%\n"
    }
   }
  },
  {
   "cell_type": "code",
   "execution_count": 28,
   "outputs": [],
   "source": [
    "work_df['inv_sum'] = np.log(work_df['inv_sum'])"
   ],
   "metadata": {
    "collapsed": false,
    "pycharm": {
     "name": "#%%\n"
    }
   }
  },
  {
   "cell_type": "code",
   "execution_count": 29,
   "outputs": [],
   "source": [
    "work_df['inv_month'] = work_df['date_open'].dt.month"
   ],
   "metadata": {
    "collapsed": false,
    "pycharm": {
     "name": "#%%\n"
    }
   }
  },
  {
   "cell_type": "code",
   "execution_count": 30,
   "outputs": [],
   "source": [
    "# work_df['target'] = work_df['target'].apply(lambda x: x if x <= 5 else 5)"
   ],
   "metadata": {
    "collapsed": false,
    "pycharm": {
     "name": "#%%\n"
    }
   }
  },
  {
   "cell_type": "code",
   "execution_count": 31,
   "outputs": [],
   "source": [
    "work_df.to_csv('data/test4ds.csv', index=False)"
   ],
   "metadata": {
    "collapsed": false,
    "pycharm": {
     "name": "#%%\n"
    }
   }
  },
  {
   "cell_type": "code",
   "execution_count": 32,
   "outputs": [
    {
     "data": {
      "text/plain": "      inv_sum  inv_ind_1110  inv_ind_1120  inv_ind_1130  inv_ind_1140  \\\n145  8.625868           0.0           0.0           0.0           0.0   \n146  0.000000           0.0           0.0           0.0           0.0   \n148  7.654443           0.0           0.0           0.0           0.0   \n149  6.242223           0.0           0.0           0.0           0.0   \n150  4.709530           0.0           0.0           0.0           0.0   \n\n     inv_ind_1150  inv_ind_1160  inv_ind_1170  inv_ind_1180  inv_ind_1190  \\\n145        2120.0           0.0           0.0           0.0           0.0   \n146           0.0           0.0           0.0           0.0           0.0   \n148           0.0           0.0           0.0           0.0           0.0   \n149           0.0           0.0           0.0           0.0           0.0   \n150           0.0           0.0           0.0           0.0           0.0   \n\n     ...  inv_ind_6321  inv_ind_6322  inv_ind_6323  inv_ind_6324  \\\n145  ...           0.0           0.0           0.0           0.0   \n146  ...           0.0           0.0           0.0           0.0   \n148  ...           0.0           0.0           0.0           0.0   \n149  ...           0.0           0.0           0.0           0.0   \n150  ...           0.0           0.0           0.0           0.0   \n\n     inv_ind_6325  inv_ind_6326  inv_ind_6330  inv_ind_6350  inv_ind_6300  \\\n145           0.0           0.0           0.0           0.0           0.0   \n146           0.0           0.0           0.0           0.0           0.0   \n148           0.0           0.0           0.0           0.0           0.0   \n149           0.0           0.0           0.0           0.0           0.0   \n150           0.0           0.0           0.0           0.0           0.0   \n\n     inv_ind_6400  \n145           0.0  \n146           0.0  \n148           0.0  \n149           0.0  \n150           0.0  \n\n[5 rows x 81 columns]",
      "text/html": "<div>\n<style scoped>\n    .dataframe tbody tr th:only-of-type {\n        vertical-align: middle;\n    }\n\n    .dataframe tbody tr th {\n        vertical-align: top;\n    }\n\n    .dataframe thead th {\n        text-align: right;\n    }\n</style>\n<table border=\"1\" class=\"dataframe\">\n  <thead>\n    <tr style=\"text-align: right;\">\n      <th></th>\n      <th>inv_sum</th>\n      <th>inv_ind_1110</th>\n      <th>inv_ind_1120</th>\n      <th>inv_ind_1130</th>\n      <th>inv_ind_1140</th>\n      <th>inv_ind_1150</th>\n      <th>inv_ind_1160</th>\n      <th>inv_ind_1170</th>\n      <th>inv_ind_1180</th>\n      <th>inv_ind_1190</th>\n      <th>...</th>\n      <th>inv_ind_6321</th>\n      <th>inv_ind_6322</th>\n      <th>inv_ind_6323</th>\n      <th>inv_ind_6324</th>\n      <th>inv_ind_6325</th>\n      <th>inv_ind_6326</th>\n      <th>inv_ind_6330</th>\n      <th>inv_ind_6350</th>\n      <th>inv_ind_6300</th>\n      <th>inv_ind_6400</th>\n    </tr>\n  </thead>\n  <tbody>\n    <tr>\n      <th>145</th>\n      <td>8.625868</td>\n      <td>0.0</td>\n      <td>0.0</td>\n      <td>0.0</td>\n      <td>0.0</td>\n      <td>2120.0</td>\n      <td>0.0</td>\n      <td>0.0</td>\n      <td>0.0</td>\n      <td>0.0</td>\n      <td>...</td>\n      <td>0.0</td>\n      <td>0.0</td>\n      <td>0.0</td>\n      <td>0.0</td>\n      <td>0.0</td>\n      <td>0.0</td>\n      <td>0.0</td>\n      <td>0.0</td>\n      <td>0.0</td>\n      <td>0.0</td>\n    </tr>\n    <tr>\n      <th>146</th>\n      <td>0.000000</td>\n      <td>0.0</td>\n      <td>0.0</td>\n      <td>0.0</td>\n      <td>0.0</td>\n      <td>0.0</td>\n      <td>0.0</td>\n      <td>0.0</td>\n      <td>0.0</td>\n      <td>0.0</td>\n      <td>...</td>\n      <td>0.0</td>\n      <td>0.0</td>\n      <td>0.0</td>\n      <td>0.0</td>\n      <td>0.0</td>\n      <td>0.0</td>\n      <td>0.0</td>\n      <td>0.0</td>\n      <td>0.0</td>\n      <td>0.0</td>\n    </tr>\n    <tr>\n      <th>148</th>\n      <td>7.654443</td>\n      <td>0.0</td>\n      <td>0.0</td>\n      <td>0.0</td>\n      <td>0.0</td>\n      <td>0.0</td>\n      <td>0.0</td>\n      <td>0.0</td>\n      <td>0.0</td>\n      <td>0.0</td>\n      <td>...</td>\n      <td>0.0</td>\n      <td>0.0</td>\n      <td>0.0</td>\n      <td>0.0</td>\n      <td>0.0</td>\n      <td>0.0</td>\n      <td>0.0</td>\n      <td>0.0</td>\n      <td>0.0</td>\n      <td>0.0</td>\n    </tr>\n    <tr>\n      <th>149</th>\n      <td>6.242223</td>\n      <td>0.0</td>\n      <td>0.0</td>\n      <td>0.0</td>\n      <td>0.0</td>\n      <td>0.0</td>\n      <td>0.0</td>\n      <td>0.0</td>\n      <td>0.0</td>\n      <td>0.0</td>\n      <td>...</td>\n      <td>0.0</td>\n      <td>0.0</td>\n      <td>0.0</td>\n      <td>0.0</td>\n      <td>0.0</td>\n      <td>0.0</td>\n      <td>0.0</td>\n      <td>0.0</td>\n      <td>0.0</td>\n      <td>0.0</td>\n    </tr>\n    <tr>\n      <th>150</th>\n      <td>4.709530</td>\n      <td>0.0</td>\n      <td>0.0</td>\n      <td>0.0</td>\n      <td>0.0</td>\n      <td>0.0</td>\n      <td>0.0</td>\n      <td>0.0</td>\n      <td>0.0</td>\n      <td>0.0</td>\n      <td>...</td>\n      <td>0.0</td>\n      <td>0.0</td>\n      <td>0.0</td>\n      <td>0.0</td>\n      <td>0.0</td>\n      <td>0.0</td>\n      <td>0.0</td>\n      <td>0.0</td>\n      <td>0.0</td>\n      <td>0.0</td>\n    </tr>\n  </tbody>\n</table>\n<p>5 rows × 81 columns</p>\n</div>"
     },
     "execution_count": 32,
     "metadata": {},
     "output_type": "execute_result"
    }
   ],
   "source": [
    "work_df[['inv_sum'] + ['inv_' + x for x in additional_features]].head()"
   ],
   "metadata": {
    "collapsed": false,
    "pycharm": {
     "name": "#%%\n"
    }
   }
  },
  {
   "cell_type": "markdown",
   "source": [
    "### Первая модель - LR"
   ],
   "metadata": {
    "collapsed": false,
    "pycharm": {
     "name": "#%% md\n"
    }
   }
  },
  {
   "cell_type": "code",
   "execution_count": 33,
   "outputs": [
    {
     "data": {
      "text/plain": "(25716, 90)"
     },
     "execution_count": 33,
     "metadata": {},
     "output_type": "execute_result"
    }
   ],
   "source": [
    "work_df.shape"
   ],
   "metadata": {
    "collapsed": false,
    "pycharm": {
     "name": "#%%\n"
    }
   }
  },
  {
   "cell_type": "code",
   "execution_count": 34,
   "outputs": [
    {
     "data": {
      "text/plain": "        inv_sum  inv_ind_1110  inv_ind_1120  inv_ind_1130  inv_ind_1140  \\\n3205   0.485117     -0.006319     -0.018563     -0.006401     -0.007853   \n12083  1.068936     -0.006319     -0.018563     -0.006401     -0.007853   \n\n       inv_ind_1150  inv_ind_1160  inv_ind_1170  inv_ind_1180  inv_ind_1190  \\\n3205      -0.057445     -0.010267     -0.014552     -0.012591     -0.015734   \n12083     -0.047716     -0.010267     -0.014552     -0.012591     -0.015734   \n\n       ...  inv_ind_6321  inv_ind_6322  inv_ind_6323  inv_ind_6324  \\\n3205   ...     -0.009406     -0.006236           0.0     -0.008403   \n12083  ...     -0.009406     -0.006236           0.0     -0.008403   \n\n       inv_ind_6325  inv_ind_6326  inv_ind_6330  inv_ind_6350  inv_ind_6300  \\\n3205            0.0     -0.008314     -0.011061     -0.014303     -0.009654   \n12083           0.0     -0.008314     -0.011061     -0.014303     -0.009654   \n\n       inv_ind_6400  \n3205      -0.016729  \n12083     -0.016729  \n\n[2 rows x 81 columns]",
      "text/html": "<div>\n<style scoped>\n    .dataframe tbody tr th:only-of-type {\n        vertical-align: middle;\n    }\n\n    .dataframe tbody tr th {\n        vertical-align: top;\n    }\n\n    .dataframe thead th {\n        text-align: right;\n    }\n</style>\n<table border=\"1\" class=\"dataframe\">\n  <thead>\n    <tr style=\"text-align: right;\">\n      <th></th>\n      <th>inv_sum</th>\n      <th>inv_ind_1110</th>\n      <th>inv_ind_1120</th>\n      <th>inv_ind_1130</th>\n      <th>inv_ind_1140</th>\n      <th>inv_ind_1150</th>\n      <th>inv_ind_1160</th>\n      <th>inv_ind_1170</th>\n      <th>inv_ind_1180</th>\n      <th>inv_ind_1190</th>\n      <th>...</th>\n      <th>inv_ind_6321</th>\n      <th>inv_ind_6322</th>\n      <th>inv_ind_6323</th>\n      <th>inv_ind_6324</th>\n      <th>inv_ind_6325</th>\n      <th>inv_ind_6326</th>\n      <th>inv_ind_6330</th>\n      <th>inv_ind_6350</th>\n      <th>inv_ind_6300</th>\n      <th>inv_ind_6400</th>\n    </tr>\n  </thead>\n  <tbody>\n    <tr>\n      <th>3205</th>\n      <td>0.485117</td>\n      <td>-0.006319</td>\n      <td>-0.018563</td>\n      <td>-0.006401</td>\n      <td>-0.007853</td>\n      <td>-0.057445</td>\n      <td>-0.010267</td>\n      <td>-0.014552</td>\n      <td>-0.012591</td>\n      <td>-0.015734</td>\n      <td>...</td>\n      <td>-0.009406</td>\n      <td>-0.006236</td>\n      <td>0.0</td>\n      <td>-0.008403</td>\n      <td>0.0</td>\n      <td>-0.008314</td>\n      <td>-0.011061</td>\n      <td>-0.014303</td>\n      <td>-0.009654</td>\n      <td>-0.016729</td>\n    </tr>\n    <tr>\n      <th>12083</th>\n      <td>1.068936</td>\n      <td>-0.006319</td>\n      <td>-0.018563</td>\n      <td>-0.006401</td>\n      <td>-0.007853</td>\n      <td>-0.047716</td>\n      <td>-0.010267</td>\n      <td>-0.014552</td>\n      <td>-0.012591</td>\n      <td>-0.015734</td>\n      <td>...</td>\n      <td>-0.009406</td>\n      <td>-0.006236</td>\n      <td>0.0</td>\n      <td>-0.008403</td>\n      <td>0.0</td>\n      <td>-0.008314</td>\n      <td>-0.011061</td>\n      <td>-0.014303</td>\n      <td>-0.009654</td>\n      <td>-0.016729</td>\n    </tr>\n  </tbody>\n</table>\n<p>2 rows × 81 columns</p>\n</div>"
     },
     "execution_count": 34,
     "metadata": {},
     "output_type": "execute_result"
    }
   ],
   "source": [
    "# Формируем X\n",
    "# Масштабируем числовые признаки\n",
    "scaled_arr = preprocessing.StandardScaler().fit_transform(work_df[['inv_sum'] + ['inv_' + x for x in additional_features]])\n",
    "X = pd.DataFrame(scaled_arr, columns=['inv_sum'] + ['inv_' + x for x in additional_features])\n",
    "X.sample(2)"
   ],
   "metadata": {
    "collapsed": false,
    "pycharm": {
     "name": "#%%\n"
    }
   }
  },
  {
   "cell_type": "code",
   "execution_count": 35,
   "outputs": [
    {
     "data": {
      "text/plain": "        inv_sum  inv_ind_1110  inv_ind_1120  inv_ind_1130  inv_ind_1140  \\\n2178   1.214943     -0.006319     -0.018563     -0.006401     -0.007853   \n25460  0.826198     -0.006319     -0.018563     -0.006401     -0.007853   \n\n       inv_ind_1150  inv_ind_1160  inv_ind_1170  inv_ind_1180  inv_ind_1190  \\\n2178      -0.057445     -0.010267     -0.014552     -0.012591     -0.015734   \n25460     -0.051218     -0.010267     -0.014552     -0.012591     -0.015734   \n\n       ...  x1_77  x1_78  x1_79  x1_8  x1_83  x1_86  x1_87  x1_89  x1_91  \\\n2178   ...      0      0      0     0      0      0      0      0      0   \n25460  ...      1      0      0     0      0      0      0      0      0   \n\n       x1_92  \n2178       0  \n25460      0  \n\n[2 rows x 229 columns]",
      "text/html": "<div>\n<style scoped>\n    .dataframe tbody tr th:only-of-type {\n        vertical-align: middle;\n    }\n\n    .dataframe tbody tr th {\n        vertical-align: top;\n    }\n\n    .dataframe thead th {\n        text-align: right;\n    }\n</style>\n<table border=\"1\" class=\"dataframe\">\n  <thead>\n    <tr style=\"text-align: right;\">\n      <th></th>\n      <th>inv_sum</th>\n      <th>inv_ind_1110</th>\n      <th>inv_ind_1120</th>\n      <th>inv_ind_1130</th>\n      <th>inv_ind_1140</th>\n      <th>inv_ind_1150</th>\n      <th>inv_ind_1160</th>\n      <th>inv_ind_1170</th>\n      <th>inv_ind_1180</th>\n      <th>inv_ind_1190</th>\n      <th>...</th>\n      <th>x1_77</th>\n      <th>x1_78</th>\n      <th>x1_79</th>\n      <th>x1_8</th>\n      <th>x1_83</th>\n      <th>x1_86</th>\n      <th>x1_87</th>\n      <th>x1_89</th>\n      <th>x1_91</th>\n      <th>x1_92</th>\n    </tr>\n  </thead>\n  <tbody>\n    <tr>\n      <th>2178</th>\n      <td>1.214943</td>\n      <td>-0.006319</td>\n      <td>-0.018563</td>\n      <td>-0.006401</td>\n      <td>-0.007853</td>\n      <td>-0.057445</td>\n      <td>-0.010267</td>\n      <td>-0.014552</td>\n      <td>-0.012591</td>\n      <td>-0.015734</td>\n      <td>...</td>\n      <td>0</td>\n      <td>0</td>\n      <td>0</td>\n      <td>0</td>\n      <td>0</td>\n      <td>0</td>\n      <td>0</td>\n      <td>0</td>\n      <td>0</td>\n      <td>0</td>\n    </tr>\n    <tr>\n      <th>25460</th>\n      <td>0.826198</td>\n      <td>-0.006319</td>\n      <td>-0.018563</td>\n      <td>-0.006401</td>\n      <td>-0.007853</td>\n      <td>-0.051218</td>\n      <td>-0.010267</td>\n      <td>-0.014552</td>\n      <td>-0.012591</td>\n      <td>-0.015734</td>\n      <td>...</td>\n      <td>1</td>\n      <td>0</td>\n      <td>0</td>\n      <td>0</td>\n      <td>0</td>\n      <td>0</td>\n      <td>0</td>\n      <td>0</td>\n      <td>0</td>\n      <td>0</td>\n    </tr>\n  </tbody>\n</table>\n<p>2 rows × 229 columns</p>\n</div>"
     },
     "execution_count": 35,
     "metadata": {},
     "output_type": "execute_result"
    }
   ],
   "source": [
    "# Кодируем категориальные признаки\n",
    "ohe = preprocessing.OneHotEncoder(sparse=False)\n",
    "ohe.fit(work_df[['okved', 'region']])\n",
    "X = pd.concat([X, pd.DataFrame(ohe.transform(work_df[['okved', 'region']]).astype(int), columns=ohe.get_feature_names())], axis=1)\n",
    "X.sample(2)"
   ],
   "metadata": {
    "collapsed": false,
    "pycharm": {
     "name": "#%%\n"
    }
   }
  },
  {
   "cell_type": "code",
   "execution_count": 37,
   "outputs": [
    {
     "data": {
      "text/plain": "array([0, 1])"
     },
     "execution_count": 37,
     "metadata": {},
     "output_type": "execute_result"
    }
   ],
   "source": [
    "# В таргет берем только признак окупиться/не окупится\n",
    "y = work_df['target'].apply(lambda x: x != -1).astype(int)\n",
    "y.unique()"
   ],
   "metadata": {
    "collapsed": false,
    "pycharm": {
     "name": "#%%\n"
    }
   }
  },
  {
   "cell_type": "code",
   "execution_count": 39,
   "outputs": [
    {
     "data": {
      "text/plain": "((25716, 229), (25716,), (20572, 229), (20572,), (5144, 229), (5144,))"
     },
     "execution_count": 39,
     "metadata": {},
     "output_type": "execute_result"
    }
   ],
   "source": [
    "# Бъем на трейн - тест\n",
    "X_train, X_valid, y_train, y_valid = train_test_split(X, y, test_size=0.2, random_state=RANDOM_SEED)\n",
    "X.shape, y.shape, X_train.shape, y_train.shape, X_valid.shape, y_valid.shape,"
   ],
   "metadata": {
    "collapsed": false,
    "pycharm": {
     "name": "#%%\n"
    }
   }
  },
  {
   "cell_type": "code",
   "execution_count": 42,
   "outputs": [
    {
     "data": {
      "text/plain": "0.6660492532244089"
     },
     "execution_count": 42,
     "metadata": {},
     "output_type": "execute_result"
    }
   ],
   "source": [
    "# Теперь моделька\n",
    "lr = LogisticRegressionCV(Cs=10, random_state=RANDOM_SEED, class_weight='balanced', max_iter=2000)\n",
    "lr.fit(X_train, y_train)\n",
    "y_prob = lr.predict_proba(X_valid)\n",
    "metrics.roc_auc_score(y_valid, y_prob[:, 1])"
   ],
   "metadata": {
    "collapsed": false,
    "pycharm": {
     "name": "#%%\n"
    }
   }
  },
  {
   "cell_type": "markdown",
   "source": [
    "В принципе результат не плохой - можно работать дальше"
   ],
   "metadata": {
    "collapsed": false,
    "pycharm": {
     "name": "#%% md\n"
    }
   }
  },
  {
   "cell_type": "code",
   "execution_count": 43,
   "outputs": [
    {
     "data": {
      "text/plain": "<Figure size 864x576 with 1 Axes>",
      "image/png": "[encoded data removed]"
     },
     "metadata": {
      "needs_background": "light"
     },
     "output_type": "display_data"
    }
   ],
   "source": [
    "show_roc_auc(y_valid, y_prob[:, 1])"
   ],
   "metadata": {
    "collapsed": false,
    "pycharm": {
     "name": "#%%\n"
    }
   }
  },
  {
   "cell_type": "code",
   "execution_count": 44,
   "outputs": [
    {
     "data": {
      "text/plain": "<Figure size 576x576 with 2 Axes>",
      "image/png": "[encoded data removed]"
     },
     "metadata": {
      "needs_background": "light"
     },
     "output_type": "display_data"
    }
   ],
   "source": [
    "y_pred = lr.predict(X_valid)\n",
    "show_confusion_matrix(y_valid, y_pred)"
   ],
   "metadata": {
    "collapsed": false,
    "pycharm": {
     "name": "#%%\n"
    }
   }
  },
  {
   "cell_type": "code",
   "execution_count": 45,
   "outputs": [
    {
     "data": {
      "text/plain": "<Figure size 1152x720 with 1 Axes>",
      "image/png": "[encoded data removed]"
     },
     "metadata": {
      "needs_background": "light"
     },
     "output_type": "display_data"
    }
   ],
   "source": [
    "show_lr_Importance(lr, X.columns)"
   ],
   "metadata": {
    "collapsed": false,
    "pycharm": {
     "name": "#%%\n"
    }
   }
  },
  {
   "cell_type": "code",
   "execution_count": 46,
   "outputs": [
    {
     "data": {
      "text/plain": "0.6641895139122639"
     },
     "execution_count": 46,
     "metadata": {},
     "output_type": "execute_result"
    }
   ],
   "source": [
    "# По замечаниям - проверка на переобучение\n",
    "y_prob = lr.predict_proba(X_train)\n",
    "metrics.roc_auc_score(y_train, y_prob[:, 1])"
   ],
   "metadata": {
    "collapsed": false,
    "pycharm": {
     "name": "#%%\n"
    }
   }
  },
  {
   "cell_type": "markdown",
   "source": [
    "### LGBMClassifier"
   ],
   "metadata": {
    "collapsed": false,
    "pycharm": {
     "name": "#%% md\n"
    }
   }
  },
  {
   "cell_type": "code",
   "execution_count": 47,
   "outputs": [
    {
     "data": {
      "text/plain": "0.7230310662616035"
     },
     "execution_count": 47,
     "metadata": {},
     "output_type": "execute_result"
    }
   ],
   "source": [
    "model = LGBMClassifier(random_state=RANDOM_SEED, class_weight='balanced', max_depth=3)\n",
    "model.fit(X_train, y_train)\n",
    "y_prob = model.predict_proba(X_valid)\n",
    "metrics.roc_auc_score(y_valid, y_prob[:, 1])"
   ],
   "metadata": {
    "collapsed": false,
    "pycharm": {
     "name": "#%%\n"
    }
   }
  },
  {
   "cell_type": "markdown",
   "source": [
    "Результат еще лучше, но нас интересует не просто выйдет или нет из убытков, а срок"
   ],
   "metadata": {
    "collapsed": false,
    "pycharm": {
     "name": "#%% md\n"
    }
   }
  },
  {
   "cell_type": "code",
   "execution_count": 48,
   "outputs": [
    {
     "data": {
      "text/plain": "<Figure size 864x576 with 1 Axes>",
      "image/png": "[encoded data removed]"
     },
     "metadata": {
      "needs_background": "light"
     },
     "output_type": "display_data"
    }
   ],
   "source": [
    "show_roc_auc(y_valid, y_prob[:, 1])"
   ],
   "metadata": {
    "collapsed": false,
    "pycharm": {
     "name": "#%%\n"
    }
   }
  },
  {
   "cell_type": "code",
   "execution_count": 49,
   "outputs": [
    {
     "data": {
      "text/plain": "<Figure size 576x576 with 2 Axes>",
      "image/png": "[encoded data removed]"
     },
     "metadata": {
      "needs_background": "light"
     },
     "output_type": "display_data"
    }
   ],
   "source": [
    "y_pred = model.predict(X_valid)\n",
    "show_confusion_matrix(y_valid, y_pred)"
   ],
   "metadata": {
    "collapsed": false,
    "pycharm": {
     "name": "#%%\n"
    }
   }
  },
  {
   "cell_type": "code",
   "execution_count": 50,
   "outputs": [
    {
     "data": {
      "text/plain": "<Figure size 720x720 with 1 Axes>",
      "image/png": "[encoded data removed]"
     },
     "metadata": {
      "needs_background": "light"
     },
     "output_type": "display_data"
    }
   ],
   "source": [
    "plot_feature_importances(model.feature_importances_, X.columns)"
   ],
   "metadata": {
    "collapsed": false,
    "pycharm": {
     "name": "#%%\n"
    }
   }
  },
  {
   "cell_type": "code",
   "execution_count": 51,
   "outputs": [
    {
     "data": {
      "text/plain": "0.7500317233536823"
     },
     "execution_count": 51,
     "metadata": {},
     "output_type": "execute_result"
    }
   ],
   "source": [
    "# По замечаниям - проверка на переобучение\n",
    "y_prob = model.predict_proba(X_train)\n",
    "metrics.roc_auc_score(y_train, y_prob[:, 1])"
   ],
   "metadata": {
    "collapsed": false,
    "pycharm": {
     "name": "#%%\n"
    }
   }
  },
  {
   "cell_type": "markdown",
   "source": [
    "# !!! переобучились"
   ],
   "metadata": {
    "collapsed": false,
    "pycharm": {
     "name": "#%% md\n"
    }
   }
  },
  {
   "cell_type": "markdown",
   "source": [
    "### Предсказание срока выхода из убытков"
   ],
   "metadata": {
    "collapsed": false,
    "pycharm": {
     "name": "#%% md\n"
    }
   }
  },
  {
   "cell_type": "code",
   "execution_count": 52,
   "outputs": [
    {
     "data": {
      "text/plain": "['inv_sum',\n 'inv_ind_1110',\n 'inv_ind_1120',\n 'inv_ind_1130',\n 'inv_ind_1140',\n 'inv_ind_1150',\n 'inv_ind_1160',\n 'inv_ind_1170',\n 'inv_ind_1180',\n 'inv_ind_1190',\n 'inv_ind_1100',\n 'inv_ind_1210',\n 'inv_ind_1220',\n 'inv_ind_1230',\n 'inv_ind_1240',\n 'inv_ind_1250',\n 'inv_ind_1260',\n 'inv_ind_1200',\n 'inv_ind_1310',\n 'inv_ind_1320',\n 'inv_ind_1340',\n 'inv_ind_1350',\n 'inv_ind_1360',\n 'inv_ind_1370',\n 'inv_ind_1300',\n 'inv_ind_1410',\n 'inv_ind_1420',\n 'inv_ind_1430',\n 'inv_ind_1450',\n 'inv_ind_1400',\n 'inv_ind_1510',\n 'inv_ind_1520',\n 'inv_ind_1530',\n 'inv_ind_1540',\n 'inv_ind_1550',\n 'inv_ind_1500',\n 'inv_ind_1700',\n 'inv_ind_6100',\n 'inv_ind_6210',\n 'inv_ind_6215',\n 'inv_ind_6220',\n 'inv_ind_6230',\n 'inv_ind_6240',\n 'inv_ind_6250',\n 'inv_ind_6200',\n 'inv_ind_6310',\n 'inv_ind_6311',\n 'inv_ind_6312',\n 'inv_ind_6313',\n 'inv_ind_6320',\n 'inv_ind_6321',\n 'inv_ind_6322',\n 'inv_ind_6323',\n 'inv_ind_6324',\n 'inv_ind_6325',\n 'inv_ind_6326',\n 'inv_ind_6330',\n 'inv_ind_6350',\n 'inv_ind_6300',\n 'inv_ind_6400']"
     },
     "execution_count": 52,
     "metadata": {},
     "output_type": "execute_result"
    }
   ],
   "source": [
    "['inv_sum'] + [x for x in work_df.columns if x.startswith('inv_ind_') and not x.startswith('inv_ind_2')]"
   ],
   "metadata": {
    "collapsed": false,
    "pycharm": {
     "name": "#%%\n"
    }
   }
  },
  {
   "cell_type": "code",
   "execution_count": 58,
   "outputs": [
    {
     "data": {
      "text/plain": "-1    8672\n 1    6872\n 2    4456\n 3    2314\n 4    1332\n 5     786\n 0     549\n 6     466\n 7     214\n 8      52\n 9       3\nName: target, dtype: int64"
     },
     "execution_count": 58,
     "metadata": {},
     "output_type": "execute_result"
    }
   ],
   "source": [
    "work_df['target'].value_counts()"
   ],
   "metadata": {
    "collapsed": false,
    "pycharm": {
     "name": "#%%\n"
    }
   }
  },
  {
   "cell_type": "code",
   "execution_count": 59,
   "outputs": [],
   "source": [
    "# Мало примеров со сроком окупаемости > 4 лет - будам их все считать как 5 и более\n",
    "work_df['target'] = work_df['target'].apply(lambda x: x if x < 5 else 5)"
   ],
   "metadata": {
    "collapsed": false,
    "pycharm": {
     "name": "#%%\n"
    }
   }
  },
  {
   "cell_type": "code",
   "execution_count": 73,
   "outputs": [
    {
     "data": {
      "text/plain": "((25716, 153), (25716,))"
     },
     "execution_count": 73,
     "metadata": {},
     "output_type": "execute_result"
    }
   ],
   "source": [
    "# Можно попробовать разный набор фичей, но для начала возьмем сумму инвестиций и ОКВЕД\n",
    "features = ['inv_sum']\n",
    "features = ['inv_sum', 'inv_ind_1500', 'inv_ind_1200', 'inv_ind_1300', 'inv_ind_1400']\n",
    "#features = ['inv_sum'] + [x for x in work_df.columns if x.startswith('inv_ind_') and not x.startswith('inv_ind_2')]\n",
    "scaled_arr = preprocessing.StandardScaler().fit_transform(work_df[features])\n",
    "X = pd.DataFrame(scaled_arr, columns=features)\n",
    "ohe = preprocessing.OneHotEncoder(sparse=False)\n",
    "ohe.fit(work_df[['okved', 'region']])\n",
    "X = pd.concat([X, pd.DataFrame(ohe.transform(work_df[['okved', 'region']]).astype(int), columns=ohe.get_feature_names())], axis=1)\n",
    "y = work_df['target']\n",
    "X.shape, y.shape"
   ],
   "metadata": {
    "collapsed": false,
    "pycharm": {
     "name": "#%%\n"
    }
   }
  },
  {
   "cell_type": "code",
   "execution_count": 74,
   "outputs": [
    {
     "data": {
      "text/plain": "((25716, 153), (25716,), (20572, 153), (20572,), (5144, 153), (5144,))"
     },
     "execution_count": 74,
     "metadata": {},
     "output_type": "execute_result"
    }
   ],
   "source": [
    "X_train, X_valid, y_train, y_valid = train_test_split(X, y, test_size=0.2, random_state=RANDOM_SEED, stratify=y)\n",
    "X.shape, y.shape, X_train.shape, y_train.shape, X_valid.shape, y_valid.shape,"
   ],
   "metadata": {
    "collapsed": false,
    "pycharm": {
     "name": "#%%\n"
    }
   }
  },
  {
   "cell_type": "code",
   "execution_count": 75,
   "outputs": [
    {
     "data": {
      "text/plain": "0.6420679739483955"
     },
     "execution_count": 75,
     "metadata": {},
     "output_type": "execute_result"
    }
   ],
   "source": [
    "model = LGBMClassifier(random_state=RANDOM_SEED, class_weight='balanced', max_depth=2)\n",
    "model.fit(X_train, y_train)\n",
    "y_prob = model.predict_proba(X_valid)\n",
    "metrics.roc_auc_score(y_valid, y_prob, average='weighted', multi_class='ovo')"
   ],
   "metadata": {
    "collapsed": false,
    "pycharm": {
     "name": "#%%\n"
    }
   }
  },
  {
   "cell_type": "code",
   "execution_count": 63,
   "outputs": [
    {
     "data": {
      "text/plain": "(array([-1,  0,  1,  2,  3,  4,  5]),\n array([8672,  549, 6872, 4456, 2314, 1332, 1521]))"
     },
     "execution_count": 63,
     "metadata": {},
     "output_type": "execute_result"
    }
   ],
   "source": [
    "np.unique(y, return_counts=True)"
   ],
   "metadata": {
    "collapsed": false,
    "pycharm": {
     "name": "#%%\n"
    }
   }
  },
  {
   "cell_type": "code",
   "execution_count": 64,
   "outputs": [
    {
     "data": {
      "text/plain": "array([0.62546706, 0.60957784, 0.60659654, 0.65214576, 0.6515365 ])"
     },
     "execution_count": 64,
     "metadata": {},
     "output_type": "execute_result"
    }
   ],
   "source": [
    "cross_val_score(model, X, y, cv=5, scoring='roc_auc_ovr_weighted')"
   ],
   "metadata": {
    "collapsed": false,
    "pycharm": {
     "name": "#%%\n"
    }
   }
  },
  {
   "cell_type": "code",
   "execution_count": 65,
   "outputs": [
    {
     "name": "stdout",
     "output_type": "stream",
     "text": [
      "0.6484611600074767\n",
      "0.6438224056887837\n",
      "0.6455660928204173\n",
      "0.6475839325849257\n",
      "0.6465540356074815\n"
     ]
    }
   ],
   "source": [
    "skf = StratifiedKFold(n_splits=5, shuffle=True)\n",
    "for train_index, test_index in skf.split(X, y):\n",
    "    model = LGBMClassifier(random_state=RANDOM_SEED, class_weight='balanced', max_depth=2)\n",
    "    X_train, X_test = X.iloc[train_index, :], X.iloc[test_index, :]\n",
    "    y_train, y_test = y.iloc[train_index], y.iloc[test_index]\n",
    "    model.fit(X_train, y_train)\n",
    "    y_prob = model.predict_proba(X_test)\n",
    "    print(metrics.roc_auc_score(y_test, y_prob, multi_class='ovr', average='weighted'))\n",
    "#cross_val_score(model, X, y, cv=5, scoring='roc_auc_ovo_weighted')"
   ],
   "metadata": {
    "collapsed": false,
    "pycharm": {
     "name": "#%%\n"
    }
   }
  },
  {
   "cell_type": "markdown",
   "source": [
    "На самом деле для такого набора признаков и модели без настроенных гиперпараметров результат просто поразительный, следовательно нужно искать где\n",
    "в предыдущих раскладках ошибка"
   ],
   "metadata": {
    "collapsed": false,
    "pycharm": {
     "name": "#%% md\n"
    }
   }
  },
  {
   "cell_type": "code",
   "execution_count": 66,
   "outputs": [
    {
     "data": {
      "text/plain": "<Figure size 720x720 with 1 Axes>",
      "image/png": "[encoded data removed]"
     },
     "metadata": {
      "needs_background": "light"
     },
     "output_type": "display_data"
    }
   ],
   "source": [
    "plot_feature_importances(model.feature_importances_, X.columns)"
   ],
   "metadata": {
    "collapsed": false,
    "pycharm": {
     "name": "#%%\n"
    }
   }
  },
  {
   "cell_type": "code",
   "execution_count": 67,
   "outputs": [
    {
     "data": {
      "text/plain": "<Figure size 576x576 with 2 Axes>",
      "image/png": "[encoded data removed]"
     },
     "metadata": {
      "needs_background": "light"
     },
     "output_type": "display_data"
    }
   ],
   "source": [
    "y_pred = model.predict(X_valid)\n",
    "show_confusion_matrix(y_pred, y_valid)"
   ],
   "metadata": {
    "collapsed": false,
    "pycharm": {
     "name": "#%%\n"
    }
   }
  },
  {
   "cell_type": "code",
   "execution_count": 68,
   "outputs": [
    {
     "data": {
      "text/plain": "[(1, 1),\n (3, 2),\n (3, 3),\n (-1, 2),\n (4, 5),\n (1, 1),\n (4, -1),\n (-1, 5),\n (1, 1),\n (1, 3)]"
     },
     "execution_count": 68,
     "metadata": {},
     "output_type": "execute_result"
    }
   ],
   "source": [
    "list(zip(y_pred, y_valid))[100:110]"
   ],
   "metadata": {
    "collapsed": false,
    "pycharm": {
     "name": "#%%\n"
    }
   }
  },
  {
   "cell_type": "code",
   "execution_count": 69,
   "outputs": [
    {
     "data": {
      "text/plain": "0.6699530256150925"
     },
     "execution_count": 69,
     "metadata": {},
     "output_type": "execute_result"
    }
   ],
   "source": [
    "# По замечаниям - проверка на переобучение\n",
    "y_prob = model.predict_proba(X_train)\n",
    "metrics.roc_auc_score(y_train, y_prob, multi_class='ovr', average='weighted')"
   ],
   "metadata": {
    "collapsed": false,
    "pycharm": {
     "name": "#%%\n"
    }
   }
  },
  {
   "cell_type": "markdown",
   "source": [
    "# !!!Переобучились, но немного"
   ],
   "metadata": {
    "collapsed": false,
    "pycharm": {
     "name": "#%% md\n"
    }
   }
  },
  {
   "cell_type": "code",
   "execution_count": 70,
   "outputs": [
    {
     "data": {
      "text/plain": "1.3368294799884821"
     },
     "execution_count": 70,
     "metadata": {},
     "output_type": "execute_result"
    }
   ],
   "source": [
    "model = LGBMRegressor(random_state=RANDOM_SEED)\n",
    "model.fit(X_train, y_train)\n",
    "y_pred = model.predict(X_valid)\n",
    "metrics.mean_absolute_error(y_valid, y_pred)"
   ],
   "metadata": {
    "collapsed": false,
    "pycharm": {
     "name": "#%%\n"
    }
   }
  },
  {
   "cell_type": "code",
   "execution_count": 71,
   "outputs": [
    {
     "data": {
      "text/plain": "[(2.0, 1),\n (1.0, 2),\n (1.0, 3),\n (1.0, 2),\n (2.0, 5),\n (1.0, 1),\n (0.0, -1),\n (2.0, 5),\n (1.0, 1),\n (1.0, 3)]"
     },
     "execution_count": 71,
     "metadata": {},
     "output_type": "execute_result"
    }
   ],
   "source": [
    "list(zip(np.round(y_pred), y_valid))[100:110]"
   ],
   "metadata": {
    "collapsed": false,
    "pycharm": {
     "name": "#%%\n"
    }
   }
  },
  {
   "cell_type": "code",
   "execution_count": 72,
   "outputs": [
    {
     "data": {
      "text/plain": "(array([-2., -1., -0.,  1.,  2.,  3.]),\n array([   2,   61,  600, 3734,  736,   11]))"
     },
     "execution_count": 72,
     "metadata": {},
     "output_type": "execute_result"
    }
   ],
   "source": [
    "np.unique(np.round(y_pred), return_counts=True)"
   ],
   "metadata": {
    "collapsed": false,
    "pycharm": {
     "name": "#%%\n"
    }
   }
  },
  {
   "cell_type": "code",
   "execution_count": null,
   "outputs": [],
   "source": [],
   "metadata": {
    "collapsed": false,
    "pycharm": {
     "name": "#%%\n"
    }
   }
  }
 ],
 "metadata": {
  "kernelspec": {
   "display_name": "Python 3",
   "language": "python",
   "name": "python3"
  },
  "language_info": {
   "codemirror_mode": {
    "name": "ipython",
    "version": 2
   },
   "file_extension": ".py",
   "mimetype": "text/x-python",
   "name": "python",
   "nbconvert_exporter": "python",
   "pygments_lexer": "ipython2",
   "version": "2.7.6"
  }
 },
 "nbformat": 4,
 "nbformat_minor": 0
}