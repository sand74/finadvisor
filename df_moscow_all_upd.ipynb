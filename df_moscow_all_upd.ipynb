{
 "cells": [
  {
   "cell_type": "markdown",
   "metadata": {
    "collapsed": true,
    "pycharm": {
     "name": "#%% md\n"
    }
   },
   "source": []
  },
  {
   "cell_type": "markdown",
   "source": [
    "Не стал пересчитывать вложения с учетом инфляции, так как хотел посмотреть не только на первоначальные вложения, но и на распределение их по балансу.\n",
    "В процентах боялся запутаться, но думаю что если учесть инфляцию, то результат просто станет лучше."
   ],
   "metadata": {
    "collapsed": false,
    "pycharm": {
     "name": "#%% md\n"
    }
   }
  },
  {
   "cell_type": "code",
   "execution_count": 769,
   "outputs": [],
   "source": [
    "import pandas as pd\n",
    "import numpy as np\n",
    "from lightgbm import LGBMRegressor, LGBMClassifier\n",
    "from sklearn.ensemble import GradientBoostingRegressor, RandomForestRegressor\n",
    "from sklearn.linear_model import RidgeCV, SGDRegressor, LogisticRegressionCV, LogisticRegression\n",
    "from sklearn import metrics\n",
    "from sklearn.metrics import roc_curve, roc_auc_score, confusion_matrix\n",
    "from sklearn.model_selection import train_test_split, cross_val_score\n",
    "from sklearn import preprocessing\n",
    "from tqdm.notebook import tqdm\n",
    "from autoviz.AutoViz_Class import AutoViz_Class\n",
    "import datetime\n",
    "from time import sleep, time\n",
    "import re\n",
    "\n",
    "import matplotlib.pyplot as plt\n",
    "import seaborn as sns\n",
    "%matplotlib inline"
   ],
   "metadata": {
    "collapsed": false,
    "pycharm": {
     "name": "#%%\n"
    }
   }
  },
  {
   "cell_type": "code",
   "execution_count": 770,
   "outputs": [],
   "source": [
    "RANDOM_SEED = 42"
   ],
   "metadata": {
    "collapsed": false,
    "pycharm": {
     "name": "#%%\n"
    }
   }
  },
  {
   "cell_type": "code",
   "execution_count": 771,
   "outputs": [],
   "source": [
    "# def na_info(ds: pd.DataFrame) -> pd.DataFrame:\n",
    "#     arr = []\n",
    "#     nans_cnt = ds.isna().sum()\n",
    "#     for ind, row in tqdm(nans_cnt.items(), total=nans_cnt.shape[0]):\n",
    "#         name = ind\n",
    "#         if ind.startswith('ind_'):\n",
    "#             name = buh_codes_dict[ind[4:8]]\n",
    "#         arr.append([ind, name, row, round(row / data.shape[0] * 100, 2)])\n",
    "#     return pd.DataFrame(arr, columns=['column', 'name', 'nan_cnt', 'nan_perc'])\n",
    "\n",
    "\n",
    "def show_num_corr(df: pd.DataFrame, features: list = None, title: str ='Корреляция между данными'):\n",
    "    '''\n",
    "    Корреляция между числовыми признаками набора данных\n",
    "    :param df: Набор данных\n",
    "    :param features: признаки\n",
    "    :param title: Заголовок карты\n",
    "    :return: Корр карта признаков\n",
    "    '''\n",
    "    plt.figure(figsize=(16, 16))\n",
    "    show_df =  df\n",
    "    if features is not None:\n",
    "        show_df = df[features]\n",
    "    mask = np.triu(np.ones_like(show_df.corr(), dtype=bool))\n",
    "    heatmap = sns.heatmap(show_df.corr(),\n",
    "                          mask=mask, vmin=-1, vmax=1, annot=True, cmap='BrBG')\n",
    "    heatmap = heatmap.set_title(title, fontdict={'fontsize': 18}, pad=16)\n",
    "    return heatmap\n",
    "\n",
    "\n",
    "def get_high_coreleted_features(df: pd.DataFrame, limit: float = 0.9, method: str = 'pearson') -> pd.DataFrame:\n",
    "    '''\n",
    "    Получить сильно скоррелированные признаки\n",
    "    :param df: Набор данных\n",
    "    :param limit: только те, корреляция которых превышает лимит\n",
    "    :param method: метод вычисления корреляции\n",
    "    :return: Наобор вида (признак1, признак2, коэфф корреляции)\n",
    "    '''\n",
    "    corr_ds = df.corr(method=method)\n",
    "    corr_rows = []\n",
    "    for ind_row, row in corr_ds.iterrows():\n",
    "        for ind_col, cell in row.items():\n",
    "            if abs(cell) > limit and ind_row != ind_col:\n",
    "                if [ind_col, ind_row, cell] not in corr_rows:\n",
    "                    corr_rows.append([ind_row, ind_col, cell])\n",
    "    return pd.DataFrame(corr_rows, columns=['feature_1', 'feature_2', 'value'])\n",
    "\n",
    "\n",
    "def outliers(df: pd.DataFrame, feature: str, iqrs: float = 1.5) -> pd.DataFrame:\n",
    "    '''\n",
    "    Получение выбросов по интерквартильному размаху\n",
    "    :param df: Набор данных\n",
    "    :param feature: Признак для которого ищем выбросы\n",
    "    :param iqrs: Все что выходит за  IQR * iqrs\n",
    "    :return: набор данных с выбросами\n",
    "    '''\n",
    "    # Интерквартильный размах\n",
    "    perc25 = df[feature].quantile(0.25)\n",
    "    perc75 = df[feature].quantile(0.75)\n",
    "    IQR = perc75 - perc25\n",
    "    low, high = (perc25 - iqrs * IQR, perc75 + iqrs * IQR)\n",
    "    print(\n",
    "        f'25-й перцентиль: {perc25}, 75-й перцентиль: {perc75}, IQR: {IQR}, Границы выбросов: [{low}, {high}]')\n",
    "    return df[(df[feature] < low) | (df[feature] > high)]\n",
    "\n",
    "\n",
    "def first_look(s: pd.Series) -> None:\n",
    "    '''\n",
    "    EDA для признаков\n",
    "    :param s: Колонка признака\n",
    "    :return: None\n",
    "    '''\n",
    "    saved_format = pd.options.display.float_format\n",
    "    pd.options.display.float_format = '{:.2f}'.format\n",
    "    print('-' * 80)\n",
    "    try:\n",
    "        print('Название:', s.name)\n",
    "        print('Тип данных:', s.dtype.type)\n",
    "        print('Количество значений:', len(s))\n",
    "        print('Количество уникальных значений:', s.nunique())\n",
    "        print('Количество пропусков:', s.isna().sum())\n",
    "        print(f'Процент пропусков: {round((s.isna().sum() / len(s)) * 100, 2)}%')\n",
    "        print('Общие статистики:')\n",
    "        print(s.describe())\n",
    "        print('Топ 10 уникальных значений:')\n",
    "        print(s.value_counts()[:10])\n",
    "    except Exception as e:\n",
    "        print('Ошибка:', str(e))\n",
    "    print('-' * 80)\n",
    "    pd.options.display.float_format = saved_format\n",
    "\n",
    "\n",
    "def plot_feature_importances(fi, columns: list, num: int=20) -> None:\n",
    "    '''\n",
    "    График важности признаков для моделей с feature_importances\n",
    "    :param fi: feature_importances\n",
    "    :param columns: какие признаки смотрим\n",
    "    :param num: сколько самых важных выводим\n",
    "    :return: None\n",
    "    '''\n",
    "    plt.rcParams['figure.figsize'] = (10, 10)\n",
    "    feat_importances = pd.Series(fi, index=columns)\n",
    "    mean_imp = feat_importances.nlargest(num).mean()\n",
    "    feat_colors = feat_importances.apply(lambda x: 'r' if x > mean_imp else 'b')\n",
    "    feat_importances.nlargest(num).plot(kind='barh', title='Feature importance')\n",
    "\n",
    "\n",
    "def show_roc_auc(y_test: list, probs: list) -> None:\n",
    "    '''\n",
    "    График ROC AUC\n",
    "    :param y_test: Истенные значения\n",
    "    :param probs: Предсказанные вероятности\n",
    "    :return: None\n",
    "    '''\n",
    "    fpr, tpr, threshold = roc_curve(y_test, probs)\n",
    "    roc_auc = roc_auc_score(y_test, probs)\n",
    "    plt.figure(figsize=(12, 8))\n",
    "    plt.plot([0, 1], label='Baseline', linestyle='--')\n",
    "    plt.plot(fpr, tpr, label = 'Regression')\n",
    "    plt.title('Logistic Regression ROC AUC = %0.10f' % roc_auc)\n",
    "    plt.ylabel('True Positive Rate')\n",
    "    plt.xlabel('False Positive Rate')\n",
    "    plt.legend(loc = 'lower right')\n",
    "    plt.show()\n",
    "\n",
    "\n",
    "def show_lr_Importance(model: LogisticRegression, features: list, n: int=20) -> None:\n",
    "    '''\n",
    "    График важности признаков для моделей с LR\n",
    "    :param model: экземпляр LR\n",
    "    :param features: какие признаки смотрим\n",
    "    :param n: сколько самых важных выводим\n",
    "    :return:\n",
    "    '''\n",
    "    lr_coef = pd.DataFrame(model.coef_.T, columns=['coefficient'], index=features)\n",
    "    lr_coef = np.abs(lr_coef)\n",
    "    lr_coef = lr_coef.sort_values(by='coefficient', ascending=False)\n",
    "    f, ax = plt.subplots(1, 1, figsize=(16, 10))\n",
    "    df4display = lr_coef.head(n)\n",
    "    sns.barplot(x=df4display['coefficient'], y=df4display.index, palette=\"vlag\", ax=ax)\n",
    "    _ = ax.set_ylabel(\"Признак\")\n",
    "    _ = ax.set_title(\"Значимость признаков\")\n",
    "\n",
    "\n",
    "def show_confusion_matrix(y_pred: list, y_true: list) -> None:\n",
    "    '''\n",
    "    Матрица смежности для предсказаний классификатора\n",
    "    :param y_pred: предсказанные значения\n",
    "    :param y_true: истинные значения\n",
    "    :return:\n",
    "    '''\n",
    "    plt.figure(figsize=(8, 8))\n",
    "    c_matrix = confusion_matrix(y_true, y_pred, labels=np.unique(y_true))\n",
    "    heatmap = sns.heatmap(c_matrix, annot=True, cmap='BrBG', fmt='g', annot_kws={\"fontsize\": 18})\n",
    "    heatmap = heatmap.set_title(\"Confusion matrix\", fontdict={'fontsize': 18}, pad=16)\n",
    "\n",
    "\n",
    "def print_clssification_metrix(y_pred: list, y_true: list):\n",
    "    '''\n",
    "    Метрики качества для классификатора\n",
    "    :param y_pred:\n",
    "    :param y_true:\n",
    "    :return:\n",
    "    '''\n",
    "    print('Precision:', metrics.precision_score(y_pred, y_true))\n",
    "    print('Recall:', metrics.recall_score(y_pred, y_true))\n",
    "    print('F1-score:', metrics.f1_score(y_pred, y_true))\n"
   ],
   "metadata": {
    "collapsed": false,
    "pycharm": {
     "name": "#%%\n"
    }
   }
  },
  {
   "cell_type": "code",
   "execution_count": 772,
   "outputs": [],
   "source": [
    "def combine_equals(df):\n",
    "    # Есть странные колонки заканчивающиеся на .1 и .2 - объединяем с нормальным кодом\n",
    "    for col in [c for c in df.columns if c.endswith('.1') or c.endswith('.2')]:\n",
    "        if col[0:8] in df.columns :\n",
    "            df[col[0:8]] = df[col[0:8]] + df[col]\n",
    "            df.drop(col, axis=1, inplace=True)"
   ],
   "metadata": {
    "collapsed": false,
    "pycharm": {
     "name": "#%%\n"
    }
   }
  },
  {
   "cell_type": "code",
   "execution_count": 773,
   "outputs": [
    {
     "data": {
      "text/plain": "          inn           ogrn main_okved  \\\n0  7721452574  1167700052233      85.22   \n1  7721452574  1167700052233      85.22   \n2  7721452574  1167700052233      85.22   \n3  7721452574  1167700052233      85.22   \n4  7721452574  1167700052233      85.22   \n\n                                                                                            name  \\\n0  АВТОНОМНАЯ НЕКОММЕРЧЕСКАЯ ОРГАНИЗАЦИЯ ВЫСШЕГО ОБРАЗОВАНИЯ «ИНСТИТУТ НЕПРЕРЫВНОГО ОБРАЗОВАНИЯ»   \n1  АВТОНОМНАЯ НЕКОММЕРЧЕСКАЯ ОРГАНИЗАЦИЯ ВЫСШЕГО ОБРАЗОВАНИЯ «ИНСТИТУТ НЕПРЕРЫВНОГО ОБРАЗОВАНИЯ»   \n2  АВТОНОМНАЯ НЕКОММЕРЧЕСКАЯ ОРГАНИЗАЦИЯ ВЫСШЕГО ОБРАЗОВАНИЯ «ИНСТИТУТ НЕПРЕРЫВНОГО ОБРАЗОВАНИЯ»   \n3  АВТОНОМНАЯ НЕКОММЕРЧЕСКАЯ ОРГАНИЗАЦИЯ ВЫСШЕГО ОБРАЗОВАНИЯ «ИНСТИТУТ НЕПРЕРЫВНОГО ОБРАЗОВАНИЯ»   \n4  АВТОНОМНАЯ НЕКОММЕРЧЕСКАЯ ОРГАНИЗАЦИЯ ВЫСШЕГО ОБРАЗОВАНИЯ «ИНСТИТУТ НЕПРЕРЫВНОГО ОБРАЗОВАНИЯ»   \n\n                                    address                      type  \\\n0  109542, г. Москва, пр-кт Рязанский, 86/1  некоммерческая унитарная   \n1  109542, г. Москва, пр-кт Рязанский, 86/1  некоммерческая унитарная   \n2  109542, г. Москва, пр-кт Рязанский, 86/1  некоммерческая унитарная   \n3  109542, г. Москва, пр-кт Рязанский, 86/1  некоммерческая унитарная   \n4  109542, г. Москва, пр-кт Рязанский, 86/1  некоммерческая унитарная   \n\n        status  \\\n0  действующая   \n1  действующая   \n2  действующая   \n3  действующая   \n4  действующая   \n\n                                                                                        okved  \\\n0  ['18.11', '18.12', '18.14', '18.20', '52.10', '55.20', '55.90', '56.29', '58.11', '58.13']   \n1  ['18.11', '18.12', '18.14', '18.20', '52.10', '55.20', '55.90', '56.29', '58.11', '58.13']   \n2  ['18.11', '18.12', '18.14', '18.20', '52.10', '55.20', '55.90', '56.29', '58.11', '58.13']   \n3  ['18.11', '18.12', '18.14', '18.20', '52.10', '55.20', '55.90', '56.29', '58.11', '58.13']   \n4  ['18.11', '18.12', '18.14', '18.20', '52.10', '55.20', '55.90', '56.29', '58.11', '58.13']   \n\n     date_reg  \\\n0  2016-02-15   \n1  2016-02-15   \n2  2016-02-15   \n3  2016-02-15   \n4  2016-02-15   \n\n                                                                                                                               comments  \\\n0  Обратите внимание, АНО ВО \"ИНО\" является некоммерческой организацией, то есть извлечение прибыли для нее не является основной целью.   \n1  Обратите внимание, АНО ВО \"ИНО\" является некоммерческой организацией, то есть извлечение прибыли для нее не является основной целью.   \n2  Обратите внимание, АНО ВО \"ИНО\" является некоммерческой организацией, то есть извлечение прибыли для нее не является основной целью.   \n3  Обратите внимание, АНО ВО \"ИНО\" является некоммерческой организацией, то есть извлечение прибыли для нее не является основной целью.   \n4  Обратите внимание, АНО ВО \"ИНО\" является некоммерческой организацией, то есть извлечение прибыли для нее не является основной целью.   \n\n   ...  founding_year  founding_month          name_okved  currency  \\\n0  ...           2016               2  Образование высшее   67.0349   \n1  ...           2016               2  Образование высшее   58.3529   \n2  ...           2016               2  Образование высшее   62.7078   \n3  ...           2016               2  Образование высшее   64.7362   \n4  ...           2016               2  Образование высшее   72.1464   \n\n   inflation_by_2022   investments  inflation  total_profit  breaking_even  \\\n0             1.3200  20155.000000     1.0538             0              0   \n1             1.2527  21239.338735     1.0252             0              0   \n2             1.2218  21774.570269     1.0427             0              0   \n3             1.1718  22704.345558     1.0305             0              0   \n4             1.1371  23396.829332     1.0491             0              0   \n\n   payback_time  \n0            -1  \n1            -1  \n2            -1  \n3            -1  \n4            -1  \n\n[5 rows x 130 columns]",
      "text/html": "<div>\n<style scoped>\n    .dataframe tbody tr th:only-of-type {\n        vertical-align: middle;\n    }\n\n    .dataframe tbody tr th {\n        vertical-align: top;\n    }\n\n    .dataframe thead th {\n        text-align: right;\n    }\n</style>\n<table border=\"1\" class=\"dataframe\">\n  <thead>\n    <tr style=\"text-align: right;\">\n      <th></th>\n      <th>inn</th>\n      <th>ogrn</th>\n      <th>main_okved</th>\n      <th>name</th>\n      <th>address</th>\n      <th>type</th>\n      <th>status</th>\n      <th>okved</th>\n      <th>date_reg</th>\n      <th>comments</th>\n      <th>...</th>\n      <th>founding_year</th>\n      <th>founding_month</th>\n      <th>name_okved</th>\n      <th>currency</th>\n      <th>inflation_by_2022</th>\n      <th>investments</th>\n      <th>inflation</th>\n      <th>total_profit</th>\n      <th>breaking_even</th>\n      <th>payback_time</th>\n    </tr>\n  </thead>\n  <tbody>\n    <tr>\n      <th>0</th>\n      <td>7721452574</td>\n      <td>1167700052233</td>\n      <td>85.22</td>\n      <td>АВТОНОМНАЯ НЕКОММЕРЧЕСКАЯ ОРГАНИЗАЦИЯ ВЫСШЕГО ОБРАЗОВАНИЯ «ИНСТИТУТ НЕПРЕРЫВНОГО ОБРАЗОВАНИЯ»</td>\n      <td>109542, г. Москва, пр-кт Рязанский, 86/1</td>\n      <td>некоммерческая унитарная</td>\n      <td>действующая</td>\n      <td>['18.11', '18.12', '18.14', '18.20', '52.10', '55.20', '55.90', '56.29', '58.11', '58.13']</td>\n      <td>2016-02-15</td>\n      <td>Обратите внимание, АНО ВО \"ИНО\" является некоммерческой организацией, то есть извлечение прибыли для нее не является основной целью.</td>\n      <td>...</td>\n      <td>2016</td>\n      <td>2</td>\n      <td>Образование высшее</td>\n      <td>67.0349</td>\n      <td>1.3200</td>\n      <td>20155.000000</td>\n      <td>1.0538</td>\n      <td>0</td>\n      <td>0</td>\n      <td>-1</td>\n    </tr>\n    <tr>\n      <th>1</th>\n      <td>7721452574</td>\n      <td>1167700052233</td>\n      <td>85.22</td>\n      <td>АВТОНОМНАЯ НЕКОММЕРЧЕСКАЯ ОРГАНИЗАЦИЯ ВЫСШЕГО ОБРАЗОВАНИЯ «ИНСТИТУТ НЕПРЕРЫВНОГО ОБРАЗОВАНИЯ»</td>\n      <td>109542, г. Москва, пр-кт Рязанский, 86/1</td>\n      <td>некоммерческая унитарная</td>\n      <td>действующая</td>\n      <td>['18.11', '18.12', '18.14', '18.20', '52.10', '55.20', '55.90', '56.29', '58.11', '58.13']</td>\n      <td>2016-02-15</td>\n      <td>Обратите внимание, АНО ВО \"ИНО\" является некоммерческой организацией, то есть извлечение прибыли для нее не является основной целью.</td>\n      <td>...</td>\n      <td>2016</td>\n      <td>2</td>\n      <td>Образование высшее</td>\n      <td>58.3529</td>\n      <td>1.2527</td>\n      <td>21239.338735</td>\n      <td>1.0252</td>\n      <td>0</td>\n      <td>0</td>\n      <td>-1</td>\n    </tr>\n    <tr>\n      <th>2</th>\n      <td>7721452574</td>\n      <td>1167700052233</td>\n      <td>85.22</td>\n      <td>АВТОНОМНАЯ НЕКОММЕРЧЕСКАЯ ОРГАНИЗАЦИЯ ВЫСШЕГО ОБРАЗОВАНИЯ «ИНСТИТУТ НЕПРЕРЫВНОГО ОБРАЗОВАНИЯ»</td>\n      <td>109542, г. Москва, пр-кт Рязанский, 86/1</td>\n      <td>некоммерческая унитарная</td>\n      <td>действующая</td>\n      <td>['18.11', '18.12', '18.14', '18.20', '52.10', '55.20', '55.90', '56.29', '58.11', '58.13']</td>\n      <td>2016-02-15</td>\n      <td>Обратите внимание, АНО ВО \"ИНО\" является некоммерческой организацией, то есть извлечение прибыли для нее не является основной целью.</td>\n      <td>...</td>\n      <td>2016</td>\n      <td>2</td>\n      <td>Образование высшее</td>\n      <td>62.7078</td>\n      <td>1.2218</td>\n      <td>21774.570269</td>\n      <td>1.0427</td>\n      <td>0</td>\n      <td>0</td>\n      <td>-1</td>\n    </tr>\n    <tr>\n      <th>3</th>\n      <td>7721452574</td>\n      <td>1167700052233</td>\n      <td>85.22</td>\n      <td>АВТОНОМНАЯ НЕКОММЕРЧЕСКАЯ ОРГАНИЗАЦИЯ ВЫСШЕГО ОБРАЗОВАНИЯ «ИНСТИТУТ НЕПРЕРЫВНОГО ОБРАЗОВАНИЯ»</td>\n      <td>109542, г. Москва, пр-кт Рязанский, 86/1</td>\n      <td>некоммерческая унитарная</td>\n      <td>действующая</td>\n      <td>['18.11', '18.12', '18.14', '18.20', '52.10', '55.20', '55.90', '56.29', '58.11', '58.13']</td>\n      <td>2016-02-15</td>\n      <td>Обратите внимание, АНО ВО \"ИНО\" является некоммерческой организацией, то есть извлечение прибыли для нее не является основной целью.</td>\n      <td>...</td>\n      <td>2016</td>\n      <td>2</td>\n      <td>Образование высшее</td>\n      <td>64.7362</td>\n      <td>1.1718</td>\n      <td>22704.345558</td>\n      <td>1.0305</td>\n      <td>0</td>\n      <td>0</td>\n      <td>-1</td>\n    </tr>\n    <tr>\n      <th>4</th>\n      <td>7721452574</td>\n      <td>1167700052233</td>\n      <td>85.22</td>\n      <td>АВТОНОМНАЯ НЕКОММЕРЧЕСКАЯ ОРГАНИЗАЦИЯ ВЫСШЕГО ОБРАЗОВАНИЯ «ИНСТИТУТ НЕПРЕРЫВНОГО ОБРАЗОВАНИЯ»</td>\n      <td>109542, г. Москва, пр-кт Рязанский, 86/1</td>\n      <td>некоммерческая унитарная</td>\n      <td>действующая</td>\n      <td>['18.11', '18.12', '18.14', '18.20', '52.10', '55.20', '55.90', '56.29', '58.11', '58.13']</td>\n      <td>2016-02-15</td>\n      <td>Обратите внимание, АНО ВО \"ИНО\" является некоммерческой организацией, то есть извлечение прибыли для нее не является основной целью.</td>\n      <td>...</td>\n      <td>2016</td>\n      <td>2</td>\n      <td>Образование высшее</td>\n      <td>72.1464</td>\n      <td>1.1371</td>\n      <td>23396.829332</td>\n      <td>1.0491</td>\n      <td>0</td>\n      <td>0</td>\n      <td>-1</td>\n    </tr>\n  </tbody>\n</table>\n<p>5 rows × 130 columns</p>\n</div>"
     },
     "execution_count": 773,
     "metadata": {},
     "output_type": "execute_result"
    }
   ],
   "source": [
    "data_msk = pd.read_csv('data/df_moscow_all_upd.csv')\n",
    "combine_equals(data_msk)\n",
    "data_msk.head()"
   ],
   "metadata": {
    "collapsed": false,
    "pycharm": {
     "name": "#%%\n"
    }
   }
  },
  {
   "cell_type": "code",
   "execution_count": 774,
   "outputs": [
    {
     "data": {
      "text/plain": "          inn           ogrn main_okved         name  \\\n0  7813213777  1157847038062      62.01  ООО \"СТИЛЬ\"   \n1  7813213777  1157847038062      62.01  ООО \"СТИЛЬ\"   \n2  7813213777  1157847038062      62.01  ООО \"СТИЛЬ\"   \n3  7813213777  1157847038062      62.01  ООО \"СТИЛЬ\"   \n4  7813213777  1157847038062      62.01  ООО \"СТИЛЬ\"   \n\n                                                                         address  \\\n0  194044, г. Санкт-Петербург, пр-кт Большой Сампсониевский, 47 литер а, кв. 107   \n1  194044, г. Санкт-Петербург, пр-кт Большой Сампсониевский, 47 литер а, кв. 107   \n2  194044, г. Санкт-Петербург, пр-кт Большой Сампсониевский, 47 литер а, кв. 107   \n3  194044, г. Санкт-Петербург, пр-кт Большой Сампсониевский, 47 литер а, кв. 107   \n4  194044, г. Санкт-Петербург, пр-кт Большой Сампсониевский, 47 литер а, кв. 107   \n\n           type                 status  \\\n0  коммерческая  в процессе ликвидации   \n1  коммерческая  в процессе ликвидации   \n2  коммерческая  в процессе ликвидации   \n3  коммерческая  в процессе ликвидации   \n4  коммерческая  в процессе ликвидации   \n\n                                                        okved    date_reg  \\\n0  ['26.20', '26.51.8', '62.02', '62.09', '63.11', '63.11.1']  2015-02-06   \n1  ['26.20', '26.51.8', '62.02', '62.09', '63.11', '63.11.1']  2015-02-06   \n2  ['26.20', '26.51.8', '62.02', '62.09', '63.11', '63.11.1']  2015-02-06   \n3  ['26.20', '26.51.8', '62.02', '62.09', '63.11', '63.11.1']  2015-02-06   \n4  ['26.20', '26.51.8', '62.02', '62.09', '63.11', '63.11.1']  2015-02-06   \n\n                                                    comments  ...  \\\n0  Организация находится в стадии ликвидидации с 12.10.2021.  ...   \n1  Организация находится в стадии ликвидидации с 12.10.2021.  ...   \n2  Организация находится в стадии ликвидидации с 12.10.2021.  ...   \n3  Организация находится в стадии ликвидидации с 12.10.2021.  ...   \n4  Организация находится в стадии ликвидидации с 12.10.2021.  ...   \n\n   founding_year  founding_month  \\\n0           2015               2   \n1           2015               2   \n2           2015               2   \n3           2015               2   \n4           2015               2   \n\n                                          name_okved  currency  \\\n0  Разработка компьютерного программного обеспечения   60.9579   \n1  Разработка компьютерного программного обеспечения   67.0349   \n2  Разработка компьютерного программного обеспечения   58.3529   \n3  Разработка компьютерного программного обеспечения   62.7078   \n4  Разработка компьютерного программного обеспечения   64.7362   \n\n   inflation_by_2022  investments  inflation  total_profit  breaking_even  \\\n0             1.4904    10.000000     1.1291            22              1   \n1             1.3200    11.291000     1.0538            57              1   \n2             1.2527    11.898456     1.0252           148              1   \n3             1.2218    12.198297     1.0427           430              1   \n4             1.1718    12.719164     1.0305           677              1   \n\n   payback_time  \n0             1  \n1             1  \n2             1  \n3             1  \n4             1  \n\n[5 rows x 121 columns]",
      "text/html": "<div>\n<style scoped>\n    .dataframe tbody tr th:only-of-type {\n        vertical-align: middle;\n    }\n\n    .dataframe tbody tr th {\n        vertical-align: top;\n    }\n\n    .dataframe thead th {\n        text-align: right;\n    }\n</style>\n<table border=\"1\" class=\"dataframe\">\n  <thead>\n    <tr style=\"text-align: right;\">\n      <th></th>\n      <th>inn</th>\n      <th>ogrn</th>\n      <th>main_okved</th>\n      <th>name</th>\n      <th>address</th>\n      <th>type</th>\n      <th>status</th>\n      <th>okved</th>\n      <th>date_reg</th>\n      <th>comments</th>\n      <th>...</th>\n      <th>founding_year</th>\n      <th>founding_month</th>\n      <th>name_okved</th>\n      <th>currency</th>\n      <th>inflation_by_2022</th>\n      <th>investments</th>\n      <th>inflation</th>\n      <th>total_profit</th>\n      <th>breaking_even</th>\n      <th>payback_time</th>\n    </tr>\n  </thead>\n  <tbody>\n    <tr>\n      <th>0</th>\n      <td>7813213777</td>\n      <td>1157847038062</td>\n      <td>62.01</td>\n      <td>ООО \"СТИЛЬ\"</td>\n      <td>194044, г. Санкт-Петербург, пр-кт Большой Сампсониевский, 47 литер а, кв. 107</td>\n      <td>коммерческая</td>\n      <td>в процессе ликвидации</td>\n      <td>['26.20', '26.51.8', '62.02', '62.09', '63.11', '63.11.1']</td>\n      <td>2015-02-06</td>\n      <td>Организация находится в стадии ликвидидации с 12.10.2021.</td>\n      <td>...</td>\n      <td>2015</td>\n      <td>2</td>\n      <td>Разработка компьютерного программного обеспечения</td>\n      <td>60.9579</td>\n      <td>1.4904</td>\n      <td>10.000000</td>\n      <td>1.1291</td>\n      <td>22</td>\n      <td>1</td>\n      <td>1</td>\n    </tr>\n    <tr>\n      <th>1</th>\n      <td>7813213777</td>\n      <td>1157847038062</td>\n      <td>62.01</td>\n      <td>ООО \"СТИЛЬ\"</td>\n      <td>194044, г. Санкт-Петербург, пр-кт Большой Сампсониевский, 47 литер а, кв. 107</td>\n      <td>коммерческая</td>\n      <td>в процессе ликвидации</td>\n      <td>['26.20', '26.51.8', '62.02', '62.09', '63.11', '63.11.1']</td>\n      <td>2015-02-06</td>\n      <td>Организация находится в стадии ликвидидации с 12.10.2021.</td>\n      <td>...</td>\n      <td>2015</td>\n      <td>2</td>\n      <td>Разработка компьютерного программного обеспечения</td>\n      <td>67.0349</td>\n      <td>1.3200</td>\n      <td>11.291000</td>\n      <td>1.0538</td>\n      <td>57</td>\n      <td>1</td>\n      <td>1</td>\n    </tr>\n    <tr>\n      <th>2</th>\n      <td>7813213777</td>\n      <td>1157847038062</td>\n      <td>62.01</td>\n      <td>ООО \"СТИЛЬ\"</td>\n      <td>194044, г. Санкт-Петербург, пр-кт Большой Сампсониевский, 47 литер а, кв. 107</td>\n      <td>коммерческая</td>\n      <td>в процессе ликвидации</td>\n      <td>['26.20', '26.51.8', '62.02', '62.09', '63.11', '63.11.1']</td>\n      <td>2015-02-06</td>\n      <td>Организация находится в стадии ликвидидации с 12.10.2021.</td>\n      <td>...</td>\n      <td>2015</td>\n      <td>2</td>\n      <td>Разработка компьютерного программного обеспечения</td>\n      <td>58.3529</td>\n      <td>1.2527</td>\n      <td>11.898456</td>\n      <td>1.0252</td>\n      <td>148</td>\n      <td>1</td>\n      <td>1</td>\n    </tr>\n    <tr>\n      <th>3</th>\n      <td>7813213777</td>\n      <td>1157847038062</td>\n      <td>62.01</td>\n      <td>ООО \"СТИЛЬ\"</td>\n      <td>194044, г. Санкт-Петербург, пр-кт Большой Сампсониевский, 47 литер а, кв. 107</td>\n      <td>коммерческая</td>\n      <td>в процессе ликвидации</td>\n      <td>['26.20', '26.51.8', '62.02', '62.09', '63.11', '63.11.1']</td>\n      <td>2015-02-06</td>\n      <td>Организация находится в стадии ликвидидации с 12.10.2021.</td>\n      <td>...</td>\n      <td>2015</td>\n      <td>2</td>\n      <td>Разработка компьютерного программного обеспечения</td>\n      <td>62.7078</td>\n      <td>1.2218</td>\n      <td>12.198297</td>\n      <td>1.0427</td>\n      <td>430</td>\n      <td>1</td>\n      <td>1</td>\n    </tr>\n    <tr>\n      <th>4</th>\n      <td>7813213777</td>\n      <td>1157847038062</td>\n      <td>62.01</td>\n      <td>ООО \"СТИЛЬ\"</td>\n      <td>194044, г. Санкт-Петербург, пр-кт Большой Сампсониевский, 47 литер а, кв. 107</td>\n      <td>коммерческая</td>\n      <td>в процессе ликвидации</td>\n      <td>['26.20', '26.51.8', '62.02', '62.09', '63.11', '63.11.1']</td>\n      <td>2015-02-06</td>\n      <td>Организация находится в стадии ликвидидации с 12.10.2021.</td>\n      <td>...</td>\n      <td>2015</td>\n      <td>2</td>\n      <td>Разработка компьютерного программного обеспечения</td>\n      <td>64.7362</td>\n      <td>1.1718</td>\n      <td>12.719164</td>\n      <td>1.0305</td>\n      <td>677</td>\n      <td>1</td>\n      <td>1</td>\n    </tr>\n  </tbody>\n</table>\n<p>5 rows × 121 columns</p>\n</div>"
     },
     "execution_count": 774,
     "metadata": {},
     "output_type": "execute_result"
    }
   ],
   "source": [
    "data_spb = pd.read_csv('data/df_spb_all_upd.csv')\n",
    "combine_equals(data_spb)\n",
    "data_spb.head()"
   ],
   "metadata": {
    "collapsed": false,
    "pycharm": {
     "name": "#%%\n"
    }
   }
  },
  {
   "cell_type": "code",
   "execution_count": 775,
   "outputs": [
    {
     "data": {
      "text/plain": "set()"
     },
     "execution_count": 775,
     "metadata": {},
     "output_type": "execute_result"
    }
   ],
   "source": [
    "data_msk.drop(list(set(data_msk.columns).symmetric_difference(set(data_spb.columns))), axis=1, inplace=True, errors='ignore')\n",
    "data_spb.drop(list(set(data_msk.columns).symmetric_difference(set(data_spb.columns))), axis=1, inplace=True, errors='ignore')\n",
    "set(data_msk.columns).symmetric_difference(set(data_spb.columns))"
   ],
   "metadata": {
    "collapsed": false,
    "pycharm": {
     "name": "#%%\n"
    }
   }
  },
  {
   "cell_type": "code",
   "execution_count": 776,
   "outputs": [
    {
     "data": {
      "text/plain": "0"
     },
     "execution_count": 776,
     "metadata": {},
     "output_type": "execute_result"
    }
   ],
   "source": [
    "data_msk = data_msk.reindex(sorted(data_msk.columns), axis=1)\n",
    "data_spb = data_spb.reindex(sorted(data_msk.columns), axis=1)\n",
    "np.sum(data_msk.columns != data_spb.columns)"
   ],
   "metadata": {
    "collapsed": false,
    "pycharm": {
     "name": "#%%\n"
    }
   }
  },
  {
   "cell_type": "code",
   "execution_count": 777,
   "outputs": [
    {
     "data": {
      "text/plain": "                                    address  bankrupt  breaking_even  \\\n0  109542, г. Москва, пр-кт Рязанский, 86/1         0              0   \n1  109542, г. Москва, пр-кт Рязанский, 86/1         0              0   \n2  109542, г. Москва, пр-кт Рязанский, 86/1         0              0   \n3  109542, г. Москва, пр-кт Рязанский, 86/1         0              0   \n4  109542, г. Москва, пр-кт Рязанский, 86/1         0              0   \n\n   com_uncom  \\\n0          0   \n1          0   \n2          0   \n3          0   \n4          0   \n\n                                                                                                                               comments  \\\n0  Обратите внимание, АНО ВО \"ИНО\" является некоммерческой организацией, то есть извлечение прибыли для нее не является основной целью.   \n1  Обратите внимание, АНО ВО \"ИНО\" является некоммерческой организацией, то есть извлечение прибыли для нее не является основной целью.   \n2  Обратите внимание, АНО ВО \"ИНО\" является некоммерческой организацией, то есть извлечение прибыли для нее не является основной целью.   \n3  Обратите внимание, АНО ВО \"ИНО\" является некоммерческой организацией, то есть извлечение прибыли для нее не является основной целью.   \n4  Обратите внимание, АНО ВО \"ИНО\" является некоммерческой организацией, то есть извлечение прибыли для нее не является основной целью.   \n\n   currency    date_reg  founding_month  founding_year  ind_1100  ...  \\\n0   67.0349  2016-02-15               2           2016     11796  ...   \n1   58.3529  2016-02-15               2           2016     11338  ...   \n2   62.7078  2016-02-15               2           2016     10748  ...   \n3   64.7362  2016-02-15               2           2016     10261  ...   \n4   72.1464  2016-02-15               2           2016      9735  ...   \n\n                                                                                            name  \\\n0  АВТОНОМНАЯ НЕКОММЕРЧЕСКАЯ ОРГАНИЗАЦИЯ ВЫСШЕГО ОБРАЗОВАНИЯ «ИНСТИТУТ НЕПРЕРЫВНОГО ОБРАЗОВАНИЯ»   \n1  АВТОНОМНАЯ НЕКОММЕРЧЕСКАЯ ОРГАНИЗАЦИЯ ВЫСШЕГО ОБРАЗОВАНИЯ «ИНСТИТУТ НЕПРЕРЫВНОГО ОБРАЗОВАНИЯ»   \n2  АВТОНОМНАЯ НЕКОММЕРЧЕСКАЯ ОРГАНИЗАЦИЯ ВЫСШЕГО ОБРАЗОВАНИЯ «ИНСТИТУТ НЕПРЕРЫВНОГО ОБРАЗОВАНИЯ»   \n3  АВТОНОМНАЯ НЕКОММЕРЧЕСКАЯ ОРГАНИЗАЦИЯ ВЫСШЕГО ОБРАЗОВАНИЯ «ИНСТИТУТ НЕПРЕРЫВНОГО ОБРАЗОВАНИЯ»   \n4  АВТОНОМНАЯ НЕКОММЕРЧЕСКАЯ ОРГАНИЗАЦИЯ ВЫСШЕГО ОБРАЗОВАНИЯ «ИНСТИТУТ НЕПРЕРЫВНОГО ОБРАЗОВАНИЯ»   \n\n           name_okved           ogrn  \\\n0  Образование высшее  1167700052233   \n1  Образование высшее  1167700052233   \n2  Образование высшее  1167700052233   \n3  Образование высшее  1167700052233   \n4  Образование высшее  1167700052233   \n\n                                                                                        okved  \\\n0  ['18.11', '18.12', '18.14', '18.20', '52.10', '55.20', '55.90', '56.29', '58.11', '58.13']   \n1  ['18.11', '18.12', '18.14', '18.20', '52.10', '55.20', '55.90', '56.29', '58.11', '58.13']   \n2  ['18.11', '18.12', '18.14', '18.20', '52.10', '55.20', '55.90', '56.29', '58.11', '58.13']   \n3  ['18.11', '18.12', '18.14', '18.20', '52.10', '55.20', '55.90', '56.29', '58.11', '58.13']   \n4  ['18.11', '18.12', '18.14', '18.20', '52.10', '55.20', '55.90', '56.29', '58.11', '58.13']   \n\n   payback_time       status  total_profit                      type  year  \\\n0            -1  действующая             0  некоммерческая унитарная  2016   \n1            -1  действующая             0  некоммерческая унитарная  2017   \n2            -1  действующая             0  некоммерческая унитарная  2018   \n3            -1  действующая             0  некоммерческая унитарная  2019   \n4            -1  действующая             0  некоммерческая унитарная  2020   \n\n   region  \n0     msk  \n1     msk  \n2     msk  \n3     msk  \n4     msk  \n\n[5 rows x 122 columns]",
      "text/html": "<div>\n<style scoped>\n    .dataframe tbody tr th:only-of-type {\n        vertical-align: middle;\n    }\n\n    .dataframe tbody tr th {\n        vertical-align: top;\n    }\n\n    .dataframe thead th {\n        text-align: right;\n    }\n</style>\n<table border=\"1\" class=\"dataframe\">\n  <thead>\n    <tr style=\"text-align: right;\">\n      <th></th>\n      <th>address</th>\n      <th>bankrupt</th>\n      <th>breaking_even</th>\n      <th>com_uncom</th>\n      <th>comments</th>\n      <th>currency</th>\n      <th>date_reg</th>\n      <th>founding_month</th>\n      <th>founding_year</th>\n      <th>ind_1100</th>\n      <th>...</th>\n      <th>name</th>\n      <th>name_okved</th>\n      <th>ogrn</th>\n      <th>okved</th>\n      <th>payback_time</th>\n      <th>status</th>\n      <th>total_profit</th>\n      <th>type</th>\n      <th>year</th>\n      <th>region</th>\n    </tr>\n  </thead>\n  <tbody>\n    <tr>\n      <th>0</th>\n      <td>109542, г. Москва, пр-кт Рязанский, 86/1</td>\n      <td>0</td>\n      <td>0</td>\n      <td>0</td>\n      <td>Обратите внимание, АНО ВО \"ИНО\" является некоммерческой организацией, то есть извлечение прибыли для нее не является основной целью.</td>\n      <td>67.0349</td>\n      <td>2016-02-15</td>\n      <td>2</td>\n      <td>2016</td>\n      <td>11796</td>\n      <td>...</td>\n      <td>АВТОНОМНАЯ НЕКОММЕРЧЕСКАЯ ОРГАНИЗАЦИЯ ВЫСШЕГО ОБРАЗОВАНИЯ «ИНСТИТУТ НЕПРЕРЫВНОГО ОБРАЗОВАНИЯ»</td>\n      <td>Образование высшее</td>\n      <td>1167700052233</td>\n      <td>['18.11', '18.12', '18.14', '18.20', '52.10', '55.20', '55.90', '56.29', '58.11', '58.13']</td>\n      <td>-1</td>\n      <td>действующая</td>\n      <td>0</td>\n      <td>некоммерческая унитарная</td>\n      <td>2016</td>\n      <td>msk</td>\n    </tr>\n    <tr>\n      <th>1</th>\n      <td>109542, г. Москва, пр-кт Рязанский, 86/1</td>\n      <td>0</td>\n      <td>0</td>\n      <td>0</td>\n      <td>Обратите внимание, АНО ВО \"ИНО\" является некоммерческой организацией, то есть извлечение прибыли для нее не является основной целью.</td>\n      <td>58.3529</td>\n      <td>2016-02-15</td>\n      <td>2</td>\n      <td>2016</td>\n      <td>11338</td>\n      <td>...</td>\n      <td>АВТОНОМНАЯ НЕКОММЕРЧЕСКАЯ ОРГАНИЗАЦИЯ ВЫСШЕГО ОБРАЗОВАНИЯ «ИНСТИТУТ НЕПРЕРЫВНОГО ОБРАЗОВАНИЯ»</td>\n      <td>Образование высшее</td>\n      <td>1167700052233</td>\n      <td>['18.11', '18.12', '18.14', '18.20', '52.10', '55.20', '55.90', '56.29', '58.11', '58.13']</td>\n      <td>-1</td>\n      <td>действующая</td>\n      <td>0</td>\n      <td>некоммерческая унитарная</td>\n      <td>2017</td>\n      <td>msk</td>\n    </tr>\n    <tr>\n      <th>2</th>\n      <td>109542, г. Москва, пр-кт Рязанский, 86/1</td>\n      <td>0</td>\n      <td>0</td>\n      <td>0</td>\n      <td>Обратите внимание, АНО ВО \"ИНО\" является некоммерческой организацией, то есть извлечение прибыли для нее не является основной целью.</td>\n      <td>62.7078</td>\n      <td>2016-02-15</td>\n      <td>2</td>\n      <td>2016</td>\n      <td>10748</td>\n      <td>...</td>\n      <td>АВТОНОМНАЯ НЕКОММЕРЧЕСКАЯ ОРГАНИЗАЦИЯ ВЫСШЕГО ОБРАЗОВАНИЯ «ИНСТИТУТ НЕПРЕРЫВНОГО ОБРАЗОВАНИЯ»</td>\n      <td>Образование высшее</td>\n      <td>1167700052233</td>\n      <td>['18.11', '18.12', '18.14', '18.20', '52.10', '55.20', '55.90', '56.29', '58.11', '58.13']</td>\n      <td>-1</td>\n      <td>действующая</td>\n      <td>0</td>\n      <td>некоммерческая унитарная</td>\n      <td>2018</td>\n      <td>msk</td>\n    </tr>\n    <tr>\n      <th>3</th>\n      <td>109542, г. Москва, пр-кт Рязанский, 86/1</td>\n      <td>0</td>\n      <td>0</td>\n      <td>0</td>\n      <td>Обратите внимание, АНО ВО \"ИНО\" является некоммерческой организацией, то есть извлечение прибыли для нее не является основной целью.</td>\n      <td>64.7362</td>\n      <td>2016-02-15</td>\n      <td>2</td>\n      <td>2016</td>\n      <td>10261</td>\n      <td>...</td>\n      <td>АВТОНОМНАЯ НЕКОММЕРЧЕСКАЯ ОРГАНИЗАЦИЯ ВЫСШЕГО ОБРАЗОВАНИЯ «ИНСТИТУТ НЕПРЕРЫВНОГО ОБРАЗОВАНИЯ»</td>\n      <td>Образование высшее</td>\n      <td>1167700052233</td>\n      <td>['18.11', '18.12', '18.14', '18.20', '52.10', '55.20', '55.90', '56.29', '58.11', '58.13']</td>\n      <td>-1</td>\n      <td>действующая</td>\n      <td>0</td>\n      <td>некоммерческая унитарная</td>\n      <td>2019</td>\n      <td>msk</td>\n    </tr>\n    <tr>\n      <th>4</th>\n      <td>109542, г. Москва, пр-кт Рязанский, 86/1</td>\n      <td>0</td>\n      <td>0</td>\n      <td>0</td>\n      <td>Обратите внимание, АНО ВО \"ИНО\" является некоммерческой организацией, то есть извлечение прибыли для нее не является основной целью.</td>\n      <td>72.1464</td>\n      <td>2016-02-15</td>\n      <td>2</td>\n      <td>2016</td>\n      <td>9735</td>\n      <td>...</td>\n      <td>АВТОНОМНАЯ НЕКОММЕРЧЕСКАЯ ОРГАНИЗАЦИЯ ВЫСШЕГО ОБРАЗОВАНИЯ «ИНСТИТУТ НЕПРЕРЫВНОГО ОБРАЗОВАНИЯ»</td>\n      <td>Образование высшее</td>\n      <td>1167700052233</td>\n      <td>['18.11', '18.12', '18.14', '18.20', '52.10', '55.20', '55.90', '56.29', '58.11', '58.13']</td>\n      <td>-1</td>\n      <td>действующая</td>\n      <td>0</td>\n      <td>некоммерческая унитарная</td>\n      <td>2020</td>\n      <td>msk</td>\n    </tr>\n  </tbody>\n</table>\n<p>5 rows × 122 columns</p>\n</div>"
     },
     "execution_count": 777,
     "metadata": {},
     "output_type": "execute_result"
    }
   ],
   "source": [
    "data_msk['region'] = 'msk'\n",
    "data_spb['region'] = 'spb'\n",
    "data = pd.concat([data_msk, data_spb]).reset_index(drop=True)\n",
    "data.head()"
   ],
   "metadata": {
    "collapsed": false,
    "pycharm": {
     "name": "#%%\n"
    }
   }
  },
  {
   "cell_type": "code",
   "execution_count": 778,
   "outputs": [],
   "source": [
    "#data = pd.read_csv('data/df_spb_all_upd.csv')"
   ],
   "metadata": {
    "collapsed": false,
    "pycharm": {
     "name": "#%%\n"
    }
   }
  },
  {
   "cell_type": "code",
   "execution_count": 779,
   "outputs": [
    {
     "name": "stdout",
     "output_type": "stream",
     "text": [
      "<class 'pandas.core.frame.DataFrame'>\n",
      "RangeIndex: 85684 entries, 0 to 85683\n",
      "Data columns (total 122 columns):\n",
      " #    Column             Non-Null Count  Dtype  \n",
      "---   ------             --------------  -----  \n",
      " 0    address            85684 non-null  object \n",
      " 1    bankrupt           85684 non-null  int64  \n",
      " 2    breaking_even      85684 non-null  int64  \n",
      " 3    com_uncom          85684 non-null  int64  \n",
      " 4    comments           16310 non-null  object \n",
      " 5    currency           85684 non-null  float64\n",
      " 6    date_reg           85684 non-null  object \n",
      " 7    founding_month     85684 non-null  int64  \n",
      " 8    founding_year      85684 non-null  int64  \n",
      " 9    ind_1100           85684 non-null  int64  \n",
      " 10   ind_1110           85684 non-null  int64  \n",
      " 11   ind_1120           85684 non-null  int64  \n",
      " 12   ind_1130           85684 non-null  int64  \n",
      " 13   ind_1140           85684 non-null  int64  \n",
      " 14   ind_1150           85684 non-null  int64  \n",
      " 15   ind_1160           85684 non-null  int64  \n",
      " 16   ind_1170           85684 non-null  int64  \n",
      " 17   ind_1180           85684 non-null  int64  \n",
      " 18   ind_1190           85684 non-null  int64  \n",
      " 19   ind_1200           85684 non-null  int64  \n",
      " 20   ind_1210           85684 non-null  int64  \n",
      " 21   ind_1220           85684 non-null  int64  \n",
      " 22   ind_1230           85684 non-null  int64  \n",
      " 23   ind_1240           85684 non-null  int64  \n",
      " 24   ind_1250           85684 non-null  int64  \n",
      " 25   ind_1260           85684 non-null  int64  \n",
      " 26   ind_1300           85684 non-null  int64  \n",
      " 27   ind_1310           85684 non-null  int64  \n",
      " 28   ind_1320           85684 non-null  int64  \n",
      " 29   ind_1340           85684 non-null  int64  \n",
      " 30   ind_1350           85684 non-null  int64  \n",
      " 31   ind_1360           85684 non-null  int64  \n",
      " 32   ind_1370           85684 non-null  int64  \n",
      " 33   ind_1400           85684 non-null  int64  \n",
      " 34   ind_1410           85684 non-null  int64  \n",
      " 35   ind_1420           85684 non-null  int64  \n",
      " 36   ind_1430           85684 non-null  int64  \n",
      " 37   ind_1450           85684 non-null  int64  \n",
      " 38   ind_1500           85684 non-null  int64  \n",
      " 39   ind_1510           85684 non-null  int64  \n",
      " 40   ind_1520           85684 non-null  int64  \n",
      " 41   ind_1530           85684 non-null  int64  \n",
      " 42   ind_1540           85684 non-null  int64  \n",
      " 43   ind_1550           85684 non-null  int64  \n",
      " 44   ind_1600           85684 non-null  int64  \n",
      " 45   ind_1700           85684 non-null  int64  \n",
      " 46   ind_2100           85684 non-null  int64  \n",
      " 47   ind_2110           85684 non-null  int64  \n",
      " 48   ind_2120           85684 non-null  int64  \n",
      " 49   ind_2200           85684 non-null  int64  \n",
      " 50   ind_2210           85684 non-null  int64  \n",
      " 51   ind_2220           85684 non-null  int64  \n",
      " 52   ind_2300           85684 non-null  int64  \n",
      " 53   ind_2310           85684 non-null  int64  \n",
      " 54   ind_2320           85684 non-null  int64  \n",
      " 55   ind_2330           85684 non-null  int64  \n",
      " 56   ind_2340           85684 non-null  int64  \n",
      " 57   ind_2350           85684 non-null  int64  \n",
      " 58   ind_2400           85684 non-null  int64  \n",
      " 59   ind_2410           85684 non-null  int64  \n",
      " 60   ind_2412           85684 non-null  int64  \n",
      " 61   ind_2430           85684 non-null  int64  \n",
      " 62   ind_2450           85684 non-null  int64  \n",
      " 63   ind_2460           85684 non-null  int64  \n",
      " 64   ind_2500           85684 non-null  int64  \n",
      " 65   ind_2510           85684 non-null  int64  \n",
      " 66   ind_2520           85684 non-null  int64  \n",
      " 67   ind_4100           85684 non-null  int64  \n",
      " 68   ind_4110           85684 non-null  int64  \n",
      " 69   ind_4111           85684 non-null  int64  \n",
      " 70   ind_4119           85684 non-null  int64  \n",
      " 71   ind_4120           85684 non-null  int64  \n",
      " 72   ind_4121           85684 non-null  int64  \n",
      " 73   ind_4122           85684 non-null  int64  \n",
      " 74   ind_4123           85684 non-null  int64  \n",
      " 75   ind_4124           85684 non-null  int64  \n",
      " 76   ind_4129           85684 non-null  int64  \n",
      " 77   ind_4200           85684 non-null  int64  \n",
      " 78   ind_4210           85684 non-null  int64  \n",
      " 79   ind_4211           85684 non-null  int64  \n",
      " 80   ind_4213           85684 non-null  int64  \n",
      " 81   ind_4219           85684 non-null  int64  \n",
      " 82   ind_4220           85684 non-null  int64  \n",
      " 83   ind_4221           85684 non-null  int64  \n",
      " 84   ind_4223           85684 non-null  int64  \n",
      " 85   ind_4229           85684 non-null  int64  \n",
      " 86   ind_4300           85684 non-null  int64  \n",
      " 87   ind_4310           85684 non-null  int64  \n",
      " 88   ind_4311           85684 non-null  int64  \n",
      " 89   ind_4312           85684 non-null  int64  \n",
      " 90   ind_4319           85684 non-null  int64  \n",
      " 91   ind_4320           85684 non-null  int64  \n",
      " 92   ind_4323           85684 non-null  int64  \n",
      " 93   ind_4329           85684 non-null  int64  \n",
      " 94   ind_4400           85684 non-null  int64  \n",
      " 95   ind_4450           85684 non-null  int64  \n",
      " 96   ind_4490           85684 non-null  int64  \n",
      " 97   ind_4500           85684 non-null  int64  \n",
      " 98   ind_6100           85684 non-null  int64  \n",
      " 99   ind_6220           85684 non-null  int64  \n",
      " 100  ind_6240           85684 non-null  int64  \n",
      " 101  ind_6250           85684 non-null  int64  \n",
      " 102  ind_6310           85684 non-null  int64  \n",
      " 103  ind_6320           85684 non-null  int64  \n",
      " 104  ind_6330           85684 non-null  int64  \n",
      " 105  ind_6350           85684 non-null  int64  \n",
      " 106  ind_6400           85684 non-null  int64  \n",
      " 107  inflation          85684 non-null  float64\n",
      " 108  inflation_by_2022  85684 non-null  float64\n",
      " 109  inn                85684 non-null  int64  \n",
      " 110  investments        85684 non-null  float64\n",
      " 111  main_okved         85684 non-null  object \n",
      " 112  name               85684 non-null  object \n",
      " 113  name_okved         85684 non-null  object \n",
      " 114  ogrn               85684 non-null  int64  \n",
      " 115  okved              85684 non-null  object \n",
      " 116  payback_time       85684 non-null  int64  \n",
      " 117  status             85684 non-null  object \n",
      " 118  total_profit       85684 non-null  int64  \n",
      " 119  type               85684 non-null  object \n",
      " 120  year               85684 non-null  int64  \n",
      " 121  region             85684 non-null  object \n",
      "dtypes: float64(4), int64(108), object(10)\n",
      "memory usage: 79.8+ MB\n"
     ]
    }
   ],
   "source": [
    "data.info(max_cols=200)"
   ],
   "metadata": {
    "collapsed": false,
    "pycharm": {
     "name": "#%%\n"
    }
   }
  },
  {
   "cell_type": "code",
   "execution_count": 780,
   "outputs": [
    {
     "name": "stdout",
     "output_type": "stream",
     "text": [
      "<class 'pandas.core.frame.DataFrame'>\n",
      "RangeIndex: 85684 entries, 0 to 85683\n",
      "Data columns (total 122 columns):\n",
      " #    Column             Non-Null Count  Dtype         \n",
      "---   ------             --------------  -----         \n",
      " 0    address            85684 non-null  object        \n",
      " 1    bankrupt           85684 non-null  int64         \n",
      " 2    breaking_even      85684 non-null  int64         \n",
      " 3    com_uncom          85684 non-null  int64         \n",
      " 4    comments           85684 non-null  object        \n",
      " 5    currency           85684 non-null  float64       \n",
      " 6    date_reg           85684 non-null  datetime64[ns]\n",
      " 7    founding_month     85684 non-null  int64         \n",
      " 8    founding_year      85684 non-null  int64         \n",
      " 9    ind_1100           85684 non-null  float64       \n",
      " 10   ind_1110           85684 non-null  float64       \n",
      " 11   ind_1120           85684 non-null  float64       \n",
      " 12   ind_1130           85684 non-null  float64       \n",
      " 13   ind_1140           85684 non-null  float64       \n",
      " 14   ind_1150           85684 non-null  float64       \n",
      " 15   ind_1160           85684 non-null  float64       \n",
      " 16   ind_1170           85684 non-null  float64       \n",
      " 17   ind_1180           85684 non-null  float64       \n",
      " 18   ind_1190           85684 non-null  float64       \n",
      " 19   ind_1200           85684 non-null  float64       \n",
      " 20   ind_1210           85684 non-null  float64       \n",
      " 21   ind_1220           85684 non-null  float64       \n",
      " 22   ind_1230           85684 non-null  float64       \n",
      " 23   ind_1240           85684 non-null  float64       \n",
      " 24   ind_1250           85684 non-null  float64       \n",
      " 25   ind_1260           85684 non-null  float64       \n",
      " 26   ind_1300           85684 non-null  float64       \n",
      " 27   ind_1310           85684 non-null  float64       \n",
      " 28   ind_1320           85684 non-null  float64       \n",
      " 29   ind_1340           85684 non-null  float64       \n",
      " 30   ind_1350           85684 non-null  float64       \n",
      " 31   ind_1360           85684 non-null  float64       \n",
      " 32   ind_1370           85684 non-null  float64       \n",
      " 33   ind_1400           85684 non-null  float64       \n",
      " 34   ind_1410           85684 non-null  float64       \n",
      " 35   ind_1420           85684 non-null  float64       \n",
      " 36   ind_1430           85684 non-null  float64       \n",
      " 37   ind_1450           85684 non-null  float64       \n",
      " 38   ind_1500           85684 non-null  float64       \n",
      " 39   ind_1510           85684 non-null  float64       \n",
      " 40   ind_1520           85684 non-null  float64       \n",
      " 41   ind_1530           85684 non-null  float64       \n",
      " 42   ind_1540           85684 non-null  float64       \n",
      " 43   ind_1550           85684 non-null  float64       \n",
      " 44   ind_1600           85684 non-null  float64       \n",
      " 45   ind_1700           85684 non-null  float64       \n",
      " 46   ind_2100           85684 non-null  float64       \n",
      " 47   ind_2110           85684 non-null  float64       \n",
      " 48   ind_2120           85684 non-null  float64       \n",
      " 49   ind_2200           85684 non-null  float64       \n",
      " 50   ind_2210           85684 non-null  float64       \n",
      " 51   ind_2220           85684 non-null  float64       \n",
      " 52   ind_2300           85684 non-null  float64       \n",
      " 53   ind_2310           85684 non-null  float64       \n",
      " 54   ind_2320           85684 non-null  float64       \n",
      " 55   ind_2330           85684 non-null  float64       \n",
      " 56   ind_2340           85684 non-null  float64       \n",
      " 57   ind_2350           85684 non-null  float64       \n",
      " 58   ind_2400           85684 non-null  float64       \n",
      " 59   ind_2410           85684 non-null  float64       \n",
      " 60   ind_2412           85684 non-null  float64       \n",
      " 61   ind_2430           85684 non-null  float64       \n",
      " 62   ind_2450           85684 non-null  float64       \n",
      " 63   ind_2460           85684 non-null  float64       \n",
      " 64   ind_2500           85684 non-null  float64       \n",
      " 65   ind_2510           85684 non-null  float64       \n",
      " 66   ind_2520           85684 non-null  float64       \n",
      " 67   ind_4100           85684 non-null  float64       \n",
      " 68   ind_4110           85684 non-null  float64       \n",
      " 69   ind_4111           85684 non-null  float64       \n",
      " 70   ind_4119           85684 non-null  float64       \n",
      " 71   ind_4120           85684 non-null  float64       \n",
      " 72   ind_4121           85684 non-null  float64       \n",
      " 73   ind_4122           85684 non-null  float64       \n",
      " 74   ind_4123           85684 non-null  float64       \n",
      " 75   ind_4124           85684 non-null  float64       \n",
      " 76   ind_4129           85684 non-null  float64       \n",
      " 77   ind_4200           85684 non-null  float64       \n",
      " 78   ind_4210           85684 non-null  float64       \n",
      " 79   ind_4211           85684 non-null  float64       \n",
      " 80   ind_4213           85684 non-null  float64       \n",
      " 81   ind_4219           85684 non-null  float64       \n",
      " 82   ind_4220           85684 non-null  float64       \n",
      " 83   ind_4221           85684 non-null  float64       \n",
      " 84   ind_4223           85684 non-null  float64       \n",
      " 85   ind_4229           85684 non-null  float64       \n",
      " 86   ind_4300           85684 non-null  float64       \n",
      " 87   ind_4310           85684 non-null  float64       \n",
      " 88   ind_4311           85684 non-null  float64       \n",
      " 89   ind_4312           85684 non-null  float64       \n",
      " 90   ind_4319           85684 non-null  float64       \n",
      " 91   ind_4320           85684 non-null  float64       \n",
      " 92   ind_4323           85684 non-null  float64       \n",
      " 93   ind_4329           85684 non-null  float64       \n",
      " 94   ind_4400           85684 non-null  float64       \n",
      " 95   ind_4450           85684 non-null  float64       \n",
      " 96   ind_4490           85684 non-null  float64       \n",
      " 97   ind_4500           85684 non-null  float64       \n",
      " 98   ind_6100           85684 non-null  float64       \n",
      " 99   ind_6220           85684 non-null  float64       \n",
      " 100  ind_6240           85684 non-null  float64       \n",
      " 101  ind_6250           85684 non-null  float64       \n",
      " 102  ind_6310           85684 non-null  float64       \n",
      " 103  ind_6320           85684 non-null  float64       \n",
      " 104  ind_6330           85684 non-null  float64       \n",
      " 105  ind_6350           85684 non-null  float64       \n",
      " 106  ind_6400           85684 non-null  float64       \n",
      " 107  inflation          85684 non-null  float64       \n",
      " 108  inflation_by_2022  85684 non-null  float64       \n",
      " 109  inn                85684 non-null  object        \n",
      " 110  investments        85684 non-null  float64       \n",
      " 111  main_okved         85684 non-null  object        \n",
      " 112  name               85684 non-null  object        \n",
      " 113  name_okved         85684 non-null  object        \n",
      " 114  ogrn               85684 non-null  object        \n",
      " 115  okved              85684 non-null  object        \n",
      " 116  payback_time       85684 non-null  int64         \n",
      " 117  status             85684 non-null  object        \n",
      " 118  total_profit       85684 non-null  int64         \n",
      " 119  type               85684 non-null  object        \n",
      " 120  year               85684 non-null  int64         \n",
      " 121  region             85684 non-null  object        \n",
      "dtypes: datetime64[ns](1), float64(102), int64(8), object(11)\n",
      "memory usage: 79.8+ MB\n"
     ]
    }
   ],
   "source": [
    "# Сразу типмизируем, чтоб не путаться\n",
    "data['inn'] = data['inn'].astype(str)\n",
    "data['ogrn'] = data['ogrn'].astype(str)\n",
    "data['main_okved'] = data['main_okved'].astype(str)\n",
    "data['name'] = data['name'].astype(str)\n",
    "data['address'] = data['address'].astype(str)\n",
    "data['type'] = data['type'].astype(str)\n",
    "data['status'] = data['status'].astype(str)\n",
    "#data['okved'] = data['okved'].apply(lambda x: x[1:-1].split(','))\n",
    "data['date_reg'] = pd.to_datetime(data['date_reg'])\n",
    "data['comments'] = data['comments'].astype(str)\n",
    "data['year'] = data['year'].astype(int)\n",
    "data[[c for c in data.columns if c.startswith('ind_')]] = data[[c for c in data.columns if c.startswith('ind_')]].astype(float)\n",
    "data.info(max_cols=200)"
   ],
   "metadata": {
    "collapsed": false,
    "pycharm": {
     "name": "#%%\n"
    }
   }
  },
  {
   "cell_type": "code",
   "execution_count": 781,
   "outputs": [],
   "source": [
    "for col in [c for c in data.columns if c.startswith('ind_')]:\n",
    "    data[col] = data[col] / data['currency']"
   ],
   "metadata": {
    "collapsed": false,
    "pycharm": {
     "name": "#%%\n"
    }
   }
  },
  {
   "cell_type": "code",
   "execution_count": 782,
   "outputs": [
    {
     "data": {
      "text/plain": "          inn  year  inv_year     inv_sum  inv_ind_1100  inv_ind_1110  \\\n0  7721452574  2016      2016  300.664281    175.968041      0.119341   \n1  7721452574  2017      2016  300.664281    175.968041      0.119341   \n2  7721452574  2018      2016  300.664281    175.968041      0.119341   \n3  7721452574  2019      2016  300.664281    175.968041      0.119341   \n4  7721452574  2020      2016  300.664281    175.968041      0.119341   \n\n   inv_ind_1120  inv_ind_1130  inv_ind_1140  inv_ind_1150  ...  inv_ind_4500  \\\n0           0.0           0.0           0.0    351.697399  ...           0.0   \n1           0.0           0.0           0.0    351.697399  ...           0.0   \n2           0.0           0.0           0.0    351.697399  ...           0.0   \n3           0.0           0.0           0.0    351.697399  ...           0.0   \n4           0.0           0.0           0.0    351.697399  ...           0.0   \n\n   inv_ind_6100  inv_ind_6220  inv_ind_6240  inv_ind_6250  inv_ind_6310  \\\n0           0.0           0.0           0.0           0.0           0.0   \n1           0.0           0.0           0.0           0.0           0.0   \n2           0.0           0.0           0.0           0.0           0.0   \n3           0.0           0.0           0.0           0.0           0.0   \n4           0.0           0.0           0.0           0.0           0.0   \n\n   inv_ind_6320  inv_ind_6330  inv_ind_6350  inv_ind_6400  \n0           0.0           0.0           0.0           0.0  \n1           0.0           0.0           0.0           0.0  \n2           0.0           0.0           0.0           0.0  \n3           0.0           0.0           0.0           0.0  \n4           0.0           0.0           0.0           0.0  \n\n[5 rows x 100 columns]",
      "text/html": "<div>\n<style scoped>\n    .dataframe tbody tr th:only-of-type {\n        vertical-align: middle;\n    }\n\n    .dataframe tbody tr th {\n        vertical-align: top;\n    }\n\n    .dataframe thead th {\n        text-align: right;\n    }\n</style>\n<table border=\"1\" class=\"dataframe\">\n  <thead>\n    <tr style=\"text-align: right;\">\n      <th></th>\n      <th>inn</th>\n      <th>year</th>\n      <th>inv_year</th>\n      <th>inv_sum</th>\n      <th>inv_ind_1100</th>\n      <th>inv_ind_1110</th>\n      <th>inv_ind_1120</th>\n      <th>inv_ind_1130</th>\n      <th>inv_ind_1140</th>\n      <th>inv_ind_1150</th>\n      <th>...</th>\n      <th>inv_ind_4500</th>\n      <th>inv_ind_6100</th>\n      <th>inv_ind_6220</th>\n      <th>inv_ind_6240</th>\n      <th>inv_ind_6250</th>\n      <th>inv_ind_6310</th>\n      <th>inv_ind_6320</th>\n      <th>inv_ind_6330</th>\n      <th>inv_ind_6350</th>\n      <th>inv_ind_6400</th>\n    </tr>\n  </thead>\n  <tbody>\n    <tr>\n      <th>0</th>\n      <td>7721452574</td>\n      <td>2016</td>\n      <td>2016</td>\n      <td>300.664281</td>\n      <td>175.968041</td>\n      <td>0.119341</td>\n      <td>0.0</td>\n      <td>0.0</td>\n      <td>0.0</td>\n      <td>351.697399</td>\n      <td>...</td>\n      <td>0.0</td>\n      <td>0.0</td>\n      <td>0.0</td>\n      <td>0.0</td>\n      <td>0.0</td>\n      <td>0.0</td>\n      <td>0.0</td>\n      <td>0.0</td>\n      <td>0.0</td>\n      <td>0.0</td>\n    </tr>\n    <tr>\n      <th>1</th>\n      <td>7721452574</td>\n      <td>2017</td>\n      <td>2016</td>\n      <td>300.664281</td>\n      <td>175.968041</td>\n      <td>0.119341</td>\n      <td>0.0</td>\n      <td>0.0</td>\n      <td>0.0</td>\n      <td>351.697399</td>\n      <td>...</td>\n      <td>0.0</td>\n      <td>0.0</td>\n      <td>0.0</td>\n      <td>0.0</td>\n      <td>0.0</td>\n      <td>0.0</td>\n      <td>0.0</td>\n      <td>0.0</td>\n      <td>0.0</td>\n      <td>0.0</td>\n    </tr>\n    <tr>\n      <th>2</th>\n      <td>7721452574</td>\n      <td>2018</td>\n      <td>2016</td>\n      <td>300.664281</td>\n      <td>175.968041</td>\n      <td>0.119341</td>\n      <td>0.0</td>\n      <td>0.0</td>\n      <td>0.0</td>\n      <td>351.697399</td>\n      <td>...</td>\n      <td>0.0</td>\n      <td>0.0</td>\n      <td>0.0</td>\n      <td>0.0</td>\n      <td>0.0</td>\n      <td>0.0</td>\n      <td>0.0</td>\n      <td>0.0</td>\n      <td>0.0</td>\n      <td>0.0</td>\n    </tr>\n    <tr>\n      <th>3</th>\n      <td>7721452574</td>\n      <td>2019</td>\n      <td>2016</td>\n      <td>300.664281</td>\n      <td>175.968041</td>\n      <td>0.119341</td>\n      <td>0.0</td>\n      <td>0.0</td>\n      <td>0.0</td>\n      <td>351.697399</td>\n      <td>...</td>\n      <td>0.0</td>\n      <td>0.0</td>\n      <td>0.0</td>\n      <td>0.0</td>\n      <td>0.0</td>\n      <td>0.0</td>\n      <td>0.0</td>\n      <td>0.0</td>\n      <td>0.0</td>\n      <td>0.0</td>\n    </tr>\n    <tr>\n      <th>4</th>\n      <td>7721452574</td>\n      <td>2020</td>\n      <td>2016</td>\n      <td>300.664281</td>\n      <td>175.968041</td>\n      <td>0.119341</td>\n      <td>0.0</td>\n      <td>0.0</td>\n      <td>0.0</td>\n      <td>351.697399</td>\n      <td>...</td>\n      <td>0.0</td>\n      <td>0.0</td>\n      <td>0.0</td>\n      <td>0.0</td>\n      <td>0.0</td>\n      <td>0.0</td>\n      <td>0.0</td>\n      <td>0.0</td>\n      <td>0.0</td>\n      <td>0.0</td>\n    </tr>\n  </tbody>\n</table>\n<p>5 rows × 100 columns</p>\n</div>"
     },
     "execution_count": 782,
     "metadata": {},
     "output_type": "execute_result"
    }
   ],
   "source": [
    "# Берем все признаки из самого раннего года организации - объединяем с основным набором\n",
    "additional_features = [c for c in data.columns if c.startswith('ind_')]\n",
    "additional_features.remove('ind_1600')\n",
    "additional_features.remove('ind_2400')\n",
    "investments = data.sort_values(by=['inn', 'year']).groupby('inn').first()[['year', 'ind_1600'] + additional_features]\n",
    "investments.columns = ['inv_year', 'inv_sum'] + ['inv_' + x for x in additional_features]\n",
    "data.drop(investments.columns, axis=1, inplace=True, errors='ignore')\n",
    "data = data.join(investments, on=['inn'])\n",
    "data[['inn', 'year'] + investments.columns.tolist()].head() #.sort_values(by=['inn', 'year']).head()"
   ],
   "metadata": {
    "collapsed": false,
    "pycharm": {
     "name": "#%%\n"
    }
   }
  },
  {
   "cell_type": "code",
   "execution_count": 783,
   "outputs": [
    {
     "data": {
      "text/plain": "        inv_sum         inn   date_reg\n2701  -0.159470  9731000027 2018-04-09\n2702  -0.159470  9731000027 2018-04-09\n2703  -0.159470  9731000027 2018-04-09\n3952  -0.085686  9715309555 2017-11-29\n3953  -0.085686  9715309555 2017-11-29\n...         ...         ...        ...\n69613 -0.032810  7842079491 2015-12-03\n69614 -0.032810  7842079491 2015-12-03\n69615 -0.032810  7842079491 2015-12-03\n69616 -0.032810  7842079491 2015-12-03\n69617 -0.032810  7842079491 2015-12-03\n\n[61 rows x 3 columns]",
      "text/html": "<div>\n<style scoped>\n    .dataframe tbody tr th:only-of-type {\n        vertical-align: middle;\n    }\n\n    .dataframe tbody tr th {\n        vertical-align: top;\n    }\n\n    .dataframe thead th {\n        text-align: right;\n    }\n</style>\n<table border=\"1\" class=\"dataframe\">\n  <thead>\n    <tr style=\"text-align: right;\">\n      <th></th>\n      <th>inv_sum</th>\n      <th>inn</th>\n      <th>date_reg</th>\n    </tr>\n  </thead>\n  <tbody>\n    <tr>\n      <th>2701</th>\n      <td>-0.159470</td>\n      <td>9731000027</td>\n      <td>2018-04-09</td>\n    </tr>\n    <tr>\n      <th>2702</th>\n      <td>-0.159470</td>\n      <td>9731000027</td>\n      <td>2018-04-09</td>\n    </tr>\n    <tr>\n      <th>2703</th>\n      <td>-0.159470</td>\n      <td>9731000027</td>\n      <td>2018-04-09</td>\n    </tr>\n    <tr>\n      <th>3952</th>\n      <td>-0.085686</td>\n      <td>9715309555</td>\n      <td>2017-11-29</td>\n    </tr>\n    <tr>\n      <th>3953</th>\n      <td>-0.085686</td>\n      <td>9715309555</td>\n      <td>2017-11-29</td>\n    </tr>\n    <tr>\n      <th>...</th>\n      <td>...</td>\n      <td>...</td>\n      <td>...</td>\n    </tr>\n    <tr>\n      <th>69613</th>\n      <td>-0.032810</td>\n      <td>7842079491</td>\n      <td>2015-12-03</td>\n    </tr>\n    <tr>\n      <th>69614</th>\n      <td>-0.032810</td>\n      <td>7842079491</td>\n      <td>2015-12-03</td>\n    </tr>\n    <tr>\n      <th>69615</th>\n      <td>-0.032810</td>\n      <td>7842079491</td>\n      <td>2015-12-03</td>\n    </tr>\n    <tr>\n      <th>69616</th>\n      <td>-0.032810</td>\n      <td>7842079491</td>\n      <td>2015-12-03</td>\n    </tr>\n    <tr>\n      <th>69617</th>\n      <td>-0.032810</td>\n      <td>7842079491</td>\n      <td>2015-12-03</td>\n    </tr>\n  </tbody>\n</table>\n<p>61 rows × 3 columns</p>\n</div>"
     },
     "execution_count": 783,
     "metadata": {},
     "output_type": "execute_result"
    }
   ],
   "source": [
    "data.loc[data['inv_sum'] < 0, ['inv_sum', 'inn', 'date_reg']]"
   ],
   "metadata": {
    "collapsed": false,
    "pycharm": {
     "name": "#%%\n"
    }
   }
  },
  {
   "cell_type": "code",
   "execution_count": 784,
   "outputs": [
    {
     "data": {
      "text/plain": "              inn  year    ind_2400      profit  inv_year      inv_sum  \\\n57635  1102068218  2011  130.055738  130.055738      2011  2346.141544   \n57636  1102068218  2012  -72.202747   57.852992      2011  2346.141544   \n57637  1102068218  2013  -74.290379  -16.437388      2011  2346.141544   \n57638  1102068218  2014  -29.462517  -45.899905      2011  2346.141544   \n57639  1102068218  2015  -30.676910  -76.576815      2011  2346.141544   \n\n       inv_ind_1100  inv_ind_1110  inv_ind_1120  inv_ind_1130  ...  \\\n57635   2309.323043           0.0           0.0           0.0  ...   \n57636   2309.323043           0.0           0.0           0.0  ...   \n57637   2309.323043           0.0           0.0           0.0  ...   \n57638   2309.323043           0.0           0.0           0.0  ...   \n57639   2309.323043           0.0           0.0           0.0  ...   \n\n       inv_ind_4500  inv_ind_6100  inv_ind_6220  inv_ind_6240  inv_ind_6250  \\\n57635           0.0           0.0           0.0           0.0           0.0   \n57636           0.0           0.0           0.0           0.0           0.0   \n57637           0.0           0.0           0.0           0.0           0.0   \n57638           0.0           0.0           0.0           0.0           0.0   \n57639           0.0           0.0           0.0           0.0           0.0   \n\n       inv_ind_6310  inv_ind_6320  inv_ind_6330  inv_ind_6350  inv_ind_6400  \n57635           0.0           0.0           0.0           0.0           0.0  \n57636           0.0           0.0           0.0           0.0           0.0  \n57637           0.0           0.0           0.0           0.0           0.0  \n57638           0.0           0.0           0.0           0.0           0.0  \n57639           0.0           0.0           0.0           0.0           0.0  \n\n[5 rows x 102 columns]",
      "text/html": "<div>\n<style scoped>\n    .dataframe tbody tr th:only-of-type {\n        vertical-align: middle;\n    }\n\n    .dataframe tbody tr th {\n        vertical-align: top;\n    }\n\n    .dataframe thead th {\n        text-align: right;\n    }\n</style>\n<table border=\"1\" class=\"dataframe\">\n  <thead>\n    <tr style=\"text-align: right;\">\n      <th></th>\n      <th>inn</th>\n      <th>year</th>\n      <th>ind_2400</th>\n      <th>profit</th>\n      <th>inv_year</th>\n      <th>inv_sum</th>\n      <th>inv_ind_1100</th>\n      <th>inv_ind_1110</th>\n      <th>inv_ind_1120</th>\n      <th>inv_ind_1130</th>\n      <th>...</th>\n      <th>inv_ind_4500</th>\n      <th>inv_ind_6100</th>\n      <th>inv_ind_6220</th>\n      <th>inv_ind_6240</th>\n      <th>inv_ind_6250</th>\n      <th>inv_ind_6310</th>\n      <th>inv_ind_6320</th>\n      <th>inv_ind_6330</th>\n      <th>inv_ind_6350</th>\n      <th>inv_ind_6400</th>\n    </tr>\n  </thead>\n  <tbody>\n    <tr>\n      <th>57635</th>\n      <td>1102068218</td>\n      <td>2011</td>\n      <td>130.055738</td>\n      <td>130.055738</td>\n      <td>2011</td>\n      <td>2346.141544</td>\n      <td>2309.323043</td>\n      <td>0.0</td>\n      <td>0.0</td>\n      <td>0.0</td>\n      <td>...</td>\n      <td>0.0</td>\n      <td>0.0</td>\n      <td>0.0</td>\n      <td>0.0</td>\n      <td>0.0</td>\n      <td>0.0</td>\n      <td>0.0</td>\n      <td>0.0</td>\n      <td>0.0</td>\n      <td>0.0</td>\n    </tr>\n    <tr>\n      <th>57636</th>\n      <td>1102068218</td>\n      <td>2012</td>\n      <td>-72.202747</td>\n      <td>57.852992</td>\n      <td>2011</td>\n      <td>2346.141544</td>\n      <td>2309.323043</td>\n      <td>0.0</td>\n      <td>0.0</td>\n      <td>0.0</td>\n      <td>...</td>\n      <td>0.0</td>\n      <td>0.0</td>\n      <td>0.0</td>\n      <td>0.0</td>\n      <td>0.0</td>\n      <td>0.0</td>\n      <td>0.0</td>\n      <td>0.0</td>\n      <td>0.0</td>\n      <td>0.0</td>\n    </tr>\n    <tr>\n      <th>57637</th>\n      <td>1102068218</td>\n      <td>2013</td>\n      <td>-74.290379</td>\n      <td>-16.437388</td>\n      <td>2011</td>\n      <td>2346.141544</td>\n      <td>2309.323043</td>\n      <td>0.0</td>\n      <td>0.0</td>\n      <td>0.0</td>\n      <td>...</td>\n      <td>0.0</td>\n      <td>0.0</td>\n      <td>0.0</td>\n      <td>0.0</td>\n      <td>0.0</td>\n      <td>0.0</td>\n      <td>0.0</td>\n      <td>0.0</td>\n      <td>0.0</td>\n      <td>0.0</td>\n    </tr>\n    <tr>\n      <th>57638</th>\n      <td>1102068218</td>\n      <td>2014</td>\n      <td>-29.462517</td>\n      <td>-45.899905</td>\n      <td>2011</td>\n      <td>2346.141544</td>\n      <td>2309.323043</td>\n      <td>0.0</td>\n      <td>0.0</td>\n      <td>0.0</td>\n      <td>...</td>\n      <td>0.0</td>\n      <td>0.0</td>\n      <td>0.0</td>\n      <td>0.0</td>\n      <td>0.0</td>\n      <td>0.0</td>\n      <td>0.0</td>\n      <td>0.0</td>\n      <td>0.0</td>\n      <td>0.0</td>\n    </tr>\n    <tr>\n      <th>57639</th>\n      <td>1102068218</td>\n      <td>2015</td>\n      <td>-30.676910</td>\n      <td>-76.576815</td>\n      <td>2011</td>\n      <td>2346.141544</td>\n      <td>2309.323043</td>\n      <td>0.0</td>\n      <td>0.0</td>\n      <td>0.0</td>\n      <td>...</td>\n      <td>0.0</td>\n      <td>0.0</td>\n      <td>0.0</td>\n      <td>0.0</td>\n      <td>0.0</td>\n      <td>0.0</td>\n      <td>0.0</td>\n      <td>0.0</td>\n      <td>0.0</td>\n      <td>0.0</td>\n    </tr>\n  </tbody>\n</table>\n<p>5 rows × 102 columns</p>\n</div>"
     },
     "execution_count": 784,
     "metadata": {},
     "output_type": "execute_result"
    }
   ],
   "source": [
    "# Накопительно вычисляем сумму прибыли организации по годам - объединяем с набором\n",
    "profit = data.sort_values(by=['inn', 'year']).groupby('inn').cumsum()['ind_2400']\n",
    "profit.name = 'profit'\n",
    "data.drop(['profit'], axis=1, inplace=True, errors='ignore')\n",
    "data = data.join(profit)\n",
    "data[['inn', 'year', 'ind_2400', 'profit'] + investments.columns.tolist()].sort_values(by=['inn', 'year']).head()"
   ],
   "metadata": {
    "collapsed": false,
    "pycharm": {
     "name": "#%%\n"
    }
   }
  },
  {
   "cell_type": "code",
   "execution_count": 785,
   "outputs": [
    {
     "data": {
      "text/plain": "            year    ind_2400      profit  inv_year      inv_sum  inv_ind_1100  \\\ninn                                                                             \n1102068218  2020   -3.090937   29.351412      2011  2346.141544   2309.323043   \n1650329732  2021  193.037455  298.047714      2016    30.939108      0.000000   \n1655298774  2020  -88.348137  777.847904      2014   181.433929      0.000000   \n1655300448  2020   45.269064   77.171960      2014    32.299456      0.000000   \n2310172571  2020  180.618853  771.819554      2013   162.647576     30.174579   \n\n            inv_ind_1110  inv_ind_1120  inv_ind_1130  inv_ind_1140  ...  \\\ninn                                                                 ...   \n1102068218           0.0           0.0           0.0           0.0  ...   \n1650329732           0.0           0.0           0.0           0.0  ...   \n1655298774           0.0           0.0           0.0           0.0  ...   \n1655300448           0.0           0.0           0.0           0.0  ...   \n2310172571           0.0           0.0           0.0           0.0  ...   \n\n            inv_ind_4500  inv_ind_6100  inv_ind_6220  inv_ind_6240  \\\ninn                                                                  \n1102068218           0.0           0.0           0.0           0.0   \n1650329732           0.0           0.0           0.0           0.0   \n1655298774           0.0           0.0           0.0           0.0   \n1655300448           0.0           0.0           0.0           0.0   \n2310172571           0.0           0.0           0.0           0.0   \n\n            inv_ind_6250  inv_ind_6310  inv_ind_6320  inv_ind_6330  \\\ninn                                                                  \n1102068218           0.0           0.0           0.0           0.0   \n1650329732           0.0           0.0           0.0           0.0   \n1655298774           0.0           0.0           0.0           0.0   \n1655300448           0.0           0.0           0.0           0.0   \n2310172571           0.0           0.0           0.0           0.0   \n\n            inv_ind_6350  inv_ind_6400  \ninn                                     \n1102068218           0.0           0.0  \n1650329732           0.0           0.0  \n1655298774           0.0           0.0  \n1655300448           0.0           0.0  \n2310172571           0.0           0.0  \n\n[5 rows x 101 columns]",
      "text/html": "<div>\n<style scoped>\n    .dataframe tbody tr th:only-of-type {\n        vertical-align: middle;\n    }\n\n    .dataframe tbody tr th {\n        vertical-align: top;\n    }\n\n    .dataframe thead th {\n        text-align: right;\n    }\n</style>\n<table border=\"1\" class=\"dataframe\">\n  <thead>\n    <tr style=\"text-align: right;\">\n      <th></th>\n      <th>year</th>\n      <th>ind_2400</th>\n      <th>profit</th>\n      <th>inv_year</th>\n      <th>inv_sum</th>\n      <th>inv_ind_1100</th>\n      <th>inv_ind_1110</th>\n      <th>inv_ind_1120</th>\n      <th>inv_ind_1130</th>\n      <th>inv_ind_1140</th>\n      <th>...</th>\n      <th>inv_ind_4500</th>\n      <th>inv_ind_6100</th>\n      <th>inv_ind_6220</th>\n      <th>inv_ind_6240</th>\n      <th>inv_ind_6250</th>\n      <th>inv_ind_6310</th>\n      <th>inv_ind_6320</th>\n      <th>inv_ind_6330</th>\n      <th>inv_ind_6350</th>\n      <th>inv_ind_6400</th>\n    </tr>\n    <tr>\n      <th>inn</th>\n      <th></th>\n      <th></th>\n      <th></th>\n      <th></th>\n      <th></th>\n      <th></th>\n      <th></th>\n      <th></th>\n      <th></th>\n      <th></th>\n      <th></th>\n      <th></th>\n      <th></th>\n      <th></th>\n      <th></th>\n      <th></th>\n      <th></th>\n      <th></th>\n      <th></th>\n      <th></th>\n      <th></th>\n    </tr>\n  </thead>\n  <tbody>\n    <tr>\n      <th>1102068218</th>\n      <td>2020</td>\n      <td>-3.090937</td>\n      <td>29.351412</td>\n      <td>2011</td>\n      <td>2346.141544</td>\n      <td>2309.323043</td>\n      <td>0.0</td>\n      <td>0.0</td>\n      <td>0.0</td>\n      <td>0.0</td>\n      <td>...</td>\n      <td>0.0</td>\n      <td>0.0</td>\n      <td>0.0</td>\n      <td>0.0</td>\n      <td>0.0</td>\n      <td>0.0</td>\n      <td>0.0</td>\n      <td>0.0</td>\n      <td>0.0</td>\n      <td>0.0</td>\n    </tr>\n    <tr>\n      <th>1650329732</th>\n      <td>2021</td>\n      <td>193.037455</td>\n      <td>298.047714</td>\n      <td>2016</td>\n      <td>30.939108</td>\n      <td>0.000000</td>\n      <td>0.0</td>\n      <td>0.0</td>\n      <td>0.0</td>\n      <td>0.0</td>\n      <td>...</td>\n      <td>0.0</td>\n      <td>0.0</td>\n      <td>0.0</td>\n      <td>0.0</td>\n      <td>0.0</td>\n      <td>0.0</td>\n      <td>0.0</td>\n      <td>0.0</td>\n      <td>0.0</td>\n      <td>0.0</td>\n    </tr>\n    <tr>\n      <th>1655298774</th>\n      <td>2020</td>\n      <td>-88.348137</td>\n      <td>777.847904</td>\n      <td>2014</td>\n      <td>181.433929</td>\n      <td>0.000000</td>\n      <td>0.0</td>\n      <td>0.0</td>\n      <td>0.0</td>\n      <td>0.0</td>\n      <td>...</td>\n      <td>0.0</td>\n      <td>0.0</td>\n      <td>0.0</td>\n      <td>0.0</td>\n      <td>0.0</td>\n      <td>0.0</td>\n      <td>0.0</td>\n      <td>0.0</td>\n      <td>0.0</td>\n      <td>0.0</td>\n    </tr>\n    <tr>\n      <th>1655300448</th>\n      <td>2020</td>\n      <td>45.269064</td>\n      <td>77.171960</td>\n      <td>2014</td>\n      <td>32.299456</td>\n      <td>0.000000</td>\n      <td>0.0</td>\n      <td>0.0</td>\n      <td>0.0</td>\n      <td>0.0</td>\n      <td>...</td>\n      <td>0.0</td>\n      <td>0.0</td>\n      <td>0.0</td>\n      <td>0.0</td>\n      <td>0.0</td>\n      <td>0.0</td>\n      <td>0.0</td>\n      <td>0.0</td>\n      <td>0.0</td>\n      <td>0.0</td>\n    </tr>\n    <tr>\n      <th>2310172571</th>\n      <td>2020</td>\n      <td>180.618853</td>\n      <td>771.819554</td>\n      <td>2013</td>\n      <td>162.647576</td>\n      <td>30.174579</td>\n      <td>0.0</td>\n      <td>0.0</td>\n      <td>0.0</td>\n      <td>0.0</td>\n      <td>...</td>\n      <td>0.0</td>\n      <td>0.0</td>\n      <td>0.0</td>\n      <td>0.0</td>\n      <td>0.0</td>\n      <td>0.0</td>\n      <td>0.0</td>\n      <td>0.0</td>\n      <td>0.0</td>\n      <td>0.0</td>\n    </tr>\n  </tbody>\n</table>\n<p>5 rows × 101 columns</p>\n</div>"
     },
     "execution_count": 785,
     "metadata": {},
     "output_type": "execute_result"
    }
   ],
   "source": [
    "data.sort_values(by=['inn', 'year']).groupby('inn').last()[['year', 'ind_2400', 'profit'] + investments.columns.tolist()].head()"
   ],
   "metadata": {
    "collapsed": false,
    "pycharm": {
     "name": "#%%\n"
    }
   }
  },
  {
   "cell_type": "code",
   "execution_count": 786,
   "outputs": [],
   "source": [
    "features = ['year', 'ind_2400', 'profit', 'result',] + investments.columns.tolist()"
   ],
   "metadata": {
    "collapsed": false,
    "pycharm": {
     "name": "#%%\n"
    }
   }
  },
  {
   "cell_type": "code",
   "execution_count": 787,
   "outputs": [
    {
     "data": {
      "text/plain": "                                                                   address  \\\n58671  125438, г. Москва, ул. Михалковская, 63Б стр. 4, эт 6 пом I,ком. 14   \n16993                        119296, г. Москва, ул. Молодёжная, 3, кв. 465   \n\n       bankrupt  breaking_even  com_uncom  \\\n58671         1              0          1   \n16993         0              1          1   \n\n                                    comments  currency   date_reg  \\\n58671  Организация ликвидирована 16.12.2020.   31.8480 2012-09-04   \n16993                                    nan   67.0349 2015-12-18   \n\n       founding_month  founding_year  ind_1100  ...  inv_ind_6220  \\\n58671               9           2012       0.0  ...           0.0   \n16993              12           2015       0.0  ...           0.0   \n\n       inv_ind_6240  inv_ind_6250  inv_ind_6310  inv_ind_6320  inv_ind_6330  \\\n58671           0.0           0.0           0.0           0.0           0.0   \n16993           0.0           0.0           0.0           0.0           0.0   \n\n       inv_ind_6350  inv_ind_6400     profit     result  \n58671           0.0           0.0  11.888495  15.899109  \n16993           0.0           0.0   5.698524  -5.698524  \n\n[2 rows x 222 columns]",
      "text/html": "<div>\n<style scoped>\n    .dataframe tbody tr th:only-of-type {\n        vertical-align: middle;\n    }\n\n    .dataframe tbody tr th {\n        vertical-align: top;\n    }\n\n    .dataframe thead th {\n        text-align: right;\n    }\n</style>\n<table border=\"1\" class=\"dataframe\">\n  <thead>\n    <tr style=\"text-align: right;\">\n      <th></th>\n      <th>address</th>\n      <th>bankrupt</th>\n      <th>breaking_even</th>\n      <th>com_uncom</th>\n      <th>comments</th>\n      <th>currency</th>\n      <th>date_reg</th>\n      <th>founding_month</th>\n      <th>founding_year</th>\n      <th>ind_1100</th>\n      <th>...</th>\n      <th>inv_ind_6220</th>\n      <th>inv_ind_6240</th>\n      <th>inv_ind_6250</th>\n      <th>inv_ind_6310</th>\n      <th>inv_ind_6320</th>\n      <th>inv_ind_6330</th>\n      <th>inv_ind_6350</th>\n      <th>inv_ind_6400</th>\n      <th>profit</th>\n      <th>result</th>\n    </tr>\n  </thead>\n  <tbody>\n    <tr>\n      <th>58671</th>\n      <td>125438, г. Москва, ул. Михалковская, 63Б стр. 4, эт 6 пом I,ком. 14</td>\n      <td>1</td>\n      <td>0</td>\n      <td>1</td>\n      <td>Организация ликвидирована 16.12.2020.</td>\n      <td>31.8480</td>\n      <td>2012-09-04</td>\n      <td>9</td>\n      <td>2012</td>\n      <td>0.0</td>\n      <td>...</td>\n      <td>0.0</td>\n      <td>0.0</td>\n      <td>0.0</td>\n      <td>0.0</td>\n      <td>0.0</td>\n      <td>0.0</td>\n      <td>0.0</td>\n      <td>0.0</td>\n      <td>11.888495</td>\n      <td>15.899109</td>\n    </tr>\n    <tr>\n      <th>16993</th>\n      <td>119296, г. Москва, ул. Молодёжная, 3, кв. 465</td>\n      <td>0</td>\n      <td>1</td>\n      <td>1</td>\n      <td>nan</td>\n      <td>67.0349</td>\n      <td>2015-12-18</td>\n      <td>12</td>\n      <td>2015</td>\n      <td>0.0</td>\n      <td>...</td>\n      <td>0.0</td>\n      <td>0.0</td>\n      <td>0.0</td>\n      <td>0.0</td>\n      <td>0.0</td>\n      <td>0.0</td>\n      <td>0.0</td>\n      <td>0.0</td>\n      <td>5.698524</td>\n      <td>-5.698524</td>\n    </tr>\n  </tbody>\n</table>\n<p>2 rows × 222 columns</p>\n</div>"
     },
     "execution_count": 787,
     "metadata": {},
     "output_type": "execute_result"
    }
   ],
   "source": [
    "# Формируем результат деятельности организации за год как разницу между первоначальным вложением и прбылью после налогов\n",
    "data['result'] = data['inv_sum'] - data['profit']\n",
    "data.sample(2)"
   ],
   "metadata": {
    "collapsed": false,
    "pycharm": {
     "name": "#%%\n"
    }
   }
  },
  {
   "cell_type": "code",
   "execution_count": 788,
   "outputs": [
    {
     "data": {
      "text/plain": "             inn                                            address  bankrupt  \\\n4590  7719429440    105264, г. Москва, ул. Верхняя Первомайская, 51         0   \n8813  7733292117  125362, г. Москва, ул. Мещерякова, 8, пом 1 ком 1         1   \n\n      breaking_even  com_uncom                               comments  \\\n4590              0          1                                    nan   \n8813              0          1  Организация ликвидирована 28.05.2020.   \n\n      currency   date_reg  founding_month  founding_year  ...  inv_ind_6220  \\\n4590   60.9579 2015-11-06              11           2015  ...           0.0   \n8813   64.7362 2016-07-07               7           2016  ...           0.0   \n\n      inv_ind_6240  inv_ind_6250  inv_ind_6310  inv_ind_6320  inv_ind_6330  \\\n4590           0.0           0.0           0.0           0.0           0.0   \n8813           0.0           0.0           0.0           0.0           0.0   \n\n      inv_ind_6350  inv_ind_6400    profit   result  \n4590           0.0           0.0  0.000000  0.00000  \n8813           0.0           0.0 -0.031894  0.18107  \n\n[2 rows x 222 columns]",
      "text/html": "<div>\n<style scoped>\n    .dataframe tbody tr th:only-of-type {\n        vertical-align: middle;\n    }\n\n    .dataframe tbody tr th {\n        vertical-align: top;\n    }\n\n    .dataframe thead th {\n        text-align: right;\n    }\n</style>\n<table border=\"1\" class=\"dataframe\">\n  <thead>\n    <tr style=\"text-align: right;\">\n      <th></th>\n      <th>inn</th>\n      <th>address</th>\n      <th>bankrupt</th>\n      <th>breaking_even</th>\n      <th>com_uncom</th>\n      <th>comments</th>\n      <th>currency</th>\n      <th>date_reg</th>\n      <th>founding_month</th>\n      <th>founding_year</th>\n      <th>...</th>\n      <th>inv_ind_6220</th>\n      <th>inv_ind_6240</th>\n      <th>inv_ind_6250</th>\n      <th>inv_ind_6310</th>\n      <th>inv_ind_6320</th>\n      <th>inv_ind_6330</th>\n      <th>inv_ind_6350</th>\n      <th>inv_ind_6400</th>\n      <th>profit</th>\n      <th>result</th>\n    </tr>\n  </thead>\n  <tbody>\n    <tr>\n      <th>4590</th>\n      <td>7719429440</td>\n      <td>105264, г. Москва, ул. Верхняя Первомайская, 51</td>\n      <td>0</td>\n      <td>0</td>\n      <td>1</td>\n      <td>nan</td>\n      <td>60.9579</td>\n      <td>2015-11-06</td>\n      <td>11</td>\n      <td>2015</td>\n      <td>...</td>\n      <td>0.0</td>\n      <td>0.0</td>\n      <td>0.0</td>\n      <td>0.0</td>\n      <td>0.0</td>\n      <td>0.0</td>\n      <td>0.0</td>\n      <td>0.0</td>\n      <td>0.000000</td>\n      <td>0.00000</td>\n    </tr>\n    <tr>\n      <th>8813</th>\n      <td>7733292117</td>\n      <td>125362, г. Москва, ул. Мещерякова, 8, пом 1 ком 1</td>\n      <td>1</td>\n      <td>0</td>\n      <td>1</td>\n      <td>Организация ликвидирована 28.05.2020.</td>\n      <td>64.7362</td>\n      <td>2016-07-07</td>\n      <td>7</td>\n      <td>2016</td>\n      <td>...</td>\n      <td>0.0</td>\n      <td>0.0</td>\n      <td>0.0</td>\n      <td>0.0</td>\n      <td>0.0</td>\n      <td>0.0</td>\n      <td>0.0</td>\n      <td>0.0</td>\n      <td>-0.031894</td>\n      <td>0.18107</td>\n    </tr>\n  </tbody>\n</table>\n<p>2 rows × 222 columns</p>\n</div>"
     },
     "execution_count": 788,
     "metadata": {},
     "output_type": "execute_result"
    }
   ],
   "source": [
    "# Объединяем во временный набор последние записи об организации и записи где организаци вышла в 0 плюс\n",
    "# затем берем ту что была раньше\n",
    "temp = pd.concat([data.sort_values(by=['inn', 'year']).groupby('inn').last(),\n",
    "           data[data['result'] <= 0].sort_values(by=['inn', 'year']).groupby('inn').first()]).reset_index()\n",
    "temp = temp.sort_values(by=['inn', 'year']).groupby(['inn']).first().reset_index()\n",
    "temp.sample(2) #[['inn'] + features]"
   ],
   "metadata": {
    "collapsed": false,
    "pycharm": {
     "name": "#%%\n"
    }
   }
  },
  {
   "cell_type": "code",
   "execution_count": 789,
   "outputs": [
    {
     "data": {
      "text/plain": "             inn  \\\n5976  7724360120   \n9608  7743099754   \n\n                                                             address  \\\n5976  117546, г. Москва, проезд Ступинский, 1А стр. 5, пом II комн 4   \n9608         125502, г. Москва, ул. Петрозаводская, 9 корп. 2, оф. 8   \n\n      bankrupt  breaking_even  com_uncom  \\\n5976         0              0          1   \n9608         1              1          1   \n\n                                   comments  currency   date_reg  \\\n5976                                    nan   72.1464 2016-04-08   \n9608  Организация ликвидирована 12.09.2019.   67.0349 2015-05-05   \n\n      founding_month  founding_year  ...  inv_ind_6240  inv_ind_6250  \\\n5976               4           2016  ...           0.0           0.0   \n9608               5           2015  ...           0.0           0.0   \n\n      inv_ind_6310  inv_ind_6320  inv_ind_6330  inv_ind_6350  inv_ind_6400  \\\n5976           0.0           0.0           0.0           0.0           0.0   \n9608           0.0           0.0           0.0           0.0           0.0   \n\n          profit      result  target  \n5976 -138.506565  278.821535      -1  \n9608   16.708160   -4.470206       1  \n\n[2 rows x 223 columns]",
      "text/html": "<div>\n<style scoped>\n    .dataframe tbody tr th:only-of-type {\n        vertical-align: middle;\n    }\n\n    .dataframe tbody tr th {\n        vertical-align: top;\n    }\n\n    .dataframe thead th {\n        text-align: right;\n    }\n</style>\n<table border=\"1\" class=\"dataframe\">\n  <thead>\n    <tr style=\"text-align: right;\">\n      <th></th>\n      <th>inn</th>\n      <th>address</th>\n      <th>bankrupt</th>\n      <th>breaking_even</th>\n      <th>com_uncom</th>\n      <th>comments</th>\n      <th>currency</th>\n      <th>date_reg</th>\n      <th>founding_month</th>\n      <th>founding_year</th>\n      <th>...</th>\n      <th>inv_ind_6240</th>\n      <th>inv_ind_6250</th>\n      <th>inv_ind_6310</th>\n      <th>inv_ind_6320</th>\n      <th>inv_ind_6330</th>\n      <th>inv_ind_6350</th>\n      <th>inv_ind_6400</th>\n      <th>profit</th>\n      <th>result</th>\n      <th>target</th>\n    </tr>\n  </thead>\n  <tbody>\n    <tr>\n      <th>5976</th>\n      <td>7724360120</td>\n      <td>117546, г. Москва, проезд Ступинский, 1А стр. 5, пом II комн 4</td>\n      <td>0</td>\n      <td>0</td>\n      <td>1</td>\n      <td>nan</td>\n      <td>72.1464</td>\n      <td>2016-04-08</td>\n      <td>4</td>\n      <td>2016</td>\n      <td>...</td>\n      <td>0.0</td>\n      <td>0.0</td>\n      <td>0.0</td>\n      <td>0.0</td>\n      <td>0.0</td>\n      <td>0.0</td>\n      <td>0.0</td>\n      <td>-138.506565</td>\n      <td>278.821535</td>\n      <td>-1</td>\n    </tr>\n    <tr>\n      <th>9608</th>\n      <td>7743099754</td>\n      <td>125502, г. Москва, ул. Петрозаводская, 9 корп. 2, оф. 8</td>\n      <td>1</td>\n      <td>1</td>\n      <td>1</td>\n      <td>Организация ликвидирована 12.09.2019.</td>\n      <td>67.0349</td>\n      <td>2015-05-05</td>\n      <td>5</td>\n      <td>2015</td>\n      <td>...</td>\n      <td>0.0</td>\n      <td>0.0</td>\n      <td>0.0</td>\n      <td>0.0</td>\n      <td>0.0</td>\n      <td>0.0</td>\n      <td>0.0</td>\n      <td>16.708160</td>\n      <td>-4.470206</td>\n      <td>1</td>\n    </tr>\n  </tbody>\n</table>\n<p>2 rows × 223 columns</p>\n</div>"
     },
     "execution_count": 789,
     "metadata": {},
     "output_type": "execute_result"
    }
   ],
   "source": [
    "# Формироуем таргет как разницу межу годом выхода в плюс и годом инвестирования или -1 если так и не вашли в плюс\n",
    "temp['target'] = temp.apply(lambda row: -1 if row['result'] > 0 else row['year'] - row['inv_year'], axis=1)\n",
    "temp.sample(2)"
   ],
   "metadata": {
    "collapsed": false,
    "pycharm": {
     "name": "#%%\n"
    }
   }
  },
  {
   "cell_type": "code",
   "execution_count": 790,
   "outputs": [
    {
     "data": {
      "text/plain": "          inn main_okved   date_reg      inv_sum  target region  inv_ind_1100  \\\n0  1102068218      62.01 2011-04-04  2346.141544      -1    msk   2309.323043   \n1  1650329732      62.01 2016-04-25    30.939108       4    msk      0.000000   \n2  1655298774      62.01 2014-08-12   181.433929       1    msk      0.000000   \n3  1655300448      62.09 2014-09-05    32.299456       1    msk      0.000000   \n4  2310172571      62.09 2013-09-09   162.647576       5    msk     30.174579   \n\n   inv_ind_1110  inv_ind_1120  inv_ind_1130  ...  inv_ind_4500  inv_ind_6100  \\\n0           0.0           0.0           0.0  ...           0.0           0.0   \n1           0.0           0.0           0.0  ...           0.0           0.0   \n2           0.0           0.0           0.0  ...           0.0           0.0   \n3           0.0           0.0           0.0  ...           0.0           0.0   \n4           0.0           0.0           0.0  ...           0.0           0.0   \n\n   inv_ind_6220  inv_ind_6240  inv_ind_6250  inv_ind_6310  inv_ind_6320  \\\n0           0.0           0.0           0.0           0.0           0.0   \n1           0.0           0.0           0.0           0.0           0.0   \n2           0.0           0.0           0.0           0.0           0.0   \n3           0.0           0.0           0.0           0.0           0.0   \n4           0.0           0.0           0.0           0.0           0.0   \n\n   inv_ind_6330  inv_ind_6350  inv_ind_6400  \n0           0.0           0.0           0.0  \n1           0.0           0.0           0.0  \n2           0.0           0.0           0.0  \n3           0.0           0.0           0.0  \n4           0.0           0.0           0.0  \n\n[5 rows x 102 columns]",
      "text/html": "<div>\n<style scoped>\n    .dataframe tbody tr th:only-of-type {\n        vertical-align: middle;\n    }\n\n    .dataframe tbody tr th {\n        vertical-align: top;\n    }\n\n    .dataframe thead th {\n        text-align: right;\n    }\n</style>\n<table border=\"1\" class=\"dataframe\">\n  <thead>\n    <tr style=\"text-align: right;\">\n      <th></th>\n      <th>inn</th>\n      <th>main_okved</th>\n      <th>date_reg</th>\n      <th>inv_sum</th>\n      <th>target</th>\n      <th>region</th>\n      <th>inv_ind_1100</th>\n      <th>inv_ind_1110</th>\n      <th>inv_ind_1120</th>\n      <th>inv_ind_1130</th>\n      <th>...</th>\n      <th>inv_ind_4500</th>\n      <th>inv_ind_6100</th>\n      <th>inv_ind_6220</th>\n      <th>inv_ind_6240</th>\n      <th>inv_ind_6250</th>\n      <th>inv_ind_6310</th>\n      <th>inv_ind_6320</th>\n      <th>inv_ind_6330</th>\n      <th>inv_ind_6350</th>\n      <th>inv_ind_6400</th>\n    </tr>\n  </thead>\n  <tbody>\n    <tr>\n      <th>0</th>\n      <td>1102068218</td>\n      <td>62.01</td>\n      <td>2011-04-04</td>\n      <td>2346.141544</td>\n      <td>-1</td>\n      <td>msk</td>\n      <td>2309.323043</td>\n      <td>0.0</td>\n      <td>0.0</td>\n      <td>0.0</td>\n      <td>...</td>\n      <td>0.0</td>\n      <td>0.0</td>\n      <td>0.0</td>\n      <td>0.0</td>\n      <td>0.0</td>\n      <td>0.0</td>\n      <td>0.0</td>\n      <td>0.0</td>\n      <td>0.0</td>\n      <td>0.0</td>\n    </tr>\n    <tr>\n      <th>1</th>\n      <td>1650329732</td>\n      <td>62.01</td>\n      <td>2016-04-25</td>\n      <td>30.939108</td>\n      <td>4</td>\n      <td>msk</td>\n      <td>0.000000</td>\n      <td>0.0</td>\n      <td>0.0</td>\n      <td>0.0</td>\n      <td>...</td>\n      <td>0.0</td>\n      <td>0.0</td>\n      <td>0.0</td>\n      <td>0.0</td>\n      <td>0.0</td>\n      <td>0.0</td>\n      <td>0.0</td>\n      <td>0.0</td>\n      <td>0.0</td>\n      <td>0.0</td>\n    </tr>\n    <tr>\n      <th>2</th>\n      <td>1655298774</td>\n      <td>62.01</td>\n      <td>2014-08-12</td>\n      <td>181.433929</td>\n      <td>1</td>\n      <td>msk</td>\n      <td>0.000000</td>\n      <td>0.0</td>\n      <td>0.0</td>\n      <td>0.0</td>\n      <td>...</td>\n      <td>0.0</td>\n      <td>0.0</td>\n      <td>0.0</td>\n      <td>0.0</td>\n      <td>0.0</td>\n      <td>0.0</td>\n      <td>0.0</td>\n      <td>0.0</td>\n      <td>0.0</td>\n      <td>0.0</td>\n    </tr>\n    <tr>\n      <th>3</th>\n      <td>1655300448</td>\n      <td>62.09</td>\n      <td>2014-09-05</td>\n      <td>32.299456</td>\n      <td>1</td>\n      <td>msk</td>\n      <td>0.000000</td>\n      <td>0.0</td>\n      <td>0.0</td>\n      <td>0.0</td>\n      <td>...</td>\n      <td>0.0</td>\n      <td>0.0</td>\n      <td>0.0</td>\n      <td>0.0</td>\n      <td>0.0</td>\n      <td>0.0</td>\n      <td>0.0</td>\n      <td>0.0</td>\n      <td>0.0</td>\n      <td>0.0</td>\n    </tr>\n    <tr>\n      <th>4</th>\n      <td>2310172571</td>\n      <td>62.09</td>\n      <td>2013-09-09</td>\n      <td>162.647576</td>\n      <td>5</td>\n      <td>msk</td>\n      <td>30.174579</td>\n      <td>0.0</td>\n      <td>0.0</td>\n      <td>0.0</td>\n      <td>...</td>\n      <td>0.0</td>\n      <td>0.0</td>\n      <td>0.0</td>\n      <td>0.0</td>\n      <td>0.0</td>\n      <td>0.0</td>\n      <td>0.0</td>\n      <td>0.0</td>\n      <td>0.0</td>\n      <td>0.0</td>\n    </tr>\n  </tbody>\n</table>\n<p>5 rows × 102 columns</p>\n</div>"
     },
     "execution_count": 790,
     "metadata": {},
     "output_type": "execute_result"
    }
   ],
   "source": [
    "# В рабочий набор берем только коммерческие организации\n",
    "work_df = temp.loc[temp['type'] == 'коммерческая', ['inn', 'main_okved', 'date_reg', 'inv_sum', 'target', 'region'] + ['inv_' + x for x in additional_features]]\n",
    "work_df.head()"
   ],
   "metadata": {
    "collapsed": false,
    "pycharm": {
     "name": "#%%\n"
    }
   }
  },
  {
   "cell_type": "markdown",
   "source": [
    "### EDA"
   ],
   "metadata": {
    "collapsed": false,
    "pycharm": {
     "name": "#%% md\n"
    }
   }
  },
  {
   "cell_type": "code",
   "execution_count": 791,
   "outputs": [
    {
     "name": "stdout",
     "output_type": "stream",
     "text": [
      "--------------------------------------------------------------------------------\n",
      "Название: inn\n",
      "Тип данных: <class 'numpy.object_'>\n",
      "Количество значений: 16095\n",
      "Количество уникальных значений: 16095\n",
      "Количество пропусков: 0\n",
      "Процент пропусков: 0.0%\n",
      "Общие статистики:\n",
      "count          16095\n",
      "unique         16095\n",
      "top       1102068218\n",
      "freq               1\n",
      "Name: inn, dtype: object\n",
      "Топ 10 уникальных значений:\n",
      "1102068218    1\n",
      "7804528072    1\n",
      "7804513164    1\n",
      "7804513735    1\n",
      "7804513781    1\n",
      "7804513990    1\n",
      "7804514697    1\n",
      "7804514922    1\n",
      "7804515490    1\n",
      "7804515764    1\n",
      "Name: inn, dtype: int64\n",
      "--------------------------------------------------------------------------------\n",
      "--------------------------------------------------------------------------------\n",
      "Название: main_okved\n",
      "Тип данных: <class 'numpy.object_'>\n",
      "Количество значений: 16095\n",
      "Количество уникальных значений: 66\n",
      "Количество пропусков: 0\n",
      "Процент пропусков: 0.0%\n",
      "Общие статистики:\n",
      "count     16095\n",
      "unique       66\n",
      "top       62.01\n",
      "freq       5400\n",
      "Name: main_okved, dtype: object\n",
      "Топ 10 уникальных значений:\n",
      "62.01      5400\n",
      "62.09      1301\n",
      "71.1       1217\n",
      "62.02      1042\n",
      "59.11       912\n",
      "71.20       726\n",
      "63.11       617\n",
      "61.10       562\n",
      "56.10.1     460\n",
      "90.01       358\n",
      "Name: main_okved, dtype: int64\n",
      "--------------------------------------------------------------------------------\n",
      "--------------------------------------------------------------------------------\n",
      "Название: date_reg\n",
      "Тип данных: <class 'numpy.datetime64'>\n",
      "Количество значений: 16095\n",
      "Количество уникальных значений: 2183\n",
      "Количество пропусков: 0\n",
      "Процент пропусков: 0.0%\n",
      "Общие статистики:\n",
      "count                   16095\n",
      "unique                   2183\n",
      "top       2016-02-09 00:00:00\n",
      "freq                       29\n",
      "first     2011-01-11 00:00:00\n",
      "last      2020-09-11 00:00:00\n",
      "Name: date_reg, dtype: object\n",
      "Топ 10 уникальных значений:\n",
      "2016-02-09    29\n",
      "2016-05-06    24\n",
      "2016-04-20    24\n",
      "2017-03-24    24\n",
      "2016-02-24    24\n",
      "2017-04-27    23\n",
      "2015-04-20    23\n",
      "2015-03-19    23\n",
      "2014-12-11    22\n",
      "2015-04-29    22\n",
      "Name: date_reg, dtype: int64\n",
      "--------------------------------------------------------------------------------\n",
      "--------------------------------------------------------------------------------\n",
      "Название: inv_sum\n",
      "Тип данных: <class 'numpy.float64'>\n",
      "Количество значений: 16095\n",
      "Количество уникальных значений: 8893\n",
      "Количество пропусков: 0\n",
      "Процент пропусков: 0.0%\n",
      "Общие статистики:\n",
      "count     16095.00\n",
      "mean        717.37\n",
      "std       56757.32\n",
      "min         -30.52\n",
      "25%           0.26\n",
      "50%           4.59\n",
      "75%          37.47\n",
      "max     7163314.57\n",
      "Name: inv_sum, dtype: float64\n",
      "Топ 10 уникальных значений:\n",
      "Ошибка: 10\n",
      "--------------------------------------------------------------------------------\n",
      "--------------------------------------------------------------------------------\n",
      "Название: target\n",
      "Тип данных: <class 'numpy.int64'>\n",
      "Количество значений: 16095\n",
      "Количество уникальных значений: 11\n",
      "Количество пропусков: 0\n",
      "Процент пропусков: 0.0%\n",
      "Общие статистики:\n",
      "count   16095.00\n",
      "mean        0.49\n",
      "std         1.64\n",
      "min        -1.00\n",
      "25%        -1.00\n",
      "50%         0.00\n",
      "75%         1.00\n",
      "max         9.00\n",
      "Name: target, dtype: float64\n",
      "Топ 10 уникальных значений:\n",
      "-1    6270\n",
      " 1    4053\n",
      " 0    2421\n",
      " 2    1615\n",
      " 3     812\n",
      " 4     451\n",
      " 5     255\n",
      " 6     131\n",
      " 7      56\n",
      " 8      23\n",
      "Name: target, dtype: int64\n",
      "--------------------------------------------------------------------------------\n",
      "--------------------------------------------------------------------------------\n",
      "Название: region\n",
      "Тип данных: <class 'numpy.object_'>\n",
      "Количество значений: 16095\n",
      "Количество уникальных значений: 2\n",
      "Количество пропусков: 0\n",
      "Процент пропусков: 0.0%\n",
      "Общие статистики:\n",
      "count     16095\n",
      "unique        2\n",
      "top         msk\n",
      "freq      12401\n",
      "Name: region, dtype: object\n",
      "Топ 10 уникальных значений:\n",
      "msk    12401\n",
      "spb     3694\n",
      "Name: region, dtype: int64\n",
      "--------------------------------------------------------------------------------\n",
      "--------------------------------------------------------------------------------\n",
      "Название: inv_ind_1100\n",
      "Тип данных: <class 'numpy.float64'>\n",
      "Количество значений: 16095\n",
      "Количество уникальных значений: 1526\n",
      "Количество пропусков: 0\n",
      "Процент пропусков: 0.0%\n",
      "Общие статистики:\n",
      "count     16095.00\n",
      "mean        531.79\n",
      "std       56538.11\n",
      "min           0.00\n",
      "25%           0.00\n",
      "50%           0.00\n",
      "75%           0.00\n",
      "max     7163311.51\n",
      "Name: inv_ind_1100, dtype: float64\n",
      "Топ 10 уникальных значений:\n",
      "Ошибка: 10\n",
      "--------------------------------------------------------------------------------\n",
      "--------------------------------------------------------------------------------\n",
      "Название: inv_ind_1110\n",
      "Тип данных: <class 'numpy.float64'>\n",
      "Количество значений: 16095\n",
      "Количество уникальных значений: 399\n",
      "Количество пропусков: 0\n",
      "Процент пропусков: 0.0%\n",
      "Общие статистики:\n",
      "count     16095.00\n",
      "mean        455.37\n",
      "std       56465.14\n",
      "min           0.00\n",
      "25%           0.00\n",
      "50%           0.00\n",
      "75%           0.00\n",
      "max     7163311.51\n",
      "Name: inv_ind_1110, dtype: float64\n",
      "Топ 10 уникальных значений:\n",
      "Ошибка: 10\n",
      "--------------------------------------------------------------------------------\n",
      "--------------------------------------------------------------------------------\n",
      "Название: inv_ind_1120\n",
      "Тип данных: <class 'numpy.float64'>\n",
      "Количество значений: 16095\n",
      "Количество уникальных значений: 37\n",
      "Количество пропусков: 0\n",
      "Процент пропусков: 0.0%\n",
      "Общие статистики:\n",
      "count   16095.00\n",
      "mean        0.51\n",
      "std        20.53\n",
      "min         0.00\n",
      "25%         0.00\n",
      "50%         0.00\n",
      "75%         0.00\n",
      "max      1926.16\n",
      "Name: inv_ind_1120, dtype: float64\n",
      "Топ 10 уникальных значений:\n",
      "Ошибка: 10\n",
      "--------------------------------------------------------------------------------\n",
      "--------------------------------------------------------------------------------\n",
      "Название: inv_ind_1130\n",
      "Тип данных: <class 'numpy.float64'>\n",
      "Количество значений: 16095\n",
      "Количество уникальных значений: 1\n",
      "Количество пропусков: 0\n",
      "Процент пропусков: 0.0%\n",
      "Общие статистики:\n",
      "count   16095.00\n",
      "mean        0.00\n",
      "std         0.00\n",
      "min         0.00\n",
      "25%         0.00\n",
      "50%         0.00\n",
      "75%         0.00\n",
      "max         0.00\n",
      "Name: inv_ind_1130, dtype: float64\n",
      "Топ 10 уникальных значений:\n",
      "0.00    16095\n",
      "Name: inv_ind_1130, dtype: int64\n",
      "--------------------------------------------------------------------------------\n",
      "--------------------------------------------------------------------------------\n",
      "Название: inv_ind_1140\n",
      "Тип данных: <class 'numpy.float64'>\n",
      "Количество значений: 16095\n",
      "Количество уникальных значений: 1\n",
      "Количество пропусков: 0\n",
      "Процент пропусков: 0.0%\n",
      "Общие статистики:\n",
      "count   16095.00\n",
      "mean        0.00\n",
      "std         0.00\n",
      "min         0.00\n",
      "25%         0.00\n",
      "50%         0.00\n",
      "75%         0.00\n",
      "max         0.00\n",
      "Name: inv_ind_1140, dtype: float64\n",
      "Топ 10 уникальных значений:\n",
      "0.00    16095\n",
      "Name: inv_ind_1140, dtype: int64\n",
      "--------------------------------------------------------------------------------\n",
      "--------------------------------------------------------------------------------\n",
      "Название: inv_ind_1150\n",
      "Тип данных: <class 'numpy.float64'>\n",
      "Количество значений: 16095\n",
      "Количество уникальных значений: 1967\n",
      "Количество пропусков: 0\n",
      "Процент пропусков: 0.0%\n",
      "Общие статистики:\n",
      "count    16095.00\n",
      "mean        60.94\n",
      "std       2619.16\n",
      "min         -0.15\n",
      "25%          0.00\n",
      "50%          0.00\n",
      "75%          0.00\n",
      "max     265508.01\n",
      "Name: inv_ind_1150, dtype: float64\n",
      "Топ 10 уникальных значений:\n",
      "Ошибка: 10\n",
      "--------------------------------------------------------------------------------\n",
      "--------------------------------------------------------------------------------\n",
      "Название: inv_ind_1160\n",
      "Тип данных: <class 'numpy.float64'>\n",
      "Количество значений: 16095\n",
      "Количество уникальных значений: 9\n",
      "Количество пропусков: 0\n",
      "Процент пропусков: 0.0%\n",
      "Общие статистики:\n",
      "count   16095.00\n",
      "mean        0.03\n",
      "std         2.24\n",
      "min        -2.62\n",
      "25%         0.00\n",
      "50%         0.00\n",
      "75%         0.00\n",
      "max       265.28\n",
      "Name: inv_ind_1160, dtype: float64\n",
      "Топ 10 уникальных значений:\n",
      "Ошибка: 10\n",
      "--------------------------------------------------------------------------------\n",
      "--------------------------------------------------------------------------------\n",
      "Название: inv_ind_1170\n",
      "Тип данных: <class 'numpy.float64'>\n",
      "Количество значений: 16095\n",
      "Количество уникальных значений: 849\n",
      "Количество пропусков: 0\n",
      "Процент пропусков: 0.0%\n",
      "Общие статистики:\n",
      "count    16095.00\n",
      "mean        80.29\n",
      "std       4983.74\n",
      "min        -15.88\n",
      "25%          0.00\n",
      "50%          0.00\n",
      "75%          0.00\n",
      "max     542284.48\n",
      "Name: inv_ind_1170, dtype: float64\n",
      "Топ 10 уникальных значений:\n",
      "Ошибка: 10\n",
      "--------------------------------------------------------------------------------\n",
      "--------------------------------------------------------------------------------\n",
      "Название: inv_ind_1180\n",
      "Тип данных: <class 'numpy.float64'>\n",
      "Количество значений: 16095\n",
      "Количество уникальных значений: 514\n",
      "Количество пропусков: 0\n",
      "Процент пропусков: 0.0%\n",
      "Общие статистики:\n",
      "count   16095.00\n",
      "mean        3.39\n",
      "std       116.46\n",
      "min         0.00\n",
      "25%         0.00\n",
      "50%         0.00\n",
      "75%         0.00\n",
      "max      8804.76\n",
      "Name: inv_ind_1180, dtype: float64\n",
      "Топ 10 уникальных значений:\n",
      "Ошибка: 10\n",
      "--------------------------------------------------------------------------------\n",
      "--------------------------------------------------------------------------------\n",
      "Название: inv_ind_1190\n",
      "Тип данных: <class 'numpy.float64'>\n",
      "Количество значений: 16095\n",
      "Количество уникальных значений: 244\n",
      "Количество пропусков: 0\n",
      "Процент пропусков: 0.0%\n",
      "Общие статистики:\n",
      "count   16095.00\n",
      "mean        5.77\n",
      "std       331.88\n",
      "min         0.00\n",
      "25%         0.00\n",
      "50%         0.00\n",
      "75%         0.00\n",
      "max     26065.17\n",
      "Name: inv_ind_1190, dtype: float64\n",
      "Топ 10 уникальных значений:\n",
      "Ошибка: 10\n",
      "--------------------------------------------------------------------------------\n",
      "--------------------------------------------------------------------------------\n",
      "Название: inv_ind_1200\n",
      "Тип данных: <class 'numpy.float64'>\n",
      "Количество значений: 16095\n",
      "Количество уникальных значений: 3998\n",
      "Количество пропусков: 0\n",
      "Процент пропусков: 0.0%\n",
      "Общие статистики:\n",
      "count    16095.00\n",
      "mean       148.33\n",
      "std       3309.56\n",
      "min       -127.11\n",
      "25%          0.00\n",
      "50%          0.00\n",
      "75%          1.08\n",
      "max     377574.79\n",
      "Name: inv_ind_1200, dtype: float64\n",
      "Топ 10 уникальных значений:\n",
      "Ошибка: 10\n",
      "--------------------------------------------------------------------------------\n",
      "--------------------------------------------------------------------------------\n",
      "Название: inv_ind_1210\n",
      "Тип данных: <class 'numpy.float64'>\n",
      "Количество значений: 16095\n",
      "Количество уникальных значений: 2763\n",
      "Количество пропусков: 0\n",
      "Процент пропусков: 0.0%\n",
      "Общие статистики:\n",
      "count   16095.00\n",
      "mean       20.66\n",
      "std       333.78\n",
      "min        -6.61\n",
      "25%         0.00\n",
      "50%         0.00\n",
      "75%         0.15\n",
      "max     26689.38\n",
      "Name: inv_ind_1210, dtype: float64\n",
      "Топ 10 уникальных значений:\n",
      "Ошибка: 10\n",
      "--------------------------------------------------------------------------------\n",
      "--------------------------------------------------------------------------------\n",
      "Название: inv_ind_1220\n",
      "Тип данных: <class 'numpy.float64'>\n",
      "Количество значений: 16095\n",
      "Количество уникальных значений: 561\n",
      "Количество пропусков: 0\n",
      "Процент пропусков: 0.0%\n",
      "Общие статистики:\n",
      "count   16095.00\n",
      "mean        1.91\n",
      "std        69.08\n",
      "min        -0.99\n",
      "25%         0.00\n",
      "50%         0.00\n",
      "75%         0.00\n",
      "max      5945.94\n",
      "Name: inv_ind_1220, dtype: float64\n",
      "Топ 10 уникальных значений:\n",
      "Ошибка: 10\n",
      "--------------------------------------------------------------------------------\n",
      "--------------------------------------------------------------------------------\n",
      "Название: inv_ind_1230\n",
      "Тип данных: <class 'numpy.float64'>\n",
      "Количество значений: 16095\n",
      "Количество уникальных значений: 6904\n",
      "Количество пропусков: 0\n",
      "Процент пропусков: 0.0%\n",
      "Общие статистики:\n",
      "count    16095.00\n",
      "mean       159.71\n",
      "std       1790.30\n",
      "min      -1058.62\n",
      "25%          0.00\n",
      "50%          1.44\n",
      "75%         21.62\n",
      "max     147776.86\n",
      "Name: inv_ind_1230, dtype: float64\n",
      "Топ 10 уникальных значений:\n",
      "Ошибка: 10\n",
      "--------------------------------------------------------------------------------\n",
      "--------------------------------------------------------------------------------\n",
      "Название: inv_ind_1240\n",
      "Тип данных: <class 'numpy.float64'>\n",
      "Количество значений: 16095\n",
      "Количество уникальных значений: 326\n",
      "Количество пропусков: 0\n",
      "Процент пропусков: 0.0%\n",
      "Общие статистики:\n",
      "count    16095.00\n",
      "mean        29.40\n",
      "std       2293.22\n",
      "min       -174.55\n",
      "25%          0.00\n",
      "50%          0.00\n",
      "75%          0.00\n",
      "max     288176.87\n",
      "Name: inv_ind_1240, dtype: float64\n",
      "Топ 10 уникальных значений:\n",
      "Ошибка: 10\n",
      "--------------------------------------------------------------------------------\n",
      "--------------------------------------------------------------------------------\n",
      "Название: inv_ind_1250\n",
      "Тип данных: <class 'numpy.float64'>\n",
      "Количество значений: 16095\n",
      "Количество уникальных значений: 5584\n",
      "Количество пропусков: 0\n",
      "Процент пропусков: 0.0%\n",
      "Общие статистики:\n",
      "count   16095.00\n",
      "mean       39.40\n",
      "std       865.00\n",
      "min        -9.84\n",
      "25%         0.00\n",
      "50%         0.60\n",
      "75%         5.60\n",
      "max     82977.02\n",
      "Name: inv_ind_1250, dtype: float64\n",
      "Топ 10 уникальных значений:\n",
      "Ошибка: 10\n",
      "--------------------------------------------------------------------------------\n",
      "--------------------------------------------------------------------------------\n",
      "Название: inv_ind_1260\n",
      "Тип данных: <class 'numpy.float64'>\n",
      "Количество значений: 16095\n",
      "Количество уникальных значений: 769\n",
      "Количество пропусков: 0\n",
      "Процент пропусков: 0.0%\n",
      "Общие статистики:\n",
      "count   16095.00\n",
      "mean        4.35\n",
      "std       212.00\n",
      "min         0.00\n",
      "25%         0.00\n",
      "50%         0.00\n",
      "75%         0.00\n",
      "max     20551.45\n",
      "Name: inv_ind_1260, dtype: float64\n",
      "Топ 10 уникальных значений:\n",
      "Ошибка: 10\n",
      "--------------------------------------------------------------------------------\n",
      "--------------------------------------------------------------------------------\n",
      "Название: inv_ind_1300\n",
      "Тип данных: <class 'numpy.float64'>\n",
      "Количество значений: 16095\n",
      "Количество уникальных значений: 8083\n",
      "Количество пропусков: 0\n",
      "Процент пропусков: 0.0%\n",
      "Общие статистики:\n",
      "count      16095.00\n",
      "mean        1507.49\n",
      "std       169487.51\n",
      "min      -274531.21\n",
      "25%            0.00\n",
      "50%            0.58\n",
      "75%            9.52\n",
      "max     21489942.18\n",
      "Name: inv_ind_1300, dtype: float64\n",
      "Топ 10 уникальных значений:\n",
      "Ошибка: 10\n",
      "--------------------------------------------------------------------------------\n",
      "--------------------------------------------------------------------------------\n",
      "Название: inv_ind_1310\n",
      "Тип данных: <class 'numpy.float64'>\n",
      "Количество значений: 16095\n",
      "Количество уникальных значений: 483\n",
      "Количество пропусков: 0\n",
      "Процент пропусков: 0.0%\n",
      "Общие статистики:\n",
      "count    16095.00\n",
      "mean        65.57\n",
      "std       2374.41\n",
      "min        -43.83\n",
      "25%          0.00\n",
      "50%          0.00\n",
      "75%          0.00\n",
      "max     147776.86\n",
      "Name: inv_ind_1310, dtype: float64\n",
      "Топ 10 уникальных значений:\n",
      "Ошибка: 10\n",
      "--------------------------------------------------------------------------------\n",
      "--------------------------------------------------------------------------------\n",
      "Название: inv_ind_1320\n",
      "Тип данных: <class 'numpy.float64'>\n",
      "Количество значений: 16095\n",
      "Количество уникальных значений: 5\n",
      "Количество пропусков: 0\n",
      "Процент пропусков: 0.0%\n",
      "Общие статистики:\n",
      "count   16095.00\n",
      "mean       -0.00\n",
      "std         0.15\n",
      "min       -19.26\n",
      "25%         0.00\n",
      "50%         0.00\n",
      "75%         0.00\n",
      "max         0.00\n",
      "Name: inv_ind_1320, dtype: float64\n",
      "Топ 10 уникальных значений:\n",
      "Ошибка: 10\n",
      "--------------------------------------------------------------------------------\n",
      "--------------------------------------------------------------------------------\n",
      "Название: inv_ind_1340\n",
      "Тип данных: <class 'numpy.float64'>\n",
      "Количество значений: 16095\n",
      "Количество уникальных значений: 15\n",
      "Количество пропусков: 0\n",
      "Процент пропусков: 0.0%\n",
      "Общие статистики:\n",
      "count   16095.00\n",
      "mean        2.87\n",
      "std       356.67\n",
      "min         0.00\n",
      "25%         0.00\n",
      "50%         0.00\n",
      "75%         0.00\n",
      "max     45246.55\n",
      "Name: inv_ind_1340, dtype: float64\n",
      "Топ 10 уникальных значений:\n",
      "Ошибка: 10\n",
      "--------------------------------------------------------------------------------\n",
      "--------------------------------------------------------------------------------\n",
      "Название: inv_ind_1350\n",
      "Тип данных: <class 'numpy.float64'>\n",
      "Количество значений: 16095\n",
      "Количество уникальных значений: 140\n",
      "Количество пропусков: 0\n",
      "Процент пропусков: 0.0%\n",
      "Общие статистики:\n",
      "count      16095.00\n",
      "mean         920.51\n",
      "std       112937.26\n",
      "min           -0.16\n",
      "25%            0.00\n",
      "50%            0.00\n",
      "75%            0.00\n",
      "max     14326623.01\n",
      "Name: inv_ind_1350, dtype: float64\n",
      "Топ 10 уникальных значений:\n",
      "Ошибка: 10\n",
      "--------------------------------------------------------------------------------\n",
      "--------------------------------------------------------------------------------\n",
      "Название: inv_ind_1360\n",
      "Тип данных: <class 'numpy.float64'>\n",
      "Количество значений: 16095\n",
      "Количество уникальных значений: 46\n",
      "Количество пропусков: 0\n",
      "Процент пропусков: 0.0%\n",
      "Общие статистики:\n",
      "count   16095.00\n",
      "mean        0.13\n",
      "std        11.73\n",
      "min         0.00\n",
      "25%         0.00\n",
      "50%         0.00\n",
      "75%         0.00\n",
      "max      1461.04\n",
      "Name: inv_ind_1360, dtype: float64\n",
      "Топ 10 уникальных значений:\n",
      "Ошибка: 10\n",
      "--------------------------------------------------------------------------------\n",
      "--------------------------------------------------------------------------------\n",
      "Название: inv_ind_1370\n",
      "Тип данных: <class 'numpy.float64'>\n",
      "Количество значений: 16095\n",
      "Количество уникальных значений: 2713\n",
      "Количество пропусков: 0\n",
      "Процент пропусков: 0.0%\n",
      "Общие статистики:\n",
      "count     16095.00\n",
      "mean        -14.08\n",
      "std        2170.92\n",
      "min     -183022.10\n",
      "25%           0.00\n",
      "50%           0.00\n",
      "75%           0.00\n",
      "max       62469.59\n",
      "Name: inv_ind_1370, dtype: float64\n",
      "Топ 10 уникальных значений:\n",
      "Ошибка: 10\n",
      "--------------------------------------------------------------------------------\n",
      "--------------------------------------------------------------------------------\n",
      "Название: inv_ind_1400\n",
      "Тип данных: <class 'numpy.float64'>\n",
      "Количество значений: 16095\n",
      "Количество уникальных значений: 797\n",
      "Количество пропусков: 0\n",
      "Процент пропусков: 0.0%\n",
      "Общие статистики:\n",
      "count    16095.00\n",
      "mean        49.95\n",
      "std       2949.88\n",
      "min        -32.27\n",
      "25%          0.00\n",
      "50%          0.00\n",
      "75%          0.00\n",
      "max     360698.25\n",
      "Name: inv_ind_1400, dtype: float64\n",
      "Топ 10 уникальных значений:\n",
      "Ошибка: 10\n",
      "--------------------------------------------------------------------------------\n",
      "--------------------------------------------------------------------------------\n",
      "Название: inv_ind_1410\n",
      "Тип данных: <class 'numpy.float64'>\n",
      "Количество значений: 16095\n",
      "Количество уникальных значений: 1608\n",
      "Количество пропусков: 0\n",
      "Процент пропусков: 0.0%\n",
      "Общие статистики:\n",
      "count    16095.00\n",
      "mean        70.51\n",
      "std       2132.14\n",
      "min        -64.54\n",
      "25%          0.00\n",
      "50%          0.00\n",
      "75%          0.00\n",
      "max     189462.45\n",
      "Name: inv_ind_1410, dtype: float64\n",
      "Топ 10 уникальных значений:\n",
      "Ошибка: 10\n",
      "--------------------------------------------------------------------------------\n",
      "--------------------------------------------------------------------------------\n",
      "Название: inv_ind_1420\n",
      "Тип данных: <class 'numpy.float64'>\n",
      "Количество значений: 16095\n",
      "Количество уникальных значений: 204\n",
      "Количество пропусков: 0\n",
      "Процент пропусков: 0.0%\n",
      "Общие статистики:\n",
      "count   16095.00\n",
      "mean        0.80\n",
      "std        45.04\n",
      "min         0.00\n",
      "25%         0.00\n",
      "50%         0.00\n",
      "75%         0.00\n",
      "max      4815.25\n",
      "Name: inv_ind_1420, dtype: float64\n",
      "Топ 10 уникальных значений:\n",
      "Ошибка: 10\n",
      "--------------------------------------------------------------------------------\n",
      "--------------------------------------------------------------------------------\n",
      "Название: inv_ind_1430\n",
      "Тип данных: <class 'numpy.float64'>\n",
      "Количество значений: 16095\n",
      "Количество уникальных значений: 2\n",
      "Количество пропусков: 0\n",
      "Процент пропусков: 0.0%\n",
      "Общие статистики:\n",
      "count   16095.00\n",
      "mean        0.00\n",
      "std         0.28\n",
      "min         0.00\n",
      "25%         0.00\n",
      "50%         0.00\n",
      "75%         0.00\n",
      "max        35.95\n",
      "Name: inv_ind_1430, dtype: float64\n",
      "Топ 10 уникальных значений:\n",
      "0.00    16094\n",
      "Name: inv_ind_1430, dtype: int64\n",
      "--------------------------------------------------------------------------------\n",
      "--------------------------------------------------------------------------------\n",
      "Название: inv_ind_1450\n",
      "Тип данных: <class 'numpy.float64'>\n",
      "Количество значений: 16095\n",
      "Количество уникальных значений: 123\n",
      "Количество пропусков: 0\n",
      "Процент пропусков: 0.0%\n",
      "Общие статистики:\n",
      "count    16095.00\n",
      "mean        37.87\n",
      "std       4214.09\n",
      "min         -4.49\n",
      "25%          0.00\n",
      "50%          0.00\n",
      "75%          0.00\n",
      "max     531934.06\n",
      "Name: inv_ind_1450, dtype: float64\n",
      "Топ 10 уникальных значений:\n",
      "Ошибка: 10\n",
      "--------------------------------------------------------------------------------\n",
      "--------------------------------------------------------------------------------\n",
      "Название: inv_ind_1500\n",
      "Тип данных: <class 'numpy.float64'>\n",
      "Количество значений: 16095\n",
      "Количество уникальных значений: 3570\n",
      "Количество пропусков: 0\n",
      "Процент пропусков: 0.0%\n",
      "Общие статистики:\n",
      "count    16095.00\n",
      "mean       130.54\n",
      "std       2843.68\n",
      "min        -11.55\n",
      "25%          0.00\n",
      "50%          0.00\n",
      "75%          0.13\n",
      "max     288147.20\n",
      "Name: inv_ind_1500, dtype: float64\n",
      "Топ 10 уникальных значений:\n",
      "Ошибка: 10\n",
      "--------------------------------------------------------------------------------\n",
      "--------------------------------------------------------------------------------\n",
      "Название: inv_ind_1510\n",
      "Тип данных: <class 'numpy.float64'>\n",
      "Количество значений: 16095\n",
      "Количество уникальных значений: 2661\n",
      "Количество пропусков: 0\n",
      "Процент пропусков: 0.0%\n",
      "Общие статистики:\n",
      "count    16095.00\n",
      "mean        94.92\n",
      "std       5042.12\n",
      "min       -169.36\n",
      "25%          0.00\n",
      "50%          0.00\n",
      "75%          0.06\n",
      "max     576152.91\n",
      "Name: inv_ind_1510, dtype: float64\n",
      "Топ 10 уникальных значений:\n",
      "Ошибка: 10\n",
      "--------------------------------------------------------------------------------\n",
      "--------------------------------------------------------------------------------\n",
      "Название: inv_ind_1520\n",
      "Тип данных: <class 'numpy.float64'>\n",
      "Количество значений: 16095\n",
      "Количество уникальных значений: 6569\n",
      "Количество пропусков: 0\n",
      "Процент пропусков: 0.0%\n",
      "Общие статистики:\n",
      "count   16095.00\n",
      "mean      103.27\n",
      "std      1052.23\n",
      "min      -276.81\n",
      "25%         0.00\n",
      "50%         0.68\n",
      "75%        11.57\n",
      "max     52818.02\n",
      "Name: inv_ind_1520, dtype: float64\n",
      "Топ 10 уникальных значений:\n",
      "Ошибка: 10\n",
      "--------------------------------------------------------------------------------\n",
      "--------------------------------------------------------------------------------\n",
      "Название: inv_ind_1530\n",
      "Тип данных: <class 'numpy.float64'>\n",
      "Количество значений: 16095\n",
      "Количество уникальных значений: 70\n",
      "Количество пропусков: 0\n",
      "Процент пропусков: 0.0%\n",
      "Общие статистики:\n",
      "count   16095.00\n",
      "mean        1.67\n",
      "std       108.66\n",
      "min         0.00\n",
      "25%         0.00\n",
      "50%         0.00\n",
      "75%         0.00\n",
      "max     13092.13\n",
      "Name: inv_ind_1530, dtype: float64\n",
      "Топ 10 уникальных значений:\n",
      "Ошибка: 10\n",
      "--------------------------------------------------------------------------------\n",
      "--------------------------------------------------------------------------------\n",
      "Название: inv_ind_1540\n",
      "Тип данных: <class 'numpy.float64'>\n",
      "Количество значений: 16095\n",
      "Количество уникальных значений: 311\n",
      "Количество пропусков: 0\n",
      "Процент пропусков: 0.0%\n",
      "Общие статистики:\n",
      "count   16095.00\n",
      "mean        1.73\n",
      "std        38.34\n",
      "min         0.00\n",
      "25%         0.00\n",
      "50%         0.00\n",
      "75%         0.00\n",
      "max      2457.18\n",
      "Name: inv_ind_1540, dtype: float64\n",
      "Топ 10 уникальных значений:\n",
      "Ошибка: 10\n",
      "--------------------------------------------------------------------------------\n",
      "--------------------------------------------------------------------------------\n",
      "Название: inv_ind_1550\n",
      "Тип данных: <class 'numpy.float64'>\n",
      "Количество значений: 16095\n",
      "Количество уникальных значений: 402\n",
      "Количество пропусков: 0\n",
      "Процент пропусков: 0.0%\n",
      "Общие статистики:\n",
      "count   16095.00\n",
      "mean        4.19\n",
      "std       232.98\n",
      "min       -61.49\n",
      "25%         0.00\n",
      "50%         0.00\n",
      "75%         0.00\n",
      "max     26202.10\n",
      "Name: inv_ind_1550, dtype: float64\n",
      "Топ 10 уникальных значений:\n",
      "Ошибка: 10\n",
      "--------------------------------------------------------------------------------\n",
      "--------------------------------------------------------------------------------\n",
      "Название: inv_ind_1700\n",
      "Тип данных: <class 'numpy.float64'>\n",
      "Количество значений: 16095\n",
      "Количество уникальных значений: 8891\n",
      "Количество пропусков: 0\n",
      "Процент пропусков: 0.0%\n",
      "Общие статистики:\n",
      "count     16095.00\n",
      "mean        717.35\n",
      "std       56757.32\n",
      "min         -30.52\n",
      "25%           0.26\n",
      "50%           4.59\n",
      "75%          37.47\n",
      "max     7163314.57\n",
      "Name: inv_ind_1700, dtype: float64\n",
      "Топ 10 уникальных значений:\n",
      "Ошибка: 10\n",
      "--------------------------------------------------------------------------------\n",
      "--------------------------------------------------------------------------------\n",
      "Название: inv_ind_2100\n",
      "Тип данных: <class 'numpy.float64'>\n",
      "Количество значений: 16095\n",
      "Количество уникальных значений: 3087\n",
      "Количество пропусков: 0\n",
      "Процент пропусков: 0.0%\n",
      "Общие статистики:\n",
      "count    16095.00\n",
      "mean        36.05\n",
      "std        430.18\n",
      "min     -15213.20\n",
      "25%          0.00\n",
      "50%          0.00\n",
      "75%          0.00\n",
      "max      21494.76\n",
      "Name: inv_ind_2100, dtype: float64\n",
      "Топ 10 уникальных значений:\n",
      "Ошибка: 10\n",
      "--------------------------------------------------------------------------------\n",
      "--------------------------------------------------------------------------------\n",
      "Название: inv_ind_2110\n",
      "Тип данных: <class 'numpy.float64'>\n",
      "Количество значений: 16095\n",
      "Количество уникальных значений: 7636\n",
      "Количество пропусков: 0\n",
      "Процент пропусков: 0.0%\n",
      "Общие статистики:\n",
      "count    16095.00\n",
      "mean       195.79\n",
      "std       1729.82\n",
      "min          0.00\n",
      "25%          0.00\n",
      "50%          1.26\n",
      "75%         47.05\n",
      "max     102982.56\n",
      "Name: inv_ind_2110, dtype: float64\n",
      "Топ 10 уникальных значений:\n",
      "Ошибка: 10\n",
      "--------------------------------------------------------------------------------\n",
      "--------------------------------------------------------------------------------\n",
      "Название: inv_ind_2120\n",
      "Тип данных: <class 'numpy.float64'>\n",
      "Количество значений: 16095\n",
      "Количество уникальных значений: 7313\n",
      "Количество пропусков: 0\n",
      "Процент пропусков: 0.0%\n",
      "Общие статистики:\n",
      "count     16095.00\n",
      "mean       -284.12\n",
      "std        2928.29\n",
      "min     -183841.94\n",
      "25%         -52.59\n",
      "50%          -0.17\n",
      "75%           0.00\n",
      "max         950.28\n",
      "Name: inv_ind_2120, dtype: float64\n",
      "Топ 10 уникальных значений:\n",
      "Ошибка: 10\n",
      "--------------------------------------------------------------------------------\n",
      "--------------------------------------------------------------------------------\n",
      "Название: inv_ind_2200\n",
      "Тип данных: <class 'numpy.float64'>\n",
      "Количество значений: 16095\n",
      "Количество уникальных значений: 3218\n",
      "Количество пропусков: 0\n",
      "Процент пропусков: 0.0%\n",
      "Общие статистики:\n",
      "count    16095.00\n",
      "mean         7.71\n",
      "std        312.18\n",
      "min     -23764.94\n",
      "25%          0.00\n",
      "50%          0.00\n",
      "75%          0.00\n",
      "max       9471.90\n",
      "Name: inv_ind_2200, dtype: float64\n",
      "Топ 10 уникальных значений:\n",
      "Ошибка: 10\n",
      "--------------------------------------------------------------------------------\n",
      "--------------------------------------------------------------------------------\n",
      "Название: inv_ind_2210\n",
      "Тип данных: <class 'numpy.float64'>\n",
      "Количество значений: 16095\n",
      "Количество уникальных значений: 455\n",
      "Количество пропусков: 0\n",
      "Процент пропусков: 0.0%\n",
      "Общие статистики:\n",
      "count    16095.00\n",
      "mean        -5.92\n",
      "std        144.09\n",
      "min     -10101.97\n",
      "25%          0.00\n",
      "50%          0.00\n",
      "75%          0.00\n",
      "max          0.00\n",
      "Name: inv_ind_2210, dtype: float64\n",
      "Топ 10 уникальных значений:\n",
      "Ошибка: 10\n",
      "--------------------------------------------------------------------------------\n",
      "--------------------------------------------------------------------------------\n",
      "Название: inv_ind_2220\n",
      "Тип данных: <class 'numpy.float64'>\n",
      "Количество значений: 16095\n",
      "Количество уникальных значений: 1831\n",
      "Количество пропусков: 0\n",
      "Процент пропусков: 0.0%\n",
      "Общие статистики:\n",
      "count    16095.00\n",
      "mean       -22.42\n",
      "std        279.00\n",
      "min     -16261.66\n",
      "25%          0.00\n",
      "50%          0.00\n",
      "75%          0.00\n",
      "max          0.00\n",
      "Name: inv_ind_2220, dtype: float64\n",
      "Топ 10 уникальных значений:\n",
      "Ошибка: 10\n",
      "--------------------------------------------------------------------------------\n",
      "--------------------------------------------------------------------------------\n",
      "Название: inv_ind_2300\n",
      "Тип данных: <class 'numpy.float64'>\n",
      "Количество значений: 16095\n",
      "Количество уникальных значений: 3199\n",
      "Количество пропусков: 0\n",
      "Процент пропусков: 0.0%\n",
      "Общие статистики:\n",
      "count    16095.00\n",
      "mean         5.23\n",
      "std        331.77\n",
      "min     -25297.20\n",
      "25%          0.00\n",
      "50%          0.00\n",
      "75%          0.00\n",
      "max       9436.99\n",
      "Name: inv_ind_2300, dtype: float64\n",
      "Топ 10 уникальных значений:\n",
      "Ошибка: 10\n",
      "--------------------------------------------------------------------------------\n",
      "--------------------------------------------------------------------------------\n",
      "Название: inv_ind_2310\n",
      "Тип данных: <class 'numpy.float64'>\n",
      "Количество значений: 16095\n",
      "Количество уникальных значений: 13\n",
      "Количество пропусков: 0\n",
      "Процент пропусков: 0.0%\n",
      "Общие статистики:\n",
      "count   16095.00\n",
      "mean        0.15\n",
      "std        13.53\n",
      "min         0.00\n",
      "25%         0.00\n",
      "50%         0.00\n",
      "75%         0.00\n",
      "max      1678.50\n",
      "Name: inv_ind_2310, dtype: float64\n",
      "Топ 10 уникальных значений:\n",
      "Ошибка: 10\n",
      "--------------------------------------------------------------------------------\n",
      "--------------------------------------------------------------------------------\n",
      "Название: inv_ind_2320\n",
      "Тип данных: <class 'numpy.float64'>\n",
      "Количество значений: 16095\n",
      "Количество уникальных значений: 241\n",
      "Количество пропусков: 0\n",
      "Процент пропусков: 0.0%\n",
      "Общие статистики:\n",
      "count   16095.00\n",
      "mean        1.07\n",
      "std        74.26\n",
      "min         0.00\n",
      "25%         0.00\n",
      "50%         0.00\n",
      "75%         0.00\n",
      "max      9275.15\n",
      "Name: inv_ind_2320, dtype: float64\n",
      "Топ 10 уникальных значений:\n",
      "Ошибка: 10\n",
      "--------------------------------------------------------------------------------\n",
      "--------------------------------------------------------------------------------\n",
      "Название: inv_ind_2330\n",
      "Тип данных: <class 'numpy.float64'>\n",
      "Количество значений: 16095\n",
      "Количество уникальных значений: 589\n",
      "Количество пропусков: 0\n",
      "Процент пропусков: 0.0%\n",
      "Общие статистики:\n",
      "count   16095.00\n",
      "mean       -1.65\n",
      "std        77.70\n",
      "min     -8826.17\n",
      "25%         0.00\n",
      "50%         0.00\n",
      "75%         0.00\n",
      "max         0.06\n",
      "Name: inv_ind_2330, dtype: float64\n",
      "Топ 10 уникальных значений:\n",
      "Ошибка: 10\n",
      "--------------------------------------------------------------------------------\n",
      "--------------------------------------------------------------------------------\n",
      "Название: inv_ind_2340\n",
      "Тип данных: <class 'numpy.float64'>\n",
      "Количество значений: 16095\n",
      "Количество уникальных значений: 1792\n",
      "Количество пропусков: 0\n",
      "Процент пропусков: 0.0%\n",
      "Общие статистики:\n",
      "count   16095.00\n",
      "mean       18.18\n",
      "std       312.19\n",
      "min       -41.90\n",
      "25%         0.00\n",
      "50%         0.00\n",
      "75%         0.00\n",
      "max     19833.95\n",
      "Name: inv_ind_2340, dtype: float64\n",
      "Топ 10 уникальных значений:\n",
      "Ошибка: 10\n",
      "--------------------------------------------------------------------------------\n",
      "--------------------------------------------------------------------------------\n",
      "Название: inv_ind_2350\n",
      "Тип данных: <class 'numpy.float64'>\n",
      "Количество значений: 16095\n",
      "Количество уникальных значений: 2528\n",
      "Количество пропусков: 0\n",
      "Процент пропусков: 0.0%\n",
      "Общие статистики:\n",
      "count    16095.00\n",
      "mean       -20.74\n",
      "std        318.05\n",
      "min     -19833.95\n",
      "25%         -0.47\n",
      "50%         -0.10\n",
      "75%          0.00\n",
      "max        223.15\n",
      "Name: inv_ind_2350, dtype: float64\n",
      "Топ 10 уникальных значений:\n",
      "Ошибка: 10\n",
      "--------------------------------------------------------------------------------\n",
      "--------------------------------------------------------------------------------\n",
      "Название: inv_ind_2410\n",
      "Тип данных: <class 'numpy.float64'>\n",
      "Количество значений: 16095\n",
      "Количество уникальных значений: 2699\n",
      "Количество пропусков: 0\n",
      "Процент пропусков: 0.0%\n",
      "Общие статистики:\n",
      "count   16095.00\n",
      "mean       -5.39\n",
      "std        71.83\n",
      "min     -3774.80\n",
      "25%        -0.64\n",
      "50%         0.00\n",
      "75%         0.00\n",
      "max       950.89\n",
      "Name: inv_ind_2410, dtype: float64\n",
      "Топ 10 уникальных значений:\n",
      "Ошибка: 10\n",
      "--------------------------------------------------------------------------------\n",
      "--------------------------------------------------------------------------------\n",
      "Название: inv_ind_2412\n",
      "Тип данных: <class 'numpy.float64'>\n",
      "Количество значений: 16095\n",
      "Количество уникальных значений: 68\n",
      "Количество пропусков: 0\n",
      "Процент пропусков: 0.0%\n",
      "Общие статистики:\n",
      "count   16095.00\n",
      "mean        0.07\n",
      "std         2.82\n",
      "min       -17.65\n",
      "25%         0.00\n",
      "50%         0.00\n",
      "75%         0.00\n",
      "max       248.84\n",
      "Name: inv_ind_2412, dtype: float64\n",
      "Топ 10 уникальных значений:\n",
      "Ошибка: 10\n",
      "--------------------------------------------------------------------------------\n",
      "--------------------------------------------------------------------------------\n",
      "Название: inv_ind_2430\n",
      "Тип данных: <class 'numpy.float64'>\n",
      "Количество значений: 16095\n",
      "Количество уникальных значений: 144\n",
      "Количество пропусков: 0\n",
      "Процент пропусков: 0.0%\n",
      "Общие статистики:\n",
      "count   16095.00\n",
      "mean       -0.60\n",
      "std        41.80\n",
      "min     -4815.25\n",
      "25%         0.00\n",
      "50%         0.00\n",
      "75%         0.00\n",
      "max       261.18\n",
      "Name: inv_ind_2430, dtype: float64\n",
      "Топ 10 уникальных значений:\n",
      "Ошибка: 10\n",
      "--------------------------------------------------------------------------------\n",
      "--------------------------------------------------------------------------------\n",
      "Название: inv_ind_2450\n",
      "Тип данных: <class 'numpy.float64'>\n",
      "Количество значений: 16095\n",
      "Количество уникальных значений: 355\n",
      "Количество пропусков: 0\n",
      "Процент пропусков: 0.0%\n",
      "Общие статистики:\n",
      "count   16095.00\n",
      "mean        1.35\n",
      "std        59.52\n",
      "min     -1708.86\n",
      "25%         0.00\n",
      "50%         0.00\n",
      "75%         0.00\n",
      "max      4966.64\n",
      "Name: inv_ind_2450, dtype: float64\n",
      "Топ 10 уникальных значений:\n",
      "Ошибка: 10\n",
      "--------------------------------------------------------------------------------\n",
      "--------------------------------------------------------------------------------\n",
      "Название: inv_ind_2460\n",
      "Тип данных: <class 'numpy.float64'>\n",
      "Количество значений: 16095\n",
      "Количество уникальных значений: 426\n",
      "Количество пропусков: 0\n",
      "Процент пропусков: 0.0%\n",
      "Общие статистики:\n",
      "count   16095.00\n",
      "mean       -0.82\n",
      "std        77.24\n",
      "min     -9736.50\n",
      "25%         0.00\n",
      "50%         0.00\n",
      "75%         0.00\n",
      "max        93.40\n",
      "Name: inv_ind_2460, dtype: float64\n",
      "Топ 10 уникальных значений:\n",
      "Ошибка: 10\n",
      "--------------------------------------------------------------------------------\n",
      "--------------------------------------------------------------------------------\n",
      "Название: inv_ind_2500\n",
      "Тип данных: <class 'numpy.float64'>\n",
      "Количество значений: 16095\n",
      "Количество уникальных значений: 3159\n",
      "Количество пропусков: 0\n",
      "Процент пропусков: 0.0%\n",
      "Общие статистики:\n",
      "count    16095.00\n",
      "mean         5.90\n",
      "std        462.10\n",
      "min     -20901.50\n",
      "25%          0.00\n",
      "50%          0.00\n",
      "75%          0.00\n",
      "max      45197.95\n",
      "Name: inv_ind_2500, dtype: float64\n",
      "Топ 10 уникальных значений:\n",
      "Ошибка: 10\n",
      "--------------------------------------------------------------------------------\n",
      "--------------------------------------------------------------------------------\n",
      "Название: inv_ind_2510\n",
      "Тип данных: <class 'numpy.float64'>\n",
      "Количество значений: 16095\n",
      "Количество уникальных значений: 7\n",
      "Количество пропусков: 0\n",
      "Процент пропусков: 0.0%\n",
      "Общие статистики:\n",
      "count   16095.00\n",
      "mean        2.84\n",
      "std       356.67\n",
      "min         0.00\n",
      "25%         0.00\n",
      "50%         0.00\n",
      "75%         0.00\n",
      "max     45246.55\n",
      "Name: inv_ind_2510, dtype: float64\n",
      "Топ 10 уникальных значений:\n",
      "Ошибка: 10\n",
      "--------------------------------------------------------------------------------\n",
      "--------------------------------------------------------------------------------\n",
      "Название: inv_ind_2520\n",
      "Тип данных: <class 'numpy.float64'>\n",
      "Количество значений: 16095\n",
      "Количество уникальных значений: 6\n",
      "Количество пропусков: 0\n",
      "Процент пропусков: 0.0%\n",
      "Общие статистики:\n",
      "count   16095.00\n",
      "mean       -0.04\n",
      "std         6.03\n",
      "min      -738.23\n",
      "25%         0.00\n",
      "50%         0.00\n",
      "75%         0.00\n",
      "max       163.67\n",
      "Name: inv_ind_2520, dtype: float64\n",
      "Топ 10 уникальных значений:\n",
      "Ошибка: 10\n",
      "--------------------------------------------------------------------------------\n",
      "--------------------------------------------------------------------------------\n",
      "Название: inv_ind_4100\n",
      "Тип данных: <class 'numpy.float64'>\n",
      "Количество значений: 16095\n",
      "Количество уникальных значений: 1\n",
      "Количество пропусков: 0\n",
      "Процент пропусков: 0.0%\n",
      "Общие статистики:\n",
      "count   16095.00\n",
      "mean        0.00\n",
      "std         0.00\n",
      "min         0.00\n",
      "25%         0.00\n",
      "50%         0.00\n",
      "75%         0.00\n",
      "max         0.00\n",
      "Name: inv_ind_4100, dtype: float64\n",
      "Топ 10 уникальных значений:\n",
      "0.00    16095\n",
      "Name: inv_ind_4100, dtype: int64\n",
      "--------------------------------------------------------------------------------\n",
      "--------------------------------------------------------------------------------\n",
      "Название: inv_ind_4110\n",
      "Тип данных: <class 'numpy.float64'>\n",
      "Количество значений: 16095\n",
      "Количество уникальных значений: 1\n",
      "Количество пропусков: 0\n",
      "Процент пропусков: 0.0%\n",
      "Общие статистики:\n",
      "count   16095.00\n",
      "mean        0.00\n",
      "std         0.00\n",
      "min         0.00\n",
      "25%         0.00\n",
      "50%         0.00\n",
      "75%         0.00\n",
      "max         0.00\n",
      "Name: inv_ind_4110, dtype: float64\n",
      "Топ 10 уникальных значений:\n",
      "0.00    16095\n",
      "Name: inv_ind_4110, dtype: int64\n",
      "--------------------------------------------------------------------------------\n",
      "--------------------------------------------------------------------------------\n",
      "Название: inv_ind_4111\n",
      "Тип данных: <class 'numpy.float64'>\n",
      "Количество значений: 16095\n",
      "Количество уникальных значений: 1\n",
      "Количество пропусков: 0\n",
      "Процент пропусков: 0.0%\n",
      "Общие статистики:\n",
      "count   16095.00\n",
      "mean        0.00\n",
      "std         0.00\n",
      "min         0.00\n",
      "25%         0.00\n",
      "50%         0.00\n",
      "75%         0.00\n",
      "max         0.00\n",
      "Name: inv_ind_4111, dtype: float64\n",
      "Топ 10 уникальных значений:\n",
      "0.00    16095\n",
      "Name: inv_ind_4111, dtype: int64\n",
      "--------------------------------------------------------------------------------\n",
      "--------------------------------------------------------------------------------\n",
      "Название: inv_ind_4119\n",
      "Тип данных: <class 'numpy.float64'>\n",
      "Количество значений: 16095\n",
      "Количество уникальных значений: 1\n",
      "Количество пропусков: 0\n",
      "Процент пропусков: 0.0%\n",
      "Общие статистики:\n",
      "count   16095.00\n",
      "mean        0.00\n",
      "std         0.00\n",
      "min         0.00\n",
      "25%         0.00\n",
      "50%         0.00\n",
      "75%         0.00\n",
      "max         0.00\n",
      "Name: inv_ind_4119, dtype: float64\n",
      "Топ 10 уникальных значений:\n",
      "0.00    16095\n",
      "Name: inv_ind_4119, dtype: int64\n",
      "--------------------------------------------------------------------------------\n",
      "--------------------------------------------------------------------------------\n",
      "Название: inv_ind_4120\n",
      "Тип данных: <class 'numpy.float64'>\n",
      "Количество значений: 16095\n",
      "Количество уникальных значений: 1\n",
      "Количество пропусков: 0\n",
      "Процент пропусков: 0.0%\n",
      "Общие статистики:\n",
      "count   16095.00\n",
      "mean        0.00\n",
      "std         0.00\n",
      "min         0.00\n",
      "25%         0.00\n",
      "50%         0.00\n",
      "75%         0.00\n",
      "max         0.00\n",
      "Name: inv_ind_4120, dtype: float64\n",
      "Топ 10 уникальных значений:\n",
      "0.00    16095\n",
      "Name: inv_ind_4120, dtype: int64\n",
      "--------------------------------------------------------------------------------\n",
      "--------------------------------------------------------------------------------\n",
      "Название: inv_ind_4121\n",
      "Тип данных: <class 'numpy.float64'>\n",
      "Количество значений: 16095\n",
      "Количество уникальных значений: 1\n",
      "Количество пропусков: 0\n",
      "Процент пропусков: 0.0%\n",
      "Общие статистики:\n",
      "count   16095.00\n",
      "mean        0.00\n",
      "std         0.00\n",
      "min         0.00\n",
      "25%         0.00\n",
      "50%         0.00\n",
      "75%         0.00\n",
      "max         0.00\n",
      "Name: inv_ind_4121, dtype: float64\n",
      "Топ 10 уникальных значений:\n",
      "0.00    16095\n",
      "Name: inv_ind_4121, dtype: int64\n",
      "--------------------------------------------------------------------------------\n",
      "--------------------------------------------------------------------------------\n",
      "Название: inv_ind_4122\n",
      "Тип данных: <class 'numpy.float64'>\n",
      "Количество значений: 16095\n",
      "Количество уникальных значений: 1\n",
      "Количество пропусков: 0\n",
      "Процент пропусков: 0.0%\n",
      "Общие статистики:\n",
      "count   16095.00\n",
      "mean        0.00\n",
      "std         0.00\n",
      "min         0.00\n",
      "25%         0.00\n",
      "50%         0.00\n",
      "75%         0.00\n",
      "max         0.00\n",
      "Name: inv_ind_4122, dtype: float64\n",
      "Топ 10 уникальных значений:\n",
      "0.00    16095\n",
      "Name: inv_ind_4122, dtype: int64\n",
      "--------------------------------------------------------------------------------\n",
      "--------------------------------------------------------------------------------\n",
      "Название: inv_ind_4123\n",
      "Тип данных: <class 'numpy.float64'>\n",
      "Количество значений: 16095\n",
      "Количество уникальных значений: 1\n",
      "Количество пропусков: 0\n",
      "Процент пропусков: 0.0%\n",
      "Общие статистики:\n",
      "count   16095.00\n",
      "mean        0.00\n",
      "std         0.00\n",
      "min         0.00\n",
      "25%         0.00\n",
      "50%         0.00\n",
      "75%         0.00\n",
      "max         0.00\n",
      "Name: inv_ind_4123, dtype: float64\n",
      "Топ 10 уникальных значений:\n",
      "0.00    16095\n",
      "Name: inv_ind_4123, dtype: int64\n",
      "--------------------------------------------------------------------------------\n",
      "--------------------------------------------------------------------------------\n",
      "Название: inv_ind_4124\n",
      "Тип данных: <class 'numpy.float64'>\n",
      "Количество значений: 16095\n",
      "Количество уникальных значений: 1\n",
      "Количество пропусков: 0\n",
      "Процент пропусков: 0.0%\n",
      "Общие статистики:\n",
      "count   16095.00\n",
      "mean        0.00\n",
      "std         0.00\n",
      "min         0.00\n",
      "25%         0.00\n",
      "50%         0.00\n",
      "75%         0.00\n",
      "max         0.00\n",
      "Name: inv_ind_4124, dtype: float64\n",
      "Топ 10 уникальных значений:\n",
      "0.00    16095\n",
      "Name: inv_ind_4124, dtype: int64\n",
      "--------------------------------------------------------------------------------\n",
      "--------------------------------------------------------------------------------\n",
      "Название: inv_ind_4129\n",
      "Тип данных: <class 'numpy.float64'>\n",
      "Количество значений: 16095\n",
      "Количество уникальных значений: 1\n",
      "Количество пропусков: 0\n",
      "Процент пропусков: 0.0%\n",
      "Общие статистики:\n",
      "count   16095.00\n",
      "mean        0.00\n",
      "std         0.00\n",
      "min         0.00\n",
      "25%         0.00\n",
      "50%         0.00\n",
      "75%         0.00\n",
      "max         0.00\n",
      "Name: inv_ind_4129, dtype: float64\n",
      "Топ 10 уникальных значений:\n",
      "0.00    16095\n",
      "Name: inv_ind_4129, dtype: int64\n",
      "--------------------------------------------------------------------------------\n",
      "--------------------------------------------------------------------------------\n",
      "Название: inv_ind_4200\n",
      "Тип данных: <class 'numpy.float64'>\n",
      "Количество значений: 16095\n",
      "Количество уникальных значений: 1\n",
      "Количество пропусков: 0\n",
      "Процент пропусков: 0.0%\n",
      "Общие статистики:\n",
      "count   16095.00\n",
      "mean        0.00\n",
      "std         0.00\n",
      "min         0.00\n",
      "25%         0.00\n",
      "50%         0.00\n",
      "75%         0.00\n",
      "max         0.00\n",
      "Name: inv_ind_4200, dtype: float64\n",
      "Топ 10 уникальных значений:\n",
      "0.00    16095\n",
      "Name: inv_ind_4200, dtype: int64\n",
      "--------------------------------------------------------------------------------\n",
      "--------------------------------------------------------------------------------\n",
      "Название: inv_ind_4210\n",
      "Тип данных: <class 'numpy.float64'>\n",
      "Количество значений: 16095\n",
      "Количество уникальных значений: 1\n",
      "Количество пропусков: 0\n",
      "Процент пропусков: 0.0%\n",
      "Общие статистики:\n",
      "count   16095.00\n",
      "mean        0.00\n",
      "std         0.00\n",
      "min         0.00\n",
      "25%         0.00\n",
      "50%         0.00\n",
      "75%         0.00\n",
      "max         0.00\n",
      "Name: inv_ind_4210, dtype: float64\n",
      "Топ 10 уникальных значений:\n",
      "0.00    16095\n",
      "Name: inv_ind_4210, dtype: int64\n",
      "--------------------------------------------------------------------------------\n",
      "--------------------------------------------------------------------------------\n",
      "Название: inv_ind_4211\n",
      "Тип данных: <class 'numpy.float64'>\n",
      "Количество значений: 16095\n",
      "Количество уникальных значений: 1\n",
      "Количество пропусков: 0\n",
      "Процент пропусков: 0.0%\n",
      "Общие статистики:\n",
      "count   16095.00\n",
      "mean        0.00\n",
      "std         0.00\n",
      "min         0.00\n",
      "25%         0.00\n",
      "50%         0.00\n",
      "75%         0.00\n",
      "max         0.00\n",
      "Name: inv_ind_4211, dtype: float64\n",
      "Топ 10 уникальных значений:\n",
      "0.00    16095\n",
      "Name: inv_ind_4211, dtype: int64\n",
      "--------------------------------------------------------------------------------\n",
      "--------------------------------------------------------------------------------\n",
      "Название: inv_ind_4213\n",
      "Тип данных: <class 'numpy.float64'>\n",
      "Количество значений: 16095\n",
      "Количество уникальных значений: 1\n",
      "Количество пропусков: 0\n",
      "Процент пропусков: 0.0%\n",
      "Общие статистики:\n",
      "count   16095.00\n",
      "mean        0.00\n",
      "std         0.00\n",
      "min         0.00\n",
      "25%         0.00\n",
      "50%         0.00\n",
      "75%         0.00\n",
      "max         0.00\n",
      "Name: inv_ind_4213, dtype: float64\n",
      "Топ 10 уникальных значений:\n",
      "0.00    16095\n",
      "Name: inv_ind_4213, dtype: int64\n",
      "--------------------------------------------------------------------------------\n",
      "--------------------------------------------------------------------------------\n",
      "Название: inv_ind_4219\n",
      "Тип данных: <class 'numpy.float64'>\n",
      "Количество значений: 16095\n",
      "Количество уникальных значений: 1\n",
      "Количество пропусков: 0\n",
      "Процент пропусков: 0.0%\n",
      "Общие статистики:\n",
      "count   16095.00\n",
      "mean        0.00\n",
      "std         0.00\n",
      "min         0.00\n",
      "25%         0.00\n",
      "50%         0.00\n",
      "75%         0.00\n",
      "max         0.00\n",
      "Name: inv_ind_4219, dtype: float64\n",
      "Топ 10 уникальных значений:\n",
      "0.00    16095\n",
      "Name: inv_ind_4219, dtype: int64\n",
      "--------------------------------------------------------------------------------\n",
      "--------------------------------------------------------------------------------\n",
      "Название: inv_ind_4220\n",
      "Тип данных: <class 'numpy.float64'>\n",
      "Количество значений: 16095\n",
      "Количество уникальных значений: 1\n",
      "Количество пропусков: 0\n",
      "Процент пропусков: 0.0%\n",
      "Общие статистики:\n",
      "count   16095.00\n",
      "mean        0.00\n",
      "std         0.00\n",
      "min         0.00\n",
      "25%         0.00\n",
      "50%         0.00\n",
      "75%         0.00\n",
      "max         0.00\n",
      "Name: inv_ind_4220, dtype: float64\n",
      "Топ 10 уникальных значений:\n",
      "0.00    16095\n",
      "Name: inv_ind_4220, dtype: int64\n",
      "--------------------------------------------------------------------------------\n",
      "--------------------------------------------------------------------------------\n",
      "Название: inv_ind_4221\n",
      "Тип данных: <class 'numpy.float64'>\n",
      "Количество значений: 16095\n",
      "Количество уникальных значений: 1\n",
      "Количество пропусков: 0\n",
      "Процент пропусков: 0.0%\n",
      "Общие статистики:\n",
      "count   16095.00\n",
      "mean        0.00\n",
      "std         0.00\n",
      "min         0.00\n",
      "25%         0.00\n",
      "50%         0.00\n",
      "75%         0.00\n",
      "max         0.00\n",
      "Name: inv_ind_4221, dtype: float64\n",
      "Топ 10 уникальных значений:\n",
      "0.00    16095\n",
      "Name: inv_ind_4221, dtype: int64\n",
      "--------------------------------------------------------------------------------\n",
      "--------------------------------------------------------------------------------\n",
      "Название: inv_ind_4223\n",
      "Тип данных: <class 'numpy.float64'>\n",
      "Количество значений: 16095\n",
      "Количество уникальных значений: 1\n",
      "Количество пропусков: 0\n",
      "Процент пропусков: 0.0%\n",
      "Общие статистики:\n",
      "count   16095.00\n",
      "mean        0.00\n",
      "std         0.00\n",
      "min         0.00\n",
      "25%         0.00\n",
      "50%         0.00\n",
      "75%         0.00\n",
      "max         0.00\n",
      "Name: inv_ind_4223, dtype: float64\n",
      "Топ 10 уникальных значений:\n",
      "0.00    16095\n",
      "Name: inv_ind_4223, dtype: int64\n",
      "--------------------------------------------------------------------------------\n",
      "--------------------------------------------------------------------------------\n",
      "Название: inv_ind_4229\n",
      "Тип данных: <class 'numpy.float64'>\n",
      "Количество значений: 16095\n",
      "Количество уникальных значений: 1\n",
      "Количество пропусков: 0\n",
      "Процент пропусков: 0.0%\n",
      "Общие статистики:\n",
      "count   16095.00\n",
      "mean        0.00\n",
      "std         0.00\n",
      "min         0.00\n",
      "25%         0.00\n",
      "50%         0.00\n",
      "75%         0.00\n",
      "max         0.00\n",
      "Name: inv_ind_4229, dtype: float64\n",
      "Топ 10 уникальных значений:\n",
      "0.00    16095\n",
      "Name: inv_ind_4229, dtype: int64\n",
      "--------------------------------------------------------------------------------\n",
      "--------------------------------------------------------------------------------\n",
      "Название: inv_ind_4300\n",
      "Тип данных: <class 'numpy.float64'>\n",
      "Количество значений: 16095\n",
      "Количество уникальных значений: 1\n",
      "Количество пропусков: 0\n",
      "Процент пропусков: 0.0%\n",
      "Общие статистики:\n",
      "count   16095.00\n",
      "mean        0.00\n",
      "std         0.00\n",
      "min         0.00\n",
      "25%         0.00\n",
      "50%         0.00\n",
      "75%         0.00\n",
      "max         0.00\n",
      "Name: inv_ind_4300, dtype: float64\n",
      "Топ 10 уникальных значений:\n",
      "0.00    16095\n",
      "Name: inv_ind_4300, dtype: int64\n",
      "--------------------------------------------------------------------------------\n",
      "--------------------------------------------------------------------------------\n",
      "Название: inv_ind_4310\n",
      "Тип данных: <class 'numpy.float64'>\n",
      "Количество значений: 16095\n",
      "Количество уникальных значений: 1\n",
      "Количество пропусков: 0\n",
      "Процент пропусков: 0.0%\n",
      "Общие статистики:\n",
      "count   16095.00\n",
      "mean        0.00\n",
      "std         0.00\n",
      "min         0.00\n",
      "25%         0.00\n",
      "50%         0.00\n",
      "75%         0.00\n",
      "max         0.00\n",
      "Name: inv_ind_4310, dtype: float64\n",
      "Топ 10 уникальных значений:\n",
      "0.00    16095\n",
      "Name: inv_ind_4310, dtype: int64\n",
      "--------------------------------------------------------------------------------\n",
      "--------------------------------------------------------------------------------\n",
      "Название: inv_ind_4311\n",
      "Тип данных: <class 'numpy.float64'>\n",
      "Количество значений: 16095\n",
      "Количество уникальных значений: 1\n",
      "Количество пропусков: 0\n",
      "Процент пропусков: 0.0%\n",
      "Общие статистики:\n",
      "count   16095.00\n",
      "mean        0.00\n",
      "std         0.00\n",
      "min         0.00\n",
      "25%         0.00\n",
      "50%         0.00\n",
      "75%         0.00\n",
      "max         0.00\n",
      "Name: inv_ind_4311, dtype: float64\n",
      "Топ 10 уникальных значений:\n",
      "0.00    16095\n",
      "Name: inv_ind_4311, dtype: int64\n",
      "--------------------------------------------------------------------------------\n",
      "--------------------------------------------------------------------------------\n",
      "Название: inv_ind_4312\n",
      "Тип данных: <class 'numpy.float64'>\n",
      "Количество значений: 16095\n",
      "Количество уникальных значений: 1\n",
      "Количество пропусков: 0\n",
      "Процент пропусков: 0.0%\n",
      "Общие статистики:\n",
      "count   16095.00\n",
      "mean        0.00\n",
      "std         0.00\n",
      "min         0.00\n",
      "25%         0.00\n",
      "50%         0.00\n",
      "75%         0.00\n",
      "max         0.00\n",
      "Name: inv_ind_4312, dtype: float64\n",
      "Топ 10 уникальных значений:\n",
      "0.00    16095\n",
      "Name: inv_ind_4312, dtype: int64\n",
      "--------------------------------------------------------------------------------\n",
      "--------------------------------------------------------------------------------\n",
      "Название: inv_ind_4319\n",
      "Тип данных: <class 'numpy.float64'>\n",
      "Количество значений: 16095\n",
      "Количество уникальных значений: 1\n",
      "Количество пропусков: 0\n",
      "Процент пропусков: 0.0%\n",
      "Общие статистики:\n",
      "count   16095.00\n",
      "mean        0.00\n",
      "std         0.00\n",
      "min         0.00\n",
      "25%         0.00\n",
      "50%         0.00\n",
      "75%         0.00\n",
      "max         0.00\n",
      "Name: inv_ind_4319, dtype: float64\n",
      "Топ 10 уникальных значений:\n",
      "0.00    16095\n",
      "Name: inv_ind_4319, dtype: int64\n",
      "--------------------------------------------------------------------------------\n",
      "--------------------------------------------------------------------------------\n",
      "Название: inv_ind_4320\n",
      "Тип данных: <class 'numpy.float64'>\n",
      "Количество значений: 16095\n",
      "Количество уникальных значений: 1\n",
      "Количество пропусков: 0\n",
      "Процент пропусков: 0.0%\n",
      "Общие статистики:\n",
      "count   16095.00\n",
      "mean        0.00\n",
      "std         0.00\n",
      "min         0.00\n",
      "25%         0.00\n",
      "50%         0.00\n",
      "75%         0.00\n",
      "max         0.00\n",
      "Name: inv_ind_4320, dtype: float64\n",
      "Топ 10 уникальных значений:\n",
      "0.00    16095\n",
      "Name: inv_ind_4320, dtype: int64\n",
      "--------------------------------------------------------------------------------\n",
      "--------------------------------------------------------------------------------\n",
      "Название: inv_ind_4323\n",
      "Тип данных: <class 'numpy.float64'>\n",
      "Количество значений: 16095\n",
      "Количество уникальных значений: 1\n",
      "Количество пропусков: 0\n",
      "Процент пропусков: 0.0%\n",
      "Общие статистики:\n",
      "count   16095.00\n",
      "mean        0.00\n",
      "std         0.00\n",
      "min         0.00\n",
      "25%         0.00\n",
      "50%         0.00\n",
      "75%         0.00\n",
      "max         0.00\n",
      "Name: inv_ind_4323, dtype: float64\n",
      "Топ 10 уникальных значений:\n",
      "0.00    16095\n",
      "Name: inv_ind_4323, dtype: int64\n",
      "--------------------------------------------------------------------------------\n",
      "--------------------------------------------------------------------------------\n",
      "Название: inv_ind_4329\n",
      "Тип данных: <class 'numpy.float64'>\n",
      "Количество значений: 16095\n",
      "Количество уникальных значений: 1\n",
      "Количество пропусков: 0\n",
      "Процент пропусков: 0.0%\n",
      "Общие статистики:\n",
      "count   16095.00\n",
      "mean        0.00\n",
      "std         0.00\n",
      "min         0.00\n",
      "25%         0.00\n",
      "50%         0.00\n",
      "75%         0.00\n",
      "max         0.00\n",
      "Name: inv_ind_4329, dtype: float64\n",
      "Топ 10 уникальных значений:\n",
      "0.00    16095\n",
      "Name: inv_ind_4329, dtype: int64\n",
      "--------------------------------------------------------------------------------\n",
      "--------------------------------------------------------------------------------\n",
      "Название: inv_ind_4400\n",
      "Тип данных: <class 'numpy.float64'>\n",
      "Количество значений: 16095\n",
      "Количество уникальных значений: 1\n",
      "Количество пропусков: 0\n",
      "Процент пропусков: 0.0%\n",
      "Общие статистики:\n",
      "count   16095.00\n",
      "mean        0.00\n",
      "std         0.00\n",
      "min         0.00\n",
      "25%         0.00\n",
      "50%         0.00\n",
      "75%         0.00\n",
      "max         0.00\n",
      "Name: inv_ind_4400, dtype: float64\n",
      "Топ 10 уникальных значений:\n",
      "0.00    16095\n",
      "Name: inv_ind_4400, dtype: int64\n",
      "--------------------------------------------------------------------------------\n",
      "--------------------------------------------------------------------------------\n",
      "Название: inv_ind_4450\n",
      "Тип данных: <class 'numpy.float64'>\n",
      "Количество значений: 16095\n",
      "Количество уникальных значений: 1\n",
      "Количество пропусков: 0\n",
      "Процент пропусков: 0.0%\n",
      "Общие статистики:\n",
      "count   16095.00\n",
      "mean        0.00\n",
      "std         0.00\n",
      "min         0.00\n",
      "25%         0.00\n",
      "50%         0.00\n",
      "75%         0.00\n",
      "max         0.00\n",
      "Name: inv_ind_4450, dtype: float64\n",
      "Топ 10 уникальных значений:\n",
      "0.00    16095\n",
      "Name: inv_ind_4450, dtype: int64\n",
      "--------------------------------------------------------------------------------\n",
      "--------------------------------------------------------------------------------\n",
      "Название: inv_ind_4490\n",
      "Тип данных: <class 'numpy.float64'>\n",
      "Количество значений: 16095\n",
      "Количество уникальных значений: 1\n",
      "Количество пропусков: 0\n",
      "Процент пропусков: 0.0%\n",
      "Общие статистики:\n",
      "count   16095.00\n",
      "mean        0.00\n",
      "std         0.00\n",
      "min         0.00\n",
      "25%         0.00\n",
      "50%         0.00\n",
      "75%         0.00\n",
      "max         0.00\n",
      "Name: inv_ind_4490, dtype: float64\n",
      "Топ 10 уникальных значений:\n",
      "0.00    16095\n",
      "Name: inv_ind_4490, dtype: int64\n",
      "--------------------------------------------------------------------------------\n",
      "--------------------------------------------------------------------------------\n",
      "Название: inv_ind_4500\n",
      "Тип данных: <class 'numpy.float64'>\n",
      "Количество значений: 16095\n",
      "Количество уникальных значений: 1\n",
      "Количество пропусков: 0\n",
      "Процент пропусков: 0.0%\n",
      "Общие статистики:\n",
      "count   16095.00\n",
      "mean        0.00\n",
      "std         0.00\n",
      "min         0.00\n",
      "25%         0.00\n",
      "50%         0.00\n",
      "75%         0.00\n",
      "max         0.00\n",
      "Name: inv_ind_4500, dtype: float64\n",
      "Топ 10 уникальных значений:\n",
      "0.00    16095\n",
      "Name: inv_ind_4500, dtype: int64\n",
      "--------------------------------------------------------------------------------\n",
      "--------------------------------------------------------------------------------\n",
      "Название: inv_ind_6100\n",
      "Тип данных: <class 'numpy.float64'>\n",
      "Количество значений: 16095\n",
      "Количество уникальных значений: 1\n",
      "Количество пропусков: 0\n",
      "Процент пропусков: 0.0%\n",
      "Общие статистики:\n",
      "count   16095.00\n",
      "mean        0.00\n",
      "std         0.00\n",
      "min         0.00\n",
      "25%         0.00\n",
      "50%         0.00\n",
      "75%         0.00\n",
      "max         0.00\n",
      "Name: inv_ind_6100, dtype: float64\n",
      "Топ 10 уникальных значений:\n",
      "0.00    16095\n",
      "Name: inv_ind_6100, dtype: int64\n",
      "--------------------------------------------------------------------------------\n",
      "--------------------------------------------------------------------------------\n",
      "Название: inv_ind_6220\n",
      "Тип данных: <class 'numpy.float64'>\n",
      "Количество значений: 16095\n",
      "Количество уникальных значений: 1\n",
      "Количество пропусков: 0\n",
      "Процент пропусков: 0.0%\n",
      "Общие статистики:\n",
      "count   16095.00\n",
      "mean        0.00\n",
      "std         0.00\n",
      "min         0.00\n",
      "25%         0.00\n",
      "50%         0.00\n",
      "75%         0.00\n",
      "max         0.00\n",
      "Name: inv_ind_6220, dtype: float64\n",
      "Топ 10 уникальных значений:\n",
      "0.00    16095\n",
      "Name: inv_ind_6220, dtype: int64\n",
      "--------------------------------------------------------------------------------\n",
      "--------------------------------------------------------------------------------\n",
      "Название: inv_ind_6240\n",
      "Тип данных: <class 'numpy.float64'>\n",
      "Количество значений: 16095\n",
      "Количество уникальных значений: 1\n",
      "Количество пропусков: 0\n",
      "Процент пропусков: 0.0%\n",
      "Общие статистики:\n",
      "count   16095.00\n",
      "mean        0.00\n",
      "std         0.00\n",
      "min         0.00\n",
      "25%         0.00\n",
      "50%         0.00\n",
      "75%         0.00\n",
      "max         0.00\n",
      "Name: inv_ind_6240, dtype: float64\n",
      "Топ 10 уникальных значений:\n",
      "0.00    16095\n",
      "Name: inv_ind_6240, dtype: int64\n",
      "--------------------------------------------------------------------------------\n",
      "--------------------------------------------------------------------------------\n",
      "Название: inv_ind_6250\n",
      "Тип данных: <class 'numpy.float64'>\n",
      "Количество значений: 16095\n",
      "Количество уникальных значений: 1\n",
      "Количество пропусков: 0\n",
      "Процент пропусков: 0.0%\n",
      "Общие статистики:\n",
      "count   16095.00\n",
      "mean        0.00\n",
      "std         0.00\n",
      "min         0.00\n",
      "25%         0.00\n",
      "50%         0.00\n",
      "75%         0.00\n",
      "max         0.00\n",
      "Name: inv_ind_6250, dtype: float64\n",
      "Топ 10 уникальных значений:\n",
      "0.00    16095\n",
      "Name: inv_ind_6250, dtype: int64\n",
      "--------------------------------------------------------------------------------\n",
      "--------------------------------------------------------------------------------\n",
      "Название: inv_ind_6310\n",
      "Тип данных: <class 'numpy.float64'>\n",
      "Количество значений: 16095\n",
      "Количество уникальных значений: 1\n",
      "Количество пропусков: 0\n",
      "Процент пропусков: 0.0%\n",
      "Общие статистики:\n",
      "count   16095.00\n",
      "mean        0.00\n",
      "std         0.00\n",
      "min         0.00\n",
      "25%         0.00\n",
      "50%         0.00\n",
      "75%         0.00\n",
      "max         0.00\n",
      "Name: inv_ind_6310, dtype: float64\n",
      "Топ 10 уникальных значений:\n",
      "0.00    16095\n",
      "Name: inv_ind_6310, dtype: int64\n",
      "--------------------------------------------------------------------------------\n",
      "--------------------------------------------------------------------------------\n",
      "Название: inv_ind_6320\n",
      "Тип данных: <class 'numpy.float64'>\n",
      "Количество значений: 16095\n",
      "Количество уникальных значений: 1\n",
      "Количество пропусков: 0\n",
      "Процент пропусков: 0.0%\n",
      "Общие статистики:\n",
      "count   16095.00\n",
      "mean        0.00\n",
      "std         0.00\n",
      "min         0.00\n",
      "25%         0.00\n",
      "50%         0.00\n",
      "75%         0.00\n",
      "max         0.00\n",
      "Name: inv_ind_6320, dtype: float64\n",
      "Топ 10 уникальных значений:\n",
      "0.00    16095\n",
      "Name: inv_ind_6320, dtype: int64\n",
      "--------------------------------------------------------------------------------\n",
      "--------------------------------------------------------------------------------\n",
      "Название: inv_ind_6330\n",
      "Тип данных: <class 'numpy.float64'>\n",
      "Количество значений: 16095\n",
      "Количество уникальных значений: 1\n",
      "Количество пропусков: 0\n",
      "Процент пропусков: 0.0%\n",
      "Общие статистики:\n",
      "count   16095.00\n",
      "mean        0.00\n",
      "std         0.00\n",
      "min         0.00\n",
      "25%         0.00\n",
      "50%         0.00\n",
      "75%         0.00\n",
      "max         0.00\n",
      "Name: inv_ind_6330, dtype: float64\n",
      "Топ 10 уникальных значений:\n",
      "0.00    16095\n",
      "Name: inv_ind_6330, dtype: int64\n",
      "--------------------------------------------------------------------------------\n",
      "--------------------------------------------------------------------------------\n",
      "Название: inv_ind_6350\n",
      "Тип данных: <class 'numpy.float64'>\n",
      "Количество значений: 16095\n",
      "Количество уникальных значений: 1\n",
      "Количество пропусков: 0\n",
      "Процент пропусков: 0.0%\n",
      "Общие статистики:\n",
      "count   16095.00\n",
      "mean        0.00\n",
      "std         0.00\n",
      "min         0.00\n",
      "25%         0.00\n",
      "50%         0.00\n",
      "75%         0.00\n",
      "max         0.00\n",
      "Name: inv_ind_6350, dtype: float64\n",
      "Топ 10 уникальных значений:\n",
      "0.00    16095\n",
      "Name: inv_ind_6350, dtype: int64\n",
      "--------------------------------------------------------------------------------\n",
      "--------------------------------------------------------------------------------\n",
      "Название: inv_ind_6400\n",
      "Тип данных: <class 'numpy.float64'>\n",
      "Количество значений: 16095\n",
      "Количество уникальных значений: 1\n",
      "Количество пропусков: 0\n",
      "Процент пропусков: 0.0%\n",
      "Общие статистики:\n",
      "count   16095.00\n",
      "mean        0.00\n",
      "std         0.00\n",
      "min         0.00\n",
      "25%         0.00\n",
      "50%         0.00\n",
      "75%         0.00\n",
      "max         0.00\n",
      "Name: inv_ind_6400, dtype: float64\n",
      "Топ 10 уникальных значений:\n",
      "0.00    16095\n",
      "Name: inv_ind_6400, dtype: int64\n",
      "--------------------------------------------------------------------------------\n"
     ]
    }
   ],
   "source": [
    "for f in work_df.columns:\n",
    "    first_look(work_df[f])"
   ],
   "metadata": {
    "collapsed": false,
    "pycharm": {
     "name": "#%%\n"
    }
   }
  },
  {
   "cell_type": "markdown",
   "source": [
    "### Feature engineering"
   ],
   "metadata": {
    "collapsed": false,
    "pycharm": {
     "name": "#%% md\n"
    }
   }
  },
  {
   "cell_type": "code",
   "execution_count": 792,
   "outputs": [],
   "source": [
    "work_df = work_df[work_df['inv_sum'] > 0]"
   ],
   "metadata": {
    "collapsed": false,
    "pycharm": {
     "name": "#%%\n"
    }
   }
  },
  {
   "cell_type": "code",
   "execution_count": 793,
   "outputs": [],
   "source": [
    "# np.log(work_df['inv_sum']).hist(bins=100)"
   ],
   "metadata": {
    "collapsed": false,
    "pycharm": {
     "name": "#%%\n"
    }
   }
  },
  {
   "cell_type": "code",
   "execution_count": 794,
   "outputs": [],
   "source": [
    "work_df['inv_sum'] = np.log(work_df['inv_sum'])"
   ],
   "metadata": {
    "collapsed": false,
    "pycharm": {
     "name": "#%%\n"
    }
   }
  },
  {
   "cell_type": "code",
   "execution_count": 795,
   "outputs": [],
   "source": [
    "work_df['inv_month'] = work_df['date_reg'].dt.month"
   ],
   "metadata": {
    "collapsed": false,
    "pycharm": {
     "name": "#%%\n"
    }
   }
  },
  {
   "cell_type": "markdown",
   "source": [
    "### Первая модель - LR"
   ],
   "metadata": {
    "collapsed": false,
    "pycharm": {
     "name": "#%% md\n"
    }
   }
  },
  {
   "cell_type": "code",
   "execution_count": 796,
   "outputs": [
    {
     "data": {
      "text/plain": "        inv_sum  inv_ind_1100  inv_ind_1110  inv_ind_1120  inv_ind_1130  \\\n1072  -1.084229     -0.010102     -0.008662     -0.026781           0.0   \n11445  0.546380     -0.010099     -0.008662     -0.026781           0.0   \n\n       inv_ind_1140  inv_ind_1150  inv_ind_1160  inv_ind_1170  inv_ind_1180  \\\n1072            0.0     -0.024989     -0.013758     -0.017304     -0.031276   \n11445           0.0     -0.024989     -0.013758     -0.017304     -0.029833   \n\n       ...  inv_ind_4500  inv_ind_6100  inv_ind_6220  inv_ind_6240  \\\n1072   ...           0.0           0.0           0.0           0.0   \n11445  ...           0.0           0.0           0.0           0.0   \n\n       inv_ind_6250  inv_ind_6310  inv_ind_6320  inv_ind_6330  inv_ind_6350  \\\n1072            0.0           0.0           0.0           0.0           0.0   \n11445           0.0           0.0           0.0           0.0           0.0   \n\n       inv_ind_6400  \n1072            0.0  \n11445           0.0  \n\n[2 rows x 97 columns]",
      "text/html": "<div>\n<style scoped>\n    .dataframe tbody tr th:only-of-type {\n        vertical-align: middle;\n    }\n\n    .dataframe tbody tr th {\n        vertical-align: top;\n    }\n\n    .dataframe thead th {\n        text-align: right;\n    }\n</style>\n<table border=\"1\" class=\"dataframe\">\n  <thead>\n    <tr style=\"text-align: right;\">\n      <th></th>\n      <th>inv_sum</th>\n      <th>inv_ind_1100</th>\n      <th>inv_ind_1110</th>\n      <th>inv_ind_1120</th>\n      <th>inv_ind_1130</th>\n      <th>inv_ind_1140</th>\n      <th>inv_ind_1150</th>\n      <th>inv_ind_1160</th>\n      <th>inv_ind_1170</th>\n      <th>inv_ind_1180</th>\n      <th>...</th>\n      <th>inv_ind_4500</th>\n      <th>inv_ind_6100</th>\n      <th>inv_ind_6220</th>\n      <th>inv_ind_6240</th>\n      <th>inv_ind_6250</th>\n      <th>inv_ind_6310</th>\n      <th>inv_ind_6320</th>\n      <th>inv_ind_6330</th>\n      <th>inv_ind_6350</th>\n      <th>inv_ind_6400</th>\n    </tr>\n  </thead>\n  <tbody>\n    <tr>\n      <th>1072</th>\n      <td>-1.084229</td>\n      <td>-0.010102</td>\n      <td>-0.008662</td>\n      <td>-0.026781</td>\n      <td>0.0</td>\n      <td>0.0</td>\n      <td>-0.024989</td>\n      <td>-0.013758</td>\n      <td>-0.017304</td>\n      <td>-0.031276</td>\n      <td>...</td>\n      <td>0.0</td>\n      <td>0.0</td>\n      <td>0.0</td>\n      <td>0.0</td>\n      <td>0.0</td>\n      <td>0.0</td>\n      <td>0.0</td>\n      <td>0.0</td>\n      <td>0.0</td>\n      <td>0.0</td>\n    </tr>\n    <tr>\n      <th>11445</th>\n      <td>0.546380</td>\n      <td>-0.010099</td>\n      <td>-0.008662</td>\n      <td>-0.026781</td>\n      <td>0.0</td>\n      <td>0.0</td>\n      <td>-0.024989</td>\n      <td>-0.013758</td>\n      <td>-0.017304</td>\n      <td>-0.029833</td>\n      <td>...</td>\n      <td>0.0</td>\n      <td>0.0</td>\n      <td>0.0</td>\n      <td>0.0</td>\n      <td>0.0</td>\n      <td>0.0</td>\n      <td>0.0</td>\n      <td>0.0</td>\n      <td>0.0</td>\n      <td>0.0</td>\n    </tr>\n  </tbody>\n</table>\n<p>2 rows × 97 columns</p>\n</div>"
     },
     "execution_count": 796,
     "metadata": {},
     "output_type": "execute_result"
    }
   ],
   "source": [
    "# Формируем X\n",
    "# Масштабируем числовые признаки\n",
    "X = pd.DataFrame([], index=work_df.index)\n",
    "X[['inv_sum'] + ['inv_' + x for x in additional_features]] = preprocessing.StandardScaler().fit_transform(work_df[['inv_sum'] + ['inv_' + x for x in additional_features]])\n",
    "X.sample(2)"
   ],
   "metadata": {
    "collapsed": false,
    "pycharm": {
     "name": "#%%\n"
    }
   }
  },
  {
   "cell_type": "code",
   "execution_count": 797,
   "outputs": [
    {
     "data": {
      "text/plain": "        inv_sum  inv_ind_1100  inv_ind_1110  inv_ind_1120  inv_ind_1130  \\\n5722  -0.094673     -0.010102     -0.008662     -0.026781           0.0   \n15301 -1.273794     -0.010102     -0.008662     -0.026781           0.0   \n\n       inv_ind_1140  inv_ind_1150  inv_ind_1160  inv_ind_1170  inv_ind_1180  \\\n5722            0.0     -0.024989     -0.013758     -0.016875     -0.031276   \n15301           0.0     -0.024989     -0.013758     -0.017304     -0.031276   \n\n       ...  x0_90.04  x0_91.01  x0_91.02  x0_91.03  x0_91.04  x0_93.1  \\\n5722   ...         0         0         0         0         0        0   \n15301  ...         0         0         0         0         0        0   \n\n       x0_93.2  x0_94.12  x1_msk  x1_spb  \n5722         0         0       1       0  \n15301        0         0       1       0  \n\n[2 rows x 165 columns]",
      "text/html": "<div>\n<style scoped>\n    .dataframe tbody tr th:only-of-type {\n        vertical-align: middle;\n    }\n\n    .dataframe tbody tr th {\n        vertical-align: top;\n    }\n\n    .dataframe thead th {\n        text-align: right;\n    }\n</style>\n<table border=\"1\" class=\"dataframe\">\n  <thead>\n    <tr style=\"text-align: right;\">\n      <th></th>\n      <th>inv_sum</th>\n      <th>inv_ind_1100</th>\n      <th>inv_ind_1110</th>\n      <th>inv_ind_1120</th>\n      <th>inv_ind_1130</th>\n      <th>inv_ind_1140</th>\n      <th>inv_ind_1150</th>\n      <th>inv_ind_1160</th>\n      <th>inv_ind_1170</th>\n      <th>inv_ind_1180</th>\n      <th>...</th>\n      <th>x0_90.04</th>\n      <th>x0_91.01</th>\n      <th>x0_91.02</th>\n      <th>x0_91.03</th>\n      <th>x0_91.04</th>\n      <th>x0_93.1</th>\n      <th>x0_93.2</th>\n      <th>x0_94.12</th>\n      <th>x1_msk</th>\n      <th>x1_spb</th>\n    </tr>\n  </thead>\n  <tbody>\n    <tr>\n      <th>5722</th>\n      <td>-0.094673</td>\n      <td>-0.010102</td>\n      <td>-0.008662</td>\n      <td>-0.026781</td>\n      <td>0.0</td>\n      <td>0.0</td>\n      <td>-0.024989</td>\n      <td>-0.013758</td>\n      <td>-0.016875</td>\n      <td>-0.031276</td>\n      <td>...</td>\n      <td>0</td>\n      <td>0</td>\n      <td>0</td>\n      <td>0</td>\n      <td>0</td>\n      <td>0</td>\n      <td>0</td>\n      <td>0</td>\n      <td>1</td>\n      <td>0</td>\n    </tr>\n    <tr>\n      <th>15301</th>\n      <td>-1.273794</td>\n      <td>-0.010102</td>\n      <td>-0.008662</td>\n      <td>-0.026781</td>\n      <td>0.0</td>\n      <td>0.0</td>\n      <td>-0.024989</td>\n      <td>-0.013758</td>\n      <td>-0.017304</td>\n      <td>-0.031276</td>\n      <td>...</td>\n      <td>0</td>\n      <td>0</td>\n      <td>0</td>\n      <td>0</td>\n      <td>0</td>\n      <td>0</td>\n      <td>0</td>\n      <td>0</td>\n      <td>1</td>\n      <td>0</td>\n    </tr>\n  </tbody>\n</table>\n<p>2 rows × 165 columns</p>\n</div>"
     },
     "execution_count": 797,
     "metadata": {},
     "output_type": "execute_result"
    }
   ],
   "source": [
    "# Кодируем категориальные признаки\n",
    "ohe = preprocessing.OneHotEncoder(sparse=False)\n",
    "ohe.fit(work_df[['main_okved', 'region']])\n",
    "X[ohe.get_feature_names()] = ohe.transform(work_df[['main_okved', 'region']]).astype(int)\n",
    "X.sample(2)"
   ],
   "metadata": {
    "collapsed": false,
    "pycharm": {
     "name": "#%%\n"
    }
   }
  },
  {
   "cell_type": "code",
   "execution_count": 798,
   "outputs": [
    {
     "data": {
      "text/plain": "array([0, 1])"
     },
     "execution_count": 798,
     "metadata": {},
     "output_type": "execute_result"
    }
   ],
   "source": [
    "# В таргет берем только признак окупиться/не окупится\n",
    "y = (work_df['target'] != -1).astype(int)\n",
    "y.unique()"
   ],
   "metadata": {
    "collapsed": false,
    "pycharm": {
     "name": "#%%\n"
    }
   }
  },
  {
   "cell_type": "code",
   "execution_count": 799,
   "outputs": [
    {
     "data": {
      "text/plain": "((13954, 165), (13954,), (11163, 165), (11163,), (2791, 165), (2791,))"
     },
     "execution_count": 799,
     "metadata": {},
     "output_type": "execute_result"
    }
   ],
   "source": [
    "# Бъем на трейн - тест\n",
    "X_train, X_valid, y_train, y_valid = train_test_split(X, y, test_size=0.2, random_state=RANDOM_SEED)\n",
    "X.shape, y.shape, X_train.shape, y_train.shape, X_valid.shape, y_valid.shape,"
   ],
   "metadata": {
    "collapsed": false,
    "pycharm": {
     "name": "#%%\n"
    }
   }
  },
  {
   "cell_type": "code",
   "execution_count": 800,
   "outputs": [
    {
     "data": {
      "text/plain": "0.6962368301265597"
     },
     "execution_count": 800,
     "metadata": {},
     "output_type": "execute_result"
    }
   ],
   "source": [
    "# Теперь моделька\n",
    "lr = LogisticRegressionCV(Cs=10, random_state=RANDOM_SEED, class_weight='balanced')\n",
    "lr.fit(X_train, y_train)\n",
    "y_prob = lr.predict_proba(X_valid)\n",
    "metrics.roc_auc_score(y_valid, y_prob[:, 1])"
   ],
   "metadata": {
    "collapsed": false,
    "pycharm": {
     "name": "#%%\n"
    }
   }
  },
  {
   "cell_type": "markdown",
   "source": [
    "В принципе результат не плохой - можно работать дальше"
   ],
   "metadata": {
    "collapsed": false,
    "pycharm": {
     "name": "#%% md\n"
    }
   }
  },
  {
   "cell_type": "code",
   "execution_count": 801,
   "outputs": [
    {
     "data": {
      "text/plain": "<Figure size 864x576 with 1 Axes>",
      "image/png": "[encoded data removed]"
     },
     "metadata": {
      "needs_background": "light"
     },
     "output_type": "display_data"
    }
   ],
   "source": [
    "show_roc_auc(y_valid, y_prob[:, 1])"
   ],
   "metadata": {
    "collapsed": false,
    "pycharm": {
     "name": "#%%\n"
    }
   }
  },
  {
   "cell_type": "code",
   "execution_count": 802,
   "outputs": [
    {
     "data": {
      "text/plain": "<Figure size 576x576 with 2 Axes>",
      "image/png": "[encoded data removed]"
     },
     "metadata": {
      "needs_background": "light"
     },
     "output_type": "display_data"
    }
   ],
   "source": [
    "y_pred = lr.predict(X_valid)\n",
    "show_confusion_matrix(y_valid, y_pred)"
   ],
   "metadata": {
    "collapsed": false,
    "pycharm": {
     "name": "#%%\n"
    }
   }
  },
  {
   "cell_type": "code",
   "execution_count": 803,
   "outputs": [
    {
     "data": {
      "text/plain": "<Figure size 1152x720 with 1 Axes>",
      "image/png": "[encoded data removed]"
     },
     "metadata": {
      "needs_background": "light"
     },
     "output_type": "display_data"
    }
   ],
   "source": [
    "show_lr_Importance(lr, X.columns)"
   ],
   "metadata": {
    "collapsed": false,
    "pycharm": {
     "name": "#%%\n"
    }
   }
  },
  {
   "cell_type": "code",
   "execution_count": 804,
   "outputs": [
    {
     "data": {
      "text/plain": "0.6963480138195586"
     },
     "execution_count": 804,
     "metadata": {},
     "output_type": "execute_result"
    }
   ],
   "source": [
    "# По замечаниям - проверка на переобучение\n",
    "y_prob = lr.predict_proba(X_train)\n",
    "metrics.roc_auc_score(y_train, y_prob[:, 1])"
   ],
   "metadata": {
    "collapsed": false,
    "pycharm": {
     "name": "#%%\n"
    }
   }
  },
  {
   "cell_type": "markdown",
   "source": [
    "### LGBMClassifier"
   ],
   "metadata": {
    "collapsed": false,
    "pycharm": {
     "name": "#%% md\n"
    }
   }
  },
  {
   "cell_type": "code",
   "execution_count": 805,
   "outputs": [
    {
     "data": {
      "text/plain": "0.728602138357198"
     },
     "execution_count": 805,
     "metadata": {},
     "output_type": "execute_result"
    }
   ],
   "source": [
    "model = LGBMClassifier(random_state=RANDOM_SEED, class_weight='balanced', max_depth=3)\n",
    "model.fit(X_train, y_train)\n",
    "y_prob = model.predict_proba(X_valid)\n",
    "metrics.roc_auc_score(y_valid, y_prob[:, 1])"
   ],
   "metadata": {
    "collapsed": false,
    "pycharm": {
     "name": "#%%\n"
    }
   }
  },
  {
   "cell_type": "markdown",
   "source": [
    "Результат еще лучше, но нас интересует не просто выйдет или нет из убытков, а срок"
   ],
   "metadata": {
    "collapsed": false,
    "pycharm": {
     "name": "#%% md\n"
    }
   }
  },
  {
   "cell_type": "code",
   "execution_count": 806,
   "outputs": [
    {
     "data": {
      "text/plain": "<Figure size 864x576 with 1 Axes>",
      "image/png": "[encoded data removed]"
     },
     "metadata": {
      "needs_background": "light"
     },
     "output_type": "display_data"
    }
   ],
   "source": [
    "show_roc_auc(y_valid, y_prob[:, 1])"
   ],
   "metadata": {
    "collapsed": false,
    "pycharm": {
     "name": "#%%\n"
    }
   }
  },
  {
   "cell_type": "code",
   "execution_count": 807,
   "outputs": [
    {
     "data": {
      "text/plain": "<Figure size 576x576 with 2 Axes>",
      "image/png": "[encoded data removed]"
     },
     "metadata": {
      "needs_background": "light"
     },
     "output_type": "display_data"
    }
   ],
   "source": [
    "y_pred = model.predict(X_valid)\n",
    "show_confusion_matrix(y_valid, y_pred)"
   ],
   "metadata": {
    "collapsed": false,
    "pycharm": {
     "name": "#%%\n"
    }
   }
  },
  {
   "cell_type": "code",
   "execution_count": 808,
   "outputs": [
    {
     "data": {
      "text/plain": "<Figure size 720x720 with 1 Axes>",
      "image/png": "[encoded data removed]"
     },
     "metadata": {
      "needs_background": "light"
     },
     "output_type": "display_data"
    }
   ],
   "source": [
    "plot_feature_importances(model.feature_importances_, X.columns)"
   ],
   "metadata": {
    "collapsed": false,
    "pycharm": {
     "name": "#%%\n"
    }
   }
  },
  {
   "cell_type": "code",
   "execution_count": 809,
   "outputs": [
    {
     "data": {
      "text/plain": "0.7799610107798344"
     },
     "execution_count": 809,
     "metadata": {},
     "output_type": "execute_result"
    }
   ],
   "source": [
    "# По замечаниям - проверка на переобучение\n",
    "y_prob = model.predict_proba(X_train)\n",
    "metrics.roc_auc_score(y_train, y_prob[:, 1])"
   ],
   "metadata": {
    "collapsed": false,
    "pycharm": {
     "name": "#%%\n"
    }
   }
  },
  {
   "cell_type": "markdown",
   "source": [
    "# !!! переобучились"
   ],
   "metadata": {
    "collapsed": false,
    "pycharm": {
     "name": "#%% md\n"
    }
   }
  },
  {
   "cell_type": "markdown",
   "source": [
    "### Предсказание срока выхода из убытков"
   ],
   "metadata": {
    "collapsed": false,
    "pycharm": {
     "name": "#%% md\n"
    }
   }
  },
  {
   "cell_type": "code",
   "execution_count": 810,
   "outputs": [
    {
     "data": {
      "text/plain": "((13954, 69), (13954,))"
     },
     "execution_count": 810,
     "metadata": {},
     "output_type": "execute_result"
    }
   ],
   "source": [
    "# Можно попробовать разный набор фичей, но для начала возьмем сумму инвестиций и ОКВЕД\n",
    "features = ['inv_sum']\n",
    "#features = ['inv_sum', 'inv_ind_1500', 'inv_ind_1200', 'inv_ind_1300', 'inv_ind_1400']\n",
    "X = pd.DataFrame([], index=work_df.index)\n",
    "X[features] = preprocessing.StandardScaler().fit_transform(work_df[features])\n",
    "ohe = preprocessing.OneHotEncoder(sparse=False)\n",
    "ohe.fit(work_df[['main_okved', 'region']])\n",
    "X[ohe.get_feature_names()] = ohe.transform(work_df[['main_okved', 'region']]).astype(int)\n",
    "y = work_df['target']\n",
    "X.shape, y.shape"
   ],
   "metadata": {
    "collapsed": false,
    "pycharm": {
     "name": "#%%\n"
    }
   }
  },
  {
   "cell_type": "code",
   "execution_count": 811,
   "outputs": [
    {
     "data": {
      "text/plain": "((13954, 69), (13954,), (11163, 69), (11163,), (2791, 69), (2791,))"
     },
     "execution_count": 811,
     "metadata": {},
     "output_type": "execute_result"
    }
   ],
   "source": [
    "X_train, X_valid, y_train, y_valid = train_test_split(X, y, test_size=0.2, random_state=RANDOM_SEED)\n",
    "X.shape, y.shape, X_train.shape, y_train.shape, X_valid.shape, y_valid.shape,"
   ],
   "metadata": {
    "collapsed": false,
    "pycharm": {
     "name": "#%%\n"
    }
   }
  },
  {
   "cell_type": "code",
   "execution_count": 812,
   "outputs": [
    {
     "data": {
      "text/plain": "0.6223201119254546"
     },
     "execution_count": 812,
     "metadata": {},
     "output_type": "execute_result"
    }
   ],
   "source": [
    "model = LGBMClassifier(random_state=RANDOM_SEED, class_weight='balanced', max_depth=3)\n",
    "model.fit(X_train, y_train)\n",
    "y_prob = model.predict_proba(X_valid)\n",
    "metrics.roc_auc_score(y_valid, y_prob, multi_class='ovr', average='weighted')"
   ],
   "metadata": {
    "collapsed": false,
    "pycharm": {
     "name": "#%%\n"
    }
   }
  },
  {
   "cell_type": "code",
   "execution_count": 813,
   "outputs": [
    {
     "data": {
      "text/plain": "array([0.61491061, 0.6037611 , 0.59960096, 0.54172147, 0.54430732])"
     },
     "execution_count": 813,
     "metadata": {},
     "output_type": "execute_result"
    }
   ],
   "source": [
    "cross_val_score(model, X, y, cv=5, scoring='roc_auc_ovr_weighted')"
   ],
   "metadata": {
    "collapsed": false,
    "pycharm": {
     "name": "#%%\n"
    }
   }
  },
  {
   "cell_type": "markdown",
   "source": [
    "На самом деле для такого набора признаков и модели без настроенных гиперпараметров результат просто поразительный, следовательно нужно искать где\n",
    "в предыдущих раскладках ошибка"
   ],
   "metadata": {
    "collapsed": false,
    "pycharm": {
     "name": "#%% md\n"
    }
   }
  },
  {
   "cell_type": "code",
   "execution_count": 814,
   "outputs": [
    {
     "data": {
      "text/plain": "<Figure size 720x720 with 1 Axes>",
      "image/png": "[encoded data removed]"
     },
     "metadata": {
      "needs_background": "light"
     },
     "output_type": "display_data"
    }
   ],
   "source": [
    "plot_feature_importances(model.feature_importances_, X.columns)"
   ],
   "metadata": {
    "collapsed": false,
    "pycharm": {
     "name": "#%%\n"
    }
   }
  },
  {
   "cell_type": "code",
   "execution_count": 815,
   "outputs": [
    {
     "data": {
      "text/plain": "<Figure size 576x576 with 2 Axes>",
      "image/png": "[encoded data removed]"
     },
     "metadata": {
      "needs_background": "light"
     },
     "output_type": "display_data"
    }
   ],
   "source": [
    "y_pred = model.predict(X_valid)\n",
    "show_confusion_matrix(y_pred, y_valid)"
   ],
   "metadata": {
    "collapsed": false,
    "pycharm": {
     "name": "#%%\n"
    }
   }
  },
  {
   "cell_type": "code",
   "execution_count": 816,
   "outputs": [
    {
     "data": {
      "text/plain": "[(0, -1),\n (-1, 1),\n (0, 1),\n (7, -1),\n (7, -1),\n (-1, 1),\n (4, -1),\n (7, 8),\n (6, -1),\n (0, 1)]"
     },
     "execution_count": 816,
     "metadata": {},
     "output_type": "execute_result"
    }
   ],
   "source": [
    "list(zip(y_pred, y_valid))[100:110]"
   ],
   "metadata": {
    "collapsed": false,
    "pycharm": {
     "name": "#%%\n"
    }
   }
  },
  {
   "cell_type": "code",
   "execution_count": 817,
   "outputs": [
    {
     "data": {
      "text/plain": "0.6351683861819447"
     },
     "execution_count": 817,
     "metadata": {},
     "output_type": "execute_result"
    }
   ],
   "source": [
    "# По замечаниям - проверка на переобучение\n",
    "y_prob = model.predict_proba(X_train)\n",
    "metrics.roc_auc_score(y_train, y_prob, multi_class='ovr', average='weighted')"
   ],
   "metadata": {
    "collapsed": false,
    "pycharm": {
     "name": "#%%\n"
    }
   }
  },
  {
   "cell_type": "markdown",
   "source": [
    "# !!!Переобучились"
   ],
   "metadata": {
    "collapsed": false,
    "pycharm": {
     "name": "#%% md\n"
    }
   }
  },
  {
   "cell_type": "code",
   "execution_count": 818,
   "outputs": [
    {
     "data": {
      "text/plain": "1.3110039737050454"
     },
     "execution_count": 818,
     "metadata": {},
     "output_type": "execute_result"
    }
   ],
   "source": [
    "model = LGBMRegressor(random_state=RANDOM_SEED)\n",
    "model.fit(X_train, y_train)\n",
    "y_pred = model.predict(X_valid)\n",
    "metrics.mean_absolute_error(y_valid, y_pred)"
   ],
   "metadata": {
    "collapsed": false,
    "pycharm": {
     "name": "#%%\n"
    }
   }
  },
  {
   "cell_type": "code",
   "execution_count": 819,
   "outputs": [
    {
     "data": {
      "text/plain": "[(1.0, -1),\n (-1.0, 1),\n (0.0, 1),\n (1.0, -1),\n (1.0, -1),\n (1.0, 1),\n (0.0, -1),\n (1.0, 8),\n (0.0, -1),\n (1.0, 1)]"
     },
     "execution_count": 819,
     "metadata": {},
     "output_type": "execute_result"
    }
   ],
   "source": [
    "list(zip(np.round(y_pred), y_valid))[100:110]"
   ],
   "metadata": {
    "collapsed": false,
    "pycharm": {
     "name": "#%%\n"
    }
   }
  },
  {
   "cell_type": "code",
   "execution_count": 820,
   "outputs": [
    {
     "data": {
      "text/plain": "(array([-1.,  0.,  1.,  2.,  3.]), array([  63, 1255, 1340,  121,   12]))"
     },
     "execution_count": 820,
     "metadata": {},
     "output_type": "execute_result"
    }
   ],
   "source": [
    "np.unique(np.round(y_pred), return_counts=True)"
   ],
   "metadata": {
    "collapsed": false,
    "pycharm": {
     "name": "#%%\n"
    }
   }
  },
  {
   "cell_type": "code",
   "execution_count": 820,
   "outputs": [],
   "source": [],
   "metadata": {
    "collapsed": false,
    "pycharm": {
     "name": "#%%\n"
    }
   }
  }
 ],
 "metadata": {
  "kernelspec": {
   "display_name": "Python 3",
   "language": "python",
   "name": "python3"
  },
  "language_info": {
   "codemirror_mode": {
    "name": "ipython",
    "version": 2
   },
   "file_extension": ".py",
   "mimetype": "text/x-python",
   "name": "python",
   "nbconvert_exporter": "python",
   "pygments_lexer": "ipython2",
   "version": "2.7.6"
  }
 },
 "nbformat": 4,
 "nbformat_minor": 0
}