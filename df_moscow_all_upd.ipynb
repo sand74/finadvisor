{
 "cells": [
  {
   "cell_type": "markdown",
   "metadata": {
    "collapsed": true,
    "pycharm": {
     "name": "#%% md\n"
    }
   },
   "source": []
  },
  {
   "cell_type": "markdown",
   "source": [
    "Не стал пересчитывать вложения с учетом инфляции, так как хотел посмотреть не только на первоначальные вложения, но и на распределение их по балансу.\n",
    "В процентах боялся запутаться, но думаю что если учесть инфляцию, то результат просто станет лучше."
   ],
   "metadata": {
    "collapsed": false,
    "pycharm": {
     "name": "#%% md\n"
    }
   }
  },
  {
   "cell_type": "code",
   "execution_count": 1,
   "outputs": [
    {
     "ename": "ModuleNotFoundError",
     "evalue": "No module named 'autoviz'",
     "output_type": "error",
     "traceback": [
      "\u001B[0;31m---------------------------------------------------------------------------\u001B[0m",
      "\u001B[0;31mModuleNotFoundError\u001B[0m                       Traceback (most recent call last)",
      "\u001B[0;32m<ipython-input-1-1b2efd83819c>\u001B[0m in \u001B[0;36m<module>\u001B[0;34m\u001B[0m\n\u001B[1;32m      9\u001B[0m \u001B[0;32mfrom\u001B[0m \u001B[0msklearn\u001B[0m \u001B[0;32mimport\u001B[0m \u001B[0mpreprocessing\u001B[0m\u001B[0;34m\u001B[0m\u001B[0;34m\u001B[0m\u001B[0m\n\u001B[1;32m     10\u001B[0m \u001B[0;32mfrom\u001B[0m \u001B[0mtqdm\u001B[0m\u001B[0;34m.\u001B[0m\u001B[0mnotebook\u001B[0m \u001B[0;32mimport\u001B[0m \u001B[0mtqdm\u001B[0m\u001B[0;34m\u001B[0m\u001B[0;34m\u001B[0m\u001B[0m\n\u001B[0;32m---> 11\u001B[0;31m \u001B[0;32mfrom\u001B[0m \u001B[0mautoviz\u001B[0m\u001B[0;34m.\u001B[0m\u001B[0mAutoViz_Class\u001B[0m \u001B[0;32mimport\u001B[0m \u001B[0mAutoViz_Class\u001B[0m\u001B[0;34m\u001B[0m\u001B[0;34m\u001B[0m\u001B[0m\n\u001B[0m\u001B[1;32m     12\u001B[0m \u001B[0;32mimport\u001B[0m \u001B[0mdatetime\u001B[0m\u001B[0;34m\u001B[0m\u001B[0;34m\u001B[0m\u001B[0m\n\u001B[1;32m     13\u001B[0m \u001B[0;32mfrom\u001B[0m \u001B[0mtime\u001B[0m \u001B[0;32mimport\u001B[0m \u001B[0msleep\u001B[0m\u001B[0;34m,\u001B[0m \u001B[0mtime\u001B[0m\u001B[0;34m\u001B[0m\u001B[0;34m\u001B[0m\u001B[0m\n",
      "\u001B[0;31mModuleNotFoundError\u001B[0m: No module named 'autoviz'"
     ]
    }
   ],
   "source": [
    "import pandas as pd\n",
    "import numpy as np\n",
    "from lightgbm import LGBMRegressor, LGBMClassifier\n",
    "from sklearn.ensemble import GradientBoostingRegressor, RandomForestRegressor\n",
    "from sklearn.linear_model import RidgeCV, SGDRegressor, LogisticRegressionCV, LogisticRegression\n",
    "from sklearn import metrics\n",
    "from sklearn.metrics import roc_curve, roc_auc_score, confusion_matrix\n",
    "from sklearn.model_selection import train_test_split, cross_val_score, StratifiedKFold\n",
    "from sklearn import preprocessing\n",
    "from tqdm.notebook import tqdm\n",
    "from autoviz.AutoViz_Class import AutoViz_Class\n",
    "import datetime\n",
    "from time import sleep, time\n",
    "import re\n",
    "\n",
    "import matplotlib.pyplot as plt\n",
    "import seaborn as sns\n",
    "%matplotlib inline"
   ],
   "metadata": {
    "collapsed": false,
    "pycharm": {
     "name": "#%%\n"
    }
   }
  },
  {
   "cell_type": "code",
   "execution_count": null,
   "outputs": [],
   "source": [
    "RANDOM_SEED = 42"
   ],
   "metadata": {
    "collapsed": false,
    "pycharm": {
     "name": "#%%\n"
    }
   }
  },
  {
   "cell_type": "code",
   "execution_count": null,
   "outputs": [],
   "source": [
    "# def na_info(ds: pd.DataFrame) -> pd.DataFrame:\n",
    "#     arr = []\n",
    "#     nans_cnt = ds.isna().sum()\n",
    "#     for ind, row in tqdm(nans_cnt.items(), total=nans_cnt.shape[0]):\n",
    "#         name = ind\n",
    "#         if ind.startswith('ind_'):\n",
    "#             name = buh_codes_dict[ind[4:8]]\n",
    "#         arr.append([ind, name, row, round(row / data.shape[0] * 100, 2)])\n",
    "#     return pd.DataFrame(arr, columns=['column', 'name', 'nan_cnt', 'nan_perc'])\n",
    "\n",
    "\n",
    "def show_num_corr(df: pd.DataFrame, features: list = None, title: str ='Корреляция между данными'):\n",
    "    '''\n",
    "    Корреляция между числовыми признаками набора данных\n",
    "    :param df: Набор данных\n",
    "    :param features: признаки\n",
    "    :param title: Заголовок карты\n",
    "    :return: Корр карта признаков\n",
    "    '''\n",
    "    plt.figure(figsize=(16, 16))\n",
    "    show_df =  df\n",
    "    if features is not None:\n",
    "        show_df = df[features]\n",
    "    mask = np.triu(np.ones_like(show_df.corr(), dtype=bool))\n",
    "    heatmap = sns.heatmap(show_df.corr(),\n",
    "                          mask=mask, vmin=-1, vmax=1, annot=True, cmap='BrBG')\n",
    "    heatmap = heatmap.set_title(title, fontdict={'fontsize': 18}, pad=16)\n",
    "    return heatmap\n",
    "\n",
    "\n",
    "def get_high_coreleted_features(df: pd.DataFrame, limit: float = 0.9, method: str = 'pearson') -> pd.DataFrame:\n",
    "    '''\n",
    "    Получить сильно скоррелированные признаки\n",
    "    :param df: Набор данных\n",
    "    :param limit: только те, корреляция которых превышает лимит\n",
    "    :param method: метод вычисления корреляции\n",
    "    :return: Наобор вида (признак1, признак2, коэфф корреляции)\n",
    "    '''\n",
    "    corr_ds = df.corr(method=method)\n",
    "    corr_rows = []\n",
    "    for ind_row, row in corr_ds.iterrows():\n",
    "        for ind_col, cell in row.items():\n",
    "            if abs(cell) > limit and ind_row != ind_col:\n",
    "                if [ind_col, ind_row, cell] not in corr_rows:\n",
    "                    corr_rows.append([ind_row, ind_col, cell])\n",
    "    return pd.DataFrame(corr_rows, columns=['feature_1', 'feature_2', 'value'])\n",
    "\n",
    "\n",
    "def outliers(df: pd.DataFrame, feature: str, iqrs: float = 1.5) -> pd.DataFrame:\n",
    "    '''\n",
    "    Получение выбросов по интерквартильному размаху\n",
    "    :param df: Набор данных\n",
    "    :param feature: Признак для которого ищем выбросы\n",
    "    :param iqrs: Все что выходит за  IQR * iqrs\n",
    "    :return: набор данных с выбросами\n",
    "    '''\n",
    "    # Интерквартильный размах\n",
    "    perc25 = df[feature].quantile(0.25)\n",
    "    perc75 = df[feature].quantile(0.75)\n",
    "    IQR = perc75 - perc25\n",
    "    low, high = (perc25 - iqrs * IQR, perc75 + iqrs * IQR)\n",
    "    print(\n",
    "        f'25-й перцентиль: {perc25}, 75-й перцентиль: {perc75}, IQR: {IQR}, Границы выбросов: [{low}, {high}]')\n",
    "    return df[(df[feature] < low) | (df[feature] > high)]\n",
    "\n",
    "\n",
    "def first_look(s: pd.Series) -> None:\n",
    "    '''\n",
    "    EDA для признаков\n",
    "    :param s: Колонка признака\n",
    "    :return: None\n",
    "    '''\n",
    "    saved_format = pd.options.display.float_format\n",
    "    pd.options.display.float_format = '{:.2f}'.format\n",
    "    print('-' * 80)\n",
    "    try:\n",
    "        print('Название:', s.name)\n",
    "        print('Тип данных:', s.dtype.type)\n",
    "        print('Количество значений:', len(s))\n",
    "        print('Количество уникальных значений:', s.nunique())\n",
    "        print('Количество пропусков:', s.isna().sum())\n",
    "        print(f'Процент пропусков: {round((s.isna().sum() / len(s)) * 100, 2)}%')\n",
    "        print('Общие статистики:')\n",
    "        print(s.describe())\n",
    "        print('Топ 10 уникальных значений:')\n",
    "        print(s.value_counts()[:10])\n",
    "    except Exception as e:\n",
    "        print('Ошибка:', str(e))\n",
    "    print('-' * 80)\n",
    "    pd.options.display.float_format = saved_format\n",
    "\n",
    "\n",
    "def plot_feature_importances(fi, columns: list, num: int=20) -> None:\n",
    "    '''\n",
    "    График важности признаков для моделей с feature_importances\n",
    "    :param fi: feature_importances\n",
    "    :param columns: какие признаки смотрим\n",
    "    :param num: сколько самых важных выводим\n",
    "    :return: None\n",
    "    '''\n",
    "    plt.rcParams['figure.figsize'] = (10, 10)\n",
    "    feat_importances = pd.Series(fi, index=columns)\n",
    "    mean_imp = feat_importances.nlargest(num).mean()\n",
    "    feat_colors = feat_importances.apply(lambda x: 'r' if x > mean_imp else 'b')\n",
    "    feat_importances.nlargest(num).plot(kind='barh', title='Feature importance')\n",
    "\n",
    "\n",
    "def show_roc_auc(y_test: list, probs: list) -> None:\n",
    "    '''\n",
    "    График ROC AUC\n",
    "    :param y_test: Истенные значения\n",
    "    :param probs: Предсказанные вероятности\n",
    "    :return: None\n",
    "    '''\n",
    "    fpr, tpr, threshold = roc_curve(y_test, probs)\n",
    "    roc_auc = roc_auc_score(y_test, probs)\n",
    "    plt.figure(figsize=(12, 8))\n",
    "    plt.plot([0, 1], label='Baseline', linestyle='--')\n",
    "    plt.plot(fpr, tpr, label = 'Regression')\n",
    "    plt.title('Logistic Regression ROC AUC = %0.10f' % roc_auc)\n",
    "    plt.ylabel('True Positive Rate')\n",
    "    plt.xlabel('False Positive Rate')\n",
    "    plt.legend(loc = 'lower right')\n",
    "    plt.show()\n",
    "\n",
    "\n",
    "def show_lr_Importance(model: LogisticRegression, features: list, n: int=20) -> None:\n",
    "    '''\n",
    "    График важности признаков для моделей с LR\n",
    "    :param model: экземпляр LR\n",
    "    :param features: какие признаки смотрим\n",
    "    :param n: сколько самых важных выводим\n",
    "    :return:\n",
    "    '''\n",
    "    lr_coef = pd.DataFrame(model.coef_.T, columns=['coefficient'], index=features)\n",
    "    lr_coef = np.abs(lr_coef)\n",
    "    lr_coef = lr_coef.sort_values(by='coefficient', ascending=False)\n",
    "    f, ax = plt.subplots(1, 1, figsize=(16, 10))\n",
    "    df4display = lr_coef.head(n)\n",
    "    sns.barplot(x=df4display['coefficient'], y=df4display.index, palette=\"vlag\", ax=ax)\n",
    "    _ = ax.set_ylabel(\"Признак\")\n",
    "    _ = ax.set_title(\"Значимость признаков\")\n",
    "\n",
    "\n",
    "def show_confusion_matrix(y_pred: list, y_true: list) -> None:\n",
    "    '''\n",
    "    Матрица смежности для предсказаний классификатора\n",
    "    :param y_pred: предсказанные значения\n",
    "    :param y_true: истинные значения\n",
    "    :return:\n",
    "    '''\n",
    "    plt.figure(figsize=(8, 8))\n",
    "    c_matrix = confusion_matrix(y_true, y_pred, labels=np.unique(y_true))\n",
    "    heatmap = sns.heatmap(c_matrix, annot=True, cmap='BrBG', fmt='g', annot_kws={\"fontsize\": 18})\n",
    "    heatmap = heatmap.set_title(\"Confusion matrix\", fontdict={'fontsize': 18}, pad=16)\n",
    "\n",
    "\n",
    "def print_clssification_metrix(y_pred: list, y_true: list):\n",
    "    '''\n",
    "    Метрики качества для классификатора\n",
    "    :param y_pred:\n",
    "    :param y_true:\n",
    "    :return:\n",
    "    '''\n",
    "    print('Precision:', metrics.precision_score(y_pred, y_true))\n",
    "    print('Recall:', metrics.recall_score(y_pred, y_true))\n",
    "    print('F1-score:', metrics.f1_score(y_pred, y_true))\n"
   ],
   "metadata": {
    "collapsed": false,
    "pycharm": {
     "name": "#%%\n"
    }
   }
  },
  {
   "cell_type": "code",
   "execution_count": null,
   "outputs": [],
   "source": [
    "def combine_equals(df):\n",
    "    # Есть странные колонки заканчивающиеся на .1 и .2 - объединяем с нормальным кодом\n",
    "    for col in [c for c in df.columns if c.endswith('.1') or c.endswith('.2')]:\n",
    "        if col[0:8] in df.columns :\n",
    "            df[col[0:8]] = df[col[0:8]] + df[col]\n",
    "            df.drop(col, axis=1, inplace=True)"
   ],
   "metadata": {
    "collapsed": false,
    "pycharm": {
     "name": "#%%\n"
    }
   }
  },
  {
   "cell_type": "code",
   "execution_count": 2,
   "outputs": [
    {
     "data": {
      "text/plain": "                                                name               shortname  \\\n0  ОБЩЕСТВО С ОГРАНИЧЕННОЙ ОТВЕТСТВЕННОСТЬЮ \"КОМИ...  ООО \"КОМИПЕРМДОРСТРОЙ\"   \n1  ОБЩЕСТВО С ОГРАНИЧЕННОЙ ОТВЕТСТВЕННОСТЬЮ \"КОМИ...  ООО \"КОМИПЕРМДОРСТРОЙ\"   \n2  ОБЩЕСТВО С ОГРАНИЧЕННОЙ ОТВЕТСТВЕННОСТЬЮ \"КОМИ...  ООО \"КОМИПЕРМДОРСТРОЙ\"   \n3  ОБЩЕСТВО С ОГРАНИЧЕННОЙ ОТВЕТСТВЕННОСТЬЮ \"КОМИ...  ООО \"КОМИПЕРМДОРСТРОЙ\"   \n4  ОБЩЕСТВО С ОГРАНИЧЕННОЙ ОТВЕТСТВЕННОСТЬЮ \"КОМИ...  ООО \"КОМИПЕРМДОРСТРОЙ\"   \n\n  type             category  region date_addmsp     okved     status  \\\n0   ЮЛ  Среднее предприятие      77  2016-01-08  71.1      Действует   \n1   ЮЛ  Среднее предприятие      77  2016-01-08  71.1      Действует   \n2   ЮЛ  Среднее предприятие      77  2016-01-08  71.1      Действует   \n3   ЮЛ  Среднее предприятие      77  2016-01-08  71.1      Действует   \n4   ЮЛ  Среднее предприятие      77  2016-01-08  71.1      Действует   \n\n    date_open     org_inn  ...  ind_6321  ind_6322  ind_6323  ind_6324  \\\n0  2002-06-17  1101034216  ...       0.0       0.0       0.0       0.0   \n1  2002-06-17  1101034216  ...       0.0       0.0       0.0       0.0   \n2  2002-06-17  1101034216  ...       0.0       0.0       0.0       0.0   \n3  2002-06-17  1101034216  ...       0.0       0.0       0.0       0.0   \n4  2002-06-17  1101034216  ...       0.0       0.0       0.0       0.0   \n\n   ind_6325  ind_6326  ind_6330  ind_6350  ind_6300  ind_6400  \n0       0.0       0.0       0.0       0.0       0.0       0.0  \n1       0.0       0.0       0.0       0.0       0.0       0.0  \n2       0.0       0.0       0.0       0.0       0.0       0.0  \n3       0.0       0.0       0.0       0.0       0.0       0.0  \n4       0.0       0.0       0.0       0.0       0.0       0.0  \n\n[5 rows x 92 columns]",
      "text/html": "<div>\n<style scoped>\n    .dataframe tbody tr th:only-of-type {\n        vertical-align: middle;\n    }\n\n    .dataframe tbody tr th {\n        vertical-align: top;\n    }\n\n    .dataframe thead th {\n        text-align: right;\n    }\n</style>\n<table border=\"1\" class=\"dataframe\">\n  <thead>\n    <tr style=\"text-align: right;\">\n      <th></th>\n      <th>name</th>\n      <th>shortname</th>\n      <th>type</th>\n      <th>category</th>\n      <th>region</th>\n      <th>date_addmsp</th>\n      <th>okved</th>\n      <th>status</th>\n      <th>date_open</th>\n      <th>org_inn</th>\n      <th>...</th>\n      <th>ind_6321</th>\n      <th>ind_6322</th>\n      <th>ind_6323</th>\n      <th>ind_6324</th>\n      <th>ind_6325</th>\n      <th>ind_6326</th>\n      <th>ind_6330</th>\n      <th>ind_6350</th>\n      <th>ind_6300</th>\n      <th>ind_6400</th>\n    </tr>\n  </thead>\n  <tbody>\n    <tr>\n      <th>0</th>\n      <td>ОБЩЕСТВО С ОГРАНИЧЕННОЙ ОТВЕТСТВЕННОСТЬЮ \"КОМИ...</td>\n      <td>ООО \"КОМИПЕРМДОРСТРОЙ\"</td>\n      <td>ЮЛ</td>\n      <td>Среднее предприятие</td>\n      <td>77</td>\n      <td>2016-01-08</td>\n      <td>71.1</td>\n      <td>Действует</td>\n      <td>2002-06-17</td>\n      <td>1101034216</td>\n      <td>...</td>\n      <td>0.0</td>\n      <td>0.0</td>\n      <td>0.0</td>\n      <td>0.0</td>\n      <td>0.0</td>\n      <td>0.0</td>\n      <td>0.0</td>\n      <td>0.0</td>\n      <td>0.0</td>\n      <td>0.0</td>\n    </tr>\n    <tr>\n      <th>1</th>\n      <td>ОБЩЕСТВО С ОГРАНИЧЕННОЙ ОТВЕТСТВЕННОСТЬЮ \"КОМИ...</td>\n      <td>ООО \"КОМИПЕРМДОРСТРОЙ\"</td>\n      <td>ЮЛ</td>\n      <td>Среднее предприятие</td>\n      <td>77</td>\n      <td>2016-01-08</td>\n      <td>71.1</td>\n      <td>Действует</td>\n      <td>2002-06-17</td>\n      <td>1101034216</td>\n      <td>...</td>\n      <td>0.0</td>\n      <td>0.0</td>\n      <td>0.0</td>\n      <td>0.0</td>\n      <td>0.0</td>\n      <td>0.0</td>\n      <td>0.0</td>\n      <td>0.0</td>\n      <td>0.0</td>\n      <td>0.0</td>\n    </tr>\n    <tr>\n      <th>2</th>\n      <td>ОБЩЕСТВО С ОГРАНИЧЕННОЙ ОТВЕТСТВЕННОСТЬЮ \"КОМИ...</td>\n      <td>ООО \"КОМИПЕРМДОРСТРОЙ\"</td>\n      <td>ЮЛ</td>\n      <td>Среднее предприятие</td>\n      <td>77</td>\n      <td>2016-01-08</td>\n      <td>71.1</td>\n      <td>Действует</td>\n      <td>2002-06-17</td>\n      <td>1101034216</td>\n      <td>...</td>\n      <td>0.0</td>\n      <td>0.0</td>\n      <td>0.0</td>\n      <td>0.0</td>\n      <td>0.0</td>\n      <td>0.0</td>\n      <td>0.0</td>\n      <td>0.0</td>\n      <td>0.0</td>\n      <td>0.0</td>\n    </tr>\n    <tr>\n      <th>3</th>\n      <td>ОБЩЕСТВО С ОГРАНИЧЕННОЙ ОТВЕТСТВЕННОСТЬЮ \"КОМИ...</td>\n      <td>ООО \"КОМИПЕРМДОРСТРОЙ\"</td>\n      <td>ЮЛ</td>\n      <td>Среднее предприятие</td>\n      <td>77</td>\n      <td>2016-01-08</td>\n      <td>71.1</td>\n      <td>Действует</td>\n      <td>2002-06-17</td>\n      <td>1101034216</td>\n      <td>...</td>\n      <td>0.0</td>\n      <td>0.0</td>\n      <td>0.0</td>\n      <td>0.0</td>\n      <td>0.0</td>\n      <td>0.0</td>\n      <td>0.0</td>\n      <td>0.0</td>\n      <td>0.0</td>\n      <td>0.0</td>\n    </tr>\n    <tr>\n      <th>4</th>\n      <td>ОБЩЕСТВО С ОГРАНИЧЕННОЙ ОТВЕТСТВЕННОСТЬЮ \"КОМИ...</td>\n      <td>ООО \"КОМИПЕРМДОРСТРОЙ\"</td>\n      <td>ЮЛ</td>\n      <td>Среднее предприятие</td>\n      <td>77</td>\n      <td>2016-01-08</td>\n      <td>71.1</td>\n      <td>Действует</td>\n      <td>2002-06-17</td>\n      <td>1101034216</td>\n      <td>...</td>\n      <td>0.0</td>\n      <td>0.0</td>\n      <td>0.0</td>\n      <td>0.0</td>\n      <td>0.0</td>\n      <td>0.0</td>\n      <td>0.0</td>\n      <td>0.0</td>\n      <td>0.0</td>\n      <td>0.0</td>\n    </tr>\n  </tbody>\n</table>\n<p>5 rows × 92 columns</p>\n</div>"
     },
     "execution_count": 2,
     "metadata": {},
     "output_type": "execute_result"
    }
   ],
   "source": [
    "data = pd.read_csv('data/dataset4ds.csv')\n",
    "data.head()"
   ],
   "metadata": {
    "collapsed": false,
    "pycharm": {
     "name": "#%%\n"
    }
   }
  },
  {
   "cell_type": "code",
   "execution_count": 169,
   "outputs": [
    {
     "data": {
      "text/plain": "          inn           ogrn main_okved         name  \\\n0  7813213777  1157847038062      62.01  ООО \"СТИЛЬ\"   \n1  7813213777  1157847038062      62.01  ООО \"СТИЛЬ\"   \n2  7813213777  1157847038062      62.01  ООО \"СТИЛЬ\"   \n3  7813213777  1157847038062      62.01  ООО \"СТИЛЬ\"   \n4  7813213777  1157847038062      62.01  ООО \"СТИЛЬ\"   \n\n                                                                         address  \\\n0  194044, г. Санкт-Петербург, пр-кт Большой Сампсониевский, 47 литер а, кв. 107   \n1  194044, г. Санкт-Петербург, пр-кт Большой Сампсониевский, 47 литер а, кв. 107   \n2  194044, г. Санкт-Петербург, пр-кт Большой Сампсониевский, 47 литер а, кв. 107   \n3  194044, г. Санкт-Петербург, пр-кт Большой Сампсониевский, 47 литер а, кв. 107   \n4  194044, г. Санкт-Петербург, пр-кт Большой Сампсониевский, 47 литер а, кв. 107   \n\n           type                 status  \\\n0  коммерческая  в процессе ликвидации   \n1  коммерческая  в процессе ликвидации   \n2  коммерческая  в процессе ликвидации   \n3  коммерческая  в процессе ликвидации   \n4  коммерческая  в процессе ликвидации   \n\n                                                        okved    date_reg  \\\n0  ['26.20', '26.51.8', '62.02', '62.09', '63.11', '63.11.1']  2015-02-06   \n1  ['26.20', '26.51.8', '62.02', '62.09', '63.11', '63.11.1']  2015-02-06   \n2  ['26.20', '26.51.8', '62.02', '62.09', '63.11', '63.11.1']  2015-02-06   \n3  ['26.20', '26.51.8', '62.02', '62.09', '63.11', '63.11.1']  2015-02-06   \n4  ['26.20', '26.51.8', '62.02', '62.09', '63.11', '63.11.1']  2015-02-06   \n\n                                                    comments  ...  \\\n0  Организация находится в стадии ликвидидации с 12.10.2021.  ...   \n1  Организация находится в стадии ликвидидации с 12.10.2021.  ...   \n2  Организация находится в стадии ликвидидации с 12.10.2021.  ...   \n3  Организация находится в стадии ликвидидации с 12.10.2021.  ...   \n4  Организация находится в стадии ликвидидации с 12.10.2021.  ...   \n\n   founding_year  founding_month  \\\n0           2015               2   \n1           2015               2   \n2           2015               2   \n3           2015               2   \n4           2015               2   \n\n                                          name_okved  currency  \\\n0  Разработка компьютерного программного обеспечения   60.9579   \n1  Разработка компьютерного программного обеспечения   67.0349   \n2  Разработка компьютерного программного обеспечения   58.3529   \n3  Разработка компьютерного программного обеспечения   62.7078   \n4  Разработка компьютерного программного обеспечения   64.7362   \n\n   inflation_by_2022  investments  inflation  total_profit  breaking_even  \\\n0             1.4904    10.000000     1.1291            22              1   \n1             1.3200    11.291000     1.0538            57              1   \n2             1.2527    11.898456     1.0252           148              1   \n3             1.2218    12.198297     1.0427           430              1   \n4             1.1718    12.719164     1.0305           677              1   \n\n   payback_time  \n0             1  \n1             1  \n2             1  \n3             1  \n4             1  \n\n[5 rows x 121 columns]",
      "text/html": "<div>\n<style scoped>\n    .dataframe tbody tr th:only-of-type {\n        vertical-align: middle;\n    }\n\n    .dataframe tbody tr th {\n        vertical-align: top;\n    }\n\n    .dataframe thead th {\n        text-align: right;\n    }\n</style>\n<table border=\"1\" class=\"dataframe\">\n  <thead>\n    <tr style=\"text-align: right;\">\n      <th></th>\n      <th>inn</th>\n      <th>ogrn</th>\n      <th>main_okved</th>\n      <th>name</th>\n      <th>address</th>\n      <th>type</th>\n      <th>status</th>\n      <th>okved</th>\n      <th>date_reg</th>\n      <th>comments</th>\n      <th>...</th>\n      <th>founding_year</th>\n      <th>founding_month</th>\n      <th>name_okved</th>\n      <th>currency</th>\n      <th>inflation_by_2022</th>\n      <th>investments</th>\n      <th>inflation</th>\n      <th>total_profit</th>\n      <th>breaking_even</th>\n      <th>payback_time</th>\n    </tr>\n  </thead>\n  <tbody>\n    <tr>\n      <th>0</th>\n      <td>7813213777</td>\n      <td>1157847038062</td>\n      <td>62.01</td>\n      <td>ООО \"СТИЛЬ\"</td>\n      <td>194044, г. Санкт-Петербург, пр-кт Большой Сампсониевский, 47 литер а, кв. 107</td>\n      <td>коммерческая</td>\n      <td>в процессе ликвидации</td>\n      <td>['26.20', '26.51.8', '62.02', '62.09', '63.11', '63.11.1']</td>\n      <td>2015-02-06</td>\n      <td>Организация находится в стадии ликвидидации с 12.10.2021.</td>\n      <td>...</td>\n      <td>2015</td>\n      <td>2</td>\n      <td>Разработка компьютерного программного обеспечения</td>\n      <td>60.9579</td>\n      <td>1.4904</td>\n      <td>10.000000</td>\n      <td>1.1291</td>\n      <td>22</td>\n      <td>1</td>\n      <td>1</td>\n    </tr>\n    <tr>\n      <th>1</th>\n      <td>7813213777</td>\n      <td>1157847038062</td>\n      <td>62.01</td>\n      <td>ООО \"СТИЛЬ\"</td>\n      <td>194044, г. Санкт-Петербург, пр-кт Большой Сампсониевский, 47 литер а, кв. 107</td>\n      <td>коммерческая</td>\n      <td>в процессе ликвидации</td>\n      <td>['26.20', '26.51.8', '62.02', '62.09', '63.11', '63.11.1']</td>\n      <td>2015-02-06</td>\n      <td>Организация находится в стадии ликвидидации с 12.10.2021.</td>\n      <td>...</td>\n      <td>2015</td>\n      <td>2</td>\n      <td>Разработка компьютерного программного обеспечения</td>\n      <td>67.0349</td>\n      <td>1.3200</td>\n      <td>11.291000</td>\n      <td>1.0538</td>\n      <td>57</td>\n      <td>1</td>\n      <td>1</td>\n    </tr>\n    <tr>\n      <th>2</th>\n      <td>7813213777</td>\n      <td>1157847038062</td>\n      <td>62.01</td>\n      <td>ООО \"СТИЛЬ\"</td>\n      <td>194044, г. Санкт-Петербург, пр-кт Большой Сампсониевский, 47 литер а, кв. 107</td>\n      <td>коммерческая</td>\n      <td>в процессе ликвидации</td>\n      <td>['26.20', '26.51.8', '62.02', '62.09', '63.11', '63.11.1']</td>\n      <td>2015-02-06</td>\n      <td>Организация находится в стадии ликвидидации с 12.10.2021.</td>\n      <td>...</td>\n      <td>2015</td>\n      <td>2</td>\n      <td>Разработка компьютерного программного обеспечения</td>\n      <td>58.3529</td>\n      <td>1.2527</td>\n      <td>11.898456</td>\n      <td>1.0252</td>\n      <td>148</td>\n      <td>1</td>\n      <td>1</td>\n    </tr>\n    <tr>\n      <th>3</th>\n      <td>7813213777</td>\n      <td>1157847038062</td>\n      <td>62.01</td>\n      <td>ООО \"СТИЛЬ\"</td>\n      <td>194044, г. Санкт-Петербург, пр-кт Большой Сампсониевский, 47 литер а, кв. 107</td>\n      <td>коммерческая</td>\n      <td>в процессе ликвидации</td>\n      <td>['26.20', '26.51.8', '62.02', '62.09', '63.11', '63.11.1']</td>\n      <td>2015-02-06</td>\n      <td>Организация находится в стадии ликвидидации с 12.10.2021.</td>\n      <td>...</td>\n      <td>2015</td>\n      <td>2</td>\n      <td>Разработка компьютерного программного обеспечения</td>\n      <td>62.7078</td>\n      <td>1.2218</td>\n      <td>12.198297</td>\n      <td>1.0427</td>\n      <td>430</td>\n      <td>1</td>\n      <td>1</td>\n    </tr>\n    <tr>\n      <th>4</th>\n      <td>7813213777</td>\n      <td>1157847038062</td>\n      <td>62.01</td>\n      <td>ООО \"СТИЛЬ\"</td>\n      <td>194044, г. Санкт-Петербург, пр-кт Большой Сампсониевский, 47 литер а, кв. 107</td>\n      <td>коммерческая</td>\n      <td>в процессе ликвидации</td>\n      <td>['26.20', '26.51.8', '62.02', '62.09', '63.11', '63.11.1']</td>\n      <td>2015-02-06</td>\n      <td>Организация находится в стадии ликвидидации с 12.10.2021.</td>\n      <td>...</td>\n      <td>2015</td>\n      <td>2</td>\n      <td>Разработка компьютерного программного обеспечения</td>\n      <td>64.7362</td>\n      <td>1.1718</td>\n      <td>12.719164</td>\n      <td>1.0305</td>\n      <td>677</td>\n      <td>1</td>\n      <td>1</td>\n    </tr>\n  </tbody>\n</table>\n<p>5 rows × 121 columns</p>\n</div>"
     },
     "execution_count": 169,
     "metadata": {},
     "output_type": "execute_result"
    }
   ],
   "source": [
    "data_spb = pd.read_csv('data/df_spb_all_upd.csv')\n",
    "combine_equals(data_spb)\n",
    "data_spb.head()"
   ],
   "metadata": {
    "collapsed": false,
    "pycharm": {
     "name": "#%%\n"
    }
   }
  },
  {
   "cell_type": "code",
   "execution_count": 170,
   "outputs": [
    {
     "data": {
      "text/plain": "set()"
     },
     "execution_count": 170,
     "metadata": {},
     "output_type": "execute_result"
    }
   ],
   "source": [
    "# Колонки в наборе отличаются по кол-ву\n",
    "diff_columns = list(set(data_msk.columns).symmetric_difference(set(data_spb.columns)))\n",
    "data_msk.drop(diff_columns, axis=1, inplace=True, errors='ignore')\n",
    "data_spb.drop(diff_columns, axis=1, inplace=True, errors='ignore')\n",
    "set(data_msk.columns).symmetric_difference(set(data_spb.columns))"
   ],
   "metadata": {
    "collapsed": false,
    "pycharm": {
     "name": "#%%\n"
    }
   }
  },
  {
   "cell_type": "code",
   "execution_count": 171,
   "outputs": [
    {
     "data": {
      "text/plain": "0"
     },
     "execution_count": 171,
     "metadata": {},
     "output_type": "execute_result"
    }
   ],
   "source": [
    "# И по порядку следования\n",
    "data_msk = data_msk.reindex(sorted(data_msk.columns), axis=1)\n",
    "data_spb = data_spb.reindex(sorted(data_msk.columns), axis=1)\n",
    "np.sum(data_msk.columns != data_spb.columns)"
   ],
   "metadata": {
    "collapsed": false,
    "pycharm": {
     "name": "#%%\n"
    }
   }
  },
  {
   "cell_type": "code",
   "execution_count": 172,
   "outputs": [
    {
     "data": {
      "text/plain": "                                    address  bankrupt  breaking_even  \\\n0  109542, г. Москва, пр-кт Рязанский, 86/1         0              0   \n1  109542, г. Москва, пр-кт Рязанский, 86/1         0              0   \n2  109542, г. Москва, пр-кт Рязанский, 86/1         0              0   \n3  109542, г. Москва, пр-кт Рязанский, 86/1         0              0   \n4  109542, г. Москва, пр-кт Рязанский, 86/1         0              0   \n\n   com_uncom  \\\n0          0   \n1          0   \n2          0   \n3          0   \n4          0   \n\n                                                                                                                               comments  \\\n0  Обратите внимание, АНО ВО \"ИНО\" является некоммерческой организацией, то есть извлечение прибыли для нее не является основной целью.   \n1  Обратите внимание, АНО ВО \"ИНО\" является некоммерческой организацией, то есть извлечение прибыли для нее не является основной целью.   \n2  Обратите внимание, АНО ВО \"ИНО\" является некоммерческой организацией, то есть извлечение прибыли для нее не является основной целью.   \n3  Обратите внимание, АНО ВО \"ИНО\" является некоммерческой организацией, то есть извлечение прибыли для нее не является основной целью.   \n4  Обратите внимание, АНО ВО \"ИНО\" является некоммерческой организацией, то есть извлечение прибыли для нее не является основной целью.   \n\n   currency    date_reg  founding_month  founding_year  ind_1100  ...  \\\n0   67.0349  2016-02-15               2           2016     11796  ...   \n1   58.3529  2016-02-15               2           2016     11338  ...   \n2   62.7078  2016-02-15               2           2016     10748  ...   \n3   64.7362  2016-02-15               2           2016     10261  ...   \n4   72.1464  2016-02-15               2           2016      9735  ...   \n\n                                                                                            name  \\\n0  АВТОНОМНАЯ НЕКОММЕРЧЕСКАЯ ОРГАНИЗАЦИЯ ВЫСШЕГО ОБРАЗОВАНИЯ «ИНСТИТУТ НЕПРЕРЫВНОГО ОБРАЗОВАНИЯ»   \n1  АВТОНОМНАЯ НЕКОММЕРЧЕСКАЯ ОРГАНИЗАЦИЯ ВЫСШЕГО ОБРАЗОВАНИЯ «ИНСТИТУТ НЕПРЕРЫВНОГО ОБРАЗОВАНИЯ»   \n2  АВТОНОМНАЯ НЕКОММЕРЧЕСКАЯ ОРГАНИЗАЦИЯ ВЫСШЕГО ОБРАЗОВАНИЯ «ИНСТИТУТ НЕПРЕРЫВНОГО ОБРАЗОВАНИЯ»   \n3  АВТОНОМНАЯ НЕКОММЕРЧЕСКАЯ ОРГАНИЗАЦИЯ ВЫСШЕГО ОБРАЗОВАНИЯ «ИНСТИТУТ НЕПРЕРЫВНОГО ОБРАЗОВАНИЯ»   \n4  АВТОНОМНАЯ НЕКОММЕРЧЕСКАЯ ОРГАНИЗАЦИЯ ВЫСШЕГО ОБРАЗОВАНИЯ «ИНСТИТУТ НЕПРЕРЫВНОГО ОБРАЗОВАНИЯ»   \n\n           name_okved           ogrn  \\\n0  Образование высшее  1167700052233   \n1  Образование высшее  1167700052233   \n2  Образование высшее  1167700052233   \n3  Образование высшее  1167700052233   \n4  Образование высшее  1167700052233   \n\n                                                                                        okved  \\\n0  ['18.11', '18.12', '18.14', '18.20', '52.10', '55.20', '55.90', '56.29', '58.11', '58.13']   \n1  ['18.11', '18.12', '18.14', '18.20', '52.10', '55.20', '55.90', '56.29', '58.11', '58.13']   \n2  ['18.11', '18.12', '18.14', '18.20', '52.10', '55.20', '55.90', '56.29', '58.11', '58.13']   \n3  ['18.11', '18.12', '18.14', '18.20', '52.10', '55.20', '55.90', '56.29', '58.11', '58.13']   \n4  ['18.11', '18.12', '18.14', '18.20', '52.10', '55.20', '55.90', '56.29', '58.11', '58.13']   \n\n   payback_time       status  total_profit                      type  year  \\\n0            -1  действующая             0  некоммерческая унитарная  2016   \n1            -1  действующая             0  некоммерческая унитарная  2017   \n2            -1  действующая             0  некоммерческая унитарная  2018   \n3            -1  действующая             0  некоммерческая унитарная  2019   \n4            -1  действующая             0  некоммерческая унитарная  2020   \n\n   region  \n0     msk  \n1     msk  \n2     msk  \n3     msk  \n4     msk  \n\n[5 rows x 122 columns]",
      "text/html": "<div>\n<style scoped>\n    .dataframe tbody tr th:only-of-type {\n        vertical-align: middle;\n    }\n\n    .dataframe tbody tr th {\n        vertical-align: top;\n    }\n\n    .dataframe thead th {\n        text-align: right;\n    }\n</style>\n<table border=\"1\" class=\"dataframe\">\n  <thead>\n    <tr style=\"text-align: right;\">\n      <th></th>\n      <th>address</th>\n      <th>bankrupt</th>\n      <th>breaking_even</th>\n      <th>com_uncom</th>\n      <th>comments</th>\n      <th>currency</th>\n      <th>date_reg</th>\n      <th>founding_month</th>\n      <th>founding_year</th>\n      <th>ind_1100</th>\n      <th>...</th>\n      <th>name</th>\n      <th>name_okved</th>\n      <th>ogrn</th>\n      <th>okved</th>\n      <th>payback_time</th>\n      <th>status</th>\n      <th>total_profit</th>\n      <th>type</th>\n      <th>year</th>\n      <th>region</th>\n    </tr>\n  </thead>\n  <tbody>\n    <tr>\n      <th>0</th>\n      <td>109542, г. Москва, пр-кт Рязанский, 86/1</td>\n      <td>0</td>\n      <td>0</td>\n      <td>0</td>\n      <td>Обратите внимание, АНО ВО \"ИНО\" является некоммерческой организацией, то есть извлечение прибыли для нее не является основной целью.</td>\n      <td>67.0349</td>\n      <td>2016-02-15</td>\n      <td>2</td>\n      <td>2016</td>\n      <td>11796</td>\n      <td>...</td>\n      <td>АВТОНОМНАЯ НЕКОММЕРЧЕСКАЯ ОРГАНИЗАЦИЯ ВЫСШЕГО ОБРАЗОВАНИЯ «ИНСТИТУТ НЕПРЕРЫВНОГО ОБРАЗОВАНИЯ»</td>\n      <td>Образование высшее</td>\n      <td>1167700052233</td>\n      <td>['18.11', '18.12', '18.14', '18.20', '52.10', '55.20', '55.90', '56.29', '58.11', '58.13']</td>\n      <td>-1</td>\n      <td>действующая</td>\n      <td>0</td>\n      <td>некоммерческая унитарная</td>\n      <td>2016</td>\n      <td>msk</td>\n    </tr>\n    <tr>\n      <th>1</th>\n      <td>109542, г. Москва, пр-кт Рязанский, 86/1</td>\n      <td>0</td>\n      <td>0</td>\n      <td>0</td>\n      <td>Обратите внимание, АНО ВО \"ИНО\" является некоммерческой организацией, то есть извлечение прибыли для нее не является основной целью.</td>\n      <td>58.3529</td>\n      <td>2016-02-15</td>\n      <td>2</td>\n      <td>2016</td>\n      <td>11338</td>\n      <td>...</td>\n      <td>АВТОНОМНАЯ НЕКОММЕРЧЕСКАЯ ОРГАНИЗАЦИЯ ВЫСШЕГО ОБРАЗОВАНИЯ «ИНСТИТУТ НЕПРЕРЫВНОГО ОБРАЗОВАНИЯ»</td>\n      <td>Образование высшее</td>\n      <td>1167700052233</td>\n      <td>['18.11', '18.12', '18.14', '18.20', '52.10', '55.20', '55.90', '56.29', '58.11', '58.13']</td>\n      <td>-1</td>\n      <td>действующая</td>\n      <td>0</td>\n      <td>некоммерческая унитарная</td>\n      <td>2017</td>\n      <td>msk</td>\n    </tr>\n    <tr>\n      <th>2</th>\n      <td>109542, г. Москва, пр-кт Рязанский, 86/1</td>\n      <td>0</td>\n      <td>0</td>\n      <td>0</td>\n      <td>Обратите внимание, АНО ВО \"ИНО\" является некоммерческой организацией, то есть извлечение прибыли для нее не является основной целью.</td>\n      <td>62.7078</td>\n      <td>2016-02-15</td>\n      <td>2</td>\n      <td>2016</td>\n      <td>10748</td>\n      <td>...</td>\n      <td>АВТОНОМНАЯ НЕКОММЕРЧЕСКАЯ ОРГАНИЗАЦИЯ ВЫСШЕГО ОБРАЗОВАНИЯ «ИНСТИТУТ НЕПРЕРЫВНОГО ОБРАЗОВАНИЯ»</td>\n      <td>Образование высшее</td>\n      <td>1167700052233</td>\n      <td>['18.11', '18.12', '18.14', '18.20', '52.10', '55.20', '55.90', '56.29', '58.11', '58.13']</td>\n      <td>-1</td>\n      <td>действующая</td>\n      <td>0</td>\n      <td>некоммерческая унитарная</td>\n      <td>2018</td>\n      <td>msk</td>\n    </tr>\n    <tr>\n      <th>3</th>\n      <td>109542, г. Москва, пр-кт Рязанский, 86/1</td>\n      <td>0</td>\n      <td>0</td>\n      <td>0</td>\n      <td>Обратите внимание, АНО ВО \"ИНО\" является некоммерческой организацией, то есть извлечение прибыли для нее не является основной целью.</td>\n      <td>64.7362</td>\n      <td>2016-02-15</td>\n      <td>2</td>\n      <td>2016</td>\n      <td>10261</td>\n      <td>...</td>\n      <td>АВТОНОМНАЯ НЕКОММЕРЧЕСКАЯ ОРГАНИЗАЦИЯ ВЫСШЕГО ОБРАЗОВАНИЯ «ИНСТИТУТ НЕПРЕРЫВНОГО ОБРАЗОВАНИЯ»</td>\n      <td>Образование высшее</td>\n      <td>1167700052233</td>\n      <td>['18.11', '18.12', '18.14', '18.20', '52.10', '55.20', '55.90', '56.29', '58.11', '58.13']</td>\n      <td>-1</td>\n      <td>действующая</td>\n      <td>0</td>\n      <td>некоммерческая унитарная</td>\n      <td>2019</td>\n      <td>msk</td>\n    </tr>\n    <tr>\n      <th>4</th>\n      <td>109542, г. Москва, пр-кт Рязанский, 86/1</td>\n      <td>0</td>\n      <td>0</td>\n      <td>0</td>\n      <td>Обратите внимание, АНО ВО \"ИНО\" является некоммерческой организацией, то есть извлечение прибыли для нее не является основной целью.</td>\n      <td>72.1464</td>\n      <td>2016-02-15</td>\n      <td>2</td>\n      <td>2016</td>\n      <td>9735</td>\n      <td>...</td>\n      <td>АВТОНОМНАЯ НЕКОММЕРЧЕСКАЯ ОРГАНИЗАЦИЯ ВЫСШЕГО ОБРАЗОВАНИЯ «ИНСТИТУТ НЕПРЕРЫВНОГО ОБРАЗОВАНИЯ»</td>\n      <td>Образование высшее</td>\n      <td>1167700052233</td>\n      <td>['18.11', '18.12', '18.14', '18.20', '52.10', '55.20', '55.90', '56.29', '58.11', '58.13']</td>\n      <td>-1</td>\n      <td>действующая</td>\n      <td>0</td>\n      <td>некоммерческая унитарная</td>\n      <td>2020</td>\n      <td>msk</td>\n    </tr>\n  </tbody>\n</table>\n<p>5 rows × 122 columns</p>\n</div>"
     },
     "execution_count": 172,
     "metadata": {},
     "output_type": "execute_result"
    }
   ],
   "source": [
    "data_msk['region'] = 'msk'\n",
    "data_spb['region'] = 'spb'\n",
    "data = pd.concat([data_msk, data_spb]).reset_index(drop=True)\n",
    "data.head()"
   ],
   "metadata": {
    "collapsed": false,
    "pycharm": {
     "name": "#%%\n"
    }
   }
  },
  {
   "cell_type": "code",
   "execution_count": 173,
   "outputs": [],
   "source": [
    "#data = pd.read_csv('data/df_spb_all_upd.csv')"
   ],
   "metadata": {
    "collapsed": false,
    "pycharm": {
     "name": "#%%\n"
    }
   }
  },
  {
   "cell_type": "code",
   "execution_count": 174,
   "outputs": [
    {
     "name": "stdout",
     "output_type": "stream",
     "text": [
      "<class 'pandas.core.frame.DataFrame'>\n",
      "RangeIndex: 85684 entries, 0 to 85683\n",
      "Data columns (total 122 columns):\n",
      " #    Column             Non-Null Count  Dtype  \n",
      "---   ------             --------------  -----  \n",
      " 0    address            85684 non-null  object \n",
      " 1    bankrupt           85684 non-null  int64  \n",
      " 2    breaking_even      85684 non-null  int64  \n",
      " 3    com_uncom          85684 non-null  int64  \n",
      " 4    comments           16310 non-null  object \n",
      " 5    currency           85684 non-null  float64\n",
      " 6    date_reg           85684 non-null  object \n",
      " 7    founding_month     85684 non-null  int64  \n",
      " 8    founding_year      85684 non-null  int64  \n",
      " 9    ind_1100           85684 non-null  int64  \n",
      " 10   ind_1110           85684 non-null  int64  \n",
      " 11   ind_1120           85684 non-null  int64  \n",
      " 12   ind_1130           85684 non-null  int64  \n",
      " 13   ind_1140           85684 non-null  int64  \n",
      " 14   ind_1150           85684 non-null  int64  \n",
      " 15   ind_1160           85684 non-null  int64  \n",
      " 16   ind_1170           85684 non-null  int64  \n",
      " 17   ind_1180           85684 non-null  int64  \n",
      " 18   ind_1190           85684 non-null  int64  \n",
      " 19   ind_1200           85684 non-null  int64  \n",
      " 20   ind_1210           85684 non-null  int64  \n",
      " 21   ind_1220           85684 non-null  int64  \n",
      " 22   ind_1230           85684 non-null  int64  \n",
      " 23   ind_1240           85684 non-null  int64  \n",
      " 24   ind_1250           85684 non-null  int64  \n",
      " 25   ind_1260           85684 non-null  int64  \n",
      " 26   ind_1300           85684 non-null  int64  \n",
      " 27   ind_1310           85684 non-null  int64  \n",
      " 28   ind_1320           85684 non-null  int64  \n",
      " 29   ind_1340           85684 non-null  int64  \n",
      " 30   ind_1350           85684 non-null  int64  \n",
      " 31   ind_1360           85684 non-null  int64  \n",
      " 32   ind_1370           85684 non-null  int64  \n",
      " 33   ind_1400           85684 non-null  int64  \n",
      " 34   ind_1410           85684 non-null  int64  \n",
      " 35   ind_1420           85684 non-null  int64  \n",
      " 36   ind_1430           85684 non-null  int64  \n",
      " 37   ind_1450           85684 non-null  int64  \n",
      " 38   ind_1500           85684 non-null  int64  \n",
      " 39   ind_1510           85684 non-null  int64  \n",
      " 40   ind_1520           85684 non-null  int64  \n",
      " 41   ind_1530           85684 non-null  int64  \n",
      " 42   ind_1540           85684 non-null  int64  \n",
      " 43   ind_1550           85684 non-null  int64  \n",
      " 44   ind_1600           85684 non-null  int64  \n",
      " 45   ind_1700           85684 non-null  int64  \n",
      " 46   ind_2100           85684 non-null  int64  \n",
      " 47   ind_2110           85684 non-null  int64  \n",
      " 48   ind_2120           85684 non-null  int64  \n",
      " 49   ind_2200           85684 non-null  int64  \n",
      " 50   ind_2210           85684 non-null  int64  \n",
      " 51   ind_2220           85684 non-null  int64  \n",
      " 52   ind_2300           85684 non-null  int64  \n",
      " 53   ind_2310           85684 non-null  int64  \n",
      " 54   ind_2320           85684 non-null  int64  \n",
      " 55   ind_2330           85684 non-null  int64  \n",
      " 56   ind_2340           85684 non-null  int64  \n",
      " 57   ind_2350           85684 non-null  int64  \n",
      " 58   ind_2400           85684 non-null  int64  \n",
      " 59   ind_2410           85684 non-null  int64  \n",
      " 60   ind_2412           85684 non-null  int64  \n",
      " 61   ind_2430           85684 non-null  int64  \n",
      " 62   ind_2450           85684 non-null  int64  \n",
      " 63   ind_2460           85684 non-null  int64  \n",
      " 64   ind_2500           85684 non-null  int64  \n",
      " 65   ind_2510           85684 non-null  int64  \n",
      " 66   ind_2520           85684 non-null  int64  \n",
      " 67   ind_4100           85684 non-null  int64  \n",
      " 68   ind_4110           85684 non-null  int64  \n",
      " 69   ind_4111           85684 non-null  int64  \n",
      " 70   ind_4119           85684 non-null  int64  \n",
      " 71   ind_4120           85684 non-null  int64  \n",
      " 72   ind_4121           85684 non-null  int64  \n",
      " 73   ind_4122           85684 non-null  int64  \n",
      " 74   ind_4123           85684 non-null  int64  \n",
      " 75   ind_4124           85684 non-null  int64  \n",
      " 76   ind_4129           85684 non-null  int64  \n",
      " 77   ind_4200           85684 non-null  int64  \n",
      " 78   ind_4210           85684 non-null  int64  \n",
      " 79   ind_4211           85684 non-null  int64  \n",
      " 80   ind_4213           85684 non-null  int64  \n",
      " 81   ind_4219           85684 non-null  int64  \n",
      " 82   ind_4220           85684 non-null  int64  \n",
      " 83   ind_4221           85684 non-null  int64  \n",
      " 84   ind_4223           85684 non-null  int64  \n",
      " 85   ind_4229           85684 non-null  int64  \n",
      " 86   ind_4300           85684 non-null  int64  \n",
      " 87   ind_4310           85684 non-null  int64  \n",
      " 88   ind_4311           85684 non-null  int64  \n",
      " 89   ind_4312           85684 non-null  int64  \n",
      " 90   ind_4319           85684 non-null  int64  \n",
      " 91   ind_4320           85684 non-null  int64  \n",
      " 92   ind_4323           85684 non-null  int64  \n",
      " 93   ind_4329           85684 non-null  int64  \n",
      " 94   ind_4400           85684 non-null  int64  \n",
      " 95   ind_4450           85684 non-null  int64  \n",
      " 96   ind_4490           85684 non-null  int64  \n",
      " 97   ind_4500           85684 non-null  int64  \n",
      " 98   ind_6100           85684 non-null  int64  \n",
      " 99   ind_6220           85684 non-null  int64  \n",
      " 100  ind_6240           85684 non-null  int64  \n",
      " 101  ind_6250           85684 non-null  int64  \n",
      " 102  ind_6310           85684 non-null  int64  \n",
      " 103  ind_6320           85684 non-null  int64  \n",
      " 104  ind_6330           85684 non-null  int64  \n",
      " 105  ind_6350           85684 non-null  int64  \n",
      " 106  ind_6400           85684 non-null  int64  \n",
      " 107  inflation          85684 non-null  float64\n",
      " 108  inflation_by_2022  85684 non-null  float64\n",
      " 109  inn                85684 non-null  int64  \n",
      " 110  investments        85684 non-null  float64\n",
      " 111  main_okved         85684 non-null  object \n",
      " 112  name               85684 non-null  object \n",
      " 113  name_okved         85684 non-null  object \n",
      " 114  ogrn               85684 non-null  int64  \n",
      " 115  okved              85684 non-null  object \n",
      " 116  payback_time       85684 non-null  int64  \n",
      " 117  status             85684 non-null  object \n",
      " 118  total_profit       85684 non-null  int64  \n",
      " 119  type               85684 non-null  object \n",
      " 120  year               85684 non-null  int64  \n",
      " 121  region             85684 non-null  object \n",
      "dtypes: float64(4), int64(108), object(10)\n",
      "memory usage: 79.8+ MB\n"
     ]
    }
   ],
   "source": [
    "data.info(max_cols=200)"
   ],
   "metadata": {
    "collapsed": false,
    "pycharm": {
     "name": "#%%\n"
    }
   }
  },
  {
   "cell_type": "code",
   "execution_count": 175,
   "outputs": [
    {
     "name": "stdout",
     "output_type": "stream",
     "text": [
      "<class 'pandas.core.frame.DataFrame'>\n",
      "RangeIndex: 85684 entries, 0 to 85683\n",
      "Data columns (total 122 columns):\n",
      " #    Column             Non-Null Count  Dtype         \n",
      "---   ------             --------------  -----         \n",
      " 0    address            85684 non-null  object        \n",
      " 1    bankrupt           85684 non-null  int64         \n",
      " 2    breaking_even      85684 non-null  int64         \n",
      " 3    com_uncom          85684 non-null  int64         \n",
      " 4    comments           85684 non-null  object        \n",
      " 5    currency           85684 non-null  float64       \n",
      " 6    date_reg           85684 non-null  datetime64[ns]\n",
      " 7    founding_month     85684 non-null  int64         \n",
      " 8    founding_year      85684 non-null  int64         \n",
      " 9    ind_1100           85684 non-null  float64       \n",
      " 10   ind_1110           85684 non-null  float64       \n",
      " 11   ind_1120           85684 non-null  float64       \n",
      " 12   ind_1130           85684 non-null  float64       \n",
      " 13   ind_1140           85684 non-null  float64       \n",
      " 14   ind_1150           85684 non-null  float64       \n",
      " 15   ind_1160           85684 non-null  float64       \n",
      " 16   ind_1170           85684 non-null  float64       \n",
      " 17   ind_1180           85684 non-null  float64       \n",
      " 18   ind_1190           85684 non-null  float64       \n",
      " 19   ind_1200           85684 non-null  float64       \n",
      " 20   ind_1210           85684 non-null  float64       \n",
      " 21   ind_1220           85684 non-null  float64       \n",
      " 22   ind_1230           85684 non-null  float64       \n",
      " 23   ind_1240           85684 non-null  float64       \n",
      " 24   ind_1250           85684 non-null  float64       \n",
      " 25   ind_1260           85684 non-null  float64       \n",
      " 26   ind_1300           85684 non-null  float64       \n",
      " 27   ind_1310           85684 non-null  float64       \n",
      " 28   ind_1320           85684 non-null  float64       \n",
      " 29   ind_1340           85684 non-null  float64       \n",
      " 30   ind_1350           85684 non-null  float64       \n",
      " 31   ind_1360           85684 non-null  float64       \n",
      " 32   ind_1370           85684 non-null  float64       \n",
      " 33   ind_1400           85684 non-null  float64       \n",
      " 34   ind_1410           85684 non-null  float64       \n",
      " 35   ind_1420           85684 non-null  float64       \n",
      " 36   ind_1430           85684 non-null  float64       \n",
      " 37   ind_1450           85684 non-null  float64       \n",
      " 38   ind_1500           85684 non-null  float64       \n",
      " 39   ind_1510           85684 non-null  float64       \n",
      " 40   ind_1520           85684 non-null  float64       \n",
      " 41   ind_1530           85684 non-null  float64       \n",
      " 42   ind_1540           85684 non-null  float64       \n",
      " 43   ind_1550           85684 non-null  float64       \n",
      " 44   ind_1600           85684 non-null  float64       \n",
      " 45   ind_1700           85684 non-null  float64       \n",
      " 46   ind_2100           85684 non-null  float64       \n",
      " 47   ind_2110           85684 non-null  float64       \n",
      " 48   ind_2120           85684 non-null  float64       \n",
      " 49   ind_2200           85684 non-null  float64       \n",
      " 50   ind_2210           85684 non-null  float64       \n",
      " 51   ind_2220           85684 non-null  float64       \n",
      " 52   ind_2300           85684 non-null  float64       \n",
      " 53   ind_2310           85684 non-null  float64       \n",
      " 54   ind_2320           85684 non-null  float64       \n",
      " 55   ind_2330           85684 non-null  float64       \n",
      " 56   ind_2340           85684 non-null  float64       \n",
      " 57   ind_2350           85684 non-null  float64       \n",
      " 58   ind_2400           85684 non-null  float64       \n",
      " 59   ind_2410           85684 non-null  float64       \n",
      " 60   ind_2412           85684 non-null  float64       \n",
      " 61   ind_2430           85684 non-null  float64       \n",
      " 62   ind_2450           85684 non-null  float64       \n",
      " 63   ind_2460           85684 non-null  float64       \n",
      " 64   ind_2500           85684 non-null  float64       \n",
      " 65   ind_2510           85684 non-null  float64       \n",
      " 66   ind_2520           85684 non-null  float64       \n",
      " 67   ind_4100           85684 non-null  float64       \n",
      " 68   ind_4110           85684 non-null  float64       \n",
      " 69   ind_4111           85684 non-null  float64       \n",
      " 70   ind_4119           85684 non-null  float64       \n",
      " 71   ind_4120           85684 non-null  float64       \n",
      " 72   ind_4121           85684 non-null  float64       \n",
      " 73   ind_4122           85684 non-null  float64       \n",
      " 74   ind_4123           85684 non-null  float64       \n",
      " 75   ind_4124           85684 non-null  float64       \n",
      " 76   ind_4129           85684 non-null  float64       \n",
      " 77   ind_4200           85684 non-null  float64       \n",
      " 78   ind_4210           85684 non-null  float64       \n",
      " 79   ind_4211           85684 non-null  float64       \n",
      " 80   ind_4213           85684 non-null  float64       \n",
      " 81   ind_4219           85684 non-null  float64       \n",
      " 82   ind_4220           85684 non-null  float64       \n",
      " 83   ind_4221           85684 non-null  float64       \n",
      " 84   ind_4223           85684 non-null  float64       \n",
      " 85   ind_4229           85684 non-null  float64       \n",
      " 86   ind_4300           85684 non-null  float64       \n",
      " 87   ind_4310           85684 non-null  float64       \n",
      " 88   ind_4311           85684 non-null  float64       \n",
      " 89   ind_4312           85684 non-null  float64       \n",
      " 90   ind_4319           85684 non-null  float64       \n",
      " 91   ind_4320           85684 non-null  float64       \n",
      " 92   ind_4323           85684 non-null  float64       \n",
      " 93   ind_4329           85684 non-null  float64       \n",
      " 94   ind_4400           85684 non-null  float64       \n",
      " 95   ind_4450           85684 non-null  float64       \n",
      " 96   ind_4490           85684 non-null  float64       \n",
      " 97   ind_4500           85684 non-null  float64       \n",
      " 98   ind_6100           85684 non-null  float64       \n",
      " 99   ind_6220           85684 non-null  float64       \n",
      " 100  ind_6240           85684 non-null  float64       \n",
      " 101  ind_6250           85684 non-null  float64       \n",
      " 102  ind_6310           85684 non-null  float64       \n",
      " 103  ind_6320           85684 non-null  float64       \n",
      " 104  ind_6330           85684 non-null  float64       \n",
      " 105  ind_6350           85684 non-null  float64       \n",
      " 106  ind_6400           85684 non-null  float64       \n",
      " 107  inflation          85684 non-null  float64       \n",
      " 108  inflation_by_2022  85684 non-null  float64       \n",
      " 109  inn                85684 non-null  object        \n",
      " 110  investments        85684 non-null  float64       \n",
      " 111  main_okved         85684 non-null  object        \n",
      " 112  name               85684 non-null  object        \n",
      " 113  name_okved         85684 non-null  object        \n",
      " 114  ogrn               85684 non-null  object        \n",
      " 115  okved              85684 non-null  object        \n",
      " 116  payback_time       85684 non-null  int64         \n",
      " 117  status             85684 non-null  object        \n",
      " 118  total_profit       85684 non-null  int64         \n",
      " 119  type               85684 non-null  object        \n",
      " 120  year               85684 non-null  int64         \n",
      " 121  region             85684 non-null  object        \n",
      "dtypes: datetime64[ns](1), float64(102), int64(8), object(11)\n",
      "memory usage: 79.8+ MB\n"
     ]
    }
   ],
   "source": [
    "# Сразу типмизируем, чтоб не путаться\n",
    "data['inn'] = data['inn'].astype(str)\n",
    "data['ogrn'] = data['ogrn'].astype(str)\n",
    "data['main_okved'] = data['main_okved'].astype(str)\n",
    "data['name'] = data['name'].astype(str)\n",
    "data['address'] = data['address'].astype(str)\n",
    "data['type'] = data['type'].astype(str)\n",
    "data['status'] = data['status'].astype(str)\n",
    "#data['okved'] = data['okved'].apply(lambda x: x[1:-1].split(','))\n",
    "data['date_reg'] = pd.to_datetime(data['date_reg'])\n",
    "data['comments'] = data['comments'].astype(str)\n",
    "data['year'] = data['year'].astype(int)\n",
    "data[[c for c in data.columns if c.startswith('ind_')]] = data[[c for c in data.columns if c.startswith('ind_')]].astype(float)\n",
    "data.info(max_cols=200)"
   ],
   "metadata": {
    "collapsed": false,
    "pycharm": {
     "name": "#%%\n"
    }
   }
  },
  {
   "cell_type": "code",
   "execution_count": 176,
   "outputs": [],
   "source": [
    "data = data[data['year'] < 2020]"
   ],
   "metadata": {
    "collapsed": false,
    "pycharm": {
     "name": "#%%\n"
    }
   }
  },
  {
   "cell_type": "code",
   "execution_count": 177,
   "outputs": [],
   "source": [
    "for col in [c for c in data.columns if c.startswith('ind_')]:\n",
    "    data[col] = data[col] / data['currency']"
   ],
   "metadata": {
    "collapsed": false,
    "pycharm": {
     "name": "#%%\n"
    }
   }
  },
  {
   "cell_type": "code",
   "execution_count": 178,
   "outputs": [
    {
     "data": {
      "text/plain": "                                                 address  bankrupt  \\\n0               109542, г. Москва, пр-кт Рязанский, 86/1         0   \n1               109542, г. Москва, пр-кт Рязанский, 86/1         0   \n2               109542, г. Москва, пр-кт Рязанский, 86/1         0   \n3               109542, г. Москва, пр-кт Рязанский, 86/1         0   \n5  117105, г. Москва, проезд Нагорный, 5, эт. 2 каб. 213         0   \n\n   breaking_even  com_uncom  \\\n0              0          0   \n1              0          0   \n2              0          0   \n3              0          0   \n5              0          1   \n\n                                                                                                                               comments  \\\n0  Обратите внимание, АНО ВО \"ИНО\" является некоммерческой организацией, то есть извлечение прибыли для нее не является основной целью.   \n1  Обратите внимание, АНО ВО \"ИНО\" является некоммерческой организацией, то есть извлечение прибыли для нее не является основной целью.   \n2  Обратите внимание, АНО ВО \"ИНО\" является некоммерческой организацией, то есть извлечение прибыли для нее не является основной целью.   \n3  Обратите внимание, АНО ВО \"ИНО\" является некоммерческой организацией, то есть извлечение прибыли для нее не является основной целью.   \n5                                                                                                                                   nan   \n\n   currency   date_reg  founding_month  founding_year    ind_1100  ...  \\\n0   67.0349 2016-02-15               2           2016  175.968041  ...   \n1   58.3529 2016-02-15               2           2016  194.300540  ...   \n2   62.7078 2016-02-15               2           2016  171.398135  ...   \n3   64.7362 2016-02-15               2           2016  158.504824  ...   \n5   29.3874 2011-05-26               5           2011   12.250148  ...   \n\n                                          name_okved           ogrn  \\\n0                                 Образование высшее  1167700052233   \n1                                 Образование высшее  1167700052233   \n2                                 Образование высшее  1167700052233   \n3                                 Образование высшее  1167700052233   \n5  Разработка компьютерного программного обеспечения  1117746406810   \n\n                                                                                        okved  \\\n0  ['18.11', '18.12', '18.14', '18.20', '52.10', '55.20', '55.90', '56.29', '58.11', '58.13']   \n1  ['18.11', '18.12', '18.14', '18.20', '52.10', '55.20', '55.90', '56.29', '58.11', '58.13']   \n2  ['18.11', '18.12', '18.14', '18.20', '52.10', '55.20', '55.90', '56.29', '58.11', '58.13']   \n3  ['18.11', '18.12', '18.14', '18.20', '52.10', '55.20', '55.90', '56.29', '58.11', '58.13']   \n5              ['62.02', '62.09', '63.11.1', '70.22', '71.11.1', '72.19', '85.42.9', '95.11']   \n\n   payback_time       status  total_profit                      type  year  \\\n0            -1  действующая             0  некоммерческая унитарная  2016   \n1            -1  действующая             0  некоммерческая унитарная  2017   \n2            -1  действующая             0  некоммерческая унитарная  2018   \n3            -1  действующая             0  некоммерческая унитарная  2019   \n5            -1  действующая         -1771              коммерческая  2011   \n\n   region  first_year  \n0     msk        2016  \n1     msk        2016  \n2     msk        2016  \n3     msk        2016  \n5     msk        2011  \n\n[5 rows x 123 columns]",
      "text/html": "<div>\n<style scoped>\n    .dataframe tbody tr th:only-of-type {\n        vertical-align: middle;\n    }\n\n    .dataframe tbody tr th {\n        vertical-align: top;\n    }\n\n    .dataframe thead th {\n        text-align: right;\n    }\n</style>\n<table border=\"1\" class=\"dataframe\">\n  <thead>\n    <tr style=\"text-align: right;\">\n      <th></th>\n      <th>address</th>\n      <th>bankrupt</th>\n      <th>breaking_even</th>\n      <th>com_uncom</th>\n      <th>comments</th>\n      <th>currency</th>\n      <th>date_reg</th>\n      <th>founding_month</th>\n      <th>founding_year</th>\n      <th>ind_1100</th>\n      <th>...</th>\n      <th>name_okved</th>\n      <th>ogrn</th>\n      <th>okved</th>\n      <th>payback_time</th>\n      <th>status</th>\n      <th>total_profit</th>\n      <th>type</th>\n      <th>year</th>\n      <th>region</th>\n      <th>first_year</th>\n    </tr>\n  </thead>\n  <tbody>\n    <tr>\n      <th>0</th>\n      <td>109542, г. Москва, пр-кт Рязанский, 86/1</td>\n      <td>0</td>\n      <td>0</td>\n      <td>0</td>\n      <td>Обратите внимание, АНО ВО \"ИНО\" является некоммерческой организацией, то есть извлечение прибыли для нее не является основной целью.</td>\n      <td>67.0349</td>\n      <td>2016-02-15</td>\n      <td>2</td>\n      <td>2016</td>\n      <td>175.968041</td>\n      <td>...</td>\n      <td>Образование высшее</td>\n      <td>1167700052233</td>\n      <td>['18.11', '18.12', '18.14', '18.20', '52.10', '55.20', '55.90', '56.29', '58.11', '58.13']</td>\n      <td>-1</td>\n      <td>действующая</td>\n      <td>0</td>\n      <td>некоммерческая унитарная</td>\n      <td>2016</td>\n      <td>msk</td>\n      <td>2016</td>\n    </tr>\n    <tr>\n      <th>1</th>\n      <td>109542, г. Москва, пр-кт Рязанский, 86/1</td>\n      <td>0</td>\n      <td>0</td>\n      <td>0</td>\n      <td>Обратите внимание, АНО ВО \"ИНО\" является некоммерческой организацией, то есть извлечение прибыли для нее не является основной целью.</td>\n      <td>58.3529</td>\n      <td>2016-02-15</td>\n      <td>2</td>\n      <td>2016</td>\n      <td>194.300540</td>\n      <td>...</td>\n      <td>Образование высшее</td>\n      <td>1167700052233</td>\n      <td>['18.11', '18.12', '18.14', '18.20', '52.10', '55.20', '55.90', '56.29', '58.11', '58.13']</td>\n      <td>-1</td>\n      <td>действующая</td>\n      <td>0</td>\n      <td>некоммерческая унитарная</td>\n      <td>2017</td>\n      <td>msk</td>\n      <td>2016</td>\n    </tr>\n    <tr>\n      <th>2</th>\n      <td>109542, г. Москва, пр-кт Рязанский, 86/1</td>\n      <td>0</td>\n      <td>0</td>\n      <td>0</td>\n      <td>Обратите внимание, АНО ВО \"ИНО\" является некоммерческой организацией, то есть извлечение прибыли для нее не является основной целью.</td>\n      <td>62.7078</td>\n      <td>2016-02-15</td>\n      <td>2</td>\n      <td>2016</td>\n      <td>171.398135</td>\n      <td>...</td>\n      <td>Образование высшее</td>\n      <td>1167700052233</td>\n      <td>['18.11', '18.12', '18.14', '18.20', '52.10', '55.20', '55.90', '56.29', '58.11', '58.13']</td>\n      <td>-1</td>\n      <td>действующая</td>\n      <td>0</td>\n      <td>некоммерческая унитарная</td>\n      <td>2018</td>\n      <td>msk</td>\n      <td>2016</td>\n    </tr>\n    <tr>\n      <th>3</th>\n      <td>109542, г. Москва, пр-кт Рязанский, 86/1</td>\n      <td>0</td>\n      <td>0</td>\n      <td>0</td>\n      <td>Обратите внимание, АНО ВО \"ИНО\" является некоммерческой организацией, то есть извлечение прибыли для нее не является основной целью.</td>\n      <td>64.7362</td>\n      <td>2016-02-15</td>\n      <td>2</td>\n      <td>2016</td>\n      <td>158.504824</td>\n      <td>...</td>\n      <td>Образование высшее</td>\n      <td>1167700052233</td>\n      <td>['18.11', '18.12', '18.14', '18.20', '52.10', '55.20', '55.90', '56.29', '58.11', '58.13']</td>\n      <td>-1</td>\n      <td>действующая</td>\n      <td>0</td>\n      <td>некоммерческая унитарная</td>\n      <td>2019</td>\n      <td>msk</td>\n      <td>2016</td>\n    </tr>\n    <tr>\n      <th>5</th>\n      <td>117105, г. Москва, проезд Нагорный, 5, эт. 2 каб. 213</td>\n      <td>0</td>\n      <td>0</td>\n      <td>1</td>\n      <td>nan</td>\n      <td>29.3874</td>\n      <td>2011-05-26</td>\n      <td>5</td>\n      <td>2011</td>\n      <td>12.250148</td>\n      <td>...</td>\n      <td>Разработка компьютерного программного обеспечения</td>\n      <td>1117746406810</td>\n      <td>['62.02', '62.09', '63.11.1', '70.22', '71.11.1', '72.19', '85.42.9', '95.11']</td>\n      <td>-1</td>\n      <td>действующая</td>\n      <td>-1771</td>\n      <td>коммерческая</td>\n      <td>2011</td>\n      <td>msk</td>\n      <td>2011</td>\n    </tr>\n  </tbody>\n</table>\n<p>5 rows × 123 columns</p>\n</div>"
     },
     "execution_count": 178,
     "metadata": {},
     "output_type": "execute_result"
    }
   ],
   "source": [
    "# Год когда появилась первая отчетность компании\n",
    "first_year = data.groupby(['inn'])['year'].min().rename('first_year')\n",
    "data.drop('first_year', axis=1, inplace=True, errors='ignore')\n",
    "data = data.join(first_year, on='inn')\n",
    "data.head()"
   ],
   "metadata": {
    "collapsed": false,
    "pycharm": {
     "name": "#%%\n"
    }
   }
  },
  {
   "cell_type": "code",
   "execution_count": 179,
   "outputs": [
    {
     "data": {
      "text/plain": "                                                 address  bankrupt  \\\n0               109542, г. Москва, пр-кт Рязанский, 86/1         0   \n1               109542, г. Москва, пр-кт Рязанский, 86/1         0   \n2               109542, г. Москва, пр-кт Рязанский, 86/1         0   \n3               109542, г. Москва, пр-кт Рязанский, 86/1         0   \n5  117105, г. Москва, проезд Нагорный, 5, эт. 2 каб. 213         0   \n\n   breaking_even  com_uncom  \\\n0              0          0   \n1              0          0   \n2              0          0   \n3              0          0   \n5              0          1   \n\n                                                                                                                               comments  \\\n0  Обратите внимание, АНО ВО \"ИНО\" является некоммерческой организацией, то есть извлечение прибыли для нее не является основной целью.   \n1  Обратите внимание, АНО ВО \"ИНО\" является некоммерческой организацией, то есть извлечение прибыли для нее не является основной целью.   \n2  Обратите внимание, АНО ВО \"ИНО\" является некоммерческой организацией, то есть извлечение прибыли для нее не является основной целью.   \n3  Обратите внимание, АНО ВО \"ИНО\" является некоммерческой организацией, то есть извлечение прибыли для нее не является основной целью.   \n5                                                                                                                                   nan   \n\n   currency   date_reg  founding_month  founding_year    ind_1100  ...  \\\n0   67.0349 2016-02-15               2           2016  175.968041  ...   \n1   58.3529 2016-02-15               2           2016  194.300540  ...   \n2   62.7078 2016-02-15               2           2016  171.398135  ...   \n3   64.7362 2016-02-15               2           2016  158.504824  ...   \n5   29.3874 2011-05-26               5           2011   12.250148  ...   \n\n            ogrn  \\\n0  1167700052233   \n1  1167700052233   \n2  1167700052233   \n3  1167700052233   \n5  1117746406810   \n\n                                                                                        okved  \\\n0  ['18.11', '18.12', '18.14', '18.20', '52.10', '55.20', '55.90', '56.29', '58.11', '58.13']   \n1  ['18.11', '18.12', '18.14', '18.20', '52.10', '55.20', '55.90', '56.29', '58.11', '58.13']   \n2  ['18.11', '18.12', '18.14', '18.20', '52.10', '55.20', '55.90', '56.29', '58.11', '58.13']   \n3  ['18.11', '18.12', '18.14', '18.20', '52.10', '55.20', '55.90', '56.29', '58.11', '58.13']   \n5              ['62.02', '62.09', '63.11.1', '70.22', '71.11.1', '72.19', '85.42.9', '95.11']   \n\n   payback_time       status  total_profit                      type  year  \\\n0            -1  действующая             0  некоммерческая унитарная  2016   \n1            -1  действующая             0  некоммерческая унитарная  2017   \n2            -1  действующая             0  некоммерческая унитарная  2018   \n3            -1  действующая             0  некоммерческая унитарная  2019   \n5            -1  действующая         -1771              коммерческая  2011   \n\n   region  first_year  last_year  \n0     msk        2016       2019  \n1     msk        2016       2019  \n2     msk        2016       2019  \n3     msk        2016       2019  \n5     msk        2011       2019  \n\n[5 rows x 124 columns]",
      "text/html": "<div>\n<style scoped>\n    .dataframe tbody tr th:only-of-type {\n        vertical-align: middle;\n    }\n\n    .dataframe tbody tr th {\n        vertical-align: top;\n    }\n\n    .dataframe thead th {\n        text-align: right;\n    }\n</style>\n<table border=\"1\" class=\"dataframe\">\n  <thead>\n    <tr style=\"text-align: right;\">\n      <th></th>\n      <th>address</th>\n      <th>bankrupt</th>\n      <th>breaking_even</th>\n      <th>com_uncom</th>\n      <th>comments</th>\n      <th>currency</th>\n      <th>date_reg</th>\n      <th>founding_month</th>\n      <th>founding_year</th>\n      <th>ind_1100</th>\n      <th>...</th>\n      <th>ogrn</th>\n      <th>okved</th>\n      <th>payback_time</th>\n      <th>status</th>\n      <th>total_profit</th>\n      <th>type</th>\n      <th>year</th>\n      <th>region</th>\n      <th>first_year</th>\n      <th>last_year</th>\n    </tr>\n  </thead>\n  <tbody>\n    <tr>\n      <th>0</th>\n      <td>109542, г. Москва, пр-кт Рязанский, 86/1</td>\n      <td>0</td>\n      <td>0</td>\n      <td>0</td>\n      <td>Обратите внимание, АНО ВО \"ИНО\" является некоммерческой организацией, то есть извлечение прибыли для нее не является основной целью.</td>\n      <td>67.0349</td>\n      <td>2016-02-15</td>\n      <td>2</td>\n      <td>2016</td>\n      <td>175.968041</td>\n      <td>...</td>\n      <td>1167700052233</td>\n      <td>['18.11', '18.12', '18.14', '18.20', '52.10', '55.20', '55.90', '56.29', '58.11', '58.13']</td>\n      <td>-1</td>\n      <td>действующая</td>\n      <td>0</td>\n      <td>некоммерческая унитарная</td>\n      <td>2016</td>\n      <td>msk</td>\n      <td>2016</td>\n      <td>2019</td>\n    </tr>\n    <tr>\n      <th>1</th>\n      <td>109542, г. Москва, пр-кт Рязанский, 86/1</td>\n      <td>0</td>\n      <td>0</td>\n      <td>0</td>\n      <td>Обратите внимание, АНО ВО \"ИНО\" является некоммерческой организацией, то есть извлечение прибыли для нее не является основной целью.</td>\n      <td>58.3529</td>\n      <td>2016-02-15</td>\n      <td>2</td>\n      <td>2016</td>\n      <td>194.300540</td>\n      <td>...</td>\n      <td>1167700052233</td>\n      <td>['18.11', '18.12', '18.14', '18.20', '52.10', '55.20', '55.90', '56.29', '58.11', '58.13']</td>\n      <td>-1</td>\n      <td>действующая</td>\n      <td>0</td>\n      <td>некоммерческая унитарная</td>\n      <td>2017</td>\n      <td>msk</td>\n      <td>2016</td>\n      <td>2019</td>\n    </tr>\n    <tr>\n      <th>2</th>\n      <td>109542, г. Москва, пр-кт Рязанский, 86/1</td>\n      <td>0</td>\n      <td>0</td>\n      <td>0</td>\n      <td>Обратите внимание, АНО ВО \"ИНО\" является некоммерческой организацией, то есть извлечение прибыли для нее не является основной целью.</td>\n      <td>62.7078</td>\n      <td>2016-02-15</td>\n      <td>2</td>\n      <td>2016</td>\n      <td>171.398135</td>\n      <td>...</td>\n      <td>1167700052233</td>\n      <td>['18.11', '18.12', '18.14', '18.20', '52.10', '55.20', '55.90', '56.29', '58.11', '58.13']</td>\n      <td>-1</td>\n      <td>действующая</td>\n      <td>0</td>\n      <td>некоммерческая унитарная</td>\n      <td>2018</td>\n      <td>msk</td>\n      <td>2016</td>\n      <td>2019</td>\n    </tr>\n    <tr>\n      <th>3</th>\n      <td>109542, г. Москва, пр-кт Рязанский, 86/1</td>\n      <td>0</td>\n      <td>0</td>\n      <td>0</td>\n      <td>Обратите внимание, АНО ВО \"ИНО\" является некоммерческой организацией, то есть извлечение прибыли для нее не является основной целью.</td>\n      <td>64.7362</td>\n      <td>2016-02-15</td>\n      <td>2</td>\n      <td>2016</td>\n      <td>158.504824</td>\n      <td>...</td>\n      <td>1167700052233</td>\n      <td>['18.11', '18.12', '18.14', '18.20', '52.10', '55.20', '55.90', '56.29', '58.11', '58.13']</td>\n      <td>-1</td>\n      <td>действующая</td>\n      <td>0</td>\n      <td>некоммерческая унитарная</td>\n      <td>2019</td>\n      <td>msk</td>\n      <td>2016</td>\n      <td>2019</td>\n    </tr>\n    <tr>\n      <th>5</th>\n      <td>117105, г. Москва, проезд Нагорный, 5, эт. 2 каб. 213</td>\n      <td>0</td>\n      <td>0</td>\n      <td>1</td>\n      <td>nan</td>\n      <td>29.3874</td>\n      <td>2011-05-26</td>\n      <td>5</td>\n      <td>2011</td>\n      <td>12.250148</td>\n      <td>...</td>\n      <td>1117746406810</td>\n      <td>['62.02', '62.09', '63.11.1', '70.22', '71.11.1', '72.19', '85.42.9', '95.11']</td>\n      <td>-1</td>\n      <td>действующая</td>\n      <td>-1771</td>\n      <td>коммерческая</td>\n      <td>2011</td>\n      <td>msk</td>\n      <td>2011</td>\n      <td>2019</td>\n    </tr>\n  </tbody>\n</table>\n<p>5 rows × 124 columns</p>\n</div>"
     },
     "execution_count": 179,
     "metadata": {},
     "output_type": "execute_result"
    }
   ],
   "source": [
    "# Год когда была последняя отчетность компании\n",
    "last_year = data.groupby(['inn'])['year'].max().rename('last_year')\n",
    "data.drop('last_year', axis=1, inplace=True, errors='ignore')\n",
    "data = data.join(last_year, on='inn')\n",
    "data.head()"
   ],
   "metadata": {
    "collapsed": false,
    "pycharm": {
     "name": "#%%\n"
    }
   }
  },
  {
   "cell_type": "code",
   "execution_count": 180,
   "outputs": [
    {
     "data": {
      "text/plain": "          inn  year  inv_year      inv_sum  inv_ind_1100  inv_ind_1110  \\\n0  7721452574  2016      2016   300.664281    175.968041      0.119341   \n1  7721452574  2017      2016   300.664281    175.968041      0.119341   \n2  7721452574  2018      2016   300.664281    175.968041      0.119341   \n3  7721452574  2019      2016   300.664281    175.968041      0.119341   \n5  7726676916  2011      2011  1368.409591     12.250148      0.000000   \n\n   inv_ind_1120  inv_ind_1130  inv_ind_1140  inv_ind_1150  ...  inv_ind_4500  \\\n0           0.0           0.0           0.0    351.697399  ...           0.0   \n1           0.0           0.0           0.0    351.697399  ...           0.0   \n2           0.0           0.0           0.0    351.697399  ...           0.0   \n3           0.0           0.0           0.0    351.697399  ...           0.0   \n5           0.0           0.0           0.0      5.988961  ...           0.0   \n\n   inv_ind_6100  inv_ind_6220  inv_ind_6240  inv_ind_6250  inv_ind_6310  \\\n0           0.0           0.0           0.0           0.0           0.0   \n1           0.0           0.0           0.0           0.0           0.0   \n2           0.0           0.0           0.0           0.0           0.0   \n3           0.0           0.0           0.0           0.0           0.0   \n5           0.0           0.0           0.0           0.0           0.0   \n\n   inv_ind_6320  inv_ind_6330  inv_ind_6350  inv_ind_6400  \n0           0.0           0.0           0.0           0.0  \n1           0.0           0.0           0.0           0.0  \n2           0.0           0.0           0.0           0.0  \n3           0.0           0.0           0.0           0.0  \n5           0.0           0.0           0.0           0.0  \n\n[5 rows x 101 columns]",
      "text/html": "<div>\n<style scoped>\n    .dataframe tbody tr th:only-of-type {\n        vertical-align: middle;\n    }\n\n    .dataframe tbody tr th {\n        vertical-align: top;\n    }\n\n    .dataframe thead th {\n        text-align: right;\n    }\n</style>\n<table border=\"1\" class=\"dataframe\">\n  <thead>\n    <tr style=\"text-align: right;\">\n      <th></th>\n      <th>inn</th>\n      <th>year</th>\n      <th>inv_year</th>\n      <th>inv_sum</th>\n      <th>inv_ind_1100</th>\n      <th>inv_ind_1110</th>\n      <th>inv_ind_1120</th>\n      <th>inv_ind_1130</th>\n      <th>inv_ind_1140</th>\n      <th>inv_ind_1150</th>\n      <th>...</th>\n      <th>inv_ind_4500</th>\n      <th>inv_ind_6100</th>\n      <th>inv_ind_6220</th>\n      <th>inv_ind_6240</th>\n      <th>inv_ind_6250</th>\n      <th>inv_ind_6310</th>\n      <th>inv_ind_6320</th>\n      <th>inv_ind_6330</th>\n      <th>inv_ind_6350</th>\n      <th>inv_ind_6400</th>\n    </tr>\n  </thead>\n  <tbody>\n    <tr>\n      <th>0</th>\n      <td>7721452574</td>\n      <td>2016</td>\n      <td>2016</td>\n      <td>300.664281</td>\n      <td>175.968041</td>\n      <td>0.119341</td>\n      <td>0.0</td>\n      <td>0.0</td>\n      <td>0.0</td>\n      <td>351.697399</td>\n      <td>...</td>\n      <td>0.0</td>\n      <td>0.0</td>\n      <td>0.0</td>\n      <td>0.0</td>\n      <td>0.0</td>\n      <td>0.0</td>\n      <td>0.0</td>\n      <td>0.0</td>\n      <td>0.0</td>\n      <td>0.0</td>\n    </tr>\n    <tr>\n      <th>1</th>\n      <td>7721452574</td>\n      <td>2017</td>\n      <td>2016</td>\n      <td>300.664281</td>\n      <td>175.968041</td>\n      <td>0.119341</td>\n      <td>0.0</td>\n      <td>0.0</td>\n      <td>0.0</td>\n      <td>351.697399</td>\n      <td>...</td>\n      <td>0.0</td>\n      <td>0.0</td>\n      <td>0.0</td>\n      <td>0.0</td>\n      <td>0.0</td>\n      <td>0.0</td>\n      <td>0.0</td>\n      <td>0.0</td>\n      <td>0.0</td>\n      <td>0.0</td>\n    </tr>\n    <tr>\n      <th>2</th>\n      <td>7721452574</td>\n      <td>2018</td>\n      <td>2016</td>\n      <td>300.664281</td>\n      <td>175.968041</td>\n      <td>0.119341</td>\n      <td>0.0</td>\n      <td>0.0</td>\n      <td>0.0</td>\n      <td>351.697399</td>\n      <td>...</td>\n      <td>0.0</td>\n      <td>0.0</td>\n      <td>0.0</td>\n      <td>0.0</td>\n      <td>0.0</td>\n      <td>0.0</td>\n      <td>0.0</td>\n      <td>0.0</td>\n      <td>0.0</td>\n      <td>0.0</td>\n    </tr>\n    <tr>\n      <th>3</th>\n      <td>7721452574</td>\n      <td>2019</td>\n      <td>2016</td>\n      <td>300.664281</td>\n      <td>175.968041</td>\n      <td>0.119341</td>\n      <td>0.0</td>\n      <td>0.0</td>\n      <td>0.0</td>\n      <td>351.697399</td>\n      <td>...</td>\n      <td>0.0</td>\n      <td>0.0</td>\n      <td>0.0</td>\n      <td>0.0</td>\n      <td>0.0</td>\n      <td>0.0</td>\n      <td>0.0</td>\n      <td>0.0</td>\n      <td>0.0</td>\n      <td>0.0</td>\n    </tr>\n    <tr>\n      <th>5</th>\n      <td>7726676916</td>\n      <td>2011</td>\n      <td>2011</td>\n      <td>1368.409591</td>\n      <td>12.250148</td>\n      <td>0.000000</td>\n      <td>0.0</td>\n      <td>0.0</td>\n      <td>0.0</td>\n      <td>5.988961</td>\n      <td>...</td>\n      <td>0.0</td>\n      <td>0.0</td>\n      <td>0.0</td>\n      <td>0.0</td>\n      <td>0.0</td>\n      <td>0.0</td>\n      <td>0.0</td>\n      <td>0.0</td>\n      <td>0.0</td>\n      <td>0.0</td>\n    </tr>\n  </tbody>\n</table>\n<p>5 rows × 101 columns</p>\n</div>"
     },
     "execution_count": 180,
     "metadata": {},
     "output_type": "execute_result"
    }
   ],
   "source": [
    "# Берем все признаки из самого раннего года организации - объединяем с основным набором\n",
    "additional_features = [c for c in data.columns if c.startswith('ind_')]\n",
    "additional_features.remove('ind_1600')\n",
    "# additional_features.remove('ind_2400')\n",
    "investments = data.sort_values(by=['inn', 'year']).groupby('inn').first()[['year', 'ind_1600'] + additional_features]\n",
    "investments.columns = ['inv_year', 'inv_sum'] + ['inv_' + x for x in additional_features]\n",
    "data.drop(investments.columns, axis=1, inplace=True, errors='ignore')\n",
    "data = data.join(investments, on=['inn'])\n",
    "data[['inn', 'year'] + investments.columns.tolist()].head() #.sort_values(by=['inn', 'year']).head()"
   ],
   "metadata": {
    "collapsed": false,
    "pycharm": {
     "name": "#%%\n"
    }
   }
  },
  {
   "cell_type": "code",
   "execution_count": 181,
   "outputs": [
    {
     "data": {
      "text/plain": "         inv_sum         inn   date_reg\n2701   -0.159470  9731000027 2018-04-09\n2702   -0.159470  9731000027 2018-04-09\n3952   -0.085686  9715309555 2017-11-29\n3953   -0.085686  9715309555 2017-11-29\n3954   -0.085686  9715309555 2017-11-29\n4033   -1.028227  7720403398 2017-11-20\n4034   -1.028227  7720403398 2017-11-20\n4035   -1.028227  7720403398 2017-11-20\n4500   -1.182461  7725394098 2017-09-13\n4501   -1.182461  7725394098 2017-09-13\n4502   -1.182461  7725394098 2017-09-13\n13319  -1.028227  7713444234 2017-07-04\n13320  -1.028227  7713444234 2017-07-04\n13321  -1.028227  7713444234 2017-07-04\n20923  -0.213262  7709449769 2015-02-27\n20924  -0.213262  7709449769 2015-02-27\n20925  -0.213262  7709449769 2015-02-27\n20926  -0.213262  7709449769 2015-02-27\n20927  -0.213262  7709449769 2015-02-27\n35101  -0.507198  7734391417 2016-09-26\n35102  -0.507198  7734391417 2016-09-26\n35103  -0.507198  7734391417 2016-09-26\n35104  -0.507198  7734391417 2016-09-26\n38464  -0.565185  7731449362 2013-06-13\n38465  -0.565185  7731449362 2013-06-13\n38466  -0.565185  7731449362 2013-06-13\n38467  -0.565185  7731449362 2013-06-13\n38468  -0.565185  7731449362 2013-06-13\n38469  -0.565185  7731449362 2013-06-13\n38470  -0.565185  7731449362 2013-06-13\n42695  -0.014918  7716831351 2016-08-12\n42696  -0.014918  7716831351 2016-08-12\n42697  -0.014918  7716831351 2016-08-12\n42698  -0.014918  7716831351 2016-08-12\n45057  -0.065619  7727223524 2015-08-06\n45058  -0.065619  7727223524 2015-08-06\n45059  -0.065619  7727223524 2015-08-06\n45060  -0.065619  7727223524 2015-08-06\n45061  -0.065619  7727223524 2015-08-06\n49060  -0.079735  7719482814 2018-10-25\n49061  -0.079735  7719482814 2018-10-25\n57735 -30.522519  7725462020 2018-03-15\n57736 -30.522519  7725462020 2018-03-15\n69613  -0.032810  7842079491 2015-12-03\n69614  -0.032810  7842079491 2015-12-03\n69615  -0.032810  7842079491 2015-12-03\n69616  -0.032810  7842079491 2015-12-03\n69617  -0.032810  7842079491 2015-12-03",
      "text/html": "<div>\n<style scoped>\n    .dataframe tbody tr th:only-of-type {\n        vertical-align: middle;\n    }\n\n    .dataframe tbody tr th {\n        vertical-align: top;\n    }\n\n    .dataframe thead th {\n        text-align: right;\n    }\n</style>\n<table border=\"1\" class=\"dataframe\">\n  <thead>\n    <tr style=\"text-align: right;\">\n      <th></th>\n      <th>inv_sum</th>\n      <th>inn</th>\n      <th>date_reg</th>\n    </tr>\n  </thead>\n  <tbody>\n    <tr>\n      <th>2701</th>\n      <td>-0.159470</td>\n      <td>9731000027</td>\n      <td>2018-04-09</td>\n    </tr>\n    <tr>\n      <th>2702</th>\n      <td>-0.159470</td>\n      <td>9731000027</td>\n      <td>2018-04-09</td>\n    </tr>\n    <tr>\n      <th>3952</th>\n      <td>-0.085686</td>\n      <td>9715309555</td>\n      <td>2017-11-29</td>\n    </tr>\n    <tr>\n      <th>3953</th>\n      <td>-0.085686</td>\n      <td>9715309555</td>\n      <td>2017-11-29</td>\n    </tr>\n    <tr>\n      <th>3954</th>\n      <td>-0.085686</td>\n      <td>9715309555</td>\n      <td>2017-11-29</td>\n    </tr>\n    <tr>\n      <th>4033</th>\n      <td>-1.028227</td>\n      <td>7720403398</td>\n      <td>2017-11-20</td>\n    </tr>\n    <tr>\n      <th>4034</th>\n      <td>-1.028227</td>\n      <td>7720403398</td>\n      <td>2017-11-20</td>\n    </tr>\n    <tr>\n      <th>4035</th>\n      <td>-1.028227</td>\n      <td>7720403398</td>\n      <td>2017-11-20</td>\n    </tr>\n    <tr>\n      <th>4500</th>\n      <td>-1.182461</td>\n      <td>7725394098</td>\n      <td>2017-09-13</td>\n    </tr>\n    <tr>\n      <th>4501</th>\n      <td>-1.182461</td>\n      <td>7725394098</td>\n      <td>2017-09-13</td>\n    </tr>\n    <tr>\n      <th>4502</th>\n      <td>-1.182461</td>\n      <td>7725394098</td>\n      <td>2017-09-13</td>\n    </tr>\n    <tr>\n      <th>13319</th>\n      <td>-1.028227</td>\n      <td>7713444234</td>\n      <td>2017-07-04</td>\n    </tr>\n    <tr>\n      <th>13320</th>\n      <td>-1.028227</td>\n      <td>7713444234</td>\n      <td>2017-07-04</td>\n    </tr>\n    <tr>\n      <th>13321</th>\n      <td>-1.028227</td>\n      <td>7713444234</td>\n      <td>2017-07-04</td>\n    </tr>\n    <tr>\n      <th>20923</th>\n      <td>-0.213262</td>\n      <td>7709449769</td>\n      <td>2015-02-27</td>\n    </tr>\n    <tr>\n      <th>20924</th>\n      <td>-0.213262</td>\n      <td>7709449769</td>\n      <td>2015-02-27</td>\n    </tr>\n    <tr>\n      <th>20925</th>\n      <td>-0.213262</td>\n      <td>7709449769</td>\n      <td>2015-02-27</td>\n    </tr>\n    <tr>\n      <th>20926</th>\n      <td>-0.213262</td>\n      <td>7709449769</td>\n      <td>2015-02-27</td>\n    </tr>\n    <tr>\n      <th>20927</th>\n      <td>-0.213262</td>\n      <td>7709449769</td>\n      <td>2015-02-27</td>\n    </tr>\n    <tr>\n      <th>35101</th>\n      <td>-0.507198</td>\n      <td>7734391417</td>\n      <td>2016-09-26</td>\n    </tr>\n    <tr>\n      <th>35102</th>\n      <td>-0.507198</td>\n      <td>7734391417</td>\n      <td>2016-09-26</td>\n    </tr>\n    <tr>\n      <th>35103</th>\n      <td>-0.507198</td>\n      <td>7734391417</td>\n      <td>2016-09-26</td>\n    </tr>\n    <tr>\n      <th>35104</th>\n      <td>-0.507198</td>\n      <td>7734391417</td>\n      <td>2016-09-26</td>\n    </tr>\n    <tr>\n      <th>38464</th>\n      <td>-0.565185</td>\n      <td>7731449362</td>\n      <td>2013-06-13</td>\n    </tr>\n    <tr>\n      <th>38465</th>\n      <td>-0.565185</td>\n      <td>7731449362</td>\n      <td>2013-06-13</td>\n    </tr>\n    <tr>\n      <th>38466</th>\n      <td>-0.565185</td>\n      <td>7731449362</td>\n      <td>2013-06-13</td>\n    </tr>\n    <tr>\n      <th>38467</th>\n      <td>-0.565185</td>\n      <td>7731449362</td>\n      <td>2013-06-13</td>\n    </tr>\n    <tr>\n      <th>38468</th>\n      <td>-0.565185</td>\n      <td>7731449362</td>\n      <td>2013-06-13</td>\n    </tr>\n    <tr>\n      <th>38469</th>\n      <td>-0.565185</td>\n      <td>7731449362</td>\n      <td>2013-06-13</td>\n    </tr>\n    <tr>\n      <th>38470</th>\n      <td>-0.565185</td>\n      <td>7731449362</td>\n      <td>2013-06-13</td>\n    </tr>\n    <tr>\n      <th>42695</th>\n      <td>-0.014918</td>\n      <td>7716831351</td>\n      <td>2016-08-12</td>\n    </tr>\n    <tr>\n      <th>42696</th>\n      <td>-0.014918</td>\n      <td>7716831351</td>\n      <td>2016-08-12</td>\n    </tr>\n    <tr>\n      <th>42697</th>\n      <td>-0.014918</td>\n      <td>7716831351</td>\n      <td>2016-08-12</td>\n    </tr>\n    <tr>\n      <th>42698</th>\n      <td>-0.014918</td>\n      <td>7716831351</td>\n      <td>2016-08-12</td>\n    </tr>\n    <tr>\n      <th>45057</th>\n      <td>-0.065619</td>\n      <td>7727223524</td>\n      <td>2015-08-06</td>\n    </tr>\n    <tr>\n      <th>45058</th>\n      <td>-0.065619</td>\n      <td>7727223524</td>\n      <td>2015-08-06</td>\n    </tr>\n    <tr>\n      <th>45059</th>\n      <td>-0.065619</td>\n      <td>7727223524</td>\n      <td>2015-08-06</td>\n    </tr>\n    <tr>\n      <th>45060</th>\n      <td>-0.065619</td>\n      <td>7727223524</td>\n      <td>2015-08-06</td>\n    </tr>\n    <tr>\n      <th>45061</th>\n      <td>-0.065619</td>\n      <td>7727223524</td>\n      <td>2015-08-06</td>\n    </tr>\n    <tr>\n      <th>49060</th>\n      <td>-0.079735</td>\n      <td>7719482814</td>\n      <td>2018-10-25</td>\n    </tr>\n    <tr>\n      <th>49061</th>\n      <td>-0.079735</td>\n      <td>7719482814</td>\n      <td>2018-10-25</td>\n    </tr>\n    <tr>\n      <th>57735</th>\n      <td>-30.522519</td>\n      <td>7725462020</td>\n      <td>2018-03-15</td>\n    </tr>\n    <tr>\n      <th>57736</th>\n      <td>-30.522519</td>\n      <td>7725462020</td>\n      <td>2018-03-15</td>\n    </tr>\n    <tr>\n      <th>69613</th>\n      <td>-0.032810</td>\n      <td>7842079491</td>\n      <td>2015-12-03</td>\n    </tr>\n    <tr>\n      <th>69614</th>\n      <td>-0.032810</td>\n      <td>7842079491</td>\n      <td>2015-12-03</td>\n    </tr>\n    <tr>\n      <th>69615</th>\n      <td>-0.032810</td>\n      <td>7842079491</td>\n      <td>2015-12-03</td>\n    </tr>\n    <tr>\n      <th>69616</th>\n      <td>-0.032810</td>\n      <td>7842079491</td>\n      <td>2015-12-03</td>\n    </tr>\n    <tr>\n      <th>69617</th>\n      <td>-0.032810</td>\n      <td>7842079491</td>\n      <td>2015-12-03</td>\n    </tr>\n  </tbody>\n</table>\n</div>"
     },
     "execution_count": 181,
     "metadata": {},
     "output_type": "execute_result"
    }
   ],
   "source": [
    "data.loc[data['inv_sum'] < 0, ['inv_sum', 'inn', 'date_reg']]"
   ],
   "metadata": {
    "collapsed": false,
    "pycharm": {
     "name": "#%%\n"
    }
   }
  },
  {
   "cell_type": "code",
   "execution_count": 182,
   "outputs": [
    {
     "data": {
      "text/plain": "              inn  year    ind_2400      profit  inv_year      inv_sum  \\\n57635  1102068218  2011  130.055738  130.055738      2011  2346.141544   \n57636  1102068218  2012  -72.202747   57.852992      2011  2346.141544   \n57637  1102068218  2013  -74.290379  -16.437388      2011  2346.141544   \n57638  1102068218  2014  -29.462517  -45.899905      2011  2346.141544   \n57639  1102068218  2015  -30.676910  -76.576815      2011  2346.141544   \n\n       inv_ind_1100  inv_ind_1110  inv_ind_1120  inv_ind_1130  ...  \\\n57635   2309.323043           0.0           0.0           0.0  ...   \n57636   2309.323043           0.0           0.0           0.0  ...   \n57637   2309.323043           0.0           0.0           0.0  ...   \n57638   2309.323043           0.0           0.0           0.0  ...   \n57639   2309.323043           0.0           0.0           0.0  ...   \n\n       inv_ind_4500  inv_ind_6100  inv_ind_6220  inv_ind_6240  inv_ind_6250  \\\n57635           0.0           0.0           0.0           0.0           0.0   \n57636           0.0           0.0           0.0           0.0           0.0   \n57637           0.0           0.0           0.0           0.0           0.0   \n57638           0.0           0.0           0.0           0.0           0.0   \n57639           0.0           0.0           0.0           0.0           0.0   \n\n       inv_ind_6310  inv_ind_6320  inv_ind_6330  inv_ind_6350  inv_ind_6400  \n57635           0.0           0.0           0.0           0.0           0.0  \n57636           0.0           0.0           0.0           0.0           0.0  \n57637           0.0           0.0           0.0           0.0           0.0  \n57638           0.0           0.0           0.0           0.0           0.0  \n57639           0.0           0.0           0.0           0.0           0.0  \n\n[5 rows x 103 columns]",
      "text/html": "<div>\n<style scoped>\n    .dataframe tbody tr th:only-of-type {\n        vertical-align: middle;\n    }\n\n    .dataframe tbody tr th {\n        vertical-align: top;\n    }\n\n    .dataframe thead th {\n        text-align: right;\n    }\n</style>\n<table border=\"1\" class=\"dataframe\">\n  <thead>\n    <tr style=\"text-align: right;\">\n      <th></th>\n      <th>inn</th>\n      <th>year</th>\n      <th>ind_2400</th>\n      <th>profit</th>\n      <th>inv_year</th>\n      <th>inv_sum</th>\n      <th>inv_ind_1100</th>\n      <th>inv_ind_1110</th>\n      <th>inv_ind_1120</th>\n      <th>inv_ind_1130</th>\n      <th>...</th>\n      <th>inv_ind_4500</th>\n      <th>inv_ind_6100</th>\n      <th>inv_ind_6220</th>\n      <th>inv_ind_6240</th>\n      <th>inv_ind_6250</th>\n      <th>inv_ind_6310</th>\n      <th>inv_ind_6320</th>\n      <th>inv_ind_6330</th>\n      <th>inv_ind_6350</th>\n      <th>inv_ind_6400</th>\n    </tr>\n  </thead>\n  <tbody>\n    <tr>\n      <th>57635</th>\n      <td>1102068218</td>\n      <td>2011</td>\n      <td>130.055738</td>\n      <td>130.055738</td>\n      <td>2011</td>\n      <td>2346.141544</td>\n      <td>2309.323043</td>\n      <td>0.0</td>\n      <td>0.0</td>\n      <td>0.0</td>\n      <td>...</td>\n      <td>0.0</td>\n      <td>0.0</td>\n      <td>0.0</td>\n      <td>0.0</td>\n      <td>0.0</td>\n      <td>0.0</td>\n      <td>0.0</td>\n      <td>0.0</td>\n      <td>0.0</td>\n      <td>0.0</td>\n    </tr>\n    <tr>\n      <th>57636</th>\n      <td>1102068218</td>\n      <td>2012</td>\n      <td>-72.202747</td>\n      <td>57.852992</td>\n      <td>2011</td>\n      <td>2346.141544</td>\n      <td>2309.323043</td>\n      <td>0.0</td>\n      <td>0.0</td>\n      <td>0.0</td>\n      <td>...</td>\n      <td>0.0</td>\n      <td>0.0</td>\n      <td>0.0</td>\n      <td>0.0</td>\n      <td>0.0</td>\n      <td>0.0</td>\n      <td>0.0</td>\n      <td>0.0</td>\n      <td>0.0</td>\n      <td>0.0</td>\n    </tr>\n    <tr>\n      <th>57637</th>\n      <td>1102068218</td>\n      <td>2013</td>\n      <td>-74.290379</td>\n      <td>-16.437388</td>\n      <td>2011</td>\n      <td>2346.141544</td>\n      <td>2309.323043</td>\n      <td>0.0</td>\n      <td>0.0</td>\n      <td>0.0</td>\n      <td>...</td>\n      <td>0.0</td>\n      <td>0.0</td>\n      <td>0.0</td>\n      <td>0.0</td>\n      <td>0.0</td>\n      <td>0.0</td>\n      <td>0.0</td>\n      <td>0.0</td>\n      <td>0.0</td>\n      <td>0.0</td>\n    </tr>\n    <tr>\n      <th>57638</th>\n      <td>1102068218</td>\n      <td>2014</td>\n      <td>-29.462517</td>\n      <td>-45.899905</td>\n      <td>2011</td>\n      <td>2346.141544</td>\n      <td>2309.323043</td>\n      <td>0.0</td>\n      <td>0.0</td>\n      <td>0.0</td>\n      <td>...</td>\n      <td>0.0</td>\n      <td>0.0</td>\n      <td>0.0</td>\n      <td>0.0</td>\n      <td>0.0</td>\n      <td>0.0</td>\n      <td>0.0</td>\n      <td>0.0</td>\n      <td>0.0</td>\n      <td>0.0</td>\n    </tr>\n    <tr>\n      <th>57639</th>\n      <td>1102068218</td>\n      <td>2015</td>\n      <td>-30.676910</td>\n      <td>-76.576815</td>\n      <td>2011</td>\n      <td>2346.141544</td>\n      <td>2309.323043</td>\n      <td>0.0</td>\n      <td>0.0</td>\n      <td>0.0</td>\n      <td>...</td>\n      <td>0.0</td>\n      <td>0.0</td>\n      <td>0.0</td>\n      <td>0.0</td>\n      <td>0.0</td>\n      <td>0.0</td>\n      <td>0.0</td>\n      <td>0.0</td>\n      <td>0.0</td>\n      <td>0.0</td>\n    </tr>\n  </tbody>\n</table>\n<p>5 rows × 103 columns</p>\n</div>"
     },
     "execution_count": 182,
     "metadata": {},
     "output_type": "execute_result"
    }
   ],
   "source": [
    "# Накопительно вычисляем сумму прибыли организации по годам - объединяем с набором\n",
    "profit = data.sort_values(by=['inn', 'year']).groupby('inn').cumsum()['ind_2400']\n",
    "profit.name = 'profit'\n",
    "data.drop(['profit'], axis=1, inplace=True, errors='ignore')\n",
    "data = data.join(profit)\n",
    "data[['inn', 'year', 'ind_2400', 'profit'] + investments.columns.tolist()].sort_values(by=['inn', 'year']).head()"
   ],
   "metadata": {
    "collapsed": false,
    "pycharm": {
     "name": "#%%\n"
    }
   }
  },
  {
   "cell_type": "code",
   "execution_count": 183,
   "outputs": [
    {
     "data": {
      "text/plain": "            year    ind_2400      profit  inv_year      inv_sum  inv_ind_1100  \\\ninn                                                                             \n1102068218  2019    0.030895   32.442349      2011  2346.141544   2309.323043   \n1650329732  2019   14.304207   19.947110      2016    30.939108      0.000000   \n1655298774  2019  257.429383  866.196041      2014   181.433929      0.000000   \n1655300448  2019    0.108131   31.902896      2014    32.299456      0.000000   \n2310172571  2019  189.383992  591.200701      2013   162.647576     30.174579   \n\n            inv_ind_1110  inv_ind_1120  inv_ind_1130  inv_ind_1140  ...  \\\ninn                                                                 ...   \n1102068218           0.0           0.0           0.0           0.0  ...   \n1650329732           0.0           0.0           0.0           0.0  ...   \n1655298774           0.0           0.0           0.0           0.0  ...   \n1655300448           0.0           0.0           0.0           0.0  ...   \n2310172571           0.0           0.0           0.0           0.0  ...   \n\n            inv_ind_4500  inv_ind_6100  inv_ind_6220  inv_ind_6240  \\\ninn                                                                  \n1102068218           0.0           0.0           0.0           0.0   \n1650329732           0.0           0.0           0.0           0.0   \n1655298774           0.0           0.0           0.0           0.0   \n1655300448           0.0           0.0           0.0           0.0   \n2310172571           0.0           0.0           0.0           0.0   \n\n            inv_ind_6250  inv_ind_6310  inv_ind_6320  inv_ind_6330  \\\ninn                                                                  \n1102068218           0.0           0.0           0.0           0.0   \n1650329732           0.0           0.0           0.0           0.0   \n1655298774           0.0           0.0           0.0           0.0   \n1655300448           0.0           0.0           0.0           0.0   \n2310172571           0.0           0.0           0.0           0.0   \n\n            inv_ind_6350  inv_ind_6400  \ninn                                     \n1102068218           0.0           0.0  \n1650329732           0.0           0.0  \n1655298774           0.0           0.0  \n1655300448           0.0           0.0  \n2310172571           0.0           0.0  \n\n[5 rows x 102 columns]",
      "text/html": "<div>\n<style scoped>\n    .dataframe tbody tr th:only-of-type {\n        vertical-align: middle;\n    }\n\n    .dataframe tbody tr th {\n        vertical-align: top;\n    }\n\n    .dataframe thead th {\n        text-align: right;\n    }\n</style>\n<table border=\"1\" class=\"dataframe\">\n  <thead>\n    <tr style=\"text-align: right;\">\n      <th></th>\n      <th>year</th>\n      <th>ind_2400</th>\n      <th>profit</th>\n      <th>inv_year</th>\n      <th>inv_sum</th>\n      <th>inv_ind_1100</th>\n      <th>inv_ind_1110</th>\n      <th>inv_ind_1120</th>\n      <th>inv_ind_1130</th>\n      <th>inv_ind_1140</th>\n      <th>...</th>\n      <th>inv_ind_4500</th>\n      <th>inv_ind_6100</th>\n      <th>inv_ind_6220</th>\n      <th>inv_ind_6240</th>\n      <th>inv_ind_6250</th>\n      <th>inv_ind_6310</th>\n      <th>inv_ind_6320</th>\n      <th>inv_ind_6330</th>\n      <th>inv_ind_6350</th>\n      <th>inv_ind_6400</th>\n    </tr>\n    <tr>\n      <th>inn</th>\n      <th></th>\n      <th></th>\n      <th></th>\n      <th></th>\n      <th></th>\n      <th></th>\n      <th></th>\n      <th></th>\n      <th></th>\n      <th></th>\n      <th></th>\n      <th></th>\n      <th></th>\n      <th></th>\n      <th></th>\n      <th></th>\n      <th></th>\n      <th></th>\n      <th></th>\n      <th></th>\n      <th></th>\n    </tr>\n  </thead>\n  <tbody>\n    <tr>\n      <th>1102068218</th>\n      <td>2019</td>\n      <td>0.030895</td>\n      <td>32.442349</td>\n      <td>2011</td>\n      <td>2346.141544</td>\n      <td>2309.323043</td>\n      <td>0.0</td>\n      <td>0.0</td>\n      <td>0.0</td>\n      <td>0.0</td>\n      <td>...</td>\n      <td>0.0</td>\n      <td>0.0</td>\n      <td>0.0</td>\n      <td>0.0</td>\n      <td>0.0</td>\n      <td>0.0</td>\n      <td>0.0</td>\n      <td>0.0</td>\n      <td>0.0</td>\n      <td>0.0</td>\n    </tr>\n    <tr>\n      <th>1650329732</th>\n      <td>2019</td>\n      <td>14.304207</td>\n      <td>19.947110</td>\n      <td>2016</td>\n      <td>30.939108</td>\n      <td>0.000000</td>\n      <td>0.0</td>\n      <td>0.0</td>\n      <td>0.0</td>\n      <td>0.0</td>\n      <td>...</td>\n      <td>0.0</td>\n      <td>0.0</td>\n      <td>0.0</td>\n      <td>0.0</td>\n      <td>0.0</td>\n      <td>0.0</td>\n      <td>0.0</td>\n      <td>0.0</td>\n      <td>0.0</td>\n      <td>0.0</td>\n    </tr>\n    <tr>\n      <th>1655298774</th>\n      <td>2019</td>\n      <td>257.429383</td>\n      <td>866.196041</td>\n      <td>2014</td>\n      <td>181.433929</td>\n      <td>0.000000</td>\n      <td>0.0</td>\n      <td>0.0</td>\n      <td>0.0</td>\n      <td>0.0</td>\n      <td>...</td>\n      <td>0.0</td>\n      <td>0.0</td>\n      <td>0.0</td>\n      <td>0.0</td>\n      <td>0.0</td>\n      <td>0.0</td>\n      <td>0.0</td>\n      <td>0.0</td>\n      <td>0.0</td>\n      <td>0.0</td>\n    </tr>\n    <tr>\n      <th>1655300448</th>\n      <td>2019</td>\n      <td>0.108131</td>\n      <td>31.902896</td>\n      <td>2014</td>\n      <td>32.299456</td>\n      <td>0.000000</td>\n      <td>0.0</td>\n      <td>0.0</td>\n      <td>0.0</td>\n      <td>0.0</td>\n      <td>...</td>\n      <td>0.0</td>\n      <td>0.0</td>\n      <td>0.0</td>\n      <td>0.0</td>\n      <td>0.0</td>\n      <td>0.0</td>\n      <td>0.0</td>\n      <td>0.0</td>\n      <td>0.0</td>\n      <td>0.0</td>\n    </tr>\n    <tr>\n      <th>2310172571</th>\n      <td>2019</td>\n      <td>189.383992</td>\n      <td>591.200701</td>\n      <td>2013</td>\n      <td>162.647576</td>\n      <td>30.174579</td>\n      <td>0.0</td>\n      <td>0.0</td>\n      <td>0.0</td>\n      <td>0.0</td>\n      <td>...</td>\n      <td>0.0</td>\n      <td>0.0</td>\n      <td>0.0</td>\n      <td>0.0</td>\n      <td>0.0</td>\n      <td>0.0</td>\n      <td>0.0</td>\n      <td>0.0</td>\n      <td>0.0</td>\n      <td>0.0</td>\n    </tr>\n  </tbody>\n</table>\n<p>5 rows × 102 columns</p>\n</div>"
     },
     "execution_count": 183,
     "metadata": {},
     "output_type": "execute_result"
    }
   ],
   "source": [
    "data.sort_values(by=['inn', 'year']).groupby('inn').last()[['year', 'ind_2400', 'profit'] + investments.columns.tolist()].head()"
   ],
   "metadata": {
    "collapsed": false,
    "pycharm": {
     "name": "#%%\n"
    }
   }
  },
  {
   "cell_type": "code",
   "execution_count": 184,
   "outputs": [],
   "source": [
    "features = ['year', 'ind_2400', 'profit', 'result',] + investments.columns.tolist()"
   ],
   "metadata": {
    "collapsed": false,
    "pycharm": {
     "name": "#%%\n"
    }
   }
  },
  {
   "cell_type": "code",
   "execution_count": 185,
   "outputs": [
    {
     "data": {
      "text/plain": "                                                                          address  \\\n16816               119571, г. Москва, пр-кт Ленинский, 158, помещ. II комн. №100   \n81294  197101, г. Санкт-Петербург, ул. Рентгена, 7 литера а, помещ. 1-н часть 133   \n\n       bankrupt  breaking_even  com_uncom comments  currency   date_reg  \\\n16816         0              0          1      nan   58.3529 2016-01-29   \n81294         0              1          1      nan   64.7362 2016-02-03   \n\n       founding_month  founding_year    ind_1100  ...  inv_ind_6220  \\\n16816               1           2016  149.504138  ...           0.0   \n81294               2           2016    0.000000  ...           0.0   \n\n       inv_ind_6240  inv_ind_6250  inv_ind_6310  inv_ind_6320  inv_ind_6330  \\\n16816           0.0           0.0           0.0           0.0           0.0   \n81294           0.0           0.0           0.0           0.0           0.0   \n\n       inv_ind_6350  inv_ind_6400       profit       result  \n16816           0.0           0.0   127.431705   177.349834  \n81294           0.0           0.0  1592.381762 -1491.941543  \n\n[2 rows x 225 columns]",
      "text/html": "<div>\n<style scoped>\n    .dataframe tbody tr th:only-of-type {\n        vertical-align: middle;\n    }\n\n    .dataframe tbody tr th {\n        vertical-align: top;\n    }\n\n    .dataframe thead th {\n        text-align: right;\n    }\n</style>\n<table border=\"1\" class=\"dataframe\">\n  <thead>\n    <tr style=\"text-align: right;\">\n      <th></th>\n      <th>address</th>\n      <th>bankrupt</th>\n      <th>breaking_even</th>\n      <th>com_uncom</th>\n      <th>comments</th>\n      <th>currency</th>\n      <th>date_reg</th>\n      <th>founding_month</th>\n      <th>founding_year</th>\n      <th>ind_1100</th>\n      <th>...</th>\n      <th>inv_ind_6220</th>\n      <th>inv_ind_6240</th>\n      <th>inv_ind_6250</th>\n      <th>inv_ind_6310</th>\n      <th>inv_ind_6320</th>\n      <th>inv_ind_6330</th>\n      <th>inv_ind_6350</th>\n      <th>inv_ind_6400</th>\n      <th>profit</th>\n      <th>result</th>\n    </tr>\n  </thead>\n  <tbody>\n    <tr>\n      <th>16816</th>\n      <td>119571, г. Москва, пр-кт Ленинский, 158, помещ. II комн. №100</td>\n      <td>0</td>\n      <td>0</td>\n      <td>1</td>\n      <td>nan</td>\n      <td>58.3529</td>\n      <td>2016-01-29</td>\n      <td>1</td>\n      <td>2016</td>\n      <td>149.504138</td>\n      <td>...</td>\n      <td>0.0</td>\n      <td>0.0</td>\n      <td>0.0</td>\n      <td>0.0</td>\n      <td>0.0</td>\n      <td>0.0</td>\n      <td>0.0</td>\n      <td>0.0</td>\n      <td>127.431705</td>\n      <td>177.349834</td>\n    </tr>\n    <tr>\n      <th>81294</th>\n      <td>197101, г. Санкт-Петербург, ул. Рентгена, 7 литера а, помещ. 1-н часть 133</td>\n      <td>0</td>\n      <td>1</td>\n      <td>1</td>\n      <td>nan</td>\n      <td>64.7362</td>\n      <td>2016-02-03</td>\n      <td>2</td>\n      <td>2016</td>\n      <td>0.000000</td>\n      <td>...</td>\n      <td>0.0</td>\n      <td>0.0</td>\n      <td>0.0</td>\n      <td>0.0</td>\n      <td>0.0</td>\n      <td>0.0</td>\n      <td>0.0</td>\n      <td>0.0</td>\n      <td>1592.381762</td>\n      <td>-1491.941543</td>\n    </tr>\n  </tbody>\n</table>\n<p>2 rows × 225 columns</p>\n</div>"
     },
     "execution_count": 185,
     "metadata": {},
     "output_type": "execute_result"
    }
   ],
   "source": [
    "# Формируем результат деятельности организации за год как разницу между первоначальным вложением и прбылью после налогов\n",
    "data['result'] = data['inv_sum'] - data['profit']\n",
    "data.sample(2)"
   ],
   "metadata": {
    "collapsed": false,
    "pycharm": {
     "name": "#%%\n"
    }
   }
  },
  {
   "cell_type": "code",
   "execution_count": 186,
   "outputs": [
    {
     "data": {
      "text/plain": "              inn  \\\n4188   7717780565   \n15998  9729074247   \n\n                                                                      address  \\\n4188                     129301, г. Москва, ул. Бориса Галушкина, 18, кв. 275   \n15998  125252, г. Москва, ул. Авиаконструктора Микояна, 12, пом XVIII ком 1,2   \n\n       bankrupt  breaking_even  com_uncom  \\\n4188          1              1          1   \n15998         0              0          1   \n\n                                    comments  currency   date_reg  \\\n4188   Организация ликвидирована 26.02.2019.   58.3529 2014-04-01   \n15998                                    nan   64.7362 2017-04-14   \n\n       founding_month  founding_year  ...  inv_ind_6220  inv_ind_6240  \\\n4188                4           2014  ...           0.0           0.0   \n15998               4           2017  ...           0.0           0.0   \n\n       inv_ind_6250  inv_ind_6310  inv_ind_6320  inv_ind_6330  inv_ind_6350  \\\n4188            0.0           0.0           0.0           0.0           0.0   \n15998           0.0           0.0           0.0           0.0           0.0   \n\n       inv_ind_6400      profit       result  \n4188            0.0   22.244423    -0.329724  \n15998           0.0 -794.449060  1289.814329  \n\n[2 rows x 225 columns]",
      "text/html": "<div>\n<style scoped>\n    .dataframe tbody tr th:only-of-type {\n        vertical-align: middle;\n    }\n\n    .dataframe tbody tr th {\n        vertical-align: top;\n    }\n\n    .dataframe thead th {\n        text-align: right;\n    }\n</style>\n<table border=\"1\" class=\"dataframe\">\n  <thead>\n    <tr style=\"text-align: right;\">\n      <th></th>\n      <th>inn</th>\n      <th>address</th>\n      <th>bankrupt</th>\n      <th>breaking_even</th>\n      <th>com_uncom</th>\n      <th>comments</th>\n      <th>currency</th>\n      <th>date_reg</th>\n      <th>founding_month</th>\n      <th>founding_year</th>\n      <th>...</th>\n      <th>inv_ind_6220</th>\n      <th>inv_ind_6240</th>\n      <th>inv_ind_6250</th>\n      <th>inv_ind_6310</th>\n      <th>inv_ind_6320</th>\n      <th>inv_ind_6330</th>\n      <th>inv_ind_6350</th>\n      <th>inv_ind_6400</th>\n      <th>profit</th>\n      <th>result</th>\n    </tr>\n  </thead>\n  <tbody>\n    <tr>\n      <th>4188</th>\n      <td>7717780565</td>\n      <td>129301, г. Москва, ул. Бориса Галушкина, 18, кв. 275</td>\n      <td>1</td>\n      <td>1</td>\n      <td>1</td>\n      <td>Организация ликвидирована 26.02.2019.</td>\n      <td>58.3529</td>\n      <td>2014-04-01</td>\n      <td>4</td>\n      <td>2014</td>\n      <td>...</td>\n      <td>0.0</td>\n      <td>0.0</td>\n      <td>0.0</td>\n      <td>0.0</td>\n      <td>0.0</td>\n      <td>0.0</td>\n      <td>0.0</td>\n      <td>0.0</td>\n      <td>22.244423</td>\n      <td>-0.329724</td>\n    </tr>\n    <tr>\n      <th>15998</th>\n      <td>9729074247</td>\n      <td>125252, г. Москва, ул. Авиаконструктора Микояна, 12, пом XVIII ком 1,2</td>\n      <td>0</td>\n      <td>0</td>\n      <td>1</td>\n      <td>nan</td>\n      <td>64.7362</td>\n      <td>2017-04-14</td>\n      <td>4</td>\n      <td>2017</td>\n      <td>...</td>\n      <td>0.0</td>\n      <td>0.0</td>\n      <td>0.0</td>\n      <td>0.0</td>\n      <td>0.0</td>\n      <td>0.0</td>\n      <td>0.0</td>\n      <td>0.0</td>\n      <td>-794.449060</td>\n      <td>1289.814329</td>\n    </tr>\n  </tbody>\n</table>\n<p>2 rows × 225 columns</p>\n</div>"
     },
     "execution_count": 186,
     "metadata": {},
     "output_type": "execute_result"
    }
   ],
   "source": [
    "# Объединяем во временный набор последние записи об организации и записи где организаци вышла в 0 плюс\n",
    "# затем берем ту что была раньше\n",
    "temp = pd.concat([data.sort_values(by=['inn', 'year']).groupby('inn').last(),\n",
    "           data[data['result'] <= 0].sort_values(by=['inn', 'year']).groupby('inn').first()]).reset_index()\n",
    "temp = temp.sort_values(by=['inn', 'year']).groupby(['inn']).first().reset_index()\n",
    "temp.sample(2) #[['inn'] + features]"
   ],
   "metadata": {
    "collapsed": false,
    "pycharm": {
     "name": "#%%\n"
    }
   }
  },
  {
   "cell_type": "code",
   "execution_count": 187,
   "outputs": [
    {
     "data": {
      "text/plain": "             inn                                         address  bankrupt  \\\n6118  7724435778  115573, г. Москва, проезд Ореховый, 11, кв. 43         1   \n1633  7705540640           115093, г. Москва, ул. Люсиновская, 9         0   \n\n      breaking_even  com_uncom                               comments  \\\n6118              0          1  Организация ликвидирована 02.06.2020.   \n1633              0          1                                    nan   \n\n      currency   date_reg  founding_month  founding_year  ...  inv_ind_6240  \\\n6118   64.7362 2018-04-03               4           2018  ...           0.0   \n1633   64.7362 2013-05-21               5           2013  ...           0.0   \n\n      inv_ind_6250  inv_ind_6310  inv_ind_6320  inv_ind_6330  inv_ind_6350  \\\n6118           0.0           0.0           0.0           0.0           0.0   \n1633           0.0           0.0           0.0           0.0           0.0   \n\n      inv_ind_6400    profit     result  target  \n6118           0.0  2.918297   1.786062      -1  \n1633           0.0  1.724791  20.003418      -1  \n\n[2 rows x 226 columns]",
      "text/html": "<div>\n<style scoped>\n    .dataframe tbody tr th:only-of-type {\n        vertical-align: middle;\n    }\n\n    .dataframe tbody tr th {\n        vertical-align: top;\n    }\n\n    .dataframe thead th {\n        text-align: right;\n    }\n</style>\n<table border=\"1\" class=\"dataframe\">\n  <thead>\n    <tr style=\"text-align: right;\">\n      <th></th>\n      <th>inn</th>\n      <th>address</th>\n      <th>bankrupt</th>\n      <th>breaking_even</th>\n      <th>com_uncom</th>\n      <th>comments</th>\n      <th>currency</th>\n      <th>date_reg</th>\n      <th>founding_month</th>\n      <th>founding_year</th>\n      <th>...</th>\n      <th>inv_ind_6240</th>\n      <th>inv_ind_6250</th>\n      <th>inv_ind_6310</th>\n      <th>inv_ind_6320</th>\n      <th>inv_ind_6330</th>\n      <th>inv_ind_6350</th>\n      <th>inv_ind_6400</th>\n      <th>profit</th>\n      <th>result</th>\n      <th>target</th>\n    </tr>\n  </thead>\n  <tbody>\n    <tr>\n      <th>6118</th>\n      <td>7724435778</td>\n      <td>115573, г. Москва, проезд Ореховый, 11, кв. 43</td>\n      <td>1</td>\n      <td>0</td>\n      <td>1</td>\n      <td>Организация ликвидирована 02.06.2020.</td>\n      <td>64.7362</td>\n      <td>2018-04-03</td>\n      <td>4</td>\n      <td>2018</td>\n      <td>...</td>\n      <td>0.0</td>\n      <td>0.0</td>\n      <td>0.0</td>\n      <td>0.0</td>\n      <td>0.0</td>\n      <td>0.0</td>\n      <td>0.0</td>\n      <td>2.918297</td>\n      <td>1.786062</td>\n      <td>-1</td>\n    </tr>\n    <tr>\n      <th>1633</th>\n      <td>7705540640</td>\n      <td>115093, г. Москва, ул. Люсиновская, 9</td>\n      <td>0</td>\n      <td>0</td>\n      <td>1</td>\n      <td>nan</td>\n      <td>64.7362</td>\n      <td>2013-05-21</td>\n      <td>5</td>\n      <td>2013</td>\n      <td>...</td>\n      <td>0.0</td>\n      <td>0.0</td>\n      <td>0.0</td>\n      <td>0.0</td>\n      <td>0.0</td>\n      <td>0.0</td>\n      <td>0.0</td>\n      <td>1.724791</td>\n      <td>20.003418</td>\n      <td>-1</td>\n    </tr>\n  </tbody>\n</table>\n<p>2 rows × 226 columns</p>\n</div>"
     },
     "execution_count": 187,
     "metadata": {},
     "output_type": "execute_result"
    }
   ],
   "source": [
    "# Формироуем таргет как разницу межу годом выхода в плюс и годом инвестирования или -1 если так и не вашли в плюс\n",
    "temp['target'] = temp.apply(lambda row: -1 if row['result'] > 0 else row['year'] - row['inv_year'], axis=1)\n",
    "temp.sample(2)"
   ],
   "metadata": {
    "collapsed": false,
    "pycharm": {
     "name": "#%%\n"
    }
   }
  },
  {
   "cell_type": "code",
   "execution_count": 188,
   "outputs": [
    {
     "data": {
      "text/plain": "          inn main_okved   date_reg      inv_sum  target region  year  \\\n0  1102068218      62.01 2011-04-04  2346.141544      -1    msk  2019   \n1  1650329732      62.01 2016-04-25    30.939108      -1    msk  2019   \n2  1655298774      62.01 2014-08-12   181.433929       1    msk  2015   \n3  1655300448      62.09 2014-09-05    32.299456       1    msk  2015   \n4  2310172571      62.09 2013-09-09   162.647576       5    msk  2018   \n\n   first_year  last_year  inv_ind_1100  ...  inv_ind_4500  inv_ind_6100  \\\n0        2011       2019   2309.323043  ...           0.0           0.0   \n1        2016       2019      0.000000  ...           0.0           0.0   \n2        2014       2019      0.000000  ...           0.0           0.0   \n3        2014       2019      0.000000  ...           0.0           0.0   \n4        2013       2019     30.174579  ...           0.0           0.0   \n\n   inv_ind_6220  inv_ind_6240  inv_ind_6250  inv_ind_6310  inv_ind_6320  \\\n0           0.0           0.0           0.0           0.0           0.0   \n1           0.0           0.0           0.0           0.0           0.0   \n2           0.0           0.0           0.0           0.0           0.0   \n3           0.0           0.0           0.0           0.0           0.0   \n4           0.0           0.0           0.0           0.0           0.0   \n\n   inv_ind_6330  inv_ind_6350  inv_ind_6400  \n0           0.0           0.0           0.0  \n1           0.0           0.0           0.0  \n2           0.0           0.0           0.0  \n3           0.0           0.0           0.0  \n4           0.0           0.0           0.0  \n\n[5 rows x 106 columns]",
      "text/html": "<div>\n<style scoped>\n    .dataframe tbody tr th:only-of-type {\n        vertical-align: middle;\n    }\n\n    .dataframe tbody tr th {\n        vertical-align: top;\n    }\n\n    .dataframe thead th {\n        text-align: right;\n    }\n</style>\n<table border=\"1\" class=\"dataframe\">\n  <thead>\n    <tr style=\"text-align: right;\">\n      <th></th>\n      <th>inn</th>\n      <th>main_okved</th>\n      <th>date_reg</th>\n      <th>inv_sum</th>\n      <th>target</th>\n      <th>region</th>\n      <th>year</th>\n      <th>first_year</th>\n      <th>last_year</th>\n      <th>inv_ind_1100</th>\n      <th>...</th>\n      <th>inv_ind_4500</th>\n      <th>inv_ind_6100</th>\n      <th>inv_ind_6220</th>\n      <th>inv_ind_6240</th>\n      <th>inv_ind_6250</th>\n      <th>inv_ind_6310</th>\n      <th>inv_ind_6320</th>\n      <th>inv_ind_6330</th>\n      <th>inv_ind_6350</th>\n      <th>inv_ind_6400</th>\n    </tr>\n  </thead>\n  <tbody>\n    <tr>\n      <th>0</th>\n      <td>1102068218</td>\n      <td>62.01</td>\n      <td>2011-04-04</td>\n      <td>2346.141544</td>\n      <td>-1</td>\n      <td>msk</td>\n      <td>2019</td>\n      <td>2011</td>\n      <td>2019</td>\n      <td>2309.323043</td>\n      <td>...</td>\n      <td>0.0</td>\n      <td>0.0</td>\n      <td>0.0</td>\n      <td>0.0</td>\n      <td>0.0</td>\n      <td>0.0</td>\n      <td>0.0</td>\n      <td>0.0</td>\n      <td>0.0</td>\n      <td>0.0</td>\n    </tr>\n    <tr>\n      <th>1</th>\n      <td>1650329732</td>\n      <td>62.01</td>\n      <td>2016-04-25</td>\n      <td>30.939108</td>\n      <td>-1</td>\n      <td>msk</td>\n      <td>2019</td>\n      <td>2016</td>\n      <td>2019</td>\n      <td>0.000000</td>\n      <td>...</td>\n      <td>0.0</td>\n      <td>0.0</td>\n      <td>0.0</td>\n      <td>0.0</td>\n      <td>0.0</td>\n      <td>0.0</td>\n      <td>0.0</td>\n      <td>0.0</td>\n      <td>0.0</td>\n      <td>0.0</td>\n    </tr>\n    <tr>\n      <th>2</th>\n      <td>1655298774</td>\n      <td>62.01</td>\n      <td>2014-08-12</td>\n      <td>181.433929</td>\n      <td>1</td>\n      <td>msk</td>\n      <td>2015</td>\n      <td>2014</td>\n      <td>2019</td>\n      <td>0.000000</td>\n      <td>...</td>\n      <td>0.0</td>\n      <td>0.0</td>\n      <td>0.0</td>\n      <td>0.0</td>\n      <td>0.0</td>\n      <td>0.0</td>\n      <td>0.0</td>\n      <td>0.0</td>\n      <td>0.0</td>\n      <td>0.0</td>\n    </tr>\n    <tr>\n      <th>3</th>\n      <td>1655300448</td>\n      <td>62.09</td>\n      <td>2014-09-05</td>\n      <td>32.299456</td>\n      <td>1</td>\n      <td>msk</td>\n      <td>2015</td>\n      <td>2014</td>\n      <td>2019</td>\n      <td>0.000000</td>\n      <td>...</td>\n      <td>0.0</td>\n      <td>0.0</td>\n      <td>0.0</td>\n      <td>0.0</td>\n      <td>0.0</td>\n      <td>0.0</td>\n      <td>0.0</td>\n      <td>0.0</td>\n      <td>0.0</td>\n      <td>0.0</td>\n    </tr>\n    <tr>\n      <th>4</th>\n      <td>2310172571</td>\n      <td>62.09</td>\n      <td>2013-09-09</td>\n      <td>162.647576</td>\n      <td>5</td>\n      <td>msk</td>\n      <td>2018</td>\n      <td>2013</td>\n      <td>2019</td>\n      <td>30.174579</td>\n      <td>...</td>\n      <td>0.0</td>\n      <td>0.0</td>\n      <td>0.0</td>\n      <td>0.0</td>\n      <td>0.0</td>\n      <td>0.0</td>\n      <td>0.0</td>\n      <td>0.0</td>\n      <td>0.0</td>\n      <td>0.0</td>\n    </tr>\n  </tbody>\n</table>\n<p>5 rows × 106 columns</p>\n</div>"
     },
     "execution_count": 188,
     "metadata": {},
     "output_type": "execute_result"
    }
   ],
   "source": [
    "# В рабочий набор берем только коммерческие организации\n",
    "work_df = temp.loc[temp['type'] == 'коммерческая', ['inn', 'main_okved', 'date_reg', 'inv_sum', 'target', 'region', 'year', 'first_year', 'last_year'] + ['inv_' + x for x in additional_features]]\n",
    "work_df.head()"
   ],
   "metadata": {
    "collapsed": false,
    "pycharm": {
     "name": "#%%\n"
    }
   }
  },
  {
   "cell_type": "markdown",
   "source": [
    "### EDA"
   ],
   "metadata": {
    "collapsed": false,
    "pycharm": {
     "name": "#%% md\n"
    }
   }
  },
  {
   "cell_type": "code",
   "execution_count": 189,
   "outputs": [
    {
     "name": "stdout",
     "output_type": "stream",
     "text": [
      "--------------------------------------------------------------------------------\n",
      "Название: inn\n",
      "Тип данных: <class 'numpy.object_'>\n",
      "Количество значений: 16083\n",
      "Количество уникальных значений: 16083\n",
      "Количество пропусков: 0\n",
      "Процент пропусков: 0.0%\n",
      "Общие статистики:\n",
      "count          16083\n",
      "unique         16083\n",
      "top       1102068218\n",
      "freq               1\n",
      "Name: inn, dtype: object\n",
      "Топ 10 уникальных значений:\n",
      "1102068218    1\n",
      "7804528072    1\n",
      "7804513164    1\n",
      "7804513735    1\n",
      "7804513781    1\n",
      "7804513990    1\n",
      "7804514697    1\n",
      "7804514922    1\n",
      "7804515490    1\n",
      "7804515764    1\n",
      "Name: inn, dtype: int64\n",
      "--------------------------------------------------------------------------------\n",
      "--------------------------------------------------------------------------------\n",
      "Название: main_okved\n",
      "Тип данных: <class 'numpy.object_'>\n",
      "Количество значений: 16083\n",
      "Количество уникальных значений: 66\n",
      "Количество пропусков: 0\n",
      "Процент пропусков: 0.0%\n",
      "Общие статистики:\n",
      "count     16083\n",
      "unique       66\n",
      "top       62.01\n",
      "freq       5390\n",
      "Name: main_okved, dtype: object\n",
      "Топ 10 уникальных значений:\n",
      "62.01      5390\n",
      "62.09      1300\n",
      "71.1       1217\n",
      "62.02      1042\n",
      "59.11       912\n",
      "71.20       726\n",
      "63.11       617\n",
      "61.10       562\n",
      "56.10.1     460\n",
      "90.01       358\n",
      "Name: main_okved, dtype: int64\n",
      "--------------------------------------------------------------------------------\n",
      "--------------------------------------------------------------------------------\n",
      "Название: date_reg\n",
      "Тип данных: <class 'numpy.datetime64'>\n",
      "Количество значений: 16083\n",
      "Количество уникальных значений: 2172\n",
      "Количество пропусков: 0\n",
      "Процент пропусков: 0.0%\n",
      "Общие статистики:\n",
      "count                   16083\n",
      "unique                   2172\n",
      "top       2016-02-09 00:00:00\n",
      "freq                       29\n",
      "first     2011-01-11 00:00:00\n",
      "last      2019-12-31 00:00:00\n",
      "Name: date_reg, dtype: object\n",
      "Топ 10 уникальных значений:\n",
      "2016-02-09    29\n",
      "2017-03-24    24\n",
      "2016-05-06    24\n",
      "2016-02-24    24\n",
      "2016-04-20    24\n",
      "2015-03-19    23\n",
      "2015-04-20    23\n",
      "2017-04-27    23\n",
      "2015-04-29    22\n",
      "2015-04-02    22\n",
      "Name: date_reg, dtype: int64\n",
      "--------------------------------------------------------------------------------\n",
      "--------------------------------------------------------------------------------\n",
      "Название: inv_sum\n",
      "Тип данных: <class 'numpy.float64'>\n",
      "Количество значений: 16083\n",
      "Количество уникальных значений: 8881\n",
      "Количество пропусков: 0\n",
      "Процент пропусков: 0.0%\n",
      "Общие статистики:\n",
      "count     16083.00\n",
      "mean        717.89\n",
      "std       56778.49\n",
      "min         -30.52\n",
      "25%           0.26\n",
      "50%           4.59\n",
      "75%          37.48\n",
      "max     7163314.57\n",
      "Name: inv_sum, dtype: float64\n",
      "Топ 10 уникальных значений:\n",
      "Ошибка: 10\n",
      "--------------------------------------------------------------------------------\n",
      "--------------------------------------------------------------------------------\n",
      "Название: target\n",
      "Тип данных: <class 'numpy.int64'>\n",
      "Количество значений: 16083\n",
      "Количество уникальных значений: 10\n",
      "Количество пропусков: 0\n",
      "Процент пропусков: 0.0%\n",
      "Общие статистики:\n",
      "count   16083.00\n",
      "mean        0.31\n",
      "std         1.52\n",
      "min        -1.00\n",
      "25%        -1.00\n",
      "50%         0.00\n",
      "75%         1.00\n",
      "max         8.00\n",
      "Name: target, dtype: float64\n",
      "Топ 10 уникальных значений:\n",
      "-1    6997\n",
      " 1    3853\n",
      " 0    2421\n",
      " 2    1432\n",
      " 3     702\n",
      " 4     364\n",
      " 5     191\n",
      " 6      86\n",
      " 7      32\n",
      " 8       5\n",
      "Name: target, dtype: int64\n",
      "--------------------------------------------------------------------------------\n",
      "--------------------------------------------------------------------------------\n",
      "Название: region\n",
      "Тип данных: <class 'numpy.object_'>\n",
      "Количество значений: 16083\n",
      "Количество уникальных значений: 2\n",
      "Количество пропусков: 0\n",
      "Процент пропусков: 0.0%\n",
      "Общие статистики:\n",
      "count     16083\n",
      "unique        2\n",
      "top         msk\n",
      "freq      12389\n",
      "Name: region, dtype: object\n",
      "Топ 10 уникальных значений:\n",
      "msk    12389\n",
      "spb     3694\n",
      "Name: region, dtype: int64\n",
      "--------------------------------------------------------------------------------\n",
      "--------------------------------------------------------------------------------\n",
      "Название: year\n",
      "Тип данных: <class 'numpy.int64'>\n",
      "Количество значений: 16083\n",
      "Количество уникальных значений: 9\n",
      "Количество пропусков: 0\n",
      "Процент пропусков: 0.0%\n",
      "Общие статистики:\n",
      "count   16083.00\n",
      "mean     2017.48\n",
      "std         1.92\n",
      "min      2011.00\n",
      "25%      2016.00\n",
      "50%      2018.00\n",
      "75%      2019.00\n",
      "max      2019.00\n",
      "Name: year, dtype: float64\n",
      "Топ 10 уникальных значений:\n",
      "2019    7683\n",
      "2018    2381\n",
      "2017    1708\n",
      "2016    1490\n",
      "2015    1127\n",
      "2014     853\n",
      "2013     562\n",
      "2012     248\n",
      "2011      31\n",
      "Name: year, dtype: int64\n",
      "--------------------------------------------------------------------------------\n",
      "--------------------------------------------------------------------------------\n",
      "Название: first_year\n",
      "Тип данных: <class 'numpy.int64'>\n",
      "Количество значений: 16083\n",
      "Количество уникальных значений: 9\n",
      "Количество пропусков: 0\n",
      "Процент пропусков: 0.0%\n",
      "Общие статистики:\n",
      "count   16083.00\n",
      "mean     2015.48\n",
      "std         2.06\n",
      "min      2011.00\n",
      "25%      2014.00\n",
      "50%      2016.00\n",
      "75%      2017.00\n",
      "max      2019.00\n",
      "Name: first_year, dtype: float64\n",
      "Топ 10 уникальных значений:\n",
      "2016    2727\n",
      "2017    2649\n",
      "2015    2609\n",
      "2018    2136\n",
      "2014    2086\n",
      "2013    1368\n",
      "2012    1205\n",
      "2019     874\n",
      "2011     429\n",
      "Name: first_year, dtype: int64\n",
      "--------------------------------------------------------------------------------\n",
      "--------------------------------------------------------------------------------\n",
      "Название: last_year\n",
      "Тип данных: <class 'numpy.int64'>\n",
      "Количество значений: 16083\n",
      "Количество уникальных значений: 2\n",
      "Количество пропусков: 0\n",
      "Процент пропусков: 0.0%\n",
      "Общие статистики:\n",
      "count   16083.00\n",
      "mean     2018.91\n",
      "std         0.29\n",
      "min      2018.00\n",
      "25%      2019.00\n",
      "50%      2019.00\n",
      "75%      2019.00\n",
      "max      2019.00\n",
      "Name: last_year, dtype: float64\n",
      "Топ 10 уникальных значений:\n",
      "2019    14590\n",
      "2018     1493\n",
      "Name: last_year, dtype: int64\n",
      "--------------------------------------------------------------------------------\n",
      "--------------------------------------------------------------------------------\n",
      "Название: inv_ind_1100\n",
      "Тип данных: <class 'numpy.float64'>\n",
      "Количество значений: 16083\n",
      "Количество уникальных значений: 1526\n",
      "Количество пропусков: 0\n",
      "Процент пропусков: 0.0%\n",
      "Общие статистики:\n",
      "count     16083.00\n",
      "mean        532.19\n",
      "std       56559.20\n",
      "min           0.00\n",
      "25%           0.00\n",
      "50%           0.00\n",
      "75%           0.00\n",
      "max     7163311.51\n",
      "Name: inv_ind_1100, dtype: float64\n",
      "Топ 10 уникальных значений:\n",
      "Ошибка: 10\n",
      "--------------------------------------------------------------------------------\n",
      "--------------------------------------------------------------------------------\n",
      "Название: inv_ind_1110\n",
      "Тип данных: <class 'numpy.float64'>\n",
      "Количество значений: 16083\n",
      "Количество уникальных значений: 399\n",
      "Количество пропусков: 0\n",
      "Процент пропусков: 0.0%\n",
      "Общие статистики:\n",
      "count     16083.00\n",
      "mean        455.71\n",
      "std       56486.20\n",
      "min           0.00\n",
      "25%           0.00\n",
      "50%           0.00\n",
      "75%           0.00\n",
      "max     7163311.51\n",
      "Name: inv_ind_1110, dtype: float64\n",
      "Топ 10 уникальных значений:\n",
      "Ошибка: 10\n",
      "--------------------------------------------------------------------------------\n",
      "--------------------------------------------------------------------------------\n",
      "Название: inv_ind_1120\n",
      "Тип данных: <class 'numpy.float64'>\n",
      "Количество значений: 16083\n",
      "Количество уникальных значений: 37\n",
      "Количество пропусков: 0\n",
      "Процент пропусков: 0.0%\n",
      "Общие статистики:\n",
      "count   16083.00\n",
      "mean        0.51\n",
      "std        20.54\n",
      "min         0.00\n",
      "25%         0.00\n",
      "50%         0.00\n",
      "75%         0.00\n",
      "max      1926.16\n",
      "Name: inv_ind_1120, dtype: float64\n",
      "Топ 10 уникальных значений:\n",
      "Ошибка: 10\n",
      "--------------------------------------------------------------------------------\n",
      "--------------------------------------------------------------------------------\n",
      "Название: inv_ind_1130\n",
      "Тип данных: <class 'numpy.float64'>\n",
      "Количество значений: 16083\n",
      "Количество уникальных значений: 1\n",
      "Количество пропусков: 0\n",
      "Процент пропусков: 0.0%\n",
      "Общие статистики:\n",
      "count   16083.00\n",
      "mean        0.00\n",
      "std         0.00\n",
      "min         0.00\n",
      "25%         0.00\n",
      "50%         0.00\n",
      "75%         0.00\n",
      "max         0.00\n",
      "Name: inv_ind_1130, dtype: float64\n",
      "Топ 10 уникальных значений:\n",
      "0.00    16083\n",
      "Name: inv_ind_1130, dtype: int64\n",
      "--------------------------------------------------------------------------------\n",
      "--------------------------------------------------------------------------------\n",
      "Название: inv_ind_1140\n",
      "Тип данных: <class 'numpy.float64'>\n",
      "Количество значений: 16083\n",
      "Количество уникальных значений: 1\n",
      "Количество пропусков: 0\n",
      "Процент пропусков: 0.0%\n",
      "Общие статистики:\n",
      "count   16083.00\n",
      "mean        0.00\n",
      "std         0.00\n",
      "min         0.00\n",
      "25%         0.00\n",
      "50%         0.00\n",
      "75%         0.00\n",
      "max         0.00\n",
      "Name: inv_ind_1140, dtype: float64\n",
      "Топ 10 уникальных значений:\n",
      "0.00    16083\n",
      "Name: inv_ind_1140, dtype: int64\n",
      "--------------------------------------------------------------------------------\n",
      "--------------------------------------------------------------------------------\n",
      "Название: inv_ind_1150\n",
      "Тип данных: <class 'numpy.float64'>\n",
      "Количество значений: 16083\n",
      "Количество уникальных значений: 1967\n",
      "Количество пропусков: 0\n",
      "Процент пропусков: 0.0%\n",
      "Общие статистики:\n",
      "count    16083.00\n",
      "mean        60.98\n",
      "std       2620.13\n",
      "min         -0.15\n",
      "25%          0.00\n",
      "50%          0.00\n",
      "75%          0.00\n",
      "max     265508.01\n",
      "Name: inv_ind_1150, dtype: float64\n",
      "Топ 10 уникальных значений:\n",
      "Ошибка: 10\n",
      "--------------------------------------------------------------------------------\n",
      "--------------------------------------------------------------------------------\n",
      "Название: inv_ind_1160\n",
      "Тип данных: <class 'numpy.float64'>\n",
      "Количество значений: 16083\n",
      "Количество уникальных значений: 9\n",
      "Количество пропусков: 0\n",
      "Процент пропусков: 0.0%\n",
      "Общие статистики:\n",
      "count   16083.00\n",
      "mean        0.03\n",
      "std         2.24\n",
      "min        -2.62\n",
      "25%         0.00\n",
      "50%         0.00\n",
      "75%         0.00\n",
      "max       265.28\n",
      "Name: inv_ind_1160, dtype: float64\n",
      "Топ 10 уникальных значений:\n",
      "Ошибка: 10\n",
      "--------------------------------------------------------------------------------\n",
      "--------------------------------------------------------------------------------\n",
      "Название: inv_ind_1170\n",
      "Тип данных: <class 'numpy.float64'>\n",
      "Количество значений: 16083\n",
      "Количество уникальных значений: 849\n",
      "Количество пропусков: 0\n",
      "Процент пропусков: 0.0%\n",
      "Общие статистики:\n",
      "count    16083.00\n",
      "mean        80.35\n",
      "std       4985.60\n",
      "min        -15.88\n",
      "25%          0.00\n",
      "50%          0.00\n",
      "75%          0.00\n",
      "max     542284.48\n",
      "Name: inv_ind_1170, dtype: float64\n",
      "Топ 10 уникальных значений:\n",
      "Ошибка: 10\n",
      "--------------------------------------------------------------------------------\n",
      "--------------------------------------------------------------------------------\n",
      "Название: inv_ind_1180\n",
      "Тип данных: <class 'numpy.float64'>\n",
      "Количество значений: 16083\n",
      "Количество уникальных значений: 514\n",
      "Количество пропусков: 0\n",
      "Процент пропусков: 0.0%\n",
      "Общие статистики:\n",
      "count   16083.00\n",
      "mean        3.39\n",
      "std       116.50\n",
      "min         0.00\n",
      "25%         0.00\n",
      "50%         0.00\n",
      "75%         0.00\n",
      "max      8804.76\n",
      "Name: inv_ind_1180, dtype: float64\n",
      "Топ 10 уникальных значений:\n",
      "Ошибка: 10\n",
      "--------------------------------------------------------------------------------\n",
      "--------------------------------------------------------------------------------\n",
      "Название: inv_ind_1190\n",
      "Тип данных: <class 'numpy.float64'>\n",
      "Количество значений: 16083\n",
      "Количество уникальных значений: 244\n",
      "Количество пропусков: 0\n",
      "Процент пропусков: 0.0%\n",
      "Общие статистики:\n",
      "count   16083.00\n",
      "mean        5.78\n",
      "std       332.01\n",
      "min         0.00\n",
      "25%         0.00\n",
      "50%         0.00\n",
      "75%         0.00\n",
      "max     26065.17\n",
      "Name: inv_ind_1190, dtype: float64\n",
      "Топ 10 уникальных значений:\n",
      "Ошибка: 10\n",
      "--------------------------------------------------------------------------------\n",
      "--------------------------------------------------------------------------------\n",
      "Название: inv_ind_1200\n",
      "Тип данных: <class 'numpy.float64'>\n",
      "Количество значений: 16083\n",
      "Количество уникальных значений: 3995\n",
      "Количество пропусков: 0\n",
      "Процент пропусков: 0.0%\n",
      "Общие статистики:\n",
      "count    16083.00\n",
      "mean       148.43\n",
      "std       3310.79\n",
      "min       -127.11\n",
      "25%          0.00\n",
      "50%          0.00\n",
      "75%          1.09\n",
      "max     377574.79\n",
      "Name: inv_ind_1200, dtype: float64\n",
      "Топ 10 уникальных значений:\n",
      "Ошибка: 10\n",
      "--------------------------------------------------------------------------------\n",
      "--------------------------------------------------------------------------------\n",
      "Название: inv_ind_1210\n",
      "Тип данных: <class 'numpy.float64'>\n",
      "Количество значений: 16083\n",
      "Количество уникальных значений: 2761\n",
      "Количество пропусков: 0\n",
      "Процент пропусков: 0.0%\n",
      "Общие статистики:\n",
      "count   16083.00\n",
      "mean       20.68\n",
      "std       333.90\n",
      "min        -6.61\n",
      "25%         0.00\n",
      "50%         0.00\n",
      "75%         0.15\n",
      "max     26689.38\n",
      "Name: inv_ind_1210, dtype: float64\n",
      "Топ 10 уникальных значений:\n",
      "Ошибка: 10\n",
      "--------------------------------------------------------------------------------\n",
      "--------------------------------------------------------------------------------\n",
      "Название: inv_ind_1220\n",
      "Тип данных: <class 'numpy.float64'>\n",
      "Количество значений: 16083\n",
      "Количество уникальных значений: 560\n",
      "Количество пропусков: 0\n",
      "Процент пропусков: 0.0%\n",
      "Общие статистики:\n",
      "count   16083.00\n",
      "mean        1.91\n",
      "std        69.10\n",
      "min        -0.99\n",
      "25%         0.00\n",
      "50%         0.00\n",
      "75%         0.00\n",
      "max      5945.94\n",
      "Name: inv_ind_1220, dtype: float64\n",
      "Топ 10 уникальных значений:\n",
      "Ошибка: 10\n",
      "--------------------------------------------------------------------------------\n",
      "--------------------------------------------------------------------------------\n",
      "Название: inv_ind_1230\n",
      "Тип данных: <class 'numpy.float64'>\n",
      "Количество значений: 16083\n",
      "Количество уникальных значений: 6893\n",
      "Количество пропусков: 0\n",
      "Процент пропусков: 0.0%\n",
      "Общие статистики:\n",
      "count    16083.00\n",
      "mean       159.82\n",
      "std       1790.96\n",
      "min      -1058.62\n",
      "25%          0.00\n",
      "50%          1.44\n",
      "75%         21.63\n",
      "max     147776.86\n",
      "Name: inv_ind_1230, dtype: float64\n",
      "Топ 10 уникальных значений:\n",
      "Ошибка: 10\n",
      "--------------------------------------------------------------------------------\n",
      "--------------------------------------------------------------------------------\n",
      "Название: inv_ind_1240\n",
      "Тип данных: <class 'numpy.float64'>\n",
      "Количество значений: 16083\n",
      "Количество уникальных значений: 326\n",
      "Количество пропусков: 0\n",
      "Процент пропусков: 0.0%\n",
      "Общие статистики:\n",
      "count    16083.00\n",
      "mean        29.42\n",
      "std       2294.07\n",
      "min       -174.55\n",
      "25%          0.00\n",
      "50%          0.00\n",
      "75%          0.00\n",
      "max     288176.87\n",
      "Name: inv_ind_1240, dtype: float64\n",
      "Топ 10 уникальных значений:\n",
      "Ошибка: 10\n",
      "--------------------------------------------------------------------------------\n",
      "--------------------------------------------------------------------------------\n",
      "Название: inv_ind_1250\n",
      "Тип данных: <class 'numpy.float64'>\n",
      "Количество значений: 16083\n",
      "Количество уникальных значений: 5576\n",
      "Количество пропусков: 0\n",
      "Процент пропусков: 0.0%\n",
      "Общие статистики:\n",
      "count   16083.00\n",
      "mean       39.43\n",
      "std       865.32\n",
      "min        -9.84\n",
      "25%         0.00\n",
      "50%         0.60\n",
      "75%         5.61\n",
      "max     82977.02\n",
      "Name: inv_ind_1250, dtype: float64\n",
      "Топ 10 уникальных значений:\n",
      "Ошибка: 10\n",
      "--------------------------------------------------------------------------------\n",
      "--------------------------------------------------------------------------------\n",
      "Название: inv_ind_1260\n",
      "Тип данных: <class 'numpy.float64'>\n",
      "Количество значений: 16083\n",
      "Количество уникальных значений: 768\n",
      "Количество пропусков: 0\n",
      "Процент пропусков: 0.0%\n",
      "Общие статистики:\n",
      "count   16083.00\n",
      "mean        4.36\n",
      "std       212.08\n",
      "min         0.00\n",
      "25%         0.00\n",
      "50%         0.00\n",
      "75%         0.00\n",
      "max     20551.45\n",
      "Name: inv_ind_1260, dtype: float64\n",
      "Топ 10 уникальных значений:\n",
      "Ошибка: 10\n",
      "--------------------------------------------------------------------------------\n",
      "--------------------------------------------------------------------------------\n",
      "Название: inv_ind_1300\n",
      "Тип данных: <class 'numpy.float64'>\n",
      "Количество значений: 16083\n",
      "Количество уникальных значений: 8071\n",
      "Количество пропусков: 0\n",
      "Процент пропусков: 0.0%\n",
      "Общие статистики:\n",
      "count      16083.00\n",
      "mean        1508.62\n",
      "std       169550.73\n",
      "min      -274531.21\n",
      "25%            0.00\n",
      "50%            0.58\n",
      "75%            9.52\n",
      "max     21489942.18\n",
      "Name: inv_ind_1300, dtype: float64\n",
      "Топ 10 уникальных значений:\n",
      "Ошибка: 10\n",
      "--------------------------------------------------------------------------------\n",
      "--------------------------------------------------------------------------------\n",
      "Название: inv_ind_1310\n",
      "Тип данных: <class 'numpy.float64'>\n",
      "Количество значений: 16083\n",
      "Количество уникальных значений: 482\n",
      "Количество пропусков: 0\n",
      "Процент пропусков: 0.0%\n",
      "Общие статистики:\n",
      "count    16083.00\n",
      "mean        65.62\n",
      "std       2375.30\n",
      "min        -43.83\n",
      "25%          0.00\n",
      "50%          0.00\n",
      "75%          0.00\n",
      "max     147776.86\n",
      "Name: inv_ind_1310, dtype: float64\n",
      "Топ 10 уникальных значений:\n",
      "Ошибка: 10\n",
      "--------------------------------------------------------------------------------\n",
      "--------------------------------------------------------------------------------\n",
      "Название: inv_ind_1320\n",
      "Тип данных: <class 'numpy.float64'>\n",
      "Количество значений: 16083\n",
      "Количество уникальных значений: 5\n",
      "Количество пропусков: 0\n",
      "Процент пропусков: 0.0%\n",
      "Общие статистики:\n",
      "count   16083.00\n",
      "mean       -0.00\n",
      "std         0.15\n",
      "min       -19.26\n",
      "25%         0.00\n",
      "50%         0.00\n",
      "75%         0.00\n",
      "max         0.00\n",
      "Name: inv_ind_1320, dtype: float64\n",
      "Топ 10 уникальных значений:\n",
      "Ошибка: 10\n",
      "--------------------------------------------------------------------------------\n",
      "--------------------------------------------------------------------------------\n",
      "Название: inv_ind_1340\n",
      "Тип данных: <class 'numpy.float64'>\n",
      "Количество значений: 16083\n",
      "Количество уникальных значений: 15\n",
      "Количество пропусков: 0\n",
      "Процент пропусков: 0.0%\n",
      "Общие статистики:\n",
      "count   16083.00\n",
      "mean        2.88\n",
      "std       356.81\n",
      "min         0.00\n",
      "25%         0.00\n",
      "50%         0.00\n",
      "75%         0.00\n",
      "max     45246.55\n",
      "Name: inv_ind_1340, dtype: float64\n",
      "Топ 10 уникальных значений:\n",
      "Ошибка: 10\n",
      "--------------------------------------------------------------------------------\n",
      "--------------------------------------------------------------------------------\n",
      "Название: inv_ind_1350\n",
      "Тип данных: <class 'numpy.float64'>\n",
      "Количество значений: 16083\n",
      "Количество уникальных значений: 140\n",
      "Количество пропусков: 0\n",
      "Процент пропусков: 0.0%\n",
      "Общие статистики:\n",
      "count      16083.00\n",
      "mean         921.20\n",
      "std       112979.38\n",
      "min           -0.16\n",
      "25%            0.00\n",
      "50%            0.00\n",
      "75%            0.00\n",
      "max     14326623.01\n",
      "Name: inv_ind_1350, dtype: float64\n",
      "Топ 10 уникальных значений:\n",
      "Ошибка: 10\n",
      "--------------------------------------------------------------------------------\n",
      "--------------------------------------------------------------------------------\n",
      "Название: inv_ind_1360\n",
      "Тип данных: <class 'numpy.float64'>\n",
      "Количество значений: 16083\n",
      "Количество уникальных значений: 46\n",
      "Количество пропусков: 0\n",
      "Процент пропусков: 0.0%\n",
      "Общие статистики:\n",
      "count   16083.00\n",
      "mean        0.13\n",
      "std        11.74\n",
      "min         0.00\n",
      "25%         0.00\n",
      "50%         0.00\n",
      "75%         0.00\n",
      "max      1461.04\n",
      "Name: inv_ind_1360, dtype: float64\n",
      "Топ 10 уникальных значений:\n",
      "Ошибка: 10\n",
      "--------------------------------------------------------------------------------\n",
      "--------------------------------------------------------------------------------\n",
      "Название: inv_ind_1370\n",
      "Тип данных: <class 'numpy.float64'>\n",
      "Количество значений: 16083\n",
      "Количество уникальных значений: 2711\n",
      "Количество пропусков: 0\n",
      "Процент пропусков: 0.0%\n",
      "Общие статистики:\n",
      "count     16083.00\n",
      "mean        -14.09\n",
      "std        2171.73\n",
      "min     -183022.10\n",
      "25%           0.00\n",
      "50%           0.00\n",
      "75%           0.00\n",
      "max       62469.59\n",
      "Name: inv_ind_1370, dtype: float64\n",
      "Топ 10 уникальных значений:\n",
      "Ошибка: 10\n",
      "--------------------------------------------------------------------------------\n",
      "--------------------------------------------------------------------------------\n",
      "Название: inv_ind_1400\n",
      "Тип данных: <class 'numpy.float64'>\n",
      "Количество значений: 16083\n",
      "Количество уникальных значений: 796\n",
      "Количество пропусков: 0\n",
      "Процент пропусков: 0.0%\n",
      "Общие статистики:\n",
      "count    16083.00\n",
      "mean        49.99\n",
      "std       2950.98\n",
      "min        -32.27\n",
      "25%          0.00\n",
      "50%          0.00\n",
      "75%          0.00\n",
      "max     360698.25\n",
      "Name: inv_ind_1400, dtype: float64\n",
      "Топ 10 уникальных значений:\n",
      "Ошибка: 10\n",
      "--------------------------------------------------------------------------------\n",
      "--------------------------------------------------------------------------------\n",
      "Название: inv_ind_1410\n",
      "Тип данных: <class 'numpy.float64'>\n",
      "Количество значений: 16083\n",
      "Количество уникальных значений: 1604\n",
      "Количество пропусков: 0\n",
      "Процент пропусков: 0.0%\n",
      "Общие статистики:\n",
      "count    16083.00\n",
      "mean        70.56\n",
      "std       2132.93\n",
      "min        -64.54\n",
      "25%          0.00\n",
      "50%          0.00\n",
      "75%          0.00\n",
      "max     189462.45\n",
      "Name: inv_ind_1410, dtype: float64\n",
      "Топ 10 уникальных значений:\n",
      "Ошибка: 10\n",
      "--------------------------------------------------------------------------------\n",
      "--------------------------------------------------------------------------------\n",
      "Название: inv_ind_1420\n",
      "Тип данных: <class 'numpy.float64'>\n",
      "Количество значений: 16083\n",
      "Количество уникальных значений: 204\n",
      "Количество пропусков: 0\n",
      "Процент пропусков: 0.0%\n",
      "Общие статистики:\n",
      "count   16083.00\n",
      "mean        0.80\n",
      "std        45.06\n",
      "min         0.00\n",
      "25%         0.00\n",
      "50%         0.00\n",
      "75%         0.00\n",
      "max      4815.25\n",
      "Name: inv_ind_1420, dtype: float64\n",
      "Топ 10 уникальных значений:\n",
      "Ошибка: 10\n",
      "--------------------------------------------------------------------------------\n",
      "--------------------------------------------------------------------------------\n",
      "Название: inv_ind_1430\n",
      "Тип данных: <class 'numpy.float64'>\n",
      "Количество значений: 16083\n",
      "Количество уникальных значений: 2\n",
      "Количество пропусков: 0\n",
      "Процент пропусков: 0.0%\n",
      "Общие статистики:\n",
      "count   16083.00\n",
      "mean        0.00\n",
      "std         0.28\n",
      "min         0.00\n",
      "25%         0.00\n",
      "50%         0.00\n",
      "75%         0.00\n",
      "max        35.95\n",
      "Name: inv_ind_1430, dtype: float64\n",
      "Топ 10 уникальных значений:\n",
      "0.00    16082\n",
      "Name: inv_ind_1430, dtype: int64\n",
      "--------------------------------------------------------------------------------\n",
      "--------------------------------------------------------------------------------\n",
      "Название: inv_ind_1450\n",
      "Тип данных: <class 'numpy.float64'>\n",
      "Количество значений: 16083\n",
      "Количество уникальных значений: 123\n",
      "Количество пропусков: 0\n",
      "Процент пропусков: 0.0%\n",
      "Общие статистики:\n",
      "count    16083.00\n",
      "mean        37.90\n",
      "std       4215.66\n",
      "min         -4.49\n",
      "25%          0.00\n",
      "50%          0.00\n",
      "75%          0.00\n",
      "max     531934.06\n",
      "Name: inv_ind_1450, dtype: float64\n",
      "Топ 10 уникальных значений:\n",
      "Ошибка: 10\n",
      "--------------------------------------------------------------------------------\n",
      "--------------------------------------------------------------------------------\n",
      "Название: inv_ind_1500\n",
      "Тип данных: <class 'numpy.float64'>\n",
      "Количество значений: 16083\n",
      "Количество уникальных значений: 3569\n",
      "Количество пропусков: 0\n",
      "Процент пропусков: 0.0%\n",
      "Общие статистики:\n",
      "count    16083.00\n",
      "mean       130.63\n",
      "std       2844.74\n",
      "min        -11.55\n",
      "25%          0.00\n",
      "50%          0.00\n",
      "75%          0.13\n",
      "max     288147.20\n",
      "Name: inv_ind_1500, dtype: float64\n",
      "Топ 10 уникальных значений:\n",
      "Ошибка: 10\n",
      "--------------------------------------------------------------------------------\n",
      "--------------------------------------------------------------------------------\n",
      "Название: inv_ind_1510\n",
      "Тип данных: <class 'numpy.float64'>\n",
      "Количество значений: 16083\n",
      "Количество уникальных значений: 2659\n",
      "Количество пропусков: 0\n",
      "Процент пропусков: 0.0%\n",
      "Общие статистики:\n",
      "count    16083.00\n",
      "mean        94.98\n",
      "std       5044.00\n",
      "min       -169.36\n",
      "25%          0.00\n",
      "50%          0.00\n",
      "75%          0.06\n",
      "max     576152.91\n",
      "Name: inv_ind_1510, dtype: float64\n",
      "Топ 10 уникальных значений:\n",
      "Ошибка: 10\n",
      "--------------------------------------------------------------------------------\n",
      "--------------------------------------------------------------------------------\n",
      "Название: inv_ind_1520\n",
      "Тип данных: <class 'numpy.float64'>\n",
      "Количество значений: 16083\n",
      "Количество уникальных значений: 6563\n",
      "Количество пропусков: 0\n",
      "Процент пропусков: 0.0%\n",
      "Общие статистики:\n",
      "count   16083.00\n",
      "mean      103.34\n",
      "std      1052.62\n",
      "min      -276.81\n",
      "25%         0.00\n",
      "50%         0.68\n",
      "75%        11.59\n",
      "max     52818.02\n",
      "Name: inv_ind_1520, dtype: float64\n",
      "Топ 10 уникальных значений:\n",
      "Ошибка: 10\n",
      "--------------------------------------------------------------------------------\n",
      "--------------------------------------------------------------------------------\n",
      "Название: inv_ind_1530\n",
      "Тип данных: <class 'numpy.float64'>\n",
      "Количество значений: 16083\n",
      "Количество уникальных значений: 70\n",
      "Количество пропусков: 0\n",
      "Процент пропусков: 0.0%\n",
      "Общие статистики:\n",
      "count   16083.00\n",
      "mean        1.67\n",
      "std       108.70\n",
      "min         0.00\n",
      "25%         0.00\n",
      "50%         0.00\n",
      "75%         0.00\n",
      "max     13092.13\n",
      "Name: inv_ind_1530, dtype: float64\n",
      "Топ 10 уникальных значений:\n",
      "Ошибка: 10\n",
      "--------------------------------------------------------------------------------\n",
      "--------------------------------------------------------------------------------\n",
      "Название: inv_ind_1540\n",
      "Тип данных: <class 'numpy.float64'>\n",
      "Количество значений: 16083\n",
      "Количество уникальных значений: 311\n",
      "Количество пропусков: 0\n",
      "Процент пропусков: 0.0%\n",
      "Общие статистики:\n",
      "count   16083.00\n",
      "mean        1.73\n",
      "std        38.35\n",
      "min         0.00\n",
      "25%         0.00\n",
      "50%         0.00\n",
      "75%         0.00\n",
      "max      2457.18\n",
      "Name: inv_ind_1540, dtype: float64\n",
      "Топ 10 уникальных значений:\n",
      "Ошибка: 10\n",
      "--------------------------------------------------------------------------------\n",
      "--------------------------------------------------------------------------------\n",
      "Название: inv_ind_1550\n",
      "Тип данных: <class 'numpy.float64'>\n",
      "Количество значений: 16083\n",
      "Количество уникальных значений: 402\n",
      "Количество пропусков: 0\n",
      "Процент пропусков: 0.0%\n",
      "Общие статистики:\n",
      "count   16083.00\n",
      "mean        4.19\n",
      "std       233.07\n",
      "min       -61.49\n",
      "25%         0.00\n",
      "50%         0.00\n",
      "75%         0.00\n",
      "max     26202.10\n",
      "Name: inv_ind_1550, dtype: float64\n",
      "Топ 10 уникальных значений:\n",
      "Ошибка: 10\n",
      "--------------------------------------------------------------------------------\n",
      "--------------------------------------------------------------------------------\n",
      "Название: inv_ind_1700\n",
      "Тип данных: <class 'numpy.float64'>\n",
      "Количество значений: 16083\n",
      "Количество уникальных значений: 8879\n",
      "Количество пропусков: 0\n",
      "Процент пропусков: 0.0%\n",
      "Общие статистики:\n",
      "count     16083.00\n",
      "mean        717.88\n",
      "std       56778.49\n",
      "min         -30.52\n",
      "25%           0.26\n",
      "50%           4.60\n",
      "75%          37.48\n",
      "max     7163314.57\n",
      "Name: inv_ind_1700, dtype: float64\n",
      "Топ 10 уникальных значений:\n",
      "Ошибка: 10\n",
      "--------------------------------------------------------------------------------\n",
      "--------------------------------------------------------------------------------\n",
      "Название: inv_ind_2100\n",
      "Тип данных: <class 'numpy.float64'>\n",
      "Количество значений: 16083\n",
      "Количество уникальных значений: 3086\n",
      "Количество пропусков: 0\n",
      "Процент пропусков: 0.0%\n",
      "Общие статистики:\n",
      "count    16083.00\n",
      "mean        36.07\n",
      "std        430.34\n",
      "min     -15213.20\n",
      "25%          0.00\n",
      "50%          0.00\n",
      "75%          0.00\n",
      "max      21494.76\n",
      "Name: inv_ind_2100, dtype: float64\n",
      "Топ 10 уникальных значений:\n",
      "Ошибка: 10\n",
      "--------------------------------------------------------------------------------\n",
      "--------------------------------------------------------------------------------\n",
      "Название: inv_ind_2110\n",
      "Тип данных: <class 'numpy.float64'>\n",
      "Количество значений: 16083\n",
      "Количество уникальных значений: 7631\n",
      "Количество пропусков: 0\n",
      "Процент пропусков: 0.0%\n",
      "Общие статистики:\n",
      "count    16083.00\n",
      "mean       195.92\n",
      "std       1730.46\n",
      "min          0.00\n",
      "25%          0.00\n",
      "50%          1.27\n",
      "75%         47.05\n",
      "max     102982.56\n",
      "Name: inv_ind_2110, dtype: float64\n",
      "Топ 10 уникальных значений:\n",
      "Ошибка: 10\n",
      "--------------------------------------------------------------------------------\n",
      "--------------------------------------------------------------------------------\n",
      "Название: inv_ind_2120\n",
      "Тип данных: <class 'numpy.float64'>\n",
      "Количество значений: 16083\n",
      "Количество уникальных значений: 7308\n",
      "Количество пропусков: 0\n",
      "Процент пропусков: 0.0%\n",
      "Общие статистики:\n",
      "count     16083.00\n",
      "mean       -284.30\n",
      "std        2929.37\n",
      "min     -183841.94\n",
      "25%         -52.59\n",
      "50%          -0.17\n",
      "75%           0.00\n",
      "max         950.28\n",
      "Name: inv_ind_2120, dtype: float64\n",
      "Топ 10 уникальных значений:\n",
      "Ошибка: 10\n",
      "--------------------------------------------------------------------------------\n",
      "--------------------------------------------------------------------------------\n",
      "Название: inv_ind_2200\n",
      "Тип данных: <class 'numpy.float64'>\n",
      "Количество значений: 16083\n",
      "Количество уникальных значений: 3216\n",
      "Количество пропусков: 0\n",
      "Процент пропусков: 0.0%\n",
      "Общие статистики:\n",
      "count    16083.00\n",
      "mean         7.71\n",
      "std        312.30\n",
      "min     -23764.94\n",
      "25%          0.00\n",
      "50%          0.00\n",
      "75%          0.00\n",
      "max       9471.90\n",
      "Name: inv_ind_2200, dtype: float64\n",
      "Топ 10 уникальных значений:\n",
      "Ошибка: 10\n",
      "--------------------------------------------------------------------------------\n",
      "--------------------------------------------------------------------------------\n",
      "Название: inv_ind_2210\n",
      "Тип данных: <class 'numpy.float64'>\n",
      "Количество значений: 16083\n",
      "Количество уникальных значений: 455\n",
      "Количество пропусков: 0\n",
      "Процент пропусков: 0.0%\n",
      "Общие статистики:\n",
      "count    16083.00\n",
      "mean        -5.92\n",
      "std        144.14\n",
      "min     -10101.97\n",
      "25%          0.00\n",
      "50%          0.00\n",
      "75%          0.00\n",
      "max          0.00\n",
      "Name: inv_ind_2210, dtype: float64\n",
      "Топ 10 уникальных значений:\n",
      "Ошибка: 10\n",
      "--------------------------------------------------------------------------------\n",
      "--------------------------------------------------------------------------------\n",
      "Название: inv_ind_2220\n",
      "Тип данных: <class 'numpy.float64'>\n",
      "Количество значений: 16083\n",
      "Количество уникальных значений: 1829\n",
      "Количество пропусков: 0\n",
      "Процент пропусков: 0.0%\n",
      "Общие статистики:\n",
      "count    16083.00\n",
      "mean       -22.43\n",
      "std        279.10\n",
      "min     -16261.66\n",
      "25%          0.00\n",
      "50%          0.00\n",
      "75%          0.00\n",
      "max          0.00\n",
      "Name: inv_ind_2220, dtype: float64\n",
      "Топ 10 уникальных значений:\n",
      "Ошибка: 10\n",
      "--------------------------------------------------------------------------------\n",
      "--------------------------------------------------------------------------------\n",
      "Название: inv_ind_2300\n",
      "Тип данных: <class 'numpy.float64'>\n",
      "Количество значений: 16083\n",
      "Количество уникальных значений: 3197\n",
      "Количество пропусков: 0\n",
      "Процент пропусков: 0.0%\n",
      "Общие статистики:\n",
      "count    16083.00\n",
      "mean         5.24\n",
      "std        331.89\n",
      "min     -25297.20\n",
      "25%          0.00\n",
      "50%          0.00\n",
      "75%          0.00\n",
      "max       9436.99\n",
      "Name: inv_ind_2300, dtype: float64\n",
      "Топ 10 уникальных значений:\n",
      "Ошибка: 10\n",
      "--------------------------------------------------------------------------------\n",
      "--------------------------------------------------------------------------------\n",
      "Название: inv_ind_2310\n",
      "Тип данных: <class 'numpy.float64'>\n",
      "Количество значений: 16083\n",
      "Количество уникальных значений: 13\n",
      "Количество пропусков: 0\n",
      "Процент пропусков: 0.0%\n",
      "Общие статистики:\n",
      "count   16083.00\n",
      "mean        0.15\n",
      "std        13.53\n",
      "min         0.00\n",
      "25%         0.00\n",
      "50%         0.00\n",
      "75%         0.00\n",
      "max      1678.50\n",
      "Name: inv_ind_2310, dtype: float64\n",
      "Топ 10 уникальных значений:\n",
      "Ошибка: 10\n",
      "--------------------------------------------------------------------------------\n",
      "--------------------------------------------------------------------------------\n",
      "Название: inv_ind_2320\n",
      "Тип данных: <class 'numpy.float64'>\n",
      "Количество значений: 16083\n",
      "Количество уникальных значений: 241\n",
      "Количество пропусков: 0\n",
      "Процент пропусков: 0.0%\n",
      "Общие статистики:\n",
      "count   16083.00\n",
      "mean        1.07\n",
      "std        74.29\n",
      "min         0.00\n",
      "25%         0.00\n",
      "50%         0.00\n",
      "75%         0.00\n",
      "max      9275.15\n",
      "Name: inv_ind_2320, dtype: float64\n",
      "Топ 10 уникальных значений:\n",
      "Ошибка: 10\n",
      "--------------------------------------------------------------------------------\n",
      "--------------------------------------------------------------------------------\n",
      "Название: inv_ind_2330\n",
      "Тип данных: <class 'numpy.float64'>\n",
      "Количество значений: 16083\n",
      "Количество уникальных значений: 589\n",
      "Количество пропусков: 0\n",
      "Процент пропусков: 0.0%\n",
      "Общие статистики:\n",
      "count   16083.00\n",
      "mean       -1.65\n",
      "std        77.73\n",
      "min     -8826.17\n",
      "25%         0.00\n",
      "50%         0.00\n",
      "75%         0.00\n",
      "max         0.06\n",
      "Name: inv_ind_2330, dtype: float64\n",
      "Топ 10 уникальных значений:\n",
      "Ошибка: 10\n",
      "--------------------------------------------------------------------------------\n",
      "--------------------------------------------------------------------------------\n",
      "Название: inv_ind_2340\n",
      "Тип данных: <class 'numpy.float64'>\n",
      "Количество значений: 16083\n",
      "Количество уникальных значений: 1790\n",
      "Количество пропусков: 0\n",
      "Процент пропусков: 0.0%\n",
      "Общие статистики:\n",
      "count   16083.00\n",
      "mean       18.20\n",
      "std       312.31\n",
      "min       -41.90\n",
      "25%         0.00\n",
      "50%         0.00\n",
      "75%         0.00\n",
      "max     19833.95\n",
      "Name: inv_ind_2340, dtype: float64\n",
      "Топ 10 уникальных значений:\n",
      "Ошибка: 10\n",
      "--------------------------------------------------------------------------------\n",
      "--------------------------------------------------------------------------------\n",
      "Название: inv_ind_2350\n",
      "Тип данных: <class 'numpy.float64'>\n",
      "Количество значений: 16083\n",
      "Количество уникальных значений: 2519\n",
      "Количество пропусков: 0\n",
      "Процент пропусков: 0.0%\n",
      "Общие статистики:\n",
      "count    16083.00\n",
      "mean       -20.76\n",
      "std        318.17\n",
      "min     -19833.95\n",
      "25%         -0.47\n",
      "50%         -0.10\n",
      "75%          0.00\n",
      "max        223.15\n",
      "Name: inv_ind_2350, dtype: float64\n",
      "Топ 10 уникальных значений:\n",
      "Ошибка: 10\n",
      "--------------------------------------------------------------------------------\n",
      "--------------------------------------------------------------------------------\n",
      "Название: inv_ind_2400\n",
      "Тип данных: <class 'numpy.float64'>\n",
      "Количество значений: 16083\n",
      "Количество уникальных значений: 6596\n",
      "Количество пропусков: 0\n",
      "Процент пропусков: 0.0%\n",
      "Общие статистики:\n",
      "count    16083.00\n",
      "mean         7.87\n",
      "std        302.67\n",
      "min     -20901.50\n",
      "25%          0.00\n",
      "50%          0.00\n",
      "75%          2.22\n",
      "max       7549.58\n",
      "Name: inv_ind_2400, dtype: float64\n",
      "Топ 10 уникальных значений:\n",
      "Ошибка: 10\n",
      "--------------------------------------------------------------------------------\n",
      "--------------------------------------------------------------------------------\n",
      "Название: inv_ind_2410\n",
      "Тип данных: <class 'numpy.float64'>\n",
      "Количество значений: 16083\n",
      "Количество уникальных значений: 2694\n",
      "Количество пропусков: 0\n",
      "Процент пропусков: 0.0%\n",
      "Общие статистики:\n",
      "count   16083.00\n",
      "mean       -5.39\n",
      "std        71.86\n",
      "min     -3774.80\n",
      "25%        -0.64\n",
      "50%         0.00\n",
      "75%         0.00\n",
      "max       950.89\n",
      "Name: inv_ind_2410, dtype: float64\n",
      "Топ 10 уникальных значений:\n",
      "Ошибка: 10\n",
      "--------------------------------------------------------------------------------\n",
      "--------------------------------------------------------------------------------\n",
      "Название: inv_ind_2412\n",
      "Тип данных: <class 'numpy.float64'>\n",
      "Количество значений: 16083\n",
      "Количество уникальных значений: 68\n",
      "Количество пропусков: 0\n",
      "Процент пропусков: 0.0%\n",
      "Общие статистики:\n",
      "count   16083.00\n",
      "mean        0.07\n",
      "std         2.82\n",
      "min       -17.65\n",
      "25%         0.00\n",
      "50%         0.00\n",
      "75%         0.00\n",
      "max       248.84\n",
      "Name: inv_ind_2412, dtype: float64\n",
      "Топ 10 уникальных значений:\n",
      "Ошибка: 10\n",
      "--------------------------------------------------------------------------------\n",
      "--------------------------------------------------------------------------------\n",
      "Название: inv_ind_2430\n",
      "Тип данных: <class 'numpy.float64'>\n",
      "Количество значений: 16083\n",
      "Количество уникальных значений: 144\n",
      "Количество пропусков: 0\n",
      "Процент пропусков: 0.0%\n",
      "Общие статистики:\n",
      "count   16083.00\n",
      "mean       -0.60\n",
      "std        41.81\n",
      "min     -4815.25\n",
      "25%         0.00\n",
      "50%         0.00\n",
      "75%         0.00\n",
      "max       261.18\n",
      "Name: inv_ind_2430, dtype: float64\n",
      "Топ 10 уникальных значений:\n",
      "Ошибка: 10\n",
      "--------------------------------------------------------------------------------\n",
      "--------------------------------------------------------------------------------\n",
      "Название: inv_ind_2450\n",
      "Тип данных: <class 'numpy.float64'>\n",
      "Количество значений: 16083\n",
      "Количество уникальных значений: 355\n",
      "Количество пропусков: 0\n",
      "Процент пропусков: 0.0%\n",
      "Общие статистики:\n",
      "count   16083.00\n",
      "mean        1.35\n",
      "std        59.54\n",
      "min     -1708.86\n",
      "25%         0.00\n",
      "50%         0.00\n",
      "75%         0.00\n",
      "max      4966.64\n",
      "Name: inv_ind_2450, dtype: float64\n",
      "Топ 10 уникальных значений:\n",
      "Ошибка: 10\n",
      "--------------------------------------------------------------------------------\n",
      "--------------------------------------------------------------------------------\n",
      "Название: inv_ind_2460\n",
      "Тип данных: <class 'numpy.float64'>\n",
      "Количество значений: 16083\n",
      "Количество уникальных значений: 426\n",
      "Количество пропусков: 0\n",
      "Процент пропусков: 0.0%\n",
      "Общие статистики:\n",
      "count   16083.00\n",
      "mean       -0.82\n",
      "std        77.27\n",
      "min     -9736.50\n",
      "25%         0.00\n",
      "50%         0.00\n",
      "75%         0.00\n",
      "max        93.40\n",
      "Name: inv_ind_2460, dtype: float64\n",
      "Топ 10 уникальных значений:\n",
      "Ошибка: 10\n",
      "--------------------------------------------------------------------------------\n",
      "--------------------------------------------------------------------------------\n",
      "Название: inv_ind_2500\n",
      "Тип данных: <class 'numpy.float64'>\n",
      "Количество значений: 16083\n",
      "Количество уникальных значений: 3157\n",
      "Количество пропусков: 0\n",
      "Процент пропусков: 0.0%\n",
      "Общие статистики:\n",
      "count    16083.00\n",
      "mean         5.90\n",
      "std        462.27\n",
      "min     -20901.50\n",
      "25%          0.00\n",
      "50%          0.00\n",
      "75%          0.00\n",
      "max      45197.95\n",
      "Name: inv_ind_2500, dtype: float64\n",
      "Топ 10 уникальных значений:\n",
      "Ошибка: 10\n",
      "--------------------------------------------------------------------------------\n",
      "--------------------------------------------------------------------------------\n",
      "Название: inv_ind_2510\n",
      "Тип данных: <class 'numpy.float64'>\n",
      "Количество значений: 16083\n",
      "Количество уникальных значений: 7\n",
      "Количество пропусков: 0\n",
      "Процент пропусков: 0.0%\n",
      "Общие статистики:\n",
      "count   16083.00\n",
      "mean        2.85\n",
      "std       356.80\n",
      "min         0.00\n",
      "25%         0.00\n",
      "50%         0.00\n",
      "75%         0.00\n",
      "max     45246.55\n",
      "Name: inv_ind_2510, dtype: float64\n",
      "Топ 10 уникальных значений:\n",
      "Ошибка: 10\n",
      "--------------------------------------------------------------------------------\n",
      "--------------------------------------------------------------------------------\n",
      "Название: inv_ind_2520\n",
      "Тип данных: <class 'numpy.float64'>\n",
      "Количество значений: 16083\n",
      "Количество уникальных значений: 6\n",
      "Количество пропусков: 0\n",
      "Процент пропусков: 0.0%\n",
      "Общие статистики:\n",
      "count   16083.00\n",
      "mean       -0.04\n",
      "std         6.03\n",
      "min      -738.23\n",
      "25%         0.00\n",
      "50%         0.00\n",
      "75%         0.00\n",
      "max       163.67\n",
      "Name: inv_ind_2520, dtype: float64\n",
      "Топ 10 уникальных значений:\n",
      "Ошибка: 10\n",
      "--------------------------------------------------------------------------------\n",
      "--------------------------------------------------------------------------------\n",
      "Название: inv_ind_4100\n",
      "Тип данных: <class 'numpy.float64'>\n",
      "Количество значений: 16083\n",
      "Количество уникальных значений: 1\n",
      "Количество пропусков: 0\n",
      "Процент пропусков: 0.0%\n",
      "Общие статистики:\n",
      "count   16083.00\n",
      "mean        0.00\n",
      "std         0.00\n",
      "min         0.00\n",
      "25%         0.00\n",
      "50%         0.00\n",
      "75%         0.00\n",
      "max         0.00\n",
      "Name: inv_ind_4100, dtype: float64\n",
      "Топ 10 уникальных значений:\n",
      "0.00    16083\n",
      "Name: inv_ind_4100, dtype: int64\n",
      "--------------------------------------------------------------------------------\n",
      "--------------------------------------------------------------------------------\n",
      "Название: inv_ind_4110\n",
      "Тип данных: <class 'numpy.float64'>\n",
      "Количество значений: 16083\n",
      "Количество уникальных значений: 1\n",
      "Количество пропусков: 0\n",
      "Процент пропусков: 0.0%\n",
      "Общие статистики:\n",
      "count   16083.00\n",
      "mean        0.00\n",
      "std         0.00\n",
      "min         0.00\n",
      "25%         0.00\n",
      "50%         0.00\n",
      "75%         0.00\n",
      "max         0.00\n",
      "Name: inv_ind_4110, dtype: float64\n",
      "Топ 10 уникальных значений:\n",
      "0.00    16083\n",
      "Name: inv_ind_4110, dtype: int64\n",
      "--------------------------------------------------------------------------------\n",
      "--------------------------------------------------------------------------------\n",
      "Название: inv_ind_4111\n",
      "Тип данных: <class 'numpy.float64'>\n",
      "Количество значений: 16083\n",
      "Количество уникальных значений: 1\n",
      "Количество пропусков: 0\n",
      "Процент пропусков: 0.0%\n",
      "Общие статистики:\n",
      "count   16083.00\n",
      "mean        0.00\n",
      "std         0.00\n",
      "min         0.00\n",
      "25%         0.00\n",
      "50%         0.00\n",
      "75%         0.00\n",
      "max         0.00\n",
      "Name: inv_ind_4111, dtype: float64\n",
      "Топ 10 уникальных значений:\n",
      "0.00    16083\n",
      "Name: inv_ind_4111, dtype: int64\n",
      "--------------------------------------------------------------------------------\n",
      "--------------------------------------------------------------------------------\n",
      "Название: inv_ind_4119\n",
      "Тип данных: <class 'numpy.float64'>\n",
      "Количество значений: 16083\n",
      "Количество уникальных значений: 1\n",
      "Количество пропусков: 0\n",
      "Процент пропусков: 0.0%\n",
      "Общие статистики:\n",
      "count   16083.00\n",
      "mean        0.00\n",
      "std         0.00\n",
      "min         0.00\n",
      "25%         0.00\n",
      "50%         0.00\n",
      "75%         0.00\n",
      "max         0.00\n",
      "Name: inv_ind_4119, dtype: float64\n",
      "Топ 10 уникальных значений:\n",
      "0.00    16083\n",
      "Name: inv_ind_4119, dtype: int64\n",
      "--------------------------------------------------------------------------------\n",
      "--------------------------------------------------------------------------------\n",
      "Название: inv_ind_4120\n",
      "Тип данных: <class 'numpy.float64'>\n",
      "Количество значений: 16083\n",
      "Количество уникальных значений: 1\n",
      "Количество пропусков: 0\n",
      "Процент пропусков: 0.0%\n",
      "Общие статистики:\n",
      "count   16083.00\n",
      "mean        0.00\n",
      "std         0.00\n",
      "min         0.00\n",
      "25%         0.00\n",
      "50%         0.00\n",
      "75%         0.00\n",
      "max         0.00\n",
      "Name: inv_ind_4120, dtype: float64\n",
      "Топ 10 уникальных значений:\n",
      "0.00    16083\n",
      "Name: inv_ind_4120, dtype: int64\n",
      "--------------------------------------------------------------------------------\n",
      "--------------------------------------------------------------------------------\n",
      "Название: inv_ind_4121\n",
      "Тип данных: <class 'numpy.float64'>\n",
      "Количество значений: 16083\n",
      "Количество уникальных значений: 1\n",
      "Количество пропусков: 0\n",
      "Процент пропусков: 0.0%\n",
      "Общие статистики:\n",
      "count   16083.00\n",
      "mean        0.00\n",
      "std         0.00\n",
      "min         0.00\n",
      "25%         0.00\n",
      "50%         0.00\n",
      "75%         0.00\n",
      "max         0.00\n",
      "Name: inv_ind_4121, dtype: float64\n",
      "Топ 10 уникальных значений:\n",
      "0.00    16083\n",
      "Name: inv_ind_4121, dtype: int64\n",
      "--------------------------------------------------------------------------------\n",
      "--------------------------------------------------------------------------------\n",
      "Название: inv_ind_4122\n",
      "Тип данных: <class 'numpy.float64'>\n",
      "Количество значений: 16083\n",
      "Количество уникальных значений: 1\n",
      "Количество пропусков: 0\n",
      "Процент пропусков: 0.0%\n",
      "Общие статистики:\n",
      "count   16083.00\n",
      "mean        0.00\n",
      "std         0.00\n",
      "min         0.00\n",
      "25%         0.00\n",
      "50%         0.00\n",
      "75%         0.00\n",
      "max         0.00\n",
      "Name: inv_ind_4122, dtype: float64\n",
      "Топ 10 уникальных значений:\n",
      "0.00    16083\n",
      "Name: inv_ind_4122, dtype: int64\n",
      "--------------------------------------------------------------------------------\n",
      "--------------------------------------------------------------------------------\n",
      "Название: inv_ind_4123\n",
      "Тип данных: <class 'numpy.float64'>\n",
      "Количество значений: 16083\n",
      "Количество уникальных значений: 1\n",
      "Количество пропусков: 0\n",
      "Процент пропусков: 0.0%\n",
      "Общие статистики:\n",
      "count   16083.00\n",
      "mean        0.00\n",
      "std         0.00\n",
      "min         0.00\n",
      "25%         0.00\n",
      "50%         0.00\n",
      "75%         0.00\n",
      "max         0.00\n",
      "Name: inv_ind_4123, dtype: float64\n",
      "Топ 10 уникальных значений:\n",
      "0.00    16083\n",
      "Name: inv_ind_4123, dtype: int64\n",
      "--------------------------------------------------------------------------------\n",
      "--------------------------------------------------------------------------------\n",
      "Название: inv_ind_4124\n",
      "Тип данных: <class 'numpy.float64'>\n",
      "Количество значений: 16083\n",
      "Количество уникальных значений: 1\n",
      "Количество пропусков: 0\n",
      "Процент пропусков: 0.0%\n",
      "Общие статистики:\n",
      "count   16083.00\n",
      "mean        0.00\n",
      "std         0.00\n",
      "min         0.00\n",
      "25%         0.00\n",
      "50%         0.00\n",
      "75%         0.00\n",
      "max         0.00\n",
      "Name: inv_ind_4124, dtype: float64\n",
      "Топ 10 уникальных значений:\n",
      "0.00    16083\n",
      "Name: inv_ind_4124, dtype: int64\n",
      "--------------------------------------------------------------------------------\n",
      "--------------------------------------------------------------------------------\n",
      "Название: inv_ind_4129\n",
      "Тип данных: <class 'numpy.float64'>\n",
      "Количество значений: 16083\n",
      "Количество уникальных значений: 1\n",
      "Количество пропусков: 0\n",
      "Процент пропусков: 0.0%\n",
      "Общие статистики:\n",
      "count   16083.00\n",
      "mean        0.00\n",
      "std         0.00\n",
      "min         0.00\n",
      "25%         0.00\n",
      "50%         0.00\n",
      "75%         0.00\n",
      "max         0.00\n",
      "Name: inv_ind_4129, dtype: float64\n",
      "Топ 10 уникальных значений:\n",
      "0.00    16083\n",
      "Name: inv_ind_4129, dtype: int64\n",
      "--------------------------------------------------------------------------------\n",
      "--------------------------------------------------------------------------------\n",
      "Название: inv_ind_4200\n",
      "Тип данных: <class 'numpy.float64'>\n",
      "Количество значений: 16083\n",
      "Количество уникальных значений: 1\n",
      "Количество пропусков: 0\n",
      "Процент пропусков: 0.0%\n",
      "Общие статистики:\n",
      "count   16083.00\n",
      "mean        0.00\n",
      "std         0.00\n",
      "min         0.00\n",
      "25%         0.00\n",
      "50%         0.00\n",
      "75%         0.00\n",
      "max         0.00\n",
      "Name: inv_ind_4200, dtype: float64\n",
      "Топ 10 уникальных значений:\n",
      "0.00    16083\n",
      "Name: inv_ind_4200, dtype: int64\n",
      "--------------------------------------------------------------------------------\n",
      "--------------------------------------------------------------------------------\n",
      "Название: inv_ind_4210\n",
      "Тип данных: <class 'numpy.float64'>\n",
      "Количество значений: 16083\n",
      "Количество уникальных значений: 1\n",
      "Количество пропусков: 0\n",
      "Процент пропусков: 0.0%\n",
      "Общие статистики:\n",
      "count   16083.00\n",
      "mean        0.00\n",
      "std         0.00\n",
      "min         0.00\n",
      "25%         0.00\n",
      "50%         0.00\n",
      "75%         0.00\n",
      "max         0.00\n",
      "Name: inv_ind_4210, dtype: float64\n",
      "Топ 10 уникальных значений:\n",
      "0.00    16083\n",
      "Name: inv_ind_4210, dtype: int64\n",
      "--------------------------------------------------------------------------------\n",
      "--------------------------------------------------------------------------------\n",
      "Название: inv_ind_4211\n",
      "Тип данных: <class 'numpy.float64'>\n",
      "Количество значений: 16083\n",
      "Количество уникальных значений: 1\n",
      "Количество пропусков: 0\n",
      "Процент пропусков: 0.0%\n",
      "Общие статистики:\n",
      "count   16083.00\n",
      "mean        0.00\n",
      "std         0.00\n",
      "min         0.00\n",
      "25%         0.00\n",
      "50%         0.00\n",
      "75%         0.00\n",
      "max         0.00\n",
      "Name: inv_ind_4211, dtype: float64\n",
      "Топ 10 уникальных значений:\n",
      "0.00    16083\n",
      "Name: inv_ind_4211, dtype: int64\n",
      "--------------------------------------------------------------------------------\n",
      "--------------------------------------------------------------------------------\n",
      "Название: inv_ind_4213\n",
      "Тип данных: <class 'numpy.float64'>\n",
      "Количество значений: 16083\n",
      "Количество уникальных значений: 1\n",
      "Количество пропусков: 0\n",
      "Процент пропусков: 0.0%\n",
      "Общие статистики:\n",
      "count   16083.00\n",
      "mean        0.00\n",
      "std         0.00\n",
      "min         0.00\n",
      "25%         0.00\n",
      "50%         0.00\n",
      "75%         0.00\n",
      "max         0.00\n",
      "Name: inv_ind_4213, dtype: float64\n",
      "Топ 10 уникальных значений:\n",
      "0.00    16083\n",
      "Name: inv_ind_4213, dtype: int64\n",
      "--------------------------------------------------------------------------------\n",
      "--------------------------------------------------------------------------------\n",
      "Название: inv_ind_4219\n",
      "Тип данных: <class 'numpy.float64'>\n",
      "Количество значений: 16083\n",
      "Количество уникальных значений: 1\n",
      "Количество пропусков: 0\n",
      "Процент пропусков: 0.0%\n",
      "Общие статистики:\n",
      "count   16083.00\n",
      "mean        0.00\n",
      "std         0.00\n",
      "min         0.00\n",
      "25%         0.00\n",
      "50%         0.00\n",
      "75%         0.00\n",
      "max         0.00\n",
      "Name: inv_ind_4219, dtype: float64\n",
      "Топ 10 уникальных значений:\n",
      "0.00    16083\n",
      "Name: inv_ind_4219, dtype: int64\n",
      "--------------------------------------------------------------------------------\n",
      "--------------------------------------------------------------------------------\n",
      "Название: inv_ind_4220\n",
      "Тип данных: <class 'numpy.float64'>\n",
      "Количество значений: 16083\n",
      "Количество уникальных значений: 1\n",
      "Количество пропусков: 0\n",
      "Процент пропусков: 0.0%\n",
      "Общие статистики:\n",
      "count   16083.00\n",
      "mean        0.00\n",
      "std         0.00\n",
      "min         0.00\n",
      "25%         0.00\n",
      "50%         0.00\n",
      "75%         0.00\n",
      "max         0.00\n",
      "Name: inv_ind_4220, dtype: float64\n",
      "Топ 10 уникальных значений:\n",
      "0.00    16083\n",
      "Name: inv_ind_4220, dtype: int64\n",
      "--------------------------------------------------------------------------------\n",
      "--------------------------------------------------------------------------------\n",
      "Название: inv_ind_4221\n",
      "Тип данных: <class 'numpy.float64'>\n",
      "Количество значений: 16083\n",
      "Количество уникальных значений: 1\n",
      "Количество пропусков: 0\n",
      "Процент пропусков: 0.0%\n",
      "Общие статистики:\n",
      "count   16083.00\n",
      "mean        0.00\n",
      "std         0.00\n",
      "min         0.00\n",
      "25%         0.00\n",
      "50%         0.00\n",
      "75%         0.00\n",
      "max         0.00\n",
      "Name: inv_ind_4221, dtype: float64\n",
      "Топ 10 уникальных значений:\n",
      "0.00    16083\n",
      "Name: inv_ind_4221, dtype: int64\n",
      "--------------------------------------------------------------------------------\n",
      "--------------------------------------------------------------------------------\n",
      "Название: inv_ind_4223\n",
      "Тип данных: <class 'numpy.float64'>\n",
      "Количество значений: 16083\n",
      "Количество уникальных значений: 1\n",
      "Количество пропусков: 0\n",
      "Процент пропусков: 0.0%\n",
      "Общие статистики:\n",
      "count   16083.00\n",
      "mean        0.00\n",
      "std         0.00\n",
      "min         0.00\n",
      "25%         0.00\n",
      "50%         0.00\n",
      "75%         0.00\n",
      "max         0.00\n",
      "Name: inv_ind_4223, dtype: float64\n",
      "Топ 10 уникальных значений:\n",
      "0.00    16083\n",
      "Name: inv_ind_4223, dtype: int64\n",
      "--------------------------------------------------------------------------------\n",
      "--------------------------------------------------------------------------------\n",
      "Название: inv_ind_4229\n",
      "Тип данных: <class 'numpy.float64'>\n",
      "Количество значений: 16083\n",
      "Количество уникальных значений: 1\n",
      "Количество пропусков: 0\n",
      "Процент пропусков: 0.0%\n",
      "Общие статистики:\n",
      "count   16083.00\n",
      "mean        0.00\n",
      "std         0.00\n",
      "min         0.00\n",
      "25%         0.00\n",
      "50%         0.00\n",
      "75%         0.00\n",
      "max         0.00\n",
      "Name: inv_ind_4229, dtype: float64\n",
      "Топ 10 уникальных значений:\n",
      "0.00    16083\n",
      "Name: inv_ind_4229, dtype: int64\n",
      "--------------------------------------------------------------------------------\n",
      "--------------------------------------------------------------------------------\n",
      "Название: inv_ind_4300\n",
      "Тип данных: <class 'numpy.float64'>\n",
      "Количество значений: 16083\n",
      "Количество уникальных значений: 1\n",
      "Количество пропусков: 0\n",
      "Процент пропусков: 0.0%\n",
      "Общие статистики:\n",
      "count   16083.00\n",
      "mean        0.00\n",
      "std         0.00\n",
      "min         0.00\n",
      "25%         0.00\n",
      "50%         0.00\n",
      "75%         0.00\n",
      "max         0.00\n",
      "Name: inv_ind_4300, dtype: float64\n",
      "Топ 10 уникальных значений:\n",
      "0.00    16083\n",
      "Name: inv_ind_4300, dtype: int64\n",
      "--------------------------------------------------------------------------------\n",
      "--------------------------------------------------------------------------------\n",
      "Название: inv_ind_4310\n",
      "Тип данных: <class 'numpy.float64'>\n",
      "Количество значений: 16083\n",
      "Количество уникальных значений: 1\n",
      "Количество пропусков: 0\n",
      "Процент пропусков: 0.0%\n",
      "Общие статистики:\n",
      "count   16083.00\n",
      "mean        0.00\n",
      "std         0.00\n",
      "min         0.00\n",
      "25%         0.00\n",
      "50%         0.00\n",
      "75%         0.00\n",
      "max         0.00\n",
      "Name: inv_ind_4310, dtype: float64\n",
      "Топ 10 уникальных значений:\n",
      "0.00    16083\n",
      "Name: inv_ind_4310, dtype: int64\n",
      "--------------------------------------------------------------------------------\n",
      "--------------------------------------------------------------------------------\n",
      "Название: inv_ind_4311\n",
      "Тип данных: <class 'numpy.float64'>\n",
      "Количество значений: 16083\n",
      "Количество уникальных значений: 1\n",
      "Количество пропусков: 0\n",
      "Процент пропусков: 0.0%\n",
      "Общие статистики:\n",
      "count   16083.00\n",
      "mean        0.00\n",
      "std         0.00\n",
      "min         0.00\n",
      "25%         0.00\n",
      "50%         0.00\n",
      "75%         0.00\n",
      "max         0.00\n",
      "Name: inv_ind_4311, dtype: float64\n",
      "Топ 10 уникальных значений:\n",
      "0.00    16083\n",
      "Name: inv_ind_4311, dtype: int64\n",
      "--------------------------------------------------------------------------------\n",
      "--------------------------------------------------------------------------------\n",
      "Название: inv_ind_4312\n",
      "Тип данных: <class 'numpy.float64'>\n",
      "Количество значений: 16083\n",
      "Количество уникальных значений: 1\n",
      "Количество пропусков: 0\n",
      "Процент пропусков: 0.0%\n",
      "Общие статистики:\n",
      "count   16083.00\n",
      "mean        0.00\n",
      "std         0.00\n",
      "min         0.00\n",
      "25%         0.00\n",
      "50%         0.00\n",
      "75%         0.00\n",
      "max         0.00\n",
      "Name: inv_ind_4312, dtype: float64\n",
      "Топ 10 уникальных значений:\n",
      "0.00    16083\n",
      "Name: inv_ind_4312, dtype: int64\n",
      "--------------------------------------------------------------------------------\n",
      "--------------------------------------------------------------------------------\n",
      "Название: inv_ind_4319\n",
      "Тип данных: <class 'numpy.float64'>\n",
      "Количество значений: 16083\n",
      "Количество уникальных значений: 1\n",
      "Количество пропусков: 0\n",
      "Процент пропусков: 0.0%\n",
      "Общие статистики:\n",
      "count   16083.00\n",
      "mean        0.00\n",
      "std         0.00\n",
      "min         0.00\n",
      "25%         0.00\n",
      "50%         0.00\n",
      "75%         0.00\n",
      "max         0.00\n",
      "Name: inv_ind_4319, dtype: float64\n",
      "Топ 10 уникальных значений:\n",
      "0.00    16083\n",
      "Name: inv_ind_4319, dtype: int64\n",
      "--------------------------------------------------------------------------------\n",
      "--------------------------------------------------------------------------------\n",
      "Название: inv_ind_4320\n",
      "Тип данных: <class 'numpy.float64'>\n",
      "Количество значений: 16083\n",
      "Количество уникальных значений: 1\n",
      "Количество пропусков: 0\n",
      "Процент пропусков: 0.0%\n",
      "Общие статистики:\n",
      "count   16083.00\n",
      "mean        0.00\n",
      "std         0.00\n",
      "min         0.00\n",
      "25%         0.00\n",
      "50%         0.00\n",
      "75%         0.00\n",
      "max         0.00\n",
      "Name: inv_ind_4320, dtype: float64\n",
      "Топ 10 уникальных значений:\n",
      "0.00    16083\n",
      "Name: inv_ind_4320, dtype: int64\n",
      "--------------------------------------------------------------------------------\n",
      "--------------------------------------------------------------------------------\n",
      "Название: inv_ind_4323\n",
      "Тип данных: <class 'numpy.float64'>\n",
      "Количество значений: 16083\n",
      "Количество уникальных значений: 1\n",
      "Количество пропусков: 0\n",
      "Процент пропусков: 0.0%\n",
      "Общие статистики:\n",
      "count   16083.00\n",
      "mean        0.00\n",
      "std         0.00\n",
      "min         0.00\n",
      "25%         0.00\n",
      "50%         0.00\n",
      "75%         0.00\n",
      "max         0.00\n",
      "Name: inv_ind_4323, dtype: float64\n",
      "Топ 10 уникальных значений:\n",
      "0.00    16083\n",
      "Name: inv_ind_4323, dtype: int64\n",
      "--------------------------------------------------------------------------------\n",
      "--------------------------------------------------------------------------------\n",
      "Название: inv_ind_4329\n",
      "Тип данных: <class 'numpy.float64'>\n",
      "Количество значений: 16083\n",
      "Количество уникальных значений: 1\n",
      "Количество пропусков: 0\n",
      "Процент пропусков: 0.0%\n",
      "Общие статистики:\n",
      "count   16083.00\n",
      "mean        0.00\n",
      "std         0.00\n",
      "min         0.00\n",
      "25%         0.00\n",
      "50%         0.00\n",
      "75%         0.00\n",
      "max         0.00\n",
      "Name: inv_ind_4329, dtype: float64\n",
      "Топ 10 уникальных значений:\n",
      "0.00    16083\n",
      "Name: inv_ind_4329, dtype: int64\n",
      "--------------------------------------------------------------------------------\n",
      "--------------------------------------------------------------------------------\n",
      "Название: inv_ind_4400\n",
      "Тип данных: <class 'numpy.float64'>\n",
      "Количество значений: 16083\n",
      "Количество уникальных значений: 1\n",
      "Количество пропусков: 0\n",
      "Процент пропусков: 0.0%\n",
      "Общие статистики:\n",
      "count   16083.00\n",
      "mean        0.00\n",
      "std         0.00\n",
      "min         0.00\n",
      "25%         0.00\n",
      "50%         0.00\n",
      "75%         0.00\n",
      "max         0.00\n",
      "Name: inv_ind_4400, dtype: float64\n",
      "Топ 10 уникальных значений:\n",
      "0.00    16083\n",
      "Name: inv_ind_4400, dtype: int64\n",
      "--------------------------------------------------------------------------------\n",
      "--------------------------------------------------------------------------------\n",
      "Название: inv_ind_4450\n",
      "Тип данных: <class 'numpy.float64'>\n",
      "Количество значений: 16083\n",
      "Количество уникальных значений: 1\n",
      "Количество пропусков: 0\n",
      "Процент пропусков: 0.0%\n",
      "Общие статистики:\n",
      "count   16083.00\n",
      "mean        0.00\n",
      "std         0.00\n",
      "min         0.00\n",
      "25%         0.00\n",
      "50%         0.00\n",
      "75%         0.00\n",
      "max         0.00\n",
      "Name: inv_ind_4450, dtype: float64\n",
      "Топ 10 уникальных значений:\n",
      "0.00    16083\n",
      "Name: inv_ind_4450, dtype: int64\n",
      "--------------------------------------------------------------------------------\n",
      "--------------------------------------------------------------------------------\n",
      "Название: inv_ind_4490\n",
      "Тип данных: <class 'numpy.float64'>\n",
      "Количество значений: 16083\n",
      "Количество уникальных значений: 1\n",
      "Количество пропусков: 0\n",
      "Процент пропусков: 0.0%\n",
      "Общие статистики:\n",
      "count   16083.00\n",
      "mean        0.00\n",
      "std         0.00\n",
      "min         0.00\n",
      "25%         0.00\n",
      "50%         0.00\n",
      "75%         0.00\n",
      "max         0.00\n",
      "Name: inv_ind_4490, dtype: float64\n",
      "Топ 10 уникальных значений:\n",
      "0.00    16083\n",
      "Name: inv_ind_4490, dtype: int64\n",
      "--------------------------------------------------------------------------------\n",
      "--------------------------------------------------------------------------------\n",
      "Название: inv_ind_4500\n",
      "Тип данных: <class 'numpy.float64'>\n",
      "Количество значений: 16083\n",
      "Количество уникальных значений: 1\n",
      "Количество пропусков: 0\n",
      "Процент пропусков: 0.0%\n",
      "Общие статистики:\n",
      "count   16083.00\n",
      "mean        0.00\n",
      "std         0.00\n",
      "min         0.00\n",
      "25%         0.00\n",
      "50%         0.00\n",
      "75%         0.00\n",
      "max         0.00\n",
      "Name: inv_ind_4500, dtype: float64\n",
      "Топ 10 уникальных значений:\n",
      "0.00    16083\n",
      "Name: inv_ind_4500, dtype: int64\n",
      "--------------------------------------------------------------------------------\n",
      "--------------------------------------------------------------------------------\n",
      "Название: inv_ind_6100\n",
      "Тип данных: <class 'numpy.float64'>\n",
      "Количество значений: 16083\n",
      "Количество уникальных значений: 1\n",
      "Количество пропусков: 0\n",
      "Процент пропусков: 0.0%\n",
      "Общие статистики:\n",
      "count   16083.00\n",
      "mean        0.00\n",
      "std         0.00\n",
      "min         0.00\n",
      "25%         0.00\n",
      "50%         0.00\n",
      "75%         0.00\n",
      "max         0.00\n",
      "Name: inv_ind_6100, dtype: float64\n",
      "Топ 10 уникальных значений:\n",
      "0.00    16083\n",
      "Name: inv_ind_6100, dtype: int64\n",
      "--------------------------------------------------------------------------------\n",
      "--------------------------------------------------------------------------------\n",
      "Название: inv_ind_6220\n",
      "Тип данных: <class 'numpy.float64'>\n",
      "Количество значений: 16083\n",
      "Количество уникальных значений: 1\n",
      "Количество пропусков: 0\n",
      "Процент пропусков: 0.0%\n",
      "Общие статистики:\n",
      "count   16083.00\n",
      "mean        0.00\n",
      "std         0.00\n",
      "min         0.00\n",
      "25%         0.00\n",
      "50%         0.00\n",
      "75%         0.00\n",
      "max         0.00\n",
      "Name: inv_ind_6220, dtype: float64\n",
      "Топ 10 уникальных значений:\n",
      "0.00    16083\n",
      "Name: inv_ind_6220, dtype: int64\n",
      "--------------------------------------------------------------------------------\n",
      "--------------------------------------------------------------------------------\n",
      "Название: inv_ind_6240\n",
      "Тип данных: <class 'numpy.float64'>\n",
      "Количество значений: 16083\n",
      "Количество уникальных значений: 1\n",
      "Количество пропусков: 0\n",
      "Процент пропусков: 0.0%\n",
      "Общие статистики:\n",
      "count   16083.00\n",
      "mean        0.00\n",
      "std         0.00\n",
      "min         0.00\n",
      "25%         0.00\n",
      "50%         0.00\n",
      "75%         0.00\n",
      "max         0.00\n",
      "Name: inv_ind_6240, dtype: float64\n",
      "Топ 10 уникальных значений:\n",
      "0.00    16083\n",
      "Name: inv_ind_6240, dtype: int64\n",
      "--------------------------------------------------------------------------------\n",
      "--------------------------------------------------------------------------------\n",
      "Название: inv_ind_6250\n",
      "Тип данных: <class 'numpy.float64'>\n",
      "Количество значений: 16083\n",
      "Количество уникальных значений: 1\n",
      "Количество пропусков: 0\n",
      "Процент пропусков: 0.0%\n",
      "Общие статистики:\n",
      "count   16083.00\n",
      "mean        0.00\n",
      "std         0.00\n",
      "min         0.00\n",
      "25%         0.00\n",
      "50%         0.00\n",
      "75%         0.00\n",
      "max         0.00\n",
      "Name: inv_ind_6250, dtype: float64\n",
      "Топ 10 уникальных значений:\n",
      "0.00    16083\n",
      "Name: inv_ind_6250, dtype: int64\n",
      "--------------------------------------------------------------------------------\n",
      "--------------------------------------------------------------------------------\n",
      "Название: inv_ind_6310\n",
      "Тип данных: <class 'numpy.float64'>\n",
      "Количество значений: 16083\n",
      "Количество уникальных значений: 1\n",
      "Количество пропусков: 0\n",
      "Процент пропусков: 0.0%\n",
      "Общие статистики:\n",
      "count   16083.00\n",
      "mean        0.00\n",
      "std         0.00\n",
      "min         0.00\n",
      "25%         0.00\n",
      "50%         0.00\n",
      "75%         0.00\n",
      "max         0.00\n",
      "Name: inv_ind_6310, dtype: float64\n",
      "Топ 10 уникальных значений:\n",
      "0.00    16083\n",
      "Name: inv_ind_6310, dtype: int64\n",
      "--------------------------------------------------------------------------------\n",
      "--------------------------------------------------------------------------------\n",
      "Название: inv_ind_6320\n",
      "Тип данных: <class 'numpy.float64'>\n",
      "Количество значений: 16083\n",
      "Количество уникальных значений: 1\n",
      "Количество пропусков: 0\n",
      "Процент пропусков: 0.0%\n",
      "Общие статистики:\n",
      "count   16083.00\n",
      "mean        0.00\n",
      "std         0.00\n",
      "min         0.00\n",
      "25%         0.00\n",
      "50%         0.00\n",
      "75%         0.00\n",
      "max         0.00\n",
      "Name: inv_ind_6320, dtype: float64\n",
      "Топ 10 уникальных значений:\n",
      "0.00    16083\n",
      "Name: inv_ind_6320, dtype: int64\n",
      "--------------------------------------------------------------------------------\n",
      "--------------------------------------------------------------------------------\n",
      "Название: inv_ind_6330\n",
      "Тип данных: <class 'numpy.float64'>\n",
      "Количество значений: 16083\n",
      "Количество уникальных значений: 1\n",
      "Количество пропусков: 0\n",
      "Процент пропусков: 0.0%\n",
      "Общие статистики:\n",
      "count   16083.00\n",
      "mean        0.00\n",
      "std         0.00\n",
      "min         0.00\n",
      "25%         0.00\n",
      "50%         0.00\n",
      "75%         0.00\n",
      "max         0.00\n",
      "Name: inv_ind_6330, dtype: float64\n",
      "Топ 10 уникальных значений:\n",
      "0.00    16083\n",
      "Name: inv_ind_6330, dtype: int64\n",
      "--------------------------------------------------------------------------------\n",
      "--------------------------------------------------------------------------------\n",
      "Название: inv_ind_6350\n",
      "Тип данных: <class 'numpy.float64'>\n",
      "Количество значений: 16083\n",
      "Количество уникальных значений: 1\n",
      "Количество пропусков: 0\n",
      "Процент пропусков: 0.0%\n",
      "Общие статистики:\n",
      "count   16083.00\n",
      "mean        0.00\n",
      "std         0.00\n",
      "min         0.00\n",
      "25%         0.00\n",
      "50%         0.00\n",
      "75%         0.00\n",
      "max         0.00\n",
      "Name: inv_ind_6350, dtype: float64\n",
      "Топ 10 уникальных значений:\n",
      "0.00    16083\n",
      "Name: inv_ind_6350, dtype: int64\n",
      "--------------------------------------------------------------------------------\n",
      "--------------------------------------------------------------------------------\n",
      "Название: inv_ind_6400\n",
      "Тип данных: <class 'numpy.float64'>\n",
      "Количество значений: 16083\n",
      "Количество уникальных значений: 1\n",
      "Количество пропусков: 0\n",
      "Процент пропусков: 0.0%\n",
      "Общие статистики:\n",
      "count   16083.00\n",
      "mean        0.00\n",
      "std         0.00\n",
      "min         0.00\n",
      "25%         0.00\n",
      "50%         0.00\n",
      "75%         0.00\n",
      "max         0.00\n",
      "Name: inv_ind_6400, dtype: float64\n",
      "Топ 10 уникальных значений:\n",
      "0.00    16083\n",
      "Name: inv_ind_6400, dtype: int64\n",
      "--------------------------------------------------------------------------------\n"
     ]
    }
   ],
   "source": [
    "for f in work_df.columns:\n",
    "    first_look(work_df[f])"
   ],
   "metadata": {
    "collapsed": false,
    "pycharm": {
     "name": "#%%\n"
    }
   }
  },
  {
   "cell_type": "markdown",
   "source": [
    "### Feature engineering"
   ],
   "metadata": {
    "collapsed": false,
    "pycharm": {
     "name": "#%% md\n"
    }
   }
  },
  {
   "cell_type": "code",
   "execution_count": 190,
   "outputs": [],
   "source": [
    "work_df = work_df[work_df['inv_sum'] > 0]"
   ],
   "metadata": {
    "collapsed": false,
    "pycharm": {
     "name": "#%%\n"
    }
   }
  },
  {
   "cell_type": "code",
   "execution_count": 191,
   "outputs": [],
   "source": [
    "# np.log(work_df['inv_sum']).hist(bins=100)"
   ],
   "metadata": {
    "collapsed": false,
    "pycharm": {
     "name": "#%%\n"
    }
   }
  },
  {
   "cell_type": "code",
   "execution_count": 192,
   "outputs": [],
   "source": [
    "work_df['inv_sum'] = np.log(work_df['inv_sum'])"
   ],
   "metadata": {
    "collapsed": false,
    "pycharm": {
     "name": "#%%\n"
    }
   }
  },
  {
   "cell_type": "code",
   "execution_count": 193,
   "outputs": [],
   "source": [
    "work_df['inv_month'] = work_df['date_reg'].dt.month"
   ],
   "metadata": {
    "collapsed": false,
    "pycharm": {
     "name": "#%%\n"
    }
   }
  },
  {
   "cell_type": "code",
   "execution_count": 194,
   "outputs": [],
   "source": [
    "# work_df['target'] = work_df['target'].apply(lambda x: x if x <= 5 else 5)"
   ],
   "metadata": {
    "collapsed": false,
    "pycharm": {
     "name": "#%%\n"
    }
   }
  },
  {
   "cell_type": "code",
   "execution_count": 195,
   "outputs": [],
   "source": [
    "work_df.to_csv('out/test4rosstat.csv', index=False)"
   ],
   "metadata": {
    "collapsed": false,
    "pycharm": {
     "name": "#%%\n"
    }
   }
  },
  {
   "cell_type": "markdown",
   "source": [
    "### Первая модель - LR"
   ],
   "metadata": {
    "collapsed": false,
    "pycharm": {
     "name": "#%% md\n"
    }
   }
  },
  {
   "cell_type": "code",
   "execution_count": 196,
   "outputs": [
    {
     "data": {
      "text/plain": "        inv_sum  inv_ind_1100  inv_ind_1110  inv_ind_1120  inv_ind_1130  \\\n16023  1.447503     -0.010106     -0.008665     -0.026793           0.0   \n2235   0.359500     -0.010106     -0.008665     -0.026793           0.0   \n\n       inv_ind_1140  inv_ind_1150  inv_ind_1160  inv_ind_1170  inv_ind_1180  \\\n16023           0.0     -0.024999     -0.013764     -0.017312      -0.03129   \n2235            0.0     -0.024999     -0.013764     -0.017312      -0.03129   \n\n       ...  inv_ind_4500  inv_ind_6100  inv_ind_6220  inv_ind_6240  \\\n16023  ...           0.0           0.0           0.0           0.0   \n2235   ...           0.0           0.0           0.0           0.0   \n\n       inv_ind_6250  inv_ind_6310  inv_ind_6320  inv_ind_6330  inv_ind_6350  \\\n16023           0.0           0.0           0.0           0.0           0.0   \n2235            0.0           0.0           0.0           0.0           0.0   \n\n       inv_ind_6400  \n16023           0.0  \n2235            0.0  \n\n[2 rows x 98 columns]",
      "text/html": "<div>\n<style scoped>\n    .dataframe tbody tr th:only-of-type {\n        vertical-align: middle;\n    }\n\n    .dataframe tbody tr th {\n        vertical-align: top;\n    }\n\n    .dataframe thead th {\n        text-align: right;\n    }\n</style>\n<table border=\"1\" class=\"dataframe\">\n  <thead>\n    <tr style=\"text-align: right;\">\n      <th></th>\n      <th>inv_sum</th>\n      <th>inv_ind_1100</th>\n      <th>inv_ind_1110</th>\n      <th>inv_ind_1120</th>\n      <th>inv_ind_1130</th>\n      <th>inv_ind_1140</th>\n      <th>inv_ind_1150</th>\n      <th>inv_ind_1160</th>\n      <th>inv_ind_1170</th>\n      <th>inv_ind_1180</th>\n      <th>...</th>\n      <th>inv_ind_4500</th>\n      <th>inv_ind_6100</th>\n      <th>inv_ind_6220</th>\n      <th>inv_ind_6240</th>\n      <th>inv_ind_6250</th>\n      <th>inv_ind_6310</th>\n      <th>inv_ind_6320</th>\n      <th>inv_ind_6330</th>\n      <th>inv_ind_6350</th>\n      <th>inv_ind_6400</th>\n    </tr>\n  </thead>\n  <tbody>\n    <tr>\n      <th>16023</th>\n      <td>1.447503</td>\n      <td>-0.010106</td>\n      <td>-0.008665</td>\n      <td>-0.026793</td>\n      <td>0.0</td>\n      <td>0.0</td>\n      <td>-0.024999</td>\n      <td>-0.013764</td>\n      <td>-0.017312</td>\n      <td>-0.03129</td>\n      <td>...</td>\n      <td>0.0</td>\n      <td>0.0</td>\n      <td>0.0</td>\n      <td>0.0</td>\n      <td>0.0</td>\n      <td>0.0</td>\n      <td>0.0</td>\n      <td>0.0</td>\n      <td>0.0</td>\n      <td>0.0</td>\n    </tr>\n    <tr>\n      <th>2235</th>\n      <td>0.359500</td>\n      <td>-0.010106</td>\n      <td>-0.008665</td>\n      <td>-0.026793</td>\n      <td>0.0</td>\n      <td>0.0</td>\n      <td>-0.024999</td>\n      <td>-0.013764</td>\n      <td>-0.017312</td>\n      <td>-0.03129</td>\n      <td>...</td>\n      <td>0.0</td>\n      <td>0.0</td>\n      <td>0.0</td>\n      <td>0.0</td>\n      <td>0.0</td>\n      <td>0.0</td>\n      <td>0.0</td>\n      <td>0.0</td>\n      <td>0.0</td>\n      <td>0.0</td>\n    </tr>\n  </tbody>\n</table>\n<p>2 rows × 98 columns</p>\n</div>"
     },
     "execution_count": 196,
     "metadata": {},
     "output_type": "execute_result"
    }
   ],
   "source": [
    "# Формируем X\n",
    "# Масштабируем числовые признаки\n",
    "X = pd.DataFrame([], index=work_df.index)\n",
    "X[['inv_sum'] + ['inv_' + x for x in additional_features]] = preprocessing.StandardScaler().fit_transform(work_df[['inv_sum'] + ['inv_' + x for x in additional_features]])\n",
    "X.sample(2)"
   ],
   "metadata": {
    "collapsed": false,
    "pycharm": {
     "name": "#%%\n"
    }
   }
  },
  {
   "cell_type": "code",
   "execution_count": 197,
   "outputs": [
    {
     "data": {
      "text/plain": "        inv_sum  inv_ind_1100  inv_ind_1110  inv_ind_1120  inv_ind_1130  \\\n14673  0.444170     -0.010106     -0.008665     -0.026793           0.0   \n13350 -0.608332     -0.010106     -0.008665     -0.026793           0.0   \n\n       inv_ind_1140  inv_ind_1150  inv_ind_1160  inv_ind_1170  inv_ind_1180  \\\n14673           0.0     -0.024999     -0.013764     -0.017312      -0.03129   \n13350           0.0     -0.024999     -0.013764     -0.017312      -0.03129   \n\n       ...  x0_90.04  x0_91.01  x0_91.02  x0_91.03  x0_91.04  x0_93.1  \\\n14673  ...         0         0         0         0         0        0   \n13350  ...         1         0         0         0         0        0   \n\n       x0_93.2  x0_94.12  x1_msk  x1_spb  \n14673        0         0       1       0  \n13350        0         0       0       1  \n\n[2 rows x 166 columns]",
      "text/html": "<div>\n<style scoped>\n    .dataframe tbody tr th:only-of-type {\n        vertical-align: middle;\n    }\n\n    .dataframe tbody tr th {\n        vertical-align: top;\n    }\n\n    .dataframe thead th {\n        text-align: right;\n    }\n</style>\n<table border=\"1\" class=\"dataframe\">\n  <thead>\n    <tr style=\"text-align: right;\">\n      <th></th>\n      <th>inv_sum</th>\n      <th>inv_ind_1100</th>\n      <th>inv_ind_1110</th>\n      <th>inv_ind_1120</th>\n      <th>inv_ind_1130</th>\n      <th>inv_ind_1140</th>\n      <th>inv_ind_1150</th>\n      <th>inv_ind_1160</th>\n      <th>inv_ind_1170</th>\n      <th>inv_ind_1180</th>\n      <th>...</th>\n      <th>x0_90.04</th>\n      <th>x0_91.01</th>\n      <th>x0_91.02</th>\n      <th>x0_91.03</th>\n      <th>x0_91.04</th>\n      <th>x0_93.1</th>\n      <th>x0_93.2</th>\n      <th>x0_94.12</th>\n      <th>x1_msk</th>\n      <th>x1_spb</th>\n    </tr>\n  </thead>\n  <tbody>\n    <tr>\n      <th>14673</th>\n      <td>0.444170</td>\n      <td>-0.010106</td>\n      <td>-0.008665</td>\n      <td>-0.026793</td>\n      <td>0.0</td>\n      <td>0.0</td>\n      <td>-0.024999</td>\n      <td>-0.013764</td>\n      <td>-0.017312</td>\n      <td>-0.03129</td>\n      <td>...</td>\n      <td>0</td>\n      <td>0</td>\n      <td>0</td>\n      <td>0</td>\n      <td>0</td>\n      <td>0</td>\n      <td>0</td>\n      <td>0</td>\n      <td>1</td>\n      <td>0</td>\n    </tr>\n    <tr>\n      <th>13350</th>\n      <td>-0.608332</td>\n      <td>-0.010106</td>\n      <td>-0.008665</td>\n      <td>-0.026793</td>\n      <td>0.0</td>\n      <td>0.0</td>\n      <td>-0.024999</td>\n      <td>-0.013764</td>\n      <td>-0.017312</td>\n      <td>-0.03129</td>\n      <td>...</td>\n      <td>1</td>\n      <td>0</td>\n      <td>0</td>\n      <td>0</td>\n      <td>0</td>\n      <td>0</td>\n      <td>0</td>\n      <td>0</td>\n      <td>0</td>\n      <td>1</td>\n    </tr>\n  </tbody>\n</table>\n<p>2 rows × 166 columns</p>\n</div>"
     },
     "execution_count": 197,
     "metadata": {},
     "output_type": "execute_result"
    }
   ],
   "source": [
    "# Кодируем категориальные признаки\n",
    "ohe = preprocessing.OneHotEncoder(sparse=False)\n",
    "ohe.fit(work_df[['main_okved', 'region']])\n",
    "X[ohe.get_feature_names()] = ohe.transform(work_df[['main_okved', 'region']]).astype(int)\n",
    "X.sample(2)"
   ],
   "metadata": {
    "collapsed": false,
    "pycharm": {
     "name": "#%%\n"
    }
   }
  },
  {
   "cell_type": "code",
   "execution_count": 198,
   "outputs": [
    {
     "data": {
      "text/plain": "array([0, 1])"
     },
     "execution_count": 198,
     "metadata": {},
     "output_type": "execute_result"
    }
   ],
   "source": [
    "# В таргет берем только признак окупиться/не окупится\n",
    "y = (work_df['target'] != -1).astype(int)\n",
    "y.unique()"
   ],
   "metadata": {
    "collapsed": false,
    "pycharm": {
     "name": "#%%\n"
    }
   }
  },
  {
   "cell_type": "code",
   "execution_count": 199,
   "outputs": [
    {
     "data": {
      "text/plain": "((13942, 166), (13942,), (11153, 166), (11153,), (2789, 166), (2789,))"
     },
     "execution_count": 199,
     "metadata": {},
     "output_type": "execute_result"
    }
   ],
   "source": [
    "# Бъем на трейн - тест\n",
    "X_train, X_valid, y_train, y_valid = train_test_split(X, y, test_size=0.2, random_state=RANDOM_SEED)\n",
    "X.shape, y.shape, X_train.shape, y_train.shape, X_valid.shape, y_valid.shape,"
   ],
   "metadata": {
    "collapsed": false,
    "pycharm": {
     "name": "#%%\n"
    }
   }
  },
  {
   "cell_type": "code",
   "execution_count": 200,
   "outputs": [
    {
     "data": {
      "text/plain": "0.6982594951362799"
     },
     "execution_count": 200,
     "metadata": {},
     "output_type": "execute_result"
    }
   ],
   "source": [
    "# Теперь моделька\n",
    "lr = LogisticRegressionCV(Cs=10, random_state=RANDOM_SEED, class_weight='balanced')\n",
    "lr.fit(X_train, y_train)\n",
    "y_prob = lr.predict_proba(X_valid)\n",
    "metrics.roc_auc_score(y_valid, y_prob[:, 1])"
   ],
   "metadata": {
    "collapsed": false,
    "pycharm": {
     "name": "#%%\n"
    }
   }
  },
  {
   "cell_type": "markdown",
   "source": [
    "В принципе результат не плохой - можно работать дальше"
   ],
   "metadata": {
    "collapsed": false,
    "pycharm": {
     "name": "#%% md\n"
    }
   }
  },
  {
   "cell_type": "code",
   "execution_count": 201,
   "outputs": [
    {
     "data": {
      "text/plain": "<Figure size 864x576 with 1 Axes>",
      "image/png": "[encoded data removed]"
     },
     "metadata": {
      "needs_background": "light"
     },
     "output_type": "display_data"
    }
   ],
   "source": [
    "show_roc_auc(y_valid, y_prob[:, 1])"
   ],
   "metadata": {
    "collapsed": false,
    "pycharm": {
     "name": "#%%\n"
    }
   }
  },
  {
   "cell_type": "code",
   "execution_count": 202,
   "outputs": [
    {
     "data": {
      "text/plain": "<Figure size 576x576 with 2 Axes>",
      "image/png": "[encoded data removed]"
     },
     "metadata": {
      "needs_background": "light"
     },
     "output_type": "display_data"
    }
   ],
   "source": [
    "y_pred = lr.predict(X_valid)\n",
    "show_confusion_matrix(y_valid, y_pred)"
   ],
   "metadata": {
    "collapsed": false,
    "pycharm": {
     "name": "#%%\n"
    }
   }
  },
  {
   "cell_type": "code",
   "execution_count": 203,
   "outputs": [
    {
     "data": {
      "text/plain": "<Figure size 1152x720 with 1 Axes>",
      "image/png": "[encoded data removed]"
     },
     "metadata": {
      "needs_background": "light"
     },
     "output_type": "display_data"
    }
   ],
   "source": [
    "show_lr_Importance(lr, X.columns)"
   ],
   "metadata": {
    "collapsed": false,
    "pycharm": {
     "name": "#%%\n"
    }
   }
  },
  {
   "cell_type": "code",
   "execution_count": 204,
   "outputs": [
    {
     "data": {
      "text/plain": "0.7025259919531611"
     },
     "execution_count": 204,
     "metadata": {},
     "output_type": "execute_result"
    }
   ],
   "source": [
    "# По замечаниям - проверка на переобучение\n",
    "y_prob = lr.predict_proba(X_train)\n",
    "metrics.roc_auc_score(y_train, y_prob[:, 1])"
   ],
   "metadata": {
    "collapsed": false,
    "pycharm": {
     "name": "#%%\n"
    }
   }
  },
  {
   "cell_type": "markdown",
   "source": [
    "### LGBMClassifier"
   ],
   "metadata": {
    "collapsed": false,
    "pycharm": {
     "name": "#%% md\n"
    }
   }
  },
  {
   "cell_type": "code",
   "execution_count": 205,
   "outputs": [
    {
     "data": {
      "text/plain": "0.7412040910199457"
     },
     "execution_count": 205,
     "metadata": {},
     "output_type": "execute_result"
    }
   ],
   "source": [
    "model = LGBMClassifier(random_state=RANDOM_SEED, class_weight='balanced', max_depth=3)\n",
    "model.fit(X_train, y_train)\n",
    "y_prob = model.predict_proba(X_valid)\n",
    "metrics.roc_auc_score(y_valid, y_prob[:, 1])"
   ],
   "metadata": {
    "collapsed": false,
    "pycharm": {
     "name": "#%%\n"
    }
   }
  },
  {
   "cell_type": "markdown",
   "source": [
    "Результат еще лучше, но нас интересует не просто выйдет или нет из убытков, а срок"
   ],
   "metadata": {
    "collapsed": false,
    "pycharm": {
     "name": "#%% md\n"
    }
   }
  },
  {
   "cell_type": "code",
   "execution_count": 206,
   "outputs": [
    {
     "data": {
      "text/plain": "<Figure size 864x576 with 1 Axes>",
      "image/png": "[encoded data removed]"
     },
     "metadata": {
      "needs_background": "light"
     },
     "output_type": "display_data"
    }
   ],
   "source": [
    "show_roc_auc(y_valid, y_prob[:, 1])"
   ],
   "metadata": {
    "collapsed": false,
    "pycharm": {
     "name": "#%%\n"
    }
   }
  },
  {
   "cell_type": "code",
   "execution_count": 207,
   "outputs": [
    {
     "data": {
      "text/plain": "<Figure size 576x576 with 2 Axes>",
      "image/png": "[encoded data removed]"
     },
     "metadata": {
      "needs_background": "light"
     },
     "output_type": "display_data"
    }
   ],
   "source": [
    "y_pred = model.predict(X_valid)\n",
    "show_confusion_matrix(y_valid, y_pred)"
   ],
   "metadata": {
    "collapsed": false,
    "pycharm": {
     "name": "#%%\n"
    }
   }
  },
  {
   "cell_type": "code",
   "execution_count": 208,
   "outputs": [
    {
     "data": {
      "text/plain": "<Figure size 720x720 with 1 Axes>",
      "image/png": "[encoded data removed]"
     },
     "metadata": {
      "needs_background": "light"
     },
     "output_type": "display_data"
    }
   ],
   "source": [
    "plot_feature_importances(model.feature_importances_, X.columns)"
   ],
   "metadata": {
    "collapsed": false,
    "pycharm": {
     "name": "#%%\n"
    }
   }
  },
  {
   "cell_type": "code",
   "execution_count": 209,
   "outputs": [
    {
     "data": {
      "text/plain": "0.7900438056075757"
     },
     "execution_count": 209,
     "metadata": {},
     "output_type": "execute_result"
    }
   ],
   "source": [
    "# По замечаниям - проверка на переобучение\n",
    "y_prob = model.predict_proba(X_train)\n",
    "metrics.roc_auc_score(y_train, y_prob[:, 1])"
   ],
   "metadata": {
    "collapsed": false,
    "pycharm": {
     "name": "#%%\n"
    }
   }
  },
  {
   "cell_type": "markdown",
   "source": [
    "# !!! переобучились"
   ],
   "metadata": {
    "collapsed": false,
    "pycharm": {
     "name": "#%% md\n"
    }
   }
  },
  {
   "cell_type": "markdown",
   "source": [
    "### Предсказание срока выхода из убытков"
   ],
   "metadata": {
    "collapsed": false,
    "pycharm": {
     "name": "#%% md\n"
    }
   }
  },
  {
   "cell_type": "code",
   "execution_count": 210,
   "outputs": [
    {
     "data": {
      "text/plain": "((13942, 69), (13942,))"
     },
     "execution_count": 210,
     "metadata": {},
     "output_type": "execute_result"
    }
   ],
   "source": [
    "# Можно попробовать разный набор фичей, но для начала возьмем сумму инвестиций и ОКВЕД\n",
    "features = ['inv_sum']\n",
    "#features = ['inv_sum', 'inv_ind_1500', 'inv_ind_1200', 'inv_ind_1300', 'inv_ind_1400']\n",
    "X = pd.DataFrame([], index=work_df.index)\n",
    "X[features] = preprocessing.StandardScaler().fit_transform(work_df[features])\n",
    "ohe = preprocessing.OneHotEncoder(sparse=False)\n",
    "ohe.fit(work_df[['main_okved', 'region']])\n",
    "X[ohe.get_feature_names()] = ohe.transform(work_df[['main_okved', 'region']]).astype(int)\n",
    "y = work_df['target']\n",
    "X.shape, y.shape"
   ],
   "metadata": {
    "collapsed": false,
    "pycharm": {
     "name": "#%%\n"
    }
   }
  },
  {
   "cell_type": "code",
   "execution_count": 211,
   "outputs": [
    {
     "data": {
      "text/plain": "((13942, 69), (13942,), (11153, 69), (11153,), (2789, 69), (2789,))"
     },
     "execution_count": 211,
     "metadata": {},
     "output_type": "execute_result"
    }
   ],
   "source": [
    "X_train, X_valid, y_train, y_valid = train_test_split(X, y, test_size=0.2, random_state=RANDOM_SEED)\n",
    "X.shape, y.shape, X_train.shape, y_train.shape, X_valid.shape, y_valid.shape,"
   ],
   "metadata": {
    "collapsed": false,
    "pycharm": {
     "name": "#%%\n"
    }
   }
  },
  {
   "cell_type": "code",
   "execution_count": 212,
   "outputs": [
    {
     "ename": "ValueError",
     "evalue": "Number of classes in y_true not equal to the number of columns in 'y_score'",
     "output_type": "error",
     "traceback": [
      "\u001B[0;31m---------------------------------------------------------------------------\u001B[0m",
      "\u001B[0;31mValueError\u001B[0m                                Traceback (most recent call last)",
      "\u001B[0;32m<ipython-input-212-df1846f4d5f5>\u001B[0m in \u001B[0;36m<module>\u001B[0;34m\u001B[0m\n\u001B[1;32m      2\u001B[0m \u001B[0mmodel\u001B[0m\u001B[0;34m.\u001B[0m\u001B[0mfit\u001B[0m\u001B[0;34m(\u001B[0m\u001B[0mX_train\u001B[0m\u001B[0;34m,\u001B[0m \u001B[0my_train\u001B[0m\u001B[0;34m)\u001B[0m\u001B[0;34m\u001B[0m\u001B[0;34m\u001B[0m\u001B[0m\n\u001B[1;32m      3\u001B[0m \u001B[0my_prob\u001B[0m \u001B[0;34m=\u001B[0m \u001B[0mmodel\u001B[0m\u001B[0;34m.\u001B[0m\u001B[0mpredict_proba\u001B[0m\u001B[0;34m(\u001B[0m\u001B[0mX_valid\u001B[0m\u001B[0;34m)\u001B[0m\u001B[0;34m\u001B[0m\u001B[0;34m\u001B[0m\u001B[0m\n\u001B[0;32m----> 4\u001B[0;31m \u001B[0mmetrics\u001B[0m\u001B[0;34m.\u001B[0m\u001B[0mroc_auc_score\u001B[0m\u001B[0;34m(\u001B[0m\u001B[0my_valid\u001B[0m\u001B[0;34m,\u001B[0m \u001B[0my_prob\u001B[0m\u001B[0;34m,\u001B[0m \u001B[0mmulti_class\u001B[0m\u001B[0;34m=\u001B[0m\u001B[0;34m'ovr'\u001B[0m\u001B[0;34m,\u001B[0m \u001B[0maverage\u001B[0m\u001B[0;34m=\u001B[0m\u001B[0;34m'weighted'\u001B[0m\u001B[0;34m)\u001B[0m\u001B[0;34m\u001B[0m\u001B[0;34m\u001B[0m\u001B[0m\n\u001B[0m",
      "\u001B[0;32m~/opt/anaconda3/lib/python3.8/site-packages/sklearn/utils/validation.py\u001B[0m in \u001B[0;36minner_f\u001B[0;34m(*args, **kwargs)\u001B[0m\n\u001B[1;32m     61\u001B[0m             \u001B[0mextra_args\u001B[0m \u001B[0;34m=\u001B[0m \u001B[0mlen\u001B[0m\u001B[0;34m(\u001B[0m\u001B[0margs\u001B[0m\u001B[0;34m)\u001B[0m \u001B[0;34m-\u001B[0m \u001B[0mlen\u001B[0m\u001B[0;34m(\u001B[0m\u001B[0mall_args\u001B[0m\u001B[0;34m)\u001B[0m\u001B[0;34m\u001B[0m\u001B[0;34m\u001B[0m\u001B[0m\n\u001B[1;32m     62\u001B[0m             \u001B[0;32mif\u001B[0m \u001B[0mextra_args\u001B[0m \u001B[0;34m<=\u001B[0m \u001B[0;36m0\u001B[0m\u001B[0;34m:\u001B[0m\u001B[0;34m\u001B[0m\u001B[0;34m\u001B[0m\u001B[0m\n\u001B[0;32m---> 63\u001B[0;31m                 \u001B[0;32mreturn\u001B[0m \u001B[0mf\u001B[0m\u001B[0;34m(\u001B[0m\u001B[0;34m*\u001B[0m\u001B[0margs\u001B[0m\u001B[0;34m,\u001B[0m \u001B[0;34m**\u001B[0m\u001B[0mkwargs\u001B[0m\u001B[0;34m)\u001B[0m\u001B[0;34m\u001B[0m\u001B[0;34m\u001B[0m\u001B[0m\n\u001B[0m\u001B[1;32m     64\u001B[0m \u001B[0;34m\u001B[0m\u001B[0m\n\u001B[1;32m     65\u001B[0m             \u001B[0;31m# extra_args > 0\u001B[0m\u001B[0;34m\u001B[0m\u001B[0;34m\u001B[0m\u001B[0;34m\u001B[0m\u001B[0m\n",
      "\u001B[0;32m~/opt/anaconda3/lib/python3.8/site-packages/sklearn/metrics/_ranking.py\u001B[0m in \u001B[0;36mroc_auc_score\u001B[0;34m(y_true, y_score, average, sample_weight, max_fpr, multi_class, labels)\u001B[0m\n\u001B[1;32m    535\u001B[0m         \u001B[0;32mif\u001B[0m \u001B[0mmulti_class\u001B[0m \u001B[0;34m==\u001B[0m \u001B[0;34m'raise'\u001B[0m\u001B[0;34m:\u001B[0m\u001B[0;34m\u001B[0m\u001B[0;34m\u001B[0m\u001B[0m\n\u001B[1;32m    536\u001B[0m             \u001B[0;32mraise\u001B[0m \u001B[0mValueError\u001B[0m\u001B[0;34m(\u001B[0m\u001B[0;34m\"multi_class must be in ('ovo', 'ovr')\"\u001B[0m\u001B[0;34m)\u001B[0m\u001B[0;34m\u001B[0m\u001B[0;34m\u001B[0m\u001B[0m\n\u001B[0;32m--> 537\u001B[0;31m         return _multiclass_roc_auc_score(y_true, y_score, labels,\n\u001B[0m\u001B[1;32m    538\u001B[0m                                          multi_class, average, sample_weight)\n\u001B[1;32m    539\u001B[0m     \u001B[0;32melif\u001B[0m \u001B[0my_type\u001B[0m \u001B[0;34m==\u001B[0m \u001B[0;34m\"binary\"\u001B[0m\u001B[0;34m:\u001B[0m\u001B[0;34m\u001B[0m\u001B[0;34m\u001B[0m\u001B[0m\n",
      "\u001B[0;32m~/opt/anaconda3/lib/python3.8/site-packages/sklearn/metrics/_ranking.py\u001B[0m in \u001B[0;36m_multiclass_roc_auc_score\u001B[0;34m(y_true, y_score, labels, multi_class, average, sample_weight)\u001B[0m\n\u001B[1;32m    629\u001B[0m         \u001B[0mclasses\u001B[0m \u001B[0;34m=\u001B[0m \u001B[0m_unique\u001B[0m\u001B[0;34m(\u001B[0m\u001B[0my_true\u001B[0m\u001B[0;34m)\u001B[0m\u001B[0;34m\u001B[0m\u001B[0;34m\u001B[0m\u001B[0m\n\u001B[1;32m    630\u001B[0m         \u001B[0;32mif\u001B[0m \u001B[0mlen\u001B[0m\u001B[0;34m(\u001B[0m\u001B[0mclasses\u001B[0m\u001B[0;34m)\u001B[0m \u001B[0;34m!=\u001B[0m \u001B[0my_score\u001B[0m\u001B[0;34m.\u001B[0m\u001B[0mshape\u001B[0m\u001B[0;34m[\u001B[0m\u001B[0;36m1\u001B[0m\u001B[0;34m]\u001B[0m\u001B[0;34m:\u001B[0m\u001B[0;34m\u001B[0m\u001B[0;34m\u001B[0m\u001B[0m\n\u001B[0;32m--> 631\u001B[0;31m             raise ValueError(\n\u001B[0m\u001B[1;32m    632\u001B[0m                 \u001B[0;34m\"Number of classes in y_true not equal to the number of \"\u001B[0m\u001B[0;34m\u001B[0m\u001B[0;34m\u001B[0m\u001B[0m\n\u001B[1;32m    633\u001B[0m                 \"columns in 'y_score'\")\n",
      "\u001B[0;31mValueError\u001B[0m: Number of classes in y_true not equal to the number of columns in 'y_score'"
     ]
    }
   ],
   "source": [
    "model = LGBMClassifier(random_state=RANDOM_SEED, class_weight='balanced', max_depth=3)\n",
    "model.fit(X_train, y_train)\n",
    "y_prob = model.predict_proba(X_valid)\n",
    "metrics.roc_auc_score(y_valid, y_prob, multi_class='ovr', average='weighted')"
   ],
   "metadata": {
    "collapsed": false,
    "pycharm": {
     "name": "#%%\n"
    }
   }
  },
  {
   "cell_type": "code",
   "execution_count": null,
   "outputs": [],
   "source": [
    "cross_val_score(model, X, y, cv=5, scoring='roc_auc_ovr_weighted')"
   ],
   "metadata": {
    "collapsed": false,
    "pycharm": {
     "name": "#%%\n"
    }
   }
  },
  {
   "cell_type": "code",
   "execution_count": 213,
   "outputs": [
    {
     "name": "stdout",
     "output_type": "stream",
     "text": [
      "0.6028434015263832\n",
      "0.602741246844184\n",
      "0.6111563255872219\n",
      "0.6058501479679841\n",
      "0.5975398424780581\n"
     ]
    }
   ],
   "source": [
    "skf = StratifiedKFold(n_splits=5, shuffle=True)\n",
    "for train_index, test_index in skf.split(X, y):\n",
    "    model = LGBMClassifier(random_state=RANDOM_SEED, class_weight='balanced')\n",
    "    X_train, X_test = X.iloc[train_index, :], X.iloc[test_index, :]\n",
    "    y_train, y_test = y.iloc[train_index], y.iloc[test_index]\n",
    "    model.fit(X_train, y_train)\n",
    "    y_prob = model.predict_proba(X_test)\n",
    "    print(metrics.roc_auc_score(y_test, y_prob, multi_class='ovr', average='weighted'))\n",
    "#cross_val_score(model, X, y, cv=5, scoring='roc_auc_ovo_weighted')"
   ],
   "metadata": {
    "collapsed": false,
    "pycharm": {
     "name": "#%%\n"
    }
   }
  },
  {
   "cell_type": "markdown",
   "source": [
    "На самом деле для такого набора признаков и модели без настроенных гиперпараметров результат просто поразительный, следовательно нужно искать где\n",
    "в предыдущих раскладках ошибка"
   ],
   "metadata": {
    "collapsed": false,
    "pycharm": {
     "name": "#%% md\n"
    }
   }
  },
  {
   "cell_type": "code",
   "execution_count": 214,
   "outputs": [
    {
     "data": {
      "text/plain": "<Figure size 720x720 with 1 Axes>",
      "image/png": "[encoded data removed]"
     },
     "metadata": {
      "needs_background": "light"
     },
     "output_type": "display_data"
    }
   ],
   "source": [
    "plot_feature_importances(model.feature_importances_, X.columns)"
   ],
   "metadata": {
    "collapsed": false,
    "pycharm": {
     "name": "#%%\n"
    }
   }
  },
  {
   "cell_type": "code",
   "execution_count": 215,
   "outputs": [
    {
     "data": {
      "text/plain": "<Figure size 576x576 with 2 Axes>",
      "image/png": "[encoded data removed]"
     },
     "metadata": {
      "needs_background": "light"
     },
     "output_type": "display_data"
    }
   ],
   "source": [
    "y_pred = model.predict(X_valid)\n",
    "show_confusion_matrix(y_pred, y_valid)"
   ],
   "metadata": {
    "collapsed": false,
    "pycharm": {
     "name": "#%%\n"
    }
   }
  },
  {
   "cell_type": "code",
   "execution_count": 216,
   "outputs": [
    {
     "data": {
      "text/plain": "[(3, -1),\n (4, 2),\n (5, -1),\n (3, -1),\n (3, 3),\n (4, 4),\n (6, -1),\n (7, 1),\n (1, 1),\n (-1, -1)]"
     },
     "execution_count": 216,
     "metadata": {},
     "output_type": "execute_result"
    }
   ],
   "source": [
    "list(zip(y_pred, y_valid))[100:110]"
   ],
   "metadata": {
    "collapsed": false,
    "pycharm": {
     "name": "#%%\n"
    }
   }
  },
  {
   "cell_type": "code",
   "execution_count": 217,
   "outputs": [
    {
     "data": {
      "text/plain": "0.7108440982443736"
     },
     "execution_count": 217,
     "metadata": {},
     "output_type": "execute_result"
    }
   ],
   "source": [
    "# По замечаниям - проверка на переобучение\n",
    "y_prob = model.predict_proba(X_train)\n",
    "metrics.roc_auc_score(y_train, y_prob, multi_class='ovr', average='weighted')"
   ],
   "metadata": {
    "collapsed": false,
    "pycharm": {
     "name": "#%%\n"
    }
   }
  },
  {
   "cell_type": "markdown",
   "source": [
    "# !!!Переобучились"
   ],
   "metadata": {
    "collapsed": false,
    "pycharm": {
     "name": "#%% md\n"
    }
   }
  },
  {
   "cell_type": "code",
   "execution_count": 218,
   "outputs": [
    {
     "data": {
      "text/plain": "1.2073488873374119"
     },
     "execution_count": 218,
     "metadata": {},
     "output_type": "execute_result"
    }
   ],
   "source": [
    "model = LGBMRegressor(random_state=RANDOM_SEED)\n",
    "model.fit(X_train, y_train)\n",
    "y_pred = model.predict(X_valid)\n",
    "metrics.mean_absolute_error(y_valid, y_pred)"
   ],
   "metadata": {
    "collapsed": false,
    "pycharm": {
     "name": "#%%\n"
    }
   }
  },
  {
   "cell_type": "code",
   "execution_count": 219,
   "outputs": [
    {
     "data": {
      "text/plain": "[(0.0, -1),\n (1.0, 2),\n (0.0, -1),\n (1.0, -1),\n (1.0, 3),\n (-0.0, 4),\n (0.0, -1),\n (1.0, 1),\n (1.0, 1),\n (-0.0, -1)]"
     },
     "execution_count": 219,
     "metadata": {},
     "output_type": "execute_result"
    }
   ],
   "source": [
    "list(zip(np.round(y_pred), y_valid))[100:110]"
   ],
   "metadata": {
    "collapsed": false,
    "pycharm": {
     "name": "#%%\n"
    }
   }
  },
  {
   "cell_type": "code",
   "execution_count": 220,
   "outputs": [
    {
     "data": {
      "text/plain": "(array([-1.,  0.,  1.,  2.,  3.]), array([ 113, 1797,  801,   76,    2]))"
     },
     "execution_count": 220,
     "metadata": {},
     "output_type": "execute_result"
    }
   ],
   "source": [
    "np.unique(np.round(y_pred), return_counts=True)"
   ],
   "metadata": {
    "collapsed": false,
    "pycharm": {
     "name": "#%%\n"
    }
   }
  },
  {
   "cell_type": "code",
   "execution_count": null,
   "outputs": [],
   "source": [],
   "metadata": {
    "collapsed": false,
    "pycharm": {
     "name": "#%%\n"
    }
   }
  }
 ],
 "metadata": {
  "kernelspec": {
   "display_name": "Python 3",
   "language": "python",
   "name": "python3"
  },
  "language_info": {
   "codemirror_mode": {
    "name": "ipython",
    "version": 2
   },
   "file_extension": ".py",
   "mimetype": "text/x-python",
   "name": "python",
   "nbconvert_exporter": "python",
   "pygments_lexer": "ipython2",
   "version": "2.7.6"
  }
 },
 "nbformat": 4,
 "nbformat_minor": 0
}