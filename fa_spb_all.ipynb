{
 "cells": [
  {
   "cell_type": "code",
   "execution_count": 1,
   "metadata": {
    "collapsed": true
   },
   "outputs": [],
   "source": [
    "import numpy as np\n",
    "import pandas as pd\n",
    "from lightgbm import LGBMRegressor\n",
    "from sklearn.ensemble import GradientBoostingRegressor, RandomForestRegressor\n",
    "from sklearn.linear_model import RidgeCV, SGDRegressor, LogisticRegressionCV\n",
    "from sklearn import metrics\n",
    "from sklearn.metrics import roc_curve, roc_auc_score, confusion_matrix\n",
    "from sklearn.model_selection import train_test_split, cross_val_score\n",
    "from sklearn import preprocessing\n",
    "from tqdm.notebook import tqdm\n",
    "# from autoviz.AutoViz_Class import AutoViz_Class\n",
    "from pandas_profiling import ProfileReport\n",
    "import datetime\n",
    "from time import sleep, time\n",
    "import re\n",
    "\n",
    "import matplotlib.pyplot as plt\n",
    "import seaborn as sns\n",
    "%matplotlib inline"
   ]
  },
  {
   "cell_type": "code",
   "execution_count": 2,
   "outputs": [],
   "source": [
    "RANDOM_SEED = 42"
   ],
   "metadata": {
    "collapsed": false,
    "pycharm": {
     "name": "#%%\n"
    }
   }
  },
  {
   "cell_type": "code",
   "execution_count": 3,
   "outputs": [],
   "source": [
    "def na_info(ds: pd.DataFrame) -> pd.DataFrame:\n",
    "    arr = []\n",
    "    nans_cnt = ds.isna().sum()\n",
    "    for ind, row in tqdm(nans_cnt.items(), total=nans_cnt.shape[0]):\n",
    "        name = ind\n",
    "        if ind.startswith('ind_'):\n",
    "            name = buh_codes_dict[ind[4:8]]\n",
    "        arr.append([ind, name, row, round(row / data.shape[0] * 100, 2)])\n",
    "    return pd.DataFrame(arr, columns=['column', 'name', 'nan_cnt', 'nan_perc'])\n",
    "\n",
    "\n",
    "# Корреляция между числовыми признаками набора данных\n",
    "def show_num_corr(df: pd.DataFrame, features: list = None, title: str ='Корреляция между данными'):\n",
    "    plt.figure(figsize=(16, 16))\n",
    "    show_df =  df\n",
    "    if features is not None:\n",
    "        show_df = df[features]\n",
    "    mask = np.triu(np.ones_like(show_df.corr(), dtype=bool))\n",
    "    heatmap = sns.heatmap(show_df.corr(),\n",
    "                          mask=mask, vmin=-1, vmax=1, annot=True, cmap='BrBG')\n",
    "    heatmap = heatmap.set_title(title, fontdict={'fontsize': 18}, pad=16)\n",
    "    return heatmap\n",
    "\n",
    "\n",
    "def get_high_coreleted_features(df: pd.DataFrame, limit: float = 0.9, method: str = 'pearson') -> pd.DataFrame:\n",
    "    corr_ds = df.corr(method=method)\n",
    "    corr_rows = []\n",
    "    for ind_row, row in corr_ds.iterrows():\n",
    "        for ind_col, cell in row.items():\n",
    "            if abs(cell) > limit and ind_row != ind_col:\n",
    "                if [ind_col, ind_row, cell] not in corr_rows:\n",
    "                    corr_rows.append([ind_row, ind_col, cell])\n",
    "    return pd.DataFrame(corr_rows, columns=['feature_1', 'feature_2', 'value'])\n",
    "\n",
    "\n",
    "def outliers(df: pd.DataFrame, feature: str, iqrs: float = 1.5) -> pd.DataFrame:\n",
    "    # Интерквартильный размах\n",
    "    perc25 = df[feature].quantile(0.25)\n",
    "    perc75 = df[feature].quantile(0.75)\n",
    "    IQR = perc75 - perc25\n",
    "    low, high = (perc25 - iqrs * IQR, perc75 + iqrs * IQR)\n",
    "    print(\n",
    "        f'25-й перцентиль: {perc25}, 75-й перцентиль: {perc75}, IQR: {IQR}, Границы выбросов: [{low}, {high}]')\n",
    "    return df[(df[feature] < low) | (df[feature] > high)]\n",
    "\n",
    "\n",
    "def first_look(s: pd.Series) -> None:\n",
    "    saved_format = pd.options.display.float_format\n",
    "    pd.options.display.float_format = '{:.2f}'.format\n",
    "    print('-' * 80)\n",
    "    print('Название:', s.name)\n",
    "    print('Тип данных:', s.dtype.type)\n",
    "    print('Количество значений:', len(s))\n",
    "    print('Количество уникальных значений:', s.nunique())\n",
    "    print('Количество пропусков:', s.isna().sum())\n",
    "    print(f'Процент пропусков: {round((s.isna().sum() / len(s)) * 100, 2)}%')\n",
    "    print('Общие статистики:')\n",
    "    print(s.describe())\n",
    "    print('Топ 10 уникальных значений:')\n",
    "    print(s.value_counts()[:10])\n",
    "    print('-' * 80)\n",
    "    pd.options.display.float_format = saved_format\n",
    "\n",
    "\n",
    "def plot_feature_imortances(fi, columns, num=20):\n",
    "    plt.rcParams['figure.figsize'] = (10, 10)\n",
    "    feat_importances = pd.Series(fi, index=columns)\n",
    "    mean_imp = feat_importances.nlargest(num).mean()\n",
    "    feat_colors = feat_importances.apply(lambda x: 'r' if x > mean_imp else 'b')\n",
    "    feat_importances.nlargest(num).plot(kind='barh', title='Feature importance')\n",
    "\n",
    "\n",
    "def show_roc_auc(y_test, probs):\n",
    "    fpr, tpr, threshold = roc_curve(y_test, probs)\n",
    "    roc_auc = roc_auc_score(y_test, probs)\n",
    "    plt.figure(figsize=(12, 8))\n",
    "    plt.plot([0, 1], label='Baseline', linestyle='--')\n",
    "    plt.plot(fpr, tpr, label = 'Regression')\n",
    "    plt.title('Logistic Regression ROC AUC = %0.10f' % roc_auc)\n",
    "    plt.ylabel('True Positive Rate')\n",
    "    plt.xlabel('False Positive Rate')\n",
    "    plt.legend(loc = 'lower right')\n",
    "    plt.show()\n",
    "\n",
    "\n",
    "def show_lr_Importance(model, features, n=20):\n",
    "    lr_coef = pd.DataFrame(model.coef_.T, columns=['coefficient'], index=features)\n",
    "    lr_coef = np.abs(lr_coef)\n",
    "    lr_coef = lr_coef.sort_values(by='coefficient', ascending=False)\n",
    "    f, ax = plt.subplots(1, 1, figsize=(16, 10))\n",
    "    df4display = lr_coef.head(n)\n",
    "    sns.barplot(x=df4display['coefficient'], y=df4display.index, palette=\"vlag\", ax=ax)\n",
    "    _ = ax.set_ylabel(\"Признак\")\n",
    "    _ = ax.set_title(\"Значимость признаков\")\n",
    "\n",
    "\n",
    "def show_confusion_matrix(y_pred, y_true):\n",
    "    plt.figure(figsize=(8, 8))\n",
    "    c_matrix = confusion_matrix(y_true, y_pred, labels=[1, 0])\n",
    "    heatmap = sns.heatmap(c_matrix, annot=True, cmap='BrBG', fmt='g', annot_kws={\"fontsize\": 18})\n",
    "    heatmap = heatmap.set_title(\"Confusion matrix\", fontdict={'fontsize': 18}, pad=16)\n",
    "\n",
    "\n",
    "def print_clssification_metrix(y_pred, y_true):\n",
    "    print('Precision:', metrics.precision_score(y_pred, y_true))\n",
    "    print('Recall:', metrics.recall_score(y_pred, y_true))\n",
    "    print('F1-score:', metrics.f1_score(y_pred, y_true))\n"
   ],
   "metadata": {
    "collapsed": false,
    "pycharm": {
     "name": "#%%\n"
    }
   }
  },
  {
   "cell_type": "code",
   "execution_count": 5,
   "outputs": [
    {
     "name": "stdout",
     "output_type": "stream",
     "text": [
      "<class 'pandas.core.frame.DataFrame'>\n",
      "RangeIndex: 20310 entries, 0 to 20309\n",
      "Columns: 119 entries, inn to Налог на доходы (Ф2.2410)\n",
      "dtypes: float64(4), int64(109), object(6)\n",
      "memory usage: 18.4+ MB\n"
     ]
    }
   ],
   "source": [
    "data = pd.read_csv('data/df_spb_all.csv')\n",
    "data.info()"
   ],
   "metadata": {
    "collapsed": false,
    "pycharm": {
     "name": "#%%\n"
    }
   }
  },
  {
   "cell_type": "code",
   "execution_count": 6,
   "outputs": [
    {
     "data": {
      "text/plain": "0        Организация ООО \"СТИЛЬ\" зарегистрирована в еди...\n1        Организация ООО \"СТИЛЬ\" зарегистрирована в еди...\n2        Организация ООО \"СТИЛЬ\" зарегистрирована в еди...\n3        Организация ООО \"СТИЛЬ\" зарегистрирована в еди...\n4        Организация ООО \"СТИЛЬ\" зарегистрирована в еди...\n                               ...                        \n20305    Организация ООО \"ЗЕРКАЛО\" зарегистрирована в е...\n20306    Организация ООО \"ЗЕРКАЛО\" зарегистрирована в е...\n20307    Организация ООО \"ЗЕРКАЛО\" зарегистрирована в е...\n20308    Организация ООО \"ЗЕРКАЛО\" зарегистрирована в е...\n20309    Организация ООО \"ЗЕРКАЛО\" зарегистрирована в е...\nName: status, Length: 20310, dtype: object"
     },
     "execution_count": 6,
     "metadata": {},
     "output_type": "execute_result"
    }
   ],
   "source": [
    "data.status"
   ],
   "metadata": {
    "collapsed": false,
    "pycharm": {
     "name": "#%%\n"
    }
   }
  },
  {
   "cell_type": "code",
   "execution_count": 7,
   "outputs": [
    {
     "data": {
      "text/plain": "0        2015-02-06\n1        2015-02-06\n2        2015-02-06\n3        2015-02-06\n4        2015-02-06\n            ...    \n20305    2014-11-26\n20306    2014-11-26\n20307    2014-11-26\n20308    2014-11-26\n20309    2014-11-26\nName: status, Length: 20310, dtype: object"
     },
     "execution_count": 7,
     "metadata": {},
     "output_type": "execute_result"
    }
   ],
   "source": [
    "month_dict = {'января': 1, 'февраля': 2, 'марта': 3, 'апреля': 4, 'мая': 5,  'июня': 6,\n",
    "              'июля': 7, 'августа': 8, 'сентября': 9,  'октября': 10,  'ноября': 11,  'декабря': 12}\n",
    "def extract_reg(s: str):\n",
    "    key = 'назад'\n",
    "    pos = s.find(key)\n",
    "    dt =  s[pos + len(key):-1].strip()\n",
    "    splitted_dt = dt.split(' ')\n",
    "    return datetime.date(int(splitted_dt[2]), month_dict[splitted_dt[1]], int(splitted_dt[0]))\n",
    "data.status.apply(lambda x: extract_reg(x.split('\\n')[0]))"
   ],
   "metadata": {
    "collapsed": false,
    "pycharm": {
     "name": "#%%\n"
    }
   }
  },
  {
   "cell_type": "code",
   "execution_count": 8,
   "outputs": [
    {
     "data": {
      "text/plain": "0        Организация находится в стадии ликвидидации с ...\n1        Организация находится в стадии ликвидидации с ...\n2        Организация находится в стадии ликвидидации с ...\n3        Организация находится в стадии ликвидидации с ...\n4        Организация находится в стадии ликвидидации с ...\n                               ...                        \n20305                                                  NaN\n20306                                                  NaN\n20307                                                  NaN\n20308                                                  NaN\n20309                                                  NaN\nName: status, Length: 20310, dtype: object"
     },
     "execution_count": 8,
     "metadata": {},
     "output_type": "execute_result"
    }
   ],
   "source": [
    "data.status.apply(lambda x: np.NaN if len(x.split('\\n')) < 2 else x.split('\\n')[1])"
   ],
   "metadata": {
    "collapsed": false,
    "pycharm": {
     "name": "#%%\n"
    }
   }
  },
  {
   "cell_type": "code",
   "execution_count": 9,
   "outputs": [
    {
     "data": {
      "text/plain": "datetime.date(2011, 5, 26)"
     },
     "execution_count": 9,
     "metadata": {},
     "output_type": "execute_result"
    }
   ],
   "source": [
    "extract_reg('Организация ООО \"БСС ИНЖИНИРИНГ\" зарегистрирована в едином государственном реестре юридических лиц 10 лет назад 26 мая 2011.')"
   ],
   "metadata": {
    "collapsed": false,
    "pycharm": {
     "name": "#%%\n"
    }
   }
  },
  {
   "cell_type": "code",
   "execution_count": 10,
   "outputs": [
    {
     "name": "stdout",
     "output_type": "stream",
     "text": [
      "['ОС (Ф1.1150)']\n",
      "['Фин вложения (Ф1.1170)']\n",
      "['Деб задолж (Ф1.1230)']\n",
      "['Итого по разделу III(Ф1.1300)']\n",
      "['Уставный капитал (Ф1.1310)']\n",
      "['Собственные акции, выкупленные у акционеров (Ф1.1320)']\n",
      "['Добавочный капитал (Ф1.1350)']\n",
      "['Резерв капитал (Ф1.1360)']\n",
      "['Нераспредел прибыль (непокрытый убыток) (Ф1.1370)']\n",
      "['Долгосроч заемные средства (Ф1.1410)']\n",
      "['Прочие долгосрочные обязательства (Ф1.1450)']\n",
      "['Заемные средства (Ф1.1510)', 'Краткосрочные заемные средства (Ф1.1510)']\n",
      "['Прочие краткосрочные обязательства (Ф1.1550)']\n",
      "['Себестоимость деятельности (Ф2.2120)']\n",
      "['Налог на доходы (Ф2.2410)']\n"
     ]
    }
   ],
   "source": [
    "dup_lst = ['ind_1150', 'ind_1170', 'ind_1230','ind_1300', 'ind_1310', 'ind_1320', 'ind_1350',\n",
    "           'ind_1360', 'ind_1370', 'ind_1410', 'ind_1450', 'ind_1510', 'ind_1550', 'ind_2120', 'ind_2410']\n",
    "for d in dup_lst:\n",
    "    print([c for c in data.columns if d[4:] in c])"
   ],
   "metadata": {
    "collapsed": false,
    "pycharm": {
     "name": "#%%\n"
    }
   }
  },
  {
   "cell_type": "code",
   "execution_count": 14,
   "outputs": [
    {
     "data": {
      "text/plain": "              inn           ogrn main_okved  \\\n3      7813213777  1157847038062      62.01   \n4      7813213777  1157847038062      62.01   \n5      7813213777  1157847038062      62.01   \n8      7838460601  1117847230082      61.10   \n9      7838460601  1117847230082      61.10   \n...           ...            ...        ...   \n20266  7842480304  1127847426805      62.01   \n20267  7842480304  1127847426805      62.01   \n20270  7842480304  1127847426805      62.01   \n20272  7819320278  1147847377358      62.01   \n20273  7819320278  1147847377358      62.01   \n\n                                status_org  \\\n3      коммерческая, в процессе ликвидации   \n4      коммерческая, в процессе ликвидации   \n5      коммерческая, в процессе ликвидации   \n8              коммерческая, ликвидирована   \n9              коммерческая, ликвидирована   \n...                                    ...   \n20266          коммерческая, ликвидирована   \n20267          коммерческая, ликвидирована   \n20270          коммерческая, ликвидирована   \n20272            коммерческая, действующая   \n20273            коммерческая, действующая   \n\n                                                    info  \\\n3      Полное наименование организации: ООО \"СТИЛЬ\"\\n...   \n4      Полное наименование организации: ООО \"СТИЛЬ\"\\n...   \n5      Полное наименование организации: ООО \"СТИЛЬ\"\\n...   \n8      Полное наименование организации: ООО \"КАПИТАЛ-...   \n9      Полное наименование организации: ООО \"КАПИТАЛ-...   \n...                                                  ...   \n20266  Полное наименование организации: ООО \"АККАУНТО...   \n20267  Полное наименование организации: ООО \"АККАУНТО...   \n20270  Полное наименование организации: ООО \"АККАУНТО...   \n20272  Полное наименование организации: ООО \"ФИРМА \"П...   \n20273  Полное наименование организации: ООО \"ФИРМА \"П...   \n\n                                                  status  \\\n3      Организация ООО \"СТИЛЬ\" зарегистрирована в еди...   \n4      Организация ООО \"СТИЛЬ\" зарегистрирована в еди...   \n5      Организация ООО \"СТИЛЬ\" зарегистрирована в еди...   \n8      Организация ООО \"КАПИТАЛ-СВЯЗЬ\" зарегистрирова...   \n9      Организация ООО \"КАПИТАЛ-СВЯЗЬ\" зарегистрирова...   \n...                                                  ...   \n20266  Организация ООО \"АККАУНТОР СОЛЮШНЗ\" зарегистри...   \n20267  Организация ООО \"АККАУНТОР СОЛЮШНЗ\" зарегистри...   \n20270  Организация ООО \"АККАУНТОР СОЛЮШНЗ\" зарегистри...   \n20272  Организация ООО \"ФИРМА \"ПАССАТ\" зарегистрирова...   \n20273  Организация ООО \"ФИРМА \"ПАССАТ\" зарегистрирова...   \n\n                                                   okved  year  \\\n3      26.20 Производство компьютеров и периферийного...  2018   \n4      26.20 Производство компьютеров и периферийного...  2019   \n5      26.20 Производство компьютеров и периферийного...  2020   \n8      43.21 Производство электромонтажных работ\\n46....  2013   \n9      43.21 Производство электромонтажных работ\\n46....  2014   \n...                                                  ...   ...   \n20266  62.0 Разработка компьютерного программного обе...  2015   \n20267  62.0 Разработка компьютерного программного обе...  2016   \n20270  62.0 Разработка компьютерного программного обе...  2019   \n20272  62.02 Деятельность консультативная и работы в ...  2014   \n20273  62.02 Деятельность консультативная и работы в ...  2015   \n\n       Отложенные налоговые активы (Ф1.1180)  Итого по разделу I (Ф1.1100)  \\\n3                                          0                           174   \n4                                          0                            54   \n5                                          0                            85   \n8                                          0                             0   \n9                                          0                             0   \n...                                      ...                           ...   \n20266                                    139                           298   \n20267                                    109                           410   \n20270                                    294                           673   \n20272                                      0                             2   \n20273                                      0                             1   \n\n       ...  Уставный капитал (Ф1.1310)  Добавочный капитал (Ф1.1350)  \\\n3      ...                          15                             0   \n4      ...                          15                             0   \n5      ...                          15                             0   \n8      ...                           0                             0   \n9      ...                           0                             0   \n...    ...                         ...                           ...   \n20266  ...                         100                             0   \n20267  ...                         100                             0   \n20270  ...                         100                             0   \n20272  ...                          15                             0   \n20273  ...                          15                             0   \n\n       Резерв капитал (Ф1.1360)  \\\n3                            91   \n4                           373   \n5                           673   \n8                             0   \n9                             0   \n...                         ...   \n20266                         0   \n20267                         0   \n20270                         0   \n20272                         2   \n20273                         0   \n\n       Нераспредел прибыль (непокрытый убыток) (Ф1.1370)  \\\n3                                                    282   \n4                                                    300   \n5                                                   -189   \n8                                                      0   \n9                                                      0   \n...                                                  ...   \n20266                                               3515   \n20267                                               4844   \n20270                                               9659   \n20272                                              21945   \n20273                                              22110   \n\n       Итого по разделу III(Ф1.1300)  Долгосроч заемные средства (Ф1.1410)  \\\n3                                388                                     0   \n4                                688                                     0   \n5                                499                                     0   \n8                                220                                     0   \n9                                235                                     0   \n...                              ...                                   ...   \n20266                           3615                                  1992   \n20267                           4944                                     0   \n20270                           9759                                     0   \n20272                          21962                                     0   \n20273                          22125                                     0   \n\n       Прочие долгосрочные обязательства (Ф1.1450)  \\\n3                                                0   \n4                                                0   \n5                                                0   \n8                                                0   \n9                                                0   \n...                                            ...   \n20266                                            0   \n20267                                            0   \n20270                                            0   \n20272                                            0   \n20273                                            0   \n\n       Прочие краткосрочные обязательства (Ф1.1550)  \\\n3                                                 0   \n4                                                 0   \n5                                                 0   \n8                                                48   \n9                                                67   \n...                                             ...   \n20266                                           488   \n20267                                          1279   \n20270                                             0   \n20272                                             0   \n20273                                             0   \n\n       Себестоимость деятельности (Ф2.2120)  Налог на доходы (Ф2.2410)  \n3                                     -3240                       -142  \n4                                         0                       -124  \n5                                         0                          0  \n8                                      -813                        -22  \n9                                      -977                         -4  \n...                                     ...                        ...  \n20266                                     0                      -1140  \n20267                                     0                       -792  \n20270                                -20060                       -329  \n20272                                -34180                       -628  \n20273                                 -5492                        -82  \n\n[5769 rows x 119 columns]",
      "text/html": "<div>\n<style scoped>\n    .dataframe tbody tr th:only-of-type {\n        vertical-align: middle;\n    }\n\n    .dataframe tbody tr th {\n        vertical-align: top;\n    }\n\n    .dataframe thead th {\n        text-align: right;\n    }\n</style>\n<table border=\"1\" class=\"dataframe\">\n  <thead>\n    <tr style=\"text-align: right;\">\n      <th></th>\n      <th>inn</th>\n      <th>ogrn</th>\n      <th>main_okved</th>\n      <th>status_org</th>\n      <th>info</th>\n      <th>status</th>\n      <th>okved</th>\n      <th>year</th>\n      <th>Отложенные налоговые активы (Ф1.1180)</th>\n      <th>Итого по разделу I (Ф1.1100)</th>\n      <th>...</th>\n      <th>Уставный капитал (Ф1.1310)</th>\n      <th>Добавочный капитал (Ф1.1350)</th>\n      <th>Резерв капитал (Ф1.1360)</th>\n      <th>Нераспредел прибыль (непокрытый убыток) (Ф1.1370)</th>\n      <th>Итого по разделу III(Ф1.1300)</th>\n      <th>Долгосроч заемные средства (Ф1.1410)</th>\n      <th>Прочие долгосрочные обязательства (Ф1.1450)</th>\n      <th>Прочие краткосрочные обязательства (Ф1.1550)</th>\n      <th>Себестоимость деятельности (Ф2.2120)</th>\n      <th>Налог на доходы (Ф2.2410)</th>\n    </tr>\n  </thead>\n  <tbody>\n    <tr>\n      <th>3</th>\n      <td>7813213777</td>\n      <td>1157847038062</td>\n      <td>62.01</td>\n      <td>коммерческая, в процессе ликвидации</td>\n      <td>Полное наименование организации: ООО \"СТИЛЬ\"\\n...</td>\n      <td>Организация ООО \"СТИЛЬ\" зарегистрирована в еди...</td>\n      <td>26.20 Производство компьютеров и периферийного...</td>\n      <td>2018</td>\n      <td>0</td>\n      <td>174</td>\n      <td>...</td>\n      <td>15</td>\n      <td>0</td>\n      <td>91</td>\n      <td>282</td>\n      <td>388</td>\n      <td>0</td>\n      <td>0</td>\n      <td>0</td>\n      <td>-3240</td>\n      <td>-142</td>\n    </tr>\n    <tr>\n      <th>4</th>\n      <td>7813213777</td>\n      <td>1157847038062</td>\n      <td>62.01</td>\n      <td>коммерческая, в процессе ликвидации</td>\n      <td>Полное наименование организации: ООО \"СТИЛЬ\"\\n...</td>\n      <td>Организация ООО \"СТИЛЬ\" зарегистрирована в еди...</td>\n      <td>26.20 Производство компьютеров и периферийного...</td>\n      <td>2019</td>\n      <td>0</td>\n      <td>54</td>\n      <td>...</td>\n      <td>15</td>\n      <td>0</td>\n      <td>373</td>\n      <td>300</td>\n      <td>688</td>\n      <td>0</td>\n      <td>0</td>\n      <td>0</td>\n      <td>0</td>\n      <td>-124</td>\n    </tr>\n    <tr>\n      <th>5</th>\n      <td>7813213777</td>\n      <td>1157847038062</td>\n      <td>62.01</td>\n      <td>коммерческая, в процессе ликвидации</td>\n      <td>Полное наименование организации: ООО \"СТИЛЬ\"\\n...</td>\n      <td>Организация ООО \"СТИЛЬ\" зарегистрирована в еди...</td>\n      <td>26.20 Производство компьютеров и периферийного...</td>\n      <td>2020</td>\n      <td>0</td>\n      <td>85</td>\n      <td>...</td>\n      <td>15</td>\n      <td>0</td>\n      <td>673</td>\n      <td>-189</td>\n      <td>499</td>\n      <td>0</td>\n      <td>0</td>\n      <td>0</td>\n      <td>0</td>\n      <td>0</td>\n    </tr>\n    <tr>\n      <th>8</th>\n      <td>7838460601</td>\n      <td>1117847230082</td>\n      <td>61.10</td>\n      <td>коммерческая, ликвидирована</td>\n      <td>Полное наименование организации: ООО \"КАПИТАЛ-...</td>\n      <td>Организация ООО \"КАПИТАЛ-СВЯЗЬ\" зарегистрирова...</td>\n      <td>43.21 Производство электромонтажных работ\\n46....</td>\n      <td>2013</td>\n      <td>0</td>\n      <td>0</td>\n      <td>...</td>\n      <td>0</td>\n      <td>0</td>\n      <td>0</td>\n      <td>0</td>\n      <td>220</td>\n      <td>0</td>\n      <td>0</td>\n      <td>48</td>\n      <td>-813</td>\n      <td>-22</td>\n    </tr>\n    <tr>\n      <th>9</th>\n      <td>7838460601</td>\n      <td>1117847230082</td>\n      <td>61.10</td>\n      <td>коммерческая, ликвидирована</td>\n      <td>Полное наименование организации: ООО \"КАПИТАЛ-...</td>\n      <td>Организация ООО \"КАПИТАЛ-СВЯЗЬ\" зарегистрирова...</td>\n      <td>43.21 Производство электромонтажных работ\\n46....</td>\n      <td>2014</td>\n      <td>0</td>\n      <td>0</td>\n      <td>...</td>\n      <td>0</td>\n      <td>0</td>\n      <td>0</td>\n      <td>0</td>\n      <td>235</td>\n      <td>0</td>\n      <td>0</td>\n      <td>67</td>\n      <td>-977</td>\n      <td>-4</td>\n    </tr>\n    <tr>\n      <th>...</th>\n      <td>...</td>\n      <td>...</td>\n      <td>...</td>\n      <td>...</td>\n      <td>...</td>\n      <td>...</td>\n      <td>...</td>\n      <td>...</td>\n      <td>...</td>\n      <td>...</td>\n      <td>...</td>\n      <td>...</td>\n      <td>...</td>\n      <td>...</td>\n      <td>...</td>\n      <td>...</td>\n      <td>...</td>\n      <td>...</td>\n      <td>...</td>\n      <td>...</td>\n      <td>...</td>\n    </tr>\n    <tr>\n      <th>20266</th>\n      <td>7842480304</td>\n      <td>1127847426805</td>\n      <td>62.01</td>\n      <td>коммерческая, ликвидирована</td>\n      <td>Полное наименование организации: ООО \"АККАУНТО...</td>\n      <td>Организация ООО \"АККАУНТОР СОЛЮШНЗ\" зарегистри...</td>\n      <td>62.0 Разработка компьютерного программного обе...</td>\n      <td>2015</td>\n      <td>139</td>\n      <td>298</td>\n      <td>...</td>\n      <td>100</td>\n      <td>0</td>\n      <td>0</td>\n      <td>3515</td>\n      <td>3615</td>\n      <td>1992</td>\n      <td>0</td>\n      <td>488</td>\n      <td>0</td>\n      <td>-1140</td>\n    </tr>\n    <tr>\n      <th>20267</th>\n      <td>7842480304</td>\n      <td>1127847426805</td>\n      <td>62.01</td>\n      <td>коммерческая, ликвидирована</td>\n      <td>Полное наименование организации: ООО \"АККАУНТО...</td>\n      <td>Организация ООО \"АККАУНТОР СОЛЮШНЗ\" зарегистри...</td>\n      <td>62.0 Разработка компьютерного программного обе...</td>\n      <td>2016</td>\n      <td>109</td>\n      <td>410</td>\n      <td>...</td>\n      <td>100</td>\n      <td>0</td>\n      <td>0</td>\n      <td>4844</td>\n      <td>4944</td>\n      <td>0</td>\n      <td>0</td>\n      <td>1279</td>\n      <td>0</td>\n      <td>-792</td>\n    </tr>\n    <tr>\n      <th>20270</th>\n      <td>7842480304</td>\n      <td>1127847426805</td>\n      <td>62.01</td>\n      <td>коммерческая, ликвидирована</td>\n      <td>Полное наименование организации: ООО \"АККАУНТО...</td>\n      <td>Организация ООО \"АККАУНТОР СОЛЮШНЗ\" зарегистри...</td>\n      <td>62.0 Разработка компьютерного программного обе...</td>\n      <td>2019</td>\n      <td>294</td>\n      <td>673</td>\n      <td>...</td>\n      <td>100</td>\n      <td>0</td>\n      <td>0</td>\n      <td>9659</td>\n      <td>9759</td>\n      <td>0</td>\n      <td>0</td>\n      <td>0</td>\n      <td>-20060</td>\n      <td>-329</td>\n    </tr>\n    <tr>\n      <th>20272</th>\n      <td>7819320278</td>\n      <td>1147847377358</td>\n      <td>62.01</td>\n      <td>коммерческая, действующая</td>\n      <td>Полное наименование организации: ООО \"ФИРМА \"П...</td>\n      <td>Организация ООО \"ФИРМА \"ПАССАТ\" зарегистрирова...</td>\n      <td>62.02 Деятельность консультативная и работы в ...</td>\n      <td>2014</td>\n      <td>0</td>\n      <td>2</td>\n      <td>...</td>\n      <td>15</td>\n      <td>0</td>\n      <td>2</td>\n      <td>21945</td>\n      <td>21962</td>\n      <td>0</td>\n      <td>0</td>\n      <td>0</td>\n      <td>-34180</td>\n      <td>-628</td>\n    </tr>\n    <tr>\n      <th>20273</th>\n      <td>7819320278</td>\n      <td>1147847377358</td>\n      <td>62.01</td>\n      <td>коммерческая, действующая</td>\n      <td>Полное наименование организации: ООО \"ФИРМА \"П...</td>\n      <td>Организация ООО \"ФИРМА \"ПАССАТ\" зарегистрирова...</td>\n      <td>62.02 Деятельность консультативная и работы в ...</td>\n      <td>2015</td>\n      <td>0</td>\n      <td>1</td>\n      <td>...</td>\n      <td>15</td>\n      <td>0</td>\n      <td>0</td>\n      <td>22110</td>\n      <td>22125</td>\n      <td>0</td>\n      <td>0</td>\n      <td>0</td>\n      <td>-5492</td>\n      <td>-82</td>\n    </tr>\n  </tbody>\n</table>\n<p>5769 rows × 119 columns</p>\n</div>"
     },
     "execution_count": 14,
     "metadata": {},
     "output_type": "execute_result"
    }
   ],
   "source": [
    "data[data['ОС (Ф1.1150)'] > 0]"
   ],
   "metadata": {
    "collapsed": false,
    "pycharm": {
     "name": "#%%\n"
    }
   }
  },
  {
   "cell_type": "code",
   "execution_count": 16,
   "outputs": [],
   "source": [
    "regex = r\"^.*\\(Ф\\d\\.(\\d{4})\\)\"\n",
    "\n",
    "test_str = \"Финансовые и другие оборотные активы (включая дебиторскую задолженность) (Ф1.1230)\"\n",
    "\n",
    "matches = re.match(regex, test_str, re.MULTILINE)\n",
    "\n",
    "\n",
    "# for matchNum, match in enumerate(matches, start=1):\n",
    "#\n",
    "#     print (\"Match {matchNum} was found at {start}-{end}: {match}\".format(matchNum = matchNum, start = match.start(), end = match.end(), match = match.group()))\n",
    "#\n",
    "#     for groupNum in range(0, len(match.groups())):\n",
    "#         groupNum = groupNum + 1\n",
    "#\n",
    "#         print (\"Group {groupNum} found at {start}-{end}: {group}\".format(groupNum = groupNum, start = match.start(groupNum), end = match.end(groupNum), group = match.group(groupNum)))\n"
   ],
   "metadata": {
    "collapsed": false,
    "pycharm": {
     "name": "#%%\n"
    }
   }
  },
  {
   "cell_type": "code",
   "execution_count": 17,
   "outputs": [
    {
     "data": {
      "text/plain": "{'Отложенные налоговые активы (Ф1.1180)': 'ind_1180',\n 'Итого по разделу I (Ф1.1100)': 'ind_1100',\n 'Запасы (Ф1.1210)': 'ind_1210',\n 'Налог на добавленную стоимость по приобретенным ценностям (Ф1.1220)': 'ind_1220',\n 'Финансовые вложения (за исключением денежных эквивалентов) (Ф1.1240)': 'ind_1240',\n 'Денежные средства и денежные эквиваленты (Ф1.1250)': 'ind_1250',\n 'Прочие оборотные активы (Ф1.1260)': 'ind_1260',\n 'Итого по разделу II (Ф1.1200)': 'ind_1200',\n 'БАЛАНС (Ф1.1600)': 'ind_1600',\n 'Итого по разделу IV (Ф1.1400)': 'ind_1400',\n 'Заемные средства (Ф1.1510)': 'ind_1510',\n 'Кредиторская задолженность (Ф1.1520)': 'ind_1520',\n 'Оценочные обязательства (Ф1.1540)': 'ind_1540',\n 'Итого по разделу V (Ф1.1500)': 'ind_1500',\n 'БАЛАНС (Ф1.1700)': 'ind_1700',\n 'Выручка (Ф2.2110)': 'ind_2110',\n 'Валовая прибыль (убыток) (Ф2.2100)': 'ind_2100',\n 'Коммерческие расходы (Ф2.2210)': 'ind_2210',\n 'Управленческие расходы (Ф2.2220)': 'ind_2220',\n 'Прибыль (убыток) от продаж (Ф2.2200)': 'ind_2200',\n 'Проценты к получению (Ф2.2320)': 'ind_2320',\n 'Проценты к уплате (Ф2.2330)': 'ind_2330',\n 'Прочие доходы (Ф2.2340)': 'ind_2340',\n 'Прочие расходы (Ф2.2350)': 'ind_2350',\n 'Прибыль (убыток) до налогообложения (Ф2.2300)': 'ind_2300',\n 'Изменение отложенных налоговых активов (Ф2.2450)': 'ind_2450',\n 'Прочее (Ф2.2460)': 'ind_2460',\n 'Чистая прибыль (убыток) (Ф2.2400)': 'ind_2400',\n 'Совокупный финансовый результат периода (Ф2.2500)': 'ind_2500',\n 'Краткосрочные заемные средства (Ф1.1510)': 'ind_1510',\n 'Нематериальные активы (Ф1.1110)': 'ind_1110',\n 'Отложенные налоговые обязательства (Ф1.1420)': 'ind_1420',\n 'отложенный налог на прибыль (Ф2.2412)': 'ind_2412',\n 'Доходы будущих периодов (Ф1.1530)': 'ind_1530',\n 'Прочие внеоборотные активы (Ф1.1190)': 'ind_1190',\n 'Изменение отложенных налоговых обязательств (Ф2.2430)': 'ind_2430',\n 'Результат от прочих операций, не включаемый в чистую прибыль (убыток) периода (Ф2.2520)': 'ind_2520',\n 'Собственные акции, выкупленные у акционеров (Ф1.1320)': 'ind_1320',\n 'Поступления — всего (Ф2.4110)': 'ind_4110',\n 'в том числе:  от продажи продукции, товаров, работ и услуг (Ф2.4111)': 'ind_4111',\n 'прочие поступления (Ф2.4119)': 'ind_4119',\n 'Платежи — всего (Ф2.4120)': 'ind_4120',\n 'в том числе:  поставщикам (подрядчикам) за сырье, материалы, работы, услуги (Ф2.4121)': 'ind_4121',\n 'в связи с оплатой труда работников (Ф2.4122)': 'ind_4122',\n 'налога на прибыль организаций (Ф2.4124)': 'ind_4124',\n 'прочие платежи (Ф2.4129)': 'ind_4129',\n 'Сальдо денежных потоков от текущих операций (Ф2.4100)': 'ind_4100',\n 'Сальдо денежных потоков за отчетный период (Ф2.4400)': 'ind_4400',\n 'Доходы от участия в других организациях (Ф2.2310)': 'ind_2310',\n 'Доходные вложения в материальные ценности (Ф1.1160)': 'ind_1160',\n 'Результаты исследований и разработок (Ф1.1120)': 'ind_1120',\n 'Переоценка внеоборотных активов (Ф1.1340)': 'ind_1340',\n 'Результат от переоценки внеоборотных активов, не включаемый в чистую прибыль (убыток) периода (Ф2.2510)': 'ind_2510',\n 'Поступления — всего (Ф2.4210)': 'ind_4210',\n 'Сальдо денежных потоков от инвестиционных операций (Ф2.4200)': 'ind_4200',\n 'Поступления — всего (Ф2.4310)': 'ind_4310',\n 'прочие поступления (Ф2.4319)': 'ind_4319',\n 'Платежи — всего (Ф2.4320)': 'ind_4320',\n 'прочие платежи (Ф2.4329)': 'ind_4329',\n 'Сальдо денежных потоков от финансовых операций (Ф2.4300)': 'ind_4300',\n 'Остаток средств на начало отчетного года (Ф2.6100)': 'ind_6100',\n 'Взносы и иные целевые поступления (Ф2.6220)': 'ind_6220',\n 'Прибыль от предпринимательской и иной приносящей (Ф2.6240)': 'ind_6240',\n 'На содержание организации (Ф2.6320)': 'ind_6320',\n 'На приобретение основных средств и иного имущества (Ф2.6330)': 'ind_6330',\n 'Прочие (Ф2.6350)': 'ind_6350',\n 'Остаток средств на конец отчетного года (Ф2.6400)': 'ind_6400',\n 'в том числе:  получение кредитов и займов (Ф2.4311)': 'ind_4311',\n 'Остаток денежных средств и денежных эквивалентов на начало отчетного периода (Ф2.4450)': 'ind_4450',\n 'Остаток денежных средств и денежных эквивалентов на конец отчетного периода (Ф2.4500)': 'ind_4500',\n 'На целевые мероприятия (Ф2.6310)': 'ind_6310',\n 'прочие поступления (Ф2.4219)': 'ind_4219',\n 'Платежи — всего (Ф2.4220)': 'ind_4220',\n 'прочие платежи (Ф2.4229)': 'ind_4229',\n 'Прочие поступления (Ф2.6250)': 'ind_6250',\n 'денежных вкладов собственников (участников) (Ф2.4312)': 'ind_4312',\n 'по распределению прибыли в пользу собственников (участников) в связи с погашением (выкупом) векселей и других долговых ценных бумаг, возврат кредитов и займов (Ф2.4323)': 'ind_4323',\n 'Оценочные обязательства (Ф1.1430)': 'ind_1430',\n 'Величина влияния изменений курса иностранной валюты по отношению к рублю (Ф2.4490)': 'ind_4490',\n 'в том числе:  в связи с приобретением, созданием, модернизацией, реконструкцией и подготовкой к использованию внеоборотных активов (Ф2.4221)': 'ind_4221',\n 'от возврата предоставленных займов, от продажи долговых ценных бумаг (прав требования денежных средств к другим лицам) (Ф2.4213)': 'ind_4213',\n 'в связи с приобретением долговых ценных бумаг (прав требования денежных средств к другим лицам), предоставление займов другим лицам (Ф2.4223)': 'ind_4223',\n 'в том числе:  от продажи внеоборотных активов (кроме финансовых вложений) (Ф2.4211)': 'ind_4211',\n 'Материальные поисковые активы (Ф1.1140)': 'ind_1140',\n 'Нематериальные поисковые активы (Ф1.1130)': 'ind_1130',\n 'процентов по долговым обязательствам (Ф2.4123)': 'ind_4123',\n 'ОС (Ф1.1150)': 'ind_1150',\n 'Фин вложения (Ф1.1170)': 'ind_1170',\n 'Деб задолж (Ф1.1230)': 'ind_1230',\n 'Уставный капитал (Ф1.1310)': 'ind_1310',\n 'Добавочный капитал (Ф1.1350)': 'ind_1350',\n 'Резерв капитал (Ф1.1360)': 'ind_1360',\n 'Нераспредел прибыль (непокрытый убыток) (Ф1.1370)': 'ind_1370',\n 'Итого по разделу III(Ф1.1300)': 'ind_1300',\n 'Долгосроч заемные средства (Ф1.1410)': 'ind_1410',\n 'Прочие долгосрочные обязательства (Ф1.1450)': 'ind_1450',\n 'Прочие краткосрочные обязательства (Ф1.1550)': 'ind_1550',\n 'Себестоимость деятельности (Ф2.2120)': 'ind_2120',\n 'Налог на доходы (Ф2.2410)': 'ind_2410'}"
     },
     "execution_count": 17,
     "metadata": {},
     "output_type": "execute_result"
    }
   ],
   "source": [
    "regex = r\"^.*\\(Ф\\d\\.(\\d{4})\\)\"\n",
    "renames = {}\n",
    "for column in data.columns:\n",
    "    matches = re.match(regex, column, re.MULTILINE)\n",
    "    if matches is not None:\n",
    "        renames[column] = 'ind_' + matches.groups()[0]\n",
    "data.rename(columns=renames, inplace=True)\n",
    "renames"
   ],
   "metadata": {
    "collapsed": false,
    "pycharm": {
     "name": "#%%\n"
    }
   }
  },
  {
   "cell_type": "code",
   "execution_count": 18,
   "outputs": [
    {
     "data": {
      "text/plain": "array(['ind_1510'], dtype=object)"
     },
     "execution_count": 18,
     "metadata": {},
     "output_type": "execute_result"
    }
   ],
   "source": [
    "arr, cnt = np.unique(data.columns, return_counts=True)\n",
    "arr[cnt > 1]"
   ],
   "metadata": {
    "collapsed": false,
    "pycharm": {
     "name": "#%%\n"
    }
   }
  },
  {
   "cell_type": "code",
   "execution_count": 19,
   "outputs": [
    {
     "data": {
      "text/plain": "Index([], dtype='object')"
     },
     "execution_count": 19,
     "metadata": {},
     "output_type": "execute_result"
    }
   ],
   "source": [
    "data.columns[130:]"
   ],
   "metadata": {
    "collapsed": false,
    "pycharm": {
     "name": "#%%\n"
    }
   }
  },
  {
   "cell_type": "code",
   "execution_count": 20,
   "outputs": [
    {
     "name": "stdout",
     "output_type": "stream",
     "text": [
      "--------------------------------------------------------------------------------\n",
      "Название: inn\n",
      "Тип данных: <class 'numpy.int64'>\n",
      "Количество значений: 20310\n",
      "Количество уникальных значений: 3727\n",
      "Количество пропусков: 0\n",
      "Процент пропусков: 0.0%\n",
      "Общие статистики:\n",
      "count        20310.00\n",
      "mean    7817145507.46\n",
      "std       14241850.45\n",
      "min     7801063380.00\n",
      "25%     7805711680.00\n",
      "50%     7813240587.00\n",
      "75%     7820337678.00\n",
      "max     7843318350.00\n",
      "Name: inn, dtype: float64\n",
      "Топ 10 уникальных значений:\n",
      "7839446536    11\n",
      "7813498096    11\n",
      "7816504340    10\n",
      "7810829462    10\n",
      "7802783084    10\n",
      "7811491458    10\n",
      "7841441920    10\n",
      "7810821022    10\n",
      "7805548949    10\n",
      "7814495394    10\n",
      "Name: inn, dtype: int64\n",
      "--------------------------------------------------------------------------------\n",
      "--------------------------------------------------------------------------------\n",
      "Название: ogrn\n",
      "Тип данных: <class 'numpy.int64'>\n",
      "Количество значений: 20310\n",
      "Количество уникальных значений: 3727\n",
      "Количество пропусков: 0\n",
      "Процент пропусков: 0.0%\n",
      "Общие статистики:\n",
      "count           20310.00\n",
      "mean    1154244901846.74\n",
      "std       18414505815.01\n",
      "min     1117847000479.00\n",
      "25%     1137847358021.00\n",
      "50%     1157847048237.00\n",
      "75%     1167847278587.00\n",
      "max     1187847382810.00\n",
      "Name: ogrn, dtype: float64\n",
      "Топ 10 уникальных значений:\n",
      "1117847274258    11\n",
      "1117847112492    11\n",
      "1117847011897    10\n",
      "1117847233272    10\n",
      "1127847153059    10\n",
      "1117847158758    10\n",
      "1117847108312    10\n",
      "1117847104704    10\n",
      "1117847109885    10\n",
      "1117847103978    10\n",
      "Name: ogrn, dtype: int64\n",
      "--------------------------------------------------------------------------------\n",
      "--------------------------------------------------------------------------------\n",
      "Название: main_okved\n",
      "Тип данных: <class 'numpy.object_'>\n",
      "Количество значений: 20310\n",
      "Количество уникальных значений: 62\n",
      "Количество пропусков: 0\n",
      "Процент пропусков: 0.0%\n",
      "Общие статистики:\n",
      "count     20310\n",
      "unique       62\n",
      "top       62.01\n",
      "freq       5989\n",
      "Name: main_okved, dtype: object\n",
      "Топ 10 уникальных значений:\n",
      "62.01      5989\n",
      "71.1       2809\n",
      "62.09      1961\n",
      "62.02      1028\n",
      "71.20       869\n",
      "63.11       676\n",
      "90.01       620\n",
      "61.10       603\n",
      "59.11       587\n",
      "56.10.1     568\n",
      "Name: main_okved, dtype: int64\n",
      "--------------------------------------------------------------------------------\n",
      "--------------------------------------------------------------------------------\n",
      "Название: status_org\n",
      "Тип данных: <class 'numpy.object_'>\n",
      "Количество значений: 20310\n",
      "Количество уникальных значений: 18\n",
      "Количество пропусков: 0\n",
      "Процент пропусков: 0.0%\n",
      "Общие статистики:\n",
      "count                         20310\n",
      "unique                           18\n",
      "top       коммерческая, действующая\n",
      "freq                          15837\n",
      "Name: status_org, dtype: object\n",
      "Топ 10 уникальных значений:\n",
      "коммерческая, действующая                                                                                                                                                                                                                      15837\n",
      "коммерческая, ликвидирована (исключение из ЕГРЮЛ юридического лица в связи наличием в ЕГРЮЛ сведений о нем, в отношении которых внесена запись о недостоверности)                                                                               1808\n",
      "коммерческая, ликвидирована                                                                                                                                                                                                                     1458\n",
      "коммерческая, в процессе ликвидации                                                                                                                                                                                                              359\n",
      "коммерческая, принято решение о ликвидации (регистрирующим органом принято решение о предстоящем исключении юридического лица из ЕГРЮЛ (наличие в ЕГРЮЛ сведений о юридическом лице, в отношении которых внесена запись о недостоверности))      246\n",
      "коммерческая, ликвидирована (прекращение деятельности юридического лица в связи с исключением из ЕГРЮЛ на основании п.2 ст.21.1 Федерального закона от 08.08.2001 №129-ФЗ)                                                                       212\n",
      "некоммерческая унитарная, действующая                                                                                                                                                                                                             93\n",
      "коммерческая, в процессе банкротства (юридическое лицо признано несостоятельным (банкротом) и в отношении него открыто конкурсное производство)                                                                                                   81\n",
      "коммерческая, ликвидирована (прекращение деятельности юридического лица путем реорганизации в форме присоединения)                                                                                                                                53\n",
      "некоммерческая, действующая                                                                                                                                                                                                                       51\n",
      "Name: status_org, dtype: int64\n",
      "--------------------------------------------------------------------------------\n",
      "--------------------------------------------------------------------------------\n",
      "Название: info\n",
      "Тип данных: <class 'numpy.object_'>\n",
      "Количество значений: 20310\n",
      "Количество уникальных значений: 3727\n",
      "Количество пропусков: 0\n",
      "Процент пропусков: 0.0%\n",
      "Общие статистики:\n",
      "count                                                 20310\n",
      "unique                                                 3727\n",
      "top       Полное наименование организации: ООО \"СИЛЬВАНА...\n",
      "freq                                                     11\n",
      "Name: info, dtype: object\n",
      "Топ 10 уникальных значений:\n",
      "Полное наименование организации: ООО \"СИЛЬВАНА САНКТ-ПЕТЕРБУРГ\"\\nИНН: 7839446536\\nОГРН: 1117847274258\\nМесто нахождения: 198095, г. Санкт-Петербург, ш Митрофаньевское, 8А литера б, помещ. 2-н оф. 2,3,4,5\\nВид деятельности: Производство ювелирных изделий, медалей из драгоценных металлов и драгоценных камней (код по ОКВЭД 32.12.5)\\nСтатус организации: коммерческая, действующая\\nОрганизационно-правовая форма: Общества с ограниченной ответственностью (код 12300 по ОКОПФ)            11\n",
      "Полное наименование организации: ООО \"СТУДИЯ \"РЕПРОДАКШН ФИЛМС\"\\nИНН: 7813498096\\nОГРН: 1117847112492\\nМесто нахождения: 197101, г. Санкт-Петербург, наб. Петроградская, 34 литер а\\nВид деятельности: Производство кинофильмов, видеофильмов и телевизионных программ (код по ОКВЭД 59.11)\\nСтатус организации: коммерческая, действующая\\nОрганизационно-правовая форма: Общества с ограниченной ответственностью (код 12300 по ОКОПФ)                                                           11\n",
      "Полное наименование организации: ООО \"ГАРАНТ ПРОДЖЕКТ\"\\nИНН: 7816504340\\nОГРН: 1117847011897\\nМесто нахождения: 192241, г. Санкт-Петербург, ш Южное, 55 к. 6 литер а, кв. 46\\nВид деятельности: Деятельность в области архитектуры, инженерных изысканий и предоставление технических консультаций в этих областях (код по ОКВЭД 71.1)\\nСтатус организации: коммерческая, действующая\\nОрганизационно-правовая форма: Общества с ограниченной ответственностью (код 12300 по ОКОПФ)                10\n",
      "Полное наименование организации: ООО \"ЭКОЛЭНД\"\\nИНН: 7810829462\\nОГРН: 1117847233272\\nМесто нахождения: 199034, г. Санкт-Петербург, линия 13-я В. О. , 6-8 литера а, помещ. 57-н\\nВид деятельности: Технические испытания, исследования, анализ и сертификация (код по ОКВЭД 71.20)\\nСтатус организации: коммерческая, действующая\\nОрганизационно-правовая форма: Общества с ограниченной ответственностью (код 12300 по ОКОПФ)                                                                   10\n",
      "Полное наименование организации: ООО \"СЕМАНТИК\"\\nИНН: 7802783084\\nОГРН: 1127847153059\\nМесто нахождения: 194355, г. Санкт-Петербург, ул. Композиторов, 26 корп. 3, 30\\nВид деятельности: Деятельность рекламная (код по ОКВЭД 73.1)\\nСтатус организации: коммерческая, действующая\\nОрганизационно-правовая форма: Общества с ограниченной ответственностью (код 12300 по ОКОПФ)                                                                                                                   10\n",
      "Полное наименование организации: ООО \"АКБ \"ФЛАГМАН\"\\nИНН: 7811491458\\nОГРН: 1117847158758\\nМесто нахождения: 197227, г. Санкт-Петербург, пр-кт Испытателей, 30 к. 2 литер а, оф. а-4-59К\\nВид деятельности: Деятельность в области архитектуры, инженерных изысканий и предоставление технических консультаций в этих областях (код по ОКВЭД 71.1)\\nСтатус организации: коммерческая, действующая\\nОрганизационно-правовая форма: Общества с ограниченной ответственностью (код 12300 по ОКОПФ)    10\n",
      "Полное наименование организации: ООО \"СОБЫТИЕ\"\\nИНН: 7841441920\\nОГРН: 1117847108312\\nМесто нахождения: 191187, г. Санкт-Петербург, ул. Моховая, 12 литер а, пом 1-н/эт. 1\\nВид деятельности: Деятельность учреждений культуры и искусства (код по ОКВЭД 90.04)\\nСтатус организации: коммерческая, действующая\\nОрганизационно-правовая форма: Общества с ограниченной ответственностью (код 12300 по ОКОПФ)                                                                                       10\n",
      "Полное наименование организации: ООО \"ПРИОРИТЕТ\"\\nИНН: 7810821022\\nОГРН: 1117847104704\\nМесто нахождения: 196240, г. Санкт-Петербург, проезд 5-й Предпортовый, 2СТР1, помещ. 375-н\\nВид деятельности: Деятельность в области архитектуры, инженерных изысканий и предоставление технических консультаций в этих областях (код по ОКВЭД 71.1)\\nСтатус организации: коммерческая, действующая\\nОрганизационно-правовая форма: Общества с ограниченной ответственностью (код 12300 по ОКОПФ)          10\n",
      "Полное наименование организации: ООО \"ЭЛЬТРА-Д\"\\nИНН: 7805548949\\nОГРН: 1117847109885\\nМесто нахождения: 199178, г. Санкт-Петербург, линия 8-я В. О. , 77 литера б\\nВид деятельности: Разработка компьютерного программного обеспечения (код по ОКВЭД 62.01)\\nСтатус организации: коммерческая, действующая\\nОрганизационно-правовая форма: Общества с ограниченной ответственностью (код 12300 по ОКОПФ)                                                                                          10\n",
      "Полное наименование организации: ООО \"ГРУППА БТО\"\\nИНН: 7814495394\\nОГРН: 1117847103978\\nМесто нахождения: 195027, г. Санкт-Петербург, наб. Свердловская, 44 литер я, помещ. 17 оф. 3.15\\nВид деятельности: Разработка компьютерного программного обеспечения (код по ОКВЭД 62.01)\\nСтатус организации: коммерческая, действующая\\nОрганизационно-правовая форма: Общества с ограниченной ответственностью (код 12300 по ОКОПФ)                                                                    10\n",
      "Name: info, dtype: int64\n",
      "--------------------------------------------------------------------------------\n",
      "--------------------------------------------------------------------------------\n",
      "Название: status\n",
      "Тип данных: <class 'numpy.object_'>\n",
      "Количество значений: 20310\n",
      "Количество уникальных значений: 3727\n",
      "Количество пропусков: 0\n",
      "Процент пропусков: 0.0%\n",
      "Общие статистики:\n",
      "count                                                 20310\n",
      "unique                                                 3727\n",
      "top       Организация ООО \"СИЛЬВАНА САНКТ-ПЕТЕРБУРГ\" зар...\n",
      "freq                                                     11\n",
      "Name: status, dtype: object\n",
      "Топ 10 уникальных значений:\n",
      "Организация ООО \"СИЛЬВАНА САНКТ-ПЕТЕРБУРГ\" зарегистрирована в едином государственном реестре юридических лиц 10 лет назад 6 июля 2011.      11\n",
      "Организация ООО \"СТУДИЯ \"РЕПРОДАКШН ФИЛМС\" зарегистрирована в едином государственном реестре юридических лиц 10 лет назад 30 марта 2011.    11\n",
      "Организация ООО \"ГАРАНТ ПРОДЖЕКТ\" зарегистрирована в едином государственном реестре юридических лиц 11 лет назад 19 января 2011.            10\n",
      "Организация ООО \"ЭКОЛЭНД\" зарегистрирована в едином государственном реестре юридических лиц 10 лет назад 6 июня 2011.                       10\n",
      "Организация ООО \"СЕМАНТИК\" зарегистрирована в едином государственном реестре юридических лиц 9 лет 10 месяцев назад 27 марта 2012.          10\n",
      "Организация ООО \"АКБ \"ФЛАГМАН\" зарегистрирована в едином государственном реестре юридических лиц 10 лет назад 26 апреля 2011.               10\n",
      "Организация ООО \"СОБЫТИЕ\" зарегистрирована в едином государственном реестре юридических лиц 10 лет назад 28 марта 2011.                     10\n",
      "Организация ООО \"ПРИОРИТЕТ\" зарегистрирована в едином государственном реестре юридических лиц 10 лет назад 24 марта 2011.                   10\n",
      "Организация ООО \"ЭЛЬТРА-Д\" зарегистрирована в едином государственном реестре юридических лиц 10 лет назад 29 марта 2011.                    10\n",
      "Организация ООО \"ГРУППА БТО\" зарегистрирована в едином государственном реестре юридических лиц 10 лет назад 23 марта 2011.                  10\n",
      "Name: status, dtype: int64\n",
      "--------------------------------------------------------------------------------\n",
      "--------------------------------------------------------------------------------\n",
      "Название: okved\n",
      "Тип данных: <class 'numpy.object_'>\n",
      "Количество значений: 20310\n",
      "Количество уникальных значений: 3262\n",
      "Количество пропусков: 0\n",
      "Процент пропусков: 0.0%\n",
      "Общие статистики:\n",
      "count                                                 20310\n",
      "unique                                                 3262\n",
      "top       41.20 Строительство жилых и нежилых зданий\\n42...\n",
      "freq                                                    199\n",
      "Name: okved, dtype: object\n",
      "Топ 10 уникальных значений:\n",
      "41.20 Строительство жилых и нежилых зданий\\n42.11 Строительство автомобильных дорог и автомагистралей\\n42.91 Строительство водных сооружений\\n42.99 Строительство прочих инженерных сооружений, не включенных в другие группировки\\n43.11 Разборка и снос зданий\\n43.12.3 Производство земляных работ\\n43.13 Разведочное бурение\\n43.21 Производство электромонтажных работ\\n43.22 Производство санитарно-технических работ, монтаж отопительных систем и систем кондиционирования воздуха\\n43.29 Производство прочих строительно-монтажных работ    199\n",
      "62.02 Деятельность консультативная и работы в области компьютерных технологий\\n62.09 Деятельность, связанная с использованием вычислительной техники и информационных технологий, прочая\\n63.11 Деятельность по обработке данных, предоставление услуг по размещению информации и связанная с этим деятельность\\n63.11.1 Деятельность по созданию и использованию баз данных и информационных ресурсов                                                                                                                                               190\n",
      "62.02 Деятельность консультативная и работы в области компьютерных технологий\\n62.09 Деятельность, связанная с использованием вычислительной техники и информационных технологий, прочая\\n63.11 Деятельность по обработке данных, предоставление услуг по размещению информации и связанная с этим деятельность\\n63.11.1 Деятельность по созданию и использованию баз данных и информационных ресурсов\\n95.11 Ремонт компьютеров и периферийного компьютерного оборудования                                                                          122\n",
      "62.02 Деятельность консультативная и работы в области компьютерных технологий                                                                                                                                                                                                                                                                                                                                                                                                                                                                        106\n",
      "71.12.5 Деятельность в области гидрометеорологии и смежных с ней областях, мониторинга состояния окружающей среды, ее загрязнения\\n71.12.6 Деятельность в области технического регулирования, стандартизации, метрологии, аккредитации, каталогизации продукции                                                                                                                                                                                                                                                                                      104\n",
      "62.02 Деятельность консультативная и работы в области компьютерных технологий\\n62.09 Деятельность, связанная с использованием вычислительной техники и информационных технологий, прочая\\n63.11 Деятельность по обработке данных, предоставление услуг по размещению информации и связанная с этим деятельность\\n63.11.1 Деятельность по созданию и использованию баз данных и информационных ресурсов\\n73.11 Деятельность рекламных агентств                                                                                                         83\n",
      "62.02 Деятельность консультативная и работы в области компьютерных технологий\\n62.09 Деятельность, связанная с использованием вычислительной техники и информационных технологий, прочая\\n63.11.1 Деятельность по созданию и использованию баз данных и информационных ресурсов                                                                                                                                                                                                                                                                       73\n",
      "62.02 Деятельность консультативная и работы в области компьютерных технологий\\n62.09 Деятельность, связанная с использованием вычислительной техники и информационных технологий, прочая                                                                                                                                                                                                                                                                                                                                                              69\n",
      "62.02 Деятельность консультативная и работы в области компьютерных технологий\\n62.09 Деятельность, связанная с использованием вычислительной техники и информационных технологий, прочая\\n63.11 Деятельность по обработке данных, предоставление услуг по размещению информации и связанная с этим деятельность                                                                                                                                                                                                                                       50\n",
      "62.02 Деятельность консультативная и работы в области компьютерных технологий\\n63.11 Деятельность по обработке данных, предоставление услуг по размещению информации и связанная с этим деятельность\\n63.11.1 Деятельность по созданию и использованию баз данных и информационных ресурсов                                                                                                                                                                                                                                                           46\n",
      "Name: okved, dtype: int64\n",
      "--------------------------------------------------------------------------------\n",
      "--------------------------------------------------------------------------------\n",
      "Название: year\n",
      "Тип данных: <class 'numpy.int64'>\n",
      "Количество значений: 20310\n",
      "Количество уникальных значений: 11\n",
      "Количество пропусков: 0\n",
      "Процент пропусков: 0.0%\n",
      "Общие статистики:\n",
      "count   20310.00\n",
      "mean     2017.21\n",
      "std         2.09\n",
      "min      2011.00\n",
      "25%      2016.00\n",
      "50%      2017.00\n",
      "75%      2019.00\n",
      "max      2021.00\n",
      "Name: year, dtype: float64\n",
      "Топ 10 уникальных значений:\n",
      "2018    3725\n",
      "2019    3330\n",
      "2017    3209\n",
      "2020    2908\n",
      "2016    2636\n",
      "2015    1971\n",
      "2014    1276\n",
      "2013     715\n",
      "2012     346\n",
      "2021     133\n",
      "Name: year, dtype: int64\n",
      "--------------------------------------------------------------------------------\n",
      "--------------------------------------------------------------------------------\n",
      "Название: ind_1180\n",
      "Тип данных: <class 'numpy.int64'>\n",
      "Количество значений: 20310\n",
      "Количество уникальных значений: 454\n",
      "Количество пропусков: 0\n",
      "Процент пропусков: 0.0%\n",
      "Общие статистики:\n",
      "count     20310.00\n",
      "mean        575.21\n",
      "std       65331.56\n",
      "min         -21.00\n",
      "25%           0.00\n",
      "50%           0.00\n",
      "75%           0.00\n",
      "max     9305468.00\n",
      "Name: ind_1180, dtype: float64\n",
      "Топ 10 уникальных значений:\n",
      "0      19684\n",
      "1         16\n",
      "10        13\n",
      "2         12\n",
      "3         11\n",
      "7          6\n",
      "107        6\n",
      "22         6\n",
      "99         6\n",
      "14         5\n",
      "Name: ind_1180, dtype: int64\n",
      "--------------------------------------------------------------------------------\n",
      "--------------------------------------------------------------------------------\n",
      "Название: ind_1100\n",
      "Тип данных: <class 'numpy.int64'>\n",
      "Количество значений: 20310\n",
      "Количество уникальных значений: 1718\n",
      "Количество пропусков: 0\n",
      "Процент пропусков: 0.0%\n",
      "Общие статистики:\n",
      "count     20310.00\n",
      "mean       2357.53\n",
      "std       70804.94\n",
      "min         -93.00\n",
      "25%           0.00\n",
      "50%           0.00\n",
      "75%           0.00\n",
      "max     9327509.00\n",
      "Name: ind_1100, dtype: float64\n",
      "Топ 10 уникальных значений:\n",
      "0     17546\n",
      "10       71\n",
      "1        35\n",
      "12       21\n",
      "2        17\n",
      "35       14\n",
      "15       14\n",
      "3        14\n",
      "44       13\n",
      "65       13\n",
      "Name: ind_1100, dtype: int64\n",
      "--------------------------------------------------------------------------------\n",
      "--------------------------------------------------------------------------------\n",
      "Название: ind_1210\n",
      "Тип данных: <class 'numpy.int64'>\n",
      "Количество значений: 20310\n",
      "Количество уникальных значений: 3263\n",
      "Количество пропусков: 0\n",
      "Процент пропусков: 0.0%\n",
      "Общие статистики:\n",
      "count       20310.00\n",
      "mean        42359.70\n",
      "std       3346760.96\n",
      "min         -1566.00\n",
      "25%             0.00\n",
      "50%             0.00\n",
      "75%           180.00\n",
      "max     327110727.00\n",
      "Name: ind_1210, dtype: float64\n",
      "Топ 10 уникальных значений:\n",
      "0     10132\n",
      "10     1060\n",
      "1       259\n",
      "2       161\n",
      "3       117\n",
      "4        97\n",
      "20       96\n",
      "5        92\n",
      "8        88\n",
      "11       77\n",
      "Name: ind_1210, dtype: int64\n",
      "--------------------------------------------------------------------------------\n",
      "--------------------------------------------------------------------------------\n",
      "Название: ind_1220\n",
      "Тип данных: <class 'numpy.int64'>\n",
      "Количество значений: 20310\n",
      "Количество уникальных значений: 429\n",
      "Количество пропусков: 0\n",
      "Процент пропусков: 0.0%\n",
      "Общие статистики:\n",
      "count    20310.00\n",
      "mean        78.54\n",
      "std       2150.70\n",
      "min        -74.00\n",
      "25%          0.00\n",
      "50%          0.00\n",
      "75%          0.00\n",
      "max     153261.00\n",
      "Name: ind_1220, dtype: float64\n",
      "Топ 10 уникальных значений:\n",
      "0     19419\n",
      "1        75\n",
      "2        49\n",
      "3        21\n",
      "4        20\n",
      "8        20\n",
      "6        16\n",
      "5        14\n",
      "7        12\n",
      "10       11\n",
      "Name: ind_1220, dtype: int64\n",
      "--------------------------------------------------------------------------------\n",
      "--------------------------------------------------------------------------------\n",
      "Название: ind_1240\n",
      "Тип данных: <class 'numpy.int64'>\n",
      "Количество значений: 20310\n",
      "Количество уникальных значений: 613\n",
      "Количество пропусков: 0\n",
      "Процент пропусков: 0.0%\n",
      "Общие статистики:\n",
      "count      20310.00\n",
      "mean        3799.74\n",
      "std       256566.46\n",
      "min           -9.00\n",
      "25%            0.00\n",
      "50%            0.00\n",
      "75%            0.00\n",
      "max     27600124.00\n",
      "Name: ind_1240, dtype: float64\n",
      "Топ 10 уникальных значений:\n",
      "0       19387\n",
      "100        17\n",
      "300        11\n",
      "1000       10\n",
      "16         10\n",
      "200        10\n",
      "2000        9\n",
      "3           9\n",
      "10          9\n",
      "5           7\n",
      "Name: ind_1240, dtype: int64\n",
      "--------------------------------------------------------------------------------\n",
      "--------------------------------------------------------------------------------\n",
      "Название: ind_1250\n",
      "Тип данных: <class 'numpy.int64'>\n",
      "Количество значений: 20310\n",
      "Количество уникальных значений: 4115\n",
      "Количество пропусков: 0\n",
      "Процент пропусков: 0.0%\n",
      "Общие статистики:\n",
      "count       20310.00\n",
      "mean        44608.20\n",
      "std       4236047.10\n",
      "min        -18279.00\n",
      "25%             7.00\n",
      "50%            94.00\n",
      "75%           656.00\n",
      "max     484228510.00\n",
      "Name: ind_1250, dtype: float64\n",
      "Топ 10 уникальных значений:\n",
      "0     2947\n",
      "1      546\n",
      "10     407\n",
      "2      365\n",
      "3      290\n",
      "5      244\n",
      "4      238\n",
      "6      201\n",
      "7      174\n",
      "11     155\n",
      "Name: ind_1250, dtype: int64\n",
      "--------------------------------------------------------------------------------\n",
      "--------------------------------------------------------------------------------\n",
      "Название: ind_1260\n",
      "Тип данных: <class 'numpy.int64'>\n",
      "Количество значений: 20310\n",
      "Количество уникальных значений: 836\n",
      "Количество пропусков: 0\n",
      "Процент пропусков: 0.0%\n",
      "Общие статистики:\n",
      "count     20310.00\n",
      "mean        808.91\n",
      "std       51517.80\n",
      "min           0.00\n",
      "25%           0.00\n",
      "50%           0.00\n",
      "75%           0.00\n",
      "max     4884109.00\n",
      "Name: ind_1260, dtype: float64\n",
      "Топ 10 уникальных значений:\n",
      "0     18351\n",
      "1        76\n",
      "2        66\n",
      "4        60\n",
      "3        54\n",
      "5        44\n",
      "6        42\n",
      "10       31\n",
      "8        29\n",
      "12       24\n",
      "Name: ind_1260, dtype: int64\n",
      "--------------------------------------------------------------------------------\n",
      "--------------------------------------------------------------------------------\n",
      "Название: ind_1200\n",
      "Тип данных: <class 'numpy.int64'>\n",
      "Количество значений: 20310\n",
      "Количество уникальных значений: 4165\n",
      "Количество пропусков: 0\n",
      "Процент пропусков: 0.0%\n",
      "Общие статистики:\n",
      "count       20310.00\n",
      "mean       108081.09\n",
      "std       8658954.94\n",
      "min           -74.00\n",
      "25%             0.00\n",
      "50%             0.00\n",
      "75%           157.75\n",
      "max     953294027.00\n",
      "Name: ind_1200, dtype: float64\n",
      "Топ 10 уникальных значений:\n",
      "0     13813\n",
      "10      361\n",
      "11       24\n",
      "18       23\n",
      "20       23\n",
      "4        23\n",
      "13       21\n",
      "50       20\n",
      "1        20\n",
      "9        20\n",
      "Name: ind_1200, dtype: int64\n",
      "--------------------------------------------------------------------------------\n",
      "--------------------------------------------------------------------------------\n",
      "Название: ind_1600\n",
      "Тип данных: <class 'numpy.int64'>\n",
      "Количество значений: 20310\n",
      "Количество уникальных значений: 9172\n",
      "Количество пропусков: 0\n",
      "Процент пропусков: 0.0%\n",
      "Общие статистики:\n",
      "count       20310.00\n",
      "mean       116449.24\n",
      "std       8697570.31\n",
      "min         -5124.00\n",
      "25%           179.25\n",
      "50%          1318.50\n",
      "75%          7060.50\n",
      "max     953477846.00\n",
      "Name: ind_1600, dtype: float64\n",
      "Топ 10 уникальных значений:\n",
      "10    855\n",
      "0     810\n",
      "20     71\n",
      "12     68\n",
      "1      59\n",
      "11     59\n",
      "4      53\n",
      "2      51\n",
      "5      51\n",
      "18     51\n",
      "Name: ind_1600, dtype: int64\n",
      "--------------------------------------------------------------------------------\n",
      "--------------------------------------------------------------------------------\n",
      "Название: ind_1400\n",
      "Тип данных: <class 'numpy.int64'>\n",
      "Количество значений: 20310\n",
      "Количество уникальных значений: 845\n",
      "Количество пропусков: 0\n",
      "Процент пропусков: 0.0%\n",
      "Общие статистики:\n",
      "count      20310.00\n",
      "mean        1961.24\n",
      "std       105182.34\n",
      "min         -150.00\n",
      "25%            0.00\n",
      "50%            0.00\n",
      "75%            0.00\n",
      "max     14153238.00\n",
      "Name: ind_1400, dtype: float64\n",
      "Топ 10 уникальных значений:\n",
      "0      18856\n",
      "1         26\n",
      "10        18\n",
      "2         18\n",
      "3         17\n",
      "5         15\n",
      "6         13\n",
      "200       13\n",
      "40        12\n",
      "50        11\n",
      "Name: ind_1400, dtype: int64\n",
      "--------------------------------------------------------------------------------\n",
      "--------------------------------------------------------------------------------\n"
     ]
    },
    {
     "ename": "AttributeError",
     "evalue": "'DataFrame' object has no attribute 'name'",
     "output_type": "error",
     "traceback": [
      "\u001B[0;31m---------------------------------------------------------------------------\u001B[0m",
      "\u001B[0;31mAttributeError\u001B[0m                            Traceback (most recent call last)",
      "\u001B[0;32m<ipython-input-20-160177147996>\u001B[0m in \u001B[0;36m<module>\u001B[0;34m\u001B[0m\n\u001B[1;32m      1\u001B[0m \u001B[0;32mfor\u001B[0m \u001B[0mf\u001B[0m \u001B[0;32min\u001B[0m \u001B[0mdata\u001B[0m\u001B[0;34m.\u001B[0m\u001B[0mcolumns\u001B[0m\u001B[0;34m:\u001B[0m\u001B[0;34m\u001B[0m\u001B[0;34m\u001B[0m\u001B[0m\n\u001B[0;32m----> 2\u001B[0;31m     \u001B[0mfirst_look\u001B[0m\u001B[0;34m(\u001B[0m\u001B[0mdata\u001B[0m\u001B[0;34m[\u001B[0m\u001B[0mf\u001B[0m\u001B[0;34m]\u001B[0m\u001B[0;34m)\u001B[0m\u001B[0;34m\u001B[0m\u001B[0;34m\u001B[0m\u001B[0m\n\u001B[0m",
      "\u001B[0;32m<ipython-input-3-e7c093967e46>\u001B[0m in \u001B[0;36mfirst_look\u001B[0;34m(s)\u001B[0m\n\u001B[1;32m     49\u001B[0m     \u001B[0mpd\u001B[0m\u001B[0;34m.\u001B[0m\u001B[0moptions\u001B[0m\u001B[0;34m.\u001B[0m\u001B[0mdisplay\u001B[0m\u001B[0;34m.\u001B[0m\u001B[0mfloat_format\u001B[0m \u001B[0;34m=\u001B[0m \u001B[0;34m'{:.2f}'\u001B[0m\u001B[0;34m.\u001B[0m\u001B[0mformat\u001B[0m\u001B[0;34m\u001B[0m\u001B[0;34m\u001B[0m\u001B[0m\n\u001B[1;32m     50\u001B[0m     \u001B[0mprint\u001B[0m\u001B[0;34m(\u001B[0m\u001B[0;34m'-'\u001B[0m \u001B[0;34m*\u001B[0m \u001B[0;36m80\u001B[0m\u001B[0;34m)\u001B[0m\u001B[0;34m\u001B[0m\u001B[0;34m\u001B[0m\u001B[0m\n\u001B[0;32m---> 51\u001B[0;31m     \u001B[0mprint\u001B[0m\u001B[0;34m(\u001B[0m\u001B[0;34m'Название:'\u001B[0m\u001B[0;34m,\u001B[0m \u001B[0ms\u001B[0m\u001B[0;34m.\u001B[0m\u001B[0mname\u001B[0m\u001B[0;34m)\u001B[0m\u001B[0;34m\u001B[0m\u001B[0;34m\u001B[0m\u001B[0m\n\u001B[0m\u001B[1;32m     52\u001B[0m     \u001B[0mprint\u001B[0m\u001B[0;34m(\u001B[0m\u001B[0;34m'Тип данных:'\u001B[0m\u001B[0;34m,\u001B[0m \u001B[0ms\u001B[0m\u001B[0;34m.\u001B[0m\u001B[0mdtype\u001B[0m\u001B[0;34m.\u001B[0m\u001B[0mtype\u001B[0m\u001B[0;34m)\u001B[0m\u001B[0;34m\u001B[0m\u001B[0;34m\u001B[0m\u001B[0m\n\u001B[1;32m     53\u001B[0m     \u001B[0mprint\u001B[0m\u001B[0;34m(\u001B[0m\u001B[0;34m'Количество значений:'\u001B[0m\u001B[0;34m,\u001B[0m \u001B[0mlen\u001B[0m\u001B[0;34m(\u001B[0m\u001B[0ms\u001B[0m\u001B[0;34m)\u001B[0m\u001B[0;34m)\u001B[0m\u001B[0;34m\u001B[0m\u001B[0;34m\u001B[0m\u001B[0m\n",
      "\u001B[0;32m~/opt/anaconda3/lib/python3.8/site-packages/pandas/core/generic.py\u001B[0m in \u001B[0;36m__getattr__\u001B[0;34m(self, name)\u001B[0m\n\u001B[1;32m   5485\u001B[0m         ):\n\u001B[1;32m   5486\u001B[0m             \u001B[0;32mreturn\u001B[0m \u001B[0mself\u001B[0m\u001B[0;34m[\u001B[0m\u001B[0mname\u001B[0m\u001B[0;34m]\u001B[0m\u001B[0;34m\u001B[0m\u001B[0;34m\u001B[0m\u001B[0m\n\u001B[0;32m-> 5487\u001B[0;31m         \u001B[0;32mreturn\u001B[0m \u001B[0mobject\u001B[0m\u001B[0;34m.\u001B[0m\u001B[0m__getattribute__\u001B[0m\u001B[0;34m(\u001B[0m\u001B[0mself\u001B[0m\u001B[0;34m,\u001B[0m \u001B[0mname\u001B[0m\u001B[0;34m)\u001B[0m\u001B[0;34m\u001B[0m\u001B[0;34m\u001B[0m\u001B[0m\n\u001B[0m\u001B[1;32m   5488\u001B[0m \u001B[0;34m\u001B[0m\u001B[0m\n\u001B[1;32m   5489\u001B[0m     \u001B[0;32mdef\u001B[0m \u001B[0m__setattr__\u001B[0m\u001B[0;34m(\u001B[0m\u001B[0mself\u001B[0m\u001B[0;34m,\u001B[0m \u001B[0mname\u001B[0m\u001B[0;34m:\u001B[0m \u001B[0mstr\u001B[0m\u001B[0;34m,\u001B[0m \u001B[0mvalue\u001B[0m\u001B[0;34m)\u001B[0m \u001B[0;34m->\u001B[0m \u001B[0;32mNone\u001B[0m\u001B[0;34m:\u001B[0m\u001B[0;34m\u001B[0m\u001B[0;34m\u001B[0m\u001B[0m\n",
      "\u001B[0;31mAttributeError\u001B[0m: 'DataFrame' object has no attribute 'name'"
     ]
    }
   ],
   "source": [
    "for f in data.columns:\n",
    "    first_look(data[f])"
   ],
   "metadata": {
    "collapsed": false,
    "pycharm": {
     "name": "#%%\n"
    }
   }
  },
  {
   "cell_type": "code",
   "execution_count": 33,
   "outputs": [
    {
     "data": {
      "text/plain": "Index(['com_uncom', 'bankrupt', 'founding_year', 'founding_month',\n       'name_okved', 'currency', 'inflation_by_2022', 'investments',\n       'inflation', 'total_profit', 'breaking_even', 'payback_time'],\n      dtype='object')"
     },
     "execution_count": 33,
     "metadata": {},
     "output_type": "execute_result"
    }
   ],
   "source": [
    "data = pd.read_csv('data/df_spb_all.csv')\n",
    "data.columns[94:106]"
   ],
   "metadata": {
    "collapsed": false,
    "pycharm": {
     "name": "#%%\n"
    }
   }
  },
  {
   "cell_type": "code",
   "execution_count": 34,
   "outputs": [],
   "source": [
    "MONTH_DICT = {'января': 1, 'февраля': 2, 'марта': 3, 'апреля': 4, 'мая': 5,  'июня': 6,\n",
    "              'июля': 7, 'августа': 8, 'сентября': 9,  'октября': 10,  'ноября': 11,  'декабря': 12}\n",
    "def extract_reg(s: str):\n",
    "    key = 'назад'\n",
    "    pos = s.find(key)\n",
    "    dt =  s[pos + len(key):-1].strip()\n",
    "    splitted_dt = dt.split(' ')\n",
    "    return datetime.date(int(splitted_dt[2]), MONTH_DICT[splitted_dt[1]], int(splitted_dt[0]))\n",
    "\n",
    "\n",
    "data = pd.read_csv('data/df_spb_all.csv')\n",
    "\n",
    "regex = r\"^.*\\(Ф\\d\\.(\\d{4})\\)\"\n",
    "renames = {}\n",
    "for column in data.columns:\n",
    "    matches = re.match(regex, column, re.MULTILINE)\n",
    "    if matches is not None:\n",
    "        renames[column] = 'ind_' + matches.groups()[0]\n",
    "data.rename(columns=renames, inplace=True)\n",
    "\n",
    "work_ds = pd.DataFrame([], index=data.index)\n",
    "work_ds['inn'] = data['inn'].astype(str)\n",
    "work_ds['ogrn'] = data['ogrn'].astype(str)\n",
    "work_ds['main_okved'] = data['main_okved'].astype(str)\n",
    "work_ds['name'] = data['info'].apply(lambda x: x.split('\\n')[0][33:].strip())\n",
    "work_ds['address'] = data['info'].apply(lambda x: x.split('\\n')[3][18:].strip())\n",
    "work_ds['type'] = data['info'].apply(lambda x: x.split('\\n')[5].strip().split(',')[0].strip()[20:])\n",
    "work_ds['status'] = data['info'].apply(lambda x: x.split('\\n')[5].strip().split(',')[1].strip())\n",
    "work_ds['okved'] = data['okved'].apply(lambda x: [str(o.split(' ')[0]) for o in x.split('\\n')])\n",
    "work_ds['date_reg'] = data.status.apply(lambda x: extract_reg(x.split('\\n')[0]))\n",
    "work_ds['comments'] = data.status.apply(lambda x: np.NaN if len(x.split('\\n')) < 2 else x.split('\\n')[1])\n",
    "work_ds['year'] = data['year']\n",
    "ind_columns = [c for c in data.columns if c.startswith('ind_')]\n",
    "for ind in ind_columns:\n",
    "    work_ds = pd.concat([work_ds, data[[ind]].sum(axis=1).rename(ind)], axis=1)\n",
    "last_columns = data.columns[94:106]\n",
    "work_ds = pd.concat([work_ds, data[last_columns]], axis=1)\n",
    "work_ds.head()\n",
    "\n",
    "work_ds.to_csv('out/df_spb_all_upd.csv', index=False)"
   ],
   "metadata": {
    "collapsed": false,
    "pycharm": {
     "name": "#%%\n"
    }
   }
  },
  {
   "cell_type": "code",
   "execution_count": 35,
   "outputs": [
    {
     "data": {
      "text/plain": "          inn           ogrn main_okved         name  \\\n0  7813213777  1157847038062      62.01  ООО \"СТИЛЬ\"   \n1  7813213777  1157847038062      62.01  ООО \"СТИЛЬ\"   \n2  7813213777  1157847038062      62.01  ООО \"СТИЛЬ\"   \n3  7813213777  1157847038062      62.01  ООО \"СТИЛЬ\"   \n4  7813213777  1157847038062      62.01  ООО \"СТИЛЬ\"   \n\n                                             address          type  \\\n0  194044, г. Санкт-Петербург, пр-кт Большой Самп...  коммерческая   \n1  194044, г. Санкт-Петербург, пр-кт Большой Самп...  коммерческая   \n2  194044, г. Санкт-Петербург, пр-кт Большой Самп...  коммерческая   \n3  194044, г. Санкт-Петербург, пр-кт Большой Самп...  коммерческая   \n4  194044, г. Санкт-Петербург, пр-кт Большой Самп...  коммерческая   \n\n                  status                                              okved  \\\n0  в процессе ликвидации  ['26.20', '26.51.8', '62.02', '62.09', '63.11'...   \n1  в процессе ликвидации  ['26.20', '26.51.8', '62.02', '62.09', '63.11'...   \n2  в процессе ликвидации  ['26.20', '26.51.8', '62.02', '62.09', '63.11'...   \n3  в процессе ликвидации  ['26.20', '26.51.8', '62.02', '62.09', '63.11'...   \n4  в процессе ликвидации  ['26.20', '26.51.8', '62.02', '62.09', '63.11'...   \n\n     date_reg                                           comments  ...  \\\n0  2015-02-06  Организация находится в стадии ликвидидации с ...  ...   \n1  2015-02-06  Организация находится в стадии ликвидидации с ...  ...   \n2  2015-02-06  Организация находится в стадии ликвидидации с ...  ...   \n3  2015-02-06  Организация находится в стадии ликвидидации с ...  ...   \n4  2015-02-06  Организация находится в стадии ликвидидации с ...  ...   \n\n   founding_year  founding_month  \\\n0           2015               2   \n1           2015               2   \n2           2015               2   \n3           2015               2   \n4           2015               2   \n\n                                          name_okved  currency  \\\n0  Разработка компьютерного программного обеспечения     60.96   \n1  Разработка компьютерного программного обеспечения     67.03   \n2  Разработка компьютерного программного обеспечения     58.35   \n3  Разработка компьютерного программного обеспечения     62.71   \n4  Разработка компьютерного программного обеспечения     64.74   \n\n   inflation_by_2022  investments  inflation  total_profit  breaking_even  \\\n0               1.49        10.00       1.13            22              1   \n1               1.32        11.29       1.05            57              1   \n2               1.25        11.90       1.03           148              1   \n3               1.22        12.20       1.04           430              1   \n4               1.17        12.72       1.03           677              1   \n\n   payback_time  \n0             1  \n1             1  \n2             1  \n3             1  \n4             1  \n\n[5 rows x 122 columns]",
      "text/html": "<div>\n<style scoped>\n    .dataframe tbody tr th:only-of-type {\n        vertical-align: middle;\n    }\n\n    .dataframe tbody tr th {\n        vertical-align: top;\n    }\n\n    .dataframe thead th {\n        text-align: right;\n    }\n</style>\n<table border=\"1\" class=\"dataframe\">\n  <thead>\n    <tr style=\"text-align: right;\">\n      <th></th>\n      <th>inn</th>\n      <th>ogrn</th>\n      <th>main_okved</th>\n      <th>name</th>\n      <th>address</th>\n      <th>type</th>\n      <th>status</th>\n      <th>okved</th>\n      <th>date_reg</th>\n      <th>comments</th>\n      <th>...</th>\n      <th>founding_year</th>\n      <th>founding_month</th>\n      <th>name_okved</th>\n      <th>currency</th>\n      <th>inflation_by_2022</th>\n      <th>investments</th>\n      <th>inflation</th>\n      <th>total_profit</th>\n      <th>breaking_even</th>\n      <th>payback_time</th>\n    </tr>\n  </thead>\n  <tbody>\n    <tr>\n      <th>0</th>\n      <td>7813213777</td>\n      <td>1157847038062</td>\n      <td>62.01</td>\n      <td>ООО \"СТИЛЬ\"</td>\n      <td>194044, г. Санкт-Петербург, пр-кт Большой Самп...</td>\n      <td>коммерческая</td>\n      <td>в процессе ликвидации</td>\n      <td>['26.20', '26.51.8', '62.02', '62.09', '63.11'...</td>\n      <td>2015-02-06</td>\n      <td>Организация находится в стадии ликвидидации с ...</td>\n      <td>...</td>\n      <td>2015</td>\n      <td>2</td>\n      <td>Разработка компьютерного программного обеспечения</td>\n      <td>60.96</td>\n      <td>1.49</td>\n      <td>10.00</td>\n      <td>1.13</td>\n      <td>22</td>\n      <td>1</td>\n      <td>1</td>\n    </tr>\n    <tr>\n      <th>1</th>\n      <td>7813213777</td>\n      <td>1157847038062</td>\n      <td>62.01</td>\n      <td>ООО \"СТИЛЬ\"</td>\n      <td>194044, г. Санкт-Петербург, пр-кт Большой Самп...</td>\n      <td>коммерческая</td>\n      <td>в процессе ликвидации</td>\n      <td>['26.20', '26.51.8', '62.02', '62.09', '63.11'...</td>\n      <td>2015-02-06</td>\n      <td>Организация находится в стадии ликвидидации с ...</td>\n      <td>...</td>\n      <td>2015</td>\n      <td>2</td>\n      <td>Разработка компьютерного программного обеспечения</td>\n      <td>67.03</td>\n      <td>1.32</td>\n      <td>11.29</td>\n      <td>1.05</td>\n      <td>57</td>\n      <td>1</td>\n      <td>1</td>\n    </tr>\n    <tr>\n      <th>2</th>\n      <td>7813213777</td>\n      <td>1157847038062</td>\n      <td>62.01</td>\n      <td>ООО \"СТИЛЬ\"</td>\n      <td>194044, г. Санкт-Петербург, пр-кт Большой Самп...</td>\n      <td>коммерческая</td>\n      <td>в процессе ликвидации</td>\n      <td>['26.20', '26.51.8', '62.02', '62.09', '63.11'...</td>\n      <td>2015-02-06</td>\n      <td>Организация находится в стадии ликвидидации с ...</td>\n      <td>...</td>\n      <td>2015</td>\n      <td>2</td>\n      <td>Разработка компьютерного программного обеспечения</td>\n      <td>58.35</td>\n      <td>1.25</td>\n      <td>11.90</td>\n      <td>1.03</td>\n      <td>148</td>\n      <td>1</td>\n      <td>1</td>\n    </tr>\n    <tr>\n      <th>3</th>\n      <td>7813213777</td>\n      <td>1157847038062</td>\n      <td>62.01</td>\n      <td>ООО \"СТИЛЬ\"</td>\n      <td>194044, г. Санкт-Петербург, пр-кт Большой Самп...</td>\n      <td>коммерческая</td>\n      <td>в процессе ликвидации</td>\n      <td>['26.20', '26.51.8', '62.02', '62.09', '63.11'...</td>\n      <td>2015-02-06</td>\n      <td>Организация находится в стадии ликвидидации с ...</td>\n      <td>...</td>\n      <td>2015</td>\n      <td>2</td>\n      <td>Разработка компьютерного программного обеспечения</td>\n      <td>62.71</td>\n      <td>1.22</td>\n      <td>12.20</td>\n      <td>1.04</td>\n      <td>430</td>\n      <td>1</td>\n      <td>1</td>\n    </tr>\n    <tr>\n      <th>4</th>\n      <td>7813213777</td>\n      <td>1157847038062</td>\n      <td>62.01</td>\n      <td>ООО \"СТИЛЬ\"</td>\n      <td>194044, г. Санкт-Петербург, пр-кт Большой Самп...</td>\n      <td>коммерческая</td>\n      <td>в процессе ликвидации</td>\n      <td>['26.20', '26.51.8', '62.02', '62.09', '63.11'...</td>\n      <td>2015-02-06</td>\n      <td>Организация находится в стадии ликвидидации с ...</td>\n      <td>...</td>\n      <td>2015</td>\n      <td>2</td>\n      <td>Разработка компьютерного программного обеспечения</td>\n      <td>64.74</td>\n      <td>1.17</td>\n      <td>12.72</td>\n      <td>1.03</td>\n      <td>677</td>\n      <td>1</td>\n      <td>1</td>\n    </tr>\n  </tbody>\n</table>\n<p>5 rows × 122 columns</p>\n</div>"
     },
     "execution_count": 35,
     "metadata": {},
     "output_type": "execute_result"
    }
   ],
   "source": [
    "data = pd.read_csv('out/df_spb_all_upd.csv')\n",
    "data.head()"
   ],
   "metadata": {
    "collapsed": false,
    "pycharm": {
     "name": "#%%\n"
    }
   }
  },
  {
   "cell_type": "code",
   "execution_count": 4,
   "outputs": [
    {
     "name": "stdout",
     "output_type": "stream",
     "text": [
      "<class 'pandas.core.frame.DataFrame'>\n",
      "RangeIndex: 65374 entries, 0 to 65373\n",
      "Data columns (total 146 columns):\n",
      " #    Column             Non-Null Count  Dtype         \n",
      "---   ------             --------------  -----         \n",
      " 0    inn                65374 non-null  object        \n",
      " 1    ogrn               65374 non-null  object        \n",
      " 2    main_okved         65374 non-null  object        \n",
      " 3    name               65374 non-null  object        \n",
      " 4    address            65374 non-null  object        \n",
      " 5    type               65374 non-null  object        \n",
      " 6    status             65374 non-null  object        \n",
      " 7    okved              65374 non-null  object        \n",
      " 8    date_reg           65374 non-null  datetime64[ns]\n",
      " 9    comments           65374 non-null  object        \n",
      " 10   year               65374 non-null  int64         \n",
      " 11   ind_1250           65374 non-null  int64         \n",
      " 12   ind_1230           65374 non-null  int64         \n",
      " 13   ind_1600           65374 non-null  int64         \n",
      " 14   ind_1300           65374 non-null  int64         \n",
      " 15   ind_1520           65374 non-null  int64         \n",
      " 16   ind_1700           65374 non-null  int64         \n",
      " 17   ind_2110           65374 non-null  int64         \n",
      " 18   ind_2120           65374 non-null  int64         \n",
      " 19   ind_2350           65374 non-null  int64         \n",
      " 20   ind_2400           65374 non-null  int64         \n",
      " 21   ind_1210           65374 non-null  int64         \n",
      " 22   ind_1230.1         65374 non-null  int64         \n",
      " 23   ind_1240           65374 non-null  int64         \n",
      " 24   ind_1200           65374 non-null  int64         \n",
      " 25   ind_1310           65374 non-null  int64         \n",
      " 26   ind_1370           65374 non-null  int64         \n",
      " 27   ind_1300.1         65374 non-null  int64         \n",
      " 28   ind_1510           65374 non-null  int64         \n",
      " 29   ind_1500           65374 non-null  int64         \n",
      " 30   ind_2120.1         65374 non-null  int64         \n",
      " 31   ind_2100           65374 non-null  int64         \n",
      " 32   ind_2200           65374 non-null  int64         \n",
      " 33   ind_2300           65374 non-null  int64         \n",
      " 34   ind_2410           65374 non-null  int64         \n",
      " 35   ind_2411           65374 non-null  int64         \n",
      " 36   ind_2500           65374 non-null  int64         \n",
      " 37   ind_1410           65374 non-null  int64         \n",
      " 38   ind_1510.1         65374 non-null  int64         \n",
      " 39   ind_2340           65374 non-null  int64         \n",
      " 40   ind_2410.1         65374 non-null  int64         \n",
      " 41   ind_1150           65374 non-null  int64         \n",
      " 42   ind_1170           65374 non-null  int64         \n",
      " 43   ind_2330           65374 non-null  int64         \n",
      " 44   ind_1150.1         65374 non-null  int64         \n",
      " 45   ind_1170.1         65374 non-null  int64         \n",
      " 46   ind_1180           65374 non-null  int64         \n",
      " 47   ind_1100           65374 non-null  int64         \n",
      " 48   ind_1260           65374 non-null  int64         \n",
      " 49   ind_1360           65374 non-null  int64         \n",
      " 50   ind_1410.1         65374 non-null  int64         \n",
      " 51   ind_1420           65374 non-null  int64         \n",
      " 52   ind_1400           65374 non-null  int64         \n",
      " 53   ind_1540           65374 non-null  int64         \n",
      " 54   ind_2210           65374 non-null  int64         \n",
      " 55   ind_2220           65374 non-null  int64         \n",
      " 56   ind_2320           65374 non-null  int64         \n",
      " 57   ind_2412           65374 non-null  int64         \n",
      " 58   ind_2430           65374 non-null  int64         \n",
      " 59   ind_2450           65374 non-null  int64         \n",
      " 60   ind_1550           65374 non-null  int64         \n",
      " 61   ind_1110           65374 non-null  int64         \n",
      " 62   ind_2460           65374 non-null  int64         \n",
      " 63   ind_1190           65374 non-null  int64         \n",
      " 64   ind_1220           65374 non-null  int64         \n",
      " 65   ind_1120           65374 non-null  int64         \n",
      " 66   ind_1350           65374 non-null  int64         \n",
      " 67   ind_2510           65374 non-null  int64         \n",
      " 68   ind_1340           65374 non-null  int64         \n",
      " 69   ind_1450           65374 non-null  int64         \n",
      " 70   ind_1450.1         65374 non-null  int64         \n",
      " 71   ind_1530           65374 non-null  int64         \n",
      " 72   ind_1550.1         65374 non-null  int64         \n",
      " 73   ind_1320           65374 non-null  int64         \n",
      " 74   ind_1130           65374 non-null  int64         \n",
      " 75   ind_2520           65374 non-null  int64         \n",
      " 76   ind_2310           65374 non-null  int64         \n",
      " 77   ind_1160           65374 non-null  int64         \n",
      " 78   ind_1430           65374 non-null  int64         \n",
      " 79   ind_1140           65374 non-null  int64         \n",
      " 80   ind_1310.1         65374 non-null  int64         \n",
      " 81   ind_1350.1         65374 non-null  int64         \n",
      " 82   ind_1360.1         65374 non-null  int64         \n",
      " 83   ind_1370.1         65374 non-null  int64         \n",
      " 84   ind_4110           65374 non-null  int64         \n",
      " 85   ind_4111           65374 non-null  int64         \n",
      " 86   ind_4119           65374 non-null  int64         \n",
      " 87   ind_4120           65374 non-null  int64         \n",
      " 88   ind_4121           65374 non-null  int64         \n",
      " 89   ind_4122           65374 non-null  int64         \n",
      " 90   ind_4129           65374 non-null  int64         \n",
      " 91   ind_4100           65374 non-null  int64         \n",
      " 92   ind_4310           65374 non-null  int64         \n",
      " 93   ind_4311           65374 non-null  int64         \n",
      " 94   ind_4320           65374 non-null  int64         \n",
      " 95   ind_4323           65374 non-null  int64         \n",
      " 96   ind_4300           65374 non-null  int64         \n",
      " 97   ind_4400           65374 non-null  int64         \n",
      " 98   ind_4220           65374 non-null  int64         \n",
      " 99   ind_4221           65374 non-null  int64         \n",
      " 100  ind_4200           65374 non-null  int64         \n",
      " 101  ind_4490           65374 non-null  int64         \n",
      " 102  ind_4124           65374 non-null  int64         \n",
      " 103  ind_4210           65374 non-null  int64         \n",
      " 104  ind_4214           65374 non-null  int64         \n",
      " 105  ind_4329           65374 non-null  int64         \n",
      " 106  ind_4312           65374 non-null  int64         \n",
      " 107  ind_4118           65374 non-null  int64         \n",
      " 108  ind_4128           65374 non-null  int64         \n",
      " 109  ind_4450           65374 non-null  int64         \n",
      " 110  ind_4500           65374 non-null  int64         \n",
      " 111  ind_4211           65374 non-null  int64         \n",
      " 112  ind_1300.2         65374 non-null  int64         \n",
      " 113  ind_6100           65374 non-null  int64         \n",
      " 114  ind_6220           65374 non-null  int64         \n",
      " 115  ind_6250           65374 non-null  int64         \n",
      " 116  ind_6320           65374 non-null  int64         \n",
      " 117  ind_6400           65374 non-null  int64         \n",
      " 118  ind_3600           65374 non-null  int64         \n",
      " 119  ind_4319           65374 non-null  int64         \n",
      " 120  ind_1320.1         65374 non-null  int64         \n",
      " 121  ind_4123           65374 non-null  int64         \n",
      " 122  ind_4213           65374 non-null  int64         \n",
      " 123  ind_4219           65374 non-null  int64         \n",
      " 124  ind_6350           65374 non-null  int64         \n",
      " 125  ind_6240           65374 non-null  int64         \n",
      " 126  ind_4112           65374 non-null  int64         \n",
      " 127  ind_6330           65374 non-null  int64         \n",
      " 128  ind_4229           65374 non-null  int64         \n",
      " 129  ind_6310           65374 non-null  int64         \n",
      " 130  ind_4223           65374 non-null  int64         \n",
      " 131  ind_4222           65374 non-null  int64         \n",
      " 132  ind_4318           65374 non-null  int64         \n",
      " 133  ind_4328           65374 non-null  int64         \n",
      " 134  com_uncom          65374 non-null  int64         \n",
      " 135  bankrupt           65374 non-null  int64         \n",
      " 136  founding_year      65374 non-null  int64         \n",
      " 137  founding_month     65374 non-null  int64         \n",
      " 138  name_okved         65374 non-null  object        \n",
      " 139  currency           65374 non-null  float64       \n",
      " 140  inflation_by_2022  65374 non-null  float64       \n",
      " 141  investments        65374 non-null  float64       \n",
      " 142  inflation          65374 non-null  float64       \n",
      " 143  total_profit       65374 non-null  int64         \n",
      " 144  breaking_even      65374 non-null  int64         \n",
      " 145  payback_time       65374 non-null  int64         \n",
      "dtypes: datetime64[ns](1), float64(4), int64(131), object(10)\n",
      "memory usage: 72.8+ MB\n"
     ]
    }
   ],
   "source": [
    "data['inn'] = data['inn'].astype(str)\n",
    "data['ogrn'] = data['ogrn'].astype(str)\n",
    "data['main_okved'] = data['main_okved'].astype(str)\n",
    "data['name'] = data['name'].astype(str)\n",
    "data['address'] = data['address'].astype(str)\n",
    "data['type'] = data['type'].astype(str)\n",
    "data['status'] = data['status'].astype(str)\n",
    "data['okved'] = data['okved'].astype(str)\n",
    "data['date_reg'] = pd.to_datetime(data['date_reg'])\n",
    "data['comments'] = data['comments'].astype(str)\n",
    "data['year'] = data['year'].astype(int)\n",
    "data['name_okved'] = data['name_okved'].astype(str)\n",
    "data.info(max_cols=200)"
   ],
   "metadata": {
    "collapsed": false,
    "pycharm": {
     "name": "#%%\n"
    }
   }
  },
  {
   "cell_type": "code",
   "execution_count": 6,
   "outputs": [
    {
     "data": {
      "text/plain": "Summarize dataset:   0%|          | 0/5 [00:00<?, ?it/s]",
      "application/vnd.jupyter.widget-view+json": {
       "version_major": 2,
       "version_minor": 0,
       "model_id": "7cd77e82390d4a79ad929a0e12941091"
      }
     },
     "metadata": {},
     "output_type": "display_data"
    },
    {
     "ename": "KeyboardInterrupt",
     "evalue": "",
     "output_type": "error",
     "traceback": [
      "\u001B[0;31m---------------------------------------------------------------------------\u001B[0m",
      "\u001B[0;31mKeyboardInterrupt\u001B[0m                         Traceback (most recent call last)",
      "\u001B[0;32m<ipython-input-6-6cb4fec95db8>\u001B[0m in \u001B[0;36m<module>\u001B[0;34m\u001B[0m\n\u001B[1;32m      1\u001B[0m \u001B[0mprofile\u001B[0m \u001B[0;34m=\u001B[0m \u001B[0mProfileReport\u001B[0m\u001B[0;34m(\u001B[0m\u001B[0mdata\u001B[0m\u001B[0;34m.\u001B[0m\u001B[0msample\u001B[0m\u001B[0;34m(\u001B[0m\u001B[0;36m1000\u001B[0m\u001B[0;34m)\u001B[0m\u001B[0;34m,\u001B[0m \u001B[0mtitle\u001B[0m\u001B[0;34m=\u001B[0m\u001B[0;34m\"Pandas Profiling Report\"\u001B[0m\u001B[0;34m,\u001B[0m \u001B[0mexplorative\u001B[0m\u001B[0;34m=\u001B[0m\u001B[0;32mTrue\u001B[0m\u001B[0;34m)\u001B[0m\u001B[0;34m\u001B[0m\u001B[0;34m\u001B[0m\u001B[0m\n\u001B[0;32m----> 2\u001B[0;31m \u001B[0mprofile\u001B[0m\u001B[0;34m.\u001B[0m\u001B[0mto_file\u001B[0m\u001B[0;34m(\u001B[0m\u001B[0;34m\"out/df_moscow_all.html\"\u001B[0m\u001B[0;34m)\u001B[0m\u001B[0;34m\u001B[0m\u001B[0;34m\u001B[0m\u001B[0m\n\u001B[0m",
      "\u001B[0;32m~/opt/anaconda3/lib/python3.8/site-packages/pandas_profiling/profile_report.py\u001B[0m in \u001B[0;36mto_file\u001B[0;34m(self, output_file, silent)\u001B[0m\n\u001B[1;32m    255\u001B[0m                 \u001B[0mcreate_html_assets\u001B[0m\u001B[0;34m(\u001B[0m\u001B[0mself\u001B[0m\u001B[0;34m.\u001B[0m\u001B[0mconfig\u001B[0m\u001B[0;34m,\u001B[0m \u001B[0moutput_file\u001B[0m\u001B[0;34m)\u001B[0m\u001B[0;34m\u001B[0m\u001B[0;34m\u001B[0m\u001B[0m\n\u001B[1;32m    256\u001B[0m \u001B[0;34m\u001B[0m\u001B[0m\n\u001B[0;32m--> 257\u001B[0;31m             \u001B[0mdata\u001B[0m \u001B[0;34m=\u001B[0m \u001B[0mself\u001B[0m\u001B[0;34m.\u001B[0m\u001B[0mto_html\u001B[0m\u001B[0;34m(\u001B[0m\u001B[0;34m)\u001B[0m\u001B[0;34m\u001B[0m\u001B[0;34m\u001B[0m\u001B[0m\n\u001B[0m\u001B[1;32m    258\u001B[0m \u001B[0;34m\u001B[0m\u001B[0m\n\u001B[1;32m    259\u001B[0m             \u001B[0;32mif\u001B[0m \u001B[0moutput_file\u001B[0m\u001B[0;34m.\u001B[0m\u001B[0msuffix\u001B[0m \u001B[0;34m!=\u001B[0m \u001B[0;34m\".html\"\u001B[0m\u001B[0;34m:\u001B[0m\u001B[0;34m\u001B[0m\u001B[0;34m\u001B[0m\u001B[0m\n",
      "\u001B[0;32m~/opt/anaconda3/lib/python3.8/site-packages/pandas_profiling/profile_report.py\u001B[0m in \u001B[0;36mto_html\u001B[0;34m(self)\u001B[0m\n\u001B[1;32m    366\u001B[0m \u001B[0;34m\u001B[0m\u001B[0m\n\u001B[1;32m    367\u001B[0m         \"\"\"\n\u001B[0;32m--> 368\u001B[0;31m         \u001B[0;32mreturn\u001B[0m \u001B[0mself\u001B[0m\u001B[0;34m.\u001B[0m\u001B[0mhtml\u001B[0m\u001B[0;34m\u001B[0m\u001B[0;34m\u001B[0m\u001B[0m\n\u001B[0m\u001B[1;32m    369\u001B[0m \u001B[0;34m\u001B[0m\u001B[0m\n\u001B[1;32m    370\u001B[0m     \u001B[0;32mdef\u001B[0m \u001B[0mto_json\u001B[0m\u001B[0;34m(\u001B[0m\u001B[0mself\u001B[0m\u001B[0;34m)\u001B[0m \u001B[0;34m->\u001B[0m \u001B[0mstr\u001B[0m\u001B[0;34m:\u001B[0m\u001B[0;34m\u001B[0m\u001B[0;34m\u001B[0m\u001B[0m\n",
      "\u001B[0;32m~/opt/anaconda3/lib/python3.8/site-packages/pandas_profiling/profile_report.py\u001B[0m in \u001B[0;36mhtml\u001B[0;34m(self)\u001B[0m\n\u001B[1;32m    183\u001B[0m     \u001B[0;32mdef\u001B[0m \u001B[0mhtml\u001B[0m\u001B[0;34m(\u001B[0m\u001B[0mself\u001B[0m\u001B[0;34m)\u001B[0m \u001B[0;34m->\u001B[0m \u001B[0mstr\u001B[0m\u001B[0;34m:\u001B[0m\u001B[0;34m\u001B[0m\u001B[0;34m\u001B[0m\u001B[0m\n\u001B[1;32m    184\u001B[0m         \u001B[0;32mif\u001B[0m \u001B[0mself\u001B[0m\u001B[0;34m.\u001B[0m\u001B[0m_html\u001B[0m \u001B[0;32mis\u001B[0m \u001B[0;32mNone\u001B[0m\u001B[0;34m:\u001B[0m\u001B[0;34m\u001B[0m\u001B[0;34m\u001B[0m\u001B[0m\n\u001B[0;32m--> 185\u001B[0;31m             \u001B[0mself\u001B[0m\u001B[0;34m.\u001B[0m\u001B[0m_html\u001B[0m \u001B[0;34m=\u001B[0m \u001B[0mself\u001B[0m\u001B[0;34m.\u001B[0m\u001B[0m_render_html\u001B[0m\u001B[0;34m(\u001B[0m\u001B[0;34m)\u001B[0m\u001B[0;34m\u001B[0m\u001B[0;34m\u001B[0m\u001B[0m\n\u001B[0m\u001B[1;32m    186\u001B[0m         \u001B[0;32mreturn\u001B[0m \u001B[0mself\u001B[0m\u001B[0;34m.\u001B[0m\u001B[0m_html\u001B[0m\u001B[0;34m\u001B[0m\u001B[0;34m\u001B[0m\u001B[0m\n\u001B[1;32m    187\u001B[0m \u001B[0;34m\u001B[0m\u001B[0m\n",
      "\u001B[0;32m~/opt/anaconda3/lib/python3.8/site-packages/pandas_profiling/profile_report.py\u001B[0m in \u001B[0;36m_render_html\u001B[0;34m(self)\u001B[0m\n\u001B[1;32m    285\u001B[0m         \u001B[0;32mfrom\u001B[0m \u001B[0mpandas_profiling\u001B[0m\u001B[0;34m.\u001B[0m\u001B[0mreport\u001B[0m\u001B[0;34m.\u001B[0m\u001B[0mpresentation\u001B[0m\u001B[0;34m.\u001B[0m\u001B[0mflavours\u001B[0m \u001B[0;32mimport\u001B[0m \u001B[0mHTMLReport\u001B[0m\u001B[0;34m\u001B[0m\u001B[0;34m\u001B[0m\u001B[0m\n\u001B[1;32m    286\u001B[0m \u001B[0;34m\u001B[0m\u001B[0m\n\u001B[0;32m--> 287\u001B[0;31m         \u001B[0mreport\u001B[0m \u001B[0;34m=\u001B[0m \u001B[0mself\u001B[0m\u001B[0;34m.\u001B[0m\u001B[0mreport\u001B[0m\u001B[0;34m\u001B[0m\u001B[0;34m\u001B[0m\u001B[0m\n\u001B[0m\u001B[1;32m    288\u001B[0m \u001B[0;34m\u001B[0m\u001B[0m\n\u001B[1;32m    289\u001B[0m         with tqdm(\n",
      "\u001B[0;32m~/opt/anaconda3/lib/python3.8/site-packages/pandas_profiling/profile_report.py\u001B[0m in \u001B[0;36mreport\u001B[0;34m(self)\u001B[0m\n\u001B[1;32m    177\u001B[0m     \u001B[0;32mdef\u001B[0m \u001B[0mreport\u001B[0m\u001B[0;34m(\u001B[0m\u001B[0mself\u001B[0m\u001B[0;34m)\u001B[0m \u001B[0;34m->\u001B[0m \u001B[0mRoot\u001B[0m\u001B[0;34m:\u001B[0m\u001B[0;34m\u001B[0m\u001B[0;34m\u001B[0m\u001B[0m\n\u001B[1;32m    178\u001B[0m         \u001B[0;32mif\u001B[0m \u001B[0mself\u001B[0m\u001B[0;34m.\u001B[0m\u001B[0m_report\u001B[0m \u001B[0;32mis\u001B[0m \u001B[0;32mNone\u001B[0m\u001B[0;34m:\u001B[0m\u001B[0;34m\u001B[0m\u001B[0;34m\u001B[0m\u001B[0m\n\u001B[0;32m--> 179\u001B[0;31m             \u001B[0mself\u001B[0m\u001B[0;34m.\u001B[0m\u001B[0m_report\u001B[0m \u001B[0;34m=\u001B[0m \u001B[0mget_report_structure\u001B[0m\u001B[0;34m(\u001B[0m\u001B[0mself\u001B[0m\u001B[0;34m.\u001B[0m\u001B[0mconfig\u001B[0m\u001B[0;34m,\u001B[0m \u001B[0mself\u001B[0m\u001B[0;34m.\u001B[0m\u001B[0mdescription_set\u001B[0m\u001B[0;34m)\u001B[0m\u001B[0;34m\u001B[0m\u001B[0;34m\u001B[0m\u001B[0m\n\u001B[0m\u001B[1;32m    180\u001B[0m         \u001B[0;32mreturn\u001B[0m \u001B[0mself\u001B[0m\u001B[0;34m.\u001B[0m\u001B[0m_report\u001B[0m\u001B[0;34m\u001B[0m\u001B[0;34m\u001B[0m\u001B[0m\n\u001B[1;32m    181\u001B[0m \u001B[0;34m\u001B[0m\u001B[0m\n",
      "\u001B[0;32m~/opt/anaconda3/lib/python3.8/site-packages/pandas_profiling/profile_report.py\u001B[0m in \u001B[0;36mdescription_set\u001B[0;34m(self)\u001B[0m\n\u001B[1;32m    159\u001B[0m     \u001B[0;32mdef\u001B[0m \u001B[0mdescription_set\u001B[0m\u001B[0;34m(\u001B[0m\u001B[0mself\u001B[0m\u001B[0;34m)\u001B[0m \u001B[0;34m->\u001B[0m \u001B[0mDict\u001B[0m\u001B[0;34m[\u001B[0m\u001B[0mstr\u001B[0m\u001B[0;34m,\u001B[0m \u001B[0mAny\u001B[0m\u001B[0;34m]\u001B[0m\u001B[0;34m:\u001B[0m\u001B[0;34m\u001B[0m\u001B[0;34m\u001B[0m\u001B[0m\n\u001B[1;32m    160\u001B[0m         \u001B[0;32mif\u001B[0m \u001B[0mself\u001B[0m\u001B[0;34m.\u001B[0m\u001B[0m_description_set\u001B[0m \u001B[0;32mis\u001B[0m \u001B[0;32mNone\u001B[0m\u001B[0;34m:\u001B[0m\u001B[0;34m\u001B[0m\u001B[0;34m\u001B[0m\u001B[0m\n\u001B[0;32m--> 161\u001B[0;31m             self._description_set = describe_df(\n\u001B[0m\u001B[1;32m    162\u001B[0m                 \u001B[0mself\u001B[0m\u001B[0;34m.\u001B[0m\u001B[0mconfig\u001B[0m\u001B[0;34m,\u001B[0m\u001B[0;34m\u001B[0m\u001B[0;34m\u001B[0m\u001B[0m\n\u001B[1;32m    163\u001B[0m                 \u001B[0mself\u001B[0m\u001B[0;34m.\u001B[0m\u001B[0mdf\u001B[0m\u001B[0;34m,\u001B[0m\u001B[0;34m\u001B[0m\u001B[0;34m\u001B[0m\u001B[0m\n",
      "\u001B[0;32m~/opt/anaconda3/lib/python3.8/site-packages/pandas_profiling/model/describe.py\u001B[0m in \u001B[0;36mdescribe\u001B[0;34m(config, df, summarizer, typeset, sample)\u001B[0m\n\u001B[1;32m    113\u001B[0m         }\n\u001B[1;32m    114\u001B[0m         \u001B[0;32mfor\u001B[0m \u001B[0mx\u001B[0m\u001B[0;34m,\u001B[0m \u001B[0my\u001B[0m \u001B[0;32min\u001B[0m \u001B[0mscatter_tasks\u001B[0m\u001B[0;34m:\u001B[0m\u001B[0;34m\u001B[0m\u001B[0;34m\u001B[0m\u001B[0m\n\u001B[0;32m--> 115\u001B[0;31m             scatter_matrix[x][y] = progress(\n\u001B[0m\u001B[1;32m    116\u001B[0m                 \u001B[0mget_scatter_plot\u001B[0m\u001B[0;34m,\u001B[0m \u001B[0mpbar\u001B[0m\u001B[0;34m,\u001B[0m \u001B[0;34mf\"scatter {x}, {y}\"\u001B[0m\u001B[0;34m\u001B[0m\u001B[0;34m\u001B[0m\u001B[0m\n\u001B[1;32m    117\u001B[0m             )(config, df, x, y, interval_columns)\n",
      "\u001B[0;32m~/opt/anaconda3/lib/python3.8/site-packages/pandas_profiling/utils/progress_bar.py\u001B[0m in \u001B[0;36minner\u001B[0;34m(*args, **kwargs)\u001B[0m\n\u001B[1;32m      9\u001B[0m     \u001B[0;32mdef\u001B[0m \u001B[0minner\u001B[0m\u001B[0;34m(\u001B[0m\u001B[0;34m*\u001B[0m\u001B[0margs\u001B[0m\u001B[0;34m,\u001B[0m \u001B[0;34m**\u001B[0m\u001B[0mkwargs\u001B[0m\u001B[0;34m)\u001B[0m \u001B[0;34m->\u001B[0m \u001B[0mAny\u001B[0m\u001B[0;34m:\u001B[0m\u001B[0;34m\u001B[0m\u001B[0;34m\u001B[0m\u001B[0m\n\u001B[1;32m     10\u001B[0m         \u001B[0mbar\u001B[0m\u001B[0;34m.\u001B[0m\u001B[0mset_postfix_str\u001B[0m\u001B[0;34m(\u001B[0m\u001B[0mmessage\u001B[0m\u001B[0;34m)\u001B[0m\u001B[0;34m\u001B[0m\u001B[0;34m\u001B[0m\u001B[0m\n\u001B[0;32m---> 11\u001B[0;31m         \u001B[0mret\u001B[0m \u001B[0;34m=\u001B[0m \u001B[0mfn\u001B[0m\u001B[0;34m(\u001B[0m\u001B[0;34m*\u001B[0m\u001B[0margs\u001B[0m\u001B[0;34m,\u001B[0m \u001B[0;34m**\u001B[0m\u001B[0mkwargs\u001B[0m\u001B[0;34m)\u001B[0m\u001B[0;34m\u001B[0m\u001B[0;34m\u001B[0m\u001B[0m\n\u001B[0m\u001B[1;32m     12\u001B[0m         \u001B[0mbar\u001B[0m\u001B[0;34m.\u001B[0m\u001B[0mupdate\u001B[0m\u001B[0;34m(\u001B[0m\u001B[0;34m)\u001B[0m\u001B[0;34m\u001B[0m\u001B[0;34m\u001B[0m\u001B[0m\n\u001B[1;32m     13\u001B[0m         \u001B[0;32mreturn\u001B[0m \u001B[0mret\u001B[0m\u001B[0;34m\u001B[0m\u001B[0;34m\u001B[0m\u001B[0m\n",
      "\u001B[0;32m~/opt/anaconda3/lib/python3.8/site-packages/pandas_profiling/model/pairwise.py\u001B[0m in \u001B[0;36mget_scatter_plot\u001B[0;34m(config, df, x, y, continuous_variables)\u001B[0m\n\u001B[1;32m     29\u001B[0m         \u001B[0;32melse\u001B[0m\u001B[0;34m:\u001B[0m\u001B[0;34m\u001B[0m\u001B[0;34m\u001B[0m\u001B[0m\n\u001B[1;32m     30\u001B[0m             \u001B[0mdf_temp\u001B[0m \u001B[0;34m=\u001B[0m \u001B[0mdf\u001B[0m\u001B[0;34m[\u001B[0m\u001B[0;34m[\u001B[0m\u001B[0mx\u001B[0m\u001B[0;34m,\u001B[0m \u001B[0my\u001B[0m\u001B[0;34m]\u001B[0m\u001B[0;34m]\u001B[0m\u001B[0;34m.\u001B[0m\u001B[0mdropna\u001B[0m\u001B[0;34m(\u001B[0m\u001B[0;34m)\u001B[0m\u001B[0;34m\u001B[0m\u001B[0;34m\u001B[0m\u001B[0m\n\u001B[0;32m---> 31\u001B[0;31m         \u001B[0;32mreturn\u001B[0m \u001B[0mscatter_pairwise\u001B[0m\u001B[0;34m(\u001B[0m\u001B[0mconfig\u001B[0m\u001B[0;34m,\u001B[0m \u001B[0mdf_temp\u001B[0m\u001B[0;34m[\u001B[0m\u001B[0mx\u001B[0m\u001B[0;34m]\u001B[0m\u001B[0;34m,\u001B[0m \u001B[0mdf_temp\u001B[0m\u001B[0;34m[\u001B[0m\u001B[0my\u001B[0m\u001B[0;34m]\u001B[0m\u001B[0;34m,\u001B[0m \u001B[0mx\u001B[0m\u001B[0;34m,\u001B[0m \u001B[0my\u001B[0m\u001B[0;34m)\u001B[0m\u001B[0;34m\u001B[0m\u001B[0;34m\u001B[0m\u001B[0m\n\u001B[0m\u001B[1;32m     32\u001B[0m     \u001B[0;32melse\u001B[0m\u001B[0;34m:\u001B[0m\u001B[0;34m\u001B[0m\u001B[0;34m\u001B[0m\u001B[0m\n\u001B[1;32m     33\u001B[0m         \u001B[0;32mreturn\u001B[0m \u001B[0;34m\"\"\u001B[0m\u001B[0;34m\u001B[0m\u001B[0;34m\u001B[0m\u001B[0m\n",
      "\u001B[0;32m~/opt/anaconda3/lib/python3.8/contextlib.py\u001B[0m in \u001B[0;36minner\u001B[0;34m(*args, **kwds)\u001B[0m\n\u001B[1;32m     73\u001B[0m         \u001B[0;32mdef\u001B[0m \u001B[0minner\u001B[0m\u001B[0;34m(\u001B[0m\u001B[0;34m*\u001B[0m\u001B[0margs\u001B[0m\u001B[0;34m,\u001B[0m \u001B[0;34m**\u001B[0m\u001B[0mkwds\u001B[0m\u001B[0;34m)\u001B[0m\u001B[0;34m:\u001B[0m\u001B[0;34m\u001B[0m\u001B[0;34m\u001B[0m\u001B[0m\n\u001B[1;32m     74\u001B[0m             \u001B[0;32mwith\u001B[0m \u001B[0mself\u001B[0m\u001B[0;34m.\u001B[0m\u001B[0m_recreate_cm\u001B[0m\u001B[0;34m(\u001B[0m\u001B[0;34m)\u001B[0m\u001B[0;34m:\u001B[0m\u001B[0;34m\u001B[0m\u001B[0;34m\u001B[0m\u001B[0m\n\u001B[0;32m---> 75\u001B[0;31m                 \u001B[0;32mreturn\u001B[0m \u001B[0mfunc\u001B[0m\u001B[0;34m(\u001B[0m\u001B[0;34m*\u001B[0m\u001B[0margs\u001B[0m\u001B[0;34m,\u001B[0m \u001B[0;34m**\u001B[0m\u001B[0mkwds\u001B[0m\u001B[0;34m)\u001B[0m\u001B[0;34m\u001B[0m\u001B[0;34m\u001B[0m\u001B[0m\n\u001B[0m\u001B[1;32m     76\u001B[0m         \u001B[0;32mreturn\u001B[0m \u001B[0minner\u001B[0m\u001B[0;34m\u001B[0m\u001B[0;34m\u001B[0m\u001B[0m\n\u001B[1;32m     77\u001B[0m \u001B[0;34m\u001B[0m\u001B[0m\n",
      "\u001B[0;32m~/opt/anaconda3/lib/python3.8/site-packages/pandas_profiling/visualisation/plot.py\u001B[0m in \u001B[0;36mscatter_pairwise\u001B[0;34m(config, series1, series2, x_label, y_label)\u001B[0m\n\u001B[1;32m    296\u001B[0m     \u001B[0;32melse\u001B[0m\u001B[0;34m:\u001B[0m\u001B[0;34m\u001B[0m\u001B[0;34m\u001B[0m\u001B[0m\n\u001B[1;32m    297\u001B[0m         \u001B[0mplt\u001B[0m\u001B[0;34m.\u001B[0m\u001B[0mscatter\u001B[0m\u001B[0;34m(\u001B[0m\u001B[0mseries1\u001B[0m\u001B[0;34m[\u001B[0m\u001B[0mindices\u001B[0m\u001B[0;34m]\u001B[0m\u001B[0;34m,\u001B[0m \u001B[0mseries2\u001B[0m\u001B[0;34m[\u001B[0m\u001B[0mindices\u001B[0m\u001B[0;34m]\u001B[0m\u001B[0;34m,\u001B[0m \u001B[0mcolor\u001B[0m\u001B[0;34m=\u001B[0m\u001B[0mcolor\u001B[0m\u001B[0;34m)\u001B[0m\u001B[0;34m\u001B[0m\u001B[0;34m\u001B[0m\u001B[0m\n\u001B[0;32m--> 298\u001B[0;31m     \u001B[0;32mreturn\u001B[0m \u001B[0mplot_360_n0sc0pe\u001B[0m\u001B[0;34m(\u001B[0m\u001B[0mconfig\u001B[0m\u001B[0;34m)\u001B[0m\u001B[0;34m\u001B[0m\u001B[0;34m\u001B[0m\u001B[0m\n\u001B[0m\u001B[1;32m    299\u001B[0m \u001B[0;34m\u001B[0m\u001B[0m\n\u001B[1;32m    300\u001B[0m \u001B[0;34m\u001B[0m\u001B[0m\n",
      "\u001B[0;32m~/opt/anaconda3/lib/python3.8/site-packages/pandas_profiling/visualisation/utils.py\u001B[0m in \u001B[0;36mplot_360_n0sc0pe\u001B[0;34m(config, image_format)\u001B[0m\n\u001B[1;32m     64\u001B[0m         \u001B[0;32mif\u001B[0m \u001B[0mimage_format\u001B[0m \u001B[0;34m==\u001B[0m \u001B[0;34m\"svg\"\u001B[0m\u001B[0;34m:\u001B[0m\u001B[0;34m\u001B[0m\u001B[0;34m\u001B[0m\u001B[0m\n\u001B[1;32m     65\u001B[0m             \u001B[0mimage_str\u001B[0m \u001B[0;34m=\u001B[0m \u001B[0mStringIO\u001B[0m\u001B[0;34m(\u001B[0m\u001B[0;34m)\u001B[0m\u001B[0;34m\u001B[0m\u001B[0;34m\u001B[0m\u001B[0m\n\u001B[0;32m---> 66\u001B[0;31m             \u001B[0mplt\u001B[0m\u001B[0;34m.\u001B[0m\u001B[0msavefig\u001B[0m\u001B[0;34m(\u001B[0m\u001B[0mimage_str\u001B[0m\u001B[0;34m,\u001B[0m \u001B[0mformat\u001B[0m\u001B[0;34m=\u001B[0m\u001B[0mimage_format\u001B[0m\u001B[0;34m)\u001B[0m\u001B[0;34m\u001B[0m\u001B[0;34m\u001B[0m\u001B[0m\n\u001B[0m\u001B[1;32m     67\u001B[0m             \u001B[0mplt\u001B[0m\u001B[0;34m.\u001B[0m\u001B[0mclose\u001B[0m\u001B[0;34m(\u001B[0m\u001B[0;34m)\u001B[0m\u001B[0;34m\u001B[0m\u001B[0;34m\u001B[0m\u001B[0m\n\u001B[1;32m     68\u001B[0m             \u001B[0mresult_string\u001B[0m \u001B[0;34m=\u001B[0m \u001B[0mimage_str\u001B[0m\u001B[0;34m.\u001B[0m\u001B[0mgetvalue\u001B[0m\u001B[0;34m(\u001B[0m\u001B[0;34m)\u001B[0m\u001B[0;34m\u001B[0m\u001B[0;34m\u001B[0m\u001B[0m\n",
      "\u001B[0;32m~/opt/anaconda3/lib/python3.8/site-packages/matplotlib/pyplot.py\u001B[0m in \u001B[0;36msavefig\u001B[0;34m(*args, **kwargs)\u001B[0m\n\u001B[1;32m    857\u001B[0m \u001B[0;32mdef\u001B[0m \u001B[0msavefig\u001B[0m\u001B[0;34m(\u001B[0m\u001B[0;34m*\u001B[0m\u001B[0margs\u001B[0m\u001B[0;34m,\u001B[0m \u001B[0;34m**\u001B[0m\u001B[0mkwargs\u001B[0m\u001B[0;34m)\u001B[0m\u001B[0;34m:\u001B[0m\u001B[0;34m\u001B[0m\u001B[0;34m\u001B[0m\u001B[0m\n\u001B[1;32m    858\u001B[0m     \u001B[0mfig\u001B[0m \u001B[0;34m=\u001B[0m \u001B[0mgcf\u001B[0m\u001B[0;34m(\u001B[0m\u001B[0;34m)\u001B[0m\u001B[0;34m\u001B[0m\u001B[0;34m\u001B[0m\u001B[0m\n\u001B[0;32m--> 859\u001B[0;31m     \u001B[0mres\u001B[0m \u001B[0;34m=\u001B[0m \u001B[0mfig\u001B[0m\u001B[0;34m.\u001B[0m\u001B[0msavefig\u001B[0m\u001B[0;34m(\u001B[0m\u001B[0;34m*\u001B[0m\u001B[0margs\u001B[0m\u001B[0;34m,\u001B[0m \u001B[0;34m**\u001B[0m\u001B[0mkwargs\u001B[0m\u001B[0;34m)\u001B[0m\u001B[0;34m\u001B[0m\u001B[0;34m\u001B[0m\u001B[0m\n\u001B[0m\u001B[1;32m    860\u001B[0m     \u001B[0mfig\u001B[0m\u001B[0;34m.\u001B[0m\u001B[0mcanvas\u001B[0m\u001B[0;34m.\u001B[0m\u001B[0mdraw_idle\u001B[0m\u001B[0;34m(\u001B[0m\u001B[0;34m)\u001B[0m   \u001B[0;31m# need this if 'transparent=True' to reset colors\u001B[0m\u001B[0;34m\u001B[0m\u001B[0;34m\u001B[0m\u001B[0m\n\u001B[1;32m    861\u001B[0m     \u001B[0;32mreturn\u001B[0m \u001B[0mres\u001B[0m\u001B[0;34m\u001B[0m\u001B[0;34m\u001B[0m\u001B[0m\n",
      "\u001B[0;32m~/opt/anaconda3/lib/python3.8/site-packages/matplotlib/figure.py\u001B[0m in \u001B[0;36msavefig\u001B[0;34m(self, fname, transparent, **kwargs)\u001B[0m\n\u001B[1;32m   2309\u001B[0m                 \u001B[0mpatch\u001B[0m\u001B[0;34m.\u001B[0m\u001B[0mset_edgecolor\u001B[0m\u001B[0;34m(\u001B[0m\u001B[0;34m'none'\u001B[0m\u001B[0;34m)\u001B[0m\u001B[0;34m\u001B[0m\u001B[0;34m\u001B[0m\u001B[0m\n\u001B[1;32m   2310\u001B[0m \u001B[0;34m\u001B[0m\u001B[0m\n\u001B[0;32m-> 2311\u001B[0;31m         \u001B[0mself\u001B[0m\u001B[0;34m.\u001B[0m\u001B[0mcanvas\u001B[0m\u001B[0;34m.\u001B[0m\u001B[0mprint_figure\u001B[0m\u001B[0;34m(\u001B[0m\u001B[0mfname\u001B[0m\u001B[0;34m,\u001B[0m \u001B[0;34m**\u001B[0m\u001B[0mkwargs\u001B[0m\u001B[0;34m)\u001B[0m\u001B[0;34m\u001B[0m\u001B[0;34m\u001B[0m\u001B[0m\n\u001B[0m\u001B[1;32m   2312\u001B[0m \u001B[0;34m\u001B[0m\u001B[0m\n\u001B[1;32m   2313\u001B[0m         \u001B[0;32mif\u001B[0m \u001B[0mtransparent\u001B[0m\u001B[0;34m:\u001B[0m\u001B[0;34m\u001B[0m\u001B[0;34m\u001B[0m\u001B[0m\n",
      "\u001B[0;32m~/opt/anaconda3/lib/python3.8/site-packages/matplotlib/backend_bases.py\u001B[0m in \u001B[0;36mprint_figure\u001B[0;34m(self, filename, dpi, facecolor, edgecolor, orientation, format, bbox_inches, pad_inches, bbox_extra_artists, backend, **kwargs)\u001B[0m\n\u001B[1;32m   2208\u001B[0m \u001B[0;34m\u001B[0m\u001B[0m\n\u001B[1;32m   2209\u001B[0m             \u001B[0;32mtry\u001B[0m\u001B[0;34m:\u001B[0m\u001B[0;34m\u001B[0m\u001B[0;34m\u001B[0m\u001B[0m\n\u001B[0;32m-> 2210\u001B[0;31m                 result = print_method(\n\u001B[0m\u001B[1;32m   2211\u001B[0m                     \u001B[0mfilename\u001B[0m\u001B[0;34m,\u001B[0m\u001B[0;34m\u001B[0m\u001B[0;34m\u001B[0m\u001B[0m\n\u001B[1;32m   2212\u001B[0m                     \u001B[0mdpi\u001B[0m\u001B[0;34m=\u001B[0m\u001B[0mdpi\u001B[0m\u001B[0;34m,\u001B[0m\u001B[0;34m\u001B[0m\u001B[0;34m\u001B[0m\u001B[0m\n",
      "\u001B[0;32m~/opt/anaconda3/lib/python3.8/site-packages/matplotlib/backends/backend_svg.py\u001B[0m in \u001B[0;36mprint_svg\u001B[0;34m(self, filename, *args, **kwargs)\u001B[0m\n\u001B[1;32m   1327\u001B[0m                 \u001B[0mdetach\u001B[0m \u001B[0;34m=\u001B[0m \u001B[0;32mTrue\u001B[0m\u001B[0;34m\u001B[0m\u001B[0;34m\u001B[0m\u001B[0m\n\u001B[1;32m   1328\u001B[0m \u001B[0;34m\u001B[0m\u001B[0m\n\u001B[0;32m-> 1329\u001B[0;31m             \u001B[0mself\u001B[0m\u001B[0;34m.\u001B[0m\u001B[0m_print_svg\u001B[0m\u001B[0;34m(\u001B[0m\u001B[0mfilename\u001B[0m\u001B[0;34m,\u001B[0m \u001B[0mfh\u001B[0m\u001B[0;34m,\u001B[0m \u001B[0;34m**\u001B[0m\u001B[0mkwargs\u001B[0m\u001B[0;34m)\u001B[0m\u001B[0;34m\u001B[0m\u001B[0;34m\u001B[0m\u001B[0m\n\u001B[0m\u001B[1;32m   1330\u001B[0m \u001B[0;34m\u001B[0m\u001B[0m\n\u001B[1;32m   1331\u001B[0m             \u001B[0;31m# Detach underlying stream from wrapper so that it remains open in\u001B[0m\u001B[0;34m\u001B[0m\u001B[0;34m\u001B[0m\u001B[0;34m\u001B[0m\u001B[0m\n",
      "\u001B[0;32m~/opt/anaconda3/lib/python3.8/site-packages/matplotlib/backend_bases.py\u001B[0m in \u001B[0;36mwrapper\u001B[0;34m(*args, **kwargs)\u001B[0m\n\u001B[1;32m   1637\u001B[0m             \u001B[0mkwargs\u001B[0m\u001B[0;34m.\u001B[0m\u001B[0mpop\u001B[0m\u001B[0;34m(\u001B[0m\u001B[0marg\u001B[0m\u001B[0;34m)\u001B[0m\u001B[0;34m\u001B[0m\u001B[0;34m\u001B[0m\u001B[0m\n\u001B[1;32m   1638\u001B[0m \u001B[0;34m\u001B[0m\u001B[0m\n\u001B[0;32m-> 1639\u001B[0;31m         \u001B[0;32mreturn\u001B[0m \u001B[0mfunc\u001B[0m\u001B[0;34m(\u001B[0m\u001B[0;34m*\u001B[0m\u001B[0margs\u001B[0m\u001B[0;34m,\u001B[0m \u001B[0;34m**\u001B[0m\u001B[0mkwargs\u001B[0m\u001B[0;34m)\u001B[0m\u001B[0;34m\u001B[0m\u001B[0;34m\u001B[0m\u001B[0m\n\u001B[0m\u001B[1;32m   1640\u001B[0m \u001B[0;34m\u001B[0m\u001B[0m\n\u001B[1;32m   1641\u001B[0m     \u001B[0;32mreturn\u001B[0m \u001B[0mwrapper\u001B[0m\u001B[0;34m\u001B[0m\u001B[0;34m\u001B[0m\u001B[0m\n",
      "\u001B[0;32m~/opt/anaconda3/lib/python3.8/site-packages/matplotlib/backends/backend_svg.py\u001B[0m in \u001B[0;36m_print_svg\u001B[0;34m(self, filename, fh, dpi, bbox_inches_restore, metadata)\u001B[0m\n\u001B[1;32m   1351\u001B[0m             bbox_inches_restore=bbox_inches_restore)\n\u001B[1;32m   1352\u001B[0m \u001B[0;34m\u001B[0m\u001B[0m\n\u001B[0;32m-> 1353\u001B[0;31m         \u001B[0mself\u001B[0m\u001B[0;34m.\u001B[0m\u001B[0mfigure\u001B[0m\u001B[0;34m.\u001B[0m\u001B[0mdraw\u001B[0m\u001B[0;34m(\u001B[0m\u001B[0mrenderer\u001B[0m\u001B[0;34m)\u001B[0m\u001B[0;34m\u001B[0m\u001B[0;34m\u001B[0m\u001B[0m\n\u001B[0m\u001B[1;32m   1354\u001B[0m         \u001B[0mrenderer\u001B[0m\u001B[0;34m.\u001B[0m\u001B[0mfinalize\u001B[0m\u001B[0;34m(\u001B[0m\u001B[0;34m)\u001B[0m\u001B[0;34m\u001B[0m\u001B[0;34m\u001B[0m\u001B[0m\n\u001B[1;32m   1355\u001B[0m \u001B[0;34m\u001B[0m\u001B[0m\n",
      "\u001B[0;32m~/opt/anaconda3/lib/python3.8/site-packages/matplotlib/artist.py\u001B[0m in \u001B[0;36mdraw_wrapper\u001B[0;34m(artist, renderer, *args, **kwargs)\u001B[0m\n\u001B[1;32m     39\u001B[0m                 \u001B[0mrenderer\u001B[0m\u001B[0;34m.\u001B[0m\u001B[0mstart_filter\u001B[0m\u001B[0;34m(\u001B[0m\u001B[0;34m)\u001B[0m\u001B[0;34m\u001B[0m\u001B[0;34m\u001B[0m\u001B[0m\n\u001B[1;32m     40\u001B[0m \u001B[0;34m\u001B[0m\u001B[0m\n\u001B[0;32m---> 41\u001B[0;31m             \u001B[0;32mreturn\u001B[0m \u001B[0mdraw\u001B[0m\u001B[0;34m(\u001B[0m\u001B[0martist\u001B[0m\u001B[0;34m,\u001B[0m \u001B[0mrenderer\u001B[0m\u001B[0;34m,\u001B[0m \u001B[0;34m*\u001B[0m\u001B[0margs\u001B[0m\u001B[0;34m,\u001B[0m \u001B[0;34m**\u001B[0m\u001B[0mkwargs\u001B[0m\u001B[0;34m)\u001B[0m\u001B[0;34m\u001B[0m\u001B[0;34m\u001B[0m\u001B[0m\n\u001B[0m\u001B[1;32m     42\u001B[0m         \u001B[0;32mfinally\u001B[0m\u001B[0;34m:\u001B[0m\u001B[0;34m\u001B[0m\u001B[0;34m\u001B[0m\u001B[0m\n\u001B[1;32m     43\u001B[0m             \u001B[0;32mif\u001B[0m \u001B[0martist\u001B[0m\u001B[0;34m.\u001B[0m\u001B[0mget_agg_filter\u001B[0m\u001B[0;34m(\u001B[0m\u001B[0;34m)\u001B[0m \u001B[0;32mis\u001B[0m \u001B[0;32mnot\u001B[0m \u001B[0;32mNone\u001B[0m\u001B[0;34m:\u001B[0m\u001B[0;34m\u001B[0m\u001B[0;34m\u001B[0m\u001B[0m\n",
      "\u001B[0;32m~/opt/anaconda3/lib/python3.8/site-packages/matplotlib/figure.py\u001B[0m in \u001B[0;36mdraw\u001B[0;34m(self, renderer)\u001B[0m\n\u001B[1;32m   1861\u001B[0m \u001B[0;34m\u001B[0m\u001B[0m\n\u001B[1;32m   1862\u001B[0m             \u001B[0mself\u001B[0m\u001B[0;34m.\u001B[0m\u001B[0mpatch\u001B[0m\u001B[0;34m.\u001B[0m\u001B[0mdraw\u001B[0m\u001B[0;34m(\u001B[0m\u001B[0mrenderer\u001B[0m\u001B[0;34m)\u001B[0m\u001B[0;34m\u001B[0m\u001B[0;34m\u001B[0m\u001B[0m\n\u001B[0;32m-> 1863\u001B[0;31m             mimage._draw_list_compositing_images(\n\u001B[0m\u001B[1;32m   1864\u001B[0m                 renderer, self, artists, self.suppressComposite)\n\u001B[1;32m   1865\u001B[0m \u001B[0;34m\u001B[0m\u001B[0m\n",
      "\u001B[0;32m~/opt/anaconda3/lib/python3.8/site-packages/matplotlib/image.py\u001B[0m in \u001B[0;36m_draw_list_compositing_images\u001B[0;34m(renderer, parent, artists, suppress_composite)\u001B[0m\n\u001B[1;32m    129\u001B[0m     \u001B[0;32mif\u001B[0m \u001B[0mnot_composite\u001B[0m \u001B[0;32mor\u001B[0m \u001B[0;32mnot\u001B[0m \u001B[0mhas_images\u001B[0m\u001B[0;34m:\u001B[0m\u001B[0;34m\u001B[0m\u001B[0;34m\u001B[0m\u001B[0m\n\u001B[1;32m    130\u001B[0m         \u001B[0;32mfor\u001B[0m \u001B[0ma\u001B[0m \u001B[0;32min\u001B[0m \u001B[0martists\u001B[0m\u001B[0;34m:\u001B[0m\u001B[0;34m\u001B[0m\u001B[0;34m\u001B[0m\u001B[0m\n\u001B[0;32m--> 131\u001B[0;31m             \u001B[0ma\u001B[0m\u001B[0;34m.\u001B[0m\u001B[0mdraw\u001B[0m\u001B[0;34m(\u001B[0m\u001B[0mrenderer\u001B[0m\u001B[0;34m)\u001B[0m\u001B[0;34m\u001B[0m\u001B[0;34m\u001B[0m\u001B[0m\n\u001B[0m\u001B[1;32m    132\u001B[0m     \u001B[0;32melse\u001B[0m\u001B[0;34m:\u001B[0m\u001B[0;34m\u001B[0m\u001B[0;34m\u001B[0m\u001B[0m\n\u001B[1;32m    133\u001B[0m         \u001B[0;31m# Composite any adjacent images together\u001B[0m\u001B[0;34m\u001B[0m\u001B[0;34m\u001B[0m\u001B[0;34m\u001B[0m\u001B[0m\n",
      "\u001B[0;32m~/opt/anaconda3/lib/python3.8/site-packages/matplotlib/artist.py\u001B[0m in \u001B[0;36mdraw_wrapper\u001B[0;34m(artist, renderer, *args, **kwargs)\u001B[0m\n\u001B[1;32m     39\u001B[0m                 \u001B[0mrenderer\u001B[0m\u001B[0;34m.\u001B[0m\u001B[0mstart_filter\u001B[0m\u001B[0;34m(\u001B[0m\u001B[0;34m)\u001B[0m\u001B[0;34m\u001B[0m\u001B[0;34m\u001B[0m\u001B[0m\n\u001B[1;32m     40\u001B[0m \u001B[0;34m\u001B[0m\u001B[0m\n\u001B[0;32m---> 41\u001B[0;31m             \u001B[0;32mreturn\u001B[0m \u001B[0mdraw\u001B[0m\u001B[0;34m(\u001B[0m\u001B[0martist\u001B[0m\u001B[0;34m,\u001B[0m \u001B[0mrenderer\u001B[0m\u001B[0;34m,\u001B[0m \u001B[0;34m*\u001B[0m\u001B[0margs\u001B[0m\u001B[0;34m,\u001B[0m \u001B[0;34m**\u001B[0m\u001B[0mkwargs\u001B[0m\u001B[0;34m)\u001B[0m\u001B[0;34m\u001B[0m\u001B[0;34m\u001B[0m\u001B[0m\n\u001B[0m\u001B[1;32m     42\u001B[0m         \u001B[0;32mfinally\u001B[0m\u001B[0;34m:\u001B[0m\u001B[0;34m\u001B[0m\u001B[0;34m\u001B[0m\u001B[0m\n\u001B[1;32m     43\u001B[0m             \u001B[0;32mif\u001B[0m \u001B[0martist\u001B[0m\u001B[0;34m.\u001B[0m\u001B[0mget_agg_filter\u001B[0m\u001B[0;34m(\u001B[0m\u001B[0;34m)\u001B[0m \u001B[0;32mis\u001B[0m \u001B[0;32mnot\u001B[0m \u001B[0;32mNone\u001B[0m\u001B[0;34m:\u001B[0m\u001B[0;34m\u001B[0m\u001B[0;34m\u001B[0m\u001B[0m\n",
      "\u001B[0;32m~/opt/anaconda3/lib/python3.8/site-packages/matplotlib/cbook/deprecation.py\u001B[0m in \u001B[0;36mwrapper\u001B[0;34m(*inner_args, **inner_kwargs)\u001B[0m\n\u001B[1;32m    409\u001B[0m                          \u001B[0;32melse\u001B[0m \u001B[0mdeprecation_addendum\u001B[0m\u001B[0;34m,\u001B[0m\u001B[0;34m\u001B[0m\u001B[0;34m\u001B[0m\u001B[0m\n\u001B[1;32m    410\u001B[0m                 **kwargs)\n\u001B[0;32m--> 411\u001B[0;31m         \u001B[0;32mreturn\u001B[0m \u001B[0mfunc\u001B[0m\u001B[0;34m(\u001B[0m\u001B[0;34m*\u001B[0m\u001B[0minner_args\u001B[0m\u001B[0;34m,\u001B[0m \u001B[0;34m**\u001B[0m\u001B[0minner_kwargs\u001B[0m\u001B[0;34m)\u001B[0m\u001B[0;34m\u001B[0m\u001B[0;34m\u001B[0m\u001B[0m\n\u001B[0m\u001B[1;32m    412\u001B[0m \u001B[0;34m\u001B[0m\u001B[0m\n\u001B[1;32m    413\u001B[0m     \u001B[0;32mreturn\u001B[0m \u001B[0mwrapper\u001B[0m\u001B[0;34m\u001B[0m\u001B[0;34m\u001B[0m\u001B[0m\n",
      "\u001B[0;32m~/opt/anaconda3/lib/python3.8/site-packages/matplotlib/axes/_base.py\u001B[0m in \u001B[0;36mdraw\u001B[0;34m(self, renderer, inframe)\u001B[0m\n\u001B[1;32m   2745\u001B[0m             \u001B[0mrenderer\u001B[0m\u001B[0;34m.\u001B[0m\u001B[0mstop_rasterizing\u001B[0m\u001B[0;34m(\u001B[0m\u001B[0;34m)\u001B[0m\u001B[0;34m\u001B[0m\u001B[0;34m\u001B[0m\u001B[0m\n\u001B[1;32m   2746\u001B[0m \u001B[0;34m\u001B[0m\u001B[0m\n\u001B[0;32m-> 2747\u001B[0;31m         \u001B[0mmimage\u001B[0m\u001B[0;34m.\u001B[0m\u001B[0m_draw_list_compositing_images\u001B[0m\u001B[0;34m(\u001B[0m\u001B[0mrenderer\u001B[0m\u001B[0;34m,\u001B[0m \u001B[0mself\u001B[0m\u001B[0;34m,\u001B[0m \u001B[0martists\u001B[0m\u001B[0;34m)\u001B[0m\u001B[0;34m\u001B[0m\u001B[0;34m\u001B[0m\u001B[0m\n\u001B[0m\u001B[1;32m   2748\u001B[0m \u001B[0;34m\u001B[0m\u001B[0m\n\u001B[1;32m   2749\u001B[0m         \u001B[0mrenderer\u001B[0m\u001B[0;34m.\u001B[0m\u001B[0mclose_group\u001B[0m\u001B[0;34m(\u001B[0m\u001B[0;34m'axes'\u001B[0m\u001B[0;34m)\u001B[0m\u001B[0;34m\u001B[0m\u001B[0;34m\u001B[0m\u001B[0m\n",
      "\u001B[0;32m~/opt/anaconda3/lib/python3.8/site-packages/matplotlib/image.py\u001B[0m in \u001B[0;36m_draw_list_compositing_images\u001B[0;34m(renderer, parent, artists, suppress_composite)\u001B[0m\n\u001B[1;32m    129\u001B[0m     \u001B[0;32mif\u001B[0m \u001B[0mnot_composite\u001B[0m \u001B[0;32mor\u001B[0m \u001B[0;32mnot\u001B[0m \u001B[0mhas_images\u001B[0m\u001B[0;34m:\u001B[0m\u001B[0;34m\u001B[0m\u001B[0;34m\u001B[0m\u001B[0m\n\u001B[1;32m    130\u001B[0m         \u001B[0;32mfor\u001B[0m \u001B[0ma\u001B[0m \u001B[0;32min\u001B[0m \u001B[0martists\u001B[0m\u001B[0;34m:\u001B[0m\u001B[0;34m\u001B[0m\u001B[0;34m\u001B[0m\u001B[0m\n\u001B[0;32m--> 131\u001B[0;31m             \u001B[0ma\u001B[0m\u001B[0;34m.\u001B[0m\u001B[0mdraw\u001B[0m\u001B[0;34m(\u001B[0m\u001B[0mrenderer\u001B[0m\u001B[0;34m)\u001B[0m\u001B[0;34m\u001B[0m\u001B[0;34m\u001B[0m\u001B[0m\n\u001B[0m\u001B[1;32m    132\u001B[0m     \u001B[0;32melse\u001B[0m\u001B[0;34m:\u001B[0m\u001B[0;34m\u001B[0m\u001B[0;34m\u001B[0m\u001B[0m\n\u001B[1;32m    133\u001B[0m         \u001B[0;31m# Composite any adjacent images together\u001B[0m\u001B[0;34m\u001B[0m\u001B[0;34m\u001B[0m\u001B[0;34m\u001B[0m\u001B[0m\n",
      "\u001B[0;32m~/opt/anaconda3/lib/python3.8/site-packages/matplotlib/artist.py\u001B[0m in \u001B[0;36mdraw_wrapper\u001B[0;34m(artist, renderer, *args, **kwargs)\u001B[0m\n\u001B[1;32m     39\u001B[0m                 \u001B[0mrenderer\u001B[0m\u001B[0;34m.\u001B[0m\u001B[0mstart_filter\u001B[0m\u001B[0;34m(\u001B[0m\u001B[0;34m)\u001B[0m\u001B[0;34m\u001B[0m\u001B[0;34m\u001B[0m\u001B[0m\n\u001B[1;32m     40\u001B[0m \u001B[0;34m\u001B[0m\u001B[0m\n\u001B[0;32m---> 41\u001B[0;31m             \u001B[0;32mreturn\u001B[0m \u001B[0mdraw\u001B[0m\u001B[0;34m(\u001B[0m\u001B[0martist\u001B[0m\u001B[0;34m,\u001B[0m \u001B[0mrenderer\u001B[0m\u001B[0;34m,\u001B[0m \u001B[0;34m*\u001B[0m\u001B[0margs\u001B[0m\u001B[0;34m,\u001B[0m \u001B[0;34m**\u001B[0m\u001B[0mkwargs\u001B[0m\u001B[0;34m)\u001B[0m\u001B[0;34m\u001B[0m\u001B[0;34m\u001B[0m\u001B[0m\n\u001B[0m\u001B[1;32m     42\u001B[0m         \u001B[0;32mfinally\u001B[0m\u001B[0;34m:\u001B[0m\u001B[0;34m\u001B[0m\u001B[0;34m\u001B[0m\u001B[0m\n\u001B[1;32m     43\u001B[0m             \u001B[0;32mif\u001B[0m \u001B[0martist\u001B[0m\u001B[0;34m.\u001B[0m\u001B[0mget_agg_filter\u001B[0m\u001B[0;34m(\u001B[0m\u001B[0;34m)\u001B[0m \u001B[0;32mis\u001B[0m \u001B[0;32mnot\u001B[0m \u001B[0;32mNone\u001B[0m\u001B[0;34m:\u001B[0m\u001B[0;34m\u001B[0m\u001B[0;34m\u001B[0m\u001B[0m\n",
      "\u001B[0;32m~/opt/anaconda3/lib/python3.8/site-packages/matplotlib/axis.py\u001B[0m in \u001B[0;36mdraw\u001B[0;34m(self, renderer, *args, **kwargs)\u001B[0m\n\u001B[1;32m   1167\u001B[0m \u001B[0;34m\u001B[0m\u001B[0m\n\u001B[1;32m   1168\u001B[0m         \u001B[0;32mfor\u001B[0m \u001B[0mtick\u001B[0m \u001B[0;32min\u001B[0m \u001B[0mticks_to_draw\u001B[0m\u001B[0;34m:\u001B[0m\u001B[0;34m\u001B[0m\u001B[0;34m\u001B[0m\u001B[0m\n\u001B[0;32m-> 1169\u001B[0;31m             \u001B[0mtick\u001B[0m\u001B[0;34m.\u001B[0m\u001B[0mdraw\u001B[0m\u001B[0;34m(\u001B[0m\u001B[0mrenderer\u001B[0m\u001B[0;34m)\u001B[0m\u001B[0;34m\u001B[0m\u001B[0;34m\u001B[0m\u001B[0m\n\u001B[0m\u001B[1;32m   1170\u001B[0m \u001B[0;34m\u001B[0m\u001B[0m\n\u001B[1;32m   1171\u001B[0m         \u001B[0;31m# scale up the axis label box to also find the neighbors, not\u001B[0m\u001B[0;34m\u001B[0m\u001B[0;34m\u001B[0m\u001B[0;34m\u001B[0m\u001B[0m\n",
      "\u001B[0;32m~/opt/anaconda3/lib/python3.8/site-packages/matplotlib/artist.py\u001B[0m in \u001B[0;36mdraw_wrapper\u001B[0;34m(artist, renderer, *args, **kwargs)\u001B[0m\n\u001B[1;32m     39\u001B[0m                 \u001B[0mrenderer\u001B[0m\u001B[0;34m.\u001B[0m\u001B[0mstart_filter\u001B[0m\u001B[0;34m(\u001B[0m\u001B[0;34m)\u001B[0m\u001B[0;34m\u001B[0m\u001B[0;34m\u001B[0m\u001B[0m\n\u001B[1;32m     40\u001B[0m \u001B[0;34m\u001B[0m\u001B[0m\n\u001B[0;32m---> 41\u001B[0;31m             \u001B[0;32mreturn\u001B[0m \u001B[0mdraw\u001B[0m\u001B[0;34m(\u001B[0m\u001B[0martist\u001B[0m\u001B[0;34m,\u001B[0m \u001B[0mrenderer\u001B[0m\u001B[0;34m,\u001B[0m \u001B[0;34m*\u001B[0m\u001B[0margs\u001B[0m\u001B[0;34m,\u001B[0m \u001B[0;34m**\u001B[0m\u001B[0mkwargs\u001B[0m\u001B[0;34m)\u001B[0m\u001B[0;34m\u001B[0m\u001B[0;34m\u001B[0m\u001B[0m\n\u001B[0m\u001B[1;32m     42\u001B[0m         \u001B[0;32mfinally\u001B[0m\u001B[0;34m:\u001B[0m\u001B[0;34m\u001B[0m\u001B[0;34m\u001B[0m\u001B[0m\n\u001B[1;32m     43\u001B[0m             \u001B[0;32mif\u001B[0m \u001B[0martist\u001B[0m\u001B[0;34m.\u001B[0m\u001B[0mget_agg_filter\u001B[0m\u001B[0;34m(\u001B[0m\u001B[0;34m)\u001B[0m \u001B[0;32mis\u001B[0m \u001B[0;32mnot\u001B[0m \u001B[0;32mNone\u001B[0m\u001B[0;34m:\u001B[0m\u001B[0;34m\u001B[0m\u001B[0;34m\u001B[0m\u001B[0m\n",
      "\u001B[0;32m~/opt/anaconda3/lib/python3.8/site-packages/matplotlib/axis.py\u001B[0m in \u001B[0;36mdraw\u001B[0;34m(self, renderer)\u001B[0m\n\u001B[1;32m    289\u001B[0m         for artist in [self.gridline, self.tick1line, self.tick2line,\n\u001B[1;32m    290\u001B[0m                        self.label1, self.label2]:\n\u001B[0;32m--> 291\u001B[0;31m             \u001B[0martist\u001B[0m\u001B[0;34m.\u001B[0m\u001B[0mdraw\u001B[0m\u001B[0;34m(\u001B[0m\u001B[0mrenderer\u001B[0m\u001B[0;34m)\u001B[0m\u001B[0;34m\u001B[0m\u001B[0;34m\u001B[0m\u001B[0m\n\u001B[0m\u001B[1;32m    292\u001B[0m         \u001B[0mrenderer\u001B[0m\u001B[0;34m.\u001B[0m\u001B[0mclose_group\u001B[0m\u001B[0;34m(\u001B[0m\u001B[0mself\u001B[0m\u001B[0;34m.\u001B[0m\u001B[0m__name__\u001B[0m\u001B[0;34m)\u001B[0m\u001B[0;34m\u001B[0m\u001B[0;34m\u001B[0m\u001B[0m\n\u001B[1;32m    293\u001B[0m         \u001B[0mself\u001B[0m\u001B[0;34m.\u001B[0m\u001B[0mstale\u001B[0m \u001B[0;34m=\u001B[0m \u001B[0;32mFalse\u001B[0m\u001B[0;34m\u001B[0m\u001B[0;34m\u001B[0m\u001B[0m\n",
      "\u001B[0;32m~/opt/anaconda3/lib/python3.8/site-packages/matplotlib/artist.py\u001B[0m in \u001B[0;36mdraw_wrapper\u001B[0;34m(artist, renderer, *args, **kwargs)\u001B[0m\n\u001B[1;32m     39\u001B[0m                 \u001B[0mrenderer\u001B[0m\u001B[0;34m.\u001B[0m\u001B[0mstart_filter\u001B[0m\u001B[0;34m(\u001B[0m\u001B[0;34m)\u001B[0m\u001B[0;34m\u001B[0m\u001B[0;34m\u001B[0m\u001B[0m\n\u001B[1;32m     40\u001B[0m \u001B[0;34m\u001B[0m\u001B[0m\n\u001B[0;32m---> 41\u001B[0;31m             \u001B[0;32mreturn\u001B[0m \u001B[0mdraw\u001B[0m\u001B[0;34m(\u001B[0m\u001B[0martist\u001B[0m\u001B[0;34m,\u001B[0m \u001B[0mrenderer\u001B[0m\u001B[0;34m,\u001B[0m \u001B[0;34m*\u001B[0m\u001B[0margs\u001B[0m\u001B[0;34m,\u001B[0m \u001B[0;34m**\u001B[0m\u001B[0mkwargs\u001B[0m\u001B[0;34m)\u001B[0m\u001B[0;34m\u001B[0m\u001B[0;34m\u001B[0m\u001B[0m\n\u001B[0m\u001B[1;32m     42\u001B[0m         \u001B[0;32mfinally\u001B[0m\u001B[0;34m:\u001B[0m\u001B[0;34m\u001B[0m\u001B[0;34m\u001B[0m\u001B[0m\n\u001B[1;32m     43\u001B[0m             \u001B[0;32mif\u001B[0m \u001B[0martist\u001B[0m\u001B[0;34m.\u001B[0m\u001B[0mget_agg_filter\u001B[0m\u001B[0;34m(\u001B[0m\u001B[0;34m)\u001B[0m \u001B[0;32mis\u001B[0m \u001B[0;32mnot\u001B[0m \u001B[0;32mNone\u001B[0m\u001B[0;34m:\u001B[0m\u001B[0;34m\u001B[0m\u001B[0;34m\u001B[0m\u001B[0m\n",
      "\u001B[0;32m~/opt/anaconda3/lib/python3.8/site-packages/matplotlib/text.py\u001B[0m in \u001B[0;36mdraw\u001B[0;34m(self, renderer)\u001B[0m\n\u001B[1;32m    679\u001B[0m \u001B[0;34m\u001B[0m\u001B[0m\n\u001B[1;32m    680\u001B[0m         \u001B[0;32mwith\u001B[0m \u001B[0m_wrap_text\u001B[0m\u001B[0;34m(\u001B[0m\u001B[0mself\u001B[0m\u001B[0;34m)\u001B[0m \u001B[0;32mas\u001B[0m \u001B[0mtextobj\u001B[0m\u001B[0;34m:\u001B[0m\u001B[0;34m\u001B[0m\u001B[0;34m\u001B[0m\u001B[0m\n\u001B[0;32m--> 681\u001B[0;31m             \u001B[0mbbox\u001B[0m\u001B[0;34m,\u001B[0m \u001B[0minfo\u001B[0m\u001B[0;34m,\u001B[0m \u001B[0mdescent\u001B[0m \u001B[0;34m=\u001B[0m \u001B[0mtextobj\u001B[0m\u001B[0;34m.\u001B[0m\u001B[0m_get_layout\u001B[0m\u001B[0;34m(\u001B[0m\u001B[0mrenderer\u001B[0m\u001B[0;34m)\u001B[0m\u001B[0;34m\u001B[0m\u001B[0;34m\u001B[0m\u001B[0m\n\u001B[0m\u001B[1;32m    682\u001B[0m             \u001B[0mtrans\u001B[0m \u001B[0;34m=\u001B[0m \u001B[0mtextobj\u001B[0m\u001B[0;34m.\u001B[0m\u001B[0mget_transform\u001B[0m\u001B[0;34m(\u001B[0m\u001B[0;34m)\u001B[0m\u001B[0;34m\u001B[0m\u001B[0;34m\u001B[0m\u001B[0m\n\u001B[1;32m    683\u001B[0m \u001B[0;34m\u001B[0m\u001B[0m\n",
      "\u001B[0;32m~/opt/anaconda3/lib/python3.8/site-packages/matplotlib/text.py\u001B[0m in \u001B[0;36m_get_layout\u001B[0;34m(self, renderer)\u001B[0m\n\u001B[1;32m    293\u001B[0m             \u001B[0mclean_line\u001B[0m\u001B[0;34m,\u001B[0m \u001B[0mismath\u001B[0m \u001B[0;34m=\u001B[0m \u001B[0mself\u001B[0m\u001B[0;34m.\u001B[0m\u001B[0m_preprocess_math\u001B[0m\u001B[0;34m(\u001B[0m\u001B[0mline\u001B[0m\u001B[0;34m)\u001B[0m\u001B[0;34m\u001B[0m\u001B[0;34m\u001B[0m\u001B[0m\n\u001B[1;32m    294\u001B[0m             \u001B[0;32mif\u001B[0m \u001B[0mclean_line\u001B[0m\u001B[0;34m:\u001B[0m\u001B[0;34m\u001B[0m\u001B[0;34m\u001B[0m\u001B[0m\n\u001B[0;32m--> 295\u001B[0;31m                 w, h, d = renderer.get_text_width_height_descent(\n\u001B[0m\u001B[1;32m    296\u001B[0m                     clean_line, self._fontproperties, ismath=ismath)\n\u001B[1;32m    297\u001B[0m             \u001B[0;32melse\u001B[0m\u001B[0;34m:\u001B[0m\u001B[0;34m\u001B[0m\u001B[0;34m\u001B[0m\u001B[0m\n",
      "\u001B[0;32m~/opt/anaconda3/lib/python3.8/site-packages/matplotlib/backends/backend_svg.py\u001B[0m in \u001B[0;36mget_text_width_height_descent\u001B[0;34m(self, s, prop, ismath)\u001B[0m\n\u001B[1;32m   1275\u001B[0m     \u001B[0;32mdef\u001B[0m \u001B[0mget_text_width_height_descent\u001B[0m\u001B[0;34m(\u001B[0m\u001B[0mself\u001B[0m\u001B[0;34m,\u001B[0m \u001B[0ms\u001B[0m\u001B[0;34m,\u001B[0m \u001B[0mprop\u001B[0m\u001B[0;34m,\u001B[0m \u001B[0mismath\u001B[0m\u001B[0;34m)\u001B[0m\u001B[0;34m:\u001B[0m\u001B[0;34m\u001B[0m\u001B[0;34m\u001B[0m\u001B[0m\n\u001B[1;32m   1276\u001B[0m         \u001B[0;31m# docstring inherited\u001B[0m\u001B[0;34m\u001B[0m\u001B[0;34m\u001B[0m\u001B[0;34m\u001B[0m\u001B[0m\n\u001B[0;32m-> 1277\u001B[0;31m         \u001B[0;32mreturn\u001B[0m \u001B[0mself\u001B[0m\u001B[0;34m.\u001B[0m\u001B[0m_text2path\u001B[0m\u001B[0;34m.\u001B[0m\u001B[0mget_text_width_height_descent\u001B[0m\u001B[0;34m(\u001B[0m\u001B[0ms\u001B[0m\u001B[0;34m,\u001B[0m \u001B[0mprop\u001B[0m\u001B[0;34m,\u001B[0m \u001B[0mismath\u001B[0m\u001B[0;34m)\u001B[0m\u001B[0;34m\u001B[0m\u001B[0;34m\u001B[0m\u001B[0m\n\u001B[0m\u001B[1;32m   1278\u001B[0m \u001B[0;34m\u001B[0m\u001B[0m\n\u001B[1;32m   1279\u001B[0m \u001B[0;34m\u001B[0m\u001B[0m\n",
      "\u001B[0;32m~/opt/anaconda3/lib/python3.8/site-packages/matplotlib/textpath.py\u001B[0m in \u001B[0;36mget_text_width_height_descent\u001B[0;34m(self, s, prop, ismath)\u001B[0m\n\u001B[1;32m     72\u001B[0m \u001B[0;34m\u001B[0m\u001B[0m\n\u001B[1;32m     73\u001B[0m         \u001B[0mfont\u001B[0m \u001B[0;34m=\u001B[0m \u001B[0mself\u001B[0m\u001B[0;34m.\u001B[0m\u001B[0m_get_font\u001B[0m\u001B[0;34m(\u001B[0m\u001B[0mprop\u001B[0m\u001B[0;34m)\u001B[0m\u001B[0;34m\u001B[0m\u001B[0;34m\u001B[0m\u001B[0m\n\u001B[0;32m---> 74\u001B[0;31m         \u001B[0mfont\u001B[0m\u001B[0;34m.\u001B[0m\u001B[0mset_text\u001B[0m\u001B[0;34m(\u001B[0m\u001B[0ms\u001B[0m\u001B[0;34m,\u001B[0m \u001B[0;36m0.0\u001B[0m\u001B[0;34m,\u001B[0m \u001B[0mflags\u001B[0m\u001B[0;34m=\u001B[0m\u001B[0mLOAD_NO_HINTING\u001B[0m\u001B[0;34m)\u001B[0m\u001B[0;34m\u001B[0m\u001B[0;34m\u001B[0m\u001B[0m\n\u001B[0m\u001B[1;32m     75\u001B[0m         \u001B[0mw\u001B[0m\u001B[0;34m,\u001B[0m \u001B[0mh\u001B[0m \u001B[0;34m=\u001B[0m \u001B[0mfont\u001B[0m\u001B[0;34m.\u001B[0m\u001B[0mget_width_height\u001B[0m\u001B[0;34m(\u001B[0m\u001B[0;34m)\u001B[0m\u001B[0;34m\u001B[0m\u001B[0;34m\u001B[0m\u001B[0m\n\u001B[1;32m     76\u001B[0m         \u001B[0mw\u001B[0m \u001B[0;34m/=\u001B[0m \u001B[0;36m64.0\u001B[0m  \u001B[0;31m# convert from subpixels\u001B[0m\u001B[0;34m\u001B[0m\u001B[0;34m\u001B[0m\u001B[0m\n",
      "\u001B[0;31mKeyboardInterrupt\u001B[0m: "
     ]
    },
    {
     "name": "stdout",
     "output_type": "stream",
     "text": [
      "Error in callback <function flush_figures at 0x7fc0a0ca2820> (for post_execute):\n"
     ]
    },
    {
     "ename": "KeyboardInterrupt",
     "evalue": "",
     "output_type": "error",
     "traceback": [
      "\u001B[0;31m---------------------------------------------------------------------------\u001B[0m",
      "\u001B[0;31mKeyboardInterrupt\u001B[0m                         Traceback (most recent call last)",
      "\u001B[0;32m~/opt/anaconda3/lib/python3.8/site-packages/ipykernel/pylab/backend_inline.py\u001B[0m in \u001B[0;36mflush_figures\u001B[0;34m()\u001B[0m\n\u001B[1;32m    119\u001B[0m         \u001B[0;31m# ignore the tracking, just draw and close all figures\u001B[0m\u001B[0;34m\u001B[0m\u001B[0;34m\u001B[0m\u001B[0;34m\u001B[0m\u001B[0m\n\u001B[1;32m    120\u001B[0m         \u001B[0;32mtry\u001B[0m\u001B[0;34m:\u001B[0m\u001B[0;34m\u001B[0m\u001B[0;34m\u001B[0m\u001B[0m\n\u001B[0;32m--> 121\u001B[0;31m             \u001B[0;32mreturn\u001B[0m \u001B[0mshow\u001B[0m\u001B[0;34m(\u001B[0m\u001B[0;32mTrue\u001B[0m\u001B[0;34m)\u001B[0m\u001B[0;34m\u001B[0m\u001B[0;34m\u001B[0m\u001B[0m\n\u001B[0m\u001B[1;32m    122\u001B[0m         \u001B[0;32mexcept\u001B[0m \u001B[0mException\u001B[0m \u001B[0;32mas\u001B[0m \u001B[0me\u001B[0m\u001B[0;34m:\u001B[0m\u001B[0;34m\u001B[0m\u001B[0;34m\u001B[0m\u001B[0m\n\u001B[1;32m    123\u001B[0m             \u001B[0;31m# safely show traceback if in IPython, else raise\u001B[0m\u001B[0;34m\u001B[0m\u001B[0;34m\u001B[0m\u001B[0;34m\u001B[0m\u001B[0m\n",
      "\u001B[0;32m~/opt/anaconda3/lib/python3.8/site-packages/ipykernel/pylab/backend_inline.py\u001B[0m in \u001B[0;36mshow\u001B[0;34m(close, block)\u001B[0m\n\u001B[1;32m     39\u001B[0m     \u001B[0;32mtry\u001B[0m\u001B[0;34m:\u001B[0m\u001B[0;34m\u001B[0m\u001B[0;34m\u001B[0m\u001B[0m\n\u001B[1;32m     40\u001B[0m         \u001B[0;32mfor\u001B[0m \u001B[0mfigure_manager\u001B[0m \u001B[0;32min\u001B[0m \u001B[0mGcf\u001B[0m\u001B[0;34m.\u001B[0m\u001B[0mget_all_fig_managers\u001B[0m\u001B[0;34m(\u001B[0m\u001B[0;34m)\u001B[0m\u001B[0;34m:\u001B[0m\u001B[0;34m\u001B[0m\u001B[0;34m\u001B[0m\u001B[0m\n\u001B[0;32m---> 41\u001B[0;31m             display(\n\u001B[0m\u001B[1;32m     42\u001B[0m                 \u001B[0mfigure_manager\u001B[0m\u001B[0;34m.\u001B[0m\u001B[0mcanvas\u001B[0m\u001B[0;34m.\u001B[0m\u001B[0mfigure\u001B[0m\u001B[0;34m,\u001B[0m\u001B[0;34m\u001B[0m\u001B[0;34m\u001B[0m\u001B[0m\n\u001B[1;32m     43\u001B[0m                 \u001B[0mmetadata\u001B[0m\u001B[0;34m=\u001B[0m\u001B[0m_fetch_figure_metadata\u001B[0m\u001B[0;34m(\u001B[0m\u001B[0mfigure_manager\u001B[0m\u001B[0;34m.\u001B[0m\u001B[0mcanvas\u001B[0m\u001B[0;34m.\u001B[0m\u001B[0mfigure\u001B[0m\u001B[0;34m)\u001B[0m\u001B[0;34m\u001B[0m\u001B[0;34m\u001B[0m\u001B[0m\n",
      "\u001B[0;32m~/opt/anaconda3/lib/python3.8/site-packages/IPython/core/display.py\u001B[0m in \u001B[0;36mdisplay\u001B[0;34m(include, exclude, metadata, transient, display_id, *objs, **kwargs)\u001B[0m\n\u001B[1;32m    311\u001B[0m             \u001B[0mpublish_display_data\u001B[0m\u001B[0;34m(\u001B[0m\u001B[0mdata\u001B[0m\u001B[0;34m=\u001B[0m\u001B[0mobj\u001B[0m\u001B[0;34m,\u001B[0m \u001B[0mmetadata\u001B[0m\u001B[0;34m=\u001B[0m\u001B[0mmetadata\u001B[0m\u001B[0;34m,\u001B[0m \u001B[0;34m**\u001B[0m\u001B[0mkwargs\u001B[0m\u001B[0;34m)\u001B[0m\u001B[0;34m\u001B[0m\u001B[0;34m\u001B[0m\u001B[0m\n\u001B[1;32m    312\u001B[0m         \u001B[0;32melse\u001B[0m\u001B[0;34m:\u001B[0m\u001B[0;34m\u001B[0m\u001B[0;34m\u001B[0m\u001B[0m\n\u001B[0;32m--> 313\u001B[0;31m             \u001B[0mformat_dict\u001B[0m\u001B[0;34m,\u001B[0m \u001B[0mmd_dict\u001B[0m \u001B[0;34m=\u001B[0m \u001B[0mformat\u001B[0m\u001B[0;34m(\u001B[0m\u001B[0mobj\u001B[0m\u001B[0;34m,\u001B[0m \u001B[0minclude\u001B[0m\u001B[0;34m=\u001B[0m\u001B[0minclude\u001B[0m\u001B[0;34m,\u001B[0m \u001B[0mexclude\u001B[0m\u001B[0;34m=\u001B[0m\u001B[0mexclude\u001B[0m\u001B[0;34m)\u001B[0m\u001B[0;34m\u001B[0m\u001B[0;34m\u001B[0m\u001B[0m\n\u001B[0m\u001B[1;32m    314\u001B[0m             \u001B[0;32mif\u001B[0m \u001B[0;32mnot\u001B[0m \u001B[0mformat_dict\u001B[0m\u001B[0;34m:\u001B[0m\u001B[0;34m\u001B[0m\u001B[0;34m\u001B[0m\u001B[0m\n\u001B[1;32m    315\u001B[0m                 \u001B[0;31m# nothing to display (e.g. _ipython_display_ took over)\u001B[0m\u001B[0;34m\u001B[0m\u001B[0;34m\u001B[0m\u001B[0;34m\u001B[0m\u001B[0m\n",
      "\u001B[0;32m~/opt/anaconda3/lib/python3.8/site-packages/IPython/core/formatters.py\u001B[0m in \u001B[0;36mformat\u001B[0;34m(self, obj, include, exclude)\u001B[0m\n\u001B[1;32m    178\u001B[0m             \u001B[0mmd\u001B[0m \u001B[0;34m=\u001B[0m \u001B[0;32mNone\u001B[0m\u001B[0;34m\u001B[0m\u001B[0;34m\u001B[0m\u001B[0m\n\u001B[1;32m    179\u001B[0m             \u001B[0;32mtry\u001B[0m\u001B[0;34m:\u001B[0m\u001B[0;34m\u001B[0m\u001B[0;34m\u001B[0m\u001B[0m\n\u001B[0;32m--> 180\u001B[0;31m                 \u001B[0mdata\u001B[0m \u001B[0;34m=\u001B[0m \u001B[0mformatter\u001B[0m\u001B[0;34m(\u001B[0m\u001B[0mobj\u001B[0m\u001B[0;34m)\u001B[0m\u001B[0;34m\u001B[0m\u001B[0;34m\u001B[0m\u001B[0m\n\u001B[0m\u001B[1;32m    181\u001B[0m             \u001B[0;32mexcept\u001B[0m\u001B[0;34m:\u001B[0m\u001B[0;34m\u001B[0m\u001B[0;34m\u001B[0m\u001B[0m\n\u001B[1;32m    182\u001B[0m                 \u001B[0;31m# FIXME: log the exception\u001B[0m\u001B[0;34m\u001B[0m\u001B[0;34m\u001B[0m\u001B[0;34m\u001B[0m\u001B[0m\n",
      "\u001B[0;32m~/opt/anaconda3/lib/python3.8/site-packages/decorator.py\u001B[0m in \u001B[0;36mfun\u001B[0;34m(*args, **kw)\u001B[0m\n\u001B[1;32m    229\u001B[0m             \u001B[0;32mif\u001B[0m \u001B[0;32mnot\u001B[0m \u001B[0mkwsyntax\u001B[0m\u001B[0;34m:\u001B[0m\u001B[0;34m\u001B[0m\u001B[0;34m\u001B[0m\u001B[0m\n\u001B[1;32m    230\u001B[0m                 \u001B[0margs\u001B[0m\u001B[0;34m,\u001B[0m \u001B[0mkw\u001B[0m \u001B[0;34m=\u001B[0m \u001B[0mfix\u001B[0m\u001B[0;34m(\u001B[0m\u001B[0margs\u001B[0m\u001B[0;34m,\u001B[0m \u001B[0mkw\u001B[0m\u001B[0;34m,\u001B[0m \u001B[0msig\u001B[0m\u001B[0;34m)\u001B[0m\u001B[0;34m\u001B[0m\u001B[0;34m\u001B[0m\u001B[0m\n\u001B[0;32m--> 231\u001B[0;31m             \u001B[0;32mreturn\u001B[0m \u001B[0mcaller\u001B[0m\u001B[0;34m(\u001B[0m\u001B[0mfunc\u001B[0m\u001B[0;34m,\u001B[0m \u001B[0;34m*\u001B[0m\u001B[0;34m(\u001B[0m\u001B[0mextras\u001B[0m \u001B[0;34m+\u001B[0m \u001B[0margs\u001B[0m\u001B[0;34m)\u001B[0m\u001B[0;34m,\u001B[0m \u001B[0;34m**\u001B[0m\u001B[0mkw\u001B[0m\u001B[0;34m)\u001B[0m\u001B[0;34m\u001B[0m\u001B[0;34m\u001B[0m\u001B[0m\n\u001B[0m\u001B[1;32m    232\u001B[0m     \u001B[0mfun\u001B[0m\u001B[0;34m.\u001B[0m\u001B[0m__name__\u001B[0m \u001B[0;34m=\u001B[0m \u001B[0mfunc\u001B[0m\u001B[0;34m.\u001B[0m\u001B[0m__name__\u001B[0m\u001B[0;34m\u001B[0m\u001B[0;34m\u001B[0m\u001B[0m\n\u001B[1;32m    233\u001B[0m     \u001B[0mfun\u001B[0m\u001B[0;34m.\u001B[0m\u001B[0m__doc__\u001B[0m \u001B[0;34m=\u001B[0m \u001B[0mfunc\u001B[0m\u001B[0;34m.\u001B[0m\u001B[0m__doc__\u001B[0m\u001B[0;34m\u001B[0m\u001B[0;34m\u001B[0m\u001B[0m\n",
      "\u001B[0;32m~/opt/anaconda3/lib/python3.8/site-packages/IPython/core/formatters.py\u001B[0m in \u001B[0;36mcatch_format_error\u001B[0;34m(method, self, *args, **kwargs)\u001B[0m\n\u001B[1;32m    222\u001B[0m     \u001B[0;34m\"\"\"show traceback on failed format call\"\"\"\u001B[0m\u001B[0;34m\u001B[0m\u001B[0;34m\u001B[0m\u001B[0m\n\u001B[1;32m    223\u001B[0m     \u001B[0;32mtry\u001B[0m\u001B[0;34m:\u001B[0m\u001B[0;34m\u001B[0m\u001B[0;34m\u001B[0m\u001B[0m\n\u001B[0;32m--> 224\u001B[0;31m         \u001B[0mr\u001B[0m \u001B[0;34m=\u001B[0m \u001B[0mmethod\u001B[0m\u001B[0;34m(\u001B[0m\u001B[0mself\u001B[0m\u001B[0;34m,\u001B[0m \u001B[0;34m*\u001B[0m\u001B[0margs\u001B[0m\u001B[0;34m,\u001B[0m \u001B[0;34m**\u001B[0m\u001B[0mkwargs\u001B[0m\u001B[0;34m)\u001B[0m\u001B[0;34m\u001B[0m\u001B[0;34m\u001B[0m\u001B[0m\n\u001B[0m\u001B[1;32m    225\u001B[0m     \u001B[0;32mexcept\u001B[0m \u001B[0mNotImplementedError\u001B[0m\u001B[0;34m:\u001B[0m\u001B[0;34m\u001B[0m\u001B[0;34m\u001B[0m\u001B[0m\n\u001B[1;32m    226\u001B[0m         \u001B[0;31m# don't warn on NotImplementedErrors\u001B[0m\u001B[0;34m\u001B[0m\u001B[0;34m\u001B[0m\u001B[0;34m\u001B[0m\u001B[0m\n",
      "\u001B[0;32m~/opt/anaconda3/lib/python3.8/site-packages/IPython/core/formatters.py\u001B[0m in \u001B[0;36m__call__\u001B[0;34m(self, obj)\u001B[0m\n\u001B[1;32m    339\u001B[0m                 \u001B[0;32mpass\u001B[0m\u001B[0;34m\u001B[0m\u001B[0;34m\u001B[0m\u001B[0m\n\u001B[1;32m    340\u001B[0m             \u001B[0;32melse\u001B[0m\u001B[0;34m:\u001B[0m\u001B[0;34m\u001B[0m\u001B[0;34m\u001B[0m\u001B[0m\n\u001B[0;32m--> 341\u001B[0;31m                 \u001B[0;32mreturn\u001B[0m \u001B[0mprinter\u001B[0m\u001B[0;34m(\u001B[0m\u001B[0mobj\u001B[0m\u001B[0;34m)\u001B[0m\u001B[0;34m\u001B[0m\u001B[0;34m\u001B[0m\u001B[0m\n\u001B[0m\u001B[1;32m    342\u001B[0m             \u001B[0;31m# Finally look for special method names\u001B[0m\u001B[0;34m\u001B[0m\u001B[0;34m\u001B[0m\u001B[0;34m\u001B[0m\u001B[0m\n\u001B[1;32m    343\u001B[0m             \u001B[0mmethod\u001B[0m \u001B[0;34m=\u001B[0m \u001B[0mget_real_method\u001B[0m\u001B[0;34m(\u001B[0m\u001B[0mobj\u001B[0m\u001B[0;34m,\u001B[0m \u001B[0mself\u001B[0m\u001B[0;34m.\u001B[0m\u001B[0mprint_method\u001B[0m\u001B[0;34m)\u001B[0m\u001B[0;34m\u001B[0m\u001B[0;34m\u001B[0m\u001B[0m\n",
      "\u001B[0;32m~/opt/anaconda3/lib/python3.8/site-packages/IPython/core/pylabtools.py\u001B[0m in \u001B[0;36m<lambda>\u001B[0;34m(fig)\u001B[0m\n\u001B[1;32m    246\u001B[0m \u001B[0;34m\u001B[0m\u001B[0m\n\u001B[1;32m    247\u001B[0m     \u001B[0;32mif\u001B[0m \u001B[0;34m'png'\u001B[0m \u001B[0;32min\u001B[0m \u001B[0mformats\u001B[0m\u001B[0;34m:\u001B[0m\u001B[0;34m\u001B[0m\u001B[0;34m\u001B[0m\u001B[0m\n\u001B[0;32m--> 248\u001B[0;31m         \u001B[0mpng_formatter\u001B[0m\u001B[0;34m.\u001B[0m\u001B[0mfor_type\u001B[0m\u001B[0;34m(\u001B[0m\u001B[0mFigure\u001B[0m\u001B[0;34m,\u001B[0m \u001B[0;32mlambda\u001B[0m \u001B[0mfig\u001B[0m\u001B[0;34m:\u001B[0m \u001B[0mprint_figure\u001B[0m\u001B[0;34m(\u001B[0m\u001B[0mfig\u001B[0m\u001B[0;34m,\u001B[0m \u001B[0;34m'png'\u001B[0m\u001B[0;34m,\u001B[0m \u001B[0;34m**\u001B[0m\u001B[0mkwargs\u001B[0m\u001B[0;34m)\u001B[0m\u001B[0;34m)\u001B[0m\u001B[0;34m\u001B[0m\u001B[0;34m\u001B[0m\u001B[0m\n\u001B[0m\u001B[1;32m    249\u001B[0m     \u001B[0;32mif\u001B[0m \u001B[0;34m'retina'\u001B[0m \u001B[0;32min\u001B[0m \u001B[0mformats\u001B[0m \u001B[0;32mor\u001B[0m \u001B[0;34m'png2x'\u001B[0m \u001B[0;32min\u001B[0m \u001B[0mformats\u001B[0m\u001B[0;34m:\u001B[0m\u001B[0;34m\u001B[0m\u001B[0;34m\u001B[0m\u001B[0m\n\u001B[1;32m    250\u001B[0m         \u001B[0mpng_formatter\u001B[0m\u001B[0;34m.\u001B[0m\u001B[0mfor_type\u001B[0m\u001B[0;34m(\u001B[0m\u001B[0mFigure\u001B[0m\u001B[0;34m,\u001B[0m \u001B[0;32mlambda\u001B[0m \u001B[0mfig\u001B[0m\u001B[0;34m:\u001B[0m \u001B[0mretina_figure\u001B[0m\u001B[0;34m(\u001B[0m\u001B[0mfig\u001B[0m\u001B[0;34m,\u001B[0m \u001B[0;34m**\u001B[0m\u001B[0mkwargs\u001B[0m\u001B[0;34m)\u001B[0m\u001B[0;34m)\u001B[0m\u001B[0;34m\u001B[0m\u001B[0;34m\u001B[0m\u001B[0m\n",
      "\u001B[0;32m~/opt/anaconda3/lib/python3.8/site-packages/IPython/core/pylabtools.py\u001B[0m in \u001B[0;36mprint_figure\u001B[0;34m(fig, fmt, bbox_inches, **kwargs)\u001B[0m\n\u001B[1;32m    130\u001B[0m         \u001B[0mFigureCanvasBase\u001B[0m\u001B[0;34m(\u001B[0m\u001B[0mfig\u001B[0m\u001B[0;34m)\u001B[0m\u001B[0;34m\u001B[0m\u001B[0;34m\u001B[0m\u001B[0m\n\u001B[1;32m    131\u001B[0m \u001B[0;34m\u001B[0m\u001B[0m\n\u001B[0;32m--> 132\u001B[0;31m     \u001B[0mfig\u001B[0m\u001B[0;34m.\u001B[0m\u001B[0mcanvas\u001B[0m\u001B[0;34m.\u001B[0m\u001B[0mprint_figure\u001B[0m\u001B[0;34m(\u001B[0m\u001B[0mbytes_io\u001B[0m\u001B[0;34m,\u001B[0m \u001B[0;34m**\u001B[0m\u001B[0mkw\u001B[0m\u001B[0;34m)\u001B[0m\u001B[0;34m\u001B[0m\u001B[0;34m\u001B[0m\u001B[0m\n\u001B[0m\u001B[1;32m    133\u001B[0m     \u001B[0mdata\u001B[0m \u001B[0;34m=\u001B[0m \u001B[0mbytes_io\u001B[0m\u001B[0;34m.\u001B[0m\u001B[0mgetvalue\u001B[0m\u001B[0;34m(\u001B[0m\u001B[0;34m)\u001B[0m\u001B[0;34m\u001B[0m\u001B[0;34m\u001B[0m\u001B[0m\n\u001B[1;32m    134\u001B[0m     \u001B[0;32mif\u001B[0m \u001B[0mfmt\u001B[0m \u001B[0;34m==\u001B[0m \u001B[0;34m'svg'\u001B[0m\u001B[0;34m:\u001B[0m\u001B[0;34m\u001B[0m\u001B[0;34m\u001B[0m\u001B[0m\n",
      "\u001B[0;32m~/opt/anaconda3/lib/python3.8/site-packages/matplotlib/backend_bases.py\u001B[0m in \u001B[0;36mprint_figure\u001B[0;34m(self, filename, dpi, facecolor, edgecolor, orientation, format, bbox_inches, pad_inches, bbox_extra_artists, backend, **kwargs)\u001B[0m\n\u001B[1;32m   2193\u001B[0m                         \u001B[0mself\u001B[0m\u001B[0;34m.\u001B[0m\u001B[0mfigure\u001B[0m\u001B[0;34m.\u001B[0m\u001B[0mdraw\u001B[0m\u001B[0;34m(\u001B[0m\u001B[0mrenderer\u001B[0m\u001B[0;34m)\u001B[0m\u001B[0;34m\u001B[0m\u001B[0;34m\u001B[0m\u001B[0m\n\u001B[1;32m   2194\u001B[0m \u001B[0;34m\u001B[0m\u001B[0m\n\u001B[0;32m-> 2195\u001B[0;31m                     bbox_inches = self.figure.get_tightbbox(\n\u001B[0m\u001B[1;32m   2196\u001B[0m                         renderer, bbox_extra_artists=bbox_extra_artists)\n\u001B[1;32m   2197\u001B[0m                     \u001B[0;32mif\u001B[0m \u001B[0mpad_inches\u001B[0m \u001B[0;32mis\u001B[0m \u001B[0;32mNone\u001B[0m\u001B[0;34m:\u001B[0m\u001B[0;34m\u001B[0m\u001B[0;34m\u001B[0m\u001B[0m\n",
      "\u001B[0;32m~/opt/anaconda3/lib/python3.8/site-packages/matplotlib/figure.py\u001B[0m in \u001B[0;36mget_tightbbox\u001B[0;34m(self, renderer, bbox_extra_artists)\u001B[0m\n\u001B[1;32m   2513\u001B[0m                 \u001B[0;31m# need this conditional....\u001B[0m\u001B[0;34m\u001B[0m\u001B[0;34m\u001B[0m\u001B[0;34m\u001B[0m\u001B[0m\n\u001B[1;32m   2514\u001B[0m                 \u001B[0;32mtry\u001B[0m\u001B[0;34m:\u001B[0m\u001B[0;34m\u001B[0m\u001B[0;34m\u001B[0m\u001B[0m\n\u001B[0;32m-> 2515\u001B[0;31m                     bbox = ax.get_tightbbox(\n\u001B[0m\u001B[1;32m   2516\u001B[0m                         renderer, bbox_extra_artists=bbox_extra_artists)\n\u001B[1;32m   2517\u001B[0m                 \u001B[0;32mexcept\u001B[0m \u001B[0mTypeError\u001B[0m\u001B[0;34m:\u001B[0m\u001B[0;34m\u001B[0m\u001B[0;34m\u001B[0m\u001B[0m\n",
      "\u001B[0;32m~/opt/anaconda3/lib/python3.8/site-packages/matplotlib/axes/_base.py\u001B[0m in \u001B[0;36mget_tightbbox\u001B[0;34m(self, renderer, call_axes_locator, bbox_extra_artists, for_layout_only)\u001B[0m\n\u001B[1;32m   4151\u001B[0m             \u001B[0;32mif\u001B[0m \u001B[0mself\u001B[0m\u001B[0;34m.\u001B[0m\u001B[0mxaxis\u001B[0m\u001B[0;34m.\u001B[0m\u001B[0mget_visible\u001B[0m\u001B[0;34m(\u001B[0m\u001B[0;34m)\u001B[0m\u001B[0;34m:\u001B[0m\u001B[0;34m\u001B[0m\u001B[0;34m\u001B[0m\u001B[0m\n\u001B[1;32m   4152\u001B[0m                 \u001B[0;32mtry\u001B[0m\u001B[0;34m:\u001B[0m\u001B[0;34m\u001B[0m\u001B[0;34m\u001B[0m\u001B[0m\n\u001B[0;32m-> 4153\u001B[0;31m                     bb_xaxis = self.xaxis.get_tightbbox(\n\u001B[0m\u001B[1;32m   4154\u001B[0m                         renderer, for_layout_only=for_layout_only)\n\u001B[1;32m   4155\u001B[0m                 \u001B[0;32mexcept\u001B[0m \u001B[0mTypeError\u001B[0m\u001B[0;34m:\u001B[0m\u001B[0;34m\u001B[0m\u001B[0;34m\u001B[0m\u001B[0m\n",
      "\u001B[0;32m~/opt/anaconda3/lib/python3.8/site-packages/matplotlib/axis.py\u001B[0m in \u001B[0;36mget_tightbbox\u001B[0;34m(self, renderer, for_layout_only)\u001B[0m\n\u001B[1;32m   1109\u001B[0m         \u001B[0mticks_to_draw\u001B[0m \u001B[0;34m=\u001B[0m \u001B[0mself\u001B[0m\u001B[0;34m.\u001B[0m\u001B[0m_update_ticks\u001B[0m\u001B[0;34m(\u001B[0m\u001B[0;34m)\u001B[0m\u001B[0;34m\u001B[0m\u001B[0;34m\u001B[0m\u001B[0m\n\u001B[1;32m   1110\u001B[0m \u001B[0;34m\u001B[0m\u001B[0m\n\u001B[0;32m-> 1111\u001B[0;31m         \u001B[0mself\u001B[0m\u001B[0;34m.\u001B[0m\u001B[0m_update_label_position\u001B[0m\u001B[0;34m(\u001B[0m\u001B[0mrenderer\u001B[0m\u001B[0;34m)\u001B[0m\u001B[0;34m\u001B[0m\u001B[0;34m\u001B[0m\u001B[0m\n\u001B[0m\u001B[1;32m   1112\u001B[0m \u001B[0;34m\u001B[0m\u001B[0m\n\u001B[1;32m   1113\u001B[0m         \u001B[0;31m# go back to just this axis's tick labels\u001B[0m\u001B[0;34m\u001B[0m\u001B[0;34m\u001B[0m\u001B[0;34m\u001B[0m\u001B[0m\n",
      "\u001B[0;32m~/opt/anaconda3/lib/python3.8/site-packages/matplotlib/axis.py\u001B[0m in \u001B[0;36m_update_label_position\u001B[0;34m(self, renderer)\u001B[0m\n\u001B[1;32m   2059\u001B[0m         \u001B[0;31m# get bounding boxes for this axis and any siblings\u001B[0m\u001B[0;34m\u001B[0m\u001B[0;34m\u001B[0m\u001B[0;34m\u001B[0m\u001B[0m\n\u001B[1;32m   2060\u001B[0m         \u001B[0;31m# that have been set by `fig.align_xlabels()`\u001B[0m\u001B[0;34m\u001B[0m\u001B[0;34m\u001B[0m\u001B[0;34m\u001B[0m\u001B[0m\n\u001B[0;32m-> 2061\u001B[0;31m         \u001B[0mbboxes\u001B[0m\u001B[0;34m,\u001B[0m \u001B[0mbboxes2\u001B[0m \u001B[0;34m=\u001B[0m \u001B[0mself\u001B[0m\u001B[0;34m.\u001B[0m\u001B[0m_get_tick_boxes_siblings\u001B[0m\u001B[0;34m(\u001B[0m\u001B[0mrenderer\u001B[0m\u001B[0;34m=\u001B[0m\u001B[0mrenderer\u001B[0m\u001B[0;34m)\u001B[0m\u001B[0;34m\u001B[0m\u001B[0;34m\u001B[0m\u001B[0m\n\u001B[0m\u001B[1;32m   2062\u001B[0m \u001B[0;34m\u001B[0m\u001B[0m\n\u001B[1;32m   2063\u001B[0m         \u001B[0mx\u001B[0m\u001B[0;34m,\u001B[0m \u001B[0my\u001B[0m \u001B[0;34m=\u001B[0m \u001B[0mself\u001B[0m\u001B[0;34m.\u001B[0m\u001B[0mlabel\u001B[0m\u001B[0;34m.\u001B[0m\u001B[0mget_position\u001B[0m\u001B[0;34m(\u001B[0m\u001B[0;34m)\u001B[0m\u001B[0;34m\u001B[0m\u001B[0;34m\u001B[0m\u001B[0m\n",
      "\u001B[0;32m~/opt/anaconda3/lib/python3.8/site-packages/matplotlib/axis.py\u001B[0m in \u001B[0;36m_get_tick_boxes_siblings\u001B[0;34m(self, renderer)\u001B[0m\n\u001B[1;32m   2044\u001B[0m         \u001B[0;32mfor\u001B[0m \u001B[0mnn\u001B[0m\u001B[0;34m,\u001B[0m \u001B[0maxx\u001B[0m \u001B[0;32min\u001B[0m \u001B[0menumerate\u001B[0m\u001B[0;34m(\u001B[0m\u001B[0mgrp\u001B[0m\u001B[0;34m.\u001B[0m\u001B[0mget_siblings\u001B[0m\u001B[0;34m(\u001B[0m\u001B[0mself\u001B[0m\u001B[0;34m.\u001B[0m\u001B[0maxes\u001B[0m\u001B[0;34m)\u001B[0m\u001B[0;34m)\u001B[0m\u001B[0;34m:\u001B[0m\u001B[0;34m\u001B[0m\u001B[0;34m\u001B[0m\u001B[0m\n\u001B[1;32m   2045\u001B[0m             \u001B[0mticks_to_draw\u001B[0m \u001B[0;34m=\u001B[0m \u001B[0maxx\u001B[0m\u001B[0;34m.\u001B[0m\u001B[0mxaxis\u001B[0m\u001B[0;34m.\u001B[0m\u001B[0m_update_ticks\u001B[0m\u001B[0;34m(\u001B[0m\u001B[0;34m)\u001B[0m\u001B[0;34m\u001B[0m\u001B[0;34m\u001B[0m\u001B[0m\n\u001B[0;32m-> 2046\u001B[0;31m             \u001B[0mtlb\u001B[0m\u001B[0;34m,\u001B[0m \u001B[0mtlb2\u001B[0m \u001B[0;34m=\u001B[0m \u001B[0maxx\u001B[0m\u001B[0;34m.\u001B[0m\u001B[0mxaxis\u001B[0m\u001B[0;34m.\u001B[0m\u001B[0m_get_tick_bboxes\u001B[0m\u001B[0;34m(\u001B[0m\u001B[0mticks_to_draw\u001B[0m\u001B[0;34m,\u001B[0m \u001B[0mrenderer\u001B[0m\u001B[0;34m)\u001B[0m\u001B[0;34m\u001B[0m\u001B[0;34m\u001B[0m\u001B[0m\n\u001B[0m\u001B[1;32m   2047\u001B[0m             \u001B[0mbboxes\u001B[0m\u001B[0;34m.\u001B[0m\u001B[0mextend\u001B[0m\u001B[0;34m(\u001B[0m\u001B[0mtlb\u001B[0m\u001B[0;34m)\u001B[0m\u001B[0;34m\u001B[0m\u001B[0;34m\u001B[0m\u001B[0m\n\u001B[1;32m   2048\u001B[0m             \u001B[0mbboxes2\u001B[0m\u001B[0;34m.\u001B[0m\u001B[0mextend\u001B[0m\u001B[0;34m(\u001B[0m\u001B[0mtlb2\u001B[0m\u001B[0;34m)\u001B[0m\u001B[0;34m\u001B[0m\u001B[0;34m\u001B[0m\u001B[0m\n",
      "\u001B[0;32m~/opt/anaconda3/lib/python3.8/site-packages/matplotlib/axis.py\u001B[0m in \u001B[0;36m_get_tick_bboxes\u001B[0;34m(self, ticks, renderer)\u001B[0m\n\u001B[1;32m   1089\u001B[0m     \u001B[0;32mdef\u001B[0m \u001B[0m_get_tick_bboxes\u001B[0m\u001B[0;34m(\u001B[0m\u001B[0mself\u001B[0m\u001B[0;34m,\u001B[0m \u001B[0mticks\u001B[0m\u001B[0;34m,\u001B[0m \u001B[0mrenderer\u001B[0m\u001B[0;34m)\u001B[0m\u001B[0;34m:\u001B[0m\u001B[0;34m\u001B[0m\u001B[0;34m\u001B[0m\u001B[0m\n\u001B[1;32m   1090\u001B[0m         \u001B[0;34m\"\"\"Return lists of bboxes for ticks' label1's and label2's.\"\"\"\u001B[0m\u001B[0;34m\u001B[0m\u001B[0;34m\u001B[0m\u001B[0m\n\u001B[0;32m-> 1091\u001B[0;31m         return ([tick.label1.get_window_extent(renderer)\n\u001B[0m\u001B[1;32m   1092\u001B[0m                  for tick in ticks if tick.label1.get_visible()],\n\u001B[1;32m   1093\u001B[0m                 [tick.label2.get_window_extent(renderer)\n",
      "\u001B[0;32m~/opt/anaconda3/lib/python3.8/site-packages/matplotlib/axis.py\u001B[0m in \u001B[0;36m<listcomp>\u001B[0;34m(.0)\u001B[0m\n\u001B[1;32m   1089\u001B[0m     \u001B[0;32mdef\u001B[0m \u001B[0m_get_tick_bboxes\u001B[0m\u001B[0;34m(\u001B[0m\u001B[0mself\u001B[0m\u001B[0;34m,\u001B[0m \u001B[0mticks\u001B[0m\u001B[0;34m,\u001B[0m \u001B[0mrenderer\u001B[0m\u001B[0;34m)\u001B[0m\u001B[0;34m:\u001B[0m\u001B[0;34m\u001B[0m\u001B[0;34m\u001B[0m\u001B[0m\n\u001B[1;32m   1090\u001B[0m         \u001B[0;34m\"\"\"Return lists of bboxes for ticks' label1's and label2's.\"\"\"\u001B[0m\u001B[0;34m\u001B[0m\u001B[0;34m\u001B[0m\u001B[0m\n\u001B[0;32m-> 1091\u001B[0;31m         return ([tick.label1.get_window_extent(renderer)\n\u001B[0m\u001B[1;32m   1092\u001B[0m                  for tick in ticks if tick.label1.get_visible()],\n\u001B[1;32m   1093\u001B[0m                 [tick.label2.get_window_extent(renderer)\n",
      "\u001B[0;32m~/opt/anaconda3/lib/python3.8/site-packages/matplotlib/text.py\u001B[0m in \u001B[0;36mget_window_extent\u001B[0;34m(self, renderer, dpi)\u001B[0m\n\u001B[1;32m    900\u001B[0m \u001B[0;34m\u001B[0m\u001B[0m\n\u001B[1;32m    901\u001B[0m         \u001B[0;32mwith\u001B[0m \u001B[0mcbook\u001B[0m\u001B[0;34m.\u001B[0m\u001B[0m_setattr_cm\u001B[0m\u001B[0;34m(\u001B[0m\u001B[0mself\u001B[0m\u001B[0;34m.\u001B[0m\u001B[0mfigure\u001B[0m\u001B[0;34m,\u001B[0m \u001B[0mdpi\u001B[0m\u001B[0;34m=\u001B[0m\u001B[0mdpi\u001B[0m\u001B[0;34m)\u001B[0m\u001B[0;34m:\u001B[0m\u001B[0;34m\u001B[0m\u001B[0;34m\u001B[0m\u001B[0m\n\u001B[0;32m--> 902\u001B[0;31m             \u001B[0mbbox\u001B[0m\u001B[0;34m,\u001B[0m \u001B[0minfo\u001B[0m\u001B[0;34m,\u001B[0m \u001B[0mdescent\u001B[0m \u001B[0;34m=\u001B[0m \u001B[0mself\u001B[0m\u001B[0;34m.\u001B[0m\u001B[0m_get_layout\u001B[0m\u001B[0;34m(\u001B[0m\u001B[0mself\u001B[0m\u001B[0;34m.\u001B[0m\u001B[0m_renderer\u001B[0m\u001B[0;34m)\u001B[0m\u001B[0;34m\u001B[0m\u001B[0;34m\u001B[0m\u001B[0m\n\u001B[0m\u001B[1;32m    903\u001B[0m             \u001B[0mx\u001B[0m\u001B[0;34m,\u001B[0m \u001B[0my\u001B[0m \u001B[0;34m=\u001B[0m \u001B[0mself\u001B[0m\u001B[0;34m.\u001B[0m\u001B[0mget_unitless_position\u001B[0m\u001B[0;34m(\u001B[0m\u001B[0;34m)\u001B[0m\u001B[0;34m\u001B[0m\u001B[0;34m\u001B[0m\u001B[0m\n\u001B[1;32m    904\u001B[0m             \u001B[0mx\u001B[0m\u001B[0;34m,\u001B[0m \u001B[0my\u001B[0m \u001B[0;34m=\u001B[0m \u001B[0mself\u001B[0m\u001B[0;34m.\u001B[0m\u001B[0mget_transform\u001B[0m\u001B[0;34m(\u001B[0m\u001B[0;34m)\u001B[0m\u001B[0;34m.\u001B[0m\u001B[0mtransform\u001B[0m\u001B[0;34m(\u001B[0m\u001B[0;34m(\u001B[0m\u001B[0mx\u001B[0m\u001B[0;34m,\u001B[0m \u001B[0my\u001B[0m\u001B[0;34m)\u001B[0m\u001B[0;34m)\u001B[0m\u001B[0;34m\u001B[0m\u001B[0;34m\u001B[0m\u001B[0m\n",
      "\u001B[0;32m~/opt/anaconda3/lib/python3.8/site-packages/matplotlib/text.py\u001B[0m in \u001B[0;36m_get_layout\u001B[0;34m(self, renderer)\u001B[0m\n\u001B[1;32m    285\u001B[0m \u001B[0;34m\u001B[0m\u001B[0m\n\u001B[1;32m    286\u001B[0m         \u001B[0;31m# Full vertical extent of font, including ascenders and descenders:\u001B[0m\u001B[0;34m\u001B[0m\u001B[0;34m\u001B[0m\u001B[0;34m\u001B[0m\u001B[0m\n\u001B[0;32m--> 287\u001B[0;31m         _, lp_h, lp_d = renderer.get_text_width_height_descent(\n\u001B[0m\u001B[1;32m    288\u001B[0m             \u001B[0;34m\"lp\"\u001B[0m\u001B[0;34m,\u001B[0m \u001B[0mself\u001B[0m\u001B[0;34m.\u001B[0m\u001B[0m_fontproperties\u001B[0m\u001B[0;34m,\u001B[0m\u001B[0;34m\u001B[0m\u001B[0;34m\u001B[0m\u001B[0m\n\u001B[1;32m    289\u001B[0m             ismath=\"TeX\" if self.get_usetex() else False)\n",
      "\u001B[0;32m~/opt/anaconda3/lib/python3.8/site-packages/matplotlib/backends/backend_agg.py\u001B[0m in \u001B[0;36mget_text_width_height_descent\u001B[0;34m(self, s, prop, ismath)\u001B[0m\n\u001B[1;32m    235\u001B[0m \u001B[0;34m\u001B[0m\u001B[0m\n\u001B[1;32m    236\u001B[0m         \u001B[0mflags\u001B[0m \u001B[0;34m=\u001B[0m \u001B[0mget_hinting_flag\u001B[0m\u001B[0;34m(\u001B[0m\u001B[0;34m)\u001B[0m\u001B[0;34m\u001B[0m\u001B[0;34m\u001B[0m\u001B[0m\n\u001B[0;32m--> 237\u001B[0;31m         \u001B[0mfont\u001B[0m \u001B[0;34m=\u001B[0m \u001B[0mself\u001B[0m\u001B[0;34m.\u001B[0m\u001B[0m_get_agg_font\u001B[0m\u001B[0;34m(\u001B[0m\u001B[0mprop\u001B[0m\u001B[0;34m)\u001B[0m\u001B[0;34m\u001B[0m\u001B[0;34m\u001B[0m\u001B[0m\n\u001B[0m\u001B[1;32m    238\u001B[0m         \u001B[0mfont\u001B[0m\u001B[0;34m.\u001B[0m\u001B[0mset_text\u001B[0m\u001B[0;34m(\u001B[0m\u001B[0ms\u001B[0m\u001B[0;34m,\u001B[0m \u001B[0;36m0.0\u001B[0m\u001B[0;34m,\u001B[0m \u001B[0mflags\u001B[0m\u001B[0;34m=\u001B[0m\u001B[0mflags\u001B[0m\u001B[0;34m)\u001B[0m\u001B[0;34m\u001B[0m\u001B[0;34m\u001B[0m\u001B[0m\n\u001B[1;32m    239\u001B[0m         \u001B[0mw\u001B[0m\u001B[0;34m,\u001B[0m \u001B[0mh\u001B[0m \u001B[0;34m=\u001B[0m \u001B[0mfont\u001B[0m\u001B[0;34m.\u001B[0m\u001B[0mget_width_height\u001B[0m\u001B[0;34m(\u001B[0m\u001B[0;34m)\u001B[0m  \u001B[0;31m# width and height of unrotated string\u001B[0m\u001B[0;34m\u001B[0m\u001B[0;34m\u001B[0m\u001B[0m\n",
      "\u001B[0;32m~/opt/anaconda3/lib/python3.8/site-packages/matplotlib/backends/backend_agg.py\u001B[0m in \u001B[0;36m_get_agg_font\u001B[0;34m(self, prop)\u001B[0m\n\u001B[1;32m    270\u001B[0m         \u001B[0mGet\u001B[0m \u001B[0mthe\u001B[0m \u001B[0mfont\u001B[0m \u001B[0;32mfor\u001B[0m \u001B[0mtext\u001B[0m \u001B[0minstance\u001B[0m \u001B[0mt\u001B[0m\u001B[0;34m,\u001B[0m \u001B[0mcaching\u001B[0m \u001B[0;32mfor\u001B[0m \u001B[0mefficiency\u001B[0m\u001B[0;34m\u001B[0m\u001B[0;34m\u001B[0m\u001B[0m\n\u001B[1;32m    271\u001B[0m         \"\"\"\n\u001B[0;32m--> 272\u001B[0;31m         \u001B[0mfname\u001B[0m \u001B[0;34m=\u001B[0m \u001B[0mfindfont\u001B[0m\u001B[0;34m(\u001B[0m\u001B[0mprop\u001B[0m\u001B[0;34m)\u001B[0m\u001B[0;34m\u001B[0m\u001B[0;34m\u001B[0m\u001B[0m\n\u001B[0m\u001B[1;32m    273\u001B[0m         \u001B[0mfont\u001B[0m \u001B[0;34m=\u001B[0m \u001B[0mget_font\u001B[0m\u001B[0;34m(\u001B[0m\u001B[0mfname\u001B[0m\u001B[0;34m)\u001B[0m\u001B[0;34m\u001B[0m\u001B[0;34m\u001B[0m\u001B[0m\n\u001B[1;32m    274\u001B[0m \u001B[0;34m\u001B[0m\u001B[0m\n",
      "\u001B[0;32m~/opt/anaconda3/lib/python3.8/site-packages/matplotlib/font_manager.py\u001B[0m in \u001B[0;36mfindfont\u001B[0;34m(self, prop, fontext, directory, fallback_to_default, rebuild_if_missing)\u001B[0m\n\u001B[1;32m   1312\u001B[0m             \u001B[0mprop\u001B[0m\u001B[0;34m,\u001B[0m \u001B[0mfontext\u001B[0m\u001B[0;34m,\u001B[0m \u001B[0mdirectory\u001B[0m\u001B[0;34m,\u001B[0m \u001B[0mfallback_to_default\u001B[0m\u001B[0;34m,\u001B[0m \u001B[0mrebuild_if_missing\u001B[0m\u001B[0;34m,\u001B[0m\u001B[0;34m\u001B[0m\u001B[0;34m\u001B[0m\u001B[0m\n\u001B[1;32m   1313\u001B[0m             rc_params)\n\u001B[0;32m-> 1314\u001B[0;31m         \u001B[0;32mreturn\u001B[0m \u001B[0mos\u001B[0m\u001B[0;34m.\u001B[0m\u001B[0mpath\u001B[0m\u001B[0;34m.\u001B[0m\u001B[0mrealpath\u001B[0m\u001B[0;34m(\u001B[0m\u001B[0mfilename\u001B[0m\u001B[0;34m)\u001B[0m\u001B[0;34m\u001B[0m\u001B[0;34m\u001B[0m\u001B[0m\n\u001B[0m\u001B[1;32m   1315\u001B[0m \u001B[0;34m\u001B[0m\u001B[0m\n\u001B[1;32m   1316\u001B[0m     \u001B[0;34m@\u001B[0m\u001B[0mlru_cache\u001B[0m\u001B[0;34m(\u001B[0m\u001B[0;34m)\u001B[0m\u001B[0;34m\u001B[0m\u001B[0;34m\u001B[0m\u001B[0m\n",
      "\u001B[0;32m~/opt/anaconda3/lib/python3.8/posixpath.py\u001B[0m in \u001B[0;36mrealpath\u001B[0;34m(filename)\u001B[0m\n\u001B[1;32m    389\u001B[0m symbolic links encountered in the path.\"\"\"\n\u001B[1;32m    390\u001B[0m     \u001B[0mfilename\u001B[0m \u001B[0;34m=\u001B[0m \u001B[0mos\u001B[0m\u001B[0;34m.\u001B[0m\u001B[0mfspath\u001B[0m\u001B[0;34m(\u001B[0m\u001B[0mfilename\u001B[0m\u001B[0;34m)\u001B[0m\u001B[0;34m\u001B[0m\u001B[0;34m\u001B[0m\u001B[0m\n\u001B[0;32m--> 391\u001B[0;31m     \u001B[0mpath\u001B[0m\u001B[0;34m,\u001B[0m \u001B[0mok\u001B[0m \u001B[0;34m=\u001B[0m \u001B[0m_joinrealpath\u001B[0m\u001B[0;34m(\u001B[0m\u001B[0mfilename\u001B[0m\u001B[0;34m[\u001B[0m\u001B[0;34m:\u001B[0m\u001B[0;36m0\u001B[0m\u001B[0;34m]\u001B[0m\u001B[0;34m,\u001B[0m \u001B[0mfilename\u001B[0m\u001B[0;34m,\u001B[0m \u001B[0;34m{\u001B[0m\u001B[0;34m}\u001B[0m\u001B[0;34m)\u001B[0m\u001B[0;34m\u001B[0m\u001B[0;34m\u001B[0m\u001B[0m\n\u001B[0m\u001B[1;32m    392\u001B[0m     \u001B[0;32mreturn\u001B[0m \u001B[0mabspath\u001B[0m\u001B[0;34m(\u001B[0m\u001B[0mpath\u001B[0m\u001B[0;34m)\u001B[0m\u001B[0;34m\u001B[0m\u001B[0;34m\u001B[0m\u001B[0m\n\u001B[1;32m    393\u001B[0m \u001B[0;34m\u001B[0m\u001B[0m\n",
      "\u001B[0;32m~/opt/anaconda3/lib/python3.8/posixpath.py\u001B[0m in \u001B[0;36m_joinrealpath\u001B[0;34m(path, rest, seen)\u001B[0m\n\u001B[1;32m    423\u001B[0m             \u001B[0;32mcontinue\u001B[0m\u001B[0;34m\u001B[0m\u001B[0;34m\u001B[0m\u001B[0m\n\u001B[1;32m    424\u001B[0m         \u001B[0mnewpath\u001B[0m \u001B[0;34m=\u001B[0m \u001B[0mjoin\u001B[0m\u001B[0;34m(\u001B[0m\u001B[0mpath\u001B[0m\u001B[0;34m,\u001B[0m \u001B[0mname\u001B[0m\u001B[0;34m)\u001B[0m\u001B[0;34m\u001B[0m\u001B[0;34m\u001B[0m\u001B[0m\n\u001B[0;32m--> 425\u001B[0;31m         \u001B[0;32mif\u001B[0m \u001B[0;32mnot\u001B[0m \u001B[0mislink\u001B[0m\u001B[0;34m(\u001B[0m\u001B[0mnewpath\u001B[0m\u001B[0;34m)\u001B[0m\u001B[0;34m:\u001B[0m\u001B[0;34m\u001B[0m\u001B[0;34m\u001B[0m\u001B[0m\n\u001B[0m\u001B[1;32m    426\u001B[0m             \u001B[0mpath\u001B[0m \u001B[0;34m=\u001B[0m \u001B[0mnewpath\u001B[0m\u001B[0;34m\u001B[0m\u001B[0;34m\u001B[0m\u001B[0m\n\u001B[1;32m    427\u001B[0m             \u001B[0;32mcontinue\u001B[0m\u001B[0;34m\u001B[0m\u001B[0;34m\u001B[0m\u001B[0m\n",
      "\u001B[0;32m~/opt/anaconda3/lib/python3.8/posixpath.py\u001B[0m in \u001B[0;36mislink\u001B[0;34m(path)\u001B[0m\n\u001B[1;32m    165\u001B[0m     \u001B[0;34m\"\"\"Test whether a path is a symbolic link\"\"\"\u001B[0m\u001B[0;34m\u001B[0m\u001B[0;34m\u001B[0m\u001B[0m\n\u001B[1;32m    166\u001B[0m     \u001B[0;32mtry\u001B[0m\u001B[0;34m:\u001B[0m\u001B[0;34m\u001B[0m\u001B[0;34m\u001B[0m\u001B[0m\n\u001B[0;32m--> 167\u001B[0;31m         \u001B[0mst\u001B[0m \u001B[0;34m=\u001B[0m \u001B[0mos\u001B[0m\u001B[0;34m.\u001B[0m\u001B[0mlstat\u001B[0m\u001B[0;34m(\u001B[0m\u001B[0mpath\u001B[0m\u001B[0;34m)\u001B[0m\u001B[0;34m\u001B[0m\u001B[0;34m\u001B[0m\u001B[0m\n\u001B[0m\u001B[1;32m    168\u001B[0m     \u001B[0;32mexcept\u001B[0m \u001B[0;34m(\u001B[0m\u001B[0mOSError\u001B[0m\u001B[0;34m,\u001B[0m \u001B[0mValueError\u001B[0m\u001B[0;34m,\u001B[0m \u001B[0mAttributeError\u001B[0m\u001B[0;34m)\u001B[0m\u001B[0;34m:\u001B[0m\u001B[0;34m\u001B[0m\u001B[0;34m\u001B[0m\u001B[0m\n\u001B[1;32m    169\u001B[0m         \u001B[0;32mreturn\u001B[0m \u001B[0;32mFalse\u001B[0m\u001B[0;34m\u001B[0m\u001B[0;34m\u001B[0m\u001B[0m\n",
      "\u001B[0;31mKeyboardInterrupt\u001B[0m: "
     ]
    }
   ],
   "source": [
    "# profile = ProfileReport(data.sample(1000), title=\"Pandas Profiling Report\", explorative=True)\n",
    "# profile.to_file(\"out/df_moscow_all.html\")"
   ],
   "metadata": {
    "collapsed": false,
    "pycharm": {
     "name": "#%%\n"
    }
   }
  },
  {
   "cell_type": "code",
   "execution_count": 7,
   "outputs": [
    {
     "data": {
      "text/plain": "              inn           ogrn main_okved                              name  \\\n26926  7733856740  1137746901852      59.11                   ООО \"СТУДИЯ 25\"   \n42322  7730236717  1177746548660      62.01                      ООО \"ДИЛДЕП\"   \n32475  7708769283  1127746681820       73.1                ООО \"ТУЙГУН ГРУПП\"   \n59312  7743898002  1137746755640      62.01              ООО \"АМЕНДА КОНСАЛТ\"   \n48601  7717777837  1147746223393      62.09                    ООО \"ИНФИНИТИ\"   \n26356  7715989716  1147746056864      62.01                      ООО \"ВАЛАЙН\"   \n20167  7702381582  1157746340278      58.11  ООО \"ИЗДАТЕЛЬСТВО ЮЛИИ ВЫСОЦКОЙ\"   \n55565  7725319904  1167746549596      62.01                  ООО \"ПРОФИТ ЛАБ\"   \n26554  7717773230  1147746012061      59.11               ООО \"АКТЯБРЬ ФИЛЬМ\"   \n40287  7728817048  1127746657455       72.1           ООО \"КОМПОЗИТ СОЛЬЮШЕН\"   \n\n                                                 address          type  \\\n26926      125363, г. Москва, ул. Нелидовская, 9 корп. 1  коммерческая   \n42322  105082, г. Москва, ул. Фридриха Энгельса, 75 с...  коммерческая   \n32475  107140, г. Москва, пер 1-й Красносельский, 3, ...  коммерческая   \n59312      125565, г. Москва, ул. Фестивальная, 4, кв. 1  коммерческая   \n48601  129515, г. Москва, ул. Академика Королева, 13 ...  коммерческая   \n26356    127254, г. Москва, проезд Огородный, 16 стр. 17  коммерческая   \n20167  129110, г. Москва, пер Напрудный, 15, эт 2 пом 14  коммерческая   \n55565  115280, г. Москва, ул. Велозаводская, 2 корп. ...  коммерческая   \n26554  129226, г. Москва, ул. Сергея Эйзенштейна, 8 с...  коммерческая   \n40287  117133, г. Москва, ул. Академика Варги, 8 корп...  коммерческая   \n\n                                                  status  \\\n26926  в процессе ликвидации (принято решение о предс...   \n42322                                        действующая   \n32475                                        действующая   \n59312                                        действующая   \n48601                                        действующая   \n26356                                        действующая   \n20167                                        действующая   \n55565                                        действующая   \n26554                                        действующая   \n40287                                        действующая   \n\n                                                   okved   date_reg  \\\n26926  ['41.20', '43.99', '43.99.7', '59.13', '59.14'... 2013-10-02   \n42322                      ['62.02', '63.11', '63.11.1'] 2017-06-02   \n32475  ['18.12', '59.1', '64.1', '64.9', '66.1', '68.... 2012-08-30   \n59312  ['62.02', '62.09', '63.11', '63.11.1', '69.20.... 2013-08-21   \n48601  ['46.14.1', '46.15.3', '46.15.4', '46.43', '46... 2014-03-04   \n26356  ['47.41', '47.41.4', '47.42', '47.43', '47.54'... 2014-01-29   \n20167  ['18.12', '46.19', '46.49', '46.49.3', '46.90'... 2015-04-14   \n55565  ['46.43', '46.49', '62.02', '62.09', '63.11', ... 2016-06-08   \n26554  ['18.20', '46.15.4', '47.63.1', '47.63.2', '59... 2014-01-13   \n40287                  ['71.20.3', '71.20.6', '71.20.9'] 2012-08-24   \n\n                                                comments  ...  founding_year  \\\n26926  Организация находится в стадии ликвидидации с ...  ...           2013   \n42322                                                nan  ...           2017   \n32475                                                nan  ...           2012   \n59312                                                nan  ...           2013   \n48601                                                nan  ...           2014   \n26356                                                nan  ...           2014   \n20167                                                nan  ...           2015   \n55565                                                nan  ...           2016   \n26554                                                nan  ...           2014   \n40287                                                nan  ...           2012   \n\n       founding_month                                         name_okved  \\\n26926              10  Производство кинофильмов, видеофильмов и телев...   \n42322               6  Разработка компьютерного программного обеспечения   \n32475               8                             Деятельность рекламная   \n59312               8  Разработка компьютерного программного обеспечения   \n48601               3  Деятельность, связанная с использованием вычис...   \n26356               1  Разработка компьютерного программного обеспечения   \n20167               4                                       Издание книг   \n55565               6  Разработка компьютерного программного обеспечения   \n26554               1  Производство кинофильмов, видеофильмов и телев...   \n40287               8  Научные исследования и разработки в области ес...   \n\n       currency  inflation_by_2022    investments  inflation  total_profit  \\\n26926   67.0349             1.3200   22239.027822     1.0538           296   \n42322   62.7078             1.2218     570.011205     1.0427             0   \n32475   60.9579             1.4904     499.054155     1.1291          -355   \n59312   38.4217             1.6597     688.731483     1.1136         -3418   \n48601   67.0349             1.3200      12.573657     1.0538            94   \n26356   38.4217             1.6597     328.000000     1.1136            57   \n20167   67.0349             1.3200    5636.467026     1.0538          4025   \n55565   72.1464             1.1371      10.447604     1.0491            38   \n26554   62.7078             1.2218  139797.257315     1.0427           459   \n40287   38.4217             1.6597    1154.965813     1.1136         12739   \n\n       breaking_even  payback_time  \n26926              0            -1  \n42322              0            -1  \n32475              0            -1  \n59312              0            -1  \n48601              1             3  \n26356              0             2  \n20167              0            -1  \n55565              1             2  \n26554              0            -1  \n40287              1             3  \n\n[10 rows x 146 columns]",
      "text/html": "<div>\n<style scoped>\n    .dataframe tbody tr th:only-of-type {\n        vertical-align: middle;\n    }\n\n    .dataframe tbody tr th {\n        vertical-align: top;\n    }\n\n    .dataframe thead th {\n        text-align: right;\n    }\n</style>\n<table border=\"1\" class=\"dataframe\">\n  <thead>\n    <tr style=\"text-align: right;\">\n      <th></th>\n      <th>inn</th>\n      <th>ogrn</th>\n      <th>main_okved</th>\n      <th>name</th>\n      <th>address</th>\n      <th>type</th>\n      <th>status</th>\n      <th>okved</th>\n      <th>date_reg</th>\n      <th>comments</th>\n      <th>...</th>\n      <th>founding_year</th>\n      <th>founding_month</th>\n      <th>name_okved</th>\n      <th>currency</th>\n      <th>inflation_by_2022</th>\n      <th>investments</th>\n      <th>inflation</th>\n      <th>total_profit</th>\n      <th>breaking_even</th>\n      <th>payback_time</th>\n    </tr>\n  </thead>\n  <tbody>\n    <tr>\n      <th>26926</th>\n      <td>7733856740</td>\n      <td>1137746901852</td>\n      <td>59.11</td>\n      <td>ООО \"СТУДИЯ 25\"</td>\n      <td>125363, г. Москва, ул. Нелидовская, 9 корп. 1</td>\n      <td>коммерческая</td>\n      <td>в процессе ликвидации (принято решение о предс...</td>\n      <td>['41.20', '43.99', '43.99.7', '59.13', '59.14'...</td>\n      <td>2013-10-02</td>\n      <td>Организация находится в стадии ликвидидации с ...</td>\n      <td>...</td>\n      <td>2013</td>\n      <td>10</td>\n      <td>Производство кинофильмов, видеофильмов и телев...</td>\n      <td>67.0349</td>\n      <td>1.3200</td>\n      <td>22239.027822</td>\n      <td>1.0538</td>\n      <td>296</td>\n      <td>0</td>\n      <td>-1</td>\n    </tr>\n    <tr>\n      <th>42322</th>\n      <td>7730236717</td>\n      <td>1177746548660</td>\n      <td>62.01</td>\n      <td>ООО \"ДИЛДЕП\"</td>\n      <td>105082, г. Москва, ул. Фридриха Энгельса, 75 с...</td>\n      <td>коммерческая</td>\n      <td>действующая</td>\n      <td>['62.02', '63.11', '63.11.1']</td>\n      <td>2017-06-02</td>\n      <td>nan</td>\n      <td>...</td>\n      <td>2017</td>\n      <td>6</td>\n      <td>Разработка компьютерного программного обеспечения</td>\n      <td>62.7078</td>\n      <td>1.2218</td>\n      <td>570.011205</td>\n      <td>1.0427</td>\n      <td>0</td>\n      <td>0</td>\n      <td>-1</td>\n    </tr>\n    <tr>\n      <th>32475</th>\n      <td>7708769283</td>\n      <td>1127746681820</td>\n      <td>73.1</td>\n      <td>ООО \"ТУЙГУН ГРУПП\"</td>\n      <td>107140, г. Москва, пер 1-й Красносельский, 3, ...</td>\n      <td>коммерческая</td>\n      <td>действующая</td>\n      <td>['18.12', '59.1', '64.1', '64.9', '66.1', '68....</td>\n      <td>2012-08-30</td>\n      <td>nan</td>\n      <td>...</td>\n      <td>2012</td>\n      <td>8</td>\n      <td>Деятельность рекламная</td>\n      <td>60.9579</td>\n      <td>1.4904</td>\n      <td>499.054155</td>\n      <td>1.1291</td>\n      <td>-355</td>\n      <td>0</td>\n      <td>-1</td>\n    </tr>\n    <tr>\n      <th>59312</th>\n      <td>7743898002</td>\n      <td>1137746755640</td>\n      <td>62.01</td>\n      <td>ООО \"АМЕНДА КОНСАЛТ\"</td>\n      <td>125565, г. Москва, ул. Фестивальная, 4, кв. 1</td>\n      <td>коммерческая</td>\n      <td>действующая</td>\n      <td>['62.02', '62.09', '63.11', '63.11.1', '69.20....</td>\n      <td>2013-08-21</td>\n      <td>nan</td>\n      <td>...</td>\n      <td>2013</td>\n      <td>8</td>\n      <td>Разработка компьютерного программного обеспечения</td>\n      <td>38.4217</td>\n      <td>1.6597</td>\n      <td>688.731483</td>\n      <td>1.1136</td>\n      <td>-3418</td>\n      <td>0</td>\n      <td>-1</td>\n    </tr>\n    <tr>\n      <th>48601</th>\n      <td>7717777837</td>\n      <td>1147746223393</td>\n      <td>62.09</td>\n      <td>ООО \"ИНФИНИТИ\"</td>\n      <td>129515, г. Москва, ул. Академика Королева, 13 ...</td>\n      <td>коммерческая</td>\n      <td>действующая</td>\n      <td>['46.14.1', '46.15.3', '46.15.4', '46.43', '46...</td>\n      <td>2014-03-04</td>\n      <td>nan</td>\n      <td>...</td>\n      <td>2014</td>\n      <td>3</td>\n      <td>Деятельность, связанная с использованием вычис...</td>\n      <td>67.0349</td>\n      <td>1.3200</td>\n      <td>12.573657</td>\n      <td>1.0538</td>\n      <td>94</td>\n      <td>1</td>\n      <td>3</td>\n    </tr>\n    <tr>\n      <th>26356</th>\n      <td>7715989716</td>\n      <td>1147746056864</td>\n      <td>62.01</td>\n      <td>ООО \"ВАЛАЙН\"</td>\n      <td>127254, г. Москва, проезд Огородный, 16 стр. 17</td>\n      <td>коммерческая</td>\n      <td>действующая</td>\n      <td>['47.41', '47.41.4', '47.42', '47.43', '47.54'...</td>\n      <td>2014-01-29</td>\n      <td>nan</td>\n      <td>...</td>\n      <td>2014</td>\n      <td>1</td>\n      <td>Разработка компьютерного программного обеспечения</td>\n      <td>38.4217</td>\n      <td>1.6597</td>\n      <td>328.000000</td>\n      <td>1.1136</td>\n      <td>57</td>\n      <td>0</td>\n      <td>2</td>\n    </tr>\n    <tr>\n      <th>20167</th>\n      <td>7702381582</td>\n      <td>1157746340278</td>\n      <td>58.11</td>\n      <td>ООО \"ИЗДАТЕЛЬСТВО ЮЛИИ ВЫСОЦКОЙ\"</td>\n      <td>129110, г. Москва, пер Напрудный, 15, эт 2 пом 14</td>\n      <td>коммерческая</td>\n      <td>действующая</td>\n      <td>['18.12', '46.19', '46.49', '46.49.3', '46.90'...</td>\n      <td>2015-04-14</td>\n      <td>nan</td>\n      <td>...</td>\n      <td>2015</td>\n      <td>4</td>\n      <td>Издание книг</td>\n      <td>67.0349</td>\n      <td>1.3200</td>\n      <td>5636.467026</td>\n      <td>1.0538</td>\n      <td>4025</td>\n      <td>0</td>\n      <td>-1</td>\n    </tr>\n    <tr>\n      <th>55565</th>\n      <td>7725319904</td>\n      <td>1167746549596</td>\n      <td>62.01</td>\n      <td>ООО \"ПРОФИТ ЛАБ\"</td>\n      <td>115280, г. Москва, ул. Велозаводская, 2 корп. ...</td>\n      <td>коммерческая</td>\n      <td>действующая</td>\n      <td>['46.43', '46.49', '62.02', '62.09', '63.11', ...</td>\n      <td>2016-06-08</td>\n      <td>nan</td>\n      <td>...</td>\n      <td>2016</td>\n      <td>6</td>\n      <td>Разработка компьютерного программного обеспечения</td>\n      <td>72.1464</td>\n      <td>1.1371</td>\n      <td>10.447604</td>\n      <td>1.0491</td>\n      <td>38</td>\n      <td>1</td>\n      <td>2</td>\n    </tr>\n    <tr>\n      <th>26554</th>\n      <td>7717773230</td>\n      <td>1147746012061</td>\n      <td>59.11</td>\n      <td>ООО \"АКТЯБРЬ ФИЛЬМ\"</td>\n      <td>129226, г. Москва, ул. Сергея Эйзенштейна, 8 с...</td>\n      <td>коммерческая</td>\n      <td>действующая</td>\n      <td>['18.20', '46.15.4', '47.63.1', '47.63.2', '59...</td>\n      <td>2014-01-13</td>\n      <td>nan</td>\n      <td>...</td>\n      <td>2014</td>\n      <td>1</td>\n      <td>Производство кинофильмов, видеофильмов и телев...</td>\n      <td>62.7078</td>\n      <td>1.2218</td>\n      <td>139797.257315</td>\n      <td>1.0427</td>\n      <td>459</td>\n      <td>0</td>\n      <td>-1</td>\n    </tr>\n    <tr>\n      <th>40287</th>\n      <td>7728817048</td>\n      <td>1127746657455</td>\n      <td>72.1</td>\n      <td>ООО \"КОМПОЗИТ СОЛЬЮШЕН\"</td>\n      <td>117133, г. Москва, ул. Академика Варги, 8 корп...</td>\n      <td>коммерческая</td>\n      <td>действующая</td>\n      <td>['71.20.3', '71.20.6', '71.20.9']</td>\n      <td>2012-08-24</td>\n      <td>nan</td>\n      <td>...</td>\n      <td>2012</td>\n      <td>8</td>\n      <td>Научные исследования и разработки в области ес...</td>\n      <td>38.4217</td>\n      <td>1.6597</td>\n      <td>1154.965813</td>\n      <td>1.1136</td>\n      <td>12739</td>\n      <td>1</td>\n      <td>3</td>\n    </tr>\n  </tbody>\n</table>\n<p>10 rows × 146 columns</p>\n</div>"
     },
     "execution_count": 7,
     "metadata": {},
     "output_type": "execute_result"
    }
   ],
   "source": [
    "data.sample(10)"
   ],
   "metadata": {
    "collapsed": false,
    "pycharm": {
     "name": "#%%\n"
    }
   }
  },
  {
   "cell_type": "code",
   "execution_count": 21,
   "outputs": [
    {
     "data": {
      "text/plain": "<pandas.core.groupby.generic.SeriesGroupBy object at 0x7fbc1539c760>"
     },
     "execution_count": 21,
     "metadata": {},
     "output_type": "execute_result"
    }
   ],
   "source": [
    "data.sort_values(by='year').groupby('inn').first().groupby('main_okved')['investments'] #.mean()['32.12.3']"
   ],
   "metadata": {
    "collapsed": false,
    "pycharm": {
     "name": "#%%\n"
    }
   }
  },
  {
   "cell_type": "code",
   "execution_count": 25,
   "outputs": [
    {
     "data": {
      "text/plain": "                     ogrn main_okved  \\\ninn                                    \n1102068218  1111102000745      62.01   \n1650329732  1161650057920      62.01   \n1655298774  1141690057134      62.01   \n1655300448  1141690063195      62.09   \n2310172571  1132310008797      62.09   \n...                   ...        ...   \n9731056816  1197746690371      62.01   \n9731057930  1197746717706      62.01   \n9731059038  1197746743721      62.01   \n9731059310  1197746756184      62.01   \n9731064510  1207700178663      62.01   \n\n                                                        name  \\\ninn                                                            \n1102068218                                     ООО «ИНФОЗАР»   \n1650329732                               ООО \"БОЛЬШИЕ ЧИСЛА\"   \n1655298774                                       ООО \"РТСИМ\"   \n1655300448                               ООО \"АВАЛ,ПРАКТИКА\"   \n2310172571  ООО \"УПРАВЛЯЮЩАЯ КОМПАНИЯ ХЁРСТ ШКУЛЁВ ДИДЖИТАЛ\"   \n...                                                      ...   \n9731056816                                     ООО \"ИСИНТЕЛ\"   \n9731057930                          ООО \"СИТИЛАЙФ ИННОВАЦИИ\"   \n9731059038                ООО \"ИКК РАЗРАБОТКА МОБИЛЬНЫХ ИГР\"   \n9731059310                                  ООО \"ТС-ИННОТЕХ\"   \n9731064510                                     ООО \"ДИНАТЕХ\"   \n\n                                                      address          type  \\\ninn                                                                           \n1102068218  127055, г. Москва, пер Вадковский, 12, эт. 1 п...  коммерческая   \n1650329732  115184, г. Москва, наб. Озерковская, 38-40, кв...  коммерческая   \n1655298774  121205, г. Москва, тер. Сколково Инновационног...  коммерческая   \n1655300448  115573, г. Москва, ул. Мусы Джалиля, 36 корп. ...  коммерческая   \n2310172571  115114, г. Москва, ул. Дербеневская, 15Б, эт. ...  коммерческая   \n...                                                       ...           ...   \n9731056816  121359, г. Москва, ул. Академика Павлова, 21 к...  коммерческая   \n9731057930  143026, г. Москва, тер. Сколково Инновационног...  коммерческая   \n9731059038  119361, г. Москва, ул. Марии Поливановой, 9, э...  коммерческая   \n9731059310  121205, г. Москва, тер. Сколково Инновационног...  коммерческая   \n9731064510  121205, г. Москва, тер. Сколково Инновационног...  коммерческая   \n\n                 status                                              okved  \\\ninn                                                                          \n1102068218  действующая  ['46.15.4', '46.43.3', '46.90', '47.43', '47.5...   \n1650329732  действующая  ['47.41', '47.41.4', '47.59.1', '47.63.1', '47...   \n1655298774  действующая                                 ['62.02', '72.19']   \n1655300448  действующая  ['43.21', '46.51', '46.52', '47.41', '62.01', ...   \n2310172571  действующая    ['58.13', '58.14', '62.02', '63.11.1', '73.11']   \n...                 ...                                                ...   \n9731056816  действующая  ['62.02', '62.03', '62.09', '63.11', '63.12', ...   \n9731057930  действующая  ['58.29', '62.02', '62.03', '62.09', '63.11', ...   \n9731059038  действующая               ['62.02', '62.09', '63.11', '63.12']   \n9731059310  действующая  ['61.10', '61.10.4', '61.10.9', '62.02', '62.0...   \n9731064510  действующая  ['58.29', '62.02.2', '62.02.3', '62.02.4', '62...   \n\n             date_reg comments  year  ...  founding_year  founding_month  \\\ninn                                   ...                                  \n1102068218 2011-04-04      nan  2011  ...           2011               4   \n1650329732 2016-04-25      nan  2016  ...           2016               4   \n1655298774 2014-08-12      nan  2014  ...           2014               8   \n1655300448 2014-09-05      nan  2014  ...           2014               9   \n2310172571 2013-09-09      nan  2013  ...           2013               9   \n...               ...      ...   ...  ...            ...             ...   \n9731056816 2019-11-25      nan  2019  ...           2019              11   \n9731057930 2019-12-09      nan  2019  ...           2019              12   \n9731059038 2019-12-23      nan  2019  ...           2019              12   \n9731059310 2019-12-30      nan  2019  ...           2019              12   \n9731064510 2020-05-29      nan  2020  ...           2020               5   \n\n                                                   name_okved  currency  \\\ninn                                                                       \n1102068218  Разработка компьютерного программного обеспечения   29.3874   \n1650329732  Разработка компьютерного программного обеспечения   67.0349   \n1655298774  Разработка компьютерного программного обеспечения   38.4217   \n1655300448  Деятельность, связанная с использованием вычис...   38.4217   \n2310172571  Деятельность, связанная с использованием вычис...   31.8480   \n...                                                       ...       ...   \n9731056816  Разработка компьютерного программного обеспечения   64.7362   \n9731057930  Разработка компьютерного программного обеспечения   64.7362   \n9731059038  Разработка компьютерного программного обеспечения   64.7362   \n9731059310  Разработка компьютерного программного обеспечения   64.7362   \n9731064510  Разработка компьютерного программного обеспечения   72.1464   \n\n            inflation_by_2022  investments  inflation  total_profit  \\\ninn                                                                   \n1102068218             1.9979      68947.0     1.0610          3822   \n1650329732             1.3200       2074.0     1.0538            64   \n1655298774             1.6597       6971.0     1.1136          6935   \n1655300448             1.6597       1241.0     1.1136           155   \n2310172571             1.7668       5180.0     1.0645             0   \n...                       ...          ...        ...           ...   \n9731056816             1.1718          0.0     1.0305             0   \n9731057930             1.1718          0.0     1.0305             0   \n9731059038             1.1718          0.0     1.0305             0   \n9731059310             1.1718       1000.0     1.0305             0   \n9731064510             1.1371        102.0     1.0491           -48   \n\n            breaking_even  payback_time  \ninn                                      \n1102068218              0            -1  \n1650329732              0             5  \n1655298774              0             3  \n1655300448              0             2  \n2310172571              0             6  \n...                   ...           ...  \n9731056816              0            -1  \n9731057930              0            -1  \n9731059038              0            -1  \n9731059310              0             2  \n9731064510              0            -1  \n\n[12556 rows x 145 columns]",
      "text/html": "<div>\n<style scoped>\n    .dataframe tbody tr th:only-of-type {\n        vertical-align: middle;\n    }\n\n    .dataframe tbody tr th {\n        vertical-align: top;\n    }\n\n    .dataframe thead th {\n        text-align: right;\n    }\n</style>\n<table border=\"1\" class=\"dataframe\">\n  <thead>\n    <tr style=\"text-align: right;\">\n      <th></th>\n      <th>ogrn</th>\n      <th>main_okved</th>\n      <th>name</th>\n      <th>address</th>\n      <th>type</th>\n      <th>status</th>\n      <th>okved</th>\n      <th>date_reg</th>\n      <th>comments</th>\n      <th>year</th>\n      <th>...</th>\n      <th>founding_year</th>\n      <th>founding_month</th>\n      <th>name_okved</th>\n      <th>currency</th>\n      <th>inflation_by_2022</th>\n      <th>investments</th>\n      <th>inflation</th>\n      <th>total_profit</th>\n      <th>breaking_even</th>\n      <th>payback_time</th>\n    </tr>\n    <tr>\n      <th>inn</th>\n      <th></th>\n      <th></th>\n      <th></th>\n      <th></th>\n      <th></th>\n      <th></th>\n      <th></th>\n      <th></th>\n      <th></th>\n      <th></th>\n      <th></th>\n      <th></th>\n      <th></th>\n      <th></th>\n      <th></th>\n      <th></th>\n      <th></th>\n      <th></th>\n      <th></th>\n      <th></th>\n      <th></th>\n    </tr>\n  </thead>\n  <tbody>\n    <tr>\n      <th>1102068218</th>\n      <td>1111102000745</td>\n      <td>62.01</td>\n      <td>ООО «ИНФОЗАР»</td>\n      <td>127055, г. Москва, пер Вадковский, 12, эт. 1 п...</td>\n      <td>коммерческая</td>\n      <td>действующая</td>\n      <td>['46.15.4', '46.43.3', '46.90', '47.43', '47.5...</td>\n      <td>2011-04-04</td>\n      <td>nan</td>\n      <td>2011</td>\n      <td>...</td>\n      <td>2011</td>\n      <td>4</td>\n      <td>Разработка компьютерного программного обеспечения</td>\n      <td>29.3874</td>\n      <td>1.9979</td>\n      <td>68947.0</td>\n      <td>1.0610</td>\n      <td>3822</td>\n      <td>0</td>\n      <td>-1</td>\n    </tr>\n    <tr>\n      <th>1650329732</th>\n      <td>1161650057920</td>\n      <td>62.01</td>\n      <td>ООО \"БОЛЬШИЕ ЧИСЛА\"</td>\n      <td>115184, г. Москва, наб. Озерковская, 38-40, кв...</td>\n      <td>коммерческая</td>\n      <td>действующая</td>\n      <td>['47.41', '47.41.4', '47.59.1', '47.63.1', '47...</td>\n      <td>2016-04-25</td>\n      <td>nan</td>\n      <td>2016</td>\n      <td>...</td>\n      <td>2016</td>\n      <td>4</td>\n      <td>Разработка компьютерного программного обеспечения</td>\n      <td>67.0349</td>\n      <td>1.3200</td>\n      <td>2074.0</td>\n      <td>1.0538</td>\n      <td>64</td>\n      <td>0</td>\n      <td>5</td>\n    </tr>\n    <tr>\n      <th>1655298774</th>\n      <td>1141690057134</td>\n      <td>62.01</td>\n      <td>ООО \"РТСИМ\"</td>\n      <td>121205, г. Москва, тер. Сколково Инновационног...</td>\n      <td>коммерческая</td>\n      <td>действующая</td>\n      <td>['62.02', '72.19']</td>\n      <td>2014-08-12</td>\n      <td>nan</td>\n      <td>2014</td>\n      <td>...</td>\n      <td>2014</td>\n      <td>8</td>\n      <td>Разработка компьютерного программного обеспечения</td>\n      <td>38.4217</td>\n      <td>1.6597</td>\n      <td>6971.0</td>\n      <td>1.1136</td>\n      <td>6935</td>\n      <td>0</td>\n      <td>3</td>\n    </tr>\n    <tr>\n      <th>1655300448</th>\n      <td>1141690063195</td>\n      <td>62.09</td>\n      <td>ООО \"АВАЛ,ПРАКТИКА\"</td>\n      <td>115573, г. Москва, ул. Мусы Джалиля, 36 корп. ...</td>\n      <td>коммерческая</td>\n      <td>действующая</td>\n      <td>['43.21', '46.51', '46.52', '47.41', '62.01', ...</td>\n      <td>2014-09-05</td>\n      <td>nan</td>\n      <td>2014</td>\n      <td>...</td>\n      <td>2014</td>\n      <td>9</td>\n      <td>Деятельность, связанная с использованием вычис...</td>\n      <td>38.4217</td>\n      <td>1.6597</td>\n      <td>1241.0</td>\n      <td>1.1136</td>\n      <td>155</td>\n      <td>0</td>\n      <td>2</td>\n    </tr>\n    <tr>\n      <th>2310172571</th>\n      <td>1132310008797</td>\n      <td>62.09</td>\n      <td>ООО \"УПРАВЛЯЮЩАЯ КОМПАНИЯ ХЁРСТ ШКУЛЁВ ДИДЖИТАЛ\"</td>\n      <td>115114, г. Москва, ул. Дербеневская, 15Б, эт. ...</td>\n      <td>коммерческая</td>\n      <td>действующая</td>\n      <td>['58.13', '58.14', '62.02', '63.11.1', '73.11']</td>\n      <td>2013-09-09</td>\n      <td>nan</td>\n      <td>2013</td>\n      <td>...</td>\n      <td>2013</td>\n      <td>9</td>\n      <td>Деятельность, связанная с использованием вычис...</td>\n      <td>31.8480</td>\n      <td>1.7668</td>\n      <td>5180.0</td>\n      <td>1.0645</td>\n      <td>0</td>\n      <td>0</td>\n      <td>6</td>\n    </tr>\n    <tr>\n      <th>...</th>\n      <td>...</td>\n      <td>...</td>\n      <td>...</td>\n      <td>...</td>\n      <td>...</td>\n      <td>...</td>\n      <td>...</td>\n      <td>...</td>\n      <td>...</td>\n      <td>...</td>\n      <td>...</td>\n      <td>...</td>\n      <td>...</td>\n      <td>...</td>\n      <td>...</td>\n      <td>...</td>\n      <td>...</td>\n      <td>...</td>\n      <td>...</td>\n      <td>...</td>\n      <td>...</td>\n    </tr>\n    <tr>\n      <th>9731056816</th>\n      <td>1197746690371</td>\n      <td>62.01</td>\n      <td>ООО \"ИСИНТЕЛ\"</td>\n      <td>121359, г. Москва, ул. Академика Павлова, 21 к...</td>\n      <td>коммерческая</td>\n      <td>действующая</td>\n      <td>['62.02', '62.03', '62.09', '63.11', '63.12', ...</td>\n      <td>2019-11-25</td>\n      <td>nan</td>\n      <td>2019</td>\n      <td>...</td>\n      <td>2019</td>\n      <td>11</td>\n      <td>Разработка компьютерного программного обеспечения</td>\n      <td>64.7362</td>\n      <td>1.1718</td>\n      <td>0.0</td>\n      <td>1.0305</td>\n      <td>0</td>\n      <td>0</td>\n      <td>-1</td>\n    </tr>\n    <tr>\n      <th>9731057930</th>\n      <td>1197746717706</td>\n      <td>62.01</td>\n      <td>ООО \"СИТИЛАЙФ ИННОВАЦИИ\"</td>\n      <td>143026, г. Москва, тер. Сколково Инновационног...</td>\n      <td>коммерческая</td>\n      <td>действующая</td>\n      <td>['58.29', '62.02', '62.03', '62.09', '63.11', ...</td>\n      <td>2019-12-09</td>\n      <td>nan</td>\n      <td>2019</td>\n      <td>...</td>\n      <td>2019</td>\n      <td>12</td>\n      <td>Разработка компьютерного программного обеспечения</td>\n      <td>64.7362</td>\n      <td>1.1718</td>\n      <td>0.0</td>\n      <td>1.0305</td>\n      <td>0</td>\n      <td>0</td>\n      <td>-1</td>\n    </tr>\n    <tr>\n      <th>9731059038</th>\n      <td>1197746743721</td>\n      <td>62.01</td>\n      <td>ООО \"ИКК РАЗРАБОТКА МОБИЛЬНЫХ ИГР\"</td>\n      <td>119361, г. Москва, ул. Марии Поливановой, 9, э...</td>\n      <td>коммерческая</td>\n      <td>действующая</td>\n      <td>['62.02', '62.09', '63.11', '63.12']</td>\n      <td>2019-12-23</td>\n      <td>nan</td>\n      <td>2019</td>\n      <td>...</td>\n      <td>2019</td>\n      <td>12</td>\n      <td>Разработка компьютерного программного обеспечения</td>\n      <td>64.7362</td>\n      <td>1.1718</td>\n      <td>0.0</td>\n      <td>1.0305</td>\n      <td>0</td>\n      <td>0</td>\n      <td>-1</td>\n    </tr>\n    <tr>\n      <th>9731059310</th>\n      <td>1197746756184</td>\n      <td>62.01</td>\n      <td>ООО \"ТС-ИННОТЕХ\"</td>\n      <td>121205, г. Москва, тер. Сколково Инновационног...</td>\n      <td>коммерческая</td>\n      <td>действующая</td>\n      <td>['61.10', '61.10.4', '61.10.9', '62.02', '62.0...</td>\n      <td>2019-12-30</td>\n      <td>nan</td>\n      <td>2019</td>\n      <td>...</td>\n      <td>2019</td>\n      <td>12</td>\n      <td>Разработка компьютерного программного обеспечения</td>\n      <td>64.7362</td>\n      <td>1.1718</td>\n      <td>1000.0</td>\n      <td>1.0305</td>\n      <td>0</td>\n      <td>0</td>\n      <td>2</td>\n    </tr>\n    <tr>\n      <th>9731064510</th>\n      <td>1207700178663</td>\n      <td>62.01</td>\n      <td>ООО \"ДИНАТЕХ\"</td>\n      <td>121205, г. Москва, тер. Сколково Инновационног...</td>\n      <td>коммерческая</td>\n      <td>действующая</td>\n      <td>['58.29', '62.02.2', '62.02.3', '62.02.4', '62...</td>\n      <td>2020-05-29</td>\n      <td>nan</td>\n      <td>2020</td>\n      <td>...</td>\n      <td>2020</td>\n      <td>5</td>\n      <td>Разработка компьютерного программного обеспечения</td>\n      <td>72.1464</td>\n      <td>1.1371</td>\n      <td>102.0</td>\n      <td>1.0491</td>\n      <td>-48</td>\n      <td>0</td>\n      <td>-1</td>\n    </tr>\n  </tbody>\n</table>\n<p>12556 rows × 145 columns</p>\n</div>"
     },
     "execution_count": 25,
     "metadata": {},
     "output_type": "execute_result"
    }
   ],
   "source": [
    "data_first = data.sort_values(by='year').groupby('inn').first()\n",
    "data_first"
   ],
   "metadata": {
    "collapsed": false,
    "pycharm": {
     "name": "#%%\n"
    }
   }
  },
  {
   "cell_type": "code",
   "execution_count": 60,
   "outputs": [
    {
     "data": {
      "text/plain": "main_okved\n20.41.4      0.000000\n20.42      386.567010\n23.70.2   -117.428571\n26.52      296.000000\n32.12      -42.239130\n              ...    \n91.04     -227.222222\n93.1       364.571429\n93.2       442.452830\n94.12        0.000000\n94.99        0.000000\nName: total_profit, Length: 66, dtype: float64"
     },
     "execution_count": 60,
     "metadata": {},
     "output_type": "execute_result"
    }
   ],
   "source": [
    "data_first.groupby('main_okved')['total_profit'].mean()"
   ],
   "metadata": {
    "collapsed": false,
    "pycharm": {
     "name": "#%%\n"
    }
   }
  },
  {
   "cell_type": "code",
   "execution_count": 49,
   "outputs": [
    {
     "data": {
      "text/plain": "inn\n7703411663     2834\n7704798124        0\n7709909783        0\n7713444731      743\n7714429817    12578\n7716725258       39\n7716896616    78503\n7731385292        0\n9710063516     1877\n9729049530        0\nName: total_profit, dtype: int64"
     },
     "execution_count": 49,
     "metadata": {},
     "output_type": "execute_result"
    }
   ],
   "source": [
    "l1 = data_first.loc[data_first['main_okved'] == '61.30', 'total_profit'] # Деятельность в области спутниковой связи\n",
    "l1"
   ],
   "metadata": {
    "collapsed": false,
    "pycharm": {
     "name": "#%%\n"
    }
   }
  },
  {
   "cell_type": "code",
   "execution_count": 56,
   "outputs": [
    {
     "data": {
      "text/plain": "inn\n7709917978       0\n7709993087   -2794\n7714996774       0\n7722444135     141\n7734404070    1279\n7736316895      72\n7751141382     729\n9710040501       0\nName: total_profit, dtype: int64"
     },
     "execution_count": 56,
     "metadata": {},
     "output_type": "execute_result"
    }
   ],
   "source": [
    "\n",
    "l2"
   ],
   "metadata": {
    "collapsed": false,
    "pycharm": {
     "name": "#%%\n"
    }
   }
  },
  {
   "cell_type": "code",
   "execution_count": 57,
   "outputs": [],
   "source": [
    "from scipy.stats import ttest_ind"
   ],
   "metadata": {
    "collapsed": false,
    "pycharm": {
     "name": "#%%\n"
    }
   }
  },
  {
   "cell_type": "code",
   "execution_count": 58,
   "outputs": [
    {
     "name": "stdout",
     "output_type": "stream",
     "text": [
      "Statistics=1.115, p=0.281\n"
     ]
    }
   ],
   "source": [],
   "metadata": {
    "collapsed": false,
    "pycharm": {
     "name": "#%%\n"
    }
   }
  },
  {
   "cell_type": "code",
   "execution_count": null,
   "outputs": [],
   "source": [
    "data_first = data.sort_values(by='year').groupby('inn').first()\n",
    "l1 = data_first.loc[data_first['main_okved'] == '61.30', 'total_profit'] # Деятельность в области спутниковой связи\n",
    "l2 = data_first.loc[data_first['main_okved'] == '58.21', 'total_profit'] # Издание компьютерных игр\n",
    "stat, p = ttest_ind(l1, l2)\n",
    "print('Statistics=%.3f, p=%.3f' % (stat, p))\n",
    "# Statistics=1.115, p=0.281"
   ],
   "metadata": {
    "collapsed": false,
    "pycharm": {
     "name": "#%%\n"
    }
   }
  }
 ],
 "metadata": {
  "kernelspec": {
   "display_name": "Python 3",
   "language": "python",
   "name": "python3"
  },
  "language_info": {
   "codemirror_mode": {
    "name": "ipython",
    "version": 2
   },
   "file_extension": ".py",
   "mimetype": "text/x-python",
   "name": "python",
   "nbconvert_exporter": "python",
   "pygments_lexer": "ipython2",
   "version": "2.7.6"
  }
 },
 "nbformat": 4,
 "nbformat_minor": 0
}